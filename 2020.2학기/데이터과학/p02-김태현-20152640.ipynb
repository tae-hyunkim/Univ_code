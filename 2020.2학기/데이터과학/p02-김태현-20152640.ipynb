{
 "cells": [
  {
   "cell_type": "code",
   "execution_count": 1,
   "metadata": {},
   "outputs": [],
   "source": [
    "import pandas as pd\n",
    "import numpy as np\n",
    "import torch\n",
    "import torch.nn.functional as F\n",
    "import random\n",
    "from sklearn.metrics.pairwise import cosine_similarity\n",
    "from tqdm.notebook import tqdm\n",
    "import warnings\n",
    "warnings.filterwarnings(action='ignore')\n",
    "import matplotlib.pyplot as plt"
   ]
  },
  {
   "cell_type": "markdown",
   "metadata": {},
   "source": [
    "# Task 1\n",
    "\n",
    "#### 데이터 준비하기"
   ]
  },
  {
   "cell_type": "code",
   "execution_count": 2,
   "metadata": {},
   "outputs": [
    {
     "data": {
      "text/html": [
       "<div>\n",
       "<style scoped>\n",
       "    .dataframe tbody tr th:only-of-type {\n",
       "        vertical-align: middle;\n",
       "    }\n",
       "\n",
       "    .dataframe tbody tr th {\n",
       "        vertical-align: top;\n",
       "    }\n",
       "\n",
       "    .dataframe thead th {\n",
       "        text-align: right;\n",
       "    }\n",
       "</style>\n",
       "<table border=\"1\" class=\"dataframe\">\n",
       "  <thead>\n",
       "    <tr style=\"text-align: right;\">\n",
       "      <th></th>\n",
       "      <th>user</th>\n",
       "      <th>movie</th>\n",
       "      <th>rating</th>\n",
       "      <th>timestamp</th>\n",
       "    </tr>\n",
       "  </thead>\n",
       "  <tbody>\n",
       "    <tr>\n",
       "      <td>0</td>\n",
       "      <td>1</td>\n",
       "      <td>1</td>\n",
       "      <td>5</td>\n",
       "      <td>874965758</td>\n",
       "    </tr>\n",
       "    <tr>\n",
       "      <td>1</td>\n",
       "      <td>1</td>\n",
       "      <td>2</td>\n",
       "      <td>3</td>\n",
       "      <td>876893171</td>\n",
       "    </tr>\n",
       "    <tr>\n",
       "      <td>2</td>\n",
       "      <td>1</td>\n",
       "      <td>3</td>\n",
       "      <td>4</td>\n",
       "      <td>878542960</td>\n",
       "    </tr>\n",
       "    <tr>\n",
       "      <td>3</td>\n",
       "      <td>1</td>\n",
       "      <td>4</td>\n",
       "      <td>3</td>\n",
       "      <td>876893119</td>\n",
       "    </tr>\n",
       "    <tr>\n",
       "      <td>4</td>\n",
       "      <td>1</td>\n",
       "      <td>5</td>\n",
       "      <td>3</td>\n",
       "      <td>889751712</td>\n",
       "    </tr>\n",
       "  </tbody>\n",
       "</table>\n",
       "</div>"
      ],
      "text/plain": [
       "   user  movie  rating  timestamp\n",
       "0     1      1       5  874965758\n",
       "1     1      2       3  876893171\n",
       "2     1      3       4  878542960\n",
       "3     1      4       3  876893119\n",
       "4     1      5       3  889751712"
      ]
     },
     "execution_count": 2,
     "metadata": {},
     "output_type": "execute_result"
    }
   ],
   "source": [
    "train = pd.read_csv('./ua.base', sep='\\t',header=None,names=['user', 'movie', 'rating', 'timestamp'])\n",
    "test = pd.read_csv('./ua.test', sep='\\t',header=None,names=['user', 'movie', 'rating', 'timestamp'])\n",
    "train.head()\n",
    "# train = pd.read_csv('./ua.base', sep='\\t',header=None)"
   ]
  },
  {
   "cell_type": "code",
   "execution_count": 3,
   "metadata": {},
   "outputs": [
    {
     "data": {
      "text/html": [
       "<div>\n",
       "<style scoped>\n",
       "    .dataframe tbody tr th:only-of-type {\n",
       "        vertical-align: middle;\n",
       "    }\n",
       "\n",
       "    .dataframe tbody tr th {\n",
       "        vertical-align: top;\n",
       "    }\n",
       "\n",
       "    .dataframe thead th {\n",
       "        text-align: right;\n",
       "    }\n",
       "</style>\n",
       "<table border=\"1\" class=\"dataframe\">\n",
       "  <thead>\n",
       "    <tr style=\"text-align: right;\">\n",
       "      <th></th>\n",
       "      <th>user</th>\n",
       "      <th>movie</th>\n",
       "      <th>rating</th>\n",
       "      <th>timestamp</th>\n",
       "    </tr>\n",
       "  </thead>\n",
       "  <tbody>\n",
       "    <tr>\n",
       "      <td>0</td>\n",
       "      <td>1</td>\n",
       "      <td>20</td>\n",
       "      <td>4</td>\n",
       "      <td>887431883</td>\n",
       "    </tr>\n",
       "    <tr>\n",
       "      <td>1</td>\n",
       "      <td>1</td>\n",
       "      <td>33</td>\n",
       "      <td>4</td>\n",
       "      <td>878542699</td>\n",
       "    </tr>\n",
       "    <tr>\n",
       "      <td>2</td>\n",
       "      <td>1</td>\n",
       "      <td>61</td>\n",
       "      <td>4</td>\n",
       "      <td>878542420</td>\n",
       "    </tr>\n",
       "    <tr>\n",
       "      <td>3</td>\n",
       "      <td>1</td>\n",
       "      <td>117</td>\n",
       "      <td>3</td>\n",
       "      <td>874965739</td>\n",
       "    </tr>\n",
       "    <tr>\n",
       "      <td>4</td>\n",
       "      <td>1</td>\n",
       "      <td>155</td>\n",
       "      <td>2</td>\n",
       "      <td>878542201</td>\n",
       "    </tr>\n",
       "  </tbody>\n",
       "</table>\n",
       "</div>"
      ],
      "text/plain": [
       "   user  movie  rating  timestamp\n",
       "0     1     20       4  887431883\n",
       "1     1     33       4  878542699\n",
       "2     1     61       4  878542420\n",
       "3     1    117       3  874965739\n",
       "4     1    155       2  878542201"
      ]
     },
     "execution_count": 3,
     "metadata": {},
     "output_type": "execute_result"
    }
   ],
   "source": [
    "test.head()"
   ]
  },
  {
   "cell_type": "code",
   "execution_count": 4,
   "metadata": {},
   "outputs": [
    {
     "data": {
      "text/html": [
       "<div>\n",
       "<style scoped>\n",
       "    .dataframe tbody tr th:only-of-type {\n",
       "        vertical-align: middle;\n",
       "    }\n",
       "\n",
       "    .dataframe tbody tr th {\n",
       "        vertical-align: top;\n",
       "    }\n",
       "\n",
       "    .dataframe thead th {\n",
       "        text-align: right;\n",
       "    }\n",
       "</style>\n",
       "<table border=\"1\" class=\"dataframe\">\n",
       "  <thead>\n",
       "    <tr style=\"text-align: right;\">\n",
       "      <th></th>\n",
       "      <th>user</th>\n",
       "      <th>movie</th>\n",
       "      <th>rating</th>\n",
       "      <th>timestamp</th>\n",
       "    </tr>\n",
       "  </thead>\n",
       "  <tbody>\n",
       "    <tr>\n",
       "      <td>0</td>\n",
       "      <td>0</td>\n",
       "      <td>0</td>\n",
       "      <td>5</td>\n",
       "      <td>874965758</td>\n",
       "    </tr>\n",
       "    <tr>\n",
       "      <td>1</td>\n",
       "      <td>0</td>\n",
       "      <td>1</td>\n",
       "      <td>3</td>\n",
       "      <td>876893171</td>\n",
       "    </tr>\n",
       "    <tr>\n",
       "      <td>2</td>\n",
       "      <td>0</td>\n",
       "      <td>2</td>\n",
       "      <td>4</td>\n",
       "      <td>878542960</td>\n",
       "    </tr>\n",
       "    <tr>\n",
       "      <td>3</td>\n",
       "      <td>0</td>\n",
       "      <td>3</td>\n",
       "      <td>3</td>\n",
       "      <td>876893119</td>\n",
       "    </tr>\n",
       "    <tr>\n",
       "      <td>4</td>\n",
       "      <td>0</td>\n",
       "      <td>4</td>\n",
       "      <td>3</td>\n",
       "      <td>889751712</td>\n",
       "    </tr>\n",
       "  </tbody>\n",
       "</table>\n",
       "</div>"
      ],
      "text/plain": [
       "   user  movie  rating  timestamp\n",
       "0     0      0       5  874965758\n",
       "1     0      1       3  876893171\n",
       "2     0      2       4  878542960\n",
       "3     0      3       3  876893119\n",
       "4     0      4       3  889751712"
      ]
     },
     "execution_count": 4,
     "metadata": {},
     "output_type": "execute_result"
    }
   ],
   "source": [
    "# User와 movie 값이 1부터 시작하기 때문에 0부터 시작하도록 하기 위해 1을 빼주는 작업을 수행 \n",
    "# train data에서 movie id값을 1씩 빼주도록 하겠다.\n",
    "# User도 0부터 시작하기 위해 1을 빼주겠다.\n",
    "train.user = train.user - 1\n",
    "train.movie = train.movie - 1\n",
    "test.user = test.user - 1\n",
    "test.movie = test.movie - 1\n",
    "train.head()"
   ]
  },
  {
   "cell_type": "code",
   "execution_count": 5,
   "metadata": {},
   "outputs": [
    {
     "data": {
      "text/html": [
       "<div>\n",
       "<style scoped>\n",
       "    .dataframe tbody tr th:only-of-type {\n",
       "        vertical-align: middle;\n",
       "    }\n",
       "\n",
       "    .dataframe tbody tr th {\n",
       "        vertical-align: top;\n",
       "    }\n",
       "\n",
       "    .dataframe thead th {\n",
       "        text-align: right;\n",
       "    }\n",
       "</style>\n",
       "<table border=\"1\" class=\"dataframe\">\n",
       "  <thead>\n",
       "    <tr style=\"text-align: right;\">\n",
       "      <th></th>\n",
       "      <th>user</th>\n",
       "      <th>movie</th>\n",
       "      <th>rating</th>\n",
       "      <th>timestamp</th>\n",
       "    </tr>\n",
       "  </thead>\n",
       "  <tbody>\n",
       "    <tr>\n",
       "      <td>0</td>\n",
       "      <td>0</td>\n",
       "      <td>19</td>\n",
       "      <td>4</td>\n",
       "      <td>887431883</td>\n",
       "    </tr>\n",
       "    <tr>\n",
       "      <td>1</td>\n",
       "      <td>0</td>\n",
       "      <td>32</td>\n",
       "      <td>4</td>\n",
       "      <td>878542699</td>\n",
       "    </tr>\n",
       "    <tr>\n",
       "      <td>2</td>\n",
       "      <td>0</td>\n",
       "      <td>60</td>\n",
       "      <td>4</td>\n",
       "      <td>878542420</td>\n",
       "    </tr>\n",
       "    <tr>\n",
       "      <td>3</td>\n",
       "      <td>0</td>\n",
       "      <td>116</td>\n",
       "      <td>3</td>\n",
       "      <td>874965739</td>\n",
       "    </tr>\n",
       "    <tr>\n",
       "      <td>4</td>\n",
       "      <td>0</td>\n",
       "      <td>154</td>\n",
       "      <td>2</td>\n",
       "      <td>878542201</td>\n",
       "    </tr>\n",
       "  </tbody>\n",
       "</table>\n",
       "</div>"
      ],
      "text/plain": [
       "   user  movie  rating  timestamp\n",
       "0     0     19       4  887431883\n",
       "1     0     32       4  878542699\n",
       "2     0     60       4  878542420\n",
       "3     0    116       3  874965739\n",
       "4     0    154       2  878542201"
      ]
     },
     "execution_count": 5,
     "metadata": {},
     "output_type": "execute_result"
    }
   ],
   "source": [
    "test.head()"
   ]
  },
  {
   "cell_type": "code",
   "execution_count": 6,
   "metadata": {},
   "outputs": [],
   "source": [
    "# 데이터 형태 변환 \n",
    "items = torch.LongTensor(train['movie'])\n",
    "users = torch.LongTensor(train['user'])\n",
    "ratings = torch.FloatTensor(train['rating'])\n",
    "items_test = torch.LongTensor(test['movie'])\n",
    "users_test = torch.LongTensor(test['user'])\n",
    "ratings_test = torch.FloatTensor(test['rating'])"
   ]
  },
  {
   "cell_type": "code",
   "execution_count": 7,
   "metadata": {},
   "outputs": [
    {
     "data": {
      "text/html": [
       "<div>\n",
       "<style scoped>\n",
       "    .dataframe tbody tr th:only-of-type {\n",
       "        vertical-align: middle;\n",
       "    }\n",
       "\n",
       "    .dataframe tbody tr th {\n",
       "        vertical-align: top;\n",
       "    }\n",
       "\n",
       "    .dataframe thead th {\n",
       "        text-align: right;\n",
       "    }\n",
       "</style>\n",
       "<table border=\"1\" class=\"dataframe\">\n",
       "  <thead>\n",
       "    <tr style=\"text-align: right;\">\n",
       "      <th></th>\n",
       "      <th>id</th>\n",
       "      <th>Title</th>\n",
       "    </tr>\n",
       "  </thead>\n",
       "  <tbody>\n",
       "    <tr>\n",
       "      <td>0</td>\n",
       "      <td>0</td>\n",
       "      <td>Toy Story (1995)</td>\n",
       "    </tr>\n",
       "    <tr>\n",
       "      <td>1</td>\n",
       "      <td>1</td>\n",
       "      <td>GoldenEye (1995)</td>\n",
       "    </tr>\n",
       "    <tr>\n",
       "      <td>2</td>\n",
       "      <td>2</td>\n",
       "      <td>Four Rooms (1995)</td>\n",
       "    </tr>\n",
       "    <tr>\n",
       "      <td>3</td>\n",
       "      <td>3</td>\n",
       "      <td>Get Shorty (1995)</td>\n",
       "    </tr>\n",
       "    <tr>\n",
       "      <td>4</td>\n",
       "      <td>4</td>\n",
       "      <td>Copycat (1995)</td>\n",
       "    </tr>\n",
       "  </tbody>\n",
       "</table>\n",
       "</div>"
      ],
      "text/plain": [
       "   id              Title\n",
       "0   0   Toy Story (1995)\n",
       "1   1   GoldenEye (1995)\n",
       "2   2  Four Rooms (1995)\n",
       "3   3  Get Shorty (1995)\n",
       "4   4     Copycat (1995)"
      ]
     },
     "execution_count": 7,
     "metadata": {},
     "output_type": "execute_result"
    }
   ],
   "source": [
    "item = pd.read_csv('./u.item', sep='|',header=None,engine='python').iloc[:,:2]\n",
    "item = item.rename(columns={0:'id',1:'Title'})\n",
    "# item의 id가 1부터 시작하기 때문에 1을 빼주어서 작업을 수행할 예정\n",
    "item.id = item.id-1\n",
    "item.head()"
   ]
  },
  {
   "cell_type": "markdown",
   "metadata": {},
   "source": [
    "# Task 2\n",
    "\n",
    "#### Latent Factor 모델을 이용하여 학습하기"
   ]
  },
  {
   "cell_type": "code",
   "execution_count": 8,
   "metadata": {},
   "outputs": [
    {
     "name": "stdout",
     "output_type": "stream",
     "text": [
      "epoch: 0, train_cost: 2.904232, test_cost: 2.859254\n",
      "epoch: 100, train_cost: 1.191130, test_cost: 1.317634\n",
      "epoch: 200, train_cost: 0.884298, test_cost: 1.045046\n",
      "epoch: 300, train_cost: 0.835353, test_cost: 1.016178\n",
      "epoch: 400, train_cost: 0.808443, test_cost: 1.005378\n",
      "epoch: 500, train_cost: 0.793342, test_cost: 0.999918\n",
      "epoch: 600, train_cost: 0.783233, test_cost: 0.994829\n",
      "epoch: 700, train_cost: 0.776224, test_cost: 0.988540\n",
      "epoch: 800, train_cost: 0.771412, test_cost: 0.982303\n",
      "epoch: 900, train_cost: 0.768397, test_cost: 0.978660\n",
      "epoch: 1000, train_cost: 0.766624, test_cost: 0.976569\n"
     ]
    }
   ],
   "source": [
    "rank = 5\n",
    "numItems = items.max() + 1 \n",
    "numUsers = users.max() + 1\n",
    "P = torch.randn(numItems, rank, requires_grad=True)\n",
    "Q = torch.randn(numUsers, rank, requires_grad=True)\n",
    "\n",
    "# # Bias 추가\n",
    "lambda1 = 0.00001\n",
    "lambda2 = 0.00001\n",
    "bias_item = torch.randn(numItems, requires_grad=True)\n",
    "bias_user = torch.randn(numUsers, requires_grad=True)\n",
    "mean = (ratings.sum() / len(ratings)).item()\n",
    "\n",
    "# cost에 regularization 추가 \n",
    "lambda3 = 0.00001\n",
    "lambda4 = 0.00001\n",
    "X = []\n",
    "Y = []\n",
    "Y_test = []\n",
    "\n",
    "optimizer = torch.optim.Adam([P, Q, bias_item, bias_user], lr= 0.01)\n",
    "for epoch in range(1001):\n",
    "    hypothesis = torch.sum(P[items] * Q[users], dim=1) + mean + bias_item[items] + bias_user[users]\n",
    "    cost = torch.sqrt(F.mse_loss(hypothesis ,ratings))\n",
    "    loss = cost + lambda3 * torch.sum(P ** 2) + lambda4 * torch.sum(Q ** 2) + lambda1 * torch.sum(bias_item ** 2) + lambda2 * torch.sum(bias_user ** 2)\n",
    "    \n",
    "    optimizer.zero_grad()\n",
    "    loss.backward()\n",
    "    optimizer.step()\n",
    "    \n",
    "    X.append(epoch)\n",
    "    Y.append(cost)\n",
    "    with torch.no_grad():\n",
    "        hypo_test = torch.sum(P[items_test] * Q[users_test], dim=1) + mean + bias_item[items_test] + bias_user[users_test]\n",
    "        cost_test = torch.sqrt(F.mse_loss(hypo_test, ratings_test))\n",
    "        Y_test.append(cost_test)\n",
    "    if epoch % 100 == 0:\n",
    "        print(\"epoch: {}, train_cost: {:.6f}, test_cost: {:.6f}\" .format(epoch, cost.item(),cost_test.item()))"
   ]
  },
  {
   "cell_type": "markdown",
   "metadata": {},
   "source": [
    "# Task 3\n",
    "\n",
    "#### 13번 User에게 추천하기 (knn search)"
   ]
  },
  {
   "cell_type": "code",
   "execution_count": 9,
   "metadata": {
    "scrolled": true
   },
   "outputs": [
    {
     "data": {
      "text/plain": [
       "(torch.Size([1682, 5]), torch.Size([943, 5]), (1682, 2))"
      ]
     },
     "execution_count": 9,
     "metadata": {},
     "output_type": "execute_result"
    }
   ],
   "source": [
    "P.shape, Q.shape, item.shape"
   ]
  },
  {
   "cell_type": "code",
   "execution_count": 10,
   "metadata": {},
   "outputs": [
    {
     "data": {
      "text/html": [
       "<div>\n",
       "<style scoped>\n",
       "    .dataframe tbody tr th:only-of-type {\n",
       "        vertical-align: middle;\n",
       "    }\n",
       "\n",
       "    .dataframe tbody tr th {\n",
       "        vertical-align: top;\n",
       "    }\n",
       "\n",
       "    .dataframe thead th {\n",
       "        text-align: right;\n",
       "    }\n",
       "</style>\n",
       "<table border=\"1\" class=\"dataframe\">\n",
       "  <thead>\n",
       "    <tr style=\"text-align: right;\">\n",
       "      <th></th>\n",
       "      <th>id</th>\n",
       "      <th>Title</th>\n",
       "    </tr>\n",
       "  </thead>\n",
       "  <tbody>\n",
       "    <tr>\n",
       "      <td>640</td>\n",
       "      <td>640</td>\n",
       "      <td>Paths of Glory (1957)</td>\n",
       "    </tr>\n",
       "    <tr>\n",
       "      <td>198</td>\n",
       "      <td>198</td>\n",
       "      <td>Bridge on the River Kwai, The (1957)</td>\n",
       "    </tr>\n",
       "    <tr>\n",
       "      <td>525</td>\n",
       "      <td>525</td>\n",
       "      <td>Ben-Hur (1959)</td>\n",
       "    </tr>\n",
       "    <tr>\n",
       "      <td>1141</td>\n",
       "      <td>1141</td>\n",
       "      <td>When We Were Kings (1996)</td>\n",
       "    </tr>\n",
       "    <tr>\n",
       "      <td>1128</td>\n",
       "      <td>1128</td>\n",
       "      <td>Chungking Express (1994)</td>\n",
       "    </tr>\n",
       "    <tr>\n",
       "      <td>1642</td>\n",
       "      <td>1642</td>\n",
       "      <td>Angel Baby (1995)</td>\n",
       "    </tr>\n",
       "    <tr>\n",
       "      <td>512</td>\n",
       "      <td>512</td>\n",
       "      <td>Third Man, The (1949)</td>\n",
       "    </tr>\n",
       "    <tr>\n",
       "      <td>168</td>\n",
       "      <td>168</td>\n",
       "      <td>Wrong Trousers, The (1993)</td>\n",
       "    </tr>\n",
       "    <tr>\n",
       "      <td>49</td>\n",
       "      <td>49</td>\n",
       "      <td>Star Wars (1977)</td>\n",
       "    </tr>\n",
       "    <tr>\n",
       "      <td>1396</td>\n",
       "      <td>1396</td>\n",
       "      <td>Of Human Bondage (1934)</td>\n",
       "    </tr>\n",
       "    <tr>\n",
       "      <td>1072</td>\n",
       "      <td>1072</td>\n",
       "      <td>Shallow Grave (1994)</td>\n",
       "    </tr>\n",
       "    <tr>\n",
       "      <td>134</td>\n",
       "      <td>134</td>\n",
       "      <td>2001: A Space Odyssey (1968)</td>\n",
       "    </tr>\n",
       "    <tr>\n",
       "      <td>524</td>\n",
       "      <td>524</td>\n",
       "      <td>Big Sleep, The (1946)</td>\n",
       "    </tr>\n",
       "    <tr>\n",
       "      <td>529</td>\n",
       "      <td>529</td>\n",
       "      <td>Man Who Would Be King, The (1975)</td>\n",
       "    </tr>\n",
       "    <tr>\n",
       "      <td>176</td>\n",
       "      <td>176</td>\n",
       "      <td>Good, The Bad and The Ugly, The (1966)</td>\n",
       "    </tr>\n",
       "    <tr>\n",
       "      <td>967</td>\n",
       "      <td>967</td>\n",
       "      <td>Inspector General, The (1949)</td>\n",
       "    </tr>\n",
       "    <tr>\n",
       "      <td>522</td>\n",
       "      <td>522</td>\n",
       "      <td>Cool Hand Luke (1967)</td>\n",
       "    </tr>\n",
       "    <tr>\n",
       "      <td>505</td>\n",
       "      <td>505</td>\n",
       "      <td>Rebel Without a Cause (1955)</td>\n",
       "    </tr>\n",
       "    <tr>\n",
       "      <td>518</td>\n",
       "      <td>518</td>\n",
       "      <td>Treasure of the Sierra Madre, The (1948)</td>\n",
       "    </tr>\n",
       "    <tr>\n",
       "      <td>171</td>\n",
       "      <td>171</td>\n",
       "      <td>Empire Strikes Back, The (1980)</td>\n",
       "    </tr>\n",
       "  </tbody>\n",
       "</table>\n",
       "</div>"
      ],
      "text/plain": [
       "        id                                     Title\n",
       "640    640                     Paths of Glory (1957)\n",
       "198    198      Bridge on the River Kwai, The (1957)\n",
       "525    525                            Ben-Hur (1959)\n",
       "1141  1141                 When We Were Kings (1996)\n",
       "1128  1128                  Chungking Express (1994)\n",
       "1642  1642                         Angel Baby (1995)\n",
       "512    512                     Third Man, The (1949)\n",
       "168    168                Wrong Trousers, The (1993)\n",
       "49      49                          Star Wars (1977)\n",
       "1396  1396                   Of Human Bondage (1934)\n",
       "1072  1072                      Shallow Grave (1994)\n",
       "134    134              2001: A Space Odyssey (1968)\n",
       "524    524                     Big Sleep, The (1946)\n",
       "529    529         Man Who Would Be King, The (1975)\n",
       "176    176    Good, The Bad and The Ugly, The (1966)\n",
       "967    967             Inspector General, The (1949)\n",
       "522    522                     Cool Hand Luke (1967)\n",
       "505    505              Rebel Without a Cause (1955)\n",
       "518    518  Treasure of the Sierra Madre, The (1948)\n",
       "171    171           Empire Strikes Back, The (1980)"
      ]
     },
     "execution_count": 10,
     "metadata": {},
     "output_type": "execute_result"
    }
   ],
   "source": [
    "# Task 3-1\n",
    "movie_list = torch.argsort(torch.sum(P * Q[12], dim=1) + mean + bias_item + bias_user[12],descending=True).tolist()[:20]\n",
    "item.loc[movie_list]"
   ]
  },
  {
   "cell_type": "code",
   "execution_count": 11,
   "metadata": {},
   "outputs": [],
   "source": [
    "def cosine_similar(x,y):\n",
    "    dot = sum(a*b for a,b in zip(x,y))\n",
    "    norm_a = sum(a*a for a in x) ** 0.5\n",
    "    norm_b = sum(b*b for b in y) ** 0.5\n",
    "    \n",
    "    return dot / (norm_a *norm_b)"
   ]
  },
  {
   "cell_type": "code",
   "execution_count": 12,
   "metadata": {},
   "outputs": [
    {
     "data": {
      "text/html": [
       "<div>\n",
       "<style scoped>\n",
       "    .dataframe tbody tr th:only-of-type {\n",
       "        vertical-align: middle;\n",
       "    }\n",
       "\n",
       "    .dataframe tbody tr th {\n",
       "        vertical-align: top;\n",
       "    }\n",
       "\n",
       "    .dataframe thead th {\n",
       "        text-align: right;\n",
       "    }\n",
       "</style>\n",
       "<table border=\"1\" class=\"dataframe\">\n",
       "  <thead>\n",
       "    <tr style=\"text-align: right;\">\n",
       "      <th></th>\n",
       "      <th>id</th>\n",
       "      <th>Title</th>\n",
       "    </tr>\n",
       "  </thead>\n",
       "  <tbody>\n",
       "    <tr>\n",
       "      <td>813</td>\n",
       "      <td>813</td>\n",
       "      <td>Great Day in Harlem, A (1994)</td>\n",
       "    </tr>\n",
       "    <tr>\n",
       "      <td>490</td>\n",
       "      <td>490</td>\n",
       "      <td>Adventures of Robin Hood, The (1938)</td>\n",
       "    </tr>\n",
       "    <tr>\n",
       "      <td>198</td>\n",
       "      <td>198</td>\n",
       "      <td>Bridge on the River Kwai, The (1957)</td>\n",
       "    </tr>\n",
       "    <tr>\n",
       "      <td>1396</td>\n",
       "      <td>1396</td>\n",
       "      <td>Of Human Bondage (1934)</td>\n",
       "    </tr>\n",
       "    <tr>\n",
       "      <td>56</td>\n",
       "      <td>56</td>\n",
       "      <td>Priest (1994)</td>\n",
       "    </tr>\n",
       "    <tr>\n",
       "      <td>525</td>\n",
       "      <td>525</td>\n",
       "      <td>Ben-Hur (1959)</td>\n",
       "    </tr>\n",
       "    <tr>\n",
       "      <td>527</td>\n",
       "      <td>527</td>\n",
       "      <td>Killing Fields, The (1984)</td>\n",
       "    </tr>\n",
       "    <tr>\n",
       "      <td>954</td>\n",
       "      <td>954</td>\n",
       "      <td>Before Sunrise (1995)</td>\n",
       "    </tr>\n",
       "    <tr>\n",
       "      <td>483</td>\n",
       "      <td>483</td>\n",
       "      <td>Maltese Falcon, The (1941)</td>\n",
       "    </tr>\n",
       "    <tr>\n",
       "      <td>835</td>\n",
       "      <td>835</td>\n",
       "      <td>Ninotchka (1939)</td>\n",
       "    </tr>\n",
       "    <tr>\n",
       "      <td>640</td>\n",
       "      <td>640</td>\n",
       "      <td>Paths of Glory (1957)</td>\n",
       "    </tr>\n",
       "    <tr>\n",
       "      <td>289</td>\n",
       "      <td>289</td>\n",
       "      <td>Fierce Creatures (1997)</td>\n",
       "    </tr>\n",
       "    <tr>\n",
       "      <td>941</td>\n",
       "      <td>941</td>\n",
       "      <td>What's Love Got to Do with It (1993)</td>\n",
       "    </tr>\n",
       "    <tr>\n",
       "      <td>1642</td>\n",
       "      <td>1642</td>\n",
       "      <td>Angel Baby (1995)</td>\n",
       "    </tr>\n",
       "    <tr>\n",
       "      <td>647</td>\n",
       "      <td>647</td>\n",
       "      <td>Quiet Man, The (1952)</td>\n",
       "    </tr>\n",
       "    <tr>\n",
       "      <td>193</td>\n",
       "      <td>193</td>\n",
       "      <td>Sting, The (1973)</td>\n",
       "    </tr>\n",
       "    <tr>\n",
       "      <td>491</td>\n",
       "      <td>491</td>\n",
       "      <td>East of Eden (1955)</td>\n",
       "    </tr>\n",
       "    <tr>\n",
       "      <td>278</td>\n",
       "      <td>278</td>\n",
       "      <td>Once Upon a Time... When We Were Colored (1995)</td>\n",
       "    </tr>\n",
       "    <tr>\n",
       "      <td>524</td>\n",
       "      <td>524</td>\n",
       "      <td>Big Sleep, The (1946)</td>\n",
       "    </tr>\n",
       "    <tr>\n",
       "      <td>967</td>\n",
       "      <td>967</td>\n",
       "      <td>Inspector General, The (1949)</td>\n",
       "    </tr>\n",
       "  </tbody>\n",
       "</table>\n",
       "</div>"
      ],
      "text/plain": [
       "        id                                            Title\n",
       "813    813                    Great Day in Harlem, A (1994)\n",
       "490    490             Adventures of Robin Hood, The (1938)\n",
       "198    198             Bridge on the River Kwai, The (1957)\n",
       "1396  1396                          Of Human Bondage (1934)\n",
       "56      56                                    Priest (1994)\n",
       "525    525                                   Ben-Hur (1959)\n",
       "527    527                       Killing Fields, The (1984)\n",
       "954    954                            Before Sunrise (1995)\n",
       "483    483                       Maltese Falcon, The (1941)\n",
       "835    835                                 Ninotchka (1939)\n",
       "640    640                            Paths of Glory (1957)\n",
       "289    289                          Fierce Creatures (1997)\n",
       "941    941             What's Love Got to Do with It (1993)\n",
       "1642  1642                                Angel Baby (1995)\n",
       "647    647                            Quiet Man, The (1952)\n",
       "193    193                                Sting, The (1973)\n",
       "491    491                              East of Eden (1955)\n",
       "278    278  Once Upon a Time... When We Were Colored (1995)\n",
       "524    524                            Big Sleep, The (1946)\n",
       "967    967                    Inspector General, The (1949)"
      ]
     },
     "execution_count": 12,
     "metadata": {},
     "output_type": "execute_result"
    }
   ],
   "source": [
    "# Task 3-2\n",
    "cosine = []\n",
    "for i in range(len(P)):\n",
    "    cosine.append(cosine_similar(P[i],Q[12]).tolist())\n",
    "cosine = np.array(cosine)\n",
    "cos_movie_list = np.argsort(cosine)[::-1].tolist()[:20]\n",
    "item.loc[cos_movie_list]"
   ]
  },
  {
   "cell_type": "markdown",
   "metadata": {},
   "source": [
    "# Task 4\n",
    "\n",
    "#### 영화 클러스터링하기 (k-means clustering)"
   ]
  },
  {
   "cell_type": "code",
   "execution_count": 13,
   "metadata": {},
   "outputs": [],
   "source": [
    "def cosine_similar(x,y):\n",
    "    dot = sum(a*b for a,b in zip(x,y))\n",
    "    norm_a = sum(a*a for a in x) ** 0.5\n",
    "    norm_b = sum(b*b for b in y) ** 0.5\n",
    "    \n",
    "    return dot / (norm_a *norm_b)\n",
    "\n",
    "def assign(p,centroids):\n",
    "    max_dist_centroids_idx = -1\n",
    "    max_dist = -10\n",
    "    for i, c in enumerate(centroids):\n",
    "        try:\n",
    "            dist = cosine_similar(c, p)\n",
    "        except:\n",
    "            dist = cosine_similar(c[0],p)\n",
    "        if max_dist < dist:\n",
    "            max_dist_centroids_idx = i\n",
    "            max_dist = dist\n",
    "                \n",
    "    return max_dist_centroids_idx\n",
    "\n",
    "def compute_centroids(assignments, points, k):\n",
    "    clusters = [[] for _ in range(k)]\n",
    "    for a,p in zip(assignments,points):\n",
    "        clusters[a].append(p)\n",
    "    \n",
    "    new_cluster = [np.mean(c,axis=0).tolist() for c in clusters]\n",
    "    \n",
    "    for i in range(len(new_cluster)):\n",
    "        try:\n",
    "            sum(pd.isna(new_cluster[i]))\n",
    "                \n",
    "        except:\n",
    "            new_cluster[i] = random.choices(points,k=1)\n",
    "            \n",
    "    return new_cluster\n",
    "\n",
    "def kmeans(k,points):\n",
    "    \n",
    "    pre_assignments = []\n",
    "    \n",
    "    # 1. random으로 centroid 선택 \n",
    "    centroids = random.choices(points,k=k)\n",
    "    \n",
    "    for epoch in range(10):\n",
    "        \n",
    "        assignments = []\n",
    "#         for p in points:\n",
    "#             min_dist_centroids_idx = assign(p,centroids)\n",
    "#             assignments.append(min_dist_centroids_idx)\n",
    "        # 2. 각 점마다 가장 가까운 centroid의 cluster에 점 할당 \n",
    "    \n",
    "        assignments = [assign(p,centroids) for p in points]\n",
    "        \n",
    "        # 3. cluster의 평균을 구해서 centorid 업데이트 \n",
    "        centroids = compute_centroids(assignments, points,k)\n",
    "        \n",
    "        # 4. cluster가 변했는지 확인하고, 변했으면 계속, 변하지 않았으면 멈춤 \n",
    "        if assignments == pre_assignments:\n",
    "            break\n",
    "        pre_assignments = assignments\n",
    "        \n",
    "    return assignments, centroids"
   ]
  },
  {
   "cell_type": "code",
   "execution_count": 14,
   "metadata": {
    "scrolled": true
   },
   "outputs": [
    {
     "data": {
      "application/vnd.jupyter.widget-view+json": {
       "model_id": "2ac1c41400be439ba83f04269d2ade4c",
       "version_major": 2,
       "version_minor": 0
      },
      "text/plain": [
       "HBox(children=(IntProgress(value=0, max=40), HTML(value='')))"
      ]
     },
     "metadata": {},
     "output_type": "display_data"
    },
    {
     "name": "stdout",
     "output_type": "stream",
     "text": [
      "\n"
     ]
    }
   ],
   "source": [
    "cost = []\n",
    "item_data = P.tolist()\n",
    "length = len(item_data)\n",
    "for i in tqdm(range(1,41)):\n",
    "    cost_val = 0\n",
    "    a,c = kmeans(i,item_data)\n",
    "    for j in range(length):\n",
    "        cost_val += 1 - cosine_similar(c[a[j]],item_data[j])\n",
    "    cost.append(cost_val)"
   ]
  },
  {
   "cell_type": "code",
   "execution_count": 15,
   "metadata": {},
   "outputs": [
    {
     "data": {
      "image/png": "[encoded data removed]",
      "text/plain": [
       "<Figure size 432x288 with 1 Axes>"
      ]
     },
     "metadata": {
      "needs_background": "light"
     },
     "output_type": "display_data"
    }
   ],
   "source": [
    "plt.title(\"Cosine Similarity Kmeans Cost\")\n",
    "plt.xlabel(\"Principal Components\")\n",
    "plt.ylabel(\"Cost\")\n",
    "plt.plot(range(1,41), cost, \"o-\")\n",
    "plt.show()"
   ]
  },
  {
   "cell_type": "markdown",
   "metadata": {},
   "source": [
    "12 군집만 남기는게 좋을것 같다."
   ]
  },
  {
   "cell_type": "markdown",
   "metadata": {},
   "source": [
    "# Task 5\n",
    "\n",
    "#### 차원 축소 및 시각화 (PCA)"
   ]
  },
  {
   "cell_type": "markdown",
   "metadata": {},
   "source": [
    "### 실제 추정한 Rating Matrix를 만들기 위한 작업을 수행 "
   ]
  },
  {
   "cell_type": "code",
   "execution_count": 16,
   "metadata": {},
   "outputs": [
    {
     "data": {
      "text/plain": [
       "torch.Size([2625, 5])"
      ]
     },
     "execution_count": 16,
     "metadata": {},
     "output_type": "execute_result"
    }
   ],
   "source": [
    "Z = torch.cat([P,Q])\n",
    "Z.shape"
   ]
  },
  {
   "cell_type": "code",
   "execution_count": 17,
   "metadata": {},
   "outputs": [],
   "source": [
    "item_length = P.shape[0]\n",
    "user_length = Q.shape[0]"
   ]
  },
  {
   "cell_type": "code",
   "execution_count": 18,
   "metadata": {},
   "outputs": [
    {
     "data": {
      "text/plain": [
       "(2625, 2)"
      ]
     },
     "execution_count": 18,
     "metadata": {},
     "output_type": "execute_result"
    }
   ],
   "source": [
    "from sklearn.decomposition import PCA\n",
    "\n",
    "pca = PCA(n_components=2,random_state=701)\n",
    "new_Z = pca.fit_transform(Z.tolist())\n",
    "new_Z.shape"
   ]
  },
  {
   "cell_type": "code",
   "execution_count": 19,
   "metadata": {},
   "outputs": [
    {
     "data": {
      "text/plain": [
       "<matplotlib.collections.PathCollection at 0x1d8bc197a08>"
      ]
     },
     "execution_count": 19,
     "metadata": {},
     "output_type": "execute_result"
    },
    {
     "data": {
      "image/png": "[encoded data removed]",
      "text/plain": [
       "<Figure size 432x288 with 1 Axes>"
      ]
     },
     "metadata": {
      "needs_background": "light"
     },
     "output_type": "display_data"
    }
   ],
   "source": [
    "plt.scatter(new_Z[:item_length,0],new_Z[:item_length,1], c = 'b',alpha=0.5)\n",
    "plt.scatter(new_Z[item_length:,0],new_Z[item_length:,1], c = 'r', alpha=0.5)"
   ]
  },
  {
   "cell_type": "code",
   "execution_count": 20,
   "metadata": {},
   "outputs": [
    {
     "data": {
      "text/plain": [
       "<matplotlib.collections.PathCollection at 0x1d8bc12c8c8>"
      ]
     },
     "execution_count": 20,
     "metadata": {},
     "output_type": "execute_result"
    },
    {
     "data": {
      "image/png": "[encoded data removed]",
      "text/plain": [
       "<Figure size 432x288 with 1 Axes>"
      ]
     },
     "metadata": {
      "needs_background": "light"
     },
     "output_type": "display_data"
    }
   ],
   "source": [
    "plt.scatter(new_Z[:item_length,0],new_Z[:item_length,1], c = 'b',alpha=0.5)\n",
    "plt.scatter(new_Z[item_length:,0],new_Z[item_length:,1], c = 'b', alpha=0.5)\n",
    "plt.scatter(new_Z[cos_movie_list,0],new_Z[cos_movie_list,1], c='black',alpha=1,edgecolors='white')\n",
    "plt.scatter(new_Z[movie_list,0],new_Z[movie_list,1], c='magenta',alpha=1,edgecolors='black')"
   ]
  },
  {
   "cell_type": "code",
   "execution_count": 25,
   "metadata": {},
   "outputs": [],
   "source": [
    "item_data = P.tolist()\n",
    "a,c = kmeans(12,item_data)\n",
    "cluster = np.array(a)\n",
    "new_P = new_Z[:item_length,:]"
   ]
  },
  {
   "cell_type": "code",
   "execution_count": 26,
   "metadata": {},
   "outputs": [
    {
     "data": {
      "text/plain": [
       "<matplotlib.collections.PathCollection at 0x1d8bc319388>"
      ]
     },
     "execution_count": 26,
     "metadata": {},
     "output_type": "execute_result"
    },
    {
     "data": {
      "image/png": "[encoded data removed]",
      "text/plain": [
       "<Figure size 432x288 with 1 Axes>"
      ]
     },
     "metadata": {
      "needs_background": "light"
     },
     "output_type": "display_data"
    }
   ],
   "source": [
    "plt.scatter(new_Z[:,0],new_Z[:,1],alpha=0.5)\n",
    "plt.scatter(new_P[cluster == 0,0],new_P[cluster == 0,1], c = 'b', alpha=0.5)\n",
    "plt.scatter(new_P[cluster == 1,0],new_P[cluster == 1,1], c = 'y', alpha=0.5)\n",
    "plt.scatter(new_P[cluster == 2,0],new_P[cluster == 2,1], c = 'k', alpha=0.5)\n",
    "plt.scatter(new_P[cluster == 3,0],new_P[cluster == 3,1], c = 'r', alpha=0.5)\n",
    "plt.scatter(new_P[cluster == 4,0],new_P[cluster == 4,1], c = 'pink', alpha=0.5)\n",
    "plt.scatter(new_P[cluster == 5,0],new_P[cluster == 5,1], c = 'skyblue', alpha=0.5)\n",
    "plt.scatter(new_P[cluster == 6,0],new_P[cluster == 6,1], c = 'gray', alpha=0.5)\n",
    "plt.scatter(new_P[cluster == 7,0],new_P[cluster == 7,1], c = 'lime', alpha=0.5)\n",
    "plt.scatter(new_P[cluster == 8,0],new_P[cluster == 8,1], c = 'magenta', alpha=0.5)\n",
    "plt.scatter(new_P[cluster == 9,0],new_P[cluster == 9,1], c = 'pink', alpha=0.5)\n",
    "plt.scatter(new_P[cluster == 10,0],new_P[cluster == 10,1], c = 'orange', alpha=0.5)\n",
    "plt.scatter(new_P[cluster == 11,0],new_P[cluster == 11,1], c = 'gold', alpha=0.5)"
   ]
  },
  {
   "cell_type": "code",
   "execution_count": null,
   "metadata": {},
   "outputs": [],
   "source": []
  }
 ],
 "metadata": {
  "kernelspec": {
   "display_name": "Python 3",
   "language": "python",
   "name": "python3"
  },
  "language_info": {
   "codemirror_mode": {
    "name": "ipython",
    "version": 3
   },
   "file_extension": ".py",
   "mimetype": "text/x-python",
   "name": "python",
   "nbconvert_exporter": "python",
   "pygments_lexer": "ipython3",
   "version": "3.7.4"
  }
 },
 "nbformat": 4,
 "nbformat_minor": 2
}
