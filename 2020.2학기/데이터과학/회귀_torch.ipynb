{
 "cells": [
  {
   "cell_type": "code",
   "execution_count": 1,
   "metadata": {},
   "outputs": [],
   "source": [
    "import torch"
   ]
  },
  {
   "cell_type": "code",
   "execution_count": 2,
   "metadata": {},
   "outputs": [
    {
     "name": "stdout",
     "output_type": "stream",
     "text": [
      "x =  tensor([[1, 2, 3],\n",
      "        [4, 5, 6],\n",
      "        [7, 8, 9]])\n",
      "y =  tensor([[1., 2., 3.],\n",
      "        [4., 5., 6.],\n",
      "        [7., 8., 9.]])\n"
     ]
    }
   ],
   "source": [
    "x = torch.tensor([[1,2,3],[4,5,6],[7,8,9]])\n",
    "y = torch.FloatTensor([[1,2,3],[4,5,6],[7,8,9]])\n",
    "print(\"x = \",x)\n",
    "print(\"y = \",y)"
   ]
  },
  {
   "cell_type": "code",
   "execution_count": 3,
   "metadata": {},
   "outputs": [
    {
     "data": {
      "text/plain": [
       "(torch.Size([3, 3]), torch.Size([3, 3]), 2)"
      ]
     },
     "execution_count": 3,
     "metadata": {},
     "output_type": "execute_result"
    }
   ],
   "source": [
    "x.shape, x.size(), x.ndimension()"
   ]
  },
  {
   "cell_type": "code",
   "execution_count": 4,
   "metadata": {},
   "outputs": [
    {
     "data": {
      "text/plain": [
       "(torch.Size([1, 3, 3]), torch.Size([3, 1, 3]), torch.Size([3, 3, 1]))"
      ]
     },
     "execution_count": 4,
     "metadata": {},
     "output_type": "execute_result"
    }
   ],
   "source": [
    "x0 = torch.unsqueeze(x,0)\n",
    "x1 = torch.unsqueeze(x,1)\n",
    "x2 = torch.unsqueeze(x,2)\n",
    "x0.shape, x1.shape, x2.shape"
   ]
  },
  {
   "cell_type": "code",
   "execution_count": 5,
   "metadata": {},
   "outputs": [
    {
     "data": {
      "text/plain": [
       "tensor([[[1, 2, 3],\n",
       "         [4, 5, 6],\n",
       "         [7, 8, 9]]])"
      ]
     },
     "execution_count": 5,
     "metadata": {},
     "output_type": "execute_result"
    }
   ],
   "source": [
    "x0"
   ]
  },
  {
   "cell_type": "code",
   "execution_count": 6,
   "metadata": {},
   "outputs": [
    {
     "data": {
      "text/plain": [
       "tensor([[[1, 2, 3]],\n",
       "\n",
       "        [[4, 5, 6]],\n",
       "\n",
       "        [[7, 8, 9]]])"
      ]
     },
     "execution_count": 6,
     "metadata": {},
     "output_type": "execute_result"
    }
   ],
   "source": [
    "x1"
   ]
  },
  {
   "cell_type": "code",
   "execution_count": 7,
   "metadata": {},
   "outputs": [
    {
     "data": {
      "text/plain": [
       "tensor([[[1],\n",
       "         [2],\n",
       "         [3]],\n",
       "\n",
       "        [[4],\n",
       "         [5],\n",
       "         [6]],\n",
       "\n",
       "        [[7],\n",
       "         [8],\n",
       "         [9]]])"
      ]
     },
     "execution_count": 7,
     "metadata": {},
     "output_type": "execute_result"
    }
   ],
   "source": [
    "x2"
   ]
  },
  {
   "cell_type": "code",
   "execution_count": 8,
   "metadata": {},
   "outputs": [
    {
     "data": {
      "text/plain": [
       "tensor([1, 2, 3, 4, 5, 6, 7, 8, 9])"
      ]
     },
     "execution_count": 8,
     "metadata": {},
     "output_type": "execute_result"
    }
   ],
   "source": [
    "x.view(9)"
   ]
  },
  {
   "cell_type": "code",
   "execution_count": 9,
   "metadata": {},
   "outputs": [
    {
     "data": {
      "text/plain": [
       "tensor([[[1, 2, 3],\n",
       "         [4, 5, 6],\n",
       "         [7, 8, 9]]])"
      ]
     },
     "execution_count": 9,
     "metadata": {},
     "output_type": "execute_result"
    }
   ],
   "source": [
    "x.view(1,3,3)"
   ]
  },
  {
   "cell_type": "code",
   "execution_count": 2,
   "metadata": {},
   "outputs": [
    {
     "data": {
      "text/plain": [
       "tensor([[1.1333],\n",
       "        [1.2457],\n",
       "        [2.1497]])"
      ]
     },
     "execution_count": 2,
     "metadata": {},
     "output_type": "execute_result"
    }
   ],
   "source": [
    "x = torch.FloatTensor([[1,2],[3,4],[5,6]])\n",
    "w = torch.randn(1,2,dtype=torch.float)\n",
    "b = torch.randn(3,1, dtype=torch.float)\n",
    "\n",
    "result = torch.mm(x,torch.t(w)) + b\n",
    "result"
   ]
  },
  {
   "cell_type": "code",
   "execution_count": 7,
   "metadata": {},
   "outputs": [
    {
     "name": "stdout",
     "output_type": "stream",
     "text": [
      "epoch : 0, cost : 122.80000305175781, W : tensor([[0.3840],\n",
      "        [0.7440]]), b : tensor([[0.1360]])\n",
      "epoch : 100, cost : 1.5337575674057007, W : tensor([[0.6226],\n",
      "        [3.1603]]), b : tensor([[-1.3651]])\n",
      "epoch : 200, cost : 0.7582406401634216, W : tensor([[0.9143],\n",
      "        [3.1864]]), b : tensor([[-2.1790]])\n",
      "epoch : 300, cost : 0.38928863406181335, W : tensor([[1.2106],\n",
      "        [3.1417]]), b : tensor([[-2.7023]])\n",
      "epoch : 400, cost : 0.20005789399147034, W : tensor([[1.4328],\n",
      "        [3.1025]]), b : tensor([[-3.0705]])\n",
      "epoch : 500, cost : 0.10281282663345337, W : tensor([[1.5932],\n",
      "        [3.0736]]), b : tensor([[-3.3338]])\n",
      "epoch : 600, cost : 0.05283749848604202, W : tensor([[1.7084],\n",
      "        [3.0528]]), b : tensor([[-3.5224]])\n",
      "epoch : 700, cost : 0.027154315263032913, W : tensor([[1.7909],\n",
      "        [3.0378]]), b : tensor([[-3.6576]])\n",
      "epoch : 800, cost : 0.013955106027424335, W : tensor([[1.8501],\n",
      "        [3.0271]]), b : tensor([[-3.7546]])\n",
      "epoch : 900, cost : 0.007171782664954662, W : tensor([[1.8926],\n",
      "        [3.0194]]), b : tensor([[-3.8241]])\n",
      "epoch : 1000, cost : 0.003685731440782547, W : tensor([[1.9230],\n",
      "        [3.0139]]), b : tensor([[-3.8739]])\n",
      "epoch : 1100, cost : 0.0018941208254545927, W : tensor([[1.9448],\n",
      "        [3.0100]]), b : tensor([[-3.9096]])\n",
      "epoch : 1200, cost : 0.000973437272477895, W : tensor([[1.9604],\n",
      "        [3.0072]]), b : tensor([[-3.9352]])\n",
      "epoch : 1300, cost : 0.0005002644611522555, W : tensor([[1.9716],\n",
      "        [3.0051]]), b : tensor([[-3.9535]])\n",
      "epoch : 1400, cost : 0.0002570953802205622, W : tensor([[1.9797],\n",
      "        [3.0037]]), b : tensor([[-3.9667]])\n",
      "epoch : 1500, cost : 0.00013213345664553344, W : tensor([[1.9854],\n",
      "        [3.0026]]), b : tensor([[-3.9761]])\n",
      "epoch : 1600, cost : 6.79150689393282e-05, W : tensor([[1.9895],\n",
      "        [3.0019]]), b : tensor([[-3.9829]])\n",
      "epoch : 1700, cost : 3.49020010617096e-05, W : tensor([[1.9925],\n",
      "        [3.0014]]), b : tensor([[-3.9877]])\n",
      "epoch : 1800, cost : 1.7939641111297533e-05, W : tensor([[1.9946],\n",
      "        [3.0010]]), b : tensor([[-3.9912]])\n",
      "epoch : 1900, cost : 9.22028993954882e-06, W : tensor([[1.9961],\n",
      "        [3.0007]]), b : tensor([[-3.9937]])\n",
      "epoch : 2000, cost : 4.738011284644017e-06, W : tensor([[1.9972],\n",
      "        [3.0005]]), b : tensor([[-3.9955]])\n",
      "epoch : 2100, cost : 2.4365356239286484e-06, W : tensor([[1.9980],\n",
      "        [3.0004]]), b : tensor([[-3.9968]])\n",
      "epoch : 2200, cost : 1.2518396488303551e-06, W : tensor([[1.9986],\n",
      "        [3.0003]]), b : tensor([[-3.9977]])\n",
      "epoch : 2300, cost : 6.433610906242393e-07, W : tensor([[1.9990],\n",
      "        [3.0002]]), b : tensor([[-3.9983]])\n",
      "epoch : 2400, cost : 3.3098780249929405e-07, W : tensor([[1.9993],\n",
      "        [3.0001]]), b : tensor([[-3.9988]])\n",
      "epoch : 2500, cost : 1.7027439014327683e-07, W : tensor([[1.9995],\n",
      "        [3.0001]]), b : tensor([[-3.9991]])\n",
      "epoch : 2600, cost : 8.75261534361016e-08, W : tensor([[1.9996],\n",
      "        [3.0001]]), b : tensor([[-3.9994]])\n",
      "epoch : 2700, cost : 4.5055923436621015e-08, W : tensor([[1.9997],\n",
      "        [3.0000]]), b : tensor([[-3.9996]])\n",
      "epoch : 2800, cost : 2.3127494586105968e-08, W : tensor([[1.9998],\n",
      "        [3.0000]]), b : tensor([[-3.9997]])\n",
      "epoch : 2900, cost : 1.2058410270299191e-08, W : tensor([[1.9999],\n",
      "        [3.0000]]), b : tensor([[-3.9998]])\n",
      "epoch : 3000, cost : 6.3765810409677215e-09, W : tensor([[1.9999],\n",
      "        [3.0000]]), b : tensor([[-3.9998]])\n"
     ]
    }
   ],
   "source": [
    "x_train = torch.FloatTensor([[1,2],[3,2],[3,7],[1,1],[1,0]])\n",
    "y_train = torch.FloatTensor([[4],[8],[23],[1],[-2]])\n",
    "\n",
    "w = torch.zeros(2,1)\n",
    "b = torch.zeros(1,1)\n",
    "\n",
    "lr = 0.01\n",
    "\n",
    "for epoch in range(3001):\n",
    "    w.requires_grad_(True)\n",
    "    b.requires_grad_(True)\n",
    "    \n",
    "    hypothesis = torch.mm(x_train,w) + b\n",
    "    cost = torch.mean((hypothesis - y_train)**2)\n",
    "    \n",
    "    cost.backward()\n",
    "    with torch.no_grad():\n",
    "        w = w - lr*w.grad\n",
    "        b = b - lr*b.grad\n",
    "    if epoch % 100 == 0:\n",
    "        print(\"epoch : {}, cost : {}, W : {}, b : {}\".format(epoch,cost,w,b))"
   ]
  },
  {
   "cell_type": "code",
   "execution_count": null,
   "metadata": {},
   "outputs": [],
   "source": []
  },
  {
   "cell_type": "code",
   "execution_count": null,
   "metadata": {},
   "outputs": [],
   "source": []
  },
  {
   "cell_type": "code",
   "execution_count": null,
   "metadata": {},
   "outputs": [],
   "source": []
  },
  {
   "cell_type": "code",
   "execution_count": null,
   "metadata": {},
   "outputs": [],
   "source": []
  },
  {
   "cell_type": "code",
   "execution_count": null,
   "metadata": {},
   "outputs": [],
   "source": []
  },
  {
   "cell_type": "code",
   "execution_count": null,
   "metadata": {},
   "outputs": [],
   "source": []
  },
  {
   "cell_type": "code",
   "execution_count": null,
   "metadata": {},
   "outputs": [],
   "source": []
  }
 ],
 "metadata": {
  "kernelspec": {
   "display_name": "Python 3",
   "language": "python",
   "name": "python3"
  },
  "language_info": {
   "codemirror_mode": {
    "name": "ipython",
    "version": 3
   },
   "file_extension": ".py",
   "mimetype": "text/x-python",
   "name": "python",
   "nbconvert_exporter": "python",
   "pygments_lexer": "ipython3",
   "version": "3.7.4"
  }
 },
 "nbformat": 4,
 "nbformat_minor": 2
}
