{
 "cells": [
  {
   "cell_type": "code",
   "execution_count": 1,
   "metadata": {},
   "outputs": [
    {
     "name": "stderr",
     "output_type": "stream",
     "text": [
      "In C:\\Users\\hyoun\\Anaconda3\\lib\\site-packages\\matplotlib\\mpl-data\\stylelib\\_classic_test.mplstyle: \n",
      "The text.latex.preview rcparam was deprecated in Matplotlib 3.3 and will be removed two minor releases later.\n",
      "In C:\\Users\\hyoun\\Anaconda3\\lib\\site-packages\\matplotlib\\mpl-data\\stylelib\\_classic_test.mplstyle: \n",
      "The mathtext.fallback_to_cm rcparam was deprecated in Matplotlib 3.3 and will be removed two minor releases later.\n",
      "In C:\\Users\\hyoun\\Anaconda3\\lib\\site-packages\\matplotlib\\mpl-data\\stylelib\\_classic_test.mplstyle: Support for setting the 'mathtext.fallback_to_cm' rcParam is deprecated since 3.3 and will be removed two minor releases later; use 'mathtext.fallback : 'cm' instead.\n",
      "In C:\\Users\\hyoun\\Anaconda3\\lib\\site-packages\\matplotlib\\mpl-data\\stylelib\\_classic_test.mplstyle: \n",
      "The validate_bool_maybe_none function was deprecated in Matplotlib 3.3 and will be removed two minor releases later.\n",
      "In C:\\Users\\hyoun\\Anaconda3\\lib\\site-packages\\matplotlib\\mpl-data\\stylelib\\_classic_test.mplstyle: \n",
      "The savefig.jpeg_quality rcparam was deprecated in Matplotlib 3.3 and will be removed two minor releases later.\n",
      "In C:\\Users\\hyoun\\Anaconda3\\lib\\site-packages\\matplotlib\\mpl-data\\stylelib\\_classic_test.mplstyle: \n",
      "The keymap.all_axes rcparam was deprecated in Matplotlib 3.3 and will be removed two minor releases later.\n",
      "In C:\\Users\\hyoun\\Anaconda3\\lib\\site-packages\\matplotlib\\mpl-data\\stylelib\\_classic_test.mplstyle: \n",
      "The animation.avconv_path rcparam was deprecated in Matplotlib 3.3 and will be removed two minor releases later.\n",
      "In C:\\Users\\hyoun\\Anaconda3\\lib\\site-packages\\matplotlib\\mpl-data\\stylelib\\_classic_test.mplstyle: \n",
      "The animation.avconv_args rcparam was deprecated in Matplotlib 3.3 and will be removed two minor releases later.\n"
     ]
    }
   ],
   "source": [
    "import torch\n",
    "import pandas as pd\n",
    "import torch.nn.functional as F\n",
    "import matplotlib.pyplot as plt"
   ]
  },
  {
   "cell_type": "code",
   "execution_count": 2,
   "metadata": {},
   "outputs": [],
   "source": [
    "# Data는 Tab으로 구분되어 있음 \n",
    "train = pd.read_csv(\"ml-100k/ua.base\", sep=\"\\t\", names=['user', 'movie', 'rating', 'timestamp'])\n",
    "test = pd.read_csv(\"ml-100k/ua.test\", sep=\"\\t\", names=['user', 'movie', 'rating', 'timestamp'])"
   ]
  },
  {
   "cell_type": "code",
   "execution_count": 3,
   "metadata": {},
   "outputs": [
    {
     "data": {
      "text/html": [
       "<div>\n",
       "<style scoped>\n",
       "    .dataframe tbody tr th:only-of-type {\n",
       "        vertical-align: middle;\n",
       "    }\n",
       "\n",
       "    .dataframe tbody tr th {\n",
       "        vertical-align: top;\n",
       "    }\n",
       "\n",
       "    .dataframe thead th {\n",
       "        text-align: right;\n",
       "    }\n",
       "</style>\n",
       "<table border=\"1\" class=\"dataframe\">\n",
       "  <thead>\n",
       "    <tr style=\"text-align: right;\">\n",
       "      <th></th>\n",
       "      <th>user</th>\n",
       "      <th>movie</th>\n",
       "      <th>rating</th>\n",
       "      <th>timestamp</th>\n",
       "    </tr>\n",
       "  </thead>\n",
       "  <tbody>\n",
       "    <tr>\n",
       "      <td>0</td>\n",
       "      <td>1</td>\n",
       "      <td>1</td>\n",
       "      <td>5</td>\n",
       "      <td>874965758</td>\n",
       "    </tr>\n",
       "    <tr>\n",
       "      <td>1</td>\n",
       "      <td>1</td>\n",
       "      <td>2</td>\n",
       "      <td>3</td>\n",
       "      <td>876893171</td>\n",
       "    </tr>\n",
       "    <tr>\n",
       "      <td>2</td>\n",
       "      <td>1</td>\n",
       "      <td>3</td>\n",
       "      <td>4</td>\n",
       "      <td>878542960</td>\n",
       "    </tr>\n",
       "    <tr>\n",
       "      <td>3</td>\n",
       "      <td>1</td>\n",
       "      <td>4</td>\n",
       "      <td>3</td>\n",
       "      <td>876893119</td>\n",
       "    </tr>\n",
       "    <tr>\n",
       "      <td>4</td>\n",
       "      <td>1</td>\n",
       "      <td>5</td>\n",
       "      <td>3</td>\n",
       "      <td>889751712</td>\n",
       "    </tr>\n",
       "  </tbody>\n",
       "</table>\n",
       "</div>"
      ],
      "text/plain": [
       "   user  movie  rating  timestamp\n",
       "0     1      1       5  874965758\n",
       "1     1      2       3  876893171\n",
       "2     1      3       4  878542960\n",
       "3     1      4       3  876893119\n",
       "4     1      5       3  889751712"
      ]
     },
     "execution_count": 3,
     "metadata": {},
     "output_type": "execute_result"
    }
   ],
   "source": [
    "train.head()"
   ]
  },
  {
   "cell_type": "code",
   "execution_count": 4,
   "metadata": {},
   "outputs": [],
   "source": [
    "# 데이터 형태 변환 \n",
    "items = torch.LongTensor(train['movie'])\n",
    "users = torch.LongTensor(train['user'])\n",
    "ratings = torch.FloatTensor(train['rating'])\n",
    "items_test = torch.LongTensor(test['movie'])\n",
    "users_test = torch.LongTensor(test['user'])\n",
    "ratings_test = torch.FloatTensor(test['rating'])"
   ]
  },
  {
   "cell_type": "code",
   "execution_count": 5,
   "metadata": {},
   "outputs": [],
   "source": [
    "rank = 10\n",
    "numItems = items.max() + 1 # M개의 Users\n",
    "numUsers = users.max() + 1 # N개의 Items\n",
    "# 임의의 (M,10) , (n,10)의 행렬 생성 \n",
    "P = torch.randn(numItems, rank, requires_grad=True)\n",
    "Q = torch.randn(numUsers, rank, requires_grad=True)"
   ]
  },
  {
   "cell_type": "code",
   "execution_count": 6,
   "metadata": {},
   "outputs": [],
   "source": [
    "# optimizer = torch.optim.Adam([P, Q], lr= 0.1)\n",
    "# for epoch in range(1000):\n",
    "#     hypothesis = torch.sum(P[items] * Q[users], dim= 1)\n",
    "#     cost = F.mse_loss(hypothesis ,ratings)\n",
    "#     optimizer.zero_grad()\n",
    "#     cost.backward()\n",
    "#     optimizer.step()\n",
    "#     if epoch % 100 == 0:\n",
    "#         print(\"epoch: {}, cost: {:.6f}\" .format(epoch, cost.item()))"
   ]
  },
  {
   "cell_type": "code",
   "execution_count": 7,
   "metadata": {},
   "outputs": [
    {
     "data": {
      "text/plain": [
       "torch.Size([90570, 10])"
      ]
     },
     "execution_count": 7,
     "metadata": {},
     "output_type": "execute_result"
    }
   ],
   "source": [
    "Q[users].shape"
   ]
  },
  {
   "cell_type": "code",
   "execution_count": 8,
   "metadata": {},
   "outputs": [
    {
     "name": "stdout",
     "output_type": "stream",
     "text": [
      "epoch: 0, cost: 23.351402\n",
      "epoch: 100, cost: 0.568511\n",
      "epoch: 200, cost: 0.497906\n",
      "epoch: 300, cost: 0.473223\n",
      "epoch: 400, cost: 0.461902\n",
      "epoch: 500, cost: 0.455760\n",
      "epoch: 600, cost: 0.451938\n",
      "epoch: 700, cost: 0.449223\n",
      "epoch: 800, cost: 0.447265\n",
      "epoch: 900, cost: 0.445871\n"
     ]
    }
   ],
   "source": [
    "X = []\n",
    "Y = []\n",
    "\n",
    "optimizer = torch.optim.Adam([P, Q], lr= 0.1)\n",
    "for epoch in range(1000):\n",
    "    # P[items]의 의미는 item의 개수만큼 만들어진 데이터를 가지고 있는 데이터에 맞추어 증식\n",
    "    hypothesis = torch.sum(P[items] * Q[users], dim= 1)\n",
    "    cost = F.mse_loss(hypothesis ,ratings)\n",
    "    optimizer.zero_grad()\n",
    "    cost.backward()\n",
    "    optimizer.step()\n",
    "    \n",
    "    X.append(epoch)\n",
    "    Y.append(cost)\n",
    "    if epoch % 100 == 0:\n",
    "        print(\"epoch: {}, cost: {:.6f}\" .format(epoch, cost.item()))"
   ]
  },
  {
   "cell_type": "code",
   "execution_count": 9,
   "metadata": {},
   "outputs": [
    {
     "data": {
      "image/png": "[encoded data removed]",
      "text/plain": [
       "<Figure size 432x288 with 1 Axes>"
      ]
     },
     "metadata": {
      "needs_background": "light"
     },
     "output_type": "display_data"
    }
   ],
   "source": [
    "plt.ylabel(\"MSE\")\n",
    "plt.xlabel(\"Epoch\")\n",
    "plt.plot(X,Y, c=\"blue\", label=\"Training MSE\")\n",
    "plt.legend()\n",
    "plt.show()"
   ]
  },
  {
   "cell_type": "markdown",
   "metadata": {},
   "source": [
    "## Test결과 삽입"
   ]
  },
  {
   "cell_type": "code",
   "execution_count": 10,
   "metadata": {},
   "outputs": [],
   "source": [
    "rank = 10\n",
    "numItems = items.max() + 1\n",
    "numUsers = users.max() + 1\n",
    "P = torch.randn(numItems, rank, requires_grad=True)\n",
    "Q = torch.randn(numUsers, rank, requires_grad=True)"
   ]
  },
  {
   "cell_type": "code",
   "execution_count": 11,
   "metadata": {},
   "outputs": [
    {
     "name": "stdout",
     "output_type": "stream",
     "text": [
      "epoch: 0, cost: 23.797020\n",
      "epoch: 100, cost: 0.562039\n",
      "epoch: 200, cost: 0.494565\n",
      "epoch: 300, cost: 0.472840\n",
      "epoch: 400, cost: 0.462528\n",
      "epoch: 500, cost: 0.456559\n",
      "epoch: 600, cost: 0.452671\n",
      "epoch: 700, cost: 0.449970\n",
      "epoch: 800, cost: 0.447914\n",
      "epoch: 900, cost: 0.446298\n"
     ]
    }
   ],
   "source": [
    "X = []\n",
    "Y = []\n",
    "Y_test = []\n",
    "\n",
    "optimizer = torch.optim.Adam([P, Q], lr= 0.1)\n",
    "for epoch in range(1000):\n",
    "    hypothesis = torch.sum(P[items] * Q[users], dim= 1)\n",
    "    cost = F.mse_loss(hypothesis ,ratings)\n",
    "    optimizer.zero_grad()\n",
    "    cost.backward()\n",
    "    optimizer.step()\n",
    "    \n",
    "    X.append(epoch)\n",
    "    Y.append(cost)\n",
    "    with torch.no_grad():\n",
    "        hypo_test = torch.sum(P[items_test] * Q[users_test], dim=1)\n",
    "        cost_test = F.mse_loss(hypo_test, ratings_test)\n",
    "        Y_test.append(cost_test)\n",
    "    if epoch % 100 == 0:\n",
    "        print(\"epoch: {}, cost: {:.6f}\" .format(epoch, cost.item()))"
   ]
  },
  {
   "cell_type": "code",
   "execution_count": 12,
   "metadata": {},
   "outputs": [
    {
     "data": {
      "image/png": "[encoded data removed]",
      "text/plain": [
       "<Figure size 432x288 with 1 Axes>"
      ]
     },
     "metadata": {
      "needs_background": "light"
     },
     "output_type": "display_data"
    }
   ],
   "source": [
    "plt.ylabel(\"MSE\")\n",
    "plt.xlabel(\"Epoch\")\n",
    "plt.plot(X,Y, c=\"blue\", label=\"Training MSE\")\n",
    "plt.plot(X,Y_test, c=\"red\", label=\"Test MSE\")\n",
    "plt.legend()\n",
    "plt.show()"
   ]
  },
  {
   "cell_type": "markdown",
   "metadata": {},
   "source": [
    "# Regularization 추가"
   ]
  },
  {
   "cell_type": "code",
   "execution_count": 13,
   "metadata": {},
   "outputs": [],
   "source": [
    "rank = 10\n",
    "numItems = items.max() + 1\n",
    "numUsers = users.max() + 1\n",
    "P = torch.randn(numItems, rank, requires_grad=True)\n",
    "Q = torch.randn(numUsers, rank, requires_grad=True)"
   ]
  },
  {
   "cell_type": "code",
   "execution_count": 14,
   "metadata": {},
   "outputs": [
    {
     "name": "stdout",
     "output_type": "stream",
     "text": [
      "epoch: 0, cost: 23.830935\n",
      "epoch: 100, cost: 0.690889\n",
      "epoch: 200, cost: 0.641221\n",
      "epoch: 300, cost: 0.631486\n",
      "epoch: 400, cost: 0.629105\n",
      "epoch: 500, cost: 0.628084\n",
      "epoch: 600, cost: 0.627471\n",
      "epoch: 700, cost: 0.627061\n",
      "epoch: 800, cost: 0.626777\n",
      "epoch: 900, cost: 0.626579\n"
     ]
    }
   ],
   "source": [
    "lambda1 = 0.0001\n",
    "lambda2 = 0.0001\n",
    "X = []\n",
    "Y = []\n",
    "Y_test = []\n",
    "\n",
    "optimizer = torch.optim.Adam([P, Q], lr= 0.1)\n",
    "for epoch in range(1000):\n",
    "    hypothesis = torch.sum(P[items] * Q[users], dim= 1)\n",
    "    cost = F.mse_loss(hypothesis ,ratings)\n",
    "    loss = cost + lambda1 * torch.sum(P ** 2) + lambda2 * torch.sum(Q ** 2)\n",
    "    \n",
    "    optimizer.zero_grad()\n",
    "    loss.backward()\n",
    "    optimizer.step()\n",
    "    \n",
    "    X.append(epoch)\n",
    "    Y.append(cost)\n",
    "    with torch.no_grad():\n",
    "        hypo_test = torch.sum(P[items_test] * Q[users_test], dim=1)\n",
    "        cost_test = F.mse_loss(hypo_test, ratings_test)\n",
    "        Y_test.append(cost_test)\n",
    "    if epoch % 100 == 0:\n",
    "        print(\"epoch: {}, cost: {:.6f}\" .format(epoch, cost.item()))"
   ]
  },
  {
   "cell_type": "code",
   "execution_count": 15,
   "metadata": {
    "scrolled": true
   },
   "outputs": [
    {
     "data": {
      "image/png": "[encoded data removed]",
      "text/plain": [
       "<Figure size 432x288 with 1 Axes>"
      ]
     },
     "metadata": {
      "needs_background": "light"
     },
     "output_type": "display_data"
    }
   ],
   "source": [
    "plt.ylabel(\"MSE\")\n",
    "plt.xlabel(\"Epoch\")\n",
    "plt.plot(X,Y, c=\"blue\", label=\"Training MSE\")\n",
    "plt.plot(X,Y_test, c=\"red\", label=\"Test MSE\")\n",
    "plt.legend()\n",
    "plt.show()"
   ]
  },
  {
   "cell_type": "markdown",
   "metadata": {},
   "source": [
    "# Bias 추가"
   ]
  },
  {
   "cell_type": "code",
   "execution_count": 16,
   "metadata": {},
   "outputs": [],
   "source": [
    "rank = 10\n",
    "numItems = items.max() + 1\n",
    "numUsers = users.max() + 1\n",
    "P = torch.randn(numItems, rank, requires_grad=True)\n",
    "Q = torch.randn(numUsers, rank, requires_grad=True)"
   ]
  },
  {
   "cell_type": "code",
   "execution_count": 17,
   "metadata": {},
   "outputs": [],
   "source": [
    "lambda3 = 0.001\n",
    "lambda4 = 0.001\n",
    "bias_item = torch.randn(numItems, requires_grad=True)\n",
    "bias_user = torch.randn(numUsers, requires_grad=True)\n",
    "mean = (ratings.sum() / len(ratings)).item()"
   ]
  },
  {
   "cell_type": "code",
   "execution_count": 18,
   "metadata": {},
   "outputs": [
    {
     "name": "stdout",
     "output_type": "stream",
     "text": [
      "epoch: 0, cost: 13.107369\n",
      "epoch: 100, cost: 0.674281\n",
      "epoch: 200, cost: 0.647033\n",
      "epoch: 300, cost: 0.641588\n",
      "epoch: 400, cost: 0.639835\n",
      "epoch: 500, cost: 0.639496\n",
      "epoch: 600, cost: 0.639344\n",
      "epoch: 700, cost: 0.639214\n",
      "epoch: 800, cost: 0.639091\n",
      "epoch: 900, cost: 0.639013\n"
     ]
    }
   ],
   "source": [
    "lambda1 = 0.0001\n",
    "lambda2 = 0.0001\n",
    "X = []\n",
    "Y = []\n",
    "Y_test = []\n",
    "\n",
    "optimizer = torch.optim.Adam([P, Q], lr= 0.1)\n",
    "for epoch in range(1000):\n",
    "    hypothesis = torch.sum(P[items] * Q[users], dim=1) + mean + bias_item[items] + bias_user[users]\n",
    "    cost = F.mse_loss(hypothesis ,ratings)\n",
    "    loss = cost + lambda1 * torch.sum(P ** 2) + lambda2 * torch.sum(Q ** 2) + lambda3 * torch.sum(bias_item ** 2) + lambda4 * torch.sum(bias_user ** 2)\n",
    "    \n",
    "    optimizer.zero_grad()\n",
    "    loss.backward()\n",
    "    optimizer.step()\n",
    "    \n",
    "    X.append(epoch)\n",
    "    Y.append(cost)\n",
    "    with torch.no_grad():\n",
    "        hypo_test = torch.sum(P[items_test] * Q[users_test], dim=1)\n",
    "        cost_test = F.mse_loss(hypo_test, ratings_test)\n",
    "        Y_test.append(cost_test)\n",
    "    if epoch % 100 == 0:\n",
    "        print(\"epoch: {}, cost: {:.6f}\" .format(epoch, cost.item()))"
   ]
  },
  {
   "cell_type": "code",
   "execution_count": 19,
   "metadata": {
    "scrolled": false
   },
   "outputs": [
    {
     "data": {
      "image/png": "[encoded data removed]",
      "text/plain": [
       "<Figure size 432x288 with 1 Axes>"
      ]
     },
     "metadata": {
      "needs_background": "light"
     },
     "output_type": "display_data"
    }
   ],
   "source": [
    "plt.ylabel(\"MSE\")\n",
    "plt.xlabel(\"Epoch\")\n",
    "plt.plot(X,Y, c=\"blue\", label=\"Training MSE\")\n",
    "plt.plot(X,Y_test, c=\"red\", label=\"Test MSE\")\n",
    "plt.legend()\n",
    "plt.show()"
   ]
  },
  {
   "cell_type": "markdown",
   "metadata": {},
   "source": [
    "----------"
   ]
  },
  {
   "cell_type": "markdown",
   "metadata": {},
   "source": [
    "# Running rate 수정"
   ]
  },
  {
   "cell_type": "code",
   "execution_count": 23,
   "metadata": {},
   "outputs": [],
   "source": [
    "rank = 10\n",
    "numItems = items.max() + 1\n",
    "numUsers = users.max() + 1\n",
    "P = torch.randn(numItems, rank, requires_grad=True)\n",
    "Q = torch.randn(numUsers, rank, requires_grad=True)"
   ]
  },
  {
   "cell_type": "code",
   "execution_count": 24,
   "metadata": {},
   "outputs": [],
   "source": [
    "lambda3 = 0.001\n",
    "lambda4 = 0.001\n",
    "bias_item = torch.randn(numItems, requires_grad=True)\n",
    "bias_user = torch.randn(numUsers, requires_grad=True)\n",
    "mean = (ratings.sum() / len(ratings)).item()"
   ]
  },
  {
   "cell_type": "code",
   "execution_count": 25,
   "metadata": {},
   "outputs": [
    {
     "name": "stdout",
     "output_type": "stream",
     "text": [
      "epoch: 0, cost: 12.941305\n",
      "epoch: 100, cost: 0.742660\n",
      "epoch: 200, cost: 0.668740\n",
      "epoch: 300, cost: 0.649038\n",
      "epoch: 400, cost: 0.642609\n",
      "epoch: 500, cost: 0.639728\n",
      "epoch: 600, cost: 0.638409\n",
      "epoch: 700, cost: 0.637777\n",
      "epoch: 800, cost: 0.637447\n",
      "epoch: 900, cost: 0.637233\n"
     ]
    }
   ],
   "source": [
    "lambda1 = 0.0001\n",
    "lambda2 = 0.0001\n",
    "X = []\n",
    "Y = []\n",
    "Y_test = []\n",
    "\n",
    "optimizer = torch.optim.Adam([P, Q], lr= 0.05)\n",
    "for epoch in range(1000):\n",
    "    hypothesis = torch.sum(P[items] * Q[users], dim=1) + mean + bias_item[items] + bias_user[users]\n",
    "    cost = F.mse_loss(hypothesis ,ratings)\n",
    "    loss = cost + lambda1 * torch.sum(P ** 2) + lambda2 * torch.sum(Q ** 2) + lambda3 * torch.sum(bias_item ** 2) + lambda4 * torch.sum(bias_user ** 2)\n",
    "    \n",
    "    optimizer.zero_grad()\n",
    "    loss.backward()\n",
    "    optimizer.step()\n",
    "    \n",
    "    X.append(epoch)\n",
    "    Y.append(cost)\n",
    "    with torch.no_grad():\n",
    "        hypo_test = torch.sum(P[items_test] * Q[users_test], dim=1)\n",
    "        cost_test = F.mse_loss(hypo_test, ratings_test)\n",
    "        Y_test.append(cost_test)\n",
    "    if epoch % 100 == 0:\n",
    "        print(\"epoch: {}, cost: {:.6f}\" .format(epoch, cost.item()))"
   ]
  },
  {
   "cell_type": "code",
   "execution_count": 26,
   "metadata": {
    "scrolled": true
   },
   "outputs": [
    {
     "data": {
      "image/png": "[encoded data removed]",
      "text/plain": [
       "<Figure size 432x288 with 1 Axes>"
      ]
     },
     "metadata": {
      "needs_background": "light"
     },
     "output_type": "display_data"
    }
   ],
   "source": [
    "plt.ylabel(\"MSE\")\n",
    "plt.xlabel(\"Epoch\")\n",
    "plt.plot(X,Y, c=\"blue\", label=\"Training MSE\")\n",
    "plt.plot(X,Y_test, c=\"red\", label=\"Test MSE\")\n",
    "plt.legend()\n",
    "plt.show()"
   ]
  },
  {
   "cell_type": "markdown",
   "metadata": {},
   "source": [
    "# optimizer 변형 + running rate 수정 "
   ]
  },
  {
   "cell_type": "code",
   "execution_count": 27,
   "metadata": {},
   "outputs": [],
   "source": [
    "rank = 10\n",
    "numItems = items.max() + 1\n",
    "numUsers = users.max() + 1\n",
    "P = torch.randn(numItems, rank, requires_grad=True)\n",
    "Q = torch.randn(numUsers, rank, requires_grad=True)"
   ]
  },
  {
   "cell_type": "code",
   "execution_count": 28,
   "metadata": {},
   "outputs": [],
   "source": [
    "lambda3 = 0.001\n",
    "lambda4 = 0.001\n",
    "bias_item = torch.randn(numItems, requires_grad=True)\n",
    "bias_user = torch.randn(numUsers, requires_grad=True)\n",
    "mean = (ratings.sum() / len(ratings)).item()"
   ]
  },
  {
   "cell_type": "code",
   "execution_count": 29,
   "metadata": {},
   "outputs": [
    {
     "name": "stdout",
     "output_type": "stream",
     "text": [
      "epoch: 0, cost: 13.535536\n",
      "epoch: 100, cost: 0.697087\n",
      "epoch: 200, cost: 0.642984\n",
      "epoch: 300, cost: 0.655112\n",
      "epoch: 400, cost: 0.667997\n",
      "epoch: 500, cost: 0.630241\n",
      "epoch: 600, cost: 0.659937\n",
      "epoch: 700, cost: 0.675225\n",
      "epoch: 800, cost: 0.649525\n",
      "epoch: 900, cost: 0.635261\n"
     ]
    }
   ],
   "source": [
    "lambda1 = 0.0001\n",
    "lambda2 = 0.0001\n",
    "X = []\n",
    "Y = []\n",
    "Y_test = []\n",
    "\n",
    "optimizer = torch.optim.RMSprop([P, Q], lr= 0.05)\n",
    "for epoch in range(1000):\n",
    "    hypothesis = torch.sum(P[items] * Q[users], dim=1) + mean + bias_item[items] + bias_user[users]\n",
    "    cost = F.mse_loss(hypothesis ,ratings)\n",
    "    loss = cost + lambda1 * torch.sum(P ** 2) + lambda2 * torch.sum(Q ** 2) + lambda3 * torch.sum(bias_item ** 2) + lambda4 * torch.sum(bias_user ** 2)\n",
    "    \n",
    "    optimizer.zero_grad()\n",
    "    loss.backward()\n",
    "    optimizer.step()\n",
    "    \n",
    "    X.append(epoch)\n",
    "    Y.append(cost)\n",
    "    with torch.no_grad():\n",
    "        hypo_test = torch.sum(P[items_test] * Q[users_test], dim=1)\n",
    "        cost_test = F.mse_loss(hypo_test, ratings_test)\n",
    "        Y_test.append(cost_test)\n",
    "    if epoch % 100 == 0:\n",
    "        print(\"epoch: {}, cost: {:.6f}\" .format(epoch, cost.item()))"
   ]
  },
  {
   "cell_type": "code",
   "execution_count": 30,
   "metadata": {
    "scrolled": true
   },
   "outputs": [
    {
     "data": {
      "image/png": "[encoded data removed]",
      "text/plain": [
       "<Figure size 432x288 with 1 Axes>"
      ]
     },
     "metadata": {
      "needs_background": "light"
     },
     "output_type": "display_data"
    }
   ],
   "source": [
    "plt.ylabel(\"MSE\")\n",
    "plt.xlabel(\"Epoch\")\n",
    "plt.plot(X,Y, c=\"blue\", label=\"Training MSE\")\n",
    "plt.plot(X,Y_test, c=\"red\", label=\"Test MSE\")\n",
    "plt.legend()\n",
    "plt.show()"
   ]
  },
  {
   "cell_type": "markdown",
   "metadata": {},
   "source": [
    "# optimizer 변형 + running rate 수정 + rank 변형 "
   ]
  },
  {
   "cell_type": "code",
   "execution_count": 31,
   "metadata": {},
   "outputs": [],
   "source": [
    "rank = 15\n",
    "numItems = items.max() + 1\n",
    "numUsers = users.max() + 1\n",
    "P = torch.randn(numItems, rank, requires_grad=True)\n",
    "Q = torch.randn(numUsers, rank, requires_grad=True)"
   ]
  },
  {
   "cell_type": "code",
   "execution_count": 32,
   "metadata": {},
   "outputs": [],
   "source": [
    "lambda3 = 0.001\n",
    "lambda4 = 0.001\n",
    "bias_item = torch.randn(numItems, requires_grad=True)\n",
    "bias_user = torch.randn(numUsers, requires_grad=True)\n",
    "mean = (ratings.sum() / len(ratings)).item()"
   ]
  },
  {
   "cell_type": "code",
   "execution_count": 34,
   "metadata": {},
   "outputs": [
    {
     "name": "stdout",
     "output_type": "stream",
     "text": [
      "epoch: 0, cost: 17.354443\n",
      "epoch: 100, cost: 0.612096\n",
      "epoch: 200, cost: 0.581318\n",
      "epoch: 300, cost: 0.594169\n",
      "epoch: 400, cost: 0.613801\n",
      "epoch: 500, cost: 0.579843\n",
      "epoch: 600, cost: 0.562491\n",
      "epoch: 700, cost: 0.613067\n",
      "epoch: 800, cost: 0.609380\n",
      "epoch: 900, cost: 0.579607\n"
     ]
    }
   ],
   "source": [
    "lambda1 = 0.0001\n",
    "lambda2 = 0.0001\n",
    "X = []\n",
    "Y = []\n",
    "Y_test = []\n",
    "\n",
    "optimizer = torch.optim.RMSprop([P, Q], lr= 0.05)\n",
    "for epoch in range(1000):\n",
    "    hypothesis = torch.sum(P[items] * Q[users], dim=1) + mean + bias_item[items] + bias_user[users]\n",
    "    cost = F.mse_loss(hypothesis ,ratings)\n",
    "    loss = cost + lambda1 * torch.sum(P ** 2) + lambda2 * torch.sum(Q ** 2) + lambda3 * torch.sum(bias_item ** 2) + lambda4 * torch.sum(bias_user ** 2)\n",
    "    \n",
    "    optimizer.zero_grad()\n",
    "    loss.backward()\n",
    "    optimizer.step()\n",
    "    \n",
    "    X.append(epoch)\n",
    "    Y.append(cost)\n",
    "    with torch.no_grad():\n",
    "        hypo_test = torch.sum(P[items_test] * Q[users_test], dim=1)\n",
    "        cost_test = F.mse_loss(hypo_test, ratings_test)\n",
    "        Y_test.append(cost_test)\n",
    "    if epoch % 100 == 0:\n",
    "        print(\"epoch: {}, cost: {:.6f}\" .format(epoch, cost.item()))"
   ]
  },
  {
   "cell_type": "code",
   "execution_count": 35,
   "metadata": {
    "scrolled": true
   },
   "outputs": [
    {
     "data": {
      "image/png": "[encoded data removed]",
      "text/plain": [
       "<Figure size 432x288 with 1 Axes>"
      ]
     },
     "metadata": {
      "needs_background": "light"
     },
     "output_type": "display_data"
    }
   ],
   "source": [
    "plt.ylabel(\"MSE\")\n",
    "plt.xlabel(\"Epoch\")\n",
    "plt.plot(X,Y, c=\"blue\", label=\"Training MSE\")\n",
    "plt.plot(X,Y_test, c=\"red\", label=\"Test MSE\")\n",
    "plt.legend()\n",
    "plt.show()"
   ]
  },
  {
   "cell_type": "markdown",
   "metadata": {},
   "source": [
    "# 규제 추가 + learning Rate 수정"
   ]
  },
  {
   "cell_type": "code",
   "execution_count": 10,
   "metadata": {},
   "outputs": [],
   "source": [
    "rank = 10\n",
    "numItems = items.max() + 1\n",
    "numUsers = users.max() + 1\n",
    "P = torch.randn(numItems, rank, requires_grad=True)\n",
    "Q = torch.randn(numUsers, rank, requires_grad=True)"
   ]
  },
  {
   "cell_type": "code",
   "execution_count": 11,
   "metadata": {},
   "outputs": [
    {
     "name": "stdout",
     "output_type": "stream",
     "text": [
      "epoch: 0, cost: 23.623707\n",
      "epoch: 100, cost: 0.758302\n",
      "epoch: 200, cost: 0.680023\n",
      "epoch: 300, cost: 0.647342\n",
      "epoch: 400, cost: 0.635925\n",
      "epoch: 500, cost: 0.631392\n",
      "epoch: 600, cost: 0.629552\n",
      "epoch: 700, cost: 0.628655\n",
      "epoch: 800, cost: 0.628080\n",
      "epoch: 900, cost: 0.627649\n"
     ]
    }
   ],
   "source": [
    "lambda1 = 0.0001\n",
    "lambda2 = 0.0001\n",
    "X = []\n",
    "Y = []\n",
    "Y_test = []\n",
    "\n",
    "optimizer = torch.optim.Adam([P, Q], lr= 0.05)\n",
    "for epoch in range(1000):\n",
    "    hypothesis = torch.sum(P[items] * Q[users], dim= 1)\n",
    "    cost = F.mse_loss(hypothesis ,ratings)\n",
    "    loss = cost + lambda1 * torch.sum(P ** 2) + lambda2 * torch.sum(Q ** 2)\n",
    "    \n",
    "    optimizer.zero_grad()\n",
    "    loss.backward()\n",
    "    optimizer.step()\n",
    "    \n",
    "    X.append(epoch)\n",
    "    Y.append(cost)\n",
    "    with torch.no_grad():\n",
    "        hypo_test = torch.sum(P[items_test] * Q[users_test], dim=1)\n",
    "        cost_test = F.mse_loss(hypo_test, ratings_test)\n",
    "        Y_test.append(cost_test)\n",
    "    if epoch % 100 == 0:\n",
    "        print(\"epoch: {}, cost: {:.6f}\" .format(epoch, cost.item()))"
   ]
  },
  {
   "cell_type": "code",
   "execution_count": 12,
   "metadata": {
    "scrolled": true
   },
   "outputs": [
    {
     "data": {
      "image/png": "[encoded data removed]",
      "text/plain": [
       "<Figure size 432x288 with 1 Axes>"
      ]
     },
     "metadata": {
      "needs_background": "light"
     },
     "output_type": "display_data"
    }
   ],
   "source": [
    "plt.ylabel(\"MSE\")\n",
    "plt.xlabel(\"Epoch\")\n",
    "plt.plot(X,Y, c=\"blue\", label=\"Training MSE\")\n",
    "plt.plot(X,Y_test, c=\"red\", label=\"Test MSE\")\n",
    "plt.legend()\n",
    "plt.show()"
   ]
  },
  {
   "cell_type": "code",
   "execution_count": 21,
   "metadata": {
    "scrolled": true
   },
   "outputs": [
    {
     "name": "stdout",
     "output_type": "stream",
     "text": [
      "Test MSE :  tensor(1.0583)\n"
     ]
    }
   ],
   "source": [
    "print(\"Test MSE : \", Y_test[-1])"
   ]
  },
  {
   "cell_type": "markdown",
   "metadata": {},
   "source": [
    "# 규제 추가 + optimzer 수정"
   ]
  },
  {
   "cell_type": "code",
   "execution_count": 22,
   "metadata": {},
   "outputs": [],
   "source": [
    "rank = 10\n",
    "numItems = items.max() + 1\n",
    "numUsers = users.max() + 1\n",
    "P = torch.randn(numItems, rank, requires_grad=True)\n",
    "Q = torch.randn(numUsers, rank, requires_grad=True)"
   ]
  },
  {
   "cell_type": "code",
   "execution_count": 24,
   "metadata": {},
   "outputs": [
    {
     "name": "stdout",
     "output_type": "stream",
     "text": [
      "epoch: 0, cost: 24.388842\n",
      "epoch: 100, cost: 0.689016\n",
      "epoch: 200, cost: 0.651809\n",
      "epoch: 300, cost: 0.637167\n",
      "epoch: 400, cost: 0.630447\n",
      "epoch: 500, cost: 0.627018\n",
      "epoch: 600, cost: 0.626577\n",
      "epoch: 700, cost: 0.625366\n",
      "epoch: 800, cost: 0.624518\n",
      "epoch: 900, cost: 0.623659\n"
     ]
    }
   ],
   "source": [
    "lambda1 = 0.0001\n",
    "lambda2 = 0.0001\n",
    "X = []\n",
    "Y = []\n",
    "Y_test = []\n",
    "\n",
    "optimizer = torch.optim.RMSprop([P, Q], lr= 0.05)\n",
    "for epoch in range(1000):\n",
    "    hypothesis = torch.sum(P[items] * Q[users], dim= 1)\n",
    "    cost = F.mse_loss(hypothesis ,ratings)\n",
    "    loss = cost + lambda1 * torch.sum(P ** 2) + lambda2 * torch.sum(Q ** 2)\n",
    "    \n",
    "    optimizer.zero_grad()\n",
    "    loss.backward()\n",
    "    optimizer.step()\n",
    "    \n",
    "    X.append(epoch)\n",
    "    Y.append(cost)\n",
    "    with torch.no_grad():\n",
    "        hypo_test = torch.sum(P[items_test] * Q[users_test], dim=1)\n",
    "        cost_test = F.mse_loss(hypo_test, ratings_test)\n",
    "        Y_test.append(cost_test)\n",
    "    if epoch % 100 == 0:\n",
    "        print(\"epoch: {}, cost: {:.6f}\" .format(epoch, cost.item()))"
   ]
  },
  {
   "cell_type": "code",
   "execution_count": 25,
   "metadata": {
    "scrolled": true
   },
   "outputs": [
    {
     "data": {
      "image/png": "[encoded data removed]",
      "text/plain": [
       "<Figure size 432x288 with 1 Axes>"
      ]
     },
     "metadata": {
      "needs_background": "light"
     },
     "output_type": "display_data"
    }
   ],
   "source": [
    "plt.ylabel(\"MSE\")\n",
    "plt.xlabel(\"Epoch\")\n",
    "plt.plot(X,Y, c=\"blue\", label=\"Training MSE\")\n",
    "plt.plot(X,Y_test, c=\"red\", label=\"Test MSE\")\n",
    "plt.legend()\n",
    "plt.show()"
   ]
  },
  {
   "cell_type": "code",
   "execution_count": 26,
   "metadata": {
    "scrolled": false
   },
   "outputs": [
    {
     "name": "stdout",
     "output_type": "stream",
     "text": [
      "Test MSE :  tensor(0.9964)\n"
     ]
    }
   ],
   "source": [
    "print(\"Test MSE : \", Y_test[-1])"
   ]
  },
  {
   "cell_type": "markdown",
   "metadata": {},
   "source": [
    "# 규제 추가 + optimzer 수정 + learning Rate 수정"
   ]
  },
  {
   "cell_type": "code",
   "execution_count": 28,
   "metadata": {},
   "outputs": [],
   "source": [
    "rank = 10\n",
    "numItems = items.max() + 1\n",
    "numUsers = users.max() + 1\n",
    "P = torch.randn(numItems, rank, requires_grad=True)\n",
    "Q = torch.randn(numUsers, rank, requires_grad=True)"
   ]
  },
  {
   "cell_type": "code",
   "execution_count": 29,
   "metadata": {},
   "outputs": [
    {
     "name": "stdout",
     "output_type": "stream",
     "text": [
      "epoch: 0, cost: 23.467537\n",
      "epoch: 100, cost: 1.049002\n",
      "epoch: 200, cost: 0.828648\n",
      "epoch: 300, cost: 0.747696\n",
      "epoch: 400, cost: 0.689175\n",
      "epoch: 500, cost: 0.651563\n",
      "epoch: 600, cost: 0.632921\n",
      "epoch: 700, cost: 0.625347\n",
      "epoch: 800, cost: 0.622259\n",
      "epoch: 900, cost: 0.620787\n"
     ]
    }
   ],
   "source": [
    "lambda1 = 0.0001\n",
    "lambda2 = 0.0001\n",
    "X = []\n",
    "Y = []\n",
    "Y_test = []\n",
    "\n",
    "optimizer = torch.optim.RMSprop([P, Q], lr= 0.01)\n",
    "for epoch in range(1000):\n",
    "    hypothesis = torch.sum(P[items] * Q[users], dim= 1)\n",
    "    cost = F.mse_loss(hypothesis ,ratings)\n",
    "    loss = cost + lambda1 * torch.sum(P ** 2) + lambda2 * torch.sum(Q ** 2)\n",
    "    \n",
    "    optimizer.zero_grad()\n",
    "    loss.backward()\n",
    "    optimizer.step()\n",
    "    \n",
    "    X.append(epoch)\n",
    "    Y.append(cost)\n",
    "    with torch.no_grad():\n",
    "        hypo_test = torch.sum(P[items_test] * Q[users_test], dim=1)\n",
    "        cost_test = F.mse_loss(hypo_test, ratings_test)\n",
    "        Y_test.append(cost_test)\n",
    "    if epoch % 100 == 0:\n",
    "        print(\"epoch: {}, cost: {:.6f}\" .format(epoch, cost.item()))"
   ]
  },
  {
   "cell_type": "code",
   "execution_count": 30,
   "metadata": {
    "scrolled": true
   },
   "outputs": [
    {
     "data": {
      "image/png": "[encoded data removed]",
      "text/plain": [
       "<Figure size 432x288 with 1 Axes>"
      ]
     },
     "metadata": {
      "needs_background": "light"
     },
     "output_type": "display_data"
    }
   ],
   "source": [
    "plt.ylabel(\"MSE\")\n",
    "plt.xlabel(\"Epoch\")\n",
    "plt.plot(X,Y, c=\"blue\", label=\"Training MSE\")\n",
    "plt.plot(X,Y_test, c=\"red\", label=\"Test MSE\")\n",
    "plt.legend()\n",
    "plt.show()"
   ]
  },
  {
   "cell_type": "code",
   "execution_count": 31,
   "metadata": {
    "scrolled": true
   },
   "outputs": [
    {
     "name": "stdout",
     "output_type": "stream",
     "text": [
      "Test MSE :  tensor(1.0321)\n"
     ]
    }
   ],
   "source": [
    "print(\"Test MSE : \", Y_test[-1])"
   ]
  },
  {
   "cell_type": "markdown",
   "metadata": {},
   "source": [
    "# 규제 추가 + optimzer 수정 + learning Rate 수정"
   ]
  },
  {
   "cell_type": "code",
   "execution_count": 32,
   "metadata": {},
   "outputs": [],
   "source": [
    "rank = 10\n",
    "numItems = items.max() + 1\n",
    "numUsers = users.max() + 1\n",
    "P = torch.randn(numItems, rank, requires_grad=True)\n",
    "Q = torch.randn(numUsers, rank, requires_grad=True)"
   ]
  },
  {
   "cell_type": "code",
   "execution_count": 33,
   "metadata": {},
   "outputs": [
    {
     "name": "stdout",
     "output_type": "stream",
     "text": [
      "epoch: 0, cost: 24.030554\n",
      "epoch: 100, cost: 0.704758\n",
      "epoch: 200, cost: 0.665310\n",
      "epoch: 300, cost: 0.643362\n",
      "epoch: 400, cost: 0.630233\n",
      "epoch: 500, cost: 0.627513\n",
      "epoch: 600, cost: 0.631391\n",
      "epoch: 700, cost: 0.634791\n",
      "epoch: 800, cost: 0.635658\n",
      "epoch: 900, cost: 0.638416\n"
     ]
    }
   ],
   "source": [
    "lambda1 = 0.0001\n",
    "lambda2 = 0.0001\n",
    "X = []\n",
    "Y = []\n",
    "Y_test = []\n",
    "\n",
    "optimizer = torch.optim.RMSprop([P, Q], lr= 0.1)\n",
    "for epoch in range(1000):\n",
    "    hypothesis = torch.sum(P[items] * Q[users], dim= 1)\n",
    "    cost = F.mse_loss(hypothesis ,ratings)\n",
    "    loss = cost + lambda1 * torch.sum(P ** 2) + lambda2 * torch.sum(Q ** 2)\n",
    "    \n",
    "    optimizer.zero_grad()\n",
    "    loss.backward()\n",
    "    optimizer.step()\n",
    "    \n",
    "    X.append(epoch)\n",
    "    Y.append(cost)\n",
    "    with torch.no_grad():\n",
    "        hypo_test = torch.sum(P[items_test] * Q[users_test], dim=1)\n",
    "        cost_test = F.mse_loss(hypo_test, ratings_test)\n",
    "        Y_test.append(cost_test)\n",
    "    if epoch % 100 == 0:\n",
    "        print(\"epoch: {}, cost: {:.6f}\" .format(epoch, cost.item()))"
   ]
  },
  {
   "cell_type": "code",
   "execution_count": 34,
   "metadata": {
    "scrolled": true
   },
   "outputs": [
    {
     "data": {
      "image/png": "[encoded data removed]",
      "text/plain": [
       "<Figure size 432x288 with 1 Axes>"
      ]
     },
     "metadata": {
      "needs_background": "light"
     },
     "output_type": "display_data"
    }
   ],
   "source": [
    "plt.ylabel(\"MSE\")\n",
    "plt.xlabel(\"Epoch\")\n",
    "plt.plot(X,Y, c=\"blue\", label=\"Training MSE\")\n",
    "plt.plot(X,Y_test, c=\"red\", label=\"Test MSE\")\n",
    "plt.legend()\n",
    "plt.show()"
   ]
  },
  {
   "cell_type": "code",
   "execution_count": 35,
   "metadata": {
    "scrolled": true
   },
   "outputs": [
    {
     "name": "stdout",
     "output_type": "stream",
     "text": [
      "Test MSE :  tensor(0.9943)\n"
     ]
    }
   ],
   "source": [
    "print(\"Test MSE : \", Y_test[-1])"
   ]
  },
  {
   "cell_type": "code",
   "execution_count": null,
   "metadata": {},
   "outputs": [],
   "source": []
  },
  {
   "cell_type": "code",
   "execution_count": null,
   "metadata": {},
   "outputs": [],
   "source": []
  },
  {
   "cell_type": "code",
   "execution_count": null,
   "metadata": {},
   "outputs": [],
   "source": []
  },
  {
   "cell_type": "code",
   "execution_count": 4,
   "metadata": {},
   "outputs": [],
   "source": [
    "import numpy as np\n",
    "import pandas as pd"
   ]
  },
  {
   "cell_type": "code",
   "execution_count": 3,
   "metadata": {},
   "outputs": [],
   "source": [
    "p = [[-0.07336096998981455, -1.1868492419069463, -0.6832567886872725, 0.3374903259629553, 0.5061446103182706, -0.7094788795167749, 0.033505354838615116, 0.7542187442833727, -0.5679126937281002, -0.2221675697206096], [0.36167409936167005, -0.8357015389026892, -0.9908472737114803, 0.6002525352580729, 0.4599075583083665, -0.9662327149919435, -0.1848314856164792, 0.34917748129273785, -0.43767237886712274, -0.29261063618868516], [0.11730757345341974, -0.5306767688857185, -0.5662840461289441, 0.562890754253776, 0.6559638888747604, -1.0067127567750436, 0.06374742549464658, 0.4762064100553592, -0.29412342118168316, -0.34207529622923444], [0.024482111581551665, -0.4869831439028395, -0.5838825479942433, 0.49122316207974515, 0.7100908876733577, -0.7224034283389437, 0.3735144574274408, 0.41640354235200805, -0.40932787915176533, -0.23993775487550476], [0.13332297468222068, -0.9289419436063923, -0.9010732325374103, 0.45792402021709033, 0.6192196971568905, -1.1555834383261008, -0.05364254468166437, 0.12426027680411324, -0.13749563618807398, -0.24641231273407818], [-0.08817953120251332, -0.7480716044083238, -1.0371376774273813, 0.5249423022614792, 0.6726528027793393, -0.7480016250628978, -0.00936461944002076, 0.691860584076494, -0.2316447970442823, -0.33110106456661015], [0.5952142155729234, -1.0821536034345627, -0.9888386838138103, 0.31253096321597695, 0.48847488909814274, -0.7098551485687494, -0.10869534872472286, 0.5944515438750386, -0.5550296464934945, -0.7724123150110245], [-0.24781300638916723, -0.5548243161879087, -0.5664832393287501, 0.64927614983498, 0.6040199035615251, -0.8874111618650588, 0.47018635488654437, 0.43372953349822446, -0.07261321319751196, -0.17507943271745094], [-0.25144619177471056, -1.108523049333074, -1.1620049943795074, 0.6734304924973765, 0.4166405755221038, -0.9013176783248111, 0.07417192755619416, 0.31316552393616653, 0.16815026620505713, -0.25030816457578325], [0.1946741420775652, -1.366152858734131, -0.6764010787010193, 0.6147973954677581, 0.6522301658987999, -0.6733310282230377, 0.2014568779617548, 0.6166784435510635, 0.5539151489734649, -0.24110571891069413], np.NaN, [0.6839983036572282, -0.7303962748159062, -1.297385036945343, 0.5789091953669082, 0.3128092232244936, -0.964651267636906, -0.07108271409842101, 0.2782644336535172, -0.1503794056532735, 0.25425333593210037], [-0.15769492948117356, -0.8328967028194003, -0.9952411694659127, 0.40118331060641343, 0.5826943058106634, -0.6296512727936109, 0.4713478037880527, 0.6553088322281837, -0.26525634200208714, -0.2731745912383], [0.13555201976277836, -0.7790203622796319, -0.8585371402176943, 0.7513239726875768, 0.5662266506503025, -0.8183356496420774, -0.18087057724143518, 0.568741606153322, 0.22667687778558696, -0.34094875328468555], [0.28006212040781975, -0.7745314035564661, -0.5885491762310266, 1.221709430217743, 0.27770418073487235, -0.987280011177063, -0.1110464070661692, -0.056764028035104275, -0.1563648640876636, -0.15791325829923153], [-0.5042905999081475, -1.0576011143168624, -0.8788331327389698, 0.4335530572095696, 0.4931127704223808, -0.9764742790436258, 0.09419648664794406, 0.819552152056475, -0.03258214717284225, -0.08221814634126363]]"
   ]
  },
  {
   "cell_type": "code",
   "execution_count": 10,
   "metadata": {},
   "outputs": [],
   "source": [
    "for i in p:\n",
    "    sum([pd.isna(i)])"
   ]
  },
  {
   "cell_type": "code",
   "execution_count": 11,
   "metadata": {},
   "outputs": [
    {
     "data": {
      "text/plain": [
       "array([0, 0, 0, 0, 0, 0, 0, 0, 0, 0])"
      ]
     },
     "execution_count": 11,
     "metadata": {},
     "output_type": "execute_result"
    }
   ],
   "source": [
    "sum([pd.isna(i)])"
   ]
  }
 ],
 "metadata": {
  "kernelspec": {
   "display_name": "Python 3",
   "language": "python",
   "name": "python3"
  },
  "language_info": {
   "codemirror_mode": {
    "name": "ipython",
    "version": 3
   },
   "file_extension": ".py",
   "mimetype": "text/x-python",
   "name": "python",
   "nbconvert_exporter": "python",
   "pygments_lexer": "ipython3",
   "version": "3.7.4"
  }
 },
 "nbformat": 4,
 "nbformat_minor": 2
}
