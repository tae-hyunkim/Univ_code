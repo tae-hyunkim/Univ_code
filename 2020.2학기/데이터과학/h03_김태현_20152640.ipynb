{
 "cells": [
  {
   "cell_type": "code",
   "execution_count": 1,
   "metadata": {},
   "outputs": [],
   "source": [
    "import torch"
   ]
  },
  {
   "cell_type": "code",
   "execution_count": 2,
   "metadata": {},
   "outputs": [],
   "source": [
    "x_train = torch.FloatTensor([[1,2,1,1],[2,1,3,2],[3,1,3,4],[4,1,5,5],[1,7,5,5],[1,2,5,6],[1,6,6,6],[1,7,7,7]])\n",
    "y_train = torch.FloatTensor([[0,0,1],[0,0,1],[0,0,1],[0,1,0],[0,1,0],[0,1,0],[1,0,0],[1,0,0]])"
   ]
  },
  {
   "cell_type": "code",
   "execution_count": 3,
   "metadata": {},
   "outputs": [
    {
     "data": {
      "text/plain": [
       "(torch.Size([8, 4]), torch.Size([8, 3]))"
      ]
     },
     "execution_count": 3,
     "metadata": {},
     "output_type": "execute_result"
    }
   ],
   "source": [
    "x_train.shape, y_train.shape"
   ]
  },
  {
   "cell_type": "code",
   "execution_count": 12,
   "metadata": {},
   "outputs": [
    {
     "name": "stdout",
     "output_type": "stream",
     "text": [
      "epoch: 0, cost: 1.098612\n",
      "epoch: 300, cost: 0.105262\n",
      "epoch: 600, cost: 0.042634\n",
      "epoch: 900, cost: 0.023111\n",
      "epoch: 1200, cost: 0.014479\n",
      "epoch: 1500, cost: 0.009879\n",
      "epoch: 1800, cost: 0.007124\n",
      "epoch: 2100, cost: 0.005338\n",
      "epoch: 2400, cost: 0.004113\n",
      "epoch: 2700, cost: 0.003236\n",
      "epoch: 3000, cost: 0.002588\n"
     ]
    }
   ],
   "source": [
    "W = torch.zeros(4,3,requires_grad = True)\n",
    "b = torch.zeros(1,3,requires_grad = True)\n",
    "\n",
    "optimizer = torch.optim.Adam([W,b],lr=0.1)\n",
    "\n",
    "for epoch in range(3001):\n",
    "    hypotesis = torch.softmax(torch.mm(x_train,W)+b, dim=1)\n",
    "    cost = -torch.mean(torch.sum(y_train*torch.log(hypotesis),dim=1))\n",
    "    \n",
    "    optimizer.zero_grad()\n",
    "    cost.backward()\n",
    "    optimizer.step()\n",
    "    \n",
    "    if epoch % 300 == 0:\n",
    "        print(\"epoch: {}, cost: {:.6f}\".format(epoch,cost.item()))"
   ]
  },
  {
   "cell_type": "code",
   "execution_count": 5,
   "metadata": {},
   "outputs": [
    {
     "name": "stdout",
     "output_type": "stream",
     "text": [
      "tensor([[1.0000e+00, 5.5163e-19, 7.0148e-38],\n",
      "        [1.4800e-02, 7.4294e-01, 2.4226e-01],\n",
      "        [1.2256e-33, 9.0835e-12, 1.0000e+00]])\n",
      "tensor([0, 1, 2])\n"
     ]
    }
   ],
   "source": [
    "W.requires_grad_(False)\n",
    "b.requires_grad_(False)\n",
    "\n",
    "x_test = torch.FloatTensor([[1,11,10,9],[1,3,4,3],[1,1,0,1]])\n",
    "test_all = torch.softmax(torch.mm(x_test,W)+b,dim=1)\n",
    "print(test_all)\n",
    "print(torch.argmax(test_all,dim=1))"
   ]
  },
  {
   "cell_type": "markdown",
   "metadata": {},
   "source": [
    "# 좀더 깔끔하게 softmax"
   ]
  },
  {
   "cell_type": "code",
   "execution_count": 6,
   "metadata": {},
   "outputs": [],
   "source": [
    "import torch.nn.functional as F"
   ]
  },
  {
   "cell_type": "code",
   "execution_count": 7,
   "metadata": {},
   "outputs": [],
   "source": [
    "new_y_train = torch.LongTensor([2,2,2,1,1,1,0,0])"
   ]
  },
  {
   "cell_type": "code",
   "execution_count": 8,
   "metadata": {},
   "outputs": [],
   "source": [
    "z = torch.mm(x_train,W) + b\n",
    "cost = F.cross_entropy(z,new_y_train)"
   ]
  },
  {
   "cell_type": "markdown",
   "metadata": {},
   "source": [
    "## 최종 코드"
   ]
  },
  {
   "cell_type": "code",
   "execution_count": 13,
   "metadata": {},
   "outputs": [
    {
     "name": "stdout",
     "output_type": "stream",
     "text": [
      "epoch: 0, cost: 1.604301\n",
      "epoch: 300, cost: 0.095328\n",
      "epoch: 600, cost: 0.038717\n",
      "epoch: 900, cost: 0.021047\n",
      "epoch: 1200, cost: 0.013211\n",
      "epoch: 1500, cost: 0.009024\n",
      "epoch: 1800, cost: 0.006513\n",
      "epoch: 2100, cost: 0.004883\n",
      "epoch: 2400, cost: 0.003764\n",
      "epoch: 2700, cost: 0.002963\n",
      "epoch: 3000, cost: 0.002370\n"
     ]
    }
   ],
   "source": [
    "import torch.nn as nn\n",
    "\n",
    "model = nn.Linear(4,3)\n",
    "optimizer = torch.optim.Adam(model.parameters(),lr=0.1)\n",
    "\n",
    "for epoch in range(3001):\n",
    "    z = model(x_train)\n",
    "    cost = F.cross_entropy(z,new_y_train)\n",
    "    \n",
    "    optimizer.zero_grad()\n",
    "    cost.backward()\n",
    "    optimizer.step()\n",
    "    \n",
    "    if epoch % 300 == 0:\n",
    "        print(\"epoch: {}, cost: {:.6f}\".format(epoch,cost.item()))"
   ]
  },
  {
   "cell_type": "code",
   "execution_count": 36,
   "metadata": {},
   "outputs": [
    {
     "name": "stdout",
     "output_type": "stream",
     "text": [
      "tensor([[1.0000e+00, 2.9982e-17, 4.3590e-35],\n",
      "        [9.4510e-04, 8.1855e-01, 1.8051e-01],\n",
      "        [5.8326e-31, 5.5921e-11, 1.0000e+00]], grad_fn=<SoftmaxBackward>)\n",
      "tensor([0, 1, 2])\n"
     ]
    }
   ],
   "source": [
    "x_test = torch.FloatTensor([[1,11,10,9],[1,3,4,3],[1,1,0,1]])\n",
    "test_all = model(x_test)\n",
    "print(torch.softmax(test_all,dim=1))\n",
    "print(torch.argmax(test_all,dim=1))"
   ]
  }
 ],
 "metadata": {
  "kernelspec": {
   "display_name": "Python 3",
   "language": "python",
   "name": "python3"
  },
  "language_info": {
   "codemirror_mode": {
    "name": "ipython",
    "version": 3
   },
   "file_extension": ".py",
   "mimetype": "text/x-python",
   "name": "python",
   "nbconvert_exporter": "python",
   "pygments_lexer": "ipython3",
   "version": "3.7.4"
  }
 },
 "nbformat": 4,
 "nbformat_minor": 2
}
