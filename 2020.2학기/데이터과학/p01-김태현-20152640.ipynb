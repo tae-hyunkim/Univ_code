{
 "cells": [
  {
   "cell_type": "code",
   "execution_count": 100,
   "metadata": {},
   "outputs": [],
   "source": [
    "import pandas as pd\n",
    "import numpy as np\n",
    "import torch\n",
    "import matplotlib.pyplot as plt"
   ]
  },
  {
   "cell_type": "markdown",
   "metadata": {},
   "source": [
    "## Task 1-1 data 불러오기"
   ]
  },
  {
   "cell_type": "code",
   "execution_count": 4,
   "metadata": {},
   "outputs": [
    {
     "data": {
      "text/html": [
       "<div>\n",
       "<style scoped>\n",
       "    .dataframe tbody tr th:only-of-type {\n",
       "        vertical-align: middle;\n",
       "    }\n",
       "\n",
       "    .dataframe tbody tr th {\n",
       "        vertical-align: top;\n",
       "    }\n",
       "\n",
       "    .dataframe thead th {\n",
       "        text-align: right;\n",
       "    }\n",
       "</style>\n",
       "<table border=\"1\" class=\"dataframe\">\n",
       "  <thead>\n",
       "    <tr style=\"text-align: right;\">\n",
       "      <th></th>\n",
       "      <th>ID</th>\n",
       "      <th>최종가중치</th>\n",
       "      <th>학교ID</th>\n",
       "      <th>도시규모</th>\n",
       "      <th>도시규모별분석용</th>\n",
       "      <th>학년도</th>\n",
       "      <th>광역시도</th>\n",
       "      <th>시도별</th>\n",
       "      <th>학교급별</th>\n",
       "      <th>학교명</th>\n",
       "      <th>...</th>\n",
       "      <th>키</th>\n",
       "      <th>몸무게</th>\n",
       "      <th>혈당식전mgdl</th>\n",
       "      <th>총콜레스테롤mgdl</th>\n",
       "      <th>ASTUL</th>\n",
       "      <th>ALTUL</th>\n",
       "      <th>혈색소gdl</th>\n",
       "      <th>간염검사</th>\n",
       "      <th>수축기</th>\n",
       "      <th>이완기</th>\n",
       "    </tr>\n",
       "  </thead>\n",
       "  <tbody>\n",
       "    <tr>\n",
       "      <td>0</td>\n",
       "      <td>Aa011남10101</td>\n",
       "      <td>169.550665</td>\n",
       "      <td>Aa01</td>\n",
       "      <td>대도시/중소도시</td>\n",
       "      <td>특별/광역시</td>\n",
       "      <td>2015</td>\n",
       "      <td>서울</td>\n",
       "      <td>서울특별시교육청</td>\n",
       "      <td>1</td>\n",
       "      <td>서울대도초등학교</td>\n",
       "      <td>...</td>\n",
       "      <td>125.8</td>\n",
       "      <td>27.3</td>\n",
       "      <td>NaN</td>\n",
       "      <td>NaN</td>\n",
       "      <td>NaN</td>\n",
       "      <td>NaN</td>\n",
       "      <td>NaN</td>\n",
       "      <td>NaN</td>\n",
       "      <td>77.0</td>\n",
       "      <td>58.0</td>\n",
       "    </tr>\n",
       "    <tr>\n",
       "      <td>1</td>\n",
       "      <td>Aa011남10102</td>\n",
       "      <td>169.550665</td>\n",
       "      <td>Aa01</td>\n",
       "      <td>대도시/중소도시</td>\n",
       "      <td>특별/광역시</td>\n",
       "      <td>2015</td>\n",
       "      <td>서울</td>\n",
       "      <td>서울특별시교육청</td>\n",
       "      <td>1</td>\n",
       "      <td>서울대도초등학교</td>\n",
       "      <td>...</td>\n",
       "      <td>124.3</td>\n",
       "      <td>25.4</td>\n",
       "      <td>NaN</td>\n",
       "      <td>NaN</td>\n",
       "      <td>NaN</td>\n",
       "      <td>NaN</td>\n",
       "      <td>NaN</td>\n",
       "      <td>NaN</td>\n",
       "      <td>83.0</td>\n",
       "      <td>51.0</td>\n",
       "    </tr>\n",
       "    <tr>\n",
       "      <td>2</td>\n",
       "      <td>Aa011남10103</td>\n",
       "      <td>169.550665</td>\n",
       "      <td>Aa01</td>\n",
       "      <td>대도시/중소도시</td>\n",
       "      <td>특별/광역시</td>\n",
       "      <td>2015</td>\n",
       "      <td>서울</td>\n",
       "      <td>서울특별시교육청</td>\n",
       "      <td>1</td>\n",
       "      <td>서울대도초등학교</td>\n",
       "      <td>...</td>\n",
       "      <td>119.2</td>\n",
       "      <td>23.5</td>\n",
       "      <td>NaN</td>\n",
       "      <td>NaN</td>\n",
       "      <td>NaN</td>\n",
       "      <td>NaN</td>\n",
       "      <td>NaN</td>\n",
       "      <td>NaN</td>\n",
       "      <td>103.0</td>\n",
       "      <td>65.0</td>\n",
       "    </tr>\n",
       "    <tr>\n",
       "      <td>3</td>\n",
       "      <td>Aa011남10104</td>\n",
       "      <td>169.550665</td>\n",
       "      <td>Aa01</td>\n",
       "      <td>대도시/중소도시</td>\n",
       "      <td>특별/광역시</td>\n",
       "      <td>2015</td>\n",
       "      <td>서울</td>\n",
       "      <td>서울특별시교육청</td>\n",
       "      <td>1</td>\n",
       "      <td>서울대도초등학교</td>\n",
       "      <td>...</td>\n",
       "      <td>115.0</td>\n",
       "      <td>20.0</td>\n",
       "      <td>NaN</td>\n",
       "      <td>NaN</td>\n",
       "      <td>NaN</td>\n",
       "      <td>NaN</td>\n",
       "      <td>NaN</td>\n",
       "      <td>NaN</td>\n",
       "      <td>92.0</td>\n",
       "      <td>66.0</td>\n",
       "    </tr>\n",
       "    <tr>\n",
       "      <td>4</td>\n",
       "      <td>Aa011남10105</td>\n",
       "      <td>169.550665</td>\n",
       "      <td>Aa01</td>\n",
       "      <td>대도시/중소도시</td>\n",
       "      <td>특별/광역시</td>\n",
       "      <td>2015</td>\n",
       "      <td>서울</td>\n",
       "      <td>서울특별시교육청</td>\n",
       "      <td>1</td>\n",
       "      <td>서울대도초등학교</td>\n",
       "      <td>...</td>\n",
       "      <td>120.0</td>\n",
       "      <td>33.5</td>\n",
       "      <td>NaN</td>\n",
       "      <td>NaN</td>\n",
       "      <td>NaN</td>\n",
       "      <td>NaN</td>\n",
       "      <td>NaN</td>\n",
       "      <td>NaN</td>\n",
       "      <td>102.0</td>\n",
       "      <td>59.0</td>\n",
       "    </tr>\n",
       "  </tbody>\n",
       "</table>\n",
       "<p>5 rows × 25 columns</p>\n",
       "</div>"
      ],
      "text/plain": [
       "            ID       최종가중치  학교ID      도시규모 도시규모별분석용   학년도 광역시도       시도별  \\\n",
       "0  Aa011남10101  169.550665  Aa01  대도시/중소도시   특별/광역시  2015   서울  서울특별시교육청   \n",
       "1  Aa011남10102  169.550665  Aa01  대도시/중소도시   특별/광역시  2015   서울  서울특별시교육청   \n",
       "2  Aa011남10103  169.550665  Aa01  대도시/중소도시   특별/광역시  2015   서울  서울특별시교육청   \n",
       "3  Aa011남10104  169.550665  Aa01  대도시/중소도시   특별/광역시  2015   서울  서울특별시교육청   \n",
       "4  Aa011남10105  169.550665  Aa01  대도시/중소도시   특별/광역시  2015   서울  서울특별시교육청   \n",
       "\n",
       "   학교급별       학교명  ...      키   몸무게  혈당식전mgdl 총콜레스테롤mgdl ASTUL  ALTUL  혈색소gdl  \\\n",
       "0     1  서울대도초등학교  ...  125.8  27.3       NaN        NaN   NaN    NaN     NaN   \n",
       "1     1  서울대도초등학교  ...  124.3  25.4       NaN        NaN   NaN    NaN     NaN   \n",
       "2     1  서울대도초등학교  ...  119.2  23.5       NaN        NaN   NaN    NaN     NaN   \n",
       "3     1  서울대도초등학교  ...  115.0  20.0       NaN        NaN   NaN    NaN     NaN   \n",
       "4     1  서울대도초등학교  ...  120.0  33.5       NaN        NaN   NaN    NaN     NaN   \n",
       "\n",
       "   간염검사    수축기   이완기  \n",
       "0   NaN   77.0  58.0  \n",
       "1   NaN   83.0  51.0  \n",
       "2   NaN  103.0  65.0  \n",
       "3   NaN   92.0  66.0  \n",
       "4   NaN  102.0  59.0  \n",
       "\n",
       "[5 rows x 25 columns]"
      ]
     },
     "execution_count": 4,
     "metadata": {},
     "output_type": "execute_result"
    }
   ],
   "source": [
    "data = pd.read_csv('./p01_input.csv',encoding='cp949')\n",
    "data.head()"
   ]
  },
  {
   "cell_type": "markdown",
   "metadata": {},
   "source": [
    "## Task 1-2 데이터 중에서 키와 몸무게 데이터만 골라내기"
   ]
  },
  {
   "cell_type": "code",
   "execution_count": 6,
   "metadata": {},
   "outputs": [
    {
     "data": {
      "text/html": [
       "<div>\n",
       "<style scoped>\n",
       "    .dataframe tbody tr th:only-of-type {\n",
       "        vertical-align: middle;\n",
       "    }\n",
       "\n",
       "    .dataframe tbody tr th {\n",
       "        vertical-align: top;\n",
       "    }\n",
       "\n",
       "    .dataframe thead th {\n",
       "        text-align: right;\n",
       "    }\n",
       "</style>\n",
       "<table border=\"1\" class=\"dataframe\">\n",
       "  <thead>\n",
       "    <tr style=\"text-align: right;\">\n",
       "      <th></th>\n",
       "      <th>키</th>\n",
       "      <th>몸무게</th>\n",
       "    </tr>\n",
       "  </thead>\n",
       "  <tbody>\n",
       "    <tr>\n",
       "      <td>0</td>\n",
       "      <td>125.8</td>\n",
       "      <td>27.3</td>\n",
       "    </tr>\n",
       "    <tr>\n",
       "      <td>1</td>\n",
       "      <td>124.3</td>\n",
       "      <td>25.4</td>\n",
       "    </tr>\n",
       "    <tr>\n",
       "      <td>2</td>\n",
       "      <td>119.2</td>\n",
       "      <td>23.5</td>\n",
       "    </tr>\n",
       "    <tr>\n",
       "      <td>3</td>\n",
       "      <td>115.0</td>\n",
       "      <td>20.0</td>\n",
       "    </tr>\n",
       "    <tr>\n",
       "      <td>4</td>\n",
       "      <td>120.0</td>\n",
       "      <td>33.5</td>\n",
       "    </tr>\n",
       "  </tbody>\n",
       "</table>\n",
       "</div>"
      ],
      "text/plain": [
       "       키   몸무게\n",
       "0  125.8  27.3\n",
       "1  124.3  25.4\n",
       "2  119.2  23.5\n",
       "3  115.0  20.0\n",
       "4  120.0  33.5"
      ]
     },
     "execution_count": 6,
     "metadata": {},
     "output_type": "execute_result"
    }
   ],
   "source": [
    "student_data = data.loc[:,['키','몸무게']]\n",
    "student_data.head()"
   ]
  },
  {
   "cell_type": "markdown",
   "metadata": {},
   "source": [
    "## Task 2 학생들의 평균 키와 평균 몸무게 구하기"
   ]
  },
  {
   "cell_type": "code",
   "execution_count": 7,
   "metadata": {},
   "outputs": [
    {
     "data": {
      "text/plain": [
       "키      154.564444\n",
       "몸무게     50.207591\n",
       "dtype: float64"
      ]
     },
     "execution_count": 7,
     "metadata": {},
     "output_type": "execute_result"
    }
   ],
   "source": [
    "student_data.mean()"
   ]
  },
  {
   "cell_type": "code",
   "execution_count": 43,
   "metadata": {},
   "outputs": [
    {
     "data": {
      "text/plain": [
       "키      0\n",
       "몸무게    4\n",
       "dtype: int64"
      ]
     },
     "execution_count": 43,
     "metadata": {},
     "output_type": "execute_result"
    }
   ],
   "source": [
    "student_data.isna().sum()"
   ]
  },
  {
   "cell_type": "code",
   "execution_count": 45,
   "metadata": {},
   "outputs": [],
   "source": [
    "# 몸무게에 Null 값이 있기 때문에 Null 값 있는 데이터 제거\n",
    "student_data = student_data.dropna(how='any')"
   ]
  },
  {
   "cell_type": "code",
   "execution_count": 77,
   "metadata": {},
   "outputs": [
    {
     "data": {
      "text/plain": [
       "키      0\n",
       "몸무게    0\n",
       "dtype: int64"
      ]
     },
     "execution_count": 77,
     "metadata": {},
     "output_type": "execute_result"
    }
   ],
   "source": [
    "student_data.isna().sum()"
   ]
  },
  {
   "cell_type": "markdown",
   "metadata": {},
   "source": [
    "## Task 3 키와 몸무게 사이의 상관관계 (피어슨 상관계수) 구하기"
   ]
  },
  {
   "cell_type": "code",
   "execution_count": 46,
   "metadata": {},
   "outputs": [
    {
     "data": {
      "text/html": [
       "<div>\n",
       "<style scoped>\n",
       "    .dataframe tbody tr th:only-of-type {\n",
       "        vertical-align: middle;\n",
       "    }\n",
       "\n",
       "    .dataframe tbody tr th {\n",
       "        vertical-align: top;\n",
       "    }\n",
       "\n",
       "    .dataframe thead th {\n",
       "        text-align: right;\n",
       "    }\n",
       "</style>\n",
       "<table border=\"1\" class=\"dataframe\">\n",
       "  <thead>\n",
       "    <tr style=\"text-align: right;\">\n",
       "      <th></th>\n",
       "      <th>키</th>\n",
       "      <th>몸무게</th>\n",
       "    </tr>\n",
       "  </thead>\n",
       "  <tbody>\n",
       "    <tr>\n",
       "      <td>키</td>\n",
       "      <td>1.000000</td>\n",
       "      <td>0.849006</td>\n",
       "    </tr>\n",
       "    <tr>\n",
       "      <td>몸무게</td>\n",
       "      <td>0.849006</td>\n",
       "      <td>1.000000</td>\n",
       "    </tr>\n",
       "  </tbody>\n",
       "</table>\n",
       "</div>"
      ],
      "text/plain": [
       "            키       몸무게\n",
       "키    1.000000  0.849006\n",
       "몸무게  0.849006  1.000000"
      ]
     },
     "execution_count": 46,
     "metadata": {},
     "output_type": "execute_result"
    }
   ],
   "source": [
    "student_data.corr(method='pearson')"
   ]
  },
  {
   "cell_type": "markdown",
   "metadata": {},
   "source": [
    "## Task 4 Linear Regression을 사용하여 키와 몸무게 사이의 선형 관계를 찾기 (y = wx + b 에서 w와 b값 찾기)"
   ]
  },
  {
   "cell_type": "code",
   "execution_count": 47,
   "metadata": {},
   "outputs": [],
   "source": [
    "# tensor변환\n",
    "height = torch.FloatTensor(student_data['키'])\n",
    "weight = torch.FloatTensor(student_data['몸무게'])"
   ]
  },
  {
   "cell_type": "code",
   "execution_count": 48,
   "metadata": {},
   "outputs": [],
   "source": [
    "# shape 변환\n",
    "height = torch.reshape(height,(-1,1))\n",
    "weight = torch.reshape(weight,(-1,1))"
   ]
  },
  {
   "cell_type": "code",
   "execution_count": 49,
   "metadata": {},
   "outputs": [
    {
     "data": {
      "text/plain": [
       "(torch.Size([9682, 1]), torch.Size([9682, 1]))"
      ]
     },
     "execution_count": 49,
     "metadata": {},
     "output_type": "execute_result"
    }
   ],
   "source": [
    "# shape 확인\n",
    "height.shape, weight.shape"
   ]
  },
  {
   "cell_type": "markdown",
   "metadata": {},
   "source": [
    "## Task 4-1 가설, 비용 설정하기"
   ]
  },
  {
   "cell_type": "code",
   "execution_count": 79,
   "metadata": {},
   "outputs": [],
   "source": [
    "W = torch.zeros(1,1)\n",
    "b = torch.zeros(1,1)\n",
    "\n",
    "hypothesis = torch.mm(height, W) + b\n",
    "\n",
    "cost = torch.mean((hypothesis - weight)**2)"
   ]
  },
  {
   "cell_type": "code",
   "execution_count": 83,
   "metadata": {},
   "outputs": [
    {
     "data": {
      "text/plain": [
       "tensor([[0.],\n",
       "        [0.],\n",
       "        [0.],\n",
       "        ...,\n",
       "        [0.],\n",
       "        [0.],\n",
       "        [0.]])"
      ]
     },
     "execution_count": 83,
     "metadata": {},
     "output_type": "execute_result"
    }
   ],
   "source": [
    "height * W +b"
   ]
  },
  {
   "cell_type": "code",
   "execution_count": 80,
   "metadata": {},
   "outputs": [
    {
     "data": {
      "text/plain": [
       "tensor([[0.],\n",
       "        [0.],\n",
       "        [0.],\n",
       "        ...,\n",
       "        [0.],\n",
       "        [0.],\n",
       "        [0.]])"
      ]
     },
     "execution_count": 80,
     "metadata": {},
     "output_type": "execute_result"
    }
   ],
   "source": [
    "hypothesis"
   ]
  },
  {
   "cell_type": "markdown",
   "metadata": {},
   "source": [
    "## Task 4-2 경사하강법으로 비용을 최소로 만들도록 학습하기"
   ]
  },
  {
   "cell_type": "code",
   "execution_count": 90,
   "metadata": {},
   "outputs": [
    {
     "name": "stdout",
     "output_type": "stream",
     "text": [
      "epoch : 0, cost : 2812.3603515625, W : tensor([[160.1270]]), b : tensor([[1.0042]])\n",
      "epoch : 10, cost : inf, W : tensor([[1.0947e+29]]), b : tensor([[6.9983e+26]])\n",
      "epoch : 20, cost : nan, W : tensor([[nan]]), b : tensor([[nan]])\n",
      "epoch : 30, cost : nan, W : tensor([[nan]]), b : tensor([[nan]])\n",
      "epoch : 40, cost : nan, W : tensor([[nan]]), b : tensor([[nan]])\n",
      "epoch : 50, cost : nan, W : tensor([[nan]]), b : tensor([[nan]])\n",
      "epoch : 60, cost : nan, W : tensor([[nan]]), b : tensor([[nan]])\n",
      "epoch : 70, cost : nan, W : tensor([[nan]]), b : tensor([[nan]])\n",
      "epoch : 80, cost : nan, W : tensor([[nan]]), b : tensor([[nan]])\n",
      "epoch : 90, cost : nan, W : tensor([[nan]]), b : tensor([[nan]])\n",
      "epoch : 100, cost : nan, W : tensor([[nan]]), b : tensor([[nan]])\n",
      "epoch : 110, cost : nan, W : tensor([[nan]]), b : tensor([[nan]])\n",
      "epoch : 120, cost : nan, W : tensor([[nan]]), b : tensor([[nan]])\n",
      "epoch : 130, cost : nan, W : tensor([[nan]]), b : tensor([[nan]])\n",
      "epoch : 140, cost : nan, W : tensor([[nan]]), b : tensor([[nan]])\n",
      "epoch : 150, cost : nan, W : tensor([[nan]]), b : tensor([[nan]])\n",
      "epoch : 160, cost : nan, W : tensor([[nan]]), b : tensor([[nan]])\n",
      "epoch : 170, cost : nan, W : tensor([[nan]]), b : tensor([[nan]])\n",
      "epoch : 180, cost : nan, W : tensor([[nan]]), b : tensor([[nan]])\n",
      "epoch : 190, cost : nan, W : tensor([[nan]]), b : tensor([[nan]])\n",
      "epoch : 200, cost : nan, W : tensor([[nan]]), b : tensor([[nan]])\n",
      "epoch : 210, cost : nan, W : tensor([[nan]]), b : tensor([[nan]])\n",
      "epoch : 220, cost : nan, W : tensor([[nan]]), b : tensor([[nan]])\n",
      "epoch : 230, cost : nan, W : tensor([[nan]]), b : tensor([[nan]])\n",
      "epoch : 240, cost : nan, W : tensor([[nan]]), b : tensor([[nan]])\n",
      "epoch : 250, cost : nan, W : tensor([[nan]]), b : tensor([[nan]])\n",
      "epoch : 260, cost : nan, W : tensor([[nan]]), b : tensor([[nan]])\n",
      "epoch : 270, cost : nan, W : tensor([[nan]]), b : tensor([[nan]])\n",
      "epoch : 280, cost : nan, W : tensor([[nan]]), b : tensor([[nan]])\n",
      "epoch : 290, cost : nan, W : tensor([[nan]]), b : tensor([[nan]])\n",
      "epoch : 300, cost : nan, W : tensor([[nan]]), b : tensor([[nan]])\n",
      "epoch : 310, cost : nan, W : tensor([[nan]]), b : tensor([[nan]])\n",
      "epoch : 320, cost : nan, W : tensor([[nan]]), b : tensor([[nan]])\n",
      "epoch : 330, cost : nan, W : tensor([[nan]]), b : tensor([[nan]])\n",
      "epoch : 340, cost : nan, W : tensor([[nan]]), b : tensor([[nan]])\n",
      "epoch : 350, cost : nan, W : tensor([[nan]]), b : tensor([[nan]])\n",
      "epoch : 360, cost : nan, W : tensor([[nan]]), b : tensor([[nan]])\n",
      "epoch : 370, cost : nan, W : tensor([[nan]]), b : tensor([[nan]])\n",
      "epoch : 380, cost : nan, W : tensor([[nan]]), b : tensor([[nan]])\n",
      "epoch : 390, cost : nan, W : tensor([[nan]]), b : tensor([[nan]])\n",
      "epoch : 400, cost : nan, W : tensor([[nan]]), b : tensor([[nan]])\n",
      "epoch : 410, cost : nan, W : tensor([[nan]]), b : tensor([[nan]])\n",
      "epoch : 420, cost : nan, W : tensor([[nan]]), b : tensor([[nan]])\n",
      "epoch : 430, cost : nan, W : tensor([[nan]]), b : tensor([[nan]])\n",
      "epoch : 440, cost : nan, W : tensor([[nan]]), b : tensor([[nan]])\n",
      "epoch : 450, cost : nan, W : tensor([[nan]]), b : tensor([[nan]])\n",
      "epoch : 460, cost : nan, W : tensor([[nan]]), b : tensor([[nan]])\n",
      "epoch : 470, cost : nan, W : tensor([[nan]]), b : tensor([[nan]])\n",
      "epoch : 480, cost : nan, W : tensor([[nan]]), b : tensor([[nan]])\n",
      "epoch : 490, cost : nan, W : tensor([[nan]]), b : tensor([[nan]])\n",
      "epoch : 500, cost : nan, W : tensor([[nan]]), b : tensor([[nan]])\n",
      "epoch : 510, cost : nan, W : tensor([[nan]]), b : tensor([[nan]])\n",
      "epoch : 520, cost : nan, W : tensor([[nan]]), b : tensor([[nan]])\n",
      "epoch : 530, cost : nan, W : tensor([[nan]]), b : tensor([[nan]])\n",
      "epoch : 540, cost : nan, W : tensor([[nan]]), b : tensor([[nan]])\n",
      "epoch : 550, cost : nan, W : tensor([[nan]]), b : tensor([[nan]])\n",
      "epoch : 560, cost : nan, W : tensor([[nan]]), b : tensor([[nan]])\n",
      "epoch : 570, cost : nan, W : tensor([[nan]]), b : tensor([[nan]])\n",
      "epoch : 580, cost : nan, W : tensor([[nan]]), b : tensor([[nan]])\n",
      "epoch : 590, cost : nan, W : tensor([[nan]]), b : tensor([[nan]])\n",
      "epoch : 600, cost : nan, W : tensor([[nan]]), b : tensor([[nan]])\n",
      "epoch : 610, cost : nan, W : tensor([[nan]]), b : tensor([[nan]])\n",
      "epoch : 620, cost : nan, W : tensor([[nan]]), b : tensor([[nan]])\n",
      "epoch : 630, cost : nan, W : tensor([[nan]]), b : tensor([[nan]])\n",
      "epoch : 640, cost : nan, W : tensor([[nan]]), b : tensor([[nan]])\n",
      "epoch : 650, cost : nan, W : tensor([[nan]]), b : tensor([[nan]])\n",
      "epoch : 660, cost : nan, W : tensor([[nan]]), b : tensor([[nan]])\n",
      "epoch : 670, cost : nan, W : tensor([[nan]]), b : tensor([[nan]])\n",
      "epoch : 680, cost : nan, W : tensor([[nan]]), b : tensor([[nan]])\n",
      "epoch : 690, cost : nan, W : tensor([[nan]]), b : tensor([[nan]])\n",
      "epoch : 700, cost : nan, W : tensor([[nan]]), b : tensor([[nan]])\n",
      "epoch : 710, cost : nan, W : tensor([[nan]]), b : tensor([[nan]])\n",
      "epoch : 720, cost : nan, W : tensor([[nan]]), b : tensor([[nan]])\n",
      "epoch : 730, cost : nan, W : tensor([[nan]]), b : tensor([[nan]])\n",
      "epoch : 740, cost : nan, W : tensor([[nan]]), b : tensor([[nan]])\n",
      "epoch : 750, cost : nan, W : tensor([[nan]]), b : tensor([[nan]])\n",
      "epoch : 760, cost : nan, W : tensor([[nan]]), b : tensor([[nan]])\n",
      "epoch : 770, cost : nan, W : tensor([[nan]]), b : tensor([[nan]])\n",
      "epoch : 780, cost : nan, W : tensor([[nan]]), b : tensor([[nan]])\n",
      "epoch : 790, cost : nan, W : tensor([[nan]]), b : tensor([[nan]])\n",
      "epoch : 800, cost : nan, W : tensor([[nan]]), b : tensor([[nan]])\n",
      "epoch : 810, cost : nan, W : tensor([[nan]]), b : tensor([[nan]])\n",
      "epoch : 820, cost : nan, W : tensor([[nan]]), b : tensor([[nan]])\n",
      "epoch : 830, cost : nan, W : tensor([[nan]]), b : tensor([[nan]])\n",
      "epoch : 840, cost : nan, W : tensor([[nan]]), b : tensor([[nan]])\n",
      "epoch : 850, cost : nan, W : tensor([[nan]]), b : tensor([[nan]])\n",
      "epoch : 860, cost : nan, W : tensor([[nan]]), b : tensor([[nan]])\n",
      "epoch : 870, cost : nan, W : tensor([[nan]]), b : tensor([[nan]])\n",
      "epoch : 880, cost : nan, W : tensor([[nan]]), b : tensor([[nan]])\n",
      "epoch : 890, cost : nan, W : tensor([[nan]]), b : tensor([[nan]])\n",
      "epoch : 900, cost : nan, W : tensor([[nan]]), b : tensor([[nan]])\n",
      "epoch : 910, cost : nan, W : tensor([[nan]]), b : tensor([[nan]])\n",
      "epoch : 920, cost : nan, W : tensor([[nan]]), b : tensor([[nan]])\n",
      "epoch : 930, cost : nan, W : tensor([[nan]]), b : tensor([[nan]])\n",
      "epoch : 940, cost : nan, W : tensor([[nan]]), b : tensor([[nan]])\n",
      "epoch : 950, cost : nan, W : tensor([[nan]]), b : tensor([[nan]])\n",
      "epoch : 960, cost : nan, W : tensor([[nan]]), b : tensor([[nan]])\n",
      "epoch : 970, cost : nan, W : tensor([[nan]]), b : tensor([[nan]])\n",
      "epoch : 980, cost : nan, W : tensor([[nan]]), b : tensor([[nan]])\n",
      "epoch : 990, cost : nan, W : tensor([[nan]]), b : tensor([[nan]])\n",
      "epoch : 1000, cost : nan, W : tensor([[nan]]), b : tensor([[nan]])\n"
     ]
    }
   ],
   "source": [
    "lr = 0.01\n",
    "W = torch.zeros(1,1)\n",
    "b = torch.zeros(1,1)\n",
    "\n",
    "    \n",
    "for epoch in range(1001):\n",
    "    W.requires_grad_(True)\n",
    "    b.requires_grad_(True)\n",
    "\n",
    "    hypothesis = torch.mm(height, W) + b\n",
    "\n",
    "    cost = torch.mean((hypothesis - weight)**2)\n",
    "    \n",
    "    cost.backward()\n",
    "    \n",
    "    with torch.no_grad():\n",
    "        W = W - lr*W.grad\n",
    "        b = b - lr*b.grad\n",
    "        \n",
    "    if epoch % 10 == 0:\n",
    "        print(\"epoch : {}, cost : {}, W : {}, b : {}\".format(epoch,cost,W,b))"
   ]
  },
  {
   "cell_type": "markdown",
   "metadata": {},
   "source": [
    "### 학습이 안되기 때문에 키의 값을 m단위로 변환해서 작업"
   ]
  },
  {
   "cell_type": "code",
   "execution_count": 112,
   "metadata": {},
   "outputs": [
    {
     "data": {
      "text/plain": [
       "tensor([[1.2580],\n",
       "        [1.2430],\n",
       "        [1.1920],\n",
       "        ...,\n",
       "        [1.6950],\n",
       "        [1.5920],\n",
       "        [1.6200]])"
      ]
     },
     "execution_count": 112,
     "metadata": {},
     "output_type": "execute_result"
    }
   ],
   "source": [
    "height = torch.FloatTensor(student_data['키']/100)\n",
    "weight = torch.FloatTensor(student_data['몸무게'])\n",
    "\n",
    "height = torch.reshape(height,(-1,1))\n",
    "weight = torch.reshape(weight,(-1,1))\n",
    "\n",
    "height"
   ]
  },
  {
   "cell_type": "code",
   "execution_count": 97,
   "metadata": {},
   "outputs": [
    {
     "name": "stdout",
     "output_type": "stream",
     "text": [
      "epoch : 0, cost : 2812.3603515625, W : tensor([[16.0127]]), b : tensor([[10.0415]])\n",
      "epoch : 100, cost : 161.0576629638672, W : tensor([[33.0777]]), b : tensor([[-0.2297]])\n",
      "epoch : 200, cost : 138.2012939453125, W : tensor([[41.2209]]), b : tensor([[-12.9234]])\n",
      "epoch : 300, cost : 121.90314483642578, W : tensor([[48.0973]]), b : tensor([[-23.6425]])\n",
      "epoch : 400, cost : 110.28142547607422, W : tensor([[53.9040]]), b : tensor([[-32.6940]])\n",
      "epoch : 500, cost : 101.99437713623047, W : tensor([[58.8073]]), b : tensor([[-40.3374]])\n",
      "epoch : 600, cost : 96.08512878417969, W : tensor([[62.9479]]), b : tensor([[-46.7917]])\n",
      "epoch : 700, cost : 91.87145233154297, W : tensor([[66.4443]]), b : tensor([[-52.2420]])\n",
      "epoch : 800, cost : 88.86680603027344, W : tensor([[69.3968]]), b : tensor([[-56.8444]])\n",
      "epoch : 900, cost : 86.72431182861328, W : tensor([[71.8899]]), b : tensor([[-60.7308]])\n",
      "epoch : 1000, cost : 85.19654846191406, W : tensor([[73.9953]]), b : tensor([[-64.0126]])\n",
      "epoch : 1100, cost : 84.10713195800781, W : tensor([[75.7731]]), b : tensor([[-66.7838]])\n",
      "epoch : 1200, cost : 83.33032989501953, W : tensor([[77.2743]]), b : tensor([[-69.1240]])\n",
      "epoch : 1300, cost : 82.77640533447266, W : tensor([[78.5420]]), b : tensor([[-71.1001]])\n",
      "epoch : 1400, cost : 82.38143157958984, W : tensor([[79.6125]]), b : tensor([[-72.7688]])\n",
      "epoch : 1500, cost : 82.09978485107422, W : tensor([[80.5164]]), b : tensor([[-74.1779]])\n",
      "epoch : 1600, cost : 81.89893341064453, W : tensor([[81.2798]]), b : tensor([[-75.3678]])\n",
      "epoch : 1700, cost : 81.75572204589844, W : tensor([[81.9243]]), b : tensor([[-76.3725]])\n",
      "epoch : 1800, cost : 81.65361022949219, W : tensor([[82.4687]]), b : tensor([[-77.2210]])\n",
      "epoch : 1900, cost : 81.58080291748047, W : tensor([[82.9283]]), b : tensor([[-77.9375]])\n",
      "epoch : 2000, cost : 81.52886199951172, W : tensor([[83.3164]]), b : tensor([[-78.5426]])\n",
      "epoch : 2100, cost : 81.49182891845703, W : tensor([[83.6442]]), b : tensor([[-79.0535]])\n",
      "epoch : 2200, cost : 81.4654541015625, W : tensor([[83.9210]]), b : tensor([[-79.4849]])\n",
      "epoch : 2300, cost : 81.44660949707031, W : tensor([[84.1547]]), b : tensor([[-79.8493]])\n",
      "epoch : 2400, cost : 81.43318176269531, W : tensor([[84.3521]]), b : tensor([[-80.1569]])\n",
      "epoch : 2500, cost : 81.4236068725586, W : tensor([[84.5187]]), b : tensor([[-80.4167]])\n",
      "epoch : 2600, cost : 81.41679382324219, W : tensor([[84.6594]]), b : tensor([[-80.6360]])\n",
      "epoch : 2700, cost : 81.41191864013672, W : tensor([[84.7782]]), b : tensor([[-80.8213]])\n",
      "epoch : 2800, cost : 81.40845489501953, W : tensor([[84.8786]]), b : tensor([[-80.9776]])\n",
      "epoch : 2900, cost : 81.40597534179688, W : tensor([[84.9633]]), b : tensor([[-81.1097]])\n",
      "epoch : 3000, cost : 81.40418243408203, W : tensor([[85.0348]]), b : tensor([[-81.2212]])\n"
     ]
    }
   ],
   "source": [
    "lr = 0.1\n",
    "W = torch.zeros(1,1)\n",
    "b = torch.zeros(1,1)\n",
    "\n",
    "    \n",
    "for epoch in range(3001):\n",
    "    W.requires_grad_(True)\n",
    "    b.requires_grad_(True)\n",
    "\n",
    "    hypothesis = torch.mm(height, W) + b\n",
    "\n",
    "    cost = torch.mean((hypothesis - weight)**2)\n",
    "    \n",
    "    cost.backward()\n",
    "    \n",
    "    with torch.no_grad():\n",
    "        W = W - lr*W.grad\n",
    "        b = b - lr*b.grad\n",
    "        \n",
    "    if epoch % 100 == 0:\n",
    "        print(\"epoch : {}, cost : {}, W : {}, b : {}\".format(epoch,cost,W,b))"
   ]
  },
  {
   "cell_type": "markdown",
   "metadata": {},
   "source": [
    "## Task 5 Matplotlib을 사용하여 좌표평면상에 입력값 과 구한 직선을 그려보기"
   ]
  },
  {
   "cell_type": "markdown",
   "metadata": {},
   "source": [
    "## Task 5-1 입력값을 산포도로 그리기 (x축은 키, y축은 몸무게)"
   ]
  },
  {
   "cell_type": "code",
   "execution_count": 102,
   "metadata": {},
   "outputs": [
    {
     "data": {
      "text/plain": [
       "<matplotlib.collections.PathCollection at 0x26b5010dd88>"
      ]
     },
     "execution_count": 102,
     "metadata": {},
     "output_type": "execute_result"
    },
    {
     "data": {
      "image/png": "[encoded data removed]",
      "text/plain": [
       "<Figure size 432x288 with 1 Axes>"
      ]
     },
     "metadata": {
      "needs_background": "light"
     },
     "output_type": "display_data"
    }
   ],
   "source": [
    "plt.scatter(student_data['키'],student_data['몸무게'])"
   ]
  },
  {
   "cell_type": "markdown",
   "metadata": {},
   "source": [
    "## Task 5-2 w와 b값을 이용하여 직선 그리기 "
   ]
  },
  {
   "cell_type": "code",
   "execution_count": 109,
   "metadata": {},
   "outputs": [],
   "source": [
    "# 최소 키값보다 작은 키값 입력 이때 키의 기준을 m로 바꿧음을 유의 \n",
    "# 최대키보다 큰 값을 입력 \n",
    "x_test = torch.FloatTensor([[1.],[2.]])"
   ]
  },
  {
   "cell_type": "code",
   "execution_count": 110,
   "metadata": {},
   "outputs": [],
   "source": [
    "# Weight와 bias를 활용 result결과 추출 \n",
    "test_result = torch.mm(x_test,W)+b"
   ]
  },
  {
   "cell_type": "code",
   "execution_count": 111,
   "metadata": {},
   "outputs": [
    {
     "data": {
      "text/plain": [
       "[<matplotlib.lines.Line2D at 0x26b50452488>]"
      ]
     },
     "execution_count": 111,
     "metadata": {},
     "output_type": "execute_result"
    },
    {
     "data": {
      "image/png": "[encoded data removed]",
      "text/plain": [
       "<Figure size 432x288 with 1 Axes>"
      ]
     },
     "metadata": {
      "needs_background": "light"
     },
     "output_type": "display_data"
    }
   ],
   "source": [
    "# Line 그래프로 그리면 두점을 잇는 직선을 그림 -> 우리가 추정한 직선의 방정식 \n",
    "# 이때 색은 red로 지정하며 눈에 잘 보이도록 함.\n",
    "plt.scatter(student_data['키'],student_data['몸무게'])\n",
    "plt.plot(x_test*100,test_result,color='red')"
   ]
  },
  {
   "cell_type": "code",
   "execution_count": null,
   "metadata": {},
   "outputs": [],
   "source": []
  },
  {
   "cell_type": "code",
   "execution_count": null,
   "metadata": {},
   "outputs": [],
   "source": []
  }
 ],
 "metadata": {
  "kernelspec": {
   "display_name": "Python 3",
   "language": "python",
   "name": "python3"
  },
  "language_info": {
   "codemirror_mode": {
    "name": "ipython",
    "version": 3
   },
   "file_extension": ".py",
   "mimetype": "text/x-python",
   "name": "python",
   "nbconvert_exporter": "python",
   "pygments_lexer": "ipython3",
   "version": "3.7.4"
  }
 },
 "nbformat": 4,
 "nbformat_minor": 2
}
