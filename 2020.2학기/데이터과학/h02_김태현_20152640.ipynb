{
 "cells": [
  {
   "cell_type": "code",
   "execution_count": 1,
   "metadata": {},
   "outputs": [
    {
     "name": "stderr",
     "output_type": "stream",
     "text": [
      "In C:\\Users\\hyoun\\Anaconda3\\lib\\site-packages\\matplotlib\\mpl-data\\stylelib\\_classic_test.mplstyle: \n",
      "The text.latex.preview rcparam was deprecated in Matplotlib 3.3 and will be removed two minor releases later.\n",
      "In C:\\Users\\hyoun\\Anaconda3\\lib\\site-packages\\matplotlib\\mpl-data\\stylelib\\_classic_test.mplstyle: \n",
      "The mathtext.fallback_to_cm rcparam was deprecated in Matplotlib 3.3 and will be removed two minor releases later.\n",
      "In C:\\Users\\hyoun\\Anaconda3\\lib\\site-packages\\matplotlib\\mpl-data\\stylelib\\_classic_test.mplstyle: Support for setting the 'mathtext.fallback_to_cm' rcParam is deprecated since 3.3 and will be removed two minor releases later; use 'mathtext.fallback : 'cm' instead.\n",
      "In C:\\Users\\hyoun\\Anaconda3\\lib\\site-packages\\matplotlib\\mpl-data\\stylelib\\_classic_test.mplstyle: \n",
      "The validate_bool_maybe_none function was deprecated in Matplotlib 3.3 and will be removed two minor releases later.\n",
      "In C:\\Users\\hyoun\\Anaconda3\\lib\\site-packages\\matplotlib\\mpl-data\\stylelib\\_classic_test.mplstyle: \n",
      "The savefig.jpeg_quality rcparam was deprecated in Matplotlib 3.3 and will be removed two minor releases later.\n",
      "In C:\\Users\\hyoun\\Anaconda3\\lib\\site-packages\\matplotlib\\mpl-data\\stylelib\\_classic_test.mplstyle: \n",
      "The keymap.all_axes rcparam was deprecated in Matplotlib 3.3 and will be removed two minor releases later.\n",
      "In C:\\Users\\hyoun\\Anaconda3\\lib\\site-packages\\matplotlib\\mpl-data\\stylelib\\_classic_test.mplstyle: \n",
      "The animation.avconv_path rcparam was deprecated in Matplotlib 3.3 and will be removed two minor releases later.\n",
      "In C:\\Users\\hyoun\\Anaconda3\\lib\\site-packages\\matplotlib\\mpl-data\\stylelib\\_classic_test.mplstyle: \n",
      "The animation.avconv_args rcparam was deprecated in Matplotlib 3.3 and will be removed two minor releases later.\n"
     ]
    }
   ],
   "source": [
    "import torch\n",
    "import matplotlib.pyplot as plt"
   ]
  },
  {
   "cell_type": "code",
   "execution_count": 2,
   "metadata": {},
   "outputs": [],
   "source": [
    "x_train = torch.FloatTensor([[1],[2],[3],[4],[5],[2.5],[3.5],[0],[3.1],[2.7],[2.8],[2.9]])\n",
    "y_train = torch.FloatTensor([[1],[1],[1],[0],[0],[0],[0],[1],[0],[1],[1],[1]])"
   ]
  },
  {
   "cell_type": "code",
   "execution_count": 4,
   "metadata": {},
   "outputs": [
    {
     "data": {
      "text/plain": [
       "(torch.Size([12, 1]), torch.Size([12, 1]))"
      ]
     },
     "execution_count": 4,
     "metadata": {},
     "output_type": "execute_result"
    }
   ],
   "source": [
    "x_train.shape, y_train.shape"
   ]
  },
  {
   "cell_type": "code",
   "execution_count": 6,
   "metadata": {},
   "outputs": [],
   "source": [
    "# Weight, Biase Define\n",
    "W = torch.zeros(1,1)\n",
    "b = torch.zeros(1,1)\n",
    "\n",
    "lr = 1.0"
   ]
  },
  {
   "cell_type": "code",
   "execution_count": 7,
   "metadata": {},
   "outputs": [
    {
     "data": {
      "text/plain": [
       "tensor([[0.]])"
      ]
     },
     "execution_count": 7,
     "metadata": {},
     "output_type": "execute_result"
    }
   ],
   "source": [
    "W"
   ]
  },
  {
   "cell_type": "code",
   "execution_count": 8,
   "metadata": {},
   "outputs": [
    {
     "name": "stdout",
     "output_type": "stream",
     "text": [
      "epoch: 0 cost: 0.693147 W: -0.154167 b: 0.083333\n",
      "epoch: 100 cost: 0.420221 W: -1.451281 b: 4.406926\n",
      "epoch: 200 cost: 0.398721 W: -1.898433 b: 5.773751\n",
      "epoch: 300 cost: 0.390820 W: -2.174323 b: 6.609556\n",
      "epoch: 400 cost: 0.387009 W: -2.367329 b: 7.191601\n",
      "epoch: 500 cost: 0.384924 W: -2.510626 b: 7.622530\n",
      "epoch: 600 cost: 0.383699 W: -2.620779 b: 7.953165\n",
      "epoch: 700 cost: 0.382944 W: -2.707397 b: 8.212804\n",
      "epoch: 800 cost: 0.382463 W: -2.776597 b: 8.420023\n",
      "epoch: 900 cost: 0.382149 W: -2.832521 b: 8.587361\n",
      "epoch: 1000 cost: 0.381941 W: -2.878112 b: 8.723699\n",
      "epoch: 1100 cost: 0.381802 W: -2.915530 b: 8.835540\n",
      "epoch: 1200 cost: 0.381706 W: -2.946401 b: 8.927778\n",
      "epoch: 1300 cost: 0.381641 W: -2.971979 b: 9.004180\n",
      "epoch: 1400 cost: 0.381596 W: -2.993240 b: 9.067668\n",
      "epoch: 1500 cost: 0.381565 W: -3.010967 b: 9.120595\n",
      "epoch: 1600 cost: 0.381543 W: -3.025776 b: 9.164800\n",
      "epoch: 1700 cost: 0.381527 W: -3.038171 b: 9.201794\n",
      "epoch: 1800 cost: 0.381517 W: -3.048560 b: 9.232798\n",
      "epoch: 1900 cost: 0.381509 W: -3.057278 b: 9.258814\n",
      "epoch: 2000 cost: 0.381504 W: -3.064604 b: 9.280672\n",
      "epoch: 2100 cost: 0.381500 W: -3.070764 b: 9.299051\n",
      "epoch: 2200 cost: 0.381497 W: -3.075948 b: 9.314517\n",
      "epoch: 2300 cost: 0.381495 W: -3.080314 b: 9.327539\n",
      "epoch: 2400 cost: 0.381494 W: -3.083991 b: 9.338510\n",
      "epoch: 2500 cost: 0.381493 W: -3.087090 b: 9.347755\n",
      "epoch: 2600 cost: 0.381493 W: -3.089704 b: 9.355551\n",
      "epoch: 2700 cost: 0.381492 W: -3.091909 b: 9.362128\n",
      "epoch: 2800 cost: 0.381492 W: -3.093769 b: 9.367676\n",
      "epoch: 2900 cost: 0.381491 W: -3.095338 b: 9.372355\n",
      "epoch: 3000 cost: 0.381491 W: -3.096662 b: 9.376307\n"
     ]
    }
   ],
   "source": [
    "# 반복횟수 설정\n",
    "## Weight, Bias 학습 되도록 진행\n",
    "for epochs in range(3001):\n",
    "    W.requires_grad_(True)\n",
    "    b.requires_grad_(True)\n",
    "    \n",
    "    hypothesis = torch.sigmoid(torch.mm(x_train,W) + b)\n",
    "    \n",
    "    cost = torch.mean(-y_train * torch.log(hypothesis) - (1-y_train)*torch.log(1-hypothesis))\n",
    "\n",
    "    cost.backward()\n",
    "    \n",
    "    with torch.no_grad() as grd:\n",
    "        W = W - lr*W.grad\n",
    "        b = b - lr*b.grad\n",
    "    \n",
    "    if epochs % 100 == 0:\n",
    "        print('epoch: {} cost: {:.6f} W: {:.6f} b: {:.6f}'.format(epochs,cost.item(),W.squeeze(),b.squeeze()))"
   ]
  },
  {
   "cell_type": "code",
   "execution_count": 5,
   "metadata": {},
   "outputs": [
    {
     "name": "stdout",
     "output_type": "stream",
     "text": [
      "tensor([[0.],\n",
      "        [1.]])\n"
     ]
    }
   ],
   "source": [
    "x_test = torch.FloatTensor([[4.5],[1.1]])\n",
    "test_result = torch.sigmoid(torch.mm(x_test,W)+b)\n",
    "print(torch.round(test_result))"
   ]
  },
  {
   "cell_type": "code",
   "execution_count": 6,
   "metadata": {},
   "outputs": [
    {
     "data": {
      "text/plain": [
       "<matplotlib.legend.Legend at 0x22d932ad788>"
      ]
     },
     "execution_count": 6,
     "metadata": {},
     "output_type": "execute_result"
    },
    {
     "data": {
      "image/png": "[encoded data removed]",
      "text/plain": [
       "<Figure size 432x288 with 1 Axes>"
      ]
     },
     "metadata": {
      "needs_background": "light"
     },
     "output_type": "display_data"
    }
   ],
   "source": [
    "W.requires_grad_(False)\n",
    "b.requires_grad_(False)\n",
    "\n",
    "plt.scatter(x_train,y_train, c = 'black', label = 'Training Data')\n",
    "\n",
    "X = torch.linspace(0,5,100).unsqueeze(1)\n",
    "Y = torch.sigmoid(torch.mm(X,W)+b)\n",
    "plt.plot(X,Y, c = 'red', label = 'Fitting Line')\n",
    "\n",
    "plt.ylabel(\"Probability of 1 (Y)\")\n",
    "plt.xlabel(\"Input (X)\")\n",
    "plt.title(\"Optimizer is Gradient Descent\")\n",
    "plt.legend()"
   ]
  },
  {
   "cell_type": "markdown",
   "metadata": {},
   "source": [
    "# SGD Optimizer"
   ]
  },
  {
   "cell_type": "code",
   "execution_count": 7,
   "metadata": {},
   "outputs": [
    {
     "name": "stdout",
     "output_type": "stream",
     "text": [
      "epoch: 0 cost: 0.693147 W: -0.154167 b: 0.083333\n",
      "epoch: 100 cost: 0.420221 W: -1.451281 b: 4.406926\n",
      "epoch: 200 cost: 0.398721 W: -1.898433 b: 5.773751\n",
      "epoch: 300 cost: 0.390820 W: -2.174323 b: 6.609556\n",
      "epoch: 400 cost: 0.387009 W: -2.367329 b: 7.191601\n",
      "epoch: 500 cost: 0.384924 W: -2.510626 b: 7.622530\n",
      "epoch: 600 cost: 0.383699 W: -2.620779 b: 7.953165\n",
      "epoch: 700 cost: 0.382944 W: -2.707397 b: 8.212804\n",
      "epoch: 800 cost: 0.382463 W: -2.776597 b: 8.420023\n",
      "epoch: 900 cost: 0.382149 W: -2.832521 b: 8.587361\n",
      "epoch: 1000 cost: 0.381941 W: -2.878112 b: 8.723699\n",
      "epoch: 1100 cost: 0.381802 W: -2.915530 b: 8.835540\n",
      "epoch: 1200 cost: 0.381706 W: -2.946401 b: 8.927778\n",
      "epoch: 1300 cost: 0.381641 W: -2.971979 b: 9.004180\n",
      "epoch: 1400 cost: 0.381596 W: -2.993240 b: 9.067668\n",
      "epoch: 1500 cost: 0.381565 W: -3.010967 b: 9.120595\n",
      "epoch: 1600 cost: 0.381543 W: -3.025776 b: 9.164800\n",
      "epoch: 1700 cost: 0.381527 W: -3.038171 b: 9.201794\n",
      "epoch: 1800 cost: 0.381517 W: -3.048560 b: 9.232798\n",
      "epoch: 1900 cost: 0.381509 W: -3.057278 b: 9.258814\n",
      "epoch: 2000 cost: 0.381504 W: -3.064604 b: 9.280672\n",
      "epoch: 2100 cost: 0.381500 W: -3.070764 b: 9.299051\n",
      "epoch: 2200 cost: 0.381497 W: -3.075948 b: 9.314517\n",
      "epoch: 2300 cost: 0.381495 W: -3.080314 b: 9.327539\n",
      "epoch: 2400 cost: 0.381494 W: -3.083991 b: 9.338510\n",
      "epoch: 2500 cost: 0.381493 W: -3.087090 b: 9.347755\n",
      "epoch: 2600 cost: 0.381493 W: -3.089704 b: 9.355551\n",
      "epoch: 2700 cost: 0.381492 W: -3.091909 b: 9.362128\n",
      "epoch: 2800 cost: 0.381492 W: -3.093769 b: 9.367676\n",
      "epoch: 2900 cost: 0.381491 W: -3.095338 b: 9.372355\n",
      "epoch: 3000 cost: 0.381491 W: -3.096662 b: 9.376307\n"
     ]
    }
   ],
   "source": [
    "# Weight, Bias 초기화\n",
    "W = torch.zeros(1,1)\n",
    "b = torch.zeros(1,1)\n",
    "\n",
    "lr = 1.0\n",
    "optimizer = torch.optim.SGD([W,b],lr=1.0)\n",
    "\n",
    "# 반복횟수 설정\n",
    "## Weight, Bias 학습 되도록 진행\n",
    "for epochs in range(3001):\n",
    "    W.requires_grad_(True)\n",
    "    b.requires_grad_(True)\n",
    "    \n",
    "    hypothesis = torch.sigmoid(torch.mm(x_train,W) + b)\n",
    "    \n",
    "    cost = torch.mean(-y_train * torch.log(hypothesis) - (1-y_train)*torch.log(1-hypothesis))\n",
    "\n",
    "#     cost.backward()\n",
    "    \n",
    "#     with torch.no_grad() as grd:\n",
    "#         W = W - lr*W.grad\n",
    "#         b = b - lr*b.grad\n",
    "    \n",
    "    optimizer.zero_grad()\n",
    "    cost.backward()\n",
    "    optimizer.step()\n",
    "    \n",
    "    if epochs % 100 == 0:\n",
    "        print('epoch: {} cost: {:.6f} W: {:.6f} b: {:.6f}'.format(epochs,cost.item(),W.squeeze(),b.squeeze()))"
   ]
  },
  {
   "cell_type": "code",
   "execution_count": 8,
   "metadata": {},
   "outputs": [
    {
     "data": {
      "text/plain": [
       "<matplotlib.legend.Legend at 0x22d933c12c8>"
      ]
     },
     "execution_count": 8,
     "metadata": {},
     "output_type": "execute_result"
    },
    {
     "data": {
      "image/png": "[encoded data removed]",
      "text/plain": [
       "<Figure size 432x288 with 1 Axes>"
      ]
     },
     "metadata": {
      "needs_background": "light"
     },
     "output_type": "display_data"
    }
   ],
   "source": [
    "W.requires_grad_(False)\n",
    "b.requires_grad_(False)\n",
    "\n",
    "plt.scatter(x_train,y_train, c = 'black', label = 'Training Data')\n",
    "\n",
    "X = torch.linspace(0,5,100).unsqueeze(1)\n",
    "Y = torch.sigmoid(torch.mm(X,W)+b)\n",
    "plt.plot(X,Y, c = 'red', label = 'Fitting Line')\n",
    "\n",
    "plt.ylabel(\"Probability of 1 (Y)\")\n",
    "plt.xlabel(\"Input (X)\")\n",
    "plt.title(\"Optimizer is SGD\")\n",
    "plt.legend()"
   ]
  },
  {
   "cell_type": "markdown",
   "metadata": {},
   "source": [
    "# Adam"
   ]
  },
  {
   "cell_type": "code",
   "execution_count": 9,
   "metadata": {},
   "outputs": [
    {
     "name": "stdout",
     "output_type": "stream",
     "text": [
      "epoch: 0 cost: 0.693147 W: -0.999998 b: 0.999996\n",
      "epoch: 100 cost: 0.381568 W: -3.009526 b: 9.125642\n",
      "epoch: 200 cost: 0.381491 W: -3.102716 b: 9.394312\n",
      "epoch: 300 cost: 0.381491 W: -3.103856 b: 9.397763\n",
      "epoch: 400 cost: 0.381491 W: -3.103852 b: 9.397749\n",
      "epoch: 500 cost: 0.381491 W: -3.103851 b: 9.397749\n",
      "epoch: 600 cost: 0.381491 W: -3.103851 b: 9.397749\n",
      "epoch: 700 cost: 0.381491 W: -3.103852 b: 9.397750\n",
      "epoch: 800 cost: 0.381491 W: -3.103852 b: 9.397752\n",
      "epoch: 900 cost: 0.381491 W: -3.103853 b: 9.397750\n",
      "epoch: 1000 cost: 0.381491 W: -3.103852 b: 9.397751\n",
      "epoch: 1100 cost: 0.381491 W: -3.103852 b: 9.397751\n",
      "epoch: 1200 cost: 0.381491 W: -3.103851 b: 9.397750\n",
      "epoch: 1300 cost: 0.381491 W: -3.103854 b: 9.397749\n",
      "epoch: 1400 cost: 0.381552 W: -3.096524 b: 9.382556\n",
      "epoch: 1500 cost: 0.381491 W: -3.103856 b: 9.397751\n",
      "epoch: 1600 cost: 0.386735 W: -3.116000 b: 9.649760\n",
      "epoch: 1700 cost: 0.381491 W: -3.103549 b: 9.398109\n",
      "epoch: 1800 cost: 0.382028 W: -3.134097 b: 9.368782\n",
      "epoch: 1900 cost: 0.381492 W: -3.103556 b: 9.401669\n",
      "epoch: 2000 cost: 0.386117 W: -3.098059 b: 9.578913\n",
      "epoch: 2100 cost: 0.381491 W: -3.104198 b: 9.397485\n",
      "epoch: 2200 cost: 0.381580 W: -3.091939 b: 9.392948\n",
      "epoch: 2300 cost: 0.389596 W: -3.213019 b: 9.311885\n",
      "epoch: 2400 cost: 0.381492 W: -3.103328 b: 9.400176\n",
      "epoch: 2500 cost: 0.381601 W: -3.096098 b: 9.401754\n",
      "epoch: 2600 cost: 0.390342 W: -3.211331 b: 9.327497\n",
      "epoch: 2700 cost: 0.381496 W: -3.106529 b: 9.396285\n",
      "epoch: 2800 cost: 0.381491 W: -3.103461 b: 9.397590\n",
      "epoch: 2900 cost: 0.381530 W: -3.107272 b: 9.382833\n",
      "epoch: 3000 cost: 0.381491 W: -3.101941 b: 9.387241\n"
     ]
    }
   ],
   "source": [
    "# Weight, Bias 초기화\n",
    "W = torch.zeros(1,1)\n",
    "b = torch.zeros(1,1)\n",
    "\n",
    "lr = 1.0\n",
    "optimizer = torch.optim.Adam([W,b],lr=1.0)\n",
    "\n",
    "# 반복횟수 설정\n",
    "## Weight, Bias 학습 되도록 진행\n",
    "for epochs in range(3001):\n",
    "    W.requires_grad_(True)\n",
    "    b.requires_grad_(True)\n",
    "    \n",
    "    hypothesis = torch.sigmoid(torch.mm(x_train,W) + b)\n",
    "    \n",
    "    cost = torch.mean(-y_train * torch.log(hypothesis) - (1-y_train)*torch.log(1-hypothesis))\n",
    "\n",
    "#     cost.backward()\n",
    "    \n",
    "#     with torch.no_grad() as grd:\n",
    "#         W = W - lr*W.grad\n",
    "#         b = b - lr*b.grad\n",
    "    \n",
    "    optimizer.zero_grad()\n",
    "    cost.backward()\n",
    "    optimizer.step()\n",
    "    \n",
    "    if epochs % 100 == 0:\n",
    "        print('epoch: {} cost: {:.6f} W: {:.6f} b: {:.6f}'.format(epochs,cost.item(),W.squeeze(),b.squeeze()))"
   ]
  },
  {
   "cell_type": "code",
   "execution_count": 10,
   "metadata": {},
   "outputs": [
    {
     "data": {
      "text/plain": [
       "<matplotlib.legend.Legend at 0x22d93480d88>"
      ]
     },
     "execution_count": 10,
     "metadata": {},
     "output_type": "execute_result"
    },
    {
     "data": {
      "image/png": "[encoded data removed]",
      "text/plain": [
       "<Figure size 432x288 with 1 Axes>"
      ]
     },
     "metadata": {
      "needs_background": "light"
     },
     "output_type": "display_data"
    }
   ],
   "source": [
    "W.requires_grad_(False)\n",
    "b.requires_grad_(False)\n",
    "\n",
    "plt.scatter(x_train,y_train, c = 'black', label = 'Training Data')\n",
    "\n",
    "X = torch.linspace(0,5,100).unsqueeze(1)\n",
    "Y = torch.sigmoid(torch.mm(X,W)+b)\n",
    "plt.plot(X,Y, c = 'red', label = 'Fitting Line')\n",
    "\n",
    "plt.ylabel(\"Probability of 1 (Y)\")\n",
    "plt.xlabel(\"Input (X)\")\n",
    "plt.title(\"Optimizer is Adam\")\n",
    "plt.legend()"
   ]
  },
  {
   "cell_type": "markdown",
   "metadata": {},
   "source": [
    "# Adadelta"
   ]
  },
  {
   "cell_type": "code",
   "execution_count": 11,
   "metadata": {},
   "outputs": [
    {
     "name": "stdout",
     "output_type": "stream",
     "text": [
      "epoch: 0 cost: 0.693147 W: -0.003162 b: 0.003160\n",
      "epoch: 100 cost: 0.632085 W: -0.202549 b: 0.469101\n",
      "epoch: 200 cost: 0.579402 W: -0.372944 b: 0.996084\n",
      "epoch: 300 cost: 0.537192 W: -0.537830 b: 1.522116\n",
      "epoch: 400 cost: 0.504296 W: -0.698524 b: 2.036054\n",
      "epoch: 500 cost: 0.478509 W: -0.857097 b: 2.540156\n",
      "epoch: 600 cost: 0.458038 W: -1.015019 b: 3.038626\n",
      "epoch: 700 cost: 0.441618 W: -1.173148 b: 3.534263\n",
      "epoch: 800 cost: 0.428366 W: -1.331804 b: 4.028254\n",
      "epoch: 900 cost: 0.417649 W: -1.490835 b: 4.520365\n",
      "epoch: 1000 cost: 0.409003 W: -1.649657 b: 5.009084\n",
      "epoch: 1100 cost: 0.402074 W: -1.807266 b: 5.491660\n",
      "epoch: 1200 cost: 0.396584 W: -1.962220 b: 5.964028\n",
      "epoch: 1300 cost: 0.392307 W: -2.112598 b: 6.420692\n",
      "epoch: 1400 cost: 0.389052 W: -2.255959 b: 6.854595\n",
      "epoch: 1500 cost: 0.386648 W: -2.389365 b: 7.257201\n",
      "epoch: 1600 cost: 0.384936 W: -2.509623 b: 7.619217\n",
      "epoch: 1700 cost: 0.383766 W: -2.613942 b: 7.932579\n",
      "epoch: 1800 cost: 0.382993 W: -2.701013 b: 8.193676\n",
      "epoch: 1900 cost: 0.382493 W: -2.771797 b: 8.405665\n",
      "epoch: 2000 cost: 0.382167 W: -2.828949 b: 8.576682\n",
      "epoch: 2100 cost: 0.381953 W: -2.875364 b: 8.715486\n",
      "epoch: 2200 cost: 0.381809 W: -2.913357 b: 8.829048\n",
      "epoch: 2300 cost: 0.381711 W: -2.944652 b: 8.922554\n",
      "epoch: 2400 cost: 0.381644 W: -2.970553 b: 8.999920\n",
      "epoch: 2500 cost: 0.381598 W: -2.992069 b: 9.064171\n",
      "epoch: 2600 cost: 0.381566 W: -3.009995 b: 9.117691\n",
      "epoch: 2700 cost: 0.381544 W: -3.024967 b: 9.162384\n",
      "epoch: 2800 cost: 0.381528 W: -3.037497 b: 9.199781\n",
      "epoch: 2900 cost: 0.381517 W: -3.047996 b: 9.231115\n",
      "epoch: 3000 cost: 0.381510 W: -3.056806 b: 9.257403\n"
     ]
    }
   ],
   "source": [
    "# Weight, Bias 초기화\n",
    "W = torch.zeros(1,1)\n",
    "b = torch.zeros(1,1)\n",
    "\n",
    "lr = 1.0\n",
    "optimizer = torch.optim.Adadelta([W,b],lr=1.0)\n",
    "\n",
    "# 반복횟수 설정\n",
    "## Weight, Bias 학습 되도록 진행\n",
    "for epochs in range(3001):\n",
    "    W.requires_grad_(True)\n",
    "    b.requires_grad_(True)\n",
    "    \n",
    "    hypothesis = torch.sigmoid(torch.mm(x_train,W) + b)\n",
    "    \n",
    "    cost = torch.mean(-y_train * torch.log(hypothesis) - (1-y_train)*torch.log(1-hypothesis))\n",
    "\n",
    "#     cost.backward()\n",
    "    \n",
    "#     with torch.no_grad() as grd:\n",
    "#         W = W - lr*W.grad\n",
    "#         b = b - lr*b.grad\n",
    "    \n",
    "    optimizer.zero_grad()\n",
    "    cost.backward()\n",
    "    optimizer.step()\n",
    "    \n",
    "    if epochs % 100 == 0:\n",
    "        print('epoch: {} cost: {:.6f} W: {:.6f} b: {:.6f}'.format(epochs,cost.item(),W.squeeze(),b.squeeze()))"
   ]
  },
  {
   "cell_type": "code",
   "execution_count": 12,
   "metadata": {},
   "outputs": [
    {
     "data": {
      "text/plain": [
       "<matplotlib.legend.Legend at 0x22d934f9c48>"
      ]
     },
     "execution_count": 12,
     "metadata": {},
     "output_type": "execute_result"
    },
    {
     "data": {
      "image/png": "[encoded data removed]",
      "text/plain": [
       "<Figure size 432x288 with 1 Axes>"
      ]
     },
     "metadata": {
      "needs_background": "light"
     },
     "output_type": "display_data"
    }
   ],
   "source": [
    "W.requires_grad_(False)\n",
    "b.requires_grad_(False)\n",
    "\n",
    "plt.scatter(x_train,y_train, c = 'black', label = 'Training Data')\n",
    "\n",
    "X = torch.linspace(0,5,100).unsqueeze(1)\n",
    "Y = torch.sigmoid(torch.mm(X,W)+b)\n",
    "plt.plot(X,Y, c = 'red', label = 'Fitting Line')\n",
    "\n",
    "plt.ylabel(\"Probability of 1 (Y)\")\n",
    "plt.xlabel(\"Input (X)\")\n",
    "plt.title(\"Optimizer is AdaDelta\")\n",
    "plt.legend()"
   ]
  },
  {
   "cell_type": "markdown",
   "metadata": {},
   "source": [
    "# Adagrad"
   ]
  },
  {
   "cell_type": "code",
   "execution_count": 13,
   "metadata": {},
   "outputs": [
    {
     "name": "stdout",
     "output_type": "stream",
     "text": [
      "epoch: 0 cost: 0.693147 W: -1.000000 b: 1.000000\n",
      "epoch: 100 cost: 0.405247 W: -1.730439 b: 5.273878\n",
      "epoch: 200 cost: 0.390935 W: -2.168449 b: 6.598612\n",
      "epoch: 300 cost: 0.386055 W: -2.427320 b: 7.376696\n",
      "epoch: 400 cost: 0.383900 W: -2.600170 b: 7.894600\n",
      "epoch: 500 cost: 0.382828 W: -2.722402 b: 8.260150\n",
      "epoch: 600 cost: 0.382257 W: -2.811744 b: 8.527007\n",
      "epoch: 700 cost: 0.381939 W: -2.878444 b: 8.726061\n",
      "epoch: 800 cost: 0.381757 W: -2.928960 b: 8.876721\n",
      "epoch: 900 cost: 0.381651 W: -2.967609 b: 8.991940\n",
      "epoch: 1000 cost: 0.381588 W: -2.997399 b: 9.080716\n",
      "epoch: 1100 cost: 0.381550 W: -3.020485 b: 9.149499\n",
      "epoch: 1200 cost: 0.381527 W: -3.038451 b: 9.203014\n",
      "epoch: 1300 cost: 0.381513 W: -3.052476 b: 9.244785\n",
      "epoch: 1400 cost: 0.381505 W: -3.063454 b: 9.277475\n",
      "epoch: 1500 cost: 0.381499 W: -3.072060 b: 9.303102\n",
      "epoch: 1600 cost: 0.381496 W: -3.078816 b: 9.323219\n",
      "epoch: 1700 cost: 0.381494 W: -3.084127 b: 9.339031\n",
      "epoch: 1800 cost: 0.381493 W: -3.088304 b: 9.351467\n",
      "epoch: 1900 cost: 0.381492 W: -3.091593 b: 9.361258\n",
      "epoch: 2000 cost: 0.381492 W: -3.094185 b: 9.368973\n",
      "epoch: 2100 cost: 0.381491 W: -3.096226 b: 9.375051\n",
      "epoch: 2200 cost: 0.381491 W: -3.097836 b: 9.379841\n",
      "epoch: 2300 cost: 0.381491 W: -3.099105 b: 9.383618\n",
      "epoch: 2400 cost: 0.381491 W: -3.100106 b: 9.386600\n",
      "epoch: 2500 cost: 0.381491 W: -3.100896 b: 9.388951\n",
      "epoch: 2600 cost: 0.381491 W: -3.101518 b: 9.390802\n",
      "epoch: 2700 cost: 0.381491 W: -3.102010 b: 9.392268\n",
      "epoch: 2800 cost: 0.381491 W: -3.102398 b: 9.393422\n",
      "epoch: 2900 cost: 0.381491 W: -3.102705 b: 9.394335\n",
      "epoch: 3000 cost: 0.381491 W: -3.102946 b: 9.395054\n"
     ]
    }
   ],
   "source": [
    "# Weight, Bias 초기화\n",
    "W = torch.zeros(1,1)\n",
    "b = torch.zeros(1,1)\n",
    "\n",
    "lr = 1.0\n",
    "optimizer = torch.optim.Adagrad([W,b],lr=1.0)\n",
    "\n",
    "# 반복횟수 설정\n",
    "## Weight, Bias 학습 되도록 진행\n",
    "for epochs in range(3001):\n",
    "    W.requires_grad_(True)\n",
    "    b.requires_grad_(True)\n",
    "    \n",
    "    hypothesis = torch.sigmoid(torch.mm(x_train,W) + b)\n",
    "    \n",
    "    cost = torch.mean(-y_train * torch.log(hypothesis) - (1-y_train)*torch.log(1-hypothesis))\n",
    "\n",
    "#     cost.backward()\n",
    "    \n",
    "#     with torch.no_grad() as grd:\n",
    "#         W = W - lr*W.grad\n",
    "#         b = b - lr*b.grad\n",
    "    \n",
    "    optimizer.zero_grad()\n",
    "    cost.backward()\n",
    "    optimizer.step()\n",
    "    \n",
    "    if epochs % 100 == 0:\n",
    "        print('epoch: {} cost: {:.6f} W: {:.6f} b: {:.6f}'.format(epochs,cost.item(),W.squeeze(),b.squeeze()))"
   ]
  },
  {
   "cell_type": "code",
   "execution_count": 14,
   "metadata": {},
   "outputs": [
    {
     "data": {
      "text/plain": [
       "<matplotlib.legend.Legend at 0x22d93577e08>"
      ]
     },
     "execution_count": 14,
     "metadata": {},
     "output_type": "execute_result"
    },
    {
     "data": {
      "image/png": "[encoded data removed]",
      "text/plain": [
       "<Figure size 432x288 with 1 Axes>"
      ]
     },
     "metadata": {
      "needs_background": "light"
     },
     "output_type": "display_data"
    }
   ],
   "source": [
    "W.requires_grad_(False)\n",
    "b.requires_grad_(False)\n",
    "\n",
    "plt.scatter(x_train,y_train, c = 'black', label = 'Training Data')\n",
    "\n",
    "X = torch.linspace(0,5,100).unsqueeze(1)\n",
    "Y = torch.sigmoid(torch.mm(X,W)+b)\n",
    "plt.plot(X,Y, c = 'red', label = 'Fitting Line')\n",
    "\n",
    "plt.ylabel(\"Probability of 1 (Y)\")\n",
    "plt.xlabel(\"Input (X)\")\n",
    "plt.title(\"Optimizer is AdaGrad\")\n",
    "plt.legend()"
   ]
  },
  {
   "cell_type": "markdown",
   "metadata": {},
   "source": [
    "# RMSProp\n",
    "\n",
    "* 학습이 되지 않아 learning rate의 값을 0.1로 수정 "
   ]
  },
  {
   "cell_type": "code",
   "execution_count": 15,
   "metadata": {},
   "outputs": [
    {
     "name": "stdout",
     "output_type": "stream",
     "text": [
      "epoch: 0 cost: 0.693147 W: -0.999999 b: 0.999999\n",
      "epoch: 100 cost: 0.399307 W: -1.883651 b: 5.738459\n",
      "epoch: 200 cost: 0.386402 W: -2.471035 b: 7.612029\n",
      "epoch: 300 cost: 0.382497 W: -2.771450 b: 8.430706\n",
      "epoch: 400 cost: 0.382283 W: -2.909659 b: 8.909251\n",
      "epoch: 500 cost: 0.382965 W: -2.978191 b: 9.176059\n",
      "epoch: 600 cost: 0.384287 W: -3.010484 b: 9.333098\n",
      "epoch: 700 cost: 0.384263 W: -3.038833 b: 9.412768\n",
      "epoch: 800 cost: 0.383891 W: -3.057576 b: 9.454795\n",
      "epoch: 900 cost: 0.383915 W: -3.065763 b: 9.481153\n",
      "epoch: 1000 cost: 0.383994 W: -3.069999 b: 9.496862\n",
      "epoch: 1100 cost: 0.383986 W: -3.073012 b: 9.505312\n",
      "epoch: 1200 cost: 0.383970 W: -3.074806 b: 9.510058\n",
      "epoch: 1300 cost: 0.383974 W: -3.075701 b: 9.512912\n",
      "epoch: 1400 cost: 0.383977 W: -3.076213 b: 9.514558\n",
      "epoch: 1500 cost: 0.383977 W: -3.076533 b: 9.515476\n",
      "epoch: 1600 cost: 0.383976 W: -3.076716 b: 9.515999\n",
      "epoch: 1700 cost: 0.383976 W: -3.076816 b: 9.516308\n",
      "epoch: 1800 cost: 0.383977 W: -3.076873 b: 9.516488\n",
      "epoch: 1900 cost: 0.383976 W: -3.076909 b: 9.516592\n",
      "epoch: 2000 cost: 0.383976 W: -3.076931 b: 9.516650\n",
      "epoch: 2100 cost: 0.383976 W: -3.076938 b: 9.516677\n",
      "epoch: 2200 cost: 0.383976 W: -3.076941 b: 9.516687\n",
      "epoch: 2300 cost: 0.383976 W: -3.076943 b: 9.516693\n",
      "epoch: 2400 cost: 0.383976 W: -3.076943 b: 9.516693\n",
      "epoch: 2500 cost: 0.383976 W: -3.076943 b: 9.516693\n",
      "epoch: 2600 cost: 0.383976 W: -3.076943 b: 9.516693\n",
      "epoch: 2700 cost: 0.383976 W: -3.076943 b: 9.516693\n",
      "epoch: 2800 cost: 0.383976 W: -3.076943 b: 9.516693\n",
      "epoch: 2900 cost: 0.383976 W: -3.076943 b: 9.516693\n",
      "epoch: 3000 cost: 0.383976 W: -3.076943 b: 9.516693\n"
     ]
    }
   ],
   "source": [
    "# Weight, Bias 초기화\n",
    "W = torch.zeros(1,1)\n",
    "b = torch.zeros(1,1)\n",
    "\n",
    "lr = 1.0\n",
    "optimizer = torch.optim.RMSprop([W,b],lr=0.1)\n",
    "\n",
    "# 반복횟수 설정\n",
    "## Weight, Bias 학습 되도록 진행\n",
    "for epochs in range(3001):\n",
    "    W.requires_grad_(True)\n",
    "    b.requires_grad_(True)\n",
    "    \n",
    "    hypothesis = torch.sigmoid(torch.mm(x_train,W) + b)\n",
    "    \n",
    "    cost = torch.mean(-y_train * torch.log(hypothesis) - (1-y_train)*torch.log(1-hypothesis))\n",
    "\n",
    "#     cost.backward()\n",
    "    \n",
    "#     with torch.no_grad() as grd:\n",
    "#         W = W - lr*W.grad\n",
    "#         b = b - lr*b.grad\n",
    "    \n",
    "    optimizer.zero_grad()\n",
    "    cost.backward()\n",
    "    optimizer.step()\n",
    "    \n",
    "    if epochs % 100 == 0:\n",
    "        print('epoch: {} cost: {:.6f} W: {:.6f} b: {:.6f}'.format(epochs,cost.item(),W.squeeze(),b.squeeze()))"
   ]
  },
  {
   "cell_type": "code",
   "execution_count": 16,
   "metadata": {},
   "outputs": [
    {
     "data": {
      "text/plain": [
       "<matplotlib.legend.Legend at 0x22d93600808>"
      ]
     },
     "execution_count": 16,
     "metadata": {},
     "output_type": "execute_result"
    },
    {
     "data": {
      "image/png": "[encoded data removed]",
      "text/plain": [
       "<Figure size 432x288 with 1 Axes>"
      ]
     },
     "metadata": {
      "needs_background": "light"
     },
     "output_type": "display_data"
    }
   ],
   "source": [
    "W.requires_grad_(False)\n",
    "b.requires_grad_(False)\n",
    "\n",
    "plt.scatter(x_train,y_train, c = 'black', label = 'Training Data')\n",
    "\n",
    "X = torch.linspace(0,5,100).unsqueeze(1)\n",
    "Y = torch.sigmoid(torch.mm(X,W)+b)\n",
    "plt.plot(X,Y, c = 'red', label = 'Fitting Line')\n",
    "\n",
    "plt.ylabel(\"Probability of 1 (Y)\")\n",
    "plt.xlabel(\"Input (X)\")\n",
    "plt.title(\"Optimizer is RMSprop\")\n",
    "plt.legend()"
   ]
  },
  {
   "cell_type": "code",
   "execution_count": null,
   "metadata": {},
   "outputs": [],
   "source": []
  }
 ],
 "metadata": {
  "kernelspec": {
   "display_name": "Python 3",
   "language": "python",
   "name": "python3"
  },
  "language_info": {
   "codemirror_mode": {
    "name": "ipython",
    "version": 3
   },
   "file_extension": ".py",
   "mimetype": "text/x-python",
   "name": "python",
   "nbconvert_exporter": "python",
   "pygments_lexer": "ipython3",
   "version": "3.7.4"
  }
 },
 "nbformat": 4,
 "nbformat_minor": 2
}
