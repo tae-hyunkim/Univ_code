{
 "cells": [
  {
   "cell_type": "markdown",
   "metadata": {},
   "source": [
    "# 데이터 마이닝 과제 \n",
    "\n",
    "## Unbalance Data Training의 결과 성능 비교 코드 정리"
   ]
  },
  {
   "cell_type": "code",
   "execution_count": 1,
   "metadata": {},
   "outputs": [],
   "source": [
    "# 필요한 패키지 import \n",
    "\n",
    "import pandas as pd\n",
    "from pandas import Series, DataFrame\n",
    "import numpy as np\n",
    "import re\n",
    "import matplotlib.pyplot as plt\n",
    "from IPython.display import display\n",
    "from matplotlib import rc # 한글 그래픽 처리\n",
    "import seaborn as sns # r에서 ggplot이라 생각하면됨. 쓸때 한글처리 주의.\n",
    "%matplotlib inline \n",
    "plt.rc('font', family='Malgun Gothic') # 한글의 폰트를 맑은고딕 사용\n",
    "plt.rc('axes', unicode_minus=False)\n",
    "import warnings\n",
    "warnings.filterwarnings(\"ignore\")"
   ]
  },
  {
   "cell_type": "code",
   "execution_count": 2,
   "metadata": {
    "scrolled": true
   },
   "outputs": [
    {
     "data": {
      "text/html": [
       "<div>\n",
       "<style scoped>\n",
       "    .dataframe tbody tr th:only-of-type {\n",
       "        vertical-align: middle;\n",
       "    }\n",
       "\n",
       "    .dataframe tbody tr th {\n",
       "        vertical-align: top;\n",
       "    }\n",
       "\n",
       "    .dataframe thead th {\n",
       "        text-align: right;\n",
       "    }\n",
       "</style>\n",
       "<table border=\"1\" class=\"dataframe\">\n",
       "  <thead>\n",
       "    <tr style=\"text-align: right;\">\n",
       "      <th></th>\n",
       "      <th>target</th>\n",
       "      <th>user_idx</th>\n",
       "      <th>song_idx</th>\n",
       "      <th>ssn_idx</th>\n",
       "      <th>sst_idx</th>\n",
       "      <th>st_idx</th>\n",
       "      <th>song_length</th>\n",
       "      <th>genr_idx</th>\n",
       "      <th>art_idx</th>\n",
       "      <th>com_idx</th>\n",
       "      <th>...</th>\n",
       "      <th>lyricists_count</th>\n",
       "      <th>composer_count</th>\n",
       "      <th>is_featured</th>\n",
       "      <th>artist_count</th>\n",
       "      <th>artist_composer</th>\n",
       "      <th>artist_composer_lyricist</th>\n",
       "      <th>song_lang_boolean</th>\n",
       "      <th>smaller_song</th>\n",
       "      <th>count_song_played</th>\n",
       "      <th>count_artist_played</th>\n",
       "    </tr>\n",
       "  </thead>\n",
       "  <tbody>\n",
       "    <tr>\n",
       "      <th>0</th>\n",
       "      <td>1</td>\n",
       "      <td>0</td>\n",
       "      <td>0</td>\n",
       "      <td>0</td>\n",
       "      <td>0</td>\n",
       "      <td>0</td>\n",
       "      <td>206471</td>\n",
       "      <td>7</td>\n",
       "      <td>1877</td>\n",
       "      <td>7450</td>\n",
       "      <td>...</td>\n",
       "      <td>0</td>\n",
       "      <td>2</td>\n",
       "      <td>0</td>\n",
       "      <td>0</td>\n",
       "      <td>0</td>\n",
       "      <td>0</td>\n",
       "      <td>0</td>\n",
       "      <td>1</td>\n",
       "      <td>215</td>\n",
       "      <td>1140</td>\n",
       "    </tr>\n",
       "    <tr>\n",
       "      <th>1</th>\n",
       "      <td>1</td>\n",
       "      <td>1</td>\n",
       "      <td>1</td>\n",
       "      <td>1</td>\n",
       "      <td>1</td>\n",
       "      <td>1</td>\n",
       "      <td>284584</td>\n",
       "      <td>18</td>\n",
       "      <td>92</td>\n",
       "      <td>2</td>\n",
       "      <td>...</td>\n",
       "      <td>0</td>\n",
       "      <td>1</td>\n",
       "      <td>0</td>\n",
       "      <td>0</td>\n",
       "      <td>0</td>\n",
       "      <td>0</td>\n",
       "      <td>0</td>\n",
       "      <td>0</td>\n",
       "      <td>1</td>\n",
       "      <td>303616</td>\n",
       "    </tr>\n",
       "    <tr>\n",
       "      <th>2</th>\n",
       "      <td>1</td>\n",
       "      <td>1</td>\n",
       "      <td>2</td>\n",
       "      <td>1</td>\n",
       "      <td>1</td>\n",
       "      <td>1</td>\n",
       "      <td>225396</td>\n",
       "      <td>18</td>\n",
       "      <td>527</td>\n",
       "      <td>100234</td>\n",
       "      <td>...</td>\n",
       "      <td>0</td>\n",
       "      <td>1</td>\n",
       "      <td>0</td>\n",
       "      <td>0</td>\n",
       "      <td>0</td>\n",
       "      <td>0</td>\n",
       "      <td>0</td>\n",
       "      <td>1</td>\n",
       "      <td>4</td>\n",
       "      <td>289</td>\n",
       "    </tr>\n",
       "    <tr>\n",
       "      <th>3</th>\n",
       "      <td>1</td>\n",
       "      <td>1</td>\n",
       "      <td>3</td>\n",
       "      <td>1</td>\n",
       "      <td>1</td>\n",
       "      <td>1</td>\n",
       "      <td>255512</td>\n",
       "      <td>229</td>\n",
       "      <td>89592</td>\n",
       "      <td>193180</td>\n",
       "      <td>...</td>\n",
       "      <td>0</td>\n",
       "      <td>1</td>\n",
       "      <td>0</td>\n",
       "      <td>0</td>\n",
       "      <td>0</td>\n",
       "      <td>0</td>\n",
       "      <td>0</td>\n",
       "      <td>0</td>\n",
       "      <td>1</td>\n",
       "      <td>1</td>\n",
       "    </tr>\n",
       "    <tr>\n",
       "      <th>4</th>\n",
       "      <td>1</td>\n",
       "      <td>0</td>\n",
       "      <td>4</td>\n",
       "      <td>0</td>\n",
       "      <td>0</td>\n",
       "      <td>0</td>\n",
       "      <td>187802</td>\n",
       "      <td>13</td>\n",
       "      <td>195</td>\n",
       "      <td>137</td>\n",
       "      <td>...</td>\n",
       "      <td>0</td>\n",
       "      <td>3</td>\n",
       "      <td>0</td>\n",
       "      <td>0</td>\n",
       "      <td>0</td>\n",
       "      <td>0</td>\n",
       "      <td>0</td>\n",
       "      <td>1</td>\n",
       "      <td>412</td>\n",
       "      <td>427</td>\n",
       "    </tr>\n",
       "  </tbody>\n",
       "</table>\n",
       "<p>5 rows × 30 columns</p>\n",
       "</div>"
      ],
      "text/plain": [
       "   target  user_idx  song_idx  ssn_idx  sst_idx  st_idx  song_length  \\\n",
       "0       1         0         0        0        0       0       206471   \n",
       "1       1         1         1        1        1       1       284584   \n",
       "2       1         1         2        1        1       1       225396   \n",
       "3       1         1         3        1        1       1       255512   \n",
       "4       1         0         4        0        0       0       187802   \n",
       "\n",
       "   genr_idx  art_idx  com_idx         ...           lyricists_count  \\\n",
       "0         7     1877     7450         ...                         0   \n",
       "1        18       92        2         ...                         0   \n",
       "2        18      527   100234         ...                         0   \n",
       "3       229    89592   193180         ...                         0   \n",
       "4        13      195      137         ...                         0   \n",
       "\n",
       "   composer_count  is_featured  artist_count  artist_composer  \\\n",
       "0               2            0             0                0   \n",
       "1               1            0             0                0   \n",
       "2               1            0             0                0   \n",
       "3               1            0             0                0   \n",
       "4               3            0             0                0   \n",
       "\n",
       "   artist_composer_lyricist  song_lang_boolean  smaller_song  \\\n",
       "0                         0                  0             1   \n",
       "1                         0                  0             0   \n",
       "2                         0                  0             1   \n",
       "3                         0                  0             0   \n",
       "4                         0                  0             1   \n",
       "\n",
       "   count_song_played  count_artist_played  \n",
       "0                215                 1140  \n",
       "1                  1               303616  \n",
       "2                  4                  289  \n",
       "3                  1                    1  \n",
       "4                412                  427  \n",
       "\n",
       "[5 rows x 30 columns]"
      ]
     },
     "execution_count": 2,
     "metadata": {},
     "output_type": "execute_result"
    }
   ],
   "source": [
    "# data Loading\n",
    "\n",
    "data = pd.read_csv('WSDM_train_full_features.csv',engine='python')\n",
    "data.head()"
   ]
  },
  {
   "cell_type": "code",
   "execution_count": 3,
   "metadata": {
    "scrolled": false
   },
   "outputs": [
    {
     "data": {
      "text/plain": [
       "1    3714656\n",
       "0    3662762\n",
       "Name: target, dtype: int64"
      ]
     },
     "execution_count": 3,
     "metadata": {},
     "output_type": "execute_result"
    }
   ],
   "source": [
    "# 워본 데이터의 비율 확인 \n",
    "\n",
    "data['target'].value_counts()"
   ]
  },
  {
   "cell_type": "code",
   "execution_count": 4,
   "metadata": {},
   "outputs": [],
   "source": [
    "# 데이터의 양이 많아 데이터를 축소시키기 위해 사용 \n",
    "from sklearn.model_selection import train_test_split\n",
    "data,data_drop = train_test_split(data,test_size=0.5,random_state=0)\n",
    "del data_drop # 삭제해서 용량 살리기 위해."
   ]
  },
  {
   "cell_type": "code",
   "execution_count": 5,
   "metadata": {
    "scrolled": true
   },
   "outputs": [
    {
     "data": {
      "text/plain": [
       "1    1858531\n",
       "0    1830178\n",
       "Name: target, dtype: int64"
      ]
     },
     "execution_count": 5,
     "metadata": {},
     "output_type": "execute_result"
    }
   ],
   "source": [
    "# 축소결과 비율 비슷하게 유지됨 \n",
    "data['target'].value_counts()"
   ]
  },
  {
   "cell_type": "code",
   "execution_count": 6,
   "metadata": {},
   "outputs": [
    {
     "data": {
      "text/plain": [
       "1830178"
      ]
     },
     "execution_count": 6,
     "metadata": {},
     "output_type": "execute_result"
    }
   ],
   "source": [
    "target1 = data[data['target']==1]\n",
    "target0 = data[data['target']==0] # 비율 구하기 위해 사용 \n",
    "len(target0)"
   ]
  },
  {
   "cell_type": "markdown",
   "metadata": {},
   "source": [
    "## Unblance Data 만들기 "
   ]
  },
  {
   "cell_type": "code",
   "execution_count": 7,
   "metadata": {},
   "outputs": [],
   "source": [
    "# target 값이 1일때 전체 데이터에 대한 비율에 맞춰 추출하기 \n",
    "# 용량을 너무 많이 차지해서 한개씩 실행해야 한다. \n",
    "np.random.seed(0) # 난수고정 \n",
    "target0_001 = target1.iloc[np.random.randint(0,len(target1),size=round((1/999)*len(target0))),:] # 1: 999\n",
    "#target0_01 = target1.iloc[np.random.randint(0,len(target1),size=round((1/99)*len(target0))),:] # 1: 99## unblance data 만들기 \n",
    "#target0_1 = target1.iloc[np.random.randint(0,len(target1),size=round((1/9)*len(target0)),:] # 1:9"
   ]
  },
  {
   "cell_type": "code",
   "execution_count": 8,
   "metadata": {},
   "outputs": [],
   "source": [
    "# 데이터 합치기 \n",
    "\n",
    "data0_001 = pd.concat([target0,target0_001])\n",
    "#data0_01 = pd.concat([target0,target0_01])\n",
    "#data_0_1 = pd.concat([target1,target0_1])"
   ]
  },
  {
   "cell_type": "code",
   "execution_count": 9,
   "metadata": {},
   "outputs": [],
   "source": [
    "X = data0_001.iloc[:,1:]\n",
    "y = data0_001.iloc[:,0]"
   ]
  },
  {
   "cell_type": "code",
   "execution_count": 10,
   "metadata": {},
   "outputs": [],
   "source": [
    "# train data, test data 분할하기. \n",
    "X_train , X_test ,y_train, y_test = train_test_split(X,y,test_size=0.3,random_state=0)"
   ]
  },
  {
   "cell_type": "markdown",
   "metadata": {},
   "source": [
    "## Sampling 기법 import"
   ]
  },
  {
   "cell_type": "code",
   "execution_count": 11,
   "metadata": {},
   "outputs": [],
   "source": [
    "from imblearn.over_sampling import *\n",
    "from imblearn.under_sampling import *\n",
    "from imblearn.ensemble import *\n",
    "from imblearn.combine import *"
   ]
  },
  {
   "cell_type": "code",
   "execution_count": 16,
   "metadata": {},
   "outputs": [],
   "source": [
    "# Over sampling model  \n",
    "# ratio\n",
    "sampling = []\n",
    "sampling.append(SMOTE(random_state=0,k_neighbors=5,kind='borderline1'))\n",
    "sampling.append(SMOTE(random_state=0,k_neighbors=5,kind='borderline2'))\n",
    "sampling.append(SMOTE(random_state=0,k_neighbors=5))\n",
    "sampling.append(RandomOverSampler(random_state=0))\n",
    "sampling.append(ADASYN(random_state=0))"
   ]
  },
  {
   "cell_type": "markdown",
   "metadata": {},
   "source": [
    "## 성능 비교에 활용할 모델은 RandomForestClassifier"
   ]
  },
  {
   "cell_type": "code",
   "execution_count": 17,
   "metadata": {},
   "outputs": [],
   "source": [
    "from sklearn.ensemble import RandomForestClassifier\n",
    "from sklearn.model_selection import cross_val_score\n",
    "from sklearn.metrics import roc_auc_score, f1_score, precision_score, recall_score,accuracy_score"
   ]
  },
  {
   "cell_type": "code",
   "execution_count": 18,
   "metadata": {},
   "outputs": [],
   "source": [
    "roc_auc_10 = []\n",
    "accuracy_10 = []\n",
    "f1_10 = []\n",
    "preci_10 = []\n",
    "recall_10 = []"
   ]
  },
  {
   "cell_type": "code",
   "execution_count": 19,
   "metadata": {},
   "outputs": [],
   "source": [
    "for i in range(len(sampling)):\n",
    "    model = RandomForestClassifier(random_state=0)\n",
    "    X_tra,y_tra = sampling[i].fit_sample(X_train,y_train)\n",
    "    X_tra = X_tra.reshape(-1,29)\n",
    "    y_tra = y_tra.reshape(-1,1)\n",
    "    y_pred = model.fit(X_tra,y_tra).predict(X_test)\n",
    "    y_proba = model.predict_proba(X_test)[:,1]\n",
    "    roc_auc_10.append(roc_auc_score(y_test,y_proba))\n",
    "    accuracy_10.append(accuracy_score(y_test,y_pred))\n",
    "    f1_10.append(f1_score(y_test,y_pred))\n",
    "    preci_10.append(precision_score(y_test,y_pred))\n",
    "    recall_10.append(recall_score(y_test,y_pred))"
   ]
  },
  {
   "cell_type": "code",
   "execution_count": 20,
   "metadata": {},
   "outputs": [
    {
     "data": {
      "text/html": [
       "<div>\n",
       "<style scoped>\n",
       "    .dataframe tbody tr th:only-of-type {\n",
       "        vertical-align: middle;\n",
       "    }\n",
       "\n",
       "    .dataframe tbody tr th {\n",
       "        vertical-align: top;\n",
       "    }\n",
       "\n",
       "    .dataframe thead th {\n",
       "        text-align: right;\n",
       "    }\n",
       "</style>\n",
       "<table border=\"1\" class=\"dataframe\">\n",
       "  <thead>\n",
       "    <tr style=\"text-align: right;\">\n",
       "      <th></th>\n",
       "      <th>modelname</th>\n",
       "      <th>roc_auc</th>\n",
       "      <th>accuracy</th>\n",
       "      <th>f1_score</th>\n",
       "      <th>precision</th>\n",
       "      <th>recall_score</th>\n",
       "    </tr>\n",
       "  </thead>\n",
       "  <tbody>\n",
       "    <tr>\n",
       "      <th>0</th>\n",
       "      <td>SMOTE1</td>\n",
       "      <td>0.500079</td>\n",
       "      <td>0.998988</td>\n",
       "      <td>0.000000</td>\n",
       "      <td>0.000000</td>\n",
       "      <td>0.000000</td>\n",
       "    </tr>\n",
       "    <tr>\n",
       "      <th>1</th>\n",
       "      <td>SMOTE2</td>\n",
       "      <td>0.501455</td>\n",
       "      <td>0.998983</td>\n",
       "      <td>0.000000</td>\n",
       "      <td>0.000000</td>\n",
       "      <td>0.000000</td>\n",
       "    </tr>\n",
       "    <tr>\n",
       "      <th>2</th>\n",
       "      <td>SMOTE</td>\n",
       "      <td>0.522748</td>\n",
       "      <td>0.998770</td>\n",
       "      <td>0.005882</td>\n",
       "      <td>0.015038</td>\n",
       "      <td>0.003656</td>\n",
       "    </tr>\n",
       "    <tr>\n",
       "      <th>3</th>\n",
       "      <td>ROS</td>\n",
       "      <td>0.504697</td>\n",
       "      <td>0.998970</td>\n",
       "      <td>0.000000</td>\n",
       "      <td>0.000000</td>\n",
       "      <td>0.000000</td>\n",
       "    </tr>\n",
       "    <tr>\n",
       "      <th>4</th>\n",
       "      <td>ADASYN</td>\n",
       "      <td>0.522862</td>\n",
       "      <td>0.998816</td>\n",
       "      <td>0.000000</td>\n",
       "      <td>0.000000</td>\n",
       "      <td>0.000000</td>\n",
       "    </tr>\n",
       "  </tbody>\n",
       "</table>\n",
       "</div>"
      ],
      "text/plain": [
       "  modelname   roc_auc  accuracy  f1_score  precision  recall_score\n",
       "0    SMOTE1  0.500079  0.998988  0.000000   0.000000      0.000000\n",
       "1    SMOTE2  0.501455  0.998983  0.000000   0.000000      0.000000\n",
       "2     SMOTE  0.522748  0.998770  0.005882   0.015038      0.003656\n",
       "3       ROS  0.504697  0.998970  0.000000   0.000000      0.000000\n",
       "4    ADASYN  0.522862  0.998816  0.000000   0.000000      0.000000"
      ]
     },
     "execution_count": 20,
     "metadata": {},
     "output_type": "execute_result"
    }
   ],
   "source": [
    "df_1 = pd.DataFrame({'modelname':['SMOTE1','SMOTE2','SMOTE','ROS','ADASYN'],\n",
    "                  'roc_auc':roc_auc_10,'accuracy':accuracy_10,'f1_score':f1_10,'precision':preci_10,\n",
    "                  'recall_score':recall_10})\n",
    "df_1"
   ]
  },
  {
   "cell_type": "code",
   "execution_count": 21,
   "metadata": {},
   "outputs": [
    {
     "data": {
      "image/png": "[encoded data removed]",
      "text/plain": [
       "<Figure size 432x288 with 1 Axes>"
      ]
     },
     "metadata": {},
     "output_type": "display_data"
    }
   ],
   "source": [
    "g = sns.barplot(\"roc_auc\",\"modelname\",data = df_1, palette=\"Set3\",orient = \"h\")\n",
    "g.set_xlabel(\"Roc_Auc_Score\")\n",
    "g = g.set_title(\"Roc_Auc_Score\")"
   ]
  },
  {
   "cell_type": "code",
   "execution_count": 22,
   "metadata": {},
   "outputs": [
    {
     "data": {
      "image/png": "[encoded data removed]",
      "text/plain": [
       "<Figure size 432x288 with 1 Axes>"
      ]
     },
     "metadata": {},
     "output_type": "display_data"
    }
   ],
   "source": [
    "g = sns.barplot(\"accuracy\",\"modelname\",data = df_1, palette=\"Set3\",orient = \"h\")\n",
    "g.set_xlabel(\"Accuracy_Score\")\n",
    "g = g.set_title(\"Accuracy_Score\")"
   ]
  },
  {
   "cell_type": "code",
   "execution_count": 23,
   "metadata": {},
   "outputs": [
    {
     "data": {
      "image/png": "[encoded data removed]",
      "text/plain": [
       "<Figure size 432x288 with 1 Axes>"
      ]
     },
     "metadata": {},
     "output_type": "display_data"
    }
   ],
   "source": [
    "g = sns.barplot(\"f1_score\",\"modelname\",data = df_1, palette=\"Set3\",orient = \"h\")\n",
    "g.set_xlabel(\"F1_Score\")\n",
    "g = g.set_title(\"F1_Score\")"
   ]
  },
  {
   "cell_type": "code",
   "execution_count": 24,
   "metadata": {},
   "outputs": [
    {
     "data": {
      "image/png": "[encoded data removed]",
      "text/plain": [
       "<Figure size 432x288 with 1 Axes>"
      ]
     },
     "metadata": {},
     "output_type": "display_data"
    }
   ],
   "source": [
    "g = sns.barplot(\"precision\",\"modelname\",data = df_1, palette=\"Set3\",orient = \"h\")\n",
    "g.set_xlabel(\"Precision_Score\")\n",
    "g = g.set_title(\"Precision_Score\")"
   ]
  },
  {
   "cell_type": "code",
   "execution_count": 25,
   "metadata": {},
   "outputs": [
    {
     "data": {
      "image/png": "[encoded data removed]",
      "text/plain": [
       "<Figure size 432x288 with 1 Axes>"
      ]
     },
     "metadata": {},
     "output_type": "display_data"
    }
   ],
   "source": [
    "g = sns.barplot(\"recall_score\",\"modelname\",data = df_1, palette=\"Set3\",orient = \"h\")\n",
    "g.set_xlabel(\"Recall_Score\")\n",
    "g = g.set_title(\"Recall_Score\")"
   ]
  },
  {
   "cell_type": "code",
   "execution_count": 26,
   "metadata": {},
   "outputs": [],
   "source": [
    "# Over sampling model  \n",
    "# ratio\n",
    "sampling = []\n",
    "sampling.append(RandomOverSampler(random_state=0))\n",
    "sampling.append(SMOTE(random_state=0,k_neighbors=5,kind='borderline1'))\n",
    "sampling.append(SMOTE(random_state=0,k_neighbors=5,kind='borderline2'))\n",
    "sampling.append(SMOTE(random_state=0,k_neighbors=5))\n",
    "sampling.append(ADASYN(random_state=0))\n",
    "#kind='borderline1', kind='borderline2'\n",
    "# Under sampling model \n",
    "#sampling.append(RandomUnderSampler(random_state=0))"
   ]
  },
  {
   "cell_type": "code",
   "execution_count": 28,
   "metadata": {},
   "outputs": [
    {
     "ename": "ValueError",
     "evalue": "bad input shape (549603, 2)",
     "output_type": "error",
     "traceback": [
      "\u001b[1;31m---------------------------------------------------------------------------\u001b[0m",
      "\u001b[1;31mValueError\u001b[0m                                Traceback (most recent call last)",
      "\u001b[1;32m<ipython-input-28-a44ed8937ce0>\u001b[0m in \u001b[0;36m<module>\u001b[1;34m()\u001b[0m\n\u001b[0;32m     45\u001b[0m \u001b[1;32mfor\u001b[0m \u001b[0mi\u001b[0m \u001b[1;32min\u001b[0m \u001b[0mrange\u001b[0m\u001b[1;33m(\u001b[0m\u001b[0mlen\u001b[0m\u001b[1;33m(\u001b[0m\u001b[0mpredict\u001b[0m\u001b[1;33m)\u001b[0m\u001b[1;33m)\u001b[0m\u001b[1;33m:\u001b[0m\u001b[1;33m\u001b[0m\u001b[0m\n\u001b[0;32m     46\u001b[0m     \u001b[0mpredict_acc\u001b[0m\u001b[1;33m.\u001b[0m\u001b[0mappend\u001b[0m\u001b[1;33m(\u001b[0m\u001b[0maccuracy_score\u001b[0m\u001b[1;33m(\u001b[0m\u001b[0my_test\u001b[0m\u001b[1;33m,\u001b[0m\u001b[0mpredict\u001b[0m\u001b[1;33m[\u001b[0m\u001b[0mi\u001b[0m\u001b[1;33m]\u001b[0m\u001b[1;33m)\u001b[0m\u001b[1;33m)\u001b[0m\u001b[1;33m\u001b[0m\u001b[0m\n\u001b[1;32m---> 47\u001b[1;33m     \u001b[0mpredict_roc\u001b[0m\u001b[1;33m.\u001b[0m\u001b[0mappend\u001b[0m\u001b[1;33m(\u001b[0m\u001b[0mroc_auc_score\u001b[0m\u001b[1;33m(\u001b[0m\u001b[0my_test\u001b[0m\u001b[1;33m,\u001b[0m\u001b[0mproba\u001b[0m\u001b[1;33m[\u001b[0m\u001b[0mi\u001b[0m\u001b[1;33m]\u001b[0m\u001b[1;33m)\u001b[0m\u001b[1;33m)\u001b[0m\u001b[1;33m\u001b[0m\u001b[0m\n\u001b[0m\u001b[0;32m     48\u001b[0m     \u001b[0mpredict_f1\u001b[0m\u001b[1;33m.\u001b[0m\u001b[0mappend\u001b[0m\u001b[1;33m(\u001b[0m\u001b[0mf1_score\u001b[0m\u001b[1;33m(\u001b[0m\u001b[0my_test\u001b[0m\u001b[1;33m,\u001b[0m\u001b[0mpredict\u001b[0m\u001b[1;33m[\u001b[0m\u001b[0mi\u001b[0m\u001b[1;33m]\u001b[0m\u001b[1;33m)\u001b[0m\u001b[1;33m)\u001b[0m\u001b[1;33m\u001b[0m\u001b[0m\n\u001b[0;32m     49\u001b[0m     \u001b[0mpredict_recall\u001b[0m\u001b[1;33m.\u001b[0m\u001b[0mappend\u001b[0m\u001b[1;33m(\u001b[0m\u001b[0mrecall_score\u001b[0m\u001b[1;33m(\u001b[0m\u001b[0my_test\u001b[0m\u001b[1;33m,\u001b[0m\u001b[0mpredict\u001b[0m\u001b[1;33m[\u001b[0m\u001b[0mi\u001b[0m\u001b[1;33m]\u001b[0m\u001b[1;33m)\u001b[0m\u001b[1;33m)\u001b[0m\u001b[1;33m\u001b[0m\u001b[0m\n",
      "\u001b[1;32m~\\Anaconda3\\lib\\site-packages\\sklearn\\metrics\\ranking.py\u001b[0m in \u001b[0;36mroc_auc_score\u001b[1;34m(y_true, y_score, average, sample_weight, max_fpr)\u001b[0m\n\u001b[0;32m    354\u001b[0m     return _average_binary_score(\n\u001b[0;32m    355\u001b[0m         \u001b[0m_binary_roc_auc_score\u001b[0m\u001b[1;33m,\u001b[0m \u001b[0my_true\u001b[0m\u001b[1;33m,\u001b[0m \u001b[0my_score\u001b[0m\u001b[1;33m,\u001b[0m \u001b[0maverage\u001b[0m\u001b[1;33m,\u001b[0m\u001b[1;33m\u001b[0m\u001b[0m\n\u001b[1;32m--> 356\u001b[1;33m         sample_weight=sample_weight)\n\u001b[0m\u001b[0;32m    357\u001b[0m \u001b[1;33m\u001b[0m\u001b[0m\n\u001b[0;32m    358\u001b[0m \u001b[1;33m\u001b[0m\u001b[0m\n",
      "\u001b[1;32m~\\Anaconda3\\lib\\site-packages\\sklearn\\metrics\\base.py\u001b[0m in \u001b[0;36m_average_binary_score\u001b[1;34m(binary_metric, y_true, y_score, average, sample_weight)\u001b[0m\n\u001b[0;32m     75\u001b[0m \u001b[1;33m\u001b[0m\u001b[0m\n\u001b[0;32m     76\u001b[0m     \u001b[1;32mif\u001b[0m \u001b[0my_type\u001b[0m \u001b[1;33m==\u001b[0m \u001b[1;34m\"binary\"\u001b[0m\u001b[1;33m:\u001b[0m\u001b[1;33m\u001b[0m\u001b[0m\n\u001b[1;32m---> 77\u001b[1;33m         \u001b[1;32mreturn\u001b[0m \u001b[0mbinary_metric\u001b[0m\u001b[1;33m(\u001b[0m\u001b[0my_true\u001b[0m\u001b[1;33m,\u001b[0m \u001b[0my_score\u001b[0m\u001b[1;33m,\u001b[0m \u001b[0msample_weight\u001b[0m\u001b[1;33m=\u001b[0m\u001b[0msample_weight\u001b[0m\u001b[1;33m)\u001b[0m\u001b[1;33m\u001b[0m\u001b[0m\n\u001b[0m\u001b[0;32m     78\u001b[0m \u001b[1;33m\u001b[0m\u001b[0m\n\u001b[0;32m     79\u001b[0m     \u001b[0mcheck_consistent_length\u001b[0m\u001b[1;33m(\u001b[0m\u001b[0my_true\u001b[0m\u001b[1;33m,\u001b[0m \u001b[0my_score\u001b[0m\u001b[1;33m,\u001b[0m \u001b[0msample_weight\u001b[0m\u001b[1;33m)\u001b[0m\u001b[1;33m\u001b[0m\u001b[0m\n",
      "\u001b[1;32m~\\Anaconda3\\lib\\site-packages\\sklearn\\metrics\\ranking.py\u001b[0m in \u001b[0;36m_binary_roc_auc_score\u001b[1;34m(y_true, y_score, sample_weight)\u001b[0m\n\u001b[0;32m    326\u001b[0m \u001b[1;33m\u001b[0m\u001b[0m\n\u001b[0;32m    327\u001b[0m         fpr, tpr, _ = roc_curve(y_true, y_score,\n\u001b[1;32m--> 328\u001b[1;33m                                 sample_weight=sample_weight)\n\u001b[0m\u001b[0;32m    329\u001b[0m         \u001b[1;32mif\u001b[0m \u001b[0mmax_fpr\u001b[0m \u001b[1;32mis\u001b[0m \u001b[1;32mNone\u001b[0m \u001b[1;32mor\u001b[0m \u001b[0mmax_fpr\u001b[0m \u001b[1;33m==\u001b[0m \u001b[1;36m1\u001b[0m\u001b[1;33m:\u001b[0m\u001b[1;33m\u001b[0m\u001b[0m\n\u001b[0;32m    330\u001b[0m             \u001b[1;32mreturn\u001b[0m \u001b[0mauc\u001b[0m\u001b[1;33m(\u001b[0m\u001b[0mfpr\u001b[0m\u001b[1;33m,\u001b[0m \u001b[0mtpr\u001b[0m\u001b[1;33m)\u001b[0m\u001b[1;33m\u001b[0m\u001b[0m\n",
      "\u001b[1;32m~\\Anaconda3\\lib\\site-packages\\sklearn\\metrics\\ranking.py\u001b[0m in \u001b[0;36mroc_curve\u001b[1;34m(y_true, y_score, pos_label, sample_weight, drop_intermediate)\u001b[0m\n\u001b[0;32m    616\u001b[0m     \"\"\"\n\u001b[0;32m    617\u001b[0m     fps, tps, thresholds = _binary_clf_curve(\n\u001b[1;32m--> 618\u001b[1;33m         y_true, y_score, pos_label=pos_label, sample_weight=sample_weight)\n\u001b[0m\u001b[0;32m    619\u001b[0m \u001b[1;33m\u001b[0m\u001b[0m\n\u001b[0;32m    620\u001b[0m     \u001b[1;31m# Attempt to drop thresholds corresponding to points in between and\u001b[0m\u001b[1;33m\u001b[0m\u001b[1;33m\u001b[0m\u001b[0m\n",
      "\u001b[1;32m~\\Anaconda3\\lib\\site-packages\\sklearn\\metrics\\ranking.py\u001b[0m in \u001b[0;36m_binary_clf_curve\u001b[1;34m(y_true, y_score, pos_label, sample_weight)\u001b[0m\n\u001b[0;32m    399\u001b[0m     \u001b[0mcheck_consistent_length\u001b[0m\u001b[1;33m(\u001b[0m\u001b[0my_true\u001b[0m\u001b[1;33m,\u001b[0m \u001b[0my_score\u001b[0m\u001b[1;33m,\u001b[0m \u001b[0msample_weight\u001b[0m\u001b[1;33m)\u001b[0m\u001b[1;33m\u001b[0m\u001b[0m\n\u001b[0;32m    400\u001b[0m     \u001b[0my_true\u001b[0m \u001b[1;33m=\u001b[0m \u001b[0mcolumn_or_1d\u001b[0m\u001b[1;33m(\u001b[0m\u001b[0my_true\u001b[0m\u001b[1;33m)\u001b[0m\u001b[1;33m\u001b[0m\u001b[0m\n\u001b[1;32m--> 401\u001b[1;33m     \u001b[0my_score\u001b[0m \u001b[1;33m=\u001b[0m \u001b[0mcolumn_or_1d\u001b[0m\u001b[1;33m(\u001b[0m\u001b[0my_score\u001b[0m\u001b[1;33m)\u001b[0m\u001b[1;33m\u001b[0m\u001b[0m\n\u001b[0m\u001b[0;32m    402\u001b[0m     \u001b[0massert_all_finite\u001b[0m\u001b[1;33m(\u001b[0m\u001b[0my_true\u001b[0m\u001b[1;33m)\u001b[0m\u001b[1;33m\u001b[0m\u001b[0m\n\u001b[0;32m    403\u001b[0m     \u001b[0massert_all_finite\u001b[0m\u001b[1;33m(\u001b[0m\u001b[0my_score\u001b[0m\u001b[1;33m)\u001b[0m\u001b[1;33m\u001b[0m\u001b[0m\n",
      "\u001b[1;32m~\\Anaconda3\\lib\\site-packages\\sklearn\\utils\\validation.py\u001b[0m in \u001b[0;36mcolumn_or_1d\u001b[1;34m(y, warn)\u001b[0m\n\u001b[0;32m    795\u001b[0m         \u001b[1;32mreturn\u001b[0m \u001b[0mnp\u001b[0m\u001b[1;33m.\u001b[0m\u001b[0mravel\u001b[0m\u001b[1;33m(\u001b[0m\u001b[0my\u001b[0m\u001b[1;33m)\u001b[0m\u001b[1;33m\u001b[0m\u001b[0m\n\u001b[0;32m    796\u001b[0m \u001b[1;33m\u001b[0m\u001b[0m\n\u001b[1;32m--> 797\u001b[1;33m     \u001b[1;32mraise\u001b[0m \u001b[0mValueError\u001b[0m\u001b[1;33m(\u001b[0m\u001b[1;34m\"bad input shape {0}\"\u001b[0m\u001b[1;33m.\u001b[0m\u001b[0mformat\u001b[0m\u001b[1;33m(\u001b[0m\u001b[0mshape\u001b[0m\u001b[1;33m)\u001b[0m\u001b[1;33m)\u001b[0m\u001b[1;33m\u001b[0m\u001b[0m\n\u001b[0m\u001b[0;32m    798\u001b[0m \u001b[1;33m\u001b[0m\u001b[0m\n\u001b[0;32m    799\u001b[0m \u001b[1;33m\u001b[0m\u001b[0m\n",
      "\u001b[1;31mValueError\u001b[0m: bad input shape (549603, 2)"
     ]
    }
   ],
   "source": [
    "acu_mean = []\n",
    "acu_sd = []\n",
    "roc_mean = []\n",
    "roc_sd = []\n",
    "f1_mean = []\n",
    "f1_sd = []\n",
    "recall_mean = []\n",
    "recall_sd = []\n",
    "preci_mean = []\n",
    "preci_sd = []\n",
    "predict  = []\n",
    "proba = []\n",
    "for i in range(len(sampling)):\n",
    "    model = RandomForestClassifier(random_state=0)\n",
    "    X_trains , y_trains = sampling[i].fit_sample(X_train,y_train)\n",
    "    scores_accu = cross_val_score(model, X_trains, y_trains, cv = 3,scoring='accuracy',n_jobs = -1)\n",
    "    scores_roc_auc = cross_val_score(model, X_trains, y_trains, cv = 3,scoring='roc_auc',n_jobs = -1)\n",
    "    scores_f1 = cross_val_score(model, X_trains, y_trains, cv = 3,scoring='f1',n_jobs = -1)\n",
    "    scores_recall = cross_val_score(model, X_trains, y_trains, cv = 3,scoring='recall',n_jobs = -1)\n",
    "    scores_precision = cross_val_score(model, X_trains, y_trains, cv = 3,scoring='precision',n_jobs = -1)\n",
    "    acu_mean.append(scores_accu.mean())\n",
    "    acu_sd.append(scores_accu.std())\n",
    "    roc_mean.append(scores_roc_auc.mean())\n",
    "    roc_sd.append(scores_roc_auc.std())\n",
    "    f1_mean.append(scores_f1.mean())\n",
    "    f1_sd.append(scores_f1.std())\n",
    "    recall_mean.append(scores_recall.mean())\n",
    "    recall_sd.append(scores_recall.std())\n",
    "    preci_mean.append(scores_precision.mean())\n",
    "    preci_mean.append(scores_precision.std())\n",
    "    model.fit(X_trains,y_trains)\n",
    "    predict.append(model.predict(X_test))\n",
    "    proba.append(model.predict_proba(X_test))\n",
    "# pricision이 제대로 안나와서 전처리 따로 \n",
    "pri_sd = []\n",
    "pri = []\n",
    "for i in range(5):\n",
    "    pri_sd.append(preci_mean[1+2*i])\n",
    "    pri.append(preci_mean[2*i])\n",
    "predict_acc = []\n",
    "predict_f1 = []\n",
    "predict_recall = []\n",
    "predict_roc = []\n",
    "predict_pri = []\n",
    "for i in range(len(predict)):\n",
    "    predict_acc.append(accuracy_score(y_test,predict[i]))\n",
    "    predict_roc.append(roc_auc_score(y_test,proba[i][:,1]))\n",
    "    predict_f1.append(f1_score(y_test,predict[i]))\n",
    "    predict_recall.append(recall_score(y_test,predict[i]))\n",
    "    predict_pri.append(precision_score(y_test,predict[i]))   "
   ]
  },
  {
   "cell_type": "code",
   "execution_count": 30,
   "metadata": {},
   "outputs": [
    {
     "data": {
      "text/html": [
       "<div>\n",
       "<style scoped>\n",
       "    .dataframe tbody tr th:only-of-type {\n",
       "        vertical-align: middle;\n",
       "    }\n",
       "\n",
       "    .dataframe tbody tr th {\n",
       "        vertical-align: top;\n",
       "    }\n",
       "\n",
       "    .dataframe thead th {\n",
       "        text-align: right;\n",
       "    }\n",
       "</style>\n",
       "<table border=\"1\" class=\"dataframe\">\n",
       "  <thead>\n",
       "    <tr style=\"text-align: right;\">\n",
       "      <th></th>\n",
       "      <th>Scoring</th>\n",
       "      <th>AMean</th>\n",
       "      <th>AStd</th>\n",
       "      <th>roc_auc_mean</th>\n",
       "      <th>roc_auc_std</th>\n",
       "      <th>f1_mean</th>\n",
       "      <th>f1_sd</th>\n",
       "      <th>recall_mean</th>\n",
       "      <th>recall_sd</th>\n",
       "      <th>preci_mean</th>\n",
       "      <th>preci_sd</th>\n",
       "      <th>test_accu</th>\n",
       "      <th>test_f1</th>\n",
       "      <th>test_recall</th>\n",
       "      <th>test_pre</th>\n",
       "      <th>test_roc_auc</th>\n",
       "    </tr>\n",
       "  </thead>\n",
       "  <tbody>\n",
       "    <tr>\n",
       "      <th>0</th>\n",
       "      <td>SMOTE1</td>\n",
       "      <td>0.999972</td>\n",
       "      <td>0.000001</td>\n",
       "      <td>0.999999</td>\n",
       "      <td>9.559932e-07</td>\n",
       "      <td>0.999972</td>\n",
       "      <td>0.000001</td>\n",
       "      <td>1.000000</td>\n",
       "      <td>0.000000</td>\n",
       "      <td>0.999945</td>\n",
       "      <td>0.000002</td>\n",
       "      <td>0.998970</td>\n",
       "      <td>0.000000</td>\n",
       "      <td>0.000000</td>\n",
       "      <td>0.000000</td>\n",
       "      <td>0.504697</td>\n",
       "    </tr>\n",
       "    <tr>\n",
       "      <th>1</th>\n",
       "      <td>SMOTE2</td>\n",
       "      <td>0.999494</td>\n",
       "      <td>0.000696</td>\n",
       "      <td>0.999514</td>\n",
       "      <td>6.870355e-04</td>\n",
       "      <td>0.999493</td>\n",
       "      <td>0.000697</td>\n",
       "      <td>0.999008</td>\n",
       "      <td>0.001398</td>\n",
       "      <td>0.999980</td>\n",
       "      <td>0.000006</td>\n",
       "      <td>0.998988</td>\n",
       "      <td>0.000000</td>\n",
       "      <td>0.000000</td>\n",
       "      <td>0.000000</td>\n",
       "      <td>0.500079</td>\n",
       "    </tr>\n",
       "    <tr>\n",
       "      <th>2</th>\n",
       "      <td>SMOTE</td>\n",
       "      <td>0.999489</td>\n",
       "      <td>0.000701</td>\n",
       "      <td>0.999517</td>\n",
       "      <td>6.835468e-04</td>\n",
       "      <td>0.999488</td>\n",
       "      <td>0.000702</td>\n",
       "      <td>0.999003</td>\n",
       "      <td>0.001406</td>\n",
       "      <td>0.999975</td>\n",
       "      <td>0.000005</td>\n",
       "      <td>0.998983</td>\n",
       "      <td>0.000000</td>\n",
       "      <td>0.000000</td>\n",
       "      <td>0.000000</td>\n",
       "      <td>0.501455</td>\n",
       "    </tr>\n",
       "    <tr>\n",
       "      <th>3</th>\n",
       "      <td>ROS</td>\n",
       "      <td>0.999309</td>\n",
       "      <td>0.000516</td>\n",
       "      <td>0.999882</td>\n",
       "      <td>1.477292e-04</td>\n",
       "      <td>0.999309</td>\n",
       "      <td>0.000517</td>\n",
       "      <td>0.999042</td>\n",
       "      <td>0.001070</td>\n",
       "      <td>0.999576</td>\n",
       "      <td>0.000038</td>\n",
       "      <td>0.998770</td>\n",
       "      <td>0.005882</td>\n",
       "      <td>0.003656</td>\n",
       "      <td>0.015038</td>\n",
       "      <td>0.522748</td>\n",
       "    </tr>\n",
       "    <tr>\n",
       "      <th>4</th>\n",
       "      <td>ADASYN</td>\n",
       "      <td>0.885720</td>\n",
       "      <td>0.005448</td>\n",
       "      <td>0.984813</td>\n",
       "      <td>3.374008e-03</td>\n",
       "      <td>0.870953</td>\n",
       "      <td>0.006930</td>\n",
       "      <td>0.771726</td>\n",
       "      <td>0.010914</td>\n",
       "      <td>0.999574</td>\n",
       "      <td>0.000023</td>\n",
       "      <td>0.998816</td>\n",
       "      <td>0.000000</td>\n",
       "      <td>0.000000</td>\n",
       "      <td>0.000000</td>\n",
       "      <td>0.522862</td>\n",
       "    </tr>\n",
       "  </tbody>\n",
       "</table>\n",
       "</div>"
      ],
      "text/plain": [
       "  Scoring     AMean      AStd  roc_auc_mean   roc_auc_std   f1_mean     f1_sd  \\\n",
       "0  SMOTE1  0.999972  0.000001      0.999999  9.559932e-07  0.999972  0.000001   \n",
       "1  SMOTE2  0.999494  0.000696      0.999514  6.870355e-04  0.999493  0.000697   \n",
       "2   SMOTE  0.999489  0.000701      0.999517  6.835468e-04  0.999488  0.000702   \n",
       "3     ROS  0.999309  0.000516      0.999882  1.477292e-04  0.999309  0.000517   \n",
       "4  ADASYN  0.885720  0.005448      0.984813  3.374008e-03  0.870953  0.006930   \n",
       "\n",
       "   recall_mean  recall_sd  preci_mean  preci_sd  test_accu   test_f1  \\\n",
       "0     1.000000   0.000000    0.999945  0.000002   0.998970  0.000000   \n",
       "1     0.999008   0.001398    0.999980  0.000006   0.998988  0.000000   \n",
       "2     0.999003   0.001406    0.999975  0.000005   0.998983  0.000000   \n",
       "3     0.999042   0.001070    0.999576  0.000038   0.998770  0.005882   \n",
       "4     0.771726   0.010914    0.999574  0.000023   0.998816  0.000000   \n",
       "\n",
       "   test_recall  test_pre  test_roc_auc  \n",
       "0     0.000000  0.000000      0.504697  \n",
       "1     0.000000  0.000000      0.500079  \n",
       "2     0.000000  0.000000      0.501455  \n",
       "3     0.003656  0.015038      0.522748  \n",
       "4     0.000000  0.000000      0.522862  "
      ]
     },
     "execution_count": 30,
     "metadata": {},
     "output_type": "execute_result"
    }
   ],
   "source": [
    "cv_res = pd.DataFrame({'Scoring':['SMOTE1','SMOTE2','SMOTE','ROS','ADASYN'],\n",
    "                       'AMean':acu_mean,'AStd':acu_sd,\n",
    "                      'roc_auc_mean':roc_mean,'roc_auc_std':roc_sd,'f1_mean':f1_mean,\n",
    "                      'f1_sd':f1_sd,'recall_mean':recall_mean,'recall_sd':recall_sd,\n",
    "                      'preci_mean':pri,'preci_sd':pri_sd,'test_accu':predict_acc,\n",
    "                      'test_f1':predict_f1,'test_recall':predict_recall,'test_pre':predict_pri,\n",
    "                      'test_roc_auc':predict_roc})\n",
    "cv_res"
   ]
  },
  {
   "cell_type": "code",
   "execution_count": 31,
   "metadata": {},
   "outputs": [
    {
     "data": {
      "text/html": [
       "<div>\n",
       "<style scoped>\n",
       "    .dataframe tbody tr th:only-of-type {\n",
       "        vertical-align: middle;\n",
       "    }\n",
       "\n",
       "    .dataframe tbody tr th {\n",
       "        vertical-align: top;\n",
       "    }\n",
       "\n",
       "    .dataframe thead th {\n",
       "        text-align: right;\n",
       "    }\n",
       "</style>\n",
       "<table border=\"1\" class=\"dataframe\">\n",
       "  <thead>\n",
       "    <tr style=\"text-align: right;\">\n",
       "      <th></th>\n",
       "      <th>Scoring</th>\n",
       "      <th>AMean</th>\n",
       "      <th>AStd</th>\n",
       "      <th>roc_auc_mean</th>\n",
       "      <th>roc_auc_std</th>\n",
       "      <th>f1_mean</th>\n",
       "      <th>f1_sd</th>\n",
       "      <th>recall_mean</th>\n",
       "      <th>recall_sd</th>\n",
       "      <th>preci_mean</th>\n",
       "      <th>preci_sd</th>\n",
       "      <th>test_accu</th>\n",
       "      <th>test_f1</th>\n",
       "      <th>test_recall</th>\n",
       "      <th>test_pre</th>\n",
       "      <th>test_roc_auc</th>\n",
       "    </tr>\n",
       "  </thead>\n",
       "  <tbody>\n",
       "    <tr>\n",
       "      <th>0</th>\n",
       "      <td>SMOTE1</td>\n",
       "      <td>0.999972</td>\n",
       "      <td>0.000001</td>\n",
       "      <td>0.999999</td>\n",
       "      <td>9.559932e-07</td>\n",
       "      <td>0.999972</td>\n",
       "      <td>0.000001</td>\n",
       "      <td>1.000000</td>\n",
       "      <td>0.000000</td>\n",
       "      <td>0.999945</td>\n",
       "      <td>0.000002</td>\n",
       "      <td>0.998970</td>\n",
       "      <td>0.000000</td>\n",
       "      <td>0.000000</td>\n",
       "      <td>0.000000</td>\n",
       "      <td>0.504697</td>\n",
       "    </tr>\n",
       "    <tr>\n",
       "      <th>1</th>\n",
       "      <td>SMOTE2</td>\n",
       "      <td>0.999494</td>\n",
       "      <td>0.000696</td>\n",
       "      <td>0.999514</td>\n",
       "      <td>6.870355e-04</td>\n",
       "      <td>0.999493</td>\n",
       "      <td>0.000697</td>\n",
       "      <td>0.999008</td>\n",
       "      <td>0.001398</td>\n",
       "      <td>0.999980</td>\n",
       "      <td>0.000006</td>\n",
       "      <td>0.998988</td>\n",
       "      <td>0.000000</td>\n",
       "      <td>0.000000</td>\n",
       "      <td>0.000000</td>\n",
       "      <td>0.500079</td>\n",
       "    </tr>\n",
       "    <tr>\n",
       "      <th>2</th>\n",
       "      <td>SMOTE</td>\n",
       "      <td>0.999489</td>\n",
       "      <td>0.000701</td>\n",
       "      <td>0.999517</td>\n",
       "      <td>6.835468e-04</td>\n",
       "      <td>0.999488</td>\n",
       "      <td>0.000702</td>\n",
       "      <td>0.999003</td>\n",
       "      <td>0.001406</td>\n",
       "      <td>0.999975</td>\n",
       "      <td>0.000005</td>\n",
       "      <td>0.998983</td>\n",
       "      <td>0.000000</td>\n",
       "      <td>0.000000</td>\n",
       "      <td>0.000000</td>\n",
       "      <td>0.501455</td>\n",
       "    </tr>\n",
       "    <tr>\n",
       "      <th>3</th>\n",
       "      <td>ROS</td>\n",
       "      <td>0.999309</td>\n",
       "      <td>0.000516</td>\n",
       "      <td>0.999882</td>\n",
       "      <td>1.477292e-04</td>\n",
       "      <td>0.999309</td>\n",
       "      <td>0.000517</td>\n",
       "      <td>0.999042</td>\n",
       "      <td>0.001070</td>\n",
       "      <td>0.999576</td>\n",
       "      <td>0.000038</td>\n",
       "      <td>0.998770</td>\n",
       "      <td>0.005882</td>\n",
       "      <td>0.003656</td>\n",
       "      <td>0.015038</td>\n",
       "      <td>0.522748</td>\n",
       "    </tr>\n",
       "    <tr>\n",
       "      <th>4</th>\n",
       "      <td>ADASYN</td>\n",
       "      <td>0.885720</td>\n",
       "      <td>0.005448</td>\n",
       "      <td>0.984813</td>\n",
       "      <td>3.374008e-03</td>\n",
       "      <td>0.870953</td>\n",
       "      <td>0.006930</td>\n",
       "      <td>0.771726</td>\n",
       "      <td>0.010914</td>\n",
       "      <td>0.999574</td>\n",
       "      <td>0.000023</td>\n",
       "      <td>0.998816</td>\n",
       "      <td>0.000000</td>\n",
       "      <td>0.000000</td>\n",
       "      <td>0.000000</td>\n",
       "      <td>0.522862</td>\n",
       "    </tr>\n",
       "  </tbody>\n",
       "</table>\n",
       "</div>"
      ],
      "text/plain": [
       "  Scoring     AMean      AStd  roc_auc_mean   roc_auc_std   f1_mean     f1_sd  \\\n",
       "0  SMOTE1  0.999972  0.000001      0.999999  9.559932e-07  0.999972  0.000001   \n",
       "1  SMOTE2  0.999494  0.000696      0.999514  6.870355e-04  0.999493  0.000697   \n",
       "2   SMOTE  0.999489  0.000701      0.999517  6.835468e-04  0.999488  0.000702   \n",
       "3     ROS  0.999309  0.000516      0.999882  1.477292e-04  0.999309  0.000517   \n",
       "4  ADASYN  0.885720  0.005448      0.984813  3.374008e-03  0.870953  0.006930   \n",
       "\n",
       "   recall_mean  recall_sd  preci_mean  preci_sd  test_accu   test_f1  \\\n",
       "0     1.000000   0.000000    0.999945  0.000002   0.998970  0.000000   \n",
       "1     0.999008   0.001398    0.999980  0.000006   0.998988  0.000000   \n",
       "2     0.999003   0.001406    0.999975  0.000005   0.998983  0.000000   \n",
       "3     0.999042   0.001070    0.999576  0.000038   0.998770  0.005882   \n",
       "4     0.771726   0.010914    0.999574  0.000023   0.998816  0.000000   \n",
       "\n",
       "   test_recall  test_pre  test_roc_auc  \n",
       "0     0.000000  0.000000      0.504697  \n",
       "1     0.000000  0.000000      0.500079  \n",
       "2     0.000000  0.000000      0.501455  \n",
       "3     0.003656  0.015038      0.522748  \n",
       "4     0.000000  0.000000      0.522862  "
      ]
     },
     "execution_count": 31,
     "metadata": {},
     "output_type": "execute_result"
    }
   ],
   "source": [
    "oversampling = cv_res\n",
    "oversampling"
   ]
  },
  {
   "cell_type": "code",
   "execution_count": 37,
   "metadata": {},
   "outputs": [
    {
     "data": {
      "image/png": "[encoded data removed]",
      "text/plain": [
       "<Figure size 432x288 with 1 Axes>"
      ]
     },
     "metadata": {},
     "output_type": "display_data"
    }
   ],
   "source": [
    "g = sns.barplot(\"AMean\",\"Scoring\",data = oversampling, palette=\"Set3\",orient = \"h\",**{'xerr':acu_sd})\n",
    "g.set_xlabel(\"Mean Accuracy\")\n",
    "g = g.set_title(\"Cross validation scores of accuracy\")"
   ]
  },
  {
   "cell_type": "code",
   "execution_count": 38,
   "metadata": {},
   "outputs": [
    {
     "data": {
      "image/png": "[encoded data removed]",
      "text/plain": [
       "<Figure size 432x288 with 1 Axes>"
      ]
     },
     "metadata": {},
     "output_type": "display_data"
    }
   ],
   "source": [
    "g = sns.barplot(\"roc_auc_mean\",\"Scoring\",data = oversampling, palette=\"Set3\",orient = \"h\",**{'xerr':acu_sd})\n",
    "g.set_xlabel(\"Mean Roc_Auc_Score\")\n",
    "g = g.set_title(\"Cross validation scores of Roc_Auc_Score\")"
   ]
  },
  {
   "cell_type": "code",
   "execution_count": 39,
   "metadata": {},
   "outputs": [
    {
     "data": {
      "image/png": "[encoded data removed]",
      "text/plain": [
       "<Figure size 432x288 with 1 Axes>"
      ]
     },
     "metadata": {},
     "output_type": "display_data"
    }
   ],
   "source": [
    "g = sns.barplot(\"f1_mean\",\"Scoring\",data = oversampling, palette=\"Set3\",orient = \"h\",**{'xerr':acu_sd})\n",
    "g.set_xlabel(\"Mean F1_Score\")\n",
    "g = g.set_title(\"Cross validation scores of F1_Score\")"
   ]
  },
  {
   "cell_type": "code",
   "execution_count": 40,
   "metadata": {},
   "outputs": [
    {
     "data": {
      "image/png": "[encoded data removed]",
      "text/plain": [
       "<Figure size 432x288 with 1 Axes>"
      ]
     },
     "metadata": {},
     "output_type": "display_data"
    }
   ],
   "source": [
    "g = sns.barplot('recall_mean',\"Scoring\",data = oversampling, palette=\"Set3\",orient = \"h\",**{'xerr':acu_sd})\n",
    "g.set_xlabel(\"Mean Recall_Score\")\n",
    "g = g.set_title(\"Cross validation scores of Recall_Score\")"
   ]
  },
  {
   "cell_type": "code",
   "execution_count": 41,
   "metadata": {},
   "outputs": [
    {
     "data": {
      "image/png": "[encoded data removed]",
      "text/plain": [
       "<Figure size 432x288 with 1 Axes>"
      ]
     },
     "metadata": {},
     "output_type": "display_data"
    }
   ],
   "source": [
    "g = sns.barplot('preci_mean',\"Scoring\",data = oversampling, palette=\"Set3\",orient = \"h\",**{'xerr':acu_sd})\n",
    "g.set_xlabel(\"Mean Pricision_Score\")\n",
    "g = g.set_title(\"Cross validation scores of Pricision_Score\")"
   ]
  },
  {
   "cell_type": "code",
   "execution_count": 42,
   "metadata": {},
   "outputs": [
    {
     "data": {
      "image/png": "[encoded data removed]",
      "text/plain": [
       "<Figure size 432x288 with 1 Axes>"
      ]
     },
     "metadata": {},
     "output_type": "display_data"
    }
   ],
   "source": [
    "g = sns.barplot('test_accu',\"Scoring\",data = oversampling, palette=\"Set3\",orient = \"h\")\n",
    "g.set_xlabel(\"Test Accu_Score\")\n",
    "g = g.set_title(\"Test Accuracy_Score\")"
   ]
  },
  {
   "cell_type": "code",
   "execution_count": 43,
   "metadata": {},
   "outputs": [
    {
     "data": {
      "image/png": "[encoded data removed]",
      "text/plain": [
       "<Figure size 432x288 with 1 Axes>"
      ]
     },
     "metadata": {},
     "output_type": "display_data"
    }
   ],
   "source": [
    "g = sns.barplot('test_f1',\"Scoring\",data = oversampling, palette=\"Set3\",orient = \"h\")\n",
    "g.set_xlabel(\"Test F1_Score\")\n",
    "g = g.set_title(\"Test F1_Score\")"
   ]
  },
  {
   "cell_type": "code",
   "execution_count": 44,
   "metadata": {},
   "outputs": [
    {
     "data": {
      "image/png": "[encoded data removed]",
      "text/plain": [
       "<Figure size 432x288 with 1 Axes>"
      ]
     },
     "metadata": {},
     "output_type": "display_data"
    }
   ],
   "source": [
    "g = sns.barplot('test_recall',\"Scoring\",data = oversampling, palette=\"Set3\",orient = \"h\")\n",
    "g.set_xlabel(\"Test Recall_Score\")\n",
    "g = g.set_title(\"Test Recall_Score\")"
   ]
  },
  {
   "cell_type": "code",
   "execution_count": 45,
   "metadata": {},
   "outputs": [
    {
     "data": {
      "image/png": "[encoded data removed]",
      "text/plain": [
       "<Figure size 432x288 with 1 Axes>"
      ]
     },
     "metadata": {},
     "output_type": "display_data"
    }
   ],
   "source": [
    "g = sns.barplot('test_pre',\"Scoring\",data = oversampling, palette=\"Set3\",orient = \"h\")\n",
    "g.set_xlabel(\"Test PreCision_Score\")\n",
    "g = g.set_title(\"Test PreCision_Score\")"
   ]
  },
  {
   "cell_type": "code",
   "execution_count": 46,
   "metadata": {},
   "outputs": [
    {
     "data": {
      "image/png": "[encoded data removed]",
      "text/plain": [
       "<Figure size 432x288 with 1 Axes>"
      ]
     },
     "metadata": {},
     "output_type": "display_data"
    }
   ],
   "source": [
    "g = sns.barplot('test_roc_auc',\"Scoring\",data = oversampling, palette=\"Set3\",orient = \"h\")\n",
    "g.set_xlabel(\"Test Roc_Auc_Score\")\n",
    "g = g.set_title(\"Test Roc_Auc_Score\")"
   ]
  },
  {
   "cell_type": "markdown",
   "metadata": {},
   "source": [
    "# Under Sampling Mathod"
   ]
  },
  {
   "cell_type": "code",
   "execution_count": 47,
   "metadata": {},
   "outputs": [],
   "source": [
    "from imblearn.over_sampling import *\n",
    "from imblearn.under_sampling import *\n",
    "from imblearn.ensemble import *\n",
    "from imblearn.combine import *\n",
    "from sklearn.ensemble import RandomForestClassifier\n",
    "from sklearn.model_selection import cross_val_score\n",
    "from sklearn.metrics import roc_auc_score, f1_score, precision_score, recall_score,accuracy_score"
   ]
  },
  {
   "cell_type": "code",
   "execution_count": 48,
   "metadata": {},
   "outputs": [
    {
     "name": "stderr",
     "output_type": "stream",
     "text": [
      "C:\\Users\\hyoun\\Anaconda3\\lib\\site-packages\\sklearn\\utils\\deprecation.py:58: DeprecationWarning: Class BalanceCascade is deprecated; BalanceCascade is deprecated in 0.4 and will be removed in 0.6.\n",
      "  warnings.warn(msg, category=DeprecationWarning)\n",
      "C:\\Users\\hyoun\\Anaconda3\\lib\\site-packages\\sklearn\\utils\\deprecation.py:58: DeprecationWarning: Class EasyEnsemble is deprecated; EasyEnsemble is deprecated in 0.4 and will be removed in 0.6. Use EasyEnsembleClassifier instead.\n",
      "  warnings.warn(msg, category=DeprecationWarning)\n"
     ]
    }
   ],
   "source": [
    "sampling = []\n",
    "sampling.append(RandomUnderSampler(random_state=0))\n",
    "sampling.append(CondensedNearestNeighbour(random_state=0))\n",
    "sampling.append(EditedNearestNeighbours(random_state=0))\n",
    "sampling.append(RepeatedEditedNearestNeighbours(random_state=0))\n",
    "sampling.append(AllKNN(random_state=0))\n",
    "sampling.append(InstanceHardnessThreshold(random_state=0))\n",
    "sampling.append(NearMiss(random_state=0,version=1))\n",
    "sampling.append(NearMiss(random_state=0,version=2))\n",
    "sampling.append(NearMiss(random_state=0,version=3))\n",
    "sampling.append(NeighbourhoodCleaningRule(random_state=0))\n",
    "sampling.append(OneSidedSelection(random_state=0))\n",
    "sampling.append(TomekLinks(random_state=0))\n",
    "sampling.append(SMOTETomek(random_state=0, sampling_strategy='all'))\n",
    "sampling.append(SMOTEENN(random_state=0))\n",
    "sampling.append(BalanceCascade(random_state=0))\n",
    "sampling.append(EasyEnsemble(random_state=0))"
   ]
  },
  {
   "cell_type": "code",
   "execution_count": 49,
   "metadata": {},
   "outputs": [
    {
     "data": {
      "text/html": [
       "<div>\n",
       "<style scoped>\n",
       "    .dataframe tbody tr th:only-of-type {\n",
       "        vertical-align: middle;\n",
       "    }\n",
       "\n",
       "    .dataframe tbody tr th {\n",
       "        vertical-align: top;\n",
       "    }\n",
       "\n",
       "    .dataframe thead th {\n",
       "        text-align: right;\n",
       "    }\n",
       "</style>\n",
       "<table border=\"1\" class=\"dataframe\">\n",
       "  <thead>\n",
       "    <tr style=\"text-align: right;\">\n",
       "      <th></th>\n",
       "      <th>target</th>\n",
       "      <th>user_idx</th>\n",
       "      <th>song_idx</th>\n",
       "      <th>ssn_idx</th>\n",
       "      <th>sst_idx</th>\n",
       "      <th>st_idx</th>\n",
       "      <th>song_length</th>\n",
       "      <th>genr_idx</th>\n",
       "      <th>art_idx</th>\n",
       "      <th>com_idx</th>\n",
       "      <th>...</th>\n",
       "      <th>lyricists_count</th>\n",
       "      <th>composer_count</th>\n",
       "      <th>is_featured</th>\n",
       "      <th>artist_count</th>\n",
       "      <th>artist_composer</th>\n",
       "      <th>artist_composer_lyricist</th>\n",
       "      <th>song_lang_boolean</th>\n",
       "      <th>smaller_song</th>\n",
       "      <th>count_song_played</th>\n",
       "      <th>count_artist_played</th>\n",
       "    </tr>\n",
       "  </thead>\n",
       "  <tbody>\n",
       "    <tr>\n",
       "      <th>0</th>\n",
       "      <td>1</td>\n",
       "      <td>0</td>\n",
       "      <td>0</td>\n",
       "      <td>0</td>\n",
       "      <td>0</td>\n",
       "      <td>0</td>\n",
       "      <td>206471</td>\n",
       "      <td>7</td>\n",
       "      <td>1877</td>\n",
       "      <td>7450</td>\n",
       "      <td>...</td>\n",
       "      <td>0</td>\n",
       "      <td>2</td>\n",
       "      <td>0</td>\n",
       "      <td>0</td>\n",
       "      <td>0</td>\n",
       "      <td>0</td>\n",
       "      <td>0</td>\n",
       "      <td>1</td>\n",
       "      <td>215</td>\n",
       "      <td>1140</td>\n",
       "    </tr>\n",
       "    <tr>\n",
       "      <th>1</th>\n",
       "      <td>1</td>\n",
       "      <td>1</td>\n",
       "      <td>1</td>\n",
       "      <td>1</td>\n",
       "      <td>1</td>\n",
       "      <td>1</td>\n",
       "      <td>284584</td>\n",
       "      <td>18</td>\n",
       "      <td>92</td>\n",
       "      <td>2</td>\n",
       "      <td>...</td>\n",
       "      <td>0</td>\n",
       "      <td>1</td>\n",
       "      <td>0</td>\n",
       "      <td>0</td>\n",
       "      <td>0</td>\n",
       "      <td>0</td>\n",
       "      <td>0</td>\n",
       "      <td>0</td>\n",
       "      <td>1</td>\n",
       "      <td>303616</td>\n",
       "    </tr>\n",
       "    <tr>\n",
       "      <th>2</th>\n",
       "      <td>1</td>\n",
       "      <td>1</td>\n",
       "      <td>2</td>\n",
       "      <td>1</td>\n",
       "      <td>1</td>\n",
       "      <td>1</td>\n",
       "      <td>225396</td>\n",
       "      <td>18</td>\n",
       "      <td>527</td>\n",
       "      <td>100234</td>\n",
       "      <td>...</td>\n",
       "      <td>0</td>\n",
       "      <td>1</td>\n",
       "      <td>0</td>\n",
       "      <td>0</td>\n",
       "      <td>0</td>\n",
       "      <td>0</td>\n",
       "      <td>0</td>\n",
       "      <td>1</td>\n",
       "      <td>4</td>\n",
       "      <td>289</td>\n",
       "    </tr>\n",
       "    <tr>\n",
       "      <th>3</th>\n",
       "      <td>1</td>\n",
       "      <td>1</td>\n",
       "      <td>3</td>\n",
       "      <td>1</td>\n",
       "      <td>1</td>\n",
       "      <td>1</td>\n",
       "      <td>255512</td>\n",
       "      <td>229</td>\n",
       "      <td>89592</td>\n",
       "      <td>193180</td>\n",
       "      <td>...</td>\n",
       "      <td>0</td>\n",
       "      <td>1</td>\n",
       "      <td>0</td>\n",
       "      <td>0</td>\n",
       "      <td>0</td>\n",
       "      <td>0</td>\n",
       "      <td>0</td>\n",
       "      <td>0</td>\n",
       "      <td>1</td>\n",
       "      <td>1</td>\n",
       "    </tr>\n",
       "    <tr>\n",
       "      <th>4</th>\n",
       "      <td>1</td>\n",
       "      <td>0</td>\n",
       "      <td>4</td>\n",
       "      <td>0</td>\n",
       "      <td>0</td>\n",
       "      <td>0</td>\n",
       "      <td>187802</td>\n",
       "      <td>13</td>\n",
       "      <td>195</td>\n",
       "      <td>137</td>\n",
       "      <td>...</td>\n",
       "      <td>0</td>\n",
       "      <td>3</td>\n",
       "      <td>0</td>\n",
       "      <td>0</td>\n",
       "      <td>0</td>\n",
       "      <td>0</td>\n",
       "      <td>0</td>\n",
       "      <td>1</td>\n",
       "      <td>412</td>\n",
       "      <td>427</td>\n",
       "    </tr>\n",
       "  </tbody>\n",
       "</table>\n",
       "<p>5 rows × 30 columns</p>\n",
       "</div>"
      ],
      "text/plain": [
       "   target  user_idx  song_idx  ssn_idx  sst_idx  st_idx  song_length  \\\n",
       "0       1         0         0        0        0       0       206471   \n",
       "1       1         1         1        1        1       1       284584   \n",
       "2       1         1         2        1        1       1       225396   \n",
       "3       1         1         3        1        1       1       255512   \n",
       "4       1         0         4        0        0       0       187802   \n",
       "\n",
       "   genr_idx  art_idx  com_idx         ...           lyricists_count  \\\n",
       "0         7     1877     7450         ...                         0   \n",
       "1        18       92        2         ...                         0   \n",
       "2        18      527   100234         ...                         0   \n",
       "3       229    89592   193180         ...                         0   \n",
       "4        13      195      137         ...                         0   \n",
       "\n",
       "   composer_count  is_featured  artist_count  artist_composer  \\\n",
       "0               2            0             0                0   \n",
       "1               1            0             0                0   \n",
       "2               1            0             0                0   \n",
       "3               1            0             0                0   \n",
       "4               3            0             0                0   \n",
       "\n",
       "   artist_composer_lyricist  song_lang_boolean  smaller_song  \\\n",
       "0                         0                  0             1   \n",
       "1                         0                  0             0   \n",
       "2                         0                  0             1   \n",
       "3                         0                  0             0   \n",
       "4                         0                  0             1   \n",
       "\n",
       "   count_song_played  count_artist_played  \n",
       "0                215                 1140  \n",
       "1                  1               303616  \n",
       "2                  4                  289  \n",
       "3                  1                    1  \n",
       "4                412                  427  \n",
       "\n",
       "[5 rows x 30 columns]"
      ]
     },
     "execution_count": 49,
     "metadata": {},
     "output_type": "execute_result"
    }
   ],
   "source": [
    "data = pd.read_csv('WSDM_train_full_features.csv',engine='python')\n",
    "data.head()"
   ]
  },
  {
   "cell_type": "code",
   "execution_count": 50,
   "metadata": {},
   "outputs": [],
   "source": [
    "from sklearn.model_selection import train_test_split\n",
    "data,data_drop = train_test_split(data,test_size=0.15,random_state=0)\n",
    "del data_drop # 삭제해서 용량 살리기 위해."
   ]
  },
  {
   "cell_type": "code",
   "execution_count": 51,
   "metadata": {},
   "outputs": [
    {
     "data": {
      "text/plain": [
       "3113137"
      ]
     },
     "execution_count": 51,
     "metadata": {},
     "output_type": "execute_result"
    }
   ],
   "source": [
    "target1 = data[data['target']==1]\n",
    "target0 = data[data['target']==0] # 비율 구하기 위해 사용 \n",
    "len(target0)"
   ]
  },
  {
   "cell_type": "code",
   "execution_count": 52,
   "metadata": {},
   "outputs": [],
   "source": [
    "# target 값이 1일때 전체 데이터에 대한 비율에 맞춰 추출하기 \n",
    "# 용량을 너무 많이 차지해서 한개씩 실행해야 한다. \n",
    "np.random.seed(0) # 난수고정 \n",
    "target0_001 = target1.iloc[np.random.randint(0,len(target1),size=round((1/999)*len(target0))),:]\n",
    "#target0_01 = target1.iloc[np.random.randint(0,len(target1),size=round((1/99)*len(target0))),:]\n",
    "#target0_1 = target1.iloc[np.random.randint(0,len(target1),size=round((1/9)*len(target0)),:]"
   ]
  },
  {
   "cell_type": "code",
   "execution_count": 53,
   "metadata": {},
   "outputs": [],
   "source": [
    "# 데이터 합치기 \n",
    "data0_001 = pd.concat([target0,target0_001])\n",
    "#data0_01 = pd.concat([target0,target0_01])\n",
    "#data_0_1 = pd.concat([target1,target0_1])"
   ]
  },
  {
   "cell_type": "code",
   "execution_count": 54,
   "metadata": {},
   "outputs": [],
   "source": [
    "X = data0_001.iloc[:,1:]\n",
    "y = data0_001.iloc[:,0]"
   ]
  },
  {
   "cell_type": "code",
   "execution_count": 55,
   "metadata": {},
   "outputs": [],
   "source": [
    "# train data, test data 분할하기. \n",
    "X_train , X_test ,y_train, y_test = train_test_split(X,y,test_size=0.3,random_state=0)"
   ]
  },
  {
   "cell_type": "markdown",
   "metadata": {},
   "source": [
    "RandomUnderSampler"
   ]
  },
  {
   "cell_type": "code",
   "execution_count": 56,
   "metadata": {},
   "outputs": [],
   "source": [
    "# 결과를 표로 정리하기 위한 리스트 \n",
    "roc_auc = []\n",
    "accuracy = []\n",
    "f1 = []\n",
    "preci = []\n",
    "recall = []"
   ]
  },
  {
   "cell_type": "code",
   "execution_count": 57,
   "metadata": {},
   "outputs": [],
   "source": [
    "X_tra,y_tra = sampling[0].fit_sample(X_train,y_train)\n",
    "model = RandomForestClassifier(random_state=0)\n",
    "y_pred = model.fit(X_tra,y_tra).predict(X_test)\n",
    "y_proba = model.predict_proba(X_test)[:,1]"
   ]
  },
  {
   "cell_type": "code",
   "execution_count": 58,
   "metadata": {},
   "outputs": [
    {
     "name": "stdout",
     "output_type": "stream",
     "text": [
      "accuracy_score 0.6483405285834699\n",
      "f1_score 0.0027845521057037817\n",
      "precision_score 0.0013961297701100479\n",
      "recall_score 0.5043956043956044\n",
      "roc_auc_score 0.6142638366509472\n"
     ]
    }
   ],
   "source": [
    "print('accuracy_score',accuracy_score(y_test,y_pred))\n",
    "print('f1_score',f1_score(y_test,y_pred))\n",
    "print('precision_score',precision_score(y_test,y_pred))\n",
    "print('recall_score',recall_score(y_test,y_pred))\n",
    "print('roc_auc_score',roc_auc_score(y_test,y_proba))"
   ]
  },
  {
   "cell_type": "code",
   "execution_count": 59,
   "metadata": {},
   "outputs": [],
   "source": [
    "roc_auc.append(roc_auc_score(y_test,y_proba))\n",
    "accuracy.append(accuracy_score(y_test,y_pred))\n",
    "f1.append(f1_score(y_test,y_pred))\n",
    "preci.append(precision_score(y_test,y_pred))\n",
    "recall.append(recall_score(y_test,y_pred))"
   ]
  },
  {
   "cell_type": "markdown",
   "metadata": {},
   "source": [
    "Condensed Nearest Neighbours"
   ]
  },
  {
   "cell_type": "code",
   "execution_count": 60,
   "metadata": {},
   "outputs": [
    {
     "ename": "KeyboardInterrupt",
     "evalue": "",
     "output_type": "error",
     "traceback": [
      "\u001b[1;31m---------------------------------------------------------------------------\u001b[0m",
      "\u001b[1;31mKeyboardInterrupt\u001b[0m                         Traceback (most recent call last)",
      "\u001b[1;32m<ipython-input-60-4c114307ac0b>\u001b[0m in \u001b[0;36m<module>\u001b[1;34m()\u001b[0m\n\u001b[1;32m----> 1\u001b[1;33m \u001b[0mX_tra\u001b[0m\u001b[1;33m,\u001b[0m\u001b[0my_tra\u001b[0m \u001b[1;33m=\u001b[0m \u001b[0msampling\u001b[0m\u001b[1;33m[\u001b[0m\u001b[1;36m1\u001b[0m\u001b[1;33m]\u001b[0m\u001b[1;33m.\u001b[0m\u001b[0mfit_sample\u001b[0m\u001b[1;33m(\u001b[0m\u001b[0mX_train\u001b[0m\u001b[1;33m,\u001b[0m\u001b[0my_train\u001b[0m\u001b[1;33m)\u001b[0m\u001b[1;33m\u001b[0m\u001b[0m\n\u001b[0m\u001b[0;32m      2\u001b[0m \u001b[0mmodel\u001b[0m \u001b[1;33m=\u001b[0m \u001b[0mRandomForestClassifier\u001b[0m\u001b[1;33m(\u001b[0m\u001b[0mrandom_state\u001b[0m\u001b[1;33m=\u001b[0m\u001b[1;36m0\u001b[0m\u001b[1;33m)\u001b[0m\u001b[1;33m\u001b[0m\u001b[0m\n\u001b[0;32m      3\u001b[0m \u001b[0my_pred\u001b[0m \u001b[1;33m=\u001b[0m \u001b[0mmodel\u001b[0m\u001b[1;33m.\u001b[0m\u001b[0mfit\u001b[0m\u001b[1;33m(\u001b[0m\u001b[0mX_tra\u001b[0m\u001b[1;33m,\u001b[0m\u001b[0my_tra\u001b[0m\u001b[1;33m)\u001b[0m\u001b[1;33m.\u001b[0m\u001b[0mpredictd\u001b[0m\u001b[1;33m(\u001b[0m\u001b[0mX_test\u001b[0m\u001b[1;33m)\u001b[0m\u001b[1;33m\u001b[0m\u001b[0m\n\u001b[0;32m      4\u001b[0m \u001b[0my_proba\u001b[0m \u001b[1;33m=\u001b[0m \u001b[0mmodel\u001b[0m\u001b[1;33m.\u001b[0m\u001b[0mpredict_proba\u001b[0m\u001b[1;33m(\u001b[0m\u001b[0mX_test\u001b[0m\u001b[1;33m)\u001b[0m\u001b[1;33m[\u001b[0m\u001b[1;33m:\u001b[0m\u001b[1;33m,\u001b[0m\u001b[1;36m1\u001b[0m\u001b[1;33m]\u001b[0m\u001b[1;33m\u001b[0m\u001b[0m\n",
      "\u001b[1;32m~\\Anaconda3\\lib\\site-packages\\imblearn\\base.py\u001b[0m in \u001b[0;36mfit_resample\u001b[1;34m(self, X, y)\u001b[0m\n\u001b[0;32m     83\u001b[0m             self.sampling_strategy, y, self._sampling_type)\n\u001b[0;32m     84\u001b[0m \u001b[1;33m\u001b[0m\u001b[0m\n\u001b[1;32m---> 85\u001b[1;33m         \u001b[0moutput\u001b[0m \u001b[1;33m=\u001b[0m \u001b[0mself\u001b[0m\u001b[1;33m.\u001b[0m\u001b[0m_fit_resample\u001b[0m\u001b[1;33m(\u001b[0m\u001b[0mX\u001b[0m\u001b[1;33m,\u001b[0m \u001b[0my\u001b[0m\u001b[1;33m)\u001b[0m\u001b[1;33m\u001b[0m\u001b[0m\n\u001b[0m\u001b[0;32m     86\u001b[0m \u001b[1;33m\u001b[0m\u001b[0m\n\u001b[0;32m     87\u001b[0m         \u001b[1;32mif\u001b[0m \u001b[0mbinarize_y\u001b[0m\u001b[1;33m:\u001b[0m\u001b[1;33m\u001b[0m\u001b[0m\n",
      "\u001b[1;32m~\\Anaconda3\\lib\\site-packages\\imblearn\\under_sampling\\_prototype_selection\\_condensed_nearest_neighbour.py\u001b[0m in \u001b[0;36m_fit_resample\u001b[1;34m(self, X, y)\u001b[0m\n\u001b[0;32m    205\u001b[0m                         \u001b[1;31m# Classify all the element in S and avoid to test the\u001b[0m\u001b[1;33m\u001b[0m\u001b[1;33m\u001b[0m\u001b[0m\n\u001b[0;32m    206\u001b[0m                         \u001b[1;31m# well classified elements\u001b[0m\u001b[1;33m\u001b[0m\u001b[1;33m\u001b[0m\u001b[0m\n\u001b[1;32m--> 207\u001b[1;33m                         \u001b[0mpred_S_y\u001b[0m \u001b[1;33m=\u001b[0m \u001b[0mself\u001b[0m\u001b[1;33m.\u001b[0m\u001b[0mestimator_\u001b[0m\u001b[1;33m.\u001b[0m\u001b[0mpredict\u001b[0m\u001b[1;33m(\u001b[0m\u001b[0mS_x\u001b[0m\u001b[1;33m)\u001b[0m\u001b[1;33m\u001b[0m\u001b[0m\n\u001b[0m\u001b[0;32m    208\u001b[0m                         good_classif_label = np.unique(\n\u001b[0;32m    209\u001b[0m                             np.append(idx_maj_sample,\n",
      "\u001b[1;32m~\\Anaconda3\\lib\\site-packages\\sklearn\\neighbors\\classification.py\u001b[0m in \u001b[0;36mpredict\u001b[1;34m(self, X)\u001b[0m\n\u001b[0;32m    147\u001b[0m         \u001b[0mX\u001b[0m \u001b[1;33m=\u001b[0m \u001b[0mcheck_array\u001b[0m\u001b[1;33m(\u001b[0m\u001b[0mX\u001b[0m\u001b[1;33m,\u001b[0m \u001b[0maccept_sparse\u001b[0m\u001b[1;33m=\u001b[0m\u001b[1;34m'csr'\u001b[0m\u001b[1;33m)\u001b[0m\u001b[1;33m\u001b[0m\u001b[0m\n\u001b[0;32m    148\u001b[0m \u001b[1;33m\u001b[0m\u001b[0m\n\u001b[1;32m--> 149\u001b[1;33m         \u001b[0mneigh_dist\u001b[0m\u001b[1;33m,\u001b[0m \u001b[0mneigh_ind\u001b[0m \u001b[1;33m=\u001b[0m \u001b[0mself\u001b[0m\u001b[1;33m.\u001b[0m\u001b[0mkneighbors\u001b[0m\u001b[1;33m(\u001b[0m\u001b[0mX\u001b[0m\u001b[1;33m)\u001b[0m\u001b[1;33m\u001b[0m\u001b[0m\n\u001b[0m\u001b[0;32m    150\u001b[0m         \u001b[0mclasses_\u001b[0m \u001b[1;33m=\u001b[0m \u001b[0mself\u001b[0m\u001b[1;33m.\u001b[0m\u001b[0mclasses_\u001b[0m\u001b[1;33m\u001b[0m\u001b[0m\n\u001b[0;32m    151\u001b[0m         \u001b[0m_y\u001b[0m \u001b[1;33m=\u001b[0m \u001b[0mself\u001b[0m\u001b[1;33m.\u001b[0m\u001b[0m_y\u001b[0m\u001b[1;33m\u001b[0m\u001b[0m\n",
      "\u001b[1;32m~\\Anaconda3\\lib\\site-packages\\sklearn\\neighbors\\base.py\u001b[0m in \u001b[0;36mkneighbors\u001b[1;34m(self, X, n_neighbors, return_distance)\u001b[0m\n\u001b[0;32m    453\u001b[0m                 delayed_query(\n\u001b[0;32m    454\u001b[0m                     self._tree, X[s], n_neighbors, return_distance)\n\u001b[1;32m--> 455\u001b[1;33m                 \u001b[1;32mfor\u001b[0m \u001b[0ms\u001b[0m \u001b[1;32min\u001b[0m \u001b[0mgen_even_slices\u001b[0m\u001b[1;33m(\u001b[0m\u001b[0mX\u001b[0m\u001b[1;33m.\u001b[0m\u001b[0mshape\u001b[0m\u001b[1;33m[\u001b[0m\u001b[1;36m0\u001b[0m\u001b[1;33m]\u001b[0m\u001b[1;33m,\u001b[0m \u001b[0mn_jobs\u001b[0m\u001b[1;33m)\u001b[0m\u001b[1;33m\u001b[0m\u001b[0m\n\u001b[0m\u001b[0;32m    456\u001b[0m             )\n\u001b[0;32m    457\u001b[0m         \u001b[1;32melse\u001b[0m\u001b[1;33m:\u001b[0m\u001b[1;33m\u001b[0m\u001b[0m\n",
      "\u001b[1;32m~\\Anaconda3\\lib\\site-packages\\sklearn\\externals\\joblib\\parallel.py\u001b[0m in \u001b[0;36m__call__\u001b[1;34m(self, iterable)\u001b[0m\n\u001b[0;32m    915\u001b[0m             \u001b[1;31m# remaining jobs.\u001b[0m\u001b[1;33m\u001b[0m\u001b[1;33m\u001b[0m\u001b[0m\n\u001b[0;32m    916\u001b[0m             \u001b[0mself\u001b[0m\u001b[1;33m.\u001b[0m\u001b[0m_iterating\u001b[0m \u001b[1;33m=\u001b[0m \u001b[1;32mFalse\u001b[0m\u001b[1;33m\u001b[0m\u001b[0m\n\u001b[1;32m--> 917\u001b[1;33m             \u001b[1;32mif\u001b[0m \u001b[0mself\u001b[0m\u001b[1;33m.\u001b[0m\u001b[0mdispatch_one_batch\u001b[0m\u001b[1;33m(\u001b[0m\u001b[0miterator\u001b[0m\u001b[1;33m)\u001b[0m\u001b[1;33m:\u001b[0m\u001b[1;33m\u001b[0m\u001b[0m\n\u001b[0m\u001b[0;32m    918\u001b[0m                 \u001b[0mself\u001b[0m\u001b[1;33m.\u001b[0m\u001b[0m_iterating\u001b[0m \u001b[1;33m=\u001b[0m \u001b[0mself\u001b[0m\u001b[1;33m.\u001b[0m\u001b[0m_original_iterator\u001b[0m \u001b[1;32mis\u001b[0m \u001b[1;32mnot\u001b[0m \u001b[1;32mNone\u001b[0m\u001b[1;33m\u001b[0m\u001b[0m\n\u001b[0;32m    919\u001b[0m \u001b[1;33m\u001b[0m\u001b[0m\n",
      "\u001b[1;32m~\\Anaconda3\\lib\\site-packages\\sklearn\\externals\\joblib\\parallel.py\u001b[0m in \u001b[0;36mdispatch_one_batch\u001b[1;34m(self, iterator)\u001b[0m\n\u001b[0;32m    757\u001b[0m                 \u001b[1;32mreturn\u001b[0m \u001b[1;32mFalse\u001b[0m\u001b[1;33m\u001b[0m\u001b[0m\n\u001b[0;32m    758\u001b[0m             \u001b[1;32melse\u001b[0m\u001b[1;33m:\u001b[0m\u001b[1;33m\u001b[0m\u001b[0m\n\u001b[1;32m--> 759\u001b[1;33m                 \u001b[0mself\u001b[0m\u001b[1;33m.\u001b[0m\u001b[0m_dispatch\u001b[0m\u001b[1;33m(\u001b[0m\u001b[0mtasks\u001b[0m\u001b[1;33m)\u001b[0m\u001b[1;33m\u001b[0m\u001b[0m\n\u001b[0m\u001b[0;32m    760\u001b[0m                 \u001b[1;32mreturn\u001b[0m \u001b[1;32mTrue\u001b[0m\u001b[1;33m\u001b[0m\u001b[0m\n\u001b[0;32m    761\u001b[0m \u001b[1;33m\u001b[0m\u001b[0m\n",
      "\u001b[1;32m~\\Anaconda3\\lib\\site-packages\\sklearn\\externals\\joblib\\parallel.py\u001b[0m in \u001b[0;36m_dispatch\u001b[1;34m(self, batch)\u001b[0m\n\u001b[0;32m    714\u001b[0m         \u001b[1;32mwith\u001b[0m \u001b[0mself\u001b[0m\u001b[1;33m.\u001b[0m\u001b[0m_lock\u001b[0m\u001b[1;33m:\u001b[0m\u001b[1;33m\u001b[0m\u001b[0m\n\u001b[0;32m    715\u001b[0m             \u001b[0mjob_idx\u001b[0m \u001b[1;33m=\u001b[0m \u001b[0mlen\u001b[0m\u001b[1;33m(\u001b[0m\u001b[0mself\u001b[0m\u001b[1;33m.\u001b[0m\u001b[0m_jobs\u001b[0m\u001b[1;33m)\u001b[0m\u001b[1;33m\u001b[0m\u001b[0m\n\u001b[1;32m--> 716\u001b[1;33m             \u001b[0mjob\u001b[0m \u001b[1;33m=\u001b[0m \u001b[0mself\u001b[0m\u001b[1;33m.\u001b[0m\u001b[0m_backend\u001b[0m\u001b[1;33m.\u001b[0m\u001b[0mapply_async\u001b[0m\u001b[1;33m(\u001b[0m\u001b[0mbatch\u001b[0m\u001b[1;33m,\u001b[0m \u001b[0mcallback\u001b[0m\u001b[1;33m=\u001b[0m\u001b[0mcb\u001b[0m\u001b[1;33m)\u001b[0m\u001b[1;33m\u001b[0m\u001b[0m\n\u001b[0m\u001b[0;32m    717\u001b[0m             \u001b[1;31m# A job can complete so quickly than its callback is\u001b[0m\u001b[1;33m\u001b[0m\u001b[1;33m\u001b[0m\u001b[0m\n\u001b[0;32m    718\u001b[0m             \u001b[1;31m# called before we get here, causing self._jobs to\u001b[0m\u001b[1;33m\u001b[0m\u001b[1;33m\u001b[0m\u001b[0m\n",
      "\u001b[1;32m~\\Anaconda3\\lib\\site-packages\\sklearn\\externals\\joblib\\_parallel_backends.py\u001b[0m in \u001b[0;36mapply_async\u001b[1;34m(self, func, callback)\u001b[0m\n\u001b[0;32m    180\u001b[0m     \u001b[1;32mdef\u001b[0m \u001b[0mapply_async\u001b[0m\u001b[1;33m(\u001b[0m\u001b[0mself\u001b[0m\u001b[1;33m,\u001b[0m \u001b[0mfunc\u001b[0m\u001b[1;33m,\u001b[0m \u001b[0mcallback\u001b[0m\u001b[1;33m=\u001b[0m\u001b[1;32mNone\u001b[0m\u001b[1;33m)\u001b[0m\u001b[1;33m:\u001b[0m\u001b[1;33m\u001b[0m\u001b[0m\n\u001b[0;32m    181\u001b[0m         \u001b[1;34m\"\"\"Schedule a func to be run\"\"\"\u001b[0m\u001b[1;33m\u001b[0m\u001b[0m\n\u001b[1;32m--> 182\u001b[1;33m         \u001b[0mresult\u001b[0m \u001b[1;33m=\u001b[0m \u001b[0mImmediateResult\u001b[0m\u001b[1;33m(\u001b[0m\u001b[0mfunc\u001b[0m\u001b[1;33m)\u001b[0m\u001b[1;33m\u001b[0m\u001b[0m\n\u001b[0m\u001b[0;32m    183\u001b[0m         \u001b[1;32mif\u001b[0m \u001b[0mcallback\u001b[0m\u001b[1;33m:\u001b[0m\u001b[1;33m\u001b[0m\u001b[0m\n\u001b[0;32m    184\u001b[0m             \u001b[0mcallback\u001b[0m\u001b[1;33m(\u001b[0m\u001b[0mresult\u001b[0m\u001b[1;33m)\u001b[0m\u001b[1;33m\u001b[0m\u001b[0m\n",
      "\u001b[1;32m~\\Anaconda3\\lib\\site-packages\\sklearn\\externals\\joblib\\_parallel_backends.py\u001b[0m in \u001b[0;36m__init__\u001b[1;34m(self, batch)\u001b[0m\n\u001b[0;32m    547\u001b[0m         \u001b[1;31m# Don't delay the application, to avoid keeping the input\u001b[0m\u001b[1;33m\u001b[0m\u001b[1;33m\u001b[0m\u001b[0m\n\u001b[0;32m    548\u001b[0m         \u001b[1;31m# arguments in memory\u001b[0m\u001b[1;33m\u001b[0m\u001b[1;33m\u001b[0m\u001b[0m\n\u001b[1;32m--> 549\u001b[1;33m         \u001b[0mself\u001b[0m\u001b[1;33m.\u001b[0m\u001b[0mresults\u001b[0m \u001b[1;33m=\u001b[0m \u001b[0mbatch\u001b[0m\u001b[1;33m(\u001b[0m\u001b[1;33m)\u001b[0m\u001b[1;33m\u001b[0m\u001b[0m\n\u001b[0m\u001b[0;32m    550\u001b[0m \u001b[1;33m\u001b[0m\u001b[0m\n\u001b[0;32m    551\u001b[0m     \u001b[1;32mdef\u001b[0m \u001b[0mget\u001b[0m\u001b[1;33m(\u001b[0m\u001b[0mself\u001b[0m\u001b[1;33m)\u001b[0m\u001b[1;33m:\u001b[0m\u001b[1;33m\u001b[0m\u001b[0m\n",
      "\u001b[1;32m~\\Anaconda3\\lib\\site-packages\\sklearn\\externals\\joblib\\parallel.py\u001b[0m in \u001b[0;36m__call__\u001b[1;34m(self)\u001b[0m\n\u001b[0;32m    223\u001b[0m         \u001b[1;32mwith\u001b[0m \u001b[0mparallel_backend\u001b[0m\u001b[1;33m(\u001b[0m\u001b[0mself\u001b[0m\u001b[1;33m.\u001b[0m\u001b[0m_backend\u001b[0m\u001b[1;33m,\u001b[0m \u001b[0mn_jobs\u001b[0m\u001b[1;33m=\u001b[0m\u001b[0mself\u001b[0m\u001b[1;33m.\u001b[0m\u001b[0m_n_jobs\u001b[0m\u001b[1;33m)\u001b[0m\u001b[1;33m:\u001b[0m\u001b[1;33m\u001b[0m\u001b[0m\n\u001b[0;32m    224\u001b[0m             return [func(*args, **kwargs)\n\u001b[1;32m--> 225\u001b[1;33m                     for func, args, kwargs in self.items]\n\u001b[0m\u001b[0;32m    226\u001b[0m \u001b[1;33m\u001b[0m\u001b[0m\n\u001b[0;32m    227\u001b[0m     \u001b[1;32mdef\u001b[0m \u001b[0m__len__\u001b[0m\u001b[1;33m(\u001b[0m\u001b[0mself\u001b[0m\u001b[1;33m)\u001b[0m\u001b[1;33m:\u001b[0m\u001b[1;33m\u001b[0m\u001b[0m\n",
      "\u001b[1;32m~\\Anaconda3\\lib\\site-packages\\sklearn\\externals\\joblib\\parallel.py\u001b[0m in \u001b[0;36m<listcomp>\u001b[1;34m(.0)\u001b[0m\n\u001b[0;32m    223\u001b[0m         \u001b[1;32mwith\u001b[0m \u001b[0mparallel_backend\u001b[0m\u001b[1;33m(\u001b[0m\u001b[0mself\u001b[0m\u001b[1;33m.\u001b[0m\u001b[0m_backend\u001b[0m\u001b[1;33m,\u001b[0m \u001b[0mn_jobs\u001b[0m\u001b[1;33m=\u001b[0m\u001b[0mself\u001b[0m\u001b[1;33m.\u001b[0m\u001b[0m_n_jobs\u001b[0m\u001b[1;33m)\u001b[0m\u001b[1;33m:\u001b[0m\u001b[1;33m\u001b[0m\u001b[0m\n\u001b[0;32m    224\u001b[0m             return [func(*args, **kwargs)\n\u001b[1;32m--> 225\u001b[1;33m                     for func, args, kwargs in self.items]\n\u001b[0m\u001b[0;32m    226\u001b[0m \u001b[1;33m\u001b[0m\u001b[0m\n\u001b[0;32m    227\u001b[0m     \u001b[1;32mdef\u001b[0m \u001b[0m__len__\u001b[0m\u001b[1;33m(\u001b[0m\u001b[0mself\u001b[0m\u001b[1;33m)\u001b[0m\u001b[1;33m:\u001b[0m\u001b[1;33m\u001b[0m\u001b[0m\n",
      "\u001b[1;32m~\\Anaconda3\\lib\\site-packages\\sklearn\\neighbors\\base.py\u001b[0m in \u001b[0;36m_tree_query_parallel_helper\u001b[1;34m(tree, data, n_neighbors, return_distance)\u001b[0m\n\u001b[0;32m    290\u001b[0m     \u001b[0munder\u001b[0m \u001b[0mPyPy\u001b[0m\u001b[1;33m.\u001b[0m\u001b[1;33m\u001b[0m\u001b[0m\n\u001b[0;32m    291\u001b[0m     \"\"\"\n\u001b[1;32m--> 292\u001b[1;33m     \u001b[1;32mreturn\u001b[0m \u001b[0mtree\u001b[0m\u001b[1;33m.\u001b[0m\u001b[0mquery\u001b[0m\u001b[1;33m(\u001b[0m\u001b[0mdata\u001b[0m\u001b[1;33m,\u001b[0m \u001b[0mn_neighbors\u001b[0m\u001b[1;33m,\u001b[0m \u001b[0mreturn_distance\u001b[0m\u001b[1;33m)\u001b[0m\u001b[1;33m\u001b[0m\u001b[0m\n\u001b[0m\u001b[0;32m    293\u001b[0m \u001b[1;33m\u001b[0m\u001b[0m\n\u001b[0;32m    294\u001b[0m \u001b[1;33m\u001b[0m\u001b[0m\n",
      "\u001b[1;31mKeyboardInterrupt\u001b[0m: "
     ]
    }
   ],
   "source": [
    "X_tra,y_tra = sampling[1].fit_sample(X_train,y_train)\n",
    "model = RandomForestClassifier(random_state=0)\n",
    "y_pred = model.fit(X_tra,y_tra).predictd(X_test)\n",
    "y_proba = model.predict_proba(X_test)[:,1]"
   ]
  },
  {
   "cell_type": "code",
   "execution_count": null,
   "metadata": {},
   "outputs": [],
   "source": [
    "print('accuracy_score',accuracy_score(y_test,y_pred))\n",
    "print('f1_score',f1_score(y_test,y_pred))\n",
    "print('precision_score',precision_score(y_test,y_pred))\n",
    "print('recall_score',recall_score(y_test,y_pred))\n",
    "print('roc_auc_score',roc_auc_score(y_test,y_proba))"
   ]
  },
  {
   "cell_type": "code",
   "execution_count": null,
   "metadata": {},
   "outputs": [],
   "source": [
    "roc_auc.append(roc_auc_score(y_test,y_proba))\n",
    "accuracy.append(accuracy_score(y_test,y_pred))\n",
    "f1.append(f1_score(y_test,y_pred))\n",
    "preci.append(precision_score(y_test,y_pred))\n",
    "recall.append(recall_score(y_test,y_pred))"
   ]
  },
  {
   "cell_type": "markdown",
   "metadata": {},
   "source": [
    "Edited Nearest Neighbours"
   ]
  },
  {
   "cell_type": "code",
   "execution_count": null,
   "metadata": {},
   "outputs": [],
   "source": [
    "X_tra,y_tra = sampling[2].fit_sample(X_train,y_train)\n",
    "model = RandomForestClassifier(random_state=0)\n",
    "y_pred = model.fit(X_tra,y_tra).predict(X_test)\n",
    "y_proba = model.predict_proba(X_test)[:,1]"
   ]
  },
  {
   "cell_type": "code",
   "execution_count": null,
   "metadata": {},
   "outputs": [],
   "source": [
    "print('accuracy_score',accuracy_score(y_test,y_pred))\n",
    "print('f1_score',f1_score(y_test,y_pred))\n",
    "print('precision_score',precision_score(y_test,y_pred))\n",
    "print('recall_score',recall_score(y_test,y_pred))\n",
    "print('roc_auc_score',roc_auc_score(y_test,y_proba))"
   ]
  },
  {
   "cell_type": "code",
   "execution_count": null,
   "metadata": {},
   "outputs": [],
   "source": [
    "roc_auc.append(roc_auc_score(y_test,y_proba))\n",
    "accuracy.append(accuracy_score(y_test,y_pred))\n",
    "f1.append(f1_score(y_test,y_pred))\n",
    "preci.append(precision_score(y_test,y_pred))\n",
    "recall.append(recall_score(y_test,y_pred))"
   ]
  },
  {
   "cell_type": "markdown",
   "metadata": {},
   "source": [
    "Repeated Edited Nearest Neighbours"
   ]
  },
  {
   "cell_type": "code",
   "execution_count": null,
   "metadata": {},
   "outputs": [],
   "source": [
    "X_tra,y_tra = sampling[3].fit_sample(X_train,y_train)\n",
    "model = RandomForestClassifier(random_state=0)\n",
    "y_pred = model.fit(X_tra,y_tra).predict(X_test)\n",
    "y_proba = model.predict_proba(X_test)[:,1]"
   ]
  },
  {
   "cell_type": "code",
   "execution_count": null,
   "metadata": {},
   "outputs": [],
   "source": [
    "print('accuracy_score',accuracy_score(y_test,y_pred))\n",
    "print('f1_score',f1_score(y_test,y_pred))\n",
    "print('precision_score',precision_score(y_test,y_pred))\n",
    "print('recall_score',recall_score(y_test,y_pred))\n",
    "print('roc_auc_score',roc_auc_score(y_test,y_proba))"
   ]
  },
  {
   "cell_type": "code",
   "execution_count": null,
   "metadata": {},
   "outputs": [],
   "source": [
    "roc_auc.append(roc_auc_score(y_test,y_proba))\n",
    "accuracy.append(accuracy_score(y_test,y_pred))\n",
    "f1.append(f1_score(y_test,y_pred))\n",
    "preci.append(precision_score(y_test,y_pred))\n",
    "recall.append(recall_score(y_test,y_pred))"
   ]
  },
  {
   "cell_type": "markdown",
   "metadata": {},
   "source": [
    "All KNN"
   ]
  },
  {
   "cell_type": "code",
   "execution_count": null,
   "metadata": {},
   "outputs": [],
   "source": [
    "X_tra,y_tra = sampling[4].fit_sample(X_train,y_train)\n",
    "model = RandomForestClassifier(random_state=0)\n",
    "y_pred = model.fit(X_tra,y_tra).predict(X_test)\n",
    "y_proba = model.predict_proba(X_test)[:,1]"
   ]
  },
  {
   "cell_type": "code",
   "execution_count": null,
   "metadata": {},
   "outputs": [],
   "source": [
    "print('accuracy_score',accuracy_score(y_test,y_pred))\n",
    "print('f1_score',f1_score(y_test,y_pred))\n",
    "print('precision_score',precision_score(y_test,y_pred))\n",
    "print('recall_score',recall_score(y_test,y_pred))\n",
    "print('roc_auc_score',roc_auc_score(y_test,y_proba))"
   ]
  },
  {
   "cell_type": "code",
   "execution_count": null,
   "metadata": {},
   "outputs": [],
   "source": [
    "roc_auc.append(roc_auc_score(y_test,y_proba))\n",
    "accuracy.append(accuracy_score(y_test,y_pred))\n",
    "f1.append(f1_score(y_test,y_pred))\n",
    "preci.append(precision_score(y_test,y_pred))\n",
    "recall.append(recall_score(y_test,y_pred))"
   ]
  },
  {
   "cell_type": "markdown",
   "metadata": {},
   "source": [
    "Instance Hardness Threshold"
   ]
  },
  {
   "cell_type": "code",
   "execution_count": null,
   "metadata": {},
   "outputs": [],
   "source": [
    "X_tra,y_tra = sampling[5].fit_sample(X_train,y_train)\n",
    "model = RandomForestClassifier(random_state=0)\n",
    "y_pred = model.fit(X_tra,y_tra).predict(X_test)\n",
    "y_proba = model.predict_proba(X_test)[:,1]"
   ]
  },
  {
   "cell_type": "code",
   "execution_count": null,
   "metadata": {},
   "outputs": [],
   "source": [
    "print('accuracy_score',accuracy_score(y_test,y_pred))\n",
    "print('f1_score',f1_score(y_test,y_pred))\n",
    "print('precision_score',precision_score(y_test,y_pred))\n",
    "print('recall_score',recall_score(y_test,y_pred))\n",
    "print('roc_auc_score',roc_auc_score(y_test,y_proba))"
   ]
  },
  {
   "cell_type": "code",
   "execution_count": null,
   "metadata": {},
   "outputs": [],
   "source": [
    "roc_auc.append(roc_auc_score(y_test,y_proba))\n",
    "accuracy.append(accuracy_score(y_test,y_pred))\n",
    "f1.append(f1_score(y_test,y_pred))\n",
    "preci.append(precision_score(y_test,y_pred))\n",
    "recall.append(recall_score(y_test,y_pred))"
   ]
  },
  {
   "cell_type": "markdown",
   "metadata": {},
   "source": [
    "Near Miss version1"
   ]
  },
  {
   "cell_type": "code",
   "execution_count": null,
   "metadata": {},
   "outputs": [],
   "source": [
    "X_tra,y_tra = sampling[6].fit_sample(X_train,y_train)\n",
    "model = RandomForestClassifier(random_state=0)\n",
    "y_pred = model.fit(X_tra,y_tra).predict(X_test)\n",
    "y_proba = model.predict_proba(X_test)[:,1]"
   ]
  },
  {
   "cell_type": "code",
   "execution_count": null,
   "metadata": {},
   "outputs": [],
   "source": [
    "print('accuracy_score',accuracy_score(y_test,y_pred))\n",
    "print('f1_score',f1_score(y_test,y_pred))\n",
    "print('precision_score',precision_score(y_test,y_pred))\n",
    "print('recall_score',recall_score(y_test,y_pred))\n",
    "print('roc_auc_score',roc_auc_score(y_test,y_proba))"
   ]
  },
  {
   "cell_type": "code",
   "execution_count": null,
   "metadata": {},
   "outputs": [],
   "source": [
    "roc_auc.append(roc_auc_score(y_test,y_proba))\n",
    "accuracy.append(accuracy_score(y_test,y_pred))\n",
    "f1.append(f1_score(y_test,y_pred))\n",
    "preci.append(precision_score(y_test,y_pred))\n",
    "recall.append(recall_score(y_test,y_pred))"
   ]
  },
  {
   "cell_type": "markdown",
   "metadata": {},
   "source": [
    "Near Miss version2"
   ]
  },
  {
   "cell_type": "code",
   "execution_count": null,
   "metadata": {},
   "outputs": [],
   "source": [
    "X_tra,y_tra = sampling[7].fit_sample(X_train,y_train)\n",
    "model = RandomForestClassifier(random_state=0)\n",
    "y_pred = model.fit(X_tra,y_tra).predict(X_test)\n",
    "y_proba = model.predict_proba(X_test)[:,1]"
   ]
  },
  {
   "cell_type": "code",
   "execution_count": null,
   "metadata": {},
   "outputs": [],
   "source": [
    "print('accuracy_score',accuracy_score(y_test,y_pred))\n",
    "print('f1_score',f1_score(y_test,y_pred))\n",
    "print('precision_score',precision_score(y_test,y_pred))\n",
    "print('recall_score',recall_score(y_test,y_pred))\n",
    "print('roc_auc_score',roc_auc_score(y_test,y_proba))"
   ]
  },
  {
   "cell_type": "code",
   "execution_count": null,
   "metadata": {},
   "outputs": [],
   "source": [
    "roc_auc.append(roc_auc_score(y_test,y_proba))\n",
    "accuracy.append(accuracy_score(y_test,y_pred))\n",
    "f1.append(f1_score(y_test,y_pred))\n",
    "preci.append(precision_score(y_test,y_pred))\n",
    "recall.append(recall_score(y_test,y_pred))"
   ]
  },
  {
   "cell_type": "markdown",
   "metadata": {},
   "source": [
    "Near Miss version3"
   ]
  },
  {
   "cell_type": "code",
   "execution_count": null,
   "metadata": {},
   "outputs": [],
   "source": [
    "X_tra,y_tra = sampling[8].fit_sample(X_train,y_train)\n",
    "model = RandomForestClassifier(random_state=0)\n",
    "y_pred = model.fit(X_tra,y_tra).predict(X_test)\n",
    "y_proba = model.predict_proba(X_test)[:,1]"
   ]
  },
  {
   "cell_type": "code",
   "execution_count": null,
   "metadata": {},
   "outputs": [],
   "source": [
    "print('accuracy_score',accuracy_score(y_test,y_pred))\n",
    "print('f1_score',f1_score(y_test,y_pred))\n",
    "print('precision_score',precision_score(y_test,y_pred))\n",
    "print('recall_score',recall_score(y_test,y_pred))\n",
    "print('roc_auc_score',roc_auc_score(y_test,y_proba))"
   ]
  },
  {
   "cell_type": "code",
   "execution_count": null,
   "metadata": {},
   "outputs": [],
   "source": [
    "roc_auc.append(roc_auc_score(y_test,y_proba))\n",
    "accuracy.append(accuracy_score(y_test,y_pred))\n",
    "f1.append(f1_score(y_test,y_pred))\n",
    "preci.append(precision_score(y_test,y_pred))\n",
    "recall.append(recall_score(y_test,y_pred))"
   ]
  },
  {
   "cell_type": "markdown",
   "metadata": {},
   "source": [
    "Neighbourhood Cleaning Rule"
   ]
  },
  {
   "cell_type": "code",
   "execution_count": null,
   "metadata": {},
   "outputs": [],
   "source": [
    "X_tra,y_tra = sampling[9].fit_sample(X_train,y_train)\n",
    "model = RandomForestClassifier(random_state=0)\n",
    "y_pred = model.fit(X_tra,y_tra).predict(X_test)\n",
    "y_proba = model.predict_proba(X_test)[:,1]"
   ]
  },
  {
   "cell_type": "code",
   "execution_count": null,
   "metadata": {},
   "outputs": [],
   "source": [
    "print('accuracy_score',accuracy_score(y_test,y_pred))\n",
    "print('f1_score',f1_score(y_test,y_pred))\n",
    "print('precision_score',precision_score(y_test,y_pred))\n",
    "print('recall_score',recall_score(y_test,y_pred))\n",
    "print('roc_auc_score',roc_auc_score(y_test,y_proba))"
   ]
  },
  {
   "cell_type": "code",
   "execution_count": null,
   "metadata": {},
   "outputs": [],
   "source": [
    "roc_auc.append(roc_auc_score(y_test,y_proba))\n",
    "accuracy.append(accuracy_score(y_test,y_pred))\n",
    "f1.append(f1_score(y_test,y_pred))\n",
    "preci.append(precision_score(y_test,y_pred))\n",
    "recall.append(recall_score(y_test,y_pred))"
   ]
  },
  {
   "cell_type": "markdown",
   "metadata": {},
   "source": [
    "One Sided Selection"
   ]
  },
  {
   "cell_type": "code",
   "execution_count": null,
   "metadata": {},
   "outputs": [],
   "source": [
    "X_tra,y_tra = sampling[10].fit_sample(X_train,y_train)\n",
    "model = RandomForestClassifier(random_state=0)\n",
    "y_pred = model.fit(X_tra,y_tra).predict(X_test)\n",
    "y_proba = model.predict_proba(X_test)[:,1]"
   ]
  },
  {
   "cell_type": "code",
   "execution_count": null,
   "metadata": {},
   "outputs": [],
   "source": [
    "print('accuracy_score',accuracy_score(y_test,y_pred))\n",
    "print('f1_score',f1_score(y_test,y_pred))\n",
    "print('precision_score',precision_score(y_test,y_pred))\n",
    "print('recall_score',recall_score(y_test,y_pred))\n",
    "print('roc_auc_score',roc_auc_score(y_test,y_proba))"
   ]
  },
  {
   "cell_type": "code",
   "execution_count": null,
   "metadata": {},
   "outputs": [],
   "source": [
    "roc_auc.append(roc_auc_score(y_test,y_proba))\n",
    "accuracy.append(accuracy_score(y_test,y_pred))\n",
    "f1.append(f1_score(y_test,y_pred))\n",
    "preci.append(precision_score(y_test,y_pred))\n",
    "recall.append(recall_score(y_test,y_pred))"
   ]
  },
  {
   "cell_type": "markdown",
   "metadata": {},
   "source": [
    "Tomek Links"
   ]
  },
  {
   "cell_type": "code",
   "execution_count": null,
   "metadata": {},
   "outputs": [],
   "source": [
    "X_tra,y_tra = sampling[11].fit_sample(X_train,y_train)\n",
    "model = RandomForestClassifier(random_state=0)\n",
    "y_pred = model.fit(X_tra,y_tra).predict(X_test)\n",
    "y_proba = model.predict_proba(X_test)[:,1]"
   ]
  },
  {
   "cell_type": "code",
   "execution_count": null,
   "metadata": {},
   "outputs": [],
   "source": [
    "print('accuracy_score',accuracy_score(y_test,y_pred))\n",
    "print('f1_score',f1_score(y_test,y_pred))\n",
    "print('precision_score',precision_score(y_test,y_pred))\n",
    "print('recall_score',recall_score(y_test,y_pred))\n",
    "print('roc_auc_score',roc_auc_score(y_test,y_proba))"
   ]
  },
  {
   "cell_type": "code",
   "execution_count": null,
   "metadata": {},
   "outputs": [],
   "source": [
    "roc_auc.append(roc_auc_score(y_test,y_proba))\n",
    "accuracy.append(accuracy_score(y_test,y_pred))\n",
    "f1.append(f1_score(y_test,y_pred))\n",
    "preci.append(precision_score(y_test,y_pred))\n",
    "recall.append(recall_score(y_test,y_pred))"
   ]
  },
  {
   "cell_type": "markdown",
   "metadata": {},
   "source": [
    "# Combine under and over sampling"
   ]
  },
  {
   "cell_type": "markdown",
   "metadata": {},
   "source": [
    "SMOTE Tomek"
   ]
  },
  {
   "cell_type": "code",
   "execution_count": null,
   "metadata": {},
   "outputs": [],
   "source": [
    "X_tra,y_tra = sampling[12].fit_sample(X_train,y_train)\n",
    "model = RandomForestClassifier(random_state=0)\n",
    "y_pred = model.fit(X_tra,y_tra).predict(X_test)\n",
    "y_proba = model.predict_proba(X_test)[:,1]"
   ]
  },
  {
   "cell_type": "code",
   "execution_count": null,
   "metadata": {},
   "outputs": [],
   "source": [
    "print('accuracy_score',accuracy_score(y_test,y_pred))\n",
    "print('f1_score',f1_score(y_test,y_pred))\n",
    "print('precision_score',precision_score(y_test,y_pred))\n",
    "print('recall_score',recall_score(y_test,y_pred))\n",
    "print('roc_auc_score',roc_auc_score(y_test,y_proba))"
   ]
  },
  {
   "cell_type": "code",
   "execution_count": null,
   "metadata": {},
   "outputs": [],
   "source": [
    "roc_auc.append(roc_auc_score(y_test,y_proba))\n",
    "accuracy.append(accuracy_score(y_test,y_pred))\n",
    "f1.append(f1_score(y_test,y_pred))\n",
    "preci.append(precision_score(y_test,y_pred))\n",
    "recall.append(recall_score(y_test,y_pred))"
   ]
  },
  {
   "cell_type": "markdown",
   "metadata": {},
   "source": [
    "SMOTE ENN"
   ]
  },
  {
   "cell_type": "code",
   "execution_count": null,
   "metadata": {},
   "outputs": [],
   "source": [
    "X_tra,y_tra = sampling[13].fit_sample(X_train,y_train)\n",
    "model = RandomForestClassifier(random_state=0)\n",
    "y_pred = model.fit(X_tra,y_tra).predict(X_test)\n",
    "y_proba = model.predict_proba(X_test)[:,1]"
   ]
  },
  {
   "cell_type": "code",
   "execution_count": null,
   "metadata": {},
   "outputs": [],
   "source": [
    "print('accuracy_score',accuracy_score(y_test,y_pred))\n",
    "print('f1_score',f1_score(y_test,y_pred))\n",
    "print('precision_score',precision_score(y_test,y_pred))\n",
    "print('recall_score',recall_score(y_test,y_pred))\n",
    "print('roc_auc_score',roc_auc_score(y_test,y_proba))"
   ]
  },
  {
   "cell_type": "code",
   "execution_count": null,
   "metadata": {},
   "outputs": [],
   "source": [
    "roc_auc.append(roc_auc_score(y_test,y_proba))\n",
    "accuracy.append(accuracy_score(y_test,y_pred))\n",
    "f1.append(f1_score(y_test,y_pred))\n",
    "preci.append(precision_score(y_test,y_pred))\n",
    "recall.append(recall_score(y_test,y_pred))"
   ]
  },
  {
   "cell_type": "markdown",
   "metadata": {},
   "source": [
    "# Ensanble"
   ]
  },
  {
   "cell_type": "markdown",
   "metadata": {},
   "source": [
    "BalanceCascade"
   ]
  },
  {
   "cell_type": "code",
   "execution_count": null,
   "metadata": {},
   "outputs": [],
   "source": [
    "X_tra,y_tra = sampling[14].fit_sample(X_train,y_train)\n",
    "X_tra = X_tra.reshape(-1,29)\n",
    "y_tra = y_tra.reshape(-1,1)\n",
    "model = RandomForestClassifier(random_state=0)\n",
    "y_pred = model.fit(X_tra[0],y_tra[0]).predict(X_test)\n",
    "y_proba = model.predict_proba(X_test)[:,1]"
   ]
  },
  {
   "cell_type": "code",
   "execution_count": null,
   "metadata": {},
   "outputs": [],
   "source": [
    "print('accuracy_score',accuracy_score(y_test,y_pred))\n",
    "print('f1_score',f1_score(y_test,y_pred))\n",
    "print('precision_score',precision_score(y_test,y_pred))\n",
    "print('recall_score',recall_score(y_test,y_pred))\n",
    "print('roc_auc_score',roc_auc_score(y_test,y_proba))"
   ]
  },
  {
   "cell_type": "code",
   "execution_count": null,
   "metadata": {},
   "outputs": [],
   "source": [
    "roc_auc.append(roc_auc_score(y_test,y_proba))\n",
    "accuracy.append(accuracy_score(y_test,y_pred))\n",
    "f1.append(f1_score(y_test,y_pred))\n",
    "preci.append(precision_score(y_test,y_pred))\n",
    "recall.append(recall_score(y_test,y_pred))"
   ]
  },
  {
   "cell_type": "markdown",
   "metadata": {},
   "source": [
    "Easy Ensemble"
   ]
  },
  {
   "cell_type": "code",
   "execution_count": null,
   "metadata": {},
   "outputs": [],
   "source": [
    "X_tra,y_tra = sampling[15].fit_sample(X_train,y_train)\n",
    "X_tra = X_tra.reshape(-1,29)\n",
    "y_tra = y_tra.reshape(-1,1)\n",
    "model = RandomForestClassifier(random_state=0)\n",
    "y_pred = model.fit(X_tra,y_tra).predict(X_test)\n",
    "y_proba = model.predict_proba(X_test)[:,1]"
   ]
  },
  {
   "cell_type": "code",
   "execution_count": null,
   "metadata": {},
   "outputs": [],
   "source": [
    "print('accuracy_score',accuracy_score(y_test,y_pred))\n",
    "print('f1_score',f1_score(y_test,y_pred))\n",
    "print('precision_score',precision_score(y_test,y_pred))\n",
    "print('recall_score',recall_score(y_test,y_pred))\n",
    "print('roc_auc_score',roc_auc_score(y_test,y_proba))"
   ]
  },
  {
   "cell_type": "code",
   "execution_count": null,
   "metadata": {},
   "outputs": [],
   "source": [
    "roc_auc.append(roc_auc_score(y_test,y_proba))\n",
    "accuracy.append(accuracy_score(y_test,y_pred))\n",
    "f1.append(f1_score(y_test,y_pred))\n",
    "preci.append(precision_score(y_test,y_pred))\n",
    "recall.append(recall_score(y_test,y_pred))"
   ]
  },
  {
   "cell_type": "code",
   "execution_count": null,
   "metadata": {},
   "outputs": [],
   "source": [
    "df = pd.DataFrame({'modelname':['RUS','CNN','ENN','RNN','AKNN','IHT','NMV1','NMV2',\n",
    "                               'NMV3','NCR','OSS','TL','SMOT','SMOTNN','BC','EE'],\n",
    "                  'roc_auc':roc_auc,'accuracy':accuracy,'f1_score':f1,'precision':preci,\n",
    "                  'recall_score':recall})\n",
    "df"
   ]
  },
  {
   "cell_type": "markdown",
   "metadata": {},
   "source": [
    "# 그림그리기."
   ]
  },
  {
   "cell_type": "code",
   "execution_count": null,
   "metadata": {},
   "outputs": [],
   "source": [
    "g = sns.barplot(\"roc_auc\",\"modelname\",data = df, palette=\"Set3\",orient = \"h\")\n",
    "g.set_xlabel(\"Roc_Auc_Score\")\n",
    "g = g.set_title(\"Roc_Auc_Score\")"
   ]
  },
  {
   "cell_type": "code",
   "execution_count": null,
   "metadata": {},
   "outputs": [],
   "source": [
    "g = sns.barplot(\"accuracy\",\"modelname\",data = df, palette=\"Set3\",orient = \"h\")\n",
    "g.set_xlabel(\"Accuracy_Score\")\n",
    "g = g.set_title(\"Accuracy_Score\")"
   ]
  },
  {
   "cell_type": "code",
   "execution_count": null,
   "metadata": {},
   "outputs": [],
   "source": [
    "g = sns.barplot(\"f1_score\",\"modelname\",data = df, palette=\"Set3\",orient = \"h\")\n",
    "g.set_xlabel(\"F1_Score\")\n",
    "g = g.set_title(\"F1_Score\")"
   ]
  },
  {
   "cell_type": "code",
   "execution_count": null,
   "metadata": {},
   "outputs": [],
   "source": [
    "g = sns.barplot(\"precision\",\"modelname\",data = df, palette=\"Set3\",orient = \"h\")\n",
    "g.set_xlabel(\"Precision_Score\")\n",
    "g = g.set_title(\"Precision_Score\")"
   ]
  },
  {
   "cell_type": "code",
   "execution_count": null,
   "metadata": {},
   "outputs": [],
   "source": [
    "g = sns.barplot(\"recall_score\",\"modelname\",data = df, palette=\"Set3\",orient = \"h\")\n",
    "g.set_xlabel(\"Recall_Score\")\n",
    "g = g.set_title(\"Recall_Score\")"
   ]
  },
  {
   "cell_type": "markdown",
   "metadata": {},
   "source": [
    "# 최고의 sampling model 선택"
   ]
  },
  {
   "cell_type": "markdown",
   "metadata": {},
   "source": [
    "밑에서 4개 전까지는 UnderSampling\n",
    "밑에서 2개 전까지는 combine\n",
    "나머지 ensanble"
   ]
  },
  {
   "cell_type": "code",
   "execution_count": null,
   "metadata": {},
   "outputs": [],
   "source": [
    "sampling = []\n",
    "# OverSampling Method\n",
    "sampling.append(SMOTE(random_state=0,k_neighbors=5))\n",
    "sampling.append(AllKNN(random_state=0))\n",
    "sampling.append(NearMiss(random_state=0,version=1))\n",
    "sampling.append(TomekLinks(random_state=0))\n",
    "sampling.append(SMOTETomek(random_state=0))\n",
    "sampling.append(BalanceCascade(random_state=0))\n",
    "sampling.append(EasyEnsemble(random_state=0))"
   ]
  },
  {
   "cell_type": "markdown",
   "metadata": {},
   "source": [
    "# 다른 imblanced에  최적의 모델 적용"
   ]
  },
  {
   "cell_type": "code",
   "execution_count": null,
   "metadata": {},
   "outputs": [],
   "source": [
    "target1 = data[data['target']==1]\n",
    "target0 = data[data['target']==0] # 비율 구하기 위해 사용 \n",
    "len(target0)"
   ]
  },
  {
   "cell_type": "code",
   "execution_count": null,
   "metadata": {},
   "outputs": [],
   "source": [
    "# target 값이 1일때 전체 데이터에 대한 비율에 맞춰 추출하기 \n",
    "# 용량을 너무 많이 차지해서 한개씩 실행해야 한다. \n",
    "np.random.seed(0) # 난수고정 \n",
    "#target0_001 = target1.iloc[np.random.randint(0,len(target1),size=round((1/999)*len(target0))),:]\n",
    "target0_01 = target1.iloc[np.random.randint(0,len(target1),size=round((1/99)*len(target0))),:]\n",
    "#target0_1 = target1.iloc[np.random.randint(0,len(target1),size=round((1/9)*len(target0)),:]"
   ]
  },
  {
   "cell_type": "code",
   "execution_count": null,
   "metadata": {},
   "outputs": [],
   "source": [
    "# 데이터 합치기 \n",
    "#data0_001 = pd.concat([target0,target0_001])\n",
    "data0_01 = pd.concat([target0,target0_01])\n",
    "#data_0_1 = pd.concat([target1,target0_1])\n",
    "del target0, target0_01"
   ]
  },
  {
   "cell_type": "code",
   "execution_count": null,
   "metadata": {},
   "outputs": [],
   "source": [
    "X = data0_01.iloc[:,1:]\n",
    "y = data0_01.iloc[:,0]\n",
    "del data0_01"
   ]
  },
  {
   "cell_type": "code",
   "execution_count": null,
   "metadata": {},
   "outputs": [],
   "source": [
    "# train data, test data 분할하기. \n",
    "X_train , X_test ,y_train, y_test = train_test_split(X,y,test_size=0.3,random_state=0)\n",
    "roc_auc_1 = []\n",
    "accuracy_1 = []\n",
    "f1_1 = []\n",
    "preci_1 = []\n",
    "recall_1 = []"
   ]
  },
  {
   "cell_type": "code",
   "execution_count": null,
   "metadata": {},
   "outputs": [],
   "source": [
    "for i in range(len(sampling)):\n",
    "    model = RandomForestClassifier(random_state=0)\n",
    "    X_tra,y_tra = sampling[i].fit_sample(X_train,y_train)\n",
    "    X_tra = X_tra.reshape(-1,29)\n",
    "    y_tra = y_tra.reshape(-1,1)\n",
    "    y_pred = model.fit(X_tra,y_tra).predict(X_test)\n",
    "    y_proba = model.predict_proba(X_test)[:,1]\n",
    "    roc_auc_1.append(roc_auc_score(y_test,y_proba))\n",
    "    accuracy_1.append(accuracy_score(y_test,y_pred))\n",
    "    f1_1.append(f1_score(y_test,y_pred))\n",
    "    preci_1.append(precision_score(y_test,y_pred))\n",
    "    recall_1.append(recall_score(y_test,y_pred))"
   ]
  },
  {
   "cell_type": "code",
   "execution_count": null,
   "metadata": {},
   "outputs": [],
   "source": [
    "df_1 = pd.DataFrame({'modelname':['SMOTE','AKNN','NM1','TL','SMOT','BC','EE' ],\n",
    "                  'roc_auc':roc_auc_1,'accuracy':accuracy_1,'f1_score':f1_1,'precision':preci_1,\n",
    "                  'recall_score':recall_1})\n",
    "df_1"
   ]
  },
  {
   "cell_type": "markdown",
   "metadata": {},
   "source": [
    "# 결과 그리기"
   ]
  },
  {
   "cell_type": "code",
   "execution_count": null,
   "metadata": {},
   "outputs": [],
   "source": [
    "g = sns.barplot(\"roc_auc\",\"modelname\",data = df_1, palette=\"Set3\",orient = \"h\")\n",
    "g.set_xlabel(\"Roc_Auc_Score\")\n",
    "g = g.set_title(\"Roc_Auc_Score\")"
   ]
  },
  {
   "cell_type": "code",
   "execution_count": null,
   "metadata": {},
   "outputs": [],
   "source": [
    "g = sns.barplot(\"accuracy\",\"modelname\",data = df_1, palette=\"Set3\",orient = \"h\")\n",
    "g.set_xlabel(\"Accuracy_Score\")\n",
    "g = g.set_title(\"Accuracy_Score\")"
   ]
  },
  {
   "cell_type": "code",
   "execution_count": null,
   "metadata": {},
   "outputs": [],
   "source": [
    "g = sns.barplot(\"f1_score\",\"modelname\",data = df_1, palette=\"Set3\",orient = \"h\")\n",
    "g.set_xlabel(\"F1_Score\")\n",
    "g = g.set_title(\"F1_Score\")"
   ]
  },
  {
   "cell_type": "code",
   "execution_count": null,
   "metadata": {},
   "outputs": [],
   "source": [
    "g = sns.barplot(\"precision\",\"modelname\",data = df_1, palette=\"Set3\",orient = \"h\")\n",
    "g.set_xlabel(\"Precision_Score\")\n",
    "g = g.set_title(\"Precision_Score\")"
   ]
  },
  {
   "cell_type": "code",
   "execution_count": null,
   "metadata": {},
   "outputs": [],
   "source": [
    "g = sns.barplot(\"recall_score\",\"modelname\",data = df_1, palette=\"Set3\",orient = \"h\")\n",
    "g.set_xlabel(\"Recall_Score\")\n",
    "g = g.set_title(\"Recall_Score\")"
   ]
  },
  {
   "cell_type": "markdown",
   "metadata": {},
   "source": [
    "# 10% Imbalance 데이터 "
   ]
  },
  {
   "cell_type": "code",
   "execution_count": null,
   "metadata": {},
   "outputs": [],
   "source": [
    "target1 = data[data['target']==1]\n",
    "target0 = data[data['target']==0] # 비율 구하기 위해 사용 \n",
    "len(target0)"
   ]
  },
  {
   "cell_type": "code",
   "execution_count": null,
   "metadata": {},
   "outputs": [],
   "source": [
    "# target 값이 1일때 전체 데이터에 대한 비율에 맞춰 추출하기 \n",
    "# 용량을 너무 많이 차지해서 한개씩 실행해야 한다. \n",
    "np.random.seed(0) # 난수고정 \n",
    "#target0_001 = target1.iloc[np.random.randint(0,len(target1),size=round((1/999)*len(target0))),:]\n",
    "#target0_01 = target1.iloc[np.random.randint(0,len(target1),size=round((1/99)*len(target0))),:]\n",
    "target0_1 = target1.iloc[np.random.randint(0,len(target1),size=round((1/9)*len(target0))),:]"
   ]
  },
  {
   "cell_type": "code",
   "execution_count": null,
   "metadata": {},
   "outputs": [],
   "source": [
    "# 데이터 합치기 \n",
    "#data0_001 = pd.concat([target0,target0_001])\n",
    "#data0_01 = pd.concat([target0,target0_01])\n",
    "data0_10 = pd.concat([target0,target0_1])\n",
    "del target0, target0_1"
   ]
  },
  {
   "cell_type": "code",
   "execution_count": null,
   "metadata": {},
   "outputs": [],
   "source": [
    "X = data0_10.iloc[:,1:]\n",
    "y = data0_10.iloc[:,0]\n",
    "del data0_10"
   ]
  },
  {
   "cell_type": "code",
   "execution_count": null,
   "metadata": {},
   "outputs": [],
   "source": [
    "# train data, test data 분할하기. \n",
    "X_train , X_test ,y_train, y_test = train_test_split(X,y,test_size=0.3,random_state=0)\n",
    "roc_auc_10 = []\n",
    "accuracy_10 = []\n",
    "f1_10 = []\n",
    "preci_10 = []\n",
    "recall_10 = []"
   ]
  },
  {
   "cell_type": "code",
   "execution_count": null,
   "metadata": {},
   "outputs": [],
   "source": [
    "sampling = []\n",
    "# OverSampling Method\n",
    "sampling.append(SMOTE(random_state=0,k_neighbors=5))\n",
    "sampling.append(AllKNN(random_state=0))\n",
    "sampling.append(NearMiss(random_state=0,version=1))\n",
    "sampling.append(TomekLinks(random_state=0))\n",
    "sampling.append(SMOTETomek(random_state=0))\n",
    "sampling.append(BalanceCascade(random_state=0))\n",
    "sampling.append(EasyEnsemble(random_state=0))"
   ]
  },
  {
   "cell_type": "code",
   "execution_count": null,
   "metadata": {},
   "outputs": [],
   "source": [
    "for i in range(len(sampling)):\n",
    "    model = RandomForestClassifier(random_state=0)\n",
    "    X_tra,y_tra = sampling[i].fit_sample(X_train,y_train)\n",
    "    X_tra = X_tra.reshape(-1,29)\n",
    "    y_tra = y_tra.reshape(-1,1)\n",
    "    y_pred = model.fit(X_tra,y_tra).predict(X_test)\n",
    "    y_proba = model.predict_proba(X_test)[:,1]\n",
    "    roc_auc_10.append(roc_auc_score(y_test,y_proba))\n",
    "    accuracy_10.append(accuracy_score(y_test,y_pred))\n",
    "    f1_10.append(f1_score(y_test,y_pred))\n",
    "    preci_10.append(precision_score(y_test,y_pred))\n",
    "    recall_10.append(recall_score(y_test,y_pred))"
   ]
  },
  {
   "cell_type": "code",
   "execution_count": null,
   "metadata": {},
   "outputs": [],
   "source": [
    "df_10 = pd.DataFrame({'modelname':['SMOTE','AKNN','NM1','TL','SMOT','BC','EE' ],\n",
    "                  'roc_auc':roc_auc_10,'accuracy':accuracy_10,'f1_score':f1_10,'precision':preci_10,\n",
    "                  'recall_score':recall_10})\n",
    "df_10"
   ]
  },
  {
   "cell_type": "markdown",
   "metadata": {},
   "source": [
    "# 결과 그리기"
   ]
  },
  {
   "cell_type": "code",
   "execution_count": null,
   "metadata": {},
   "outputs": [],
   "source": [
    "g = sns.barplot(\"roc_auc\",\"modelname\",data = df_10, palette=\"Set3\",orient = \"h\")\n",
    "g.set_xlabel(\"Roc_Auc_Score\")\n",
    "g = g.set_title(\"Roc_Auc_Score\")"
   ]
  },
  {
   "cell_type": "code",
   "execution_count": null,
   "metadata": {},
   "outputs": [],
   "source": [
    "g = sns.barplot(\"accuracy\",\"modelname\",data = df_10, palette=\"Set3\",orient = \"h\")\n",
    "g.set_xlabel(\"Accuracy_Score\")\n",
    "g = g.set_title(\"Accuracy_Score\")"
   ]
  },
  {
   "cell_type": "code",
   "execution_count": null,
   "metadata": {},
   "outputs": [],
   "source": [
    "g = sns.barplot(\"f1_score\",\"modelname\",data = df_10, palette=\"Set3\",orient = \"h\")\n",
    "g.set_xlabel(\"F1_Score\")\n",
    "g = g.set_title(\"F1_Score\")"
   ]
  },
  {
   "cell_type": "code",
   "execution_count": null,
   "metadata": {},
   "outputs": [],
   "source": [
    "g = sns.barplot(\"precision\",\"modelname\",data = df_10, palette=\"Set3\",orient = \"h\")\n",
    "g.set_xlabel(\"Precision_Score\")\n",
    "g = g.set_title(\"Precision_Score\")"
   ]
  },
  {
   "cell_type": "code",
   "execution_count": null,
   "metadata": {},
   "outputs": [],
   "source": [
    "g = sns.barplot(\"recall_score\",\"modelname\",data = df_10, palette=\"Set3\",orient = \"h\")\n",
    "g.set_xlabel(\"Recall_Score\")\n",
    "g = g.set_title(\"Recall_Score\")"
   ]
  },
  {
   "cell_type": "markdown",
   "metadata": {},
   "source": [
    "# 최고의 선정 모델 뽑기"
   ]
  },
  {
   "cell_type": "code",
   "execution_count": null,
   "metadata": {},
   "outputs": [],
   "source": [
    "# 최적 모델 선정하기 \n",
    "## 데이터를 분석하는 목적이 Recall을 줄이기 위한게 주 목적이다 -> Near Miss version1 을 이용하자.\n",
    "## 데이터를 분석하는 목적이 Precision을 줄이기 위한것이 주 목적이다 -> AKNN을 이용하자. \n",
    "## 데이터를 분석할 때 F1_Score를 가지고 평가하는게 주 목적이다 -> Easy Eansanble을 이용하자. "
   ]
  },
  {
   "cell_type": "markdown",
   "metadata": {},
   "source": [
    "# 최고의 모델 ratio 바꿔가면서 진행"
   ]
  },
  {
   "cell_type": "markdown",
   "metadata": {},
   "source": [
    "### 가장 성능이 잘나온 imblanced 데이터의 비율과 모델을 가지고 ratio를 변경하면서 시행"
   ]
  },
  {
   "cell_type": "code",
   "execution_count": null,
   "metadata": {
    "scrolled": true
   },
   "outputs": [],
   "source": [
    "sampling = []\n",
    "# OverSampling Method\n",
    "sampling.append(SMOTE(random_state=0,k_neighbors=5))\n",
    "sampling.append(AllKNN(random_state=0))\n",
    "sampling.append(NearMiss(random_state=0,version=1))\n",
    "sampling.append(TomekLinks(random_state=0))\n",
    "sampling.append(SMOTETomek(random_state=0))\n",
    "sampling.append(BalanceCascade(random_state=0))\n",
    "sampling.append(EasyEnsemble(random_state=0))"
   ]
  },
  {
   "cell_type": "markdown",
   "metadata": {},
   "source": [
    "# 20% Imbalance 데이터 "
   ]
  },
  {
   "cell_type": "code",
   "execution_count": null,
   "metadata": {},
   "outputs": [],
   "source": [
    "target1 = data[data['target']==1]\n",
    "target0 = data[data['target']==0] # 비율 구하기 위해 사용 \n",
    "len(target0)"
   ]
  },
  {
   "cell_type": "code",
   "execution_count": null,
   "metadata": {},
   "outputs": [],
   "source": [
    "# target 값이 1일때 전체 데이터에 대한 비율에 맞춰 추출하기 \n",
    "# 용량을 너무 많이 차지해서 한개씩 실행해야 한다. \n",
    "np.random.seed(0) # 난수고정 \n",
    "#target0_001 = target1.iloc[np.random.randint(0,len(target1),size=round((1/999)*len(target0))),:]\n",
    "#target0_01 = target1.iloc[np.random.randint(0,len(target1),size=round((1/99)*len(target0))),:]\n",
    "target0_1 = target1.iloc[np.random.randint(0,len(target1),size=round((1/4)*len(target0))),:]"
   ]
  },
  {
   "cell_type": "code",
   "execution_count": null,
   "metadata": {},
   "outputs": [],
   "source": [
    "# 데이터 합치기 \n",
    "#data0_001 = pd.concat([target0,target0_001])\n",
    "#data0_01 = pd.concat([target0,target0_01])\n",
    "data0_10 = pd.concat([target0,target0_1])\n",
    "del target0, target0_1"
   ]
  },
  {
   "cell_type": "code",
   "execution_count": null,
   "metadata": {},
   "outputs": [],
   "source": [
    "X = data0_10.iloc[:,1:]\n",
    "y = data0_10.iloc[:,0]\n",
    "del data0_10"
   ]
  },
  {
   "cell_type": "code",
   "execution_count": null,
   "metadata": {},
   "outputs": [],
   "source": [
    "# train data, test data 분할하기. \n",
    "X_train , X_test ,y_train, y_test = train_test_split(X,y,test_size=0.3,random_state=0)\n",
    "roc_auc_20 = []\n",
    "accuracy_20 = []\n",
    "f1_20 = []\n",
    "preci_20 = []\n",
    "recall_20 = []"
   ]
  },
  {
   "cell_type": "code",
   "execution_count": null,
   "metadata": {},
   "outputs": [],
   "source": [
    "for i in range(len(sampling)):\n",
    "    model = RandomForestClassifier(random_state=0)\n",
    "    X_tra,y_tra = sampling[i].fit_sample(X_train,y_train)\n",
    "    X_tra = X_tra.reshape(-1,29)\n",
    "    y_tra = y_tra.reshape(-1,1)\n",
    "    y_pred = model.fit(X_tra,y_tra).predict(X_test)\n",
    "    y_proba = model.predict_proba(X_test)[:,1]\n",
    "    roc_auc_20.append(roc_auc_score(y_test,y_proba))\n",
    "    accuracy_20.append(accuracy_score(y_test,y_pred))\n",
    "    f1_20.append(f1_score(y_test,y_pred))\n",
    "    preci_20.append(precision_score(y_test,y_pred))\n",
    "    recall_20.append(recall_score(y_test,y_pred))"
   ]
  },
  {
   "cell_type": "code",
   "execution_count": null,
   "metadata": {},
   "outputs": [],
   "source": [
    "df_20 = pd.DataFrame({'modelname':['SMOTE','AKNN','NM1','TL','SMOT','BC','EE' ],\n",
    "                  'roc_auc':roc_auc_20,'accuracy':accuracy_20,'f1_score':f1_20,'precision':preci_20,\n",
    "                  'recall_score':recall_20})\n",
    "df_20"
   ]
  },
  {
   "cell_type": "code",
   "execution_count": null,
   "metadata": {},
   "outputs": [],
   "source": [
    "g = sns.barplot(\"roc_auc\",\"modelname\",data = df_20, palette=\"Set3\",orient = \"h\")\n",
    "g.set_xlabel(\"Roc_Auc_Score\")\n",
    "g = g.set_title(\"Roc_Auc_Score\")"
   ]
  },
  {
   "cell_type": "code",
   "execution_count": null,
   "metadata": {},
   "outputs": [],
   "source": [
    "g = sns.barplot(\"accuracy\",\"modelname\",data = df_20, palette=\"Set3\",orient = \"h\")\n",
    "g.set_xlabel(\"Accuracy_Score\")\n",
    "g = g.set_title(\"Accuracy_Score\")"
   ]
  },
  {
   "cell_type": "code",
   "execution_count": null,
   "metadata": {},
   "outputs": [],
   "source": [
    "g = sns.barplot(\"f1_score\",\"modelname\",data = df_20, palette=\"Set3\",orient = \"h\")\n",
    "g.set_xlabel(\"F1_Score\")\n",
    "g = g.set_title(\"F1_Score\")"
   ]
  },
  {
   "cell_type": "code",
   "execution_count": null,
   "metadata": {},
   "outputs": [],
   "source": [
    "g = sns.barplot(\"precision\",\"modelname\",data = df_20, palette=\"Set3\",orient = \"h\")\n",
    "g.set_xlabel(\"Precision_Score\")\n",
    "g = g.set_title(\"Precision_Score\")"
   ]
  },
  {
   "cell_type": "code",
   "execution_count": null,
   "metadata": {},
   "outputs": [],
   "source": [
    "g = sns.barplot(\"recall_score\",\"modelname\",data = df_20, palette=\"Set3\",orient = \"h\")\n",
    "g.set_xlabel(\"Recall_Score\")\n",
    "g = g.set_title(\"Recall_Score\")"
   ]
  },
  {
   "cell_type": "markdown",
   "metadata": {},
   "source": [
    "# 25% Imbalance 데이터 "
   ]
  },
  {
   "cell_type": "code",
   "execution_count": null,
   "metadata": {},
   "outputs": [],
   "source": [
    "sampling = []\n",
    "# OverSampling Method\n",
    "sampling.append(SMOTE(random_state=0,k_neighbors=5))\n",
    "sampling.append(AllKNN(random_state=0))\n",
    "sampling.append(NearMiss(random_state=0,version=1))\n",
    "sampling.append(TomekLinks(random_state=0))\n",
    "sampling.append(SMOTETomek(random_state=0))\n",
    "sampling.append(BalanceCascade(random_state=0))\n",
    "sampling.append(EasyEnsemble(random_state=0))"
   ]
  },
  {
   "cell_type": "code",
   "execution_count": null,
   "metadata": {},
   "outputs": [],
   "source": [
    "target1 = data[data['target']==1]\n",
    "target0 = data[data['target']==0] # 비율 구하기 위해 사용 \n",
    "len(target0)"
   ]
  },
  {
   "cell_type": "code",
   "execution_count": null,
   "metadata": {},
   "outputs": [],
   "source": [
    "# target 값이 1일때 전체 데이터에 대한 비율에 맞춰 추출하기 \n",
    "# 용량을 너무 많이 차지해서 한개씩 실행해야 한다. \n",
    "np.random.seed(0) # 난수고정 \n",
    "#target0_001 = target1.iloc[np.random.randint(0,len(target1),size=round((1/999)*len(target0))),:]\n",
    "#target0_01 = target1.iloc[np.random.randint(0,len(target1),size=round((1/99)*len(target0))),:]\n",
    "target0_1 = target1.iloc[np.random.randint(0,len(target1),size=round((1/3)*len(target0))),:]"
   ]
  },
  {
   "cell_type": "code",
   "execution_count": null,
   "metadata": {},
   "outputs": [],
   "source": [
    "# 데이터 합치기 \n",
    "#data0_001 = pd.concat([target0,target0_001])\n",
    "#data0_01 = pd.concat([target0,target0_01])\n",
    "data0_10 = pd.concat([target0,target0_1])\n",
    "del target0, target0_1"
   ]
  },
  {
   "cell_type": "code",
   "execution_count": null,
   "metadata": {},
   "outputs": [],
   "source": [
    "X = data0_10.iloc[:,1:]\n",
    "y = data0_10.iloc[:,0]\n",
    "del data0_10"
   ]
  },
  {
   "cell_type": "code",
   "execution_count": null,
   "metadata": {},
   "outputs": [],
   "source": [
    "# train data, test data 분할하기. \n",
    "X_train , X_test ,y_train, y_test = train_test_split(X,y,test_size=0.3,random_state=0)\n",
    "roc_auc_30 = []\n",
    "accuracy_30 = []\n",
    "f1_30 = []\n",
    "preci_30 = []\n",
    "recall_30 = []"
   ]
  },
  {
   "cell_type": "code",
   "execution_count": null,
   "metadata": {},
   "outputs": [],
   "source": [
    "for i in range(len(sampling)):\n",
    "    model = RandomForestClassifier(random_state=0)\n",
    "    X_tra,y_tra = sampling[i].fit_sample(X_train,y_train)\n",
    "    X_tra = X_tra.reshape(-1,29)\n",
    "    y_tra = y_tra.reshape(-1,1)\n",
    "    y_pred = model.fit(X_tra,y_tra).predict(X_test)\n",
    "    y_proba = model.predict_proba(X_test)[:,1]\n",
    "    roc_auc_30.append(roc_auc_score(y_test,y_proba))\n",
    "    accuracy_30.append(accuracy_score(y_test,y_pred))\n",
    "    f1_30.append(f1_score(y_test,y_pred))\n",
    "    preci_30.append(precision_score(y_test,y_pred))\n",
    "    recall_30.append(recall_score(y_test,y_pred))"
   ]
  },
  {
   "cell_type": "code",
   "execution_count": null,
   "metadata": {},
   "outputs": [],
   "source": [
    "df_30 = pd.DataFrame({'modelname':['SMOTE','AKNN','NM1','TL','SMOT','BC','EE' ],\n",
    "                  'roc_auc':roc_auc_30,'accuracy':accuracy_30,'f1_score':f1_30,'precision':preci_30,\n",
    "                  'recall_score':recall_30})\n",
    "df_30"
   ]
  },
  {
   "cell_type": "code",
   "execution_count": null,
   "metadata": {},
   "outputs": [],
   "source": [
    "g = sns.barplot(\"roc_auc\",\"modelname\",data = df_30, palette=\"Set3\",orient = \"h\")\n",
    "g.set_xlabel(\"Roc_Auc_Score\")\n",
    "g = g.set_title(\"Roc_Auc_Score\")"
   ]
  },
  {
   "cell_type": "code",
   "execution_count": null,
   "metadata": {},
   "outputs": [],
   "source": [
    "g = sns.barplot(\"accuracy\",\"modelname\",data = df_30, palette=\"Set3\",orient = \"h\")\n",
    "g.set_xlabel(\"Accuracy_Score\")\n",
    "g = g.set_title(\"Accuracy_Score\")"
   ]
  },
  {
   "cell_type": "code",
   "execution_count": null,
   "metadata": {},
   "outputs": [],
   "source": [
    "g = sns.barplot(\"f1_score\",\"modelname\",data = df_30, palette=\"Set3\",orient = \"h\")\n",
    "g.set_xlabel(\"F1_Score\")\n",
    "g = g.set_title(\"F1_Score\")"
   ]
  },
  {
   "cell_type": "code",
   "execution_count": null,
   "metadata": {},
   "outputs": [],
   "source": [
    "g = sns.barplot(\"precision\",\"modelname\",data = df_30, palette=\"Set3\",orient = \"h\")\n",
    "g.set_xlabel(\"Precision_Score\")\n",
    "g = g.set_title(\"Precision_Score\")"
   ]
  },
  {
   "cell_type": "code",
   "execution_count": null,
   "metadata": {},
   "outputs": [],
   "source": [
    "g = sns.barplot(\"recall_score\",\"modelname\",data = df_30, palette=\"Set3\",orient = \"h\")\n",
    "g.set_xlabel(\"Recall_Score\")\n",
    "g = g.set_title(\"Recall_Score\")"
   ]
  },
  {
   "cell_type": "markdown",
   "metadata": {},
   "source": [
    "# 7% 코드\n",
    "# 30~40만개 코드"
   ]
  },
  {
   "cell_type": "code",
   "execution_count": null,
   "metadata": {
    "scrolled": false
   },
   "outputs": [],
   "source": [
    "data = pd.read_csv('WSDM_train_full_features.csv',engine='python')\n",
    "data.head()"
   ]
  },
  {
   "cell_type": "code",
   "execution_count": null,
   "metadata": {},
   "outputs": [],
   "source": [
    "from sklearn.model_selection import train_test_split\n",
    "data,data_drop = train_test_split(data,test_size=0.93,random_state=0)\n",
    "del data_drop # 삭제해서 용량 살리기 위해."
   ]
  },
  {
   "cell_type": "code",
   "execution_count": null,
   "metadata": {},
   "outputs": [],
   "source": [
    "target1 = data[data['target']==1]\n",
    "target0 = data[data['target']==0] # 비율 구하기 위해 사용 \n",
    "len(target0)"
   ]
  },
  {
   "cell_type": "code",
   "execution_count": null,
   "metadata": {},
   "outputs": [],
   "source": [
    "# target 값이 1일때 전체 데이터에 대한 비율에 맞춰 추출하기 \n",
    "# 용량을 너무 많이 차지해서 한개씩 실행해야 한다. \n",
    "np.random.seed(0) # 난수고정 \n",
    "target0_001 = target1.iloc[np.random.randint(0,len(target1),size=round((1/999)*len(target0))),:]\n",
    "#target0_01 = target1.iloc[np.random.randint(0,len(target1),size=round((1/99)*len(target0))),:]\n",
    "#target0_1 = target1.iloc[np.random.randint(0,len(target1),size=round((1/9)*len(target0)),:]"
   ]
  },
  {
   "cell_type": "code",
   "execution_count": null,
   "metadata": {},
   "outputs": [],
   "source": [
    "# 데이터 합치기 \n",
    "data0_001 = pd.concat([target0,target0_001])\n",
    "#data0_01 = pd.concat([target0,target0_01])\n",
    "#data_0_1 = pd.concat([target1,target0_1])\n",
    "del target0, target0_001"
   ]
  },
  {
   "cell_type": "code",
   "execution_count": null,
   "metadata": {},
   "outputs": [],
   "source": [
    "X = data0_001.iloc[:,1:]\n",
    "y = data0_001.iloc[:,0]\n",
    "del data0_001"
   ]
  },
  {
   "cell_type": "code",
   "execution_count": null,
   "metadata": {},
   "outputs": [],
   "source": [
    "# train data, test data 분할하기. \n",
    "X_train , X_test ,y_train, y_test = train_test_split(X,y,test_size=0.3,random_state=0)"
   ]
  },
  {
   "cell_type": "code",
   "execution_count": null,
   "metadata": {},
   "outputs": [],
   "source": [
    "from imblearn.over_sampling import *\n",
    "from imblearn.under_sampling import *\n",
    "from imblearn.ensemble import *\n",
    "from imblearn.combine import *\n",
    "from sklearn.ensemble import RandomForestClassifier\n",
    "from sklearn.model_selection import cross_val_score\n",
    "from sklearn.metrics import roc_auc_score, f1_score, precision_score, recall_score,accuracy_score"
   ]
  },
  {
   "cell_type": "code",
   "execution_count": null,
   "metadata": {},
   "outputs": [],
   "source": [
    "# Over sampling model  \n",
    "# ratio\n",
    "sampling = []\n",
    "sampling.append(SMOTE(random_state=0,k_neighbors=5,kind='borderline1'))\n",
    "sampling.append(SMOTE(random_state=0,k_neighbors=5,kind='borderline2'))\n",
    "sampling.append(SMOTE(random_state=0,k_neighbors=5))\n",
    "sampling.append(RandomOverSampler(random_state=0))\n",
    "sampling.append(ADASYN(random_state=0))\n",
    "# Under sampling model "
   ]
  },
  {
   "cell_type": "code",
   "execution_count": null,
   "metadata": {},
   "outputs": [],
   "source": [
    "from sklearn.ensemble import RandomForestClassifier\n",
    "from sklearn.model_selection import cross_val_score\n",
    "from sklearn.metrics import roc_auc_score, f1_score, precision_score, recall_score,accuracy_score"
   ]
  },
  {
   "cell_type": "code",
   "execution_count": null,
   "metadata": {},
   "outputs": [],
   "source": [
    "roc_auc_10 = []\n",
    "accuracy_10 = []\n",
    "f1_10 = []\n",
    "preci_10 = []\n",
    "recall_10 = []"
   ]
  },
  {
   "cell_type": "code",
   "execution_count": null,
   "metadata": {},
   "outputs": [],
   "source": [
    "for i in range(len(sampling)):\n",
    "    model = RandomForestClassifier(random_state=0)\n",
    "    X_tra,y_tra = sampling[i].fit_sample(X_train,y_train)\n",
    "    X_tra = X_tra.reshape(-1,29)\n",
    "    y_tra = y_tra.reshape(-1,1)\n",
    "    y_pred = model.fit(X_tra,y_tra).predict(X_test)\n",
    "    y_proba = model.predict_proba(X_test)[:,1]\n",
    "    roc_auc_10.append(roc_auc_score(y_test,y_proba))\n",
    "    accuracy_10.append(accuracy_score(y_test,y_pred))\n",
    "    f1_10.append(f1_score(y_test,y_pred))\n",
    "    preci_10.append(precision_score(y_test,y_pred))\n",
    "    recall_10.append(recall_score(y_test,y_pred))"
   ]
  },
  {
   "cell_type": "code",
   "execution_count": null,
   "metadata": {},
   "outputs": [],
   "source": [
    "df_1 = pd.DataFrame({'modelname':['SMOTE1','SMOTE2','SMOTE','ROS','ADASYN'],\n",
    "                  'roc_auc':roc_auc_10,'accuracy':accuracy_10,'f1_score':f1_10,'precision':preci_10,\n",
    "                  'recall_score':recall_10})\n",
    "df_1"
   ]
  },
  {
   "cell_type": "code",
   "execution_count": null,
   "metadata": {
    "scrolled": true
   },
   "outputs": [],
   "source": [
    "g = sns.barplot(\"roc_auc\",\"modelname\",data = df_1, palette=\"Set3\",orient = \"h\")\n",
    "g.set_xlabel(\"Roc_Auc_Score\")\n",
    "g = g.set_title(\"Roc_Auc_Score\")"
   ]
  },
  {
   "cell_type": "code",
   "execution_count": null,
   "metadata": {},
   "outputs": [],
   "source": [
    "g = sns.barplot(\"accuracy\",\"modelname\",data = df_1, palette=\"Set3\",orient = \"h\")\n",
    "g.set_xlabel(\"Accuracy_Score\")\n",
    "g = g.set_title(\"Accuracy_Score\")"
   ]
  },
  {
   "cell_type": "code",
   "execution_count": null,
   "metadata": {},
   "outputs": [],
   "source": [
    "g = sns.barplot(\"f1_score\",\"modelname\",data = df_1, palette=\"Set3\",orient = \"h\")\n",
    "g.set_xlabel(\"F1_Score\")\n",
    "g = g.set_title(\"F1_Score\")"
   ]
  },
  {
   "cell_type": "code",
   "execution_count": null,
   "metadata": {},
   "outputs": [],
   "source": [
    "g = sns.barplot(\"precision\",\"modelname\",data = df_1, palette=\"Set3\",orient = \"h\")\n",
    "g.set_xlabel(\"Precision_Score\")\n",
    "g = g.set_title(\"Precision_Score\")"
   ]
  },
  {
   "cell_type": "code",
   "execution_count": null,
   "metadata": {
    "scrolled": true
   },
   "outputs": [],
   "source": [
    "g = sns.barplot(\"recall_score\",\"modelname\",data = df_1, palette=\"Set3\",orient = \"h\")\n",
    "g.set_xlabel(\"Recall_Score\")\n",
    "g = g.set_title(\"Recall_Score\")"
   ]
  },
  {
   "cell_type": "code",
   "execution_count": null,
   "metadata": {},
   "outputs": [],
   "source": [
    "#under\n",
    "sampling = []\n",
    "sampling.append(RandomUnderSampler(random_state=0))\n",
    "sampling.append(CondensedNearestNeighbour(random_state=0))\n",
    "sampling.append(EditedNearestNeighbours(random_state=0))\n",
    "sampling.append(RepeatedEditedNearestNeighbours(random_state=0))\n",
    "sampling.append(AllKNN(random_state=0))\n",
    "sampling.append(InstanceHardnessThreshold(random_state=0))\n",
    "sampling.append(NearMiss(random_state=0,version=1))\n",
    "sampling.append(NearMiss(random_state=0,version=2))\n",
    "sampling.append(NearMiss(random_state=0,version=3))\n",
    "sampling.append(NeighbourhoodCleaningRule(random_state=0))\n",
    "sampling.append(OneSidedSelection(random_state=0))\n",
    "sampling.append(TomekLinks(random_state=0))\n",
    "#over\n",
    "sampling.append(RandomOverSampler(random_state=0))\n",
    "sampling.append(SMOTE(random_state=0,k_neighbors=5,kind='borderline1'))\n",
    "sampling.append(SMOTE(random_state=0,k_neighbors=5,kind='borderline2'))\n",
    "sampling.append(ADASYN(random_state=0))\n",
    "# cobine under and over sampling\n",
    "# ratio \n",
    "sampling.append(SMOTETomek(random_state=0, sampling_strategy='all'))\n",
    "sampling.append(SMOTEENN(random_state=0))\n",
    "# ensanble\n",
    "sampling.append(BalanceCascade(random_state=0))\n",
    "sampling.append(EasyEnsemble(random_state=0))"
   ]
  },
  {
   "cell_type": "markdown",
   "metadata": {},
   "source": [
    "# Under Sampling Mathod"
   ]
  },
  {
   "cell_type": "markdown",
   "metadata": {},
   "source": [
    "RandomUnderSampler"
   ]
  },
  {
   "cell_type": "code",
   "execution_count": null,
   "metadata": {},
   "outputs": [],
   "source": [
    "# 결과를 표로 정리하기 위한 리스트 \n",
    "roc_auc = []\n",
    "accuracy = []\n",
    "f1 = []\n",
    "preci = []\n",
    "recall = []"
   ]
  },
  {
   "cell_type": "code",
   "execution_count": null,
   "metadata": {},
   "outputs": [],
   "source": [
    "X_tra,y_tra = sampling[0].fit_sample(X_train,y_train)\n",
    "model = RandomForestClassifier(random_state=0)\n",
    "y_pred = model.fit(X_tra,y_tra).predict(X_test)\n",
    "y_proba = model.predict_proba(X_test)[:,1]"
   ]
  },
  {
   "cell_type": "code",
   "execution_count": null,
   "metadata": {},
   "outputs": [],
   "source": [
    "print('accuracy_score',accuracy_score(y_test,y_pred))\n",
    "print('f1_score',f1_score(y_test,y_pred))\n",
    "print('precision_score',precision_score(y_test,y_pred))\n",
    "print('recall_score',recall_score(y_test,y_pred))\n",
    "print('roc_auc_score',roc_auc_score(y_test,y_proba))"
   ]
  },
  {
   "cell_type": "code",
   "execution_count": null,
   "metadata": {},
   "outputs": [],
   "source": [
    "roc_auc.append(roc_auc_score(y_test,y_proba))\n",
    "accuracy.append(accuracy_score(y_test,y_pred))\n",
    "f1.append(f1_score(y_test,y_pred))\n",
    "preci.append(precision_score(y_test,y_pred))\n",
    "recall.append(recall_score(y_test,y_pred))"
   ]
  },
  {
   "cell_type": "markdown",
   "metadata": {},
   "source": [
    "Condensed Nearest Neighbours"
   ]
  },
  {
   "cell_type": "code",
   "execution_count": null,
   "metadata": {},
   "outputs": [],
   "source": [
    "X_tra,y_tra = sampling[1].fit_sample(X_train,y_train)\n",
    "model = RandomForestClassifier(random_state=0)\n",
    "y_pred = model.fit(X_tra,y_tra).predict(X_test)\n",
    "y_proba = model.predict_proba(X_test)[:,1]"
   ]
  },
  {
   "cell_type": "code",
   "execution_count": null,
   "metadata": {},
   "outputs": [],
   "source": [
    "print('accuracy_score',accuracy_score(y_test,y_pred))\n",
    "print('f1_score',f1_score(y_test,y_pred))\n",
    "print('precision_score',precision_score(y_test,y_pred))\n",
    "print('recall_score',recall_score(y_test,y_pred))\n",
    "print('roc_auc_score',roc_auc_score(y_test,y_proba))"
   ]
  },
  {
   "cell_type": "code",
   "execution_count": null,
   "metadata": {},
   "outputs": [],
   "source": [
    "roc_auc.append(roc_auc_score(y_test,y_proba))\n",
    "accuracy.append(accuracy_score(y_test,y_pred))\n",
    "f1.append(f1_score(y_test,y_pred))\n",
    "preci.append(precision_score(y_test,y_pred))\n",
    "recall.append(recall_score(y_test,y_pred))"
   ]
  },
  {
   "cell_type": "markdown",
   "metadata": {},
   "source": [
    "Edited Nearest Neighbours"
   ]
  },
  {
   "cell_type": "code",
   "execution_count": null,
   "metadata": {},
   "outputs": [],
   "source": [
    "X_tra,y_tra = sampling[2].fit_sample(X_train,y_train)\n",
    "model = RandomForestClassifier(random_state=0)\n",
    "y_pred = model.fit(X_tra,y_tra).predict(X_test)\n",
    "y_proba = model.predict_proba(X_test)[:,1]"
   ]
  },
  {
   "cell_type": "code",
   "execution_count": null,
   "metadata": {},
   "outputs": [],
   "source": [
    "print('accuracy_score',accuracy_score(y_test,y_pred))\n",
    "print('f1_score',f1_score(y_test,y_pred))\n",
    "print('precision_score',precision_score(y_test,y_pred))\n",
    "print('recall_score',recall_score(y_test,y_pred))\n",
    "print('roc_auc_score',roc_auc_score(y_test,y_proba))"
   ]
  },
  {
   "cell_type": "code",
   "execution_count": null,
   "metadata": {},
   "outputs": [],
   "source": [
    "roc_auc.append(roc_auc_score(y_test,y_proba))\n",
    "accuracy.append(accuracy_score(y_test,y_pred))\n",
    "f1.append(f1_score(y_test,y_pred))\n",
    "preci.append(precision_score(y_test,y_pred))\n",
    "recall.append(recall_score(y_test,y_pred))"
   ]
  },
  {
   "cell_type": "markdown",
   "metadata": {},
   "source": [
    "Repeated Edited Nearest Neighbours"
   ]
  },
  {
   "cell_type": "code",
   "execution_count": null,
   "metadata": {},
   "outputs": [],
   "source": [
    "X_tra,y_tra = sampling[3].fit_sample(X_train,y_train)\n",
    "model = RandomForestClassifier(random_state=0)\n",
    "y_pred = model.fit(X_tra,y_tra).predict(X_test)\n",
    "y_proba = model.predict_proba(X_test)[:,1]"
   ]
  },
  {
   "cell_type": "code",
   "execution_count": null,
   "metadata": {},
   "outputs": [],
   "source": [
    "print('accuracy_score',accuracy_score(y_test,y_pred))\n",
    "print('f1_score',f1_score(y_test,y_pred))\n",
    "print('precision_score',precision_score(y_test,y_pred))\n",
    "print('recall_score',recall_score(y_test,y_pred))\n",
    "print('roc_auc_score',roc_auc_score(y_test,y_proba))"
   ]
  },
  {
   "cell_type": "code",
   "execution_count": null,
   "metadata": {},
   "outputs": [],
   "source": [
    "roc_auc.append(roc_auc_score(y_test,y_proba))\n",
    "accuracy.append(accuracy_score(y_test,y_pred))\n",
    "f1.append(f1_score(y_test,y_pred))\n",
    "preci.append(precision_score(y_test,y_pred))\n",
    "recall.append(recall_score(y_test,y_pred))"
   ]
  },
  {
   "cell_type": "markdown",
   "metadata": {},
   "source": [
    "All KNN"
   ]
  },
  {
   "cell_type": "code",
   "execution_count": null,
   "metadata": {},
   "outputs": [],
   "source": [
    "X_tra,y_tra = sampling[4].fit_sample(X_train,y_train)\n",
    "model = RandomForestClassifier(random_state=0)\n",
    "y_pred = model.fit(X_tra,y_tra).predict(X_test)\n",
    "y_proba = model.predict_proba(X_test)[:,1]"
   ]
  },
  {
   "cell_type": "code",
   "execution_count": null,
   "metadata": {},
   "outputs": [],
   "source": [
    "print('accuracy_score',accuracy_score(y_test,y_pred))\n",
    "print('f1_score',f1_score(y_test,y_pred))\n",
    "print('precision_score',precision_score(y_test,y_pred))\n",
    "print('recall_score',recall_score(y_test,y_pred))\n",
    "print('roc_auc_score',roc_auc_score(y_test,y_proba))"
   ]
  },
  {
   "cell_type": "code",
   "execution_count": null,
   "metadata": {},
   "outputs": [],
   "source": [
    "roc_auc.append(roc_auc_score(y_test,y_proba))\n",
    "accuracy.append(accuracy_score(y_test,y_pred))\n",
    "f1.append(f1_score(y_test,y_pred))\n",
    "preci.append(precision_score(y_test,y_pred))\n",
    "recall.append(recall_score(y_test,y_pred))"
   ]
  },
  {
   "cell_type": "markdown",
   "metadata": {},
   "source": [
    "Instance Hardness Threshold"
   ]
  },
  {
   "cell_type": "code",
   "execution_count": null,
   "metadata": {},
   "outputs": [],
   "source": [
    "X_tra,y_tra = sampling[5].fit_sample(X_train,y_train)\n",
    "model = RandomForestClassifier(random_state=0)\n",
    "y_pred = model.fit(X_tra,y_tra).predict(X_test)\n",
    "y_proba = model.predict_proba(X_test)[:,1]"
   ]
  },
  {
   "cell_type": "code",
   "execution_count": null,
   "metadata": {},
   "outputs": [],
   "source": [
    "print('accuracy_score',accuracy_score(y_test,y_pred))\n",
    "print('f1_score',f1_score(y_test,y_pred))\n",
    "print('precision_score',precision_score(y_test,y_pred))\n",
    "print('recall_score',recall_score(y_test,y_pred))\n",
    "print('roc_auc_score',roc_auc_score(y_test,y_proba))"
   ]
  },
  {
   "cell_type": "code",
   "execution_count": null,
   "metadata": {},
   "outputs": [],
   "source": [
    "roc_auc.append(roc_auc_score(y_test,y_proba))\n",
    "accuracy.append(accuracy_score(y_test,y_pred))\n",
    "f1.append(f1_score(y_test,y_pred))\n",
    "preci.append(precision_score(y_test,y_pred))\n",
    "recall.append(recall_score(y_test,y_pred))"
   ]
  },
  {
   "cell_type": "markdown",
   "metadata": {},
   "source": [
    "Near Miss version1"
   ]
  },
  {
   "cell_type": "code",
   "execution_count": null,
   "metadata": {},
   "outputs": [],
   "source": [
    "X_tra,y_tra = sampling[6].fit_sample(X_train,y_train)\n",
    "model = RandomForestClassifier(random_state=0)\n",
    "y_pred = model.fit(X_tra,y_tra).predict(X_test)\n",
    "y_proba = model.predict_proba(X_test)[:,1]"
   ]
  },
  {
   "cell_type": "code",
   "execution_count": null,
   "metadata": {},
   "outputs": [],
   "source": [
    "print('accuracy_score',accuracy_score(y_test,y_pred))\n",
    "print('f1_score',f1_score(y_test,y_pred))\n",
    "print('precision_score',precision_score(y_test,y_pred))\n",
    "print('recall_score',recall_score(y_test,y_pred))\n",
    "print('roc_auc_score',roc_auc_score(y_test,y_proba))"
   ]
  },
  {
   "cell_type": "code",
   "execution_count": null,
   "metadata": {},
   "outputs": [],
   "source": [
    "roc_auc.append(roc_auc_score(y_test,y_proba))\n",
    "accuracy.append(accuracy_score(y_test,y_pred))\n",
    "f1.append(f1_score(y_test,y_pred))\n",
    "preci.append(precision_score(y_test,y_pred))\n",
    "recall.append(recall_score(y_test,y_pred))"
   ]
  },
  {
   "cell_type": "markdown",
   "metadata": {},
   "source": [
    "Near Miss version2"
   ]
  },
  {
   "cell_type": "code",
   "execution_count": null,
   "metadata": {},
   "outputs": [],
   "source": [
    "X_tra,y_tra = sampling[7].fit_sample(X_train,y_train)\n",
    "model = RandomForestClassifier(random_state=0)\n",
    "y_pred = model.fit(X_tra,y_tra).predict(X_test)\n",
    "y_proba = model.predict_proba(X_test)[:,1]"
   ]
  },
  {
   "cell_type": "code",
   "execution_count": null,
   "metadata": {},
   "outputs": [],
   "source": [
    "print('accuracy_score',accuracy_score(y_test,y_pred))\n",
    "print('f1_score',f1_score(y_test,y_pred))\n",
    "print('precision_score',precision_score(y_test,y_pred))\n",
    "print('recall_score',recall_score(y_test,y_pred))\n",
    "print('roc_auc_score',roc_auc_score(y_test,y_proba))"
   ]
  },
  {
   "cell_type": "code",
   "execution_count": null,
   "metadata": {},
   "outputs": [],
   "source": [
    "roc_auc.append(roc_auc_score(y_test,y_proba))\n",
    "accuracy.append(accuracy_score(y_test,y_pred))\n",
    "f1.append(f1_score(y_test,y_pred))\n",
    "preci.append(precision_score(y_test,y_pred))\n",
    "recall.append(recall_score(y_test,y_pred))"
   ]
  },
  {
   "cell_type": "markdown",
   "metadata": {},
   "source": [
    "Near Miss version3"
   ]
  },
  {
   "cell_type": "code",
   "execution_count": null,
   "metadata": {},
   "outputs": [],
   "source": [
    "X_tra,y_tra = sampling[8].fit_sample(X_train,y_train)\n",
    "model = RandomForestClassifier(random_state=0)\n",
    "y_pred = model.fit(X_tra,y_tra).predict(X_test)\n",
    "y_proba = model.predict_proba(X_test)[:,1]"
   ]
  },
  {
   "cell_type": "code",
   "execution_count": null,
   "metadata": {},
   "outputs": [],
   "source": [
    "print('accuracy_score',accuracy_score(y_test,y_pred))\n",
    "print('f1_score',f1_score(y_test,y_pred))\n",
    "print('precision_score',precision_score(y_test,y_pred))\n",
    "print('recall_score',recall_score(y_test,y_pred))\n",
    "print('roc_auc_score',roc_auc_score(y_test,y_proba))"
   ]
  },
  {
   "cell_type": "code",
   "execution_count": null,
   "metadata": {},
   "outputs": [],
   "source": [
    "roc_auc.append(roc_auc_score(y_test,y_proba))\n",
    "accuracy.append(accuracy_score(y_test,y_pred))\n",
    "f1.append(f1_score(y_test,y_pred))\n",
    "preci.append(precision_score(y_test,y_pred))\n",
    "recall.append(recall_score(y_test,y_pred))"
   ]
  },
  {
   "cell_type": "markdown",
   "metadata": {},
   "source": [
    "Neighbourhood Cleaning Rule"
   ]
  },
  {
   "cell_type": "code",
   "execution_count": null,
   "metadata": {},
   "outputs": [],
   "source": [
    "X_tra,y_tra = sampling[9].fit_sample(X_train,y_train)\n",
    "model = RandomForestClassifier(random_state=0)\n",
    "y_pred = model.fit(X_tra,y_tra).predict(X_test)\n",
    "y_proba = model.predict_proba(X_test)[:,1]"
   ]
  },
  {
   "cell_type": "code",
   "execution_count": null,
   "metadata": {},
   "outputs": [],
   "source": [
    "print('accuracy_score',accuracy_score(y_test,y_pred))\n",
    "print('f1_score',f1_score(y_test,y_pred))\n",
    "print('precision_score',precision_score(y_test,y_pred))\n",
    "print('recall_score',recall_score(y_test,y_pred))\n",
    "print('roc_auc_score',roc_auc_score(y_test,y_proba))"
   ]
  },
  {
   "cell_type": "code",
   "execution_count": null,
   "metadata": {},
   "outputs": [],
   "source": [
    "roc_auc.append(roc_auc_score(y_test,y_proba))\n",
    "accuracy.append(accuracy_score(y_test,y_pred))\n",
    "f1.append(f1_score(y_test,y_pred))\n",
    "preci.append(precision_score(y_test,y_pred))\n",
    "recall.append(recall_score(y_test,y_pred))"
   ]
  },
  {
   "cell_type": "markdown",
   "metadata": {},
   "source": [
    "One Sided Selection"
   ]
  },
  {
   "cell_type": "code",
   "execution_count": null,
   "metadata": {},
   "outputs": [],
   "source": [
    "X_tra,y_tra = sampling[10].fit_sample(X_train,y_train)\n",
    "model = RandomForestClassifier(random_state=0)\n",
    "y_pred = model.fit(X_tra,y_tra).predict(X_test)\n",
    "y_proba = model.predict_proba(X_test)[:,1]"
   ]
  },
  {
   "cell_type": "code",
   "execution_count": null,
   "metadata": {},
   "outputs": [],
   "source": [
    "print('accuracy_score',accuracy_score(y_test,y_pred))\n",
    "print('f1_score',f1_score(y_test,y_pred))\n",
    "print('precision_score',precision_score(y_test,y_pred))\n",
    "print('recall_score',recall_score(y_test,y_pred))\n",
    "print('roc_auc_score',roc_auc_score(y_test,y_proba))"
   ]
  },
  {
   "cell_type": "code",
   "execution_count": null,
   "metadata": {},
   "outputs": [],
   "source": [
    "roc_auc.append(roc_auc_score(y_test,y_proba))\n",
    "accuracy.append(accuracy_score(y_test,y_pred))\n",
    "f1.append(f1_score(y_test,y_pred))\n",
    "preci.append(precision_score(y_test,y_pred))\n",
    "recall.append(recall_score(y_test,y_pred))"
   ]
  },
  {
   "cell_type": "markdown",
   "metadata": {},
   "source": [
    "Tomek Links"
   ]
  },
  {
   "cell_type": "code",
   "execution_count": null,
   "metadata": {},
   "outputs": [],
   "source": [
    "X_tra,y_tra = sampling[11].fit_sample(X_train,y_train)\n",
    "model = RandomForestClassifier(random_state=0)\n",
    "y_pred = model.fit(X_tra,y_tra).predict(X_test)\n",
    "y_proba = model.predict_proba(X_test)[:,1]"
   ]
  },
  {
   "cell_type": "code",
   "execution_count": null,
   "metadata": {},
   "outputs": [],
   "source": [
    "print('accuracy_score',accuracy_score(y_test,y_pred))\n",
    "print('f1_score',f1_score(y_test,y_pred))\n",
    "print('precision_score',precision_score(y_test,y_pred))\n",
    "print('recall_score',recall_score(y_test,y_pred))\n",
    "print('roc_auc_score',roc_auc_score(y_test,y_proba))"
   ]
  },
  {
   "cell_type": "code",
   "execution_count": null,
   "metadata": {},
   "outputs": [],
   "source": [
    "roc_auc.append(roc_auc_score(y_test,y_proba))\n",
    "accuracy.append(accuracy_score(y_test,y_pred))\n",
    "f1.append(f1_score(y_test,y_pred))\n",
    "preci.append(precision_score(y_test,y_pred))\n",
    "recall.append(recall_score(y_test,y_pred))"
   ]
  },
  {
   "cell_type": "markdown",
   "metadata": {},
   "source": [
    "# Combine under and over sampling"
   ]
  },
  {
   "cell_type": "markdown",
   "metadata": {},
   "source": [
    "SMOTE Tomek"
   ]
  },
  {
   "cell_type": "code",
   "execution_count": null,
   "metadata": {},
   "outputs": [],
   "source": [
    "X_tra,y_tra = sampling[12].fit_sample(X_train,y_train)\n",
    "model = RandomForestClassifier(random_state=0)\n",
    "y_pred = model.fit(X_tra,y_tra).predict(X_test)\n",
    "y_proba = model.predict_proba(X_test)[:,1]"
   ]
  },
  {
   "cell_type": "code",
   "execution_count": null,
   "metadata": {},
   "outputs": [],
   "source": [
    "print('accuracy_score',accuracy_score(y_test,y_pred))\n",
    "print('f1_score',f1_score(y_test,y_pred))\n",
    "print('precision_score',precision_score(y_test,y_pred))\n",
    "print('recall_score',recall_score(y_test,y_pred))\n",
    "print('roc_auc_score',roc_auc_score(y_test,y_proba))"
   ]
  },
  {
   "cell_type": "code",
   "execution_count": null,
   "metadata": {},
   "outputs": [],
   "source": [
    "roc_auc.append(roc_auc_score(y_test,y_proba))\n",
    "accuracy.append(accuracy_score(y_test,y_pred))\n",
    "f1.append(f1_score(y_test,y_pred))\n",
    "preci.append(precision_score(y_test,y_pred))\n",
    "recall.append(recall_score(y_test,y_pred))"
   ]
  },
  {
   "cell_type": "markdown",
   "metadata": {},
   "source": [
    "SMOTE ENN"
   ]
  },
  {
   "cell_type": "code",
   "execution_count": null,
   "metadata": {},
   "outputs": [],
   "source": [
    "X_tra,y_tra = sampling[13].fit_sample(X_train,y_train)\n",
    "model = RandomForestClassifier(random_state=0)\n",
    "y_pred = model.fit(X_tra,y_tra).predict(X_test)\n",
    "y_proba = model.predict_proba(X_test)[:,1]"
   ]
  },
  {
   "cell_type": "code",
   "execution_count": null,
   "metadata": {},
   "outputs": [],
   "source": [
    "print('accuracy_score',accuracy_score(y_test,y_pred))\n",
    "print('f1_score',f1_score(y_test,y_pred))\n",
    "print('precision_score',precision_score(y_test,y_pred))\n",
    "print('recall_score',recall_score(y_test,y_pred))\n",
    "print('roc_auc_score',roc_auc_score(y_test,y_proba))"
   ]
  },
  {
   "cell_type": "code",
   "execution_count": null,
   "metadata": {},
   "outputs": [],
   "source": [
    "roc_auc.append(roc_auc_score(y_test,y_proba))\n",
    "accuracy.append(accuracy_score(y_test,y_pred))\n",
    "f1.append(f1_score(y_test,y_pred))\n",
    "preci.append(precision_score(y_test,y_pred))\n",
    "recall.append(recall_score(y_test,y_pred))"
   ]
  },
  {
   "cell_type": "markdown",
   "metadata": {},
   "source": [
    "# Ensanble"
   ]
  },
  {
   "cell_type": "markdown",
   "metadata": {},
   "source": [
    "BalanceCascade"
   ]
  },
  {
   "cell_type": "code",
   "execution_count": null,
   "metadata": {},
   "outputs": [],
   "source": [
    "X_tra,y_tra = sampling[14].fit_sample(X_train,y_train)\n",
    "model = RandomForestClassifier(random_state=0)\n",
    "y_pred = model.fit(X_tra[0],y_tra[0]).predict(X_test)\n",
    "y_proba = model.predict_proba(X_test)[:,1]"
   ]
  },
  {
   "cell_type": "code",
   "execution_count": null,
   "metadata": {},
   "outputs": [],
   "source": [
    "print('accuracy_score',accuracy_score(y_test,y_pred))\n",
    "print('f1_score',f1_score(y_test,y_pred))\n",
    "print('precision_score',precision_score(y_test,y_pred))\n",
    "print('recall_score',recall_score(y_test,y_pred))\n",
    "print('roc_auc_score',roc_auc_score(y_test,y_proba))"
   ]
  },
  {
   "cell_type": "code",
   "execution_count": null,
   "metadata": {},
   "outputs": [],
   "source": [
    "roc_auc.append(roc_auc_score(y_test,y_proba))\n",
    "accuracy.append(accuracy_score(y_test,y_pred))\n",
    "f1.append(f1_score(y_test,y_pred))\n",
    "preci.append(precision_score(y_test,y_pred))\n",
    "recall.append(recall_score(y_test,y_pred))"
   ]
  },
  {
   "cell_type": "markdown",
   "metadata": {},
   "source": [
    "Easy Ensemble"
   ]
  },
  {
   "cell_type": "code",
   "execution_count": null,
   "metadata": {},
   "outputs": [],
   "source": [
    "X_tra,y_tra = sampling[15].fit_sample(X_train,y_train)\n",
    "X_tra = X_tra.reshape(-1,29)\n",
    "y_tra = y_tra.reshape(-1,1)\n",
    "model = RandomForestClassifier(random_state=0)\n",
    "y_pred = model.fit(X_tra,y_tra).predict(X_test)\n",
    "y_proba = model.predict_proba(X_test)[:,1]"
   ]
  },
  {
   "cell_type": "code",
   "execution_count": null,
   "metadata": {},
   "outputs": [],
   "source": [
    "X_tra,y_tra = sampling[15].fit_sample(X_train,y_train)\n",
    "X_tra = X_tra.reshape(-1,29)\n",
    "display(len(X_tra))\n",
    "display(len(y_tra))"
   ]
  },
  {
   "cell_type": "code",
   "execution_count": null,
   "metadata": {},
   "outputs": [],
   "source": [
    "print('accuracy_score',accuracy_score(y_test,y_pred))\n",
    "print('f1_score',f1_score(y_test,y_pred))\n",
    "print('precision_score',precision_score(y_test,y_pred))\n",
    "print('recall_score',recall_score(y_test,y_pred))\n",
    "print('roc_auc_score',roc_auc_score(y_test,y_proba))"
   ]
  },
  {
   "cell_type": "code",
   "execution_count": null,
   "metadata": {},
   "outputs": [],
   "source": [
    "roc_auc.append(roc_auc_score(y_test,y_proba))\n",
    "accuracy.append(accuracy_score(y_test,y_pred))\n",
    "f1.append(f1_score(y_test,y_pred))\n",
    "preci.append(precision_score(y_test,y_pred))\n",
    "recall.append(recall_score(y_test,y_pred))"
   ]
  },
  {
   "cell_type": "code",
   "execution_count": null,
   "metadata": {},
   "outputs": [],
   "source": [
    "df = pd.DataFrame({'modelname':['RUS','CNN','ENN','RNN','AKNN','IHT','NMV1','NMV2',\n",
    "                               'NMV3','NCR','OSS','TL','SMOT','SMOTNN','BC','EE'],\n",
    "                  'roc_auc':roc_auc,'accuracy':accuracy,'f1_score':f1,'precision':preci,\n",
    "                  'recall_score':recall})\n",
    "df"
   ]
  },
  {
   "cell_type": "markdown",
   "metadata": {},
   "source": [
    "# 그림그리기."
   ]
  },
  {
   "cell_type": "code",
   "execution_count": null,
   "metadata": {},
   "outputs": [],
   "source": [
    "g = sns.barplot(\"roc_auc\",\"modelname\",data = df, palette=\"Set3\",orient = \"h\")\n",
    "g.set_xlabel(\"Roc_Auc_Score\")\n",
    "g = g.set_title(\"Roc_Auc_Score\")"
   ]
  },
  {
   "cell_type": "code",
   "execution_count": null,
   "metadata": {},
   "outputs": [],
   "source": [
    "g = sns.barplot(\"accuracy\",\"modelname\",data = df, palette=\"Set3\",orient = \"h\")\n",
    "g.set_xlabel(\"Accuracy_Score\")\n",
    "g = g.set_title(\"Accuracy_Score\")"
   ]
  },
  {
   "cell_type": "code",
   "execution_count": null,
   "metadata": {},
   "outputs": [],
   "source": [
    "g = sns.barplot(\"f1_score\",\"modelname\",data = df, palette=\"Set3\",orient = \"h\")\n",
    "g.set_xlabel(\"F1_Score\")\n",
    "g = g.set_title(\"F1_Score\")"
   ]
  },
  {
   "cell_type": "code",
   "execution_count": null,
   "metadata": {},
   "outputs": [],
   "source": [
    "g = sns.barplot(\"precision\",\"modelname\",data = df, palette=\"Set3\",orient = \"h\")\n",
    "g.set_xlabel(\"Precision_Score\")\n",
    "g = g.set_title(\"Precision_Score\")"
   ]
  },
  {
   "cell_type": "code",
   "execution_count": null,
   "metadata": {},
   "outputs": [],
   "source": [
    "g = sns.barplot(\"recall_score\",\"modelname\",data = df, palette=\"Set3\",orient = \"h\")\n",
    "g.set_xlabel(\"Recall_Score\")\n",
    "g = g.set_title(\"Recall_Score\")"
   ]
  },
  {
   "cell_type": "markdown",
   "metadata": {},
   "source": [
    "# 최고의 sampling model 선택"
   ]
  },
  {
   "cell_type": "markdown",
   "metadata": {},
   "source": [
    "밑에서 4개 전까지는 UnderSampling\n",
    "밑에서 2개 전까지는 combine\n",
    "나머지 ensanble"
   ]
  },
  {
   "cell_type": "code",
   "execution_count": null,
   "metadata": {},
   "outputs": [],
   "source": [
    "sampling = []\n",
    "# OverSampling Method\n",
    "sampling.append(SMOTE(random_state=0,k_neighbors=5))\n",
    "sampling.append(RandomUnderSampler(random_state=0))\n",
    "sampling.append(NearMiss(random_state=0,version=1))\n",
    "sampling.append(NearMiss(random_state=0,version=3))\n",
    "sampling.append(SMOTETomek(random_state=0))\n",
    "sampling.append(BalanceCascade(random_state=0))\n",
    "sampling.append(EasyEnsemble(random_state=0))"
   ]
  },
  {
   "cell_type": "markdown",
   "metadata": {},
   "source": [
    "# 다른 imblanced에  최적의 모델 적용"
   ]
  },
  {
   "cell_type": "code",
   "execution_count": null,
   "metadata": {},
   "outputs": [],
   "source": [
    "target1 = data[data['target']==1]\n",
    "target0 = data[data['target']==0] # 비율 구하기 위해 사용 \n",
    "len(target0)"
   ]
  },
  {
   "cell_type": "code",
   "execution_count": null,
   "metadata": {},
   "outputs": [],
   "source": [
    "# target 값이 1일때 전체 데이터에 대한 비율에 맞춰 추출하기 \n",
    "# 용량을 너무 많이 차지해서 한개씩 실행해야 한다. \n",
    "np.random.seed(0) # 난수고정 \n",
    "#target0_001 = target1.iloc[np.random.randint(0,len(target1),size=round((1/999)*len(target0))),:]\n",
    "target0_01 = target1.iloc[np.random.randint(0,len(target1),size=round((1/99)*len(target0))),:]\n",
    "#target0_1 = target1.iloc[np.random.randint(0,len(target1),size=round((1/9)*len(target0)),:]"
   ]
  },
  {
   "cell_type": "code",
   "execution_count": null,
   "metadata": {},
   "outputs": [],
   "source": [
    "# 데이터 합치기 \n",
    "#data0_001 = pd.concat([target0,target0_001])\n",
    "data0_01 = pd.concat([target0,target0_01])\n",
    "#data_0_1 = pd.concat([target1,target0_1])\n",
    "del target0, target0_01"
   ]
  },
  {
   "cell_type": "code",
   "execution_count": null,
   "metadata": {},
   "outputs": [],
   "source": [
    "X = data0_01.iloc[:,1:]\n",
    "y = data0_01.iloc[:,0]\n",
    "del data0_01"
   ]
  },
  {
   "cell_type": "code",
   "execution_count": null,
   "metadata": {},
   "outputs": [],
   "source": [
    "# train data, test data 분할하기. \n",
    "X_train , X_test ,y_train, y_test = train_test_split(X,y,test_size=0.3,random_state=0)\n",
    "roc_auc_1 = []\n",
    "accuracy_1 = []\n",
    "f1_1 = []\n",
    "preci_1 = []\n",
    "recall_1 = []"
   ]
  },
  {
   "cell_type": "code",
   "execution_count": null,
   "metadata": {},
   "outputs": [],
   "source": [
    "for i in range(len(sampling)):\n",
    "    model = RandomForestClassifier(random_state=0)\n",
    "    X_tra,y_tra = sampling[i].fit_sample(X_train,y_train)\n",
    "    X_tra = X_tra.reshape(-1,29)\n",
    "    y_tra = y_tra.reshape(-1,1)\n",
    "    y_pred = model.fit(X_tra,y_tra).predict(X_test)\n",
    "    y_proba = model.predict_proba(X_test)[:,1]\n",
    "    roc_auc_1.append(roc_auc_score(y_test,y_proba))\n",
    "    accuracy_1.append(accuracy_score(y_test,y_pred))\n",
    "    f1_1.append(f1_score(y_test,y_pred))\n",
    "    preci_1.append(precision_score(y_test,y_pred))\n",
    "    recall_1.append(recall_score(y_test,y_pred))"
   ]
  },
  {
   "cell_type": "code",
   "execution_count": null,
   "metadata": {},
   "outputs": [],
   "source": [
    "df_1 = pd.DataFrame({'modelname':['SMOTE','RUS','NM1','NM3','SMOT','BC','EE' ],\n",
    "                  'roc_auc':roc_auc_1,'accuracy':accuracy_1,'f1_score':f1_1,'precision':preci_1,\n",
    "                  'recall_score':recall_1})\n",
    "df_1"
   ]
  },
  {
   "cell_type": "markdown",
   "metadata": {},
   "source": [
    "# 결과 그리기"
   ]
  },
  {
   "cell_type": "code",
   "execution_count": null,
   "metadata": {},
   "outputs": [],
   "source": [
    "g = sns.barplot(\"roc_auc\",\"modelname\",data = df_1, palette=\"Set3\",orient = \"h\")\n",
    "g.set_xlabel(\"Roc_Auc_Score\")\n",
    "g = g.set_title(\"Roc_Auc_Score\")"
   ]
  },
  {
   "cell_type": "code",
   "execution_count": null,
   "metadata": {},
   "outputs": [],
   "source": [
    "g = sns.barplot(\"accuracy\",\"modelname\",data = df_1, palette=\"Set3\",orient = \"h\")\n",
    "g.set_xlabel(\"Accuracy_Score\")\n",
    "g = g.set_title(\"Accuracy_Score\")"
   ]
  },
  {
   "cell_type": "code",
   "execution_count": null,
   "metadata": {},
   "outputs": [],
   "source": [
    "g = sns.barplot(\"f1_score\",\"modelname\",data = df_1, palette=\"Set3\",orient = \"h\")\n",
    "g.set_xlabel(\"F1_Score\")\n",
    "g = g.set_title(\"F1_Score\")"
   ]
  },
  {
   "cell_type": "code",
   "execution_count": null,
   "metadata": {},
   "outputs": [],
   "source": [
    "g = sns.barplot(\"precision\",\"modelname\",data = df_1, palette=\"Set3\",orient = \"h\")\n",
    "g.set_xlabel(\"Precision_Score\")\n",
    "g = g.set_title(\"Precision_Score\")"
   ]
  },
  {
   "cell_type": "code",
   "execution_count": null,
   "metadata": {},
   "outputs": [],
   "source": [
    "g = sns.barplot(\"recall_score\",\"modelname\",data = df_1, palette=\"Set3\",orient = \"h\")\n",
    "g.set_xlabel(\"Recall_Score\")\n",
    "g = g.set_title(\"Recall_Score\")"
   ]
  },
  {
   "cell_type": "markdown",
   "metadata": {},
   "source": [
    "# 10% Imbalance 데이터 "
   ]
  },
  {
   "cell_type": "code",
   "execution_count": null,
   "metadata": {},
   "outputs": [],
   "source": [
    "target1 = data[data['target']==1]\n",
    "target0 = data[data['target']==0] # 비율 구하기 위해 사용 \n",
    "len(target0)"
   ]
  },
  {
   "cell_type": "code",
   "execution_count": null,
   "metadata": {},
   "outputs": [],
   "source": [
    "# target 값이 1일때 전체 데이터에 대한 비율에 맞춰 추출하기 \n",
    "# 용량을 너무 많이 차지해서 한개씩 실행해야 한다. \n",
    "np.random.seed(0) # 난수고정 \n",
    "#target0_001 = target1.iloc[np.random.randint(0,len(target1),size=round((1/999)*len(target0))),:]\n",
    "#target0_01 = target1.iloc[np.random.randint(0,len(target1),size=round((1/99)*len(target0))),:]\n",
    "target0_1 = target1.iloc[np.random.randint(0,len(target1),size=round((1/9)*len(target0))),:]"
   ]
  },
  {
   "cell_type": "code",
   "execution_count": null,
   "metadata": {},
   "outputs": [],
   "source": [
    "# 데이터 합치기 \n",
    "#data0_001 = pd.concat([target0,target0_001])\n",
    "#data0_01 = pd.concat([target0,target0_01])\n",
    "data0_10 = pd.concat([target0,target0_1])\n",
    "del target0, target0_1"
   ]
  },
  {
   "cell_type": "code",
   "execution_count": null,
   "metadata": {},
   "outputs": [],
   "source": [
    "X = data0_10.iloc[:,1:]\n",
    "y = data0_10.iloc[:,0]\n",
    "del data0_10"
   ]
  },
  {
   "cell_type": "code",
   "execution_count": null,
   "metadata": {},
   "outputs": [],
   "source": [
    "# train data, test data 분할하기. \n",
    "X_train , X_test ,y_train, y_test = train_test_split(X,y,test_size=0.3,random_state=0)\n",
    "roc_auc_10 = []\n",
    "accuracy_10 = []\n",
    "f1_10 = []\n",
    "preci_10 = []\n",
    "recall_10 = []"
   ]
  },
  {
   "cell_type": "code",
   "execution_count": null,
   "metadata": {},
   "outputs": [],
   "source": [
    "sampling = []\n",
    "# OverSampling Method\n",
    "sampling.append(SMOTE(random_state=0,k_neighbors=5))\n",
    "sampling.append(RandomUnderSampler(random_state=0))\n",
    "sampling.append(NearMiss(random_state=0,version=1))\n",
    "sampling.append(NearMiss(random_state=0,version=3))\n",
    "sampling.append(SMOTETomek(random_state=0))\n",
    "sampling.append(BalanceCascade(random_state=0))\n",
    "sampling.append(EasyEnsemble(random_state=0))"
   ]
  },
  {
   "cell_type": "code",
   "execution_count": null,
   "metadata": {},
   "outputs": [],
   "source": [
    "for i in range(len(sampling)):\n",
    "    model = RandomForestClassifier(random_state=0)\n",
    "    X_tra,y_tra = sampling[i].fit_sample(X_train,y_train)\n",
    "    X_tra = X_tra.reshape(-1,29)\n",
    "    y_tra = y_tra.reshape(-1,1)\n",
    "    y_pred = model.fit(X_tra,y_tra).predict(X_test)\n",
    "    y_proba = model.predict_proba(X_test)[:,1]\n",
    "    roc_auc_10.append(roc_auc_score(y_test,y_proba))\n",
    "    accuracy_10.append(accuracy_score(y_test,y_pred))\n",
    "    f1_10.append(f1_score(y_test,y_pred))\n",
    "    preci_10.append(precision_score(y_test,y_pred))\n",
    "    recall_10.append(recall_score(y_test,y_pred))"
   ]
  },
  {
   "cell_type": "code",
   "execution_count": null,
   "metadata": {},
   "outputs": [],
   "source": [
    "df_10 = pd.DataFrame({'modelname':['SMOTE','RUS','NM1','NM3','SMOT','BC','EE' ],\n",
    "                  'roc_auc':roc_auc_10,'accuracy':accuracy_10,'f1_score':f1_10,'precision':preci_10,\n",
    "                  'recall_score':recall_10})\n",
    "df_10"
   ]
  },
  {
   "cell_type": "markdown",
   "metadata": {},
   "source": [
    "# 결과 그리기"
   ]
  },
  {
   "cell_type": "code",
   "execution_count": null,
   "metadata": {},
   "outputs": [],
   "source": [
    "g = sns.barplot(\"roc_auc\",\"modelname\",data = df_10, palette=\"Set3\",orient = \"h\")\n",
    "g.set_xlabel(\"Roc_Auc_Score\")\n",
    "g = g.set_title(\"Roc_Auc_Score\")"
   ]
  },
  {
   "cell_type": "code",
   "execution_count": null,
   "metadata": {},
   "outputs": [],
   "source": [
    "g = sns.barplot(\"accuracy\",\"modelname\",data = df_10, palette=\"Set3\",orient = \"h\")\n",
    "g.set_xlabel(\"Accuracy_Score\")\n",
    "g = g.set_title(\"Accuracy_Score\")"
   ]
  },
  {
   "cell_type": "code",
   "execution_count": null,
   "metadata": {},
   "outputs": [],
   "source": [
    "g = sns.barplot(\"f1_score\",\"modelname\",data = df_10, palette=\"Set3\",orient = \"h\")\n",
    "g.set_xlabel(\"F1_Score\")\n",
    "g = g.set_title(\"F1_Score\")"
   ]
  },
  {
   "cell_type": "code",
   "execution_count": null,
   "metadata": {},
   "outputs": [],
   "source": [
    "g = sns.barplot(\"precision\",\"modelname\",data = df_10, palette=\"Set3\",orient = \"h\")\n",
    "g.set_xlabel(\"Precision_Score\")\n",
    "g = g.set_title(\"Precision_Score\")"
   ]
  },
  {
   "cell_type": "code",
   "execution_count": null,
   "metadata": {},
   "outputs": [],
   "source": [
    "g = sns.barplot(\"recall_score\",\"modelname\",data = df_10, palette=\"Set3\",orient = \"h\")\n",
    "g.set_xlabel(\"Recall_Score\")\n",
    "g = g.set_title(\"Recall_Score\")"
   ]
  },
  {
   "cell_type": "markdown",
   "metadata": {},
   "source": [
    "### 가장 성능이 잘나온 imblanced 데이터의 비율과 모델을 가지고 ratio를 변경하면서 시행"
   ]
  },
  {
   "cell_type": "code",
   "execution_count": null,
   "metadata": {
    "scrolled": true
   },
   "outputs": [],
   "source": [
    "sampling = []\n",
    "# OverSampling Method\n",
    "sampling.append(SMOTE(random_state=0,k_neighbors=5))\n",
    "sampling.append(RandomUnderSampler(random_state=0))\n",
    "sampling.append(NearMiss(random_state=0,version=1))\n",
    "sampling.append(NearMiss(random_state=0,version=3))\n",
    "sampling.append(SMOTETomek(random_state=0))\n",
    "sampling.append(BalanceCascade(random_state=0))\n",
    "sampling.append(EasyEnsemble(random_state=0))"
   ]
  },
  {
   "cell_type": "markdown",
   "metadata": {},
   "source": [
    "# 20% Imbalance 데이터 "
   ]
  },
  {
   "cell_type": "code",
   "execution_count": null,
   "metadata": {},
   "outputs": [],
   "source": [
    "target1 = data[data['target']==1]\n",
    "target0 = data[data['target']==0] # 비율 구하기 위해 사용 \n",
    "len(target0)"
   ]
  },
  {
   "cell_type": "code",
   "execution_count": null,
   "metadata": {},
   "outputs": [],
   "source": [
    "# target 값이 1일때 전체 데이터에 대한 비율에 맞춰 추출하기 \n",
    "# 용량을 너무 많이 차지해서 한개씩 실행해야 한다. \n",
    "np.random.seed(0) # 난수고정 \n",
    "#target0_001 = target1.iloc[np.random.randint(0,len(target1),size=round((1/999)*len(target0))),:]\n",
    "#target0_01 = target1.iloc[np.random.randint(0,len(target1),size=round((1/99)*len(target0))),:]\n",
    "target0_1 = target1.iloc[np.random.randint(0,len(target1),size=round((1/4)*len(target0))),:]"
   ]
  },
  {
   "cell_type": "code",
   "execution_count": null,
   "metadata": {},
   "outputs": [],
   "source": [
    "# 데이터 합치기 \n",
    "#data0_001 = pd.concat([target0,target0_001])\n",
    "#data0_01 = pd.concat([target0,target0_01])\n",
    "data0_10 = pd.concat([target0,target0_1])\n",
    "del target0, target0_1"
   ]
  },
  {
   "cell_type": "code",
   "execution_count": null,
   "metadata": {},
   "outputs": [],
   "source": [
    "X = data0_10.iloc[:,1:]\n",
    "y = data0_10.iloc[:,0]\n",
    "del data0_10"
   ]
  },
  {
   "cell_type": "code",
   "execution_count": null,
   "metadata": {},
   "outputs": [],
   "source": [
    "# train data, test data 분할하기. \n",
    "X_train , X_test ,y_train, y_test = train_test_split(X,y,test_size=0.3,random_state=0)\n",
    "roc_auc_20 = []\n",
    "accuracy_20 = []\n",
    "f1_20 = []\n",
    "preci_20 = []\n",
    "recall_20 = []"
   ]
  },
  {
   "cell_type": "code",
   "execution_count": null,
   "metadata": {},
   "outputs": [],
   "source": [
    "for i in range(len(sampling)):\n",
    "    model = RandomForestClassifier(random_state=0)\n",
    "    X_tra,y_tra = sampling[i].fit_sample(X_train,y_train)\n",
    "    X_tra = X_tra.reshape(-1,29)\n",
    "    y_tra = y_tra.reshape(-1,1)\n",
    "    y_pred = model.fit(X_tra,y_tra).predict(X_test)\n",
    "    y_proba = model.predict_proba(X_test)[:,1]\n",
    "    roc_auc_20.append(roc_auc_score(y_test,y_proba))\n",
    "    accuracy_20.append(accuracy_score(y_test,y_pred))\n",
    "    f1_20.append(f1_score(y_test,y_pred))\n",
    "    preci_20.append(precision_score(y_test,y_pred))\n",
    "    recall_20.append(recall_score(y_test,y_pred))"
   ]
  },
  {
   "cell_type": "code",
   "execution_count": null,
   "metadata": {},
   "outputs": [],
   "source": [
    "df_20 = pd.DataFrame({'modelname':['SMOTE','RUS','NM1','NM3','SMOT','BC','EE' ],\n",
    "                  'roc_auc':roc_auc_20,'accuracy':accuracy_20,'f1_score':f1_20,'precision':preci_20,\n",
    "                  'recall_score':recall_20})\n",
    "df_20"
   ]
  },
  {
   "cell_type": "code",
   "execution_count": null,
   "metadata": {},
   "outputs": [],
   "source": [
    "g = sns.barplot(\"roc_auc\",\"modelname\",data = df_20, palette=\"Set3\",orient = \"h\")\n",
    "g.set_xlabel(\"Roc_Auc_Score\")\n",
    "g = g.set_title(\"Roc_Auc_Score\")"
   ]
  },
  {
   "cell_type": "code",
   "execution_count": null,
   "metadata": {},
   "outputs": [],
   "source": [
    "g = sns.barplot(\"accuracy\",\"modelname\",data = df_20, palette=\"Set3\",orient = \"h\")\n",
    "g.set_xlabel(\"Accuracy_Score\")\n",
    "g = g.set_title(\"Accuracy_Score\")"
   ]
  },
  {
   "cell_type": "code",
   "execution_count": null,
   "metadata": {},
   "outputs": [],
   "source": [
    "g = sns.barplot(\"f1_score\",\"modelname\",data = df_20, palette=\"Set3\",orient = \"h\")\n",
    "g.set_xlabel(\"F1_Score\")\n",
    "g = g.set_title(\"F1_Score\")"
   ]
  },
  {
   "cell_type": "code",
   "execution_count": null,
   "metadata": {},
   "outputs": [],
   "source": [
    "g = sns.barplot(\"precision\",\"modelname\",data = df_20, palette=\"Set3\",orient = \"h\")\n",
    "g.set_xlabel(\"Precision_Score\")\n",
    "g = g.set_title(\"Precision_Score\")"
   ]
  },
  {
   "cell_type": "code",
   "execution_count": null,
   "metadata": {},
   "outputs": [],
   "source": [
    "g = sns.barplot(\"recall_score\",\"modelname\",data = df_20, palette=\"Set3\",orient = \"h\")\n",
    "g.set_xlabel(\"Recall_Score\")\n",
    "g = g.set_title(\"Recall_Score\")"
   ]
  },
  {
   "cell_type": "markdown",
   "metadata": {},
   "source": [
    "# 25% Imbalance 데이터 "
   ]
  },
  {
   "cell_type": "code",
   "execution_count": null,
   "metadata": {},
   "outputs": [],
   "source": [
    "sampling = []\n",
    "# OverSampling Method\n",
    "sampling.append(SMOTE(random_state=0,k_neighbors=5))\n",
    "sampling.append(RandomUnderSampler(random_state=0))\n",
    "sampling.append(NearMiss(random_state=0,version=1))\n",
    "sampling.append(NearMiss(random_state=0,version=3))\n",
    "sampling.append(SMOTETomek(random_state=0))\n",
    "sampling.append(BalanceCascade(random_state=0))\n",
    "sampling.append(EasyEnsemble(random_state=0))"
   ]
  },
  {
   "cell_type": "code",
   "execution_count": null,
   "metadata": {},
   "outputs": [],
   "source": [
    "target1 = data[data['target']==1]\n",
    "target0 = data[data['target']==0] # 비율 구하기 위해 사용 \n",
    "len(target0)"
   ]
  },
  {
   "cell_type": "code",
   "execution_count": null,
   "metadata": {},
   "outputs": [],
   "source": [
    "# target 값이 1일때 전체 데이터에 대한 비율에 맞춰 추출하기 \n",
    "# 용량을 너무 많이 차지해서 한개씩 실행해야 한다. \n",
    "np.random.seed(0) # 난수고정 \n",
    "#target0_001 = target1.iloc[np.random.randint(0,len(target1),size=round((1/999)*len(target0))),:]\n",
    "#target0_01 = target1.iloc[np.random.randint(0,len(target1),size=round((1/99)*len(target0))),:]\n",
    "target0_1 = target1.iloc[np.random.randint(0,len(target1),size=round((1/3)*len(target0))),:]"
   ]
  },
  {
   "cell_type": "code",
   "execution_count": null,
   "metadata": {},
   "outputs": [],
   "source": [
    "# 데이터 합치기 \n",
    "#data0_001 = pd.concat([target0,target0_001])\n",
    "#data0_01 = pd.concat([target0,target0_01])\n",
    "data0_10 = pd.concat([target0,target0_1])\n",
    "del target0, target0_1"
   ]
  },
  {
   "cell_type": "code",
   "execution_count": null,
   "metadata": {},
   "outputs": [],
   "source": [
    "X = data0_10.iloc[:,1:]\n",
    "y = data0_10.iloc[:,0]\n",
    "del data0_10"
   ]
  },
  {
   "cell_type": "code",
   "execution_count": null,
   "metadata": {},
   "outputs": [],
   "source": [
    "# train data, test data 분할하기. \n",
    "X_train , X_test ,y_train, y_test = train_test_split(X,y,test_size=0.3,random_state=0)\n",
    "roc_auc_30 = []\n",
    "accuracy_30 = []\n",
    "f1_30 = []\n",
    "preci_30 = []\n",
    "recall_30 = []"
   ]
  },
  {
   "cell_type": "code",
   "execution_count": null,
   "metadata": {},
   "outputs": [],
   "source": [
    "for i in range(len(sampling)):\n",
    "    model = RandomForestClassifier(random_state=0)\n",
    "    X_tra,y_tra = sampling[i].fit_sample(X_train,y_train)\n",
    "    X_tra = X_tra.reshape(-1,29)\n",
    "    y_tra = y_tra.reshape(-1,1)\n",
    "    y_pred = model.fit(X_tra,y_tra).predict(X_test)\n",
    "    y_proba = model.predict_proba(X_test)[:,1]\n",
    "    roc_auc_30.append(roc_auc_score(y_test,y_proba))\n",
    "    accuracy_30.append(accuracy_score(y_test,y_pred))\n",
    "    f1_30.append(f1_score(y_test,y_pred))\n",
    "    preci_30.append(precision_score(y_test,y_pred))\n",
    "    recall_30.append(recall_score(y_test,y_pred))"
   ]
  },
  {
   "cell_type": "code",
   "execution_count": null,
   "metadata": {},
   "outputs": [],
   "source": [
    "df_30 = pd.DataFrame({'modelname':['SMOTE','RUS','NM1','NM3','SMOT','BC','EE' ],\n",
    "                  'roc_auc':roc_auc_30,'accuracy':accuracy_30,'f1_score':f1_30,'precision':preci_30,\n",
    "                  'recall_score':recall_30})\n",
    "df_30"
   ]
  },
  {
   "cell_type": "code",
   "execution_count": null,
   "metadata": {},
   "outputs": [],
   "source": [
    "g = sns.barplot(\"roc_auc\",\"modelname\",data = df_30, palette=\"Set3\",orient = \"h\")\n",
    "g.set_xlabel(\"Roc_Auc_Score\")\n",
    "g = g.set_title(\"Roc_Auc_Score\")"
   ]
  },
  {
   "cell_type": "code",
   "execution_count": null,
   "metadata": {},
   "outputs": [],
   "source": [
    "g = sns.barplot(\"accuracy\",\"modelname\",data = df_30, palette=\"Set3\",orient = \"h\")\n",
    "g.set_xlabel(\"Accuracy_Score\")\n",
    "g = g.set_title(\"Accuracy_Score\")"
   ]
  },
  {
   "cell_type": "code",
   "execution_count": null,
   "metadata": {},
   "outputs": [],
   "source": [
    "g = sns.barplot(\"f1_score\",\"modelname\",data = df_30, palette=\"Set3\",orient = \"h\")\n",
    "g.set_xlabel(\"F1_Score\")\n",
    "g = g.set_title(\"F1_Score\")"
   ]
  },
  {
   "cell_type": "code",
   "execution_count": null,
   "metadata": {},
   "outputs": [],
   "source": [
    "g = sns.barplot(\"precision\",\"modelname\",data = df_30, palette=\"Set3\",orient = \"h\")\n",
    "g.set_xlabel(\"Precision_Score\")\n",
    "g = g.set_title(\"Precision_Score\")"
   ]
  },
  {
   "cell_type": "code",
   "execution_count": null,
   "metadata": {},
   "outputs": [],
   "source": [
    "g = sns.barplot(\"recall_score\",\"modelname\",data = df_30, palette=\"Set3\",orient = \"h\")\n",
    "g.set_xlabel(\"Recall_Score\")\n",
    "g = g.set_title(\"Recall_Score\")"
   ]
  },
  {
   "cell_type": "code",
   "execution_count": null,
   "metadata": {},
   "outputs": [],
   "source": []
  }
 ],
 "metadata": {
  "kernelspec": {
   "display_name": "Python 3",
   "language": "python",
   "name": "python3"
  },
  "language_info": {
   "codemirror_mode": {
    "name": "ipython",
    "version": 3
   },
   "file_extension": ".py",
   "mimetype": "text/x-python",
   "name": "python",
   "nbconvert_exporter": "python",
   "pygments_lexer": "ipython3",
   "version": "3.7.4"
  }
 },
 "nbformat": 4,
 "nbformat_minor": 2
}
