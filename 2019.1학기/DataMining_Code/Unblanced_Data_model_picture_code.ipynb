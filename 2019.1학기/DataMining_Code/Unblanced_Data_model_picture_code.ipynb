{
 "cells": [
  {
   "cell_type": "markdown",
   "metadata": {},
   "source": [
    "# 결과 그림 모음 파일"
   ]
  },
  {
   "cell_type": "code",
   "execution_count": 1,
   "metadata": {},
   "outputs": [],
   "source": [
    "import pandas as pd\n",
    "from pandas import Series, DataFrame\n",
    "import numpy as np\n",
    "import re\n",
    "import matplotlib.pyplot as plt\n",
    "from IPython.display import display\n",
    "from matplotlib import rc # 한글 그래픽 처리\n",
    "import seaborn as sns # r에서 ggplot이라 생각하면됨. 쓸때 한글처리 주의.\n",
    "%matplotlib inline \n",
    "plt.rc('font', family='Malgun Gothic') # 한글의 폰트를 맑은고딕 사용\n",
    "plt.rc('axes', unicode_minus=False)\n",
    "import warnings\n",
    "warnings.filterwarnings(\"ignore\")"
   ]
  },
  {
   "cell_type": "code",
   "execution_count": 11,
   "metadata": {
    "scrolled": true
   },
   "outputs": [
    {
     "data": {
      "text/html": [
       "<div>\n",
       "<style scoped>\n",
       "    .dataframe tbody tr th:only-of-type {\n",
       "        vertical-align: middle;\n",
       "    }\n",
       "\n",
       "    .dataframe tbody tr th {\n",
       "        vertical-align: top;\n",
       "    }\n",
       "\n",
       "    .dataframe thead th {\n",
       "        text-align: right;\n",
       "    }\n",
       "</style>\n",
       "<table border=\"1\" class=\"dataframe\">\n",
       "  <thead>\n",
       "    <tr style=\"text-align: right;\">\n",
       "      <th></th>\n",
       "      <th>target</th>\n",
       "      <th>user_idx</th>\n",
       "      <th>song_idx</th>\n",
       "      <th>ssn_idx</th>\n",
       "      <th>sst_idx</th>\n",
       "      <th>st_idx</th>\n",
       "      <th>song_length</th>\n",
       "      <th>genr_idx</th>\n",
       "      <th>art_idx</th>\n",
       "      <th>com_idx</th>\n",
       "      <th>...</th>\n",
       "      <th>lyricists_count</th>\n",
       "      <th>composer_count</th>\n",
       "      <th>is_featured</th>\n",
       "      <th>artist_count</th>\n",
       "      <th>artist_composer</th>\n",
       "      <th>artist_composer_lyricist</th>\n",
       "      <th>song_lang_boolean</th>\n",
       "      <th>smaller_song</th>\n",
       "      <th>count_song_played</th>\n",
       "      <th>count_artist_played</th>\n",
       "    </tr>\n",
       "  </thead>\n",
       "  <tbody>\n",
       "    <tr>\n",
       "      <th>0</th>\n",
       "      <td>1</td>\n",
       "      <td>0</td>\n",
       "      <td>0</td>\n",
       "      <td>0</td>\n",
       "      <td>0</td>\n",
       "      <td>0</td>\n",
       "      <td>206471</td>\n",
       "      <td>7</td>\n",
       "      <td>1877</td>\n",
       "      <td>7450</td>\n",
       "      <td>...</td>\n",
       "      <td>0</td>\n",
       "      <td>2</td>\n",
       "      <td>0</td>\n",
       "      <td>0</td>\n",
       "      <td>0</td>\n",
       "      <td>0</td>\n",
       "      <td>0</td>\n",
       "      <td>1</td>\n",
       "      <td>215</td>\n",
       "      <td>1140</td>\n",
       "    </tr>\n",
       "    <tr>\n",
       "      <th>1</th>\n",
       "      <td>1</td>\n",
       "      <td>1</td>\n",
       "      <td>1</td>\n",
       "      <td>1</td>\n",
       "      <td>1</td>\n",
       "      <td>1</td>\n",
       "      <td>284584</td>\n",
       "      <td>18</td>\n",
       "      <td>92</td>\n",
       "      <td>2</td>\n",
       "      <td>...</td>\n",
       "      <td>0</td>\n",
       "      <td>1</td>\n",
       "      <td>0</td>\n",
       "      <td>0</td>\n",
       "      <td>0</td>\n",
       "      <td>0</td>\n",
       "      <td>0</td>\n",
       "      <td>0</td>\n",
       "      <td>1</td>\n",
       "      <td>303616</td>\n",
       "    </tr>\n",
       "    <tr>\n",
       "      <th>2</th>\n",
       "      <td>1</td>\n",
       "      <td>1</td>\n",
       "      <td>2</td>\n",
       "      <td>1</td>\n",
       "      <td>1</td>\n",
       "      <td>1</td>\n",
       "      <td>225396</td>\n",
       "      <td>18</td>\n",
       "      <td>527</td>\n",
       "      <td>100234</td>\n",
       "      <td>...</td>\n",
       "      <td>0</td>\n",
       "      <td>1</td>\n",
       "      <td>0</td>\n",
       "      <td>0</td>\n",
       "      <td>0</td>\n",
       "      <td>0</td>\n",
       "      <td>0</td>\n",
       "      <td>1</td>\n",
       "      <td>4</td>\n",
       "      <td>289</td>\n",
       "    </tr>\n",
       "    <tr>\n",
       "      <th>3</th>\n",
       "      <td>1</td>\n",
       "      <td>1</td>\n",
       "      <td>3</td>\n",
       "      <td>1</td>\n",
       "      <td>1</td>\n",
       "      <td>1</td>\n",
       "      <td>255512</td>\n",
       "      <td>229</td>\n",
       "      <td>89592</td>\n",
       "      <td>193180</td>\n",
       "      <td>...</td>\n",
       "      <td>0</td>\n",
       "      <td>1</td>\n",
       "      <td>0</td>\n",
       "      <td>0</td>\n",
       "      <td>0</td>\n",
       "      <td>0</td>\n",
       "      <td>0</td>\n",
       "      <td>0</td>\n",
       "      <td>1</td>\n",
       "      <td>1</td>\n",
       "    </tr>\n",
       "    <tr>\n",
       "      <th>4</th>\n",
       "      <td>1</td>\n",
       "      <td>0</td>\n",
       "      <td>4</td>\n",
       "      <td>0</td>\n",
       "      <td>0</td>\n",
       "      <td>0</td>\n",
       "      <td>187802</td>\n",
       "      <td>13</td>\n",
       "      <td>195</td>\n",
       "      <td>137</td>\n",
       "      <td>...</td>\n",
       "      <td>0</td>\n",
       "      <td>3</td>\n",
       "      <td>0</td>\n",
       "      <td>0</td>\n",
       "      <td>0</td>\n",
       "      <td>0</td>\n",
       "      <td>0</td>\n",
       "      <td>1</td>\n",
       "      <td>412</td>\n",
       "      <td>427</td>\n",
       "    </tr>\n",
       "  </tbody>\n",
       "</table>\n",
       "<p>5 rows × 30 columns</p>\n",
       "</div>"
      ],
      "text/plain": [
       "   target  user_idx  song_idx  ssn_idx  sst_idx  st_idx  song_length  \\\n",
       "0       1         0         0        0        0       0       206471   \n",
       "1       1         1         1        1        1       1       284584   \n",
       "2       1         1         2        1        1       1       225396   \n",
       "3       1         1         3        1        1       1       255512   \n",
       "4       1         0         4        0        0       0       187802   \n",
       "\n",
       "   genr_idx  art_idx  com_idx         ...           lyricists_count  \\\n",
       "0         7     1877     7450         ...                         0   \n",
       "1        18       92        2         ...                         0   \n",
       "2        18      527   100234         ...                         0   \n",
       "3       229    89592   193180         ...                         0   \n",
       "4        13      195      137         ...                         0   \n",
       "\n",
       "   composer_count  is_featured  artist_count  artist_composer  \\\n",
       "0               2            0             0                0   \n",
       "1               1            0             0                0   \n",
       "2               1            0             0                0   \n",
       "3               1            0             0                0   \n",
       "4               3            0             0                0   \n",
       "\n",
       "   artist_composer_lyricist  song_lang_boolean  smaller_song  \\\n",
       "0                         0                  0             1   \n",
       "1                         0                  0             0   \n",
       "2                         0                  0             1   \n",
       "3                         0                  0             0   \n",
       "4                         0                  0             1   \n",
       "\n",
       "   count_song_played  count_artist_played  \n",
       "0                215                 1140  \n",
       "1                  1               303616  \n",
       "2                  4                  289  \n",
       "3                  1                    1  \n",
       "4                412                  427  \n",
       "\n",
       "[5 rows x 30 columns]"
      ]
     },
     "execution_count": 11,
     "metadata": {},
     "output_type": "execute_result"
    }
   ],
   "source": [
    "data = pd.read_csv('WSDM_train_full_features.csv',engine='python')\n",
    "data.head()"
   ]
  },
  {
   "cell_type": "code",
   "execution_count": 3,
   "metadata": {
    "scrolled": true
   },
   "outputs": [
    {
     "data": {
      "text/plain": [
       "1    3714656\n",
       "0    3662762\n",
       "Name: target, dtype: int64"
      ]
     },
     "execution_count": 3,
     "metadata": {},
     "output_type": "execute_result"
    }
   ],
   "source": [
    "data['target'].value_counts()"
   ]
  },
  {
   "cell_type": "code",
   "execution_count": 4,
   "metadata": {},
   "outputs": [],
   "source": [
    "from sklearn.model_selection import train_test_split\n",
    "data,data_drop = train_test_split(data,test_size=0.15,random_state=0)\n",
    "del data_drop # 삭제해서 용량 살리기 위해."
   ]
  },
  {
   "cell_type": "code",
   "execution_count": 5,
   "metadata": {},
   "outputs": [
    {
     "data": {
      "text/plain": [
       "1    1858531\n",
       "0    1830178\n",
       "Name: target, dtype: int64"
      ]
     },
     "execution_count": 5,
     "metadata": {},
     "output_type": "execute_result"
    }
   ],
   "source": [
    "data['target'].value_counts()"
   ]
  },
  {
   "cell_type": "code",
   "execution_count": 6,
   "metadata": {},
   "outputs": [
    {
     "data": {
      "text/plain": [
       "1830178"
      ]
     },
     "execution_count": 6,
     "metadata": {},
     "output_type": "execute_result"
    }
   ],
   "source": [
    "target1 = data[data['target']==1]\n",
    "target0 = data[data['target']==0] # 비율 구하기 위해 사용 \n",
    "len(target0)"
   ]
  },
  {
   "cell_type": "code",
   "execution_count": 7,
   "metadata": {},
   "outputs": [],
   "source": [
    "# target 값이 1일때 전체 데이터에 대한 비율에 맞춰 추출하기 \n",
    "# 용량을 너무 많이 차지해서 한개씩 실행해야 한다. \n",
    "np.random.seed(0) # 난수고정 \n",
    "target0_001 = target1.iloc[np.random.randint(0,len(target1),size=round((1/999)*len(target0))),:]\n",
    "#target0_01 = target1.iloc[np.random.randint(0,len(target1),size=round((1/99)*len(target0))),:]\n",
    "#target0_1 = target1.iloc[np.random.randint(0,len(target1),size=round((1/9)*len(target0)),:]"
   ]
  },
  {
   "cell_type": "code",
   "execution_count": 8,
   "metadata": {},
   "outputs": [],
   "source": [
    "# 데이터 합치기 \n",
    "data0_001 = pd.concat([target0,target0_001])\n",
    "#data0_01 = pd.concat([target0,target0_01])\n",
    "#data_0_1 = pd.concat([target1,target0_1])"
   ]
  },
  {
   "cell_type": "code",
   "execution_count": 9,
   "metadata": {},
   "outputs": [],
   "source": [
    "X = data0_001.iloc[:,1:]\n",
    "y = data0_001.iloc[:,0]"
   ]
  },
  {
   "cell_type": "code",
   "execution_count": 10,
   "metadata": {},
   "outputs": [],
   "source": [
    "# train data, test data 분할하기. \n",
    "X_train , X_test ,y_train, y_test = train_test_split(X,y,test_size=0.3,random_state=0)"
   ]
  },
  {
   "cell_type": "code",
   "execution_count": null,
   "metadata": {},
   "outputs": [],
   "source": [
    "from imblearn.over_sampling import *\n",
    "from imblearn.under_sampling import *\n",
    "from imblearn.ensemble import *\n",
    "from imblearn.combine import *"
   ]
  },
  {
   "cell_type": "code",
   "execution_count": null,
   "metadata": {},
   "outputs": [],
   "source": [
    "# Over sampling model  \n",
    "# ratio\n",
    "sampling = []\n",
    "sampling.append(RandomOverSampler(random_state=0))\n",
    "sampling.append(SMOTE(random_state=0,k_neighbors=5,kind='borderline1'))\n",
    "sampling.append(SMOTE(random_state=0,k_neighbors=5,kind='borderline2'))\n",
    "sampling.append(ADASYN(random_state=0))"
   ]
  },
  {
   "cell_type": "code",
   "execution_count": null,
   "metadata": {},
   "outputs": [],
   "source": [
    "from sklearn.ensemble import RandomForestClassifier\n",
    "from sklearn.model_selection import cross_val_score\n",
    "from sklearn.metrics import roc_auc_score, f1_score, precision_score, recall_score,accuracy_score"
   ]
  },
  {
   "cell_type": "code",
   "execution_count": null,
   "metadata": {},
   "outputs": [],
   "source": [
    "acu_mean = []\n",
    "acu_sd = []\n",
    "roc_mean = []\n",
    "roc_sd = []\n",
    "f1_mean = []\n",
    "f1_sd = []\n",
    "recall_mean = []\n",
    "recall_sd = []\n",
    "preci_mean = []\n",
    "preci_sd = []\n",
    "predict  = []\n",
    "proba = []\n",
    "for i in range(len(sampling)):\n",
    "    model = RandomForestClassifier(random_state=0)\n",
    "    if i <18:\n",
    "        X_trains, y_trains = sampling[i].fit_sample(X_train, y_train)\n",
    "    else :\n",
    "        X_trains, y_trains = sampling[i].fit_sample(X_train, y_train)\n",
    "        X_trains = X_trains[0]\n",
    "        y_trains = y_trains[0]\n",
    "    scores_accu = cross_val_score(model, X_trains, y_trains, cv = 5,scoring='accuracy',n_jobs = -1)\n",
    "    scores_roc_auc = cross_val_score(model, X_trains, y_trains, cv = 5,scoring='roc_auc',n_jobs = -1)\n",
    "    scores_f1 = cross_val_score(model, X_trains, y_trains, cv = 5,scoring='f1',n_jobs = -1)\n",
    "    scores_recall = cross_val_score(model, X_trains, y_trains, cv = 5,scoring='recall',n_jobs = -1)\n",
    "    scores_precision = cross_val_score(model, X_trains, y_trains, cv = 5,scoring='precision',n_jobs = -1)\n",
    "    acu_mean.append(scores_accu.mean())\n",
    "    acu_sd.append(scores_accu.std())\n",
    "    roc_mean.append(scores_roc_auc.mean())\n",
    "    roc_sd.append(scores_roc_auc.std())\n",
    "    f1_mean.append(scores_f1.mean())\n",
    "    f1_sd.append(scores_f1.std())\n",
    "    recall_mean.append(scores_recall.mean())\n",
    "    recall_sd.append(scores_recall.std())\n",
    "    preci_mean.append(scores_precision.mean())\n",
    "    preci_mean.append(scores_precision.std())\n",
    "    model.fit(X_trains,y_trains)\n",
    "    predict.append(model.predict(X_test))\n",
    "    proba.append(model.predict_proba(X_test))\n",
    "# pricision이 제대로 안나와서 전처리 따로 \n",
    "pri_sd = []\n",
    "pri = []\n",
    "for i in range(5):\n",
    "    pri_sd.append(preci_mean[1+2*i])\n",
    "    pri.append(preci_mean[2*i])\n",
    "predict_acc = []\n",
    "predict_f1 = []\n",
    "predict_recall = []\n",
    "predict_roc = []\n",
    "predict_pri = []\n",
    "for i in range(len(predict)):\n",
    "    predict_acc.append(accuracy_score(y_test,predict[i]))\n",
    "    predict_roc.append(roc_auc_score(y_test,proba[i]))\n",
    "    predict_f1.append(f1_score(y_test,predict[i]))\n",
    "    predict_recall.append(recall_score(y_test,predict[i]))\n",
    "    predict_pri.append(precision_score(y_test,predict[i]))    "
   ]
  },
  {
   "cell_type": "code",
   "execution_count": 57,
   "metadata": {},
   "outputs": [
    {
     "data": {
      "text/html": [
       "<div>\n",
       "<style scoped>\n",
       "    .dataframe tbody tr th:only-of-type {\n",
       "        vertical-align: middle;\n",
       "    }\n",
       "\n",
       "    .dataframe tbody tr th {\n",
       "        vertical-align: top;\n",
       "    }\n",
       "\n",
       "    .dataframe thead th {\n",
       "        text-align: right;\n",
       "    }\n",
       "</style>\n",
       "<table border=\"1\" class=\"dataframe\">\n",
       "  <thead>\n",
       "    <tr style=\"text-align: right;\">\n",
       "      <th></th>\n",
       "      <th>Scoring</th>\n",
       "      <th>AMean</th>\n",
       "      <th>AStd</th>\n",
       "      <th>roc_auc_mean</th>\n",
       "      <th>roc_auc_std</th>\n",
       "      <th>f1_mean</th>\n",
       "      <th>f1_sd</th>\n",
       "      <th>recall_mean</th>\n",
       "      <th>recall_sd</th>\n",
       "      <th>preci_mean</th>\n",
       "      <th>preci_sd</th>\n",
       "      <th>test_accu</th>\n",
       "      <th>test_f1</th>\n",
       "      <th>test_recall</th>\n",
       "      <th>test_pre</th>\n",
       "    </tr>\n",
       "  </thead>\n",
       "  <tbody>\n",
       "    <tr>\n",
       "      <th>0</th>\n",
       "      <td>RandomOversampler</td>\n",
       "      <td>0.999979</td>\n",
       "      <td>0.000004</td>\n",
       "      <td>0.999999</td>\n",
       "      <td>9.559936e-07</td>\n",
       "      <td>0.999979</td>\n",
       "      <td>0.000004</td>\n",
       "      <td>1.000000</td>\n",
       "      <td>0.000000</td>\n",
       "      <td>0.999959</td>\n",
       "      <td>0.000008</td>\n",
       "      <td>0.998970</td>\n",
       "      <td>0.000000</td>\n",
       "      <td>0.000000</td>\n",
       "      <td>0.000000</td>\n",
       "    </tr>\n",
       "    <tr>\n",
       "      <th>1</th>\n",
       "      <td>SMOTE1</td>\n",
       "      <td>0.999383</td>\n",
       "      <td>0.000766</td>\n",
       "      <td>0.999887</td>\n",
       "      <td>2.058870e-04</td>\n",
       "      <td>0.999382</td>\n",
       "      <td>0.000767</td>\n",
       "      <td>0.999096</td>\n",
       "      <td>0.001543</td>\n",
       "      <td>0.999669</td>\n",
       "      <td>0.000014</td>\n",
       "      <td>0.998770</td>\n",
       "      <td>0.005882</td>\n",
       "      <td>0.003656</td>\n",
       "      <td>0.015038</td>\n",
       "    </tr>\n",
       "    <tr>\n",
       "      <th>2</th>\n",
       "      <td>SMOTE2</td>\n",
       "      <td>0.999383</td>\n",
       "      <td>0.000766</td>\n",
       "      <td>0.999887</td>\n",
       "      <td>2.058870e-04</td>\n",
       "      <td>0.999382</td>\n",
       "      <td>0.000767</td>\n",
       "      <td>0.999096</td>\n",
       "      <td>0.001543</td>\n",
       "      <td>0.999669</td>\n",
       "      <td>0.000014</td>\n",
       "      <td>0.998770</td>\n",
       "      <td>0.005882</td>\n",
       "      <td>0.003656</td>\n",
       "      <td>0.015038</td>\n",
       "    </tr>\n",
       "    <tr>\n",
       "      <th>3</th>\n",
       "      <td>ADASYM</td>\n",
       "      <td>0.907288</td>\n",
       "      <td>0.006977</td>\n",
       "      <td>0.989356</td>\n",
       "      <td>2.039679e-03</td>\n",
       "      <td>0.897758</td>\n",
       "      <td>0.008526</td>\n",
       "      <td>0.814809</td>\n",
       "      <td>0.013947</td>\n",
       "      <td>0.999671</td>\n",
       "      <td>0.000025</td>\n",
       "      <td>0.998816</td>\n",
       "      <td>0.000000</td>\n",
       "      <td>0.000000</td>\n",
       "      <td>0.000000</td>\n",
       "    </tr>\n",
       "    <tr>\n",
       "      <th>4</th>\n",
       "      <td>RandomUnderSampler</td>\n",
       "      <td>0.589105</td>\n",
       "      <td>0.019118</td>\n",
       "      <td>0.626892</td>\n",
       "      <td>2.650636e-02</td>\n",
       "      <td>0.551816</td>\n",
       "      <td>0.019317</td>\n",
       "      <td>0.505837</td>\n",
       "      <td>0.017916</td>\n",
       "      <td>0.607215</td>\n",
       "      <td>0.023892</td>\n",
       "      <td>0.662249</td>\n",
       "      <td>0.003200</td>\n",
       "      <td>0.544790</td>\n",
       "      <td>0.001605</td>\n",
       "    </tr>\n",
       "  </tbody>\n",
       "</table>\n",
       "</div>"
      ],
      "text/plain": [
       "              Scoring     AMean      AStd  roc_auc_mean   roc_auc_std  \\\n",
       "0   RandomOversampler  0.999979  0.000004      0.999999  9.559936e-07   \n",
       "1              SMOTE1  0.999383  0.000766      0.999887  2.058870e-04   \n",
       "2              SMOTE2  0.999383  0.000766      0.999887  2.058870e-04   \n",
       "3              ADASYM  0.907288  0.006977      0.989356  2.039679e-03   \n",
       "4  RandomUnderSampler  0.589105  0.019118      0.626892  2.650636e-02   \n",
       "\n",
       "    f1_mean     f1_sd  recall_mean  recall_sd  preci_mean  preci_sd  \\\n",
       "0  0.999979  0.000004     1.000000   0.000000    0.999959  0.000008   \n",
       "1  0.999382  0.000767     0.999096   0.001543    0.999669  0.000014   \n",
       "2  0.999382  0.000767     0.999096   0.001543    0.999669  0.000014   \n",
       "3  0.897758  0.008526     0.814809   0.013947    0.999671  0.000025   \n",
       "4  0.551816  0.019317     0.505837   0.017916    0.607215  0.023892   \n",
       "\n",
       "   test_accu   test_f1  test_recall  test_pre  \n",
       "0   0.998970  0.000000     0.000000  0.000000  \n",
       "1   0.998770  0.005882     0.003656  0.015038  \n",
       "2   0.998770  0.005882     0.003656  0.015038  \n",
       "3   0.998816  0.000000     0.000000  0.000000  \n",
       "4   0.662249  0.003200     0.544790  0.001605  "
      ]
     },
     "execution_count": 57,
     "metadata": {},
     "output_type": "execute_result"
    }
   ],
   "source": [
    "cv_res = pd.DataFrame({'Scoring':['RandomOversampler','SMOTE1','SMOTE2','ADASYM','RandomUnderSampler'],\n",
    "                       'AMean':acu_mean,'AStd':acu_sd,\n",
    "                      'roc_auc_mean':roc_mean,'roc_auc_std':roc_sd,'f1_mean':f1_mean,\n",
    "                      'f1_sd':f1_sd,'recall_mean':recall_mean,'recall_sd':recall_sd,\n",
    "                      'preci_mean':pri,'preci_sd':pri_sd,'test_accu':predict_acc,\n",
    "                      'test_f1':predict_f1,'test_recall':predict_recall,'test_pre':predict_pri,\n",
    "                      'test_roc_auc':predict_roc})\n",
    "cv_res"
   ]
  },
  {
   "cell_type": "code",
   "execution_count": 58,
   "metadata": {
    "scrolled": true
   },
   "outputs": [
    {
     "data": {
      "text/html": [
       "<div>\n",
       "<style scoped>\n",
       "    .dataframe tbody tr th:only-of-type {\n",
       "        vertical-align: middle;\n",
       "    }\n",
       "\n",
       "    .dataframe tbody tr th {\n",
       "        vertical-align: top;\n",
       "    }\n",
       "\n",
       "    .dataframe thead th {\n",
       "        text-align: right;\n",
       "    }\n",
       "</style>\n",
       "<table border=\"1\" class=\"dataframe\">\n",
       "  <thead>\n",
       "    <tr style=\"text-align: right;\">\n",
       "      <th></th>\n",
       "      <th>Scoring</th>\n",
       "      <th>AMean</th>\n",
       "      <th>AStd</th>\n",
       "      <th>roc_auc_mean</th>\n",
       "      <th>roc_auc_std</th>\n",
       "      <th>f1_mean</th>\n",
       "      <th>f1_sd</th>\n",
       "      <th>recall_mean</th>\n",
       "      <th>recall_sd</th>\n",
       "      <th>preci_mean</th>\n",
       "      <th>preci_sd</th>\n",
       "      <th>test_accu</th>\n",
       "      <th>test_f1</th>\n",
       "      <th>test_recall</th>\n",
       "      <th>test_pre</th>\n",
       "    </tr>\n",
       "  </thead>\n",
       "  <tbody>\n",
       "    <tr>\n",
       "      <th>0</th>\n",
       "      <td>RandomOversampler</td>\n",
       "      <td>0.999979</td>\n",
       "      <td>0.000004</td>\n",
       "      <td>0.999999</td>\n",
       "      <td>9.559936e-07</td>\n",
       "      <td>0.999979</td>\n",
       "      <td>0.000004</td>\n",
       "      <td>1.000000</td>\n",
       "      <td>0.000000</td>\n",
       "      <td>0.999959</td>\n",
       "      <td>0.000008</td>\n",
       "      <td>0.998970</td>\n",
       "      <td>0.000000</td>\n",
       "      <td>0.000000</td>\n",
       "      <td>0.000000</td>\n",
       "    </tr>\n",
       "    <tr>\n",
       "      <th>1</th>\n",
       "      <td>SMOTE1</td>\n",
       "      <td>0.999383</td>\n",
       "      <td>0.000766</td>\n",
       "      <td>0.999887</td>\n",
       "      <td>2.058870e-04</td>\n",
       "      <td>0.999382</td>\n",
       "      <td>0.000767</td>\n",
       "      <td>0.999096</td>\n",
       "      <td>0.001543</td>\n",
       "      <td>0.999669</td>\n",
       "      <td>0.000014</td>\n",
       "      <td>0.998770</td>\n",
       "      <td>0.005882</td>\n",
       "      <td>0.003656</td>\n",
       "      <td>0.015038</td>\n",
       "    </tr>\n",
       "    <tr>\n",
       "      <th>2</th>\n",
       "      <td>SMOTE2</td>\n",
       "      <td>0.999383</td>\n",
       "      <td>0.000766</td>\n",
       "      <td>0.999887</td>\n",
       "      <td>2.058870e-04</td>\n",
       "      <td>0.999382</td>\n",
       "      <td>0.000767</td>\n",
       "      <td>0.999096</td>\n",
       "      <td>0.001543</td>\n",
       "      <td>0.999669</td>\n",
       "      <td>0.000014</td>\n",
       "      <td>0.998770</td>\n",
       "      <td>0.005882</td>\n",
       "      <td>0.003656</td>\n",
       "      <td>0.015038</td>\n",
       "    </tr>\n",
       "    <tr>\n",
       "      <th>3</th>\n",
       "      <td>ADASYM</td>\n",
       "      <td>0.907288</td>\n",
       "      <td>0.006977</td>\n",
       "      <td>0.989356</td>\n",
       "      <td>2.039679e-03</td>\n",
       "      <td>0.897758</td>\n",
       "      <td>0.008526</td>\n",
       "      <td>0.814809</td>\n",
       "      <td>0.013947</td>\n",
       "      <td>0.999671</td>\n",
       "      <td>0.000025</td>\n",
       "      <td>0.998816</td>\n",
       "      <td>0.000000</td>\n",
       "      <td>0.000000</td>\n",
       "      <td>0.000000</td>\n",
       "    </tr>\n",
       "  </tbody>\n",
       "</table>\n",
       "</div>"
      ],
      "text/plain": [
       "             Scoring     AMean      AStd  roc_auc_mean   roc_auc_std  \\\n",
       "0  RandomOversampler  0.999979  0.000004      0.999999  9.559936e-07   \n",
       "1             SMOTE1  0.999383  0.000766      0.999887  2.058870e-04   \n",
       "2             SMOTE2  0.999383  0.000766      0.999887  2.058870e-04   \n",
       "3             ADASYM  0.907288  0.006977      0.989356  2.039679e-03   \n",
       "\n",
       "    f1_mean     f1_sd  recall_mean  recall_sd  preci_mean  preci_sd  \\\n",
       "0  0.999979  0.000004     1.000000   0.000000    0.999959  0.000008   \n",
       "1  0.999382  0.000767     0.999096   0.001543    0.999669  0.000014   \n",
       "2  0.999382  0.000767     0.999096   0.001543    0.999669  0.000014   \n",
       "3  0.897758  0.008526     0.814809   0.013947    0.999671  0.000025   \n",
       "\n",
       "   test_accu   test_f1  test_recall  test_pre  \n",
       "0   0.998970  0.000000     0.000000  0.000000  \n",
       "1   0.998770  0.005882     0.003656  0.015038  \n",
       "2   0.998770  0.005882     0.003656  0.015038  \n",
       "3   0.998816  0.000000     0.000000  0.000000  "
      ]
     },
     "execution_count": 58,
     "metadata": {},
     "output_type": "execute_result"
    }
   ],
   "source": [
    "oversampling = cv_res.iloc[:4,:]\n",
    "oversampling"
   ]
  },
  {
   "cell_type": "code",
   "execution_count": 31,
   "metadata": {},
   "outputs": [
    {
     "data": {
      "image/png": "[encoded data removed]",
      "text/plain": [
       "<Figure size 432x288 with 1 Axes>"
      ]
     },
     "metadata": {},
     "output_type": "display_data"
    }
   ],
   "source": [
    "g = sns.barplot(\"AMean\",\"Scoring\",data = oversampling, palette=\"Set3\",orient = \"h\",**{'xerr':acu_sd[:4]})\n",
    "g.set_xlabel(\"Mean Accuracy\")\n",
    "g = g.set_title(\"Cross validation scores of accuracy\")"
   ]
  },
  {
   "cell_type": "code",
   "execution_count": 32,
   "metadata": {},
   "outputs": [
    {
     "data": {
      "image/png": "[encoded data removed]",
      "text/plain": [
       "<Figure size 432x288 with 1 Axes>"
      ]
     },
     "metadata": {},
     "output_type": "display_data"
    }
   ],
   "source": [
    "g = sns.barplot(\"roc_auc_mean\",\"Scoring\",data = oversampling, palette=\"Set3\",orient = \"h\",**{'xerr':roc_sd[:4]})\n",
    "g.set_xlabel(\"Mean Roc_Auc_Score\")\n",
    "g = g.set_title(\"Cross validation scores of Roc_Auc_Score\")"
   ]
  },
  {
   "cell_type": "code",
   "execution_count": 34,
   "metadata": {},
   "outputs": [
    {
     "data": {
      "image/png": "[encoded data removed]",
      "text/plain": [
       "<Figure size 432x288 with 1 Axes>"
      ]
     },
     "metadata": {},
     "output_type": "display_data"
    }
   ],
   "source": [
    "g = sns.barplot(\"f1_mean\",\"Scoring\",data = oversampling, palette=\"Set3\",orient = \"h\",**{'xerr':f1_sd[:4]})\n",
    "g.set_xlabel(\"Mean F1_Score\")\n",
    "g = g.set_title(\"Cross validation scores of F1_Score\")"
   ]
  },
  {
   "cell_type": "code",
   "execution_count": 35,
   "metadata": {
    "scrolled": true
   },
   "outputs": [
    {
     "data": {
      "image/png": "[encoded data removed]",
      "text/plain": [
       "<Figure size 432x288 with 1 Axes>"
      ]
     },
     "metadata": {},
     "output_type": "display_data"
    }
   ],
   "source": [
    "g = sns.barplot('recall_mean',\"Scoring\",data = oversampling, palette=\"Set3\",orient = \"h\",**{'xerr':recall_sd[:4]})\n",
    "g.set_xlabel(\"Mean Recall_Score\")\n",
    "g = g.set_title(\"Cross validation scores of Recall_Score\")"
   ]
  },
  {
   "cell_type": "code",
   "execution_count": 51,
   "metadata": {
    "scrolled": true
   },
   "outputs": [
    {
     "data": {
      "image/png": "[encoded data removed]",
      "text/plain": [
       "<Figure size 432x288 with 1 Axes>"
      ]
     },
     "metadata": {},
     "output_type": "display_data"
    }
   ],
   "source": [
    "g = sns.barplot('preci_mean',\"Scoring\",data = oversampling, palette=\"Set3\",orient = \"h\",**{'xerr':pri_sd[:4]})\n",
    "g.set_xlabel(\"Mean Pricision_Score\")\n",
    "g = g.set_title(\"Cross validation scores of Pricision_Score\")"
   ]
  },
  {
   "cell_type": "code",
   "execution_count": 62,
   "metadata": {},
   "outputs": [
    {
     "data": {
      "image/png": "[encoded data removed]",
      "text/plain": [
       "<Figure size 432x288 with 1 Axes>"
      ]
     },
     "metadata": {},
     "output_type": "display_data"
    }
   ],
   "source": [
    "g = sns.barplot('test_accu',\"Scoring\",data = oversampling, palette=\"Set3\",orient = \"h\")\n",
    "g.set_xlabel(\"Test Accu_Score\")\n",
    "g = g.set_title(\"Test Accuracy_Score\")"
   ]
  },
  {
   "cell_type": "code",
   "execution_count": 63,
   "metadata": {
    "scrolled": true
   },
   "outputs": [
    {
     "data": {
      "image/png": "[encoded data removed]",
      "text/plain": [
       "<Figure size 432x288 with 1 Axes>"
      ]
     },
     "metadata": {},
     "output_type": "display_data"
    }
   ],
   "source": [
    "g = sns.barplot('test_f1',\"Scoring\",data = oversampling, palette=\"Set3\",orient = \"h\")\n",
    "g.set_xlabel(\"Test F1_Score\")\n",
    "g = g.set_title(\"Test F1_Score\")"
   ]
  },
  {
   "cell_type": "code",
   "execution_count": 64,
   "metadata": {},
   "outputs": [
    {
     "data": {
      "image/png": "[encoded data removed]",
      "text/plain": [
       "<Figure size 432x288 with 1 Axes>"
      ]
     },
     "metadata": {},
     "output_type": "display_data"
    }
   ],
   "source": [
    "g = sns.barplot('test_recall',\"Scoring\",data = oversampling, palette=\"Set3\",orient = \"h\")\n",
    "g.set_xlabel(\"Test Recall_Score\")\n",
    "g = g.set_title(\"Test Recall_Score\")"
   ]
  },
  {
   "cell_type": "code",
   "execution_count": 66,
   "metadata": {},
   "outputs": [
    {
     "data": {
      "image/png": "[encoded data removed]",
      "text/plain": [
       "<Figure size 432x288 with 1 Axes>"
      ]
     },
     "metadata": {},
     "output_type": "display_data"
    }
   ],
   "source": [
    "g = sns.barplot('test_pre',\"Scoring\",data = oversampling, palette=\"Set3\",orient = \"h\")\n",
    "g.set_xlabel(\"Test PreCision_Score\")\n",
    "g = g.set_title(\"Test PreCision_Score\")"
   ]
  },
  {
   "cell_type": "code",
   "execution_count": 81,
   "metadata": {},
   "outputs": [
    {
     "data": {
      "image/png": "[encoded data removed]",
      "text/plain": [
       "<Figure size 432x288 with 1 Axes>"
      ]
     },
     "metadata": {},
     "output_type": "display_data"
    }
   ],
   "source": [
    "g = sns.barplot('test_roc_auc',\"Scoring\",data = oversampling, palette=\"Set3\",orient = \"h\")\n",
    "g.set_xlabel(\"Test Roc_Auc_Score\")\n",
    "g = g.set_title(\"Test Roc_Auc_Score\")"
   ]
  },
  {
   "cell_type": "code",
   "execution_count": 11,
   "metadata": {},
   "outputs": [],
   "source": [
    "from imblearn.over_sampling import *\n",
    "from imblearn.under_sampling import *\n",
    "from imblearn.ensemble import *\n",
    "from imblearn.combine import *\n",
    "from sklearn.ensemble import RandomForestClassifier\n",
    "from sklearn.model_selection import cross_val_score\n",
    "from sklearn.metrics import roc_auc_score, f1_score, precision_score, recall_score,accuracy_score"
   ]
  },
  {
   "cell_type": "code",
   "execution_count": 12,
   "metadata": {},
   "outputs": [
    {
     "name": "stderr",
     "output_type": "stream",
     "text": [
      "C:\\Users\\hyoun\\Anaconda3\\lib\\site-packages\\sklearn\\utils\\deprecation.py:58: DeprecationWarning: Class BalanceCascade is deprecated; BalanceCascade is deprecated in 0.4 and will be removed in 0.6.\n",
      "  warnings.warn(msg, category=DeprecationWarning)\n",
      "C:\\Users\\hyoun\\Anaconda3\\lib\\site-packages\\sklearn\\utils\\deprecation.py:58: DeprecationWarning: Class EasyEnsemble is deprecated; EasyEnsemble is deprecated in 0.4 and will be removed in 0.6. Use EasyEnsembleClassifier instead.\n",
      "  warnings.warn(msg, category=DeprecationWarning)\n"
     ]
    }
   ],
   "source": [
    "sampling = []\n",
    "sampling.append(RandomUnderSampler(random_state=0))\n",
    "sampling.append(CondensedNearestNeighbour(random_state=0))\n",
    "sampling.append(EditedNearestNeighbours(random_state=0))\n",
    "sampling.append(RepeatedEditedNearestNeighbours(random_state=0))\n",
    "sampling.append(AllKNN(random_state=0))\n",
    "sampling.append(InstanceHardnessThreshold(random_state=0))\n",
    "sampling.append(NearMiss(random_state=0,version=1))\n",
    "sampling.append(NearMiss(random_state=0,version=2))\n",
    "sampling.append(NearMiss(random_state=0,version=3))\n",
    "sampling.append(NeighbourhoodCleaningRule(random_state=0))\n",
    "sampling.append(OneSidedSelection(random_state=0))\n",
    "sampling.append(TomekLinks(random_state=0))\n",
    "\n",
    "# cobine under and over sampling\n",
    "sampling.append(SMOTETomek(random_state=0, sampling_strategy='all'))\n",
    "sampling.append(SMOTEENN(random_state=0))\n",
    "\n",
    "# ensanble\n",
    "sampling.append(BalanceCascade(random_state=0))\n",
    "sampling.append(EasyEnsemble(random_state=0))"
   ]
  },
  {
   "cell_type": "markdown",
   "metadata": {},
   "source": [
    "# Under Sampling Mathod"
   ]
  },
  {
   "cell_type": "markdown",
   "metadata": {},
   "source": [
    "RandomUnderSampler"
   ]
  },
  {
   "cell_type": "code",
   "execution_count": 13,
   "metadata": {},
   "outputs": [],
   "source": [
    "# 결과를 표로 정리하기 위한 리스트 \n",
    "roc_auc = []\n",
    "accuracy = []\n",
    "f1 = []\n",
    "preci = []\n",
    "recall = []"
   ]
  },
  {
   "cell_type": "code",
   "execution_count": 14,
   "metadata": {},
   "outputs": [],
   "source": [
    "X_tra,y_tra = sampling[0].fit_sample(X_train,y_train)\n",
    "model = RandomForestClassifier(random_state=0)\n",
    "y_pred = model.fit(X_tra,y_tra).predict(X_test)\n",
    "y_proba = model.predict_proba(X_test)[:,1]"
   ]
  },
  {
   "cell_type": "code",
   "execution_count": 15,
   "metadata": {},
   "outputs": [
    {
     "name": "stdout",
     "output_type": "stream",
     "text": [
      "accuracy_score 0.6634552926964007\n",
      "f1_score 0.0028419310741779986\n",
      "precision_score 0.0014248097247772607\n",
      "recall_score 0.5266666666666666\n",
      "roc_auc_score 0.6234949395521042\n"
     ]
    }
   ],
   "source": [
    "print('accuracy_score',accuracy_score(y_test,y_pred))\n",
    "print('f1_score',f1_score(y_test,y_pred))\n",
    "print('precision_score',precision_score(y_test,y_pred))\n",
    "print('recall_score',recall_score(y_test,y_pred))\n",
    "print('roc_auc_score',roc_auc_score(y_test,y_proba))"
   ]
  },
  {
   "cell_type": "code",
   "execution_count": 16,
   "metadata": {},
   "outputs": [],
   "source": [
    "roc_auc.append(roc_auc_score(y_test,y_proba))\n",
    "accuracy.append(accuracy_score(y_test,y_pred))\n",
    "f1.append(f1_score(y_test,y_pred))\n",
    "preci.append(precision_score(y_test,y_pred))\n",
    "recall.append(recall_score(y_test,y_pred))"
   ]
  },
  {
   "cell_type": "markdown",
   "metadata": {},
   "source": [
    "Condensed Nearest Neighbours"
   ]
  },
  {
   "cell_type": "code",
   "execution_count": 17,
   "metadata": {},
   "outputs": [],
   "source": [
    "X_tra,y_tra = sampling[1].fit_sample(X_train,y_train)\n",
    "model = RandomForestClassifier(random_state=0)\n",
    "y_pred = model.fit(X_tra,y_tra).predictd(X_test)\n",
    "y_proba = model.predict_proba(X_test)[:,1]"
   ]
  },
  {
   "cell_type": "code",
   "execution_count": 18,
   "metadata": {},
   "outputs": [
    {
     "name": "stdout",
     "output_type": "stream",
     "text": [
      "accuracy_score 0.9979784734742938\n",
      "f1_score 0.0\n",
      "precision_score 0.0\n",
      "recall_score 0.0\n",
      "roc_auc_score 0.5611898989530736\n"
     ]
    }
   ],
   "source": [
    "print('accuracy_score',accuracy_score(y_test,y_pred))\n",
    "print('f1_score',f1_score(y_test,y_pred))\n",
    "print('precision_score',precision_score(y_test,y_pred))\n",
    "print('recall_score',recall_score(y_test,y_pred))\n",
    "print('roc_auc_score',roc_auc_score(y_test,y_proba))"
   ]
  },
  {
   "cell_type": "code",
   "execution_count": 19,
   "metadata": {},
   "outputs": [],
   "source": [
    "roc_auc.append(roc_auc_score(y_test,y_proba))\n",
    "accuracy.append(accuracy_score(y_test,y_pred))\n",
    "f1.append(f1_score(y_test,y_pred))\n",
    "preci.append(precision_score(y_test,y_pred))\n",
    "recall.append(recall_score(y_test,y_pred))"
   ]
  },
  {
   "cell_type": "markdown",
   "metadata": {},
   "source": [
    "Edited Nearest Neighbours"
   ]
  },
  {
   "cell_type": "code",
   "execution_count": 20,
   "metadata": {},
   "outputs": [],
   "source": [
    "X_tra,y_tra = sampling[2].fit_sample(X_train,y_train)\n",
    "model = RandomForestClassifier(random_state=0)\n",
    "y_pred = model.fit(X_tra,y_tra).predict(X_test)\n",
    "y_proba = model.predict_proba(X_test)[:,1]"
   ]
  },
  {
   "cell_type": "code",
   "execution_count": 21,
   "metadata": {},
   "outputs": [
    {
     "name": "stdout",
     "output_type": "stream",
     "text": [
      "accuracy_score 0.9990711905152161\n",
      "f1_score 0.012903225806451615\n",
      "precision_score 0.2\n",
      "recall_score 0.006666666666666667\n",
      "roc_auc_score 0.5045353441448887\n"
     ]
    }
   ],
   "source": [
    "print('accuracy_score',accuracy_score(y_test,y_pred))\n",
    "print('f1_score',f1_score(y_test,y_pred))\n",
    "print('precision_score',precision_score(y_test,y_pred))\n",
    "print('recall_score',recall_score(y_test,y_pred))\n",
    "print('roc_auc_score',roc_auc_score(y_test,y_proba))"
   ]
  },
  {
   "cell_type": "code",
   "execution_count": 22,
   "metadata": {},
   "outputs": [],
   "source": [
    "roc_auc.append(roc_auc_score(y_test,y_proba))\n",
    "accuracy.append(accuracy_score(y_test,y_pred))\n",
    "f1.append(f1_score(y_test,y_pred))\n",
    "preci.append(precision_score(y_test,y_pred))\n",
    "recall.append(recall_score(y_test,y_pred))"
   ]
  },
  {
   "cell_type": "markdown",
   "metadata": {},
   "source": [
    "Repeated Edited Nearest Neighbours"
   ]
  },
  {
   "cell_type": "code",
   "execution_count": 23,
   "metadata": {},
   "outputs": [],
   "source": [
    "X_tra,y_tra = sampling[3].fit_sample(X_train,y_train)\n",
    "model = RandomForestClassifier(random_state=0)\n",
    "y_pred = model.fit(X_tra,y_tra).predict(X_test)\n",
    "y_proba = model.predict_proba(X_test)[:,1]"
   ]
  },
  {
   "cell_type": "code",
   "execution_count": 24,
   "metadata": {},
   "outputs": [
    {
     "name": "stdout",
     "output_type": "stream",
     "text": [
      "accuracy_score 0.9990711905152161\n",
      "f1_score 0.012903225806451615\n",
      "precision_score 0.2\n",
      "recall_score 0.006666666666666667\n",
      "roc_auc_score 0.5107558974421293\n"
     ]
    }
   ],
   "source": [
    "print('accuracy_score',accuracy_score(y_test,y_pred))\n",
    "print('f1_score',f1_score(y_test,y_pred))\n",
    "print('precision_score',precision_score(y_test,y_pred))\n",
    "print('recall_score',recall_score(y_test,y_pred))\n",
    "print('roc_auc_score',roc_auc_score(y_test,y_proba))"
   ]
  },
  {
   "cell_type": "code",
   "execution_count": 25,
   "metadata": {},
   "outputs": [],
   "source": [
    "roc_auc.append(roc_auc_score(y_test,y_proba))\n",
    "accuracy.append(accuracy_score(y_test,y_pred))\n",
    "f1.append(f1_score(y_test,y_pred))\n",
    "preci.append(precision_score(y_test,y_pred))\n",
    "recall.append(recall_score(y_test,y_pred))"
   ]
  },
  {
   "cell_type": "markdown",
   "metadata": {},
   "source": [
    "All KNN"
   ]
  },
  {
   "cell_type": "code",
   "execution_count": 26,
   "metadata": {},
   "outputs": [],
   "source": [
    "X_tra,y_tra = sampling[4].fit_sample(X_train,y_train)\n",
    "model = RandomForestClassifier(random_state=0)\n",
    "y_pred = model.fit(X_tra,y_tra).predict(X_test)\n",
    "y_proba = model.predict_proba(X_test)[:,1]"
   ]
  },
  {
   "cell_type": "code",
   "execution_count": 27,
   "metadata": {},
   "outputs": [
    {
     "name": "stdout",
     "output_type": "stream",
     "text": [
      "accuracy_score 0.9990894024658982\n",
      "f1_score 0.013157894736842105\n",
      "precision_score 0.5\n",
      "recall_score 0.006666666666666667\n",
      "roc_auc_score 0.5112270649402205\n"
     ]
    }
   ],
   "source": [
    "print('accuracy_score',accuracy_score(y_test,y_pred))\n",
    "print('f1_score',f1_score(y_test,y_pred))\n",
    "print('precision_score',precision_score(y_test,y_pred))\n",
    "print('recall_score',recall_score(y_test,y_pred))\n",
    "print('roc_auc_score',roc_auc_score(y_test,y_proba))"
   ]
  },
  {
   "cell_type": "code",
   "execution_count": 28,
   "metadata": {},
   "outputs": [],
   "source": [
    "roc_auc.append(roc_auc_score(y_test,y_proba))\n",
    "accuracy.append(accuracy_score(y_test,y_pred))\n",
    "f1.append(f1_score(y_test,y_pred))\n",
    "preci.append(precision_score(y_test,y_pred))\n",
    "recall.append(recall_score(y_test,y_pred))"
   ]
  },
  {
   "cell_type": "markdown",
   "metadata": {},
   "source": [
    "Instance Hardness Threshold"
   ]
  },
  {
   "cell_type": "code",
   "execution_count": 29,
   "metadata": {},
   "outputs": [],
   "source": [
    "X_tra,y_tra = sampling[5].fit_sample(X_train,y_train)\n",
    "model = RandomForestClassifier(random_state=0)\n",
    "y_pred = model.fit(X_tra,y_tra).predict(X_test)\n",
    "y_proba = model.predict_proba(X_test)[:,1]"
   ]
  },
  {
   "cell_type": "code",
   "execution_count": 30,
   "metadata": {},
   "outputs": [
    {
     "name": "stdout",
     "output_type": "stream",
     "text": [
      "accuracy_score 0.999052978564534\n",
      "f1_score 0.012658227848101267\n",
      "precision_score 0.125\n",
      "recall_score 0.006666666666666667\n",
      "roc_auc_score 0.5212792796077217\n"
     ]
    }
   ],
   "source": [
    "print('accuracy_score',accuracy_score(y_test,y_pred))\n",
    "print('f1_score',f1_score(y_test,y_pred))\n",
    "print('precision_score',precision_score(y_test,y_pred))\n",
    "print('recall_score',recall_score(y_test,y_pred))\n",
    "print('roc_auc_score',roc_auc_score(y_test,y_proba))"
   ]
  },
  {
   "cell_type": "code",
   "execution_count": 31,
   "metadata": {},
   "outputs": [],
   "source": [
    "roc_auc.append(roc_auc_score(y_test,y_proba))\n",
    "accuracy.append(accuracy_score(y_test,y_pred))\n",
    "f1.append(f1_score(y_test,y_pred))\n",
    "preci.append(precision_score(y_test,y_pred))\n",
    "recall.append(recall_score(y_test,y_pred))"
   ]
  },
  {
   "cell_type": "markdown",
   "metadata": {},
   "source": [
    "Near Miss version1"
   ]
  },
  {
   "cell_type": "code",
   "execution_count": 32,
   "metadata": {},
   "outputs": [],
   "source": [
    "X_tra,y_tra = sampling[6].fit_sample(X_train,y_train)\n",
    "model = RandomForestClassifier(random_state=0)\n",
    "y_pred = model.fit(X_tra,y_tra).predict(X_test)\n",
    "y_proba = model.predict_proba(X_test)[:,1]"
   ]
  },
  {
   "cell_type": "code",
   "execution_count": 33,
   "metadata": {},
   "outputs": [
    {
     "name": "stdout",
     "output_type": "stream",
     "text": [
      "accuracy_score 0.01852155384363219\n",
      "f1_score 0.0017781729273171815\n",
      "precision_score 0.0008899106381400867\n",
      "recall_score 0.96\n",
      "roc_auc_score 0.4914420605552416\n"
     ]
    }
   ],
   "source": [
    "print('accuracy_score',accuracy_score(y_test,y_pred))\n",
    "print('f1_score',f1_score(y_test,y_pred))\n",
    "print('precision_score',precision_score(y_test,y_pred))\n",
    "print('recall_score',recall_score(y_test,y_pred))\n",
    "print('roc_auc_score',roc_auc_score(y_test,y_proba))"
   ]
  },
  {
   "cell_type": "code",
   "execution_count": 34,
   "metadata": {},
   "outputs": [],
   "source": [
    "roc_auc.append(roc_auc_score(y_test,y_proba))\n",
    "accuracy.append(accuracy_score(y_test,y_pred))\n",
    "f1.append(f1_score(y_test,y_pred))\n",
    "preci.append(precision_score(y_test,y_pred))\n",
    "recall.append(recall_score(y_test,y_pred))"
   ]
  },
  {
   "cell_type": "markdown",
   "metadata": {},
   "source": [
    "Near Miss version2"
   ]
  },
  {
   "cell_type": "code",
   "execution_count": 35,
   "metadata": {},
   "outputs": [],
   "source": [
    "X_tra,y_tra = sampling[7].fit_sample(X_train,y_train)\n",
    "model = RandomForestClassifier(random_state=0)\n",
    "y_pred = model.fit(X_tra,y_tra).predict(X_test)\n",
    "y_proba = model.predict_proba(X_test)[:,1]"
   ]
  },
  {
   "cell_type": "code",
   "execution_count": 36,
   "metadata": {},
   "outputs": [
    {
     "name": "stdout",
     "output_type": "stream",
     "text": [
      "accuracy_score 0.026389116538272413\n",
      "f1_score 0.0018670649738610906\n",
      "precision_score 0.0009344047841524949\n",
      "recall_score 1.0\n",
      "roc_auc_score 0.5142953146551462\n"
     ]
    }
   ],
   "source": [
    "print('accuracy_score',accuracy_score(y_test,y_pred))\n",
    "print('f1_score',f1_score(y_test,y_pred))\n",
    "print('precision_score',precision_score(y_test,y_pred))\n",
    "print('recall_score',recall_score(y_test,y_pred))\n",
    "print('roc_auc_score',roc_auc_score(y_test,y_proba))"
   ]
  },
  {
   "cell_type": "code",
   "execution_count": 37,
   "metadata": {},
   "outputs": [],
   "source": [
    "roc_auc.append(roc_auc_score(y_test,y_proba))\n",
    "accuracy.append(accuracy_score(y_test,y_pred))\n",
    "f1.append(f1_score(y_test,y_pred))\n",
    "preci.append(precision_score(y_test,y_pred))\n",
    "recall.append(recall_score(y_test,y_pred))"
   ]
  },
  {
   "cell_type": "markdown",
   "metadata": {},
   "source": [
    "Near Miss version3"
   ]
  },
  {
   "cell_type": "code",
   "execution_count": 38,
   "metadata": {},
   "outputs": [],
   "source": [
    "X_tra,y_tra = sampling[8].fit_sample(X_train,y_train)\n",
    "model = RandomForestClassifier(random_state=0)\n",
    "y_pred = model.fit(X_tra,y_tra).predict(X_test)\n",
    "y_proba = model.predict_proba(X_test)[:,1]"
   ]
  },
  {
   "cell_type": "code",
   "execution_count": 39,
   "metadata": {},
   "outputs": [
    {
     "name": "stdout",
     "output_type": "stream",
     "text": [
      "accuracy_score 0.4943512599634547\n",
      "f1_score 0.0025148495880436862\n",
      "precision_score 0.001259687597475826\n",
      "recall_score 0.7\n",
      "roc_auc_score 0.6211257344586424\n"
     ]
    }
   ],
   "source": [
    "print('accuracy_score',accuracy_score(y_test,y_pred))\n",
    "print('f1_score',f1_score(y_test,y_pred))\n",
    "print('precision_score',precision_score(y_test,y_pred))\n",
    "print('recall_score',recall_score(y_test,y_pred))\n",
    "print('roc_auc_score',roc_auc_score(y_test,y_proba))"
   ]
  },
  {
   "cell_type": "code",
   "execution_count": 40,
   "metadata": {},
   "outputs": [],
   "source": [
    "roc_auc.append(roc_auc_score(y_test,y_proba))\n",
    "accuracy.append(accuracy_score(y_test,y_pred))\n",
    "f1.append(f1_score(y_test,y_pred))\n",
    "preci.append(precision_score(y_test,y_pred))\n",
    "recall.append(recall_score(y_test,y_pred))"
   ]
  },
  {
   "cell_type": "markdown",
   "metadata": {},
   "source": [
    "Neighbourhood Cleaning Rule"
   ]
  },
  {
   "cell_type": "code",
   "execution_count": 41,
   "metadata": {},
   "outputs": [],
   "source": [
    "X_tra,y_tra = sampling[9].fit_sample(X_train,y_train)\n",
    "model = RandomForestClassifier(random_state=0)\n",
    "y_pred = model.fit(X_tra,y_tra).predict(X_test)\n",
    "y_proba = model.predict_proba(X_test)[:,1]"
   ]
  },
  {
   "cell_type": "code",
   "execution_count": 42,
   "metadata": {},
   "outputs": [
    {
     "name": "stdout",
     "output_type": "stream",
     "text": [
      "accuracy_score 0.999052978564534\n",
      "f1_score 0.0\n",
      "precision_score 0.0\n",
      "recall_score 0.0\n",
      "roc_auc_score 0.5044025187804695\n"
     ]
    }
   ],
   "source": [
    "print('accuracy_score',accuracy_score(y_test,y_pred))\n",
    "print('f1_score',f1_score(y_test,y_pred))\n",
    "print('precision_score',precision_score(y_test,y_pred))\n",
    "print('recall_score',recall_score(y_test,y_pred))\n",
    "print('roc_auc_score',roc_auc_score(y_test,y_proba))"
   ]
  },
  {
   "cell_type": "code",
   "execution_count": 43,
   "metadata": {},
   "outputs": [],
   "source": [
    "roc_auc.append(roc_auc_score(y_test,y_proba))\n",
    "accuracy.append(accuracy_score(y_test,y_pred))\n",
    "f1.append(f1_score(y_test,y_pred))\n",
    "preci.append(precision_score(y_test,y_pred))\n",
    "recall.append(recall_score(y_test,y_pred))"
   ]
  },
  {
   "cell_type": "markdown",
   "metadata": {},
   "source": [
    "One Sided Selection"
   ]
  },
  {
   "cell_type": "code",
   "execution_count": 44,
   "metadata": {},
   "outputs": [],
   "source": [
    "X_tra,y_tra = sampling[10].fit_sample(X_train,y_train)\n",
    "model = RandomForestClassifier(random_state=0)\n",
    "y_pred = model.fit(X_tra,y_tra).predict(X_test)\n",
    "y_proba = model.predict_proba(X_test)[:,1]"
   ]
  },
  {
   "cell_type": "code",
   "execution_count": 45,
   "metadata": {},
   "outputs": [
    {
     "name": "stdout",
     "output_type": "stream",
     "text": [
      "accuracy_score 0.9990651198649887\n",
      "f1_score 0.012820512820512822\n",
      "precision_score 0.16666666666666666\n",
      "recall_score 0.006666666666666667\n",
      "roc_auc_score 0.5080547504612836\n"
     ]
    }
   ],
   "source": [
    "print('accuracy_score',accuracy_score(y_test,y_pred))\n",
    "print('f1_score',f1_score(y_test,y_pred))\n",
    "print('precision_score',precision_score(y_test,y_pred))\n",
    "print('recall_score',recall_score(y_test,y_pred))\n",
    "print('roc_auc_score',roc_auc_score(y_test,y_proba))"
   ]
  },
  {
   "cell_type": "code",
   "execution_count": 46,
   "metadata": {},
   "outputs": [],
   "source": [
    "roc_auc.append(roc_auc_score(y_test,y_proba))\n",
    "accuracy.append(accuracy_score(y_test,y_pred))\n",
    "f1.append(f1_score(y_test,y_pred))\n",
    "preci.append(precision_score(y_test,y_pred))\n",
    "recall.append(recall_score(y_test,y_pred))"
   ]
  },
  {
   "cell_type": "markdown",
   "metadata": {},
   "source": [
    "Tomek Links"
   ]
  },
  {
   "cell_type": "code",
   "execution_count": 47,
   "metadata": {},
   "outputs": [],
   "source": [
    "X_tra,y_tra = sampling[11].fit_sample(X_train,y_train)\n",
    "model = RandomForestClassifier(random_state=0)\n",
    "y_pred = model.fit(X_tra,y_tra).predict(X_test)\n",
    "y_proba = model.predict_proba(X_test)[:,1]"
   ]
  },
  {
   "cell_type": "code",
   "execution_count": 48,
   "metadata": {},
   "outputs": [
    {
     "name": "stdout",
     "output_type": "stream",
     "text": [
      "accuracy_score 0.9990833318156708\n",
      "f1_score 0.013071895424836602\n",
      "precision_score 0.3333333333333333\n",
      "recall_score 0.006666666666666667\n",
      "roc_auc_score 0.5112900344519589\n"
     ]
    }
   ],
   "source": [
    "print('accuracy_score',accuracy_score(y_test,y_pred))\n",
    "print('f1_score',f1_score(y_test,y_pred))\n",
    "print('precision_score',precision_score(y_test,y_pred))\n",
    "print('recall_score',recall_score(y_test,y_pred))\n",
    "print('roc_auc_score',roc_auc_score(y_test,y_proba))"
   ]
  },
  {
   "cell_type": "code",
   "execution_count": 49,
   "metadata": {},
   "outputs": [],
   "source": [
    "roc_auc.append(roc_auc_score(y_test,y_proba))\n",
    "accuracy.append(accuracy_score(y_test,y_pred))\n",
    "f1.append(f1_score(y_test,y_pred))\n",
    "preci.append(precision_score(y_test,y_pred))\n",
    "recall.append(recall_score(y_test,y_pred))"
   ]
  },
  {
   "cell_type": "markdown",
   "metadata": {},
   "source": [
    "# Combine under and over sampling"
   ]
  },
  {
   "cell_type": "markdown",
   "metadata": {},
   "source": [
    "SMOTE Tomek"
   ]
  },
  {
   "cell_type": "code",
   "execution_count": 50,
   "metadata": {},
   "outputs": [],
   "source": [
    "X_tra,y_tra = sampling[12].fit_sample(X_train,y_train)\n",
    "model = RandomForestClassifier(random_state=0)\n",
    "y_pred = model.fit(X_tra,y_tra).predict(X_test)\n",
    "y_proba = model.predict_proba(X_test)[:,1]"
   ]
  },
  {
   "cell_type": "code",
   "execution_count": 51,
   "metadata": {},
   "outputs": [
    {
     "name": "stdout",
     "output_type": "stream",
     "text": [
      "accuracy_score 0.9988830003581683\n",
      "f1_score 0.021276595744680854\n",
      "precision_score 0.05263157894736842\n",
      "recall_score 0.013333333333333334\n",
      "roc_auc_score 0.5172393266778873\n"
     ]
    }
   ],
   "source": [
    "print('accuracy_score',accuracy_score(y_test,y_pred))\n",
    "print('f1_score',f1_score(y_test,y_pred))\n",
    "print('precision_score',precision_score(y_test,y_pred))\n",
    "print('recall_score',recall_score(y_test,y_pred))\n",
    "print('roc_auc_score',roc_auc_score(y_test,y_proba))"
   ]
  },
  {
   "cell_type": "code",
   "execution_count": 52,
   "metadata": {},
   "outputs": [],
   "source": [
    "roc_auc.append(roc_auc_score(y_test,y_proba))\n",
    "accuracy.append(accuracy_score(y_test,y_pred))\n",
    "f1.append(f1_score(y_test,y_pred))\n",
    "preci.append(precision_score(y_test,y_pred))\n",
    "recall.append(recall_score(y_test,y_pred))"
   ]
  },
  {
   "cell_type": "markdown",
   "metadata": {},
   "source": [
    "SMOTE ENN"
   ]
  },
  {
   "cell_type": "code",
   "execution_count": 53,
   "metadata": {},
   "outputs": [],
   "source": [
    "X_tra,y_tra = sampling[13].fit_sample(X_train,y_train)\n",
    "model = RandomForestClassifier(random_state=0)\n",
    "y_pred = model.fit(X_tra,y_tra).predict(X_test)\n",
    "y_proba = model.predict_proba(X_test)[:,1]"
   ]
  },
  {
   "cell_type": "code",
   "execution_count": 54,
   "metadata": {},
   "outputs": [
    {
     "name": "stdout",
     "output_type": "stream",
     "text": [
      "accuracy_score 0.9988465764568043\n",
      "f1_score 0.010416666666666666\n",
      "precision_score 0.023809523809523808\n",
      "recall_score 0.006666666666666667\n",
      "roc_auc_score 0.5203125993709125\n"
     ]
    }
   ],
   "source": [
    "print('accuracy_score',accuracy_score(y_test,y_pred))\n",
    "print('f1_score',f1_score(y_test,y_pred))\n",
    "print('precision_score',precision_score(y_test,y_pred))\n",
    "print('recall_score',recall_score(y_test,y_pred))\n",
    "print('roc_auc_score',roc_auc_score(y_test,y_proba))"
   ]
  },
  {
   "cell_type": "code",
   "execution_count": 55,
   "metadata": {},
   "outputs": [],
   "source": [
    "roc_auc.append(roc_auc_score(y_test,y_proba))\n",
    "accuracy.append(accuracy_score(y_test,y_pred))\n",
    "f1.append(f1_score(y_test,y_pred))\n",
    "preci.append(precision_score(y_test,y_pred))\n",
    "recall.append(recall_score(y_test,y_pred))"
   ]
  },
  {
   "cell_type": "markdown",
   "metadata": {},
   "source": [
    "# Ensanble"
   ]
  },
  {
   "cell_type": "markdown",
   "metadata": {},
   "source": [
    "BalanceCascade"
   ]
  },
  {
   "cell_type": "code",
   "execution_count": 56,
   "metadata": {},
   "outputs": [],
   "source": [
    "X_tra,y_tra = sampling[14].fit_sample(X_train,y_train)\n",
    "X_tra = X_tra.reshape(-1,29)\n",
    "y_tra = y_tra.reshape(-1,1)\n",
    "model = RandomForestClassifier(random_state=0)\n",
    "y_pred = model.fit(X_tra[0],y_tra[0]).predict(X_test)\n",
    "y_proba = model.predict_proba(X_test)[:,1]"
   ]
  },
  {
   "cell_type": "code",
   "execution_count": 57,
   "metadata": {},
   "outputs": [
    {
     "name": "stdout",
     "output_type": "stream",
     "text": [
      "accuracy_score 0.6634552926964007\n",
      "f1_score 0.0028419310741779986\n",
      "precision_score 0.0014248097247772607\n",
      "recall_score 0.5266666666666666\n",
      "roc_auc_score 0.6234949395521042\n"
     ]
    }
   ],
   "source": [
    "print('accuracy_score',accuracy_score(y_test,y_pred))\n",
    "print('f1_score',f1_score(y_test,y_pred))\n",
    "print('precision_score',precision_score(y_test,y_pred))\n",
    "print('recall_score',recall_score(y_test,y_pred))\n",
    "print('roc_auc_score',roc_auc_score(y_test,y_proba))"
   ]
  },
  {
   "cell_type": "code",
   "execution_count": 58,
   "metadata": {},
   "outputs": [],
   "source": [
    "roc_auc.append(roc_auc_score(y_test,y_proba))\n",
    "accuracy.append(accuracy_score(y_test,y_pred))\n",
    "f1.append(f1_score(y_test,y_pred))\n",
    "preci.append(precision_score(y_test,y_pred))\n",
    "recall.append(recall_score(y_test,y_pred))"
   ]
  },
  {
   "cell_type": "markdown",
   "metadata": {},
   "source": [
    "Easy Ensemble"
   ]
  },
  {
   "cell_type": "code",
   "execution_count": 60,
   "metadata": {},
   "outputs": [],
   "source": [
    "X_tra,y_tra = sampling[15].fit_sample(X_train,y_train)\n",
    "X_tra = X_tra.reshape(-1,29)\n",
    "y_tra = y_tra.reshape(-1,1)\n",
    "model = RandomForestClassifier(random_state=0)\n",
    "y_pred = model.fit(X_tra,y_tra).predict(X_test)\n",
    "y_proba = model.predict_proba(X_test)[:,1]"
   ]
  },
  {
   "cell_type": "code",
   "execution_count": 61,
   "metadata": {},
   "outputs": [
    {
     "name": "stdout",
     "output_type": "stream",
     "text": [
      "accuracy_score 0.9871059389171174\n",
      "f1_score 0.004686035613870665\n",
      "precision_score 0.0025201612903225806\n",
      "recall_score 0.03333333333333333\n",
      "roc_auc_score 0.598230169869828\n"
     ]
    }
   ],
   "source": [
    "print('accuracy_score',accuracy_score(y_test,y_pred))\n",
    "print('f1_score',f1_score(y_test,y_pred))\n",
    "print('precision_score',precision_score(y_test,y_pred))\n",
    "print('recall_score',recall_score(y_test,y_pred))\n",
    "print('roc_auc_score',roc_auc_score(y_test,y_proba))"
   ]
  },
  {
   "cell_type": "code",
   "execution_count": 62,
   "metadata": {},
   "outputs": [],
   "source": [
    "roc_auc.append(roc_auc_score(y_test,y_proba))\n",
    "accuracy.append(accuracy_score(y_test,y_pred))\n",
    "f1.append(f1_score(y_test,y_pred))\n",
    "preci.append(precision_score(y_test,y_pred))\n",
    "recall.append(recall_score(y_test,y_pred))"
   ]
  },
  {
   "cell_type": "code",
   "execution_count": 63,
   "metadata": {},
   "outputs": [
    {
     "data": {
      "text/html": [
       "<div>\n",
       "<style scoped>\n",
       "    .dataframe tbody tr th:only-of-type {\n",
       "        vertical-align: middle;\n",
       "    }\n",
       "\n",
       "    .dataframe tbody tr th {\n",
       "        vertical-align: top;\n",
       "    }\n",
       "\n",
       "    .dataframe thead th {\n",
       "        text-align: right;\n",
       "    }\n",
       "</style>\n",
       "<table border=\"1\" class=\"dataframe\">\n",
       "  <thead>\n",
       "    <tr style=\"text-align: right;\">\n",
       "      <th></th>\n",
       "      <th>modelname</th>\n",
       "      <th>roc_auc</th>\n",
       "      <th>accuracy</th>\n",
       "      <th>f1_score</th>\n",
       "      <th>precision</th>\n",
       "      <th>recall_score</th>\n",
       "    </tr>\n",
       "  </thead>\n",
       "  <tbody>\n",
       "    <tr>\n",
       "      <th>0</th>\n",
       "      <td>RUS</td>\n",
       "      <td>0.623495</td>\n",
       "      <td>0.663455</td>\n",
       "      <td>0.002842</td>\n",
       "      <td>0.001425</td>\n",
       "      <td>0.526667</td>\n",
       "    </tr>\n",
       "    <tr>\n",
       "      <th>1</th>\n",
       "      <td>CNN</td>\n",
       "      <td>0.561190</td>\n",
       "      <td>0.997978</td>\n",
       "      <td>0.000000</td>\n",
       "      <td>0.000000</td>\n",
       "      <td>0.000000</td>\n",
       "    </tr>\n",
       "    <tr>\n",
       "      <th>2</th>\n",
       "      <td>ENN</td>\n",
       "      <td>0.504535</td>\n",
       "      <td>0.999071</td>\n",
       "      <td>0.012903</td>\n",
       "      <td>0.200000</td>\n",
       "      <td>0.006667</td>\n",
       "    </tr>\n",
       "    <tr>\n",
       "      <th>3</th>\n",
       "      <td>RNN</td>\n",
       "      <td>0.510756</td>\n",
       "      <td>0.999071</td>\n",
       "      <td>0.012903</td>\n",
       "      <td>0.200000</td>\n",
       "      <td>0.006667</td>\n",
       "    </tr>\n",
       "    <tr>\n",
       "      <th>4</th>\n",
       "      <td>AKNN</td>\n",
       "      <td>0.511227</td>\n",
       "      <td>0.999089</td>\n",
       "      <td>0.013158</td>\n",
       "      <td>0.500000</td>\n",
       "      <td>0.006667</td>\n",
       "    </tr>\n",
       "    <tr>\n",
       "      <th>5</th>\n",
       "      <td>IHT</td>\n",
       "      <td>0.521279</td>\n",
       "      <td>0.999053</td>\n",
       "      <td>0.012658</td>\n",
       "      <td>0.125000</td>\n",
       "      <td>0.006667</td>\n",
       "    </tr>\n",
       "    <tr>\n",
       "      <th>6</th>\n",
       "      <td>NMV1</td>\n",
       "      <td>0.491442</td>\n",
       "      <td>0.018522</td>\n",
       "      <td>0.001778</td>\n",
       "      <td>0.000890</td>\n",
       "      <td>0.960000</td>\n",
       "    </tr>\n",
       "    <tr>\n",
       "      <th>7</th>\n",
       "      <td>NMV2</td>\n",
       "      <td>0.514295</td>\n",
       "      <td>0.026389</td>\n",
       "      <td>0.001867</td>\n",
       "      <td>0.000934</td>\n",
       "      <td>1.000000</td>\n",
       "    </tr>\n",
       "    <tr>\n",
       "      <th>8</th>\n",
       "      <td>NMV3</td>\n",
       "      <td>0.621126</td>\n",
       "      <td>0.494351</td>\n",
       "      <td>0.002515</td>\n",
       "      <td>0.001260</td>\n",
       "      <td>0.700000</td>\n",
       "    </tr>\n",
       "    <tr>\n",
       "      <th>9</th>\n",
       "      <td>NCR</td>\n",
       "      <td>0.504403</td>\n",
       "      <td>0.999053</td>\n",
       "      <td>0.000000</td>\n",
       "      <td>0.000000</td>\n",
       "      <td>0.000000</td>\n",
       "    </tr>\n",
       "    <tr>\n",
       "      <th>10</th>\n",
       "      <td>OSS</td>\n",
       "      <td>0.508055</td>\n",
       "      <td>0.999065</td>\n",
       "      <td>0.012821</td>\n",
       "      <td>0.166667</td>\n",
       "      <td>0.006667</td>\n",
       "    </tr>\n",
       "    <tr>\n",
       "      <th>11</th>\n",
       "      <td>TL</td>\n",
       "      <td>0.511290</td>\n",
       "      <td>0.999083</td>\n",
       "      <td>0.013072</td>\n",
       "      <td>0.333333</td>\n",
       "      <td>0.006667</td>\n",
       "    </tr>\n",
       "    <tr>\n",
       "      <th>12</th>\n",
       "      <td>SMOT</td>\n",
       "      <td>0.517239</td>\n",
       "      <td>0.998883</td>\n",
       "      <td>0.021277</td>\n",
       "      <td>0.052632</td>\n",
       "      <td>0.013333</td>\n",
       "    </tr>\n",
       "    <tr>\n",
       "      <th>13</th>\n",
       "      <td>SMOTNN</td>\n",
       "      <td>0.520313</td>\n",
       "      <td>0.998847</td>\n",
       "      <td>0.010417</td>\n",
       "      <td>0.023810</td>\n",
       "      <td>0.006667</td>\n",
       "    </tr>\n",
       "    <tr>\n",
       "      <th>14</th>\n",
       "      <td>BC</td>\n",
       "      <td>0.623495</td>\n",
       "      <td>0.663455</td>\n",
       "      <td>0.002842</td>\n",
       "      <td>0.001425</td>\n",
       "      <td>0.526667</td>\n",
       "    </tr>\n",
       "    <tr>\n",
       "      <th>15</th>\n",
       "      <td>EE</td>\n",
       "      <td>0.598230</td>\n",
       "      <td>0.987106</td>\n",
       "      <td>0.004686</td>\n",
       "      <td>0.002520</td>\n",
       "      <td>0.033333</td>\n",
       "    </tr>\n",
       "  </tbody>\n",
       "</table>\n",
       "</div>"
      ],
      "text/plain": [
       "   modelname   roc_auc  accuracy  f1_score  precision  recall_score\n",
       "0        RUS  0.623495  0.663455  0.002842   0.001425      0.526667\n",
       "1        CNN  0.561190  0.997978  0.000000   0.000000      0.000000\n",
       "2        ENN  0.504535  0.999071  0.012903   0.200000      0.006667\n",
       "3        RNN  0.510756  0.999071  0.012903   0.200000      0.006667\n",
       "4       AKNN  0.511227  0.999089  0.013158   0.500000      0.006667\n",
       "5        IHT  0.521279  0.999053  0.012658   0.125000      0.006667\n",
       "6       NMV1  0.491442  0.018522  0.001778   0.000890      0.960000\n",
       "7       NMV2  0.514295  0.026389  0.001867   0.000934      1.000000\n",
       "8       NMV3  0.621126  0.494351  0.002515   0.001260      0.700000\n",
       "9        NCR  0.504403  0.999053  0.000000   0.000000      0.000000\n",
       "10       OSS  0.508055  0.999065  0.012821   0.166667      0.006667\n",
       "11        TL  0.511290  0.999083  0.013072   0.333333      0.006667\n",
       "12      SMOT  0.517239  0.998883  0.021277   0.052632      0.013333\n",
       "13    SMOTNN  0.520313  0.998847  0.010417   0.023810      0.006667\n",
       "14        BC  0.623495  0.663455  0.002842   0.001425      0.526667\n",
       "15        EE  0.598230  0.987106  0.004686   0.002520      0.033333"
      ]
     },
     "execution_count": 63,
     "metadata": {},
     "output_type": "execute_result"
    }
   ],
   "source": [
    "df = pd.DataFrame({'modelname':['RUS','CNN','ENN','RNN','AKNN','IHT','NMV1','NMV2',\n",
    "                               'NMV3','NCR','OSS','TL','SMOT','SMOTNN','BC','EE'],\n",
    "                  'roc_auc':roc_auc,'accuracy':accuracy,'f1_score':f1,'precision':preci,\n",
    "                  'recall_score':recall})\n",
    "df"
   ]
  },
  {
   "cell_type": "markdown",
   "metadata": {},
   "source": [
    "# 그림그리기."
   ]
  },
  {
   "cell_type": "code",
   "execution_count": 64,
   "metadata": {},
   "outputs": [
    {
     "data": {
      "image/png": "[encoded data removed]",
      "text/plain": [
       "<Figure size 432x288 with 1 Axes>"
      ]
     },
     "metadata": {},
     "output_type": "display_data"
    }
   ],
   "source": [
    "g = sns.barplot(\"roc_auc\",\"modelname\",data = df, palette=\"Set3\",orient = \"h\")\n",
    "g.set_xlabel(\"Roc_Auc_Score\")\n",
    "g = g.set_title(\"Roc_Auc_Score\")"
   ]
  },
  {
   "cell_type": "code",
   "execution_count": 65,
   "metadata": {},
   "outputs": [
    {
     "data": {
      "image/png": "[encoded data removed]",
      "text/plain": [
       "<Figure size 432x288 with 1 Axes>"
      ]
     },
     "metadata": {},
     "output_type": "display_data"
    }
   ],
   "source": [
    "g = sns.barplot(\"accuracy\",\"modelname\",data = df, palette=\"Set3\",orient = \"h\")\n",
    "g.set_xlabel(\"Accuracy_Score\")\n",
    "g = g.set_title(\"Accuracy_Score\")"
   ]
  },
  {
   "cell_type": "code",
   "execution_count": 66,
   "metadata": {},
   "outputs": [
    {
     "data": {
      "image/png": "[encoded data removed]",
      "text/plain": [
       "<Figure size 432x288 with 1 Axes>"
      ]
     },
     "metadata": {},
     "output_type": "display_data"
    }
   ],
   "source": [
    "g = sns.barplot(\"f1_score\",\"modelname\",data = df, palette=\"Set3\",orient = \"h\")\n",
    "g.set_xlabel(\"F1_Score\")\n",
    "g = g.set_title(\"F1_Score\")"
   ]
  },
  {
   "cell_type": "code",
   "execution_count": 67,
   "metadata": {},
   "outputs": [
    {
     "data": {
      "image/png": "[encoded data removed]",
      "text/plain": [
       "<Figure size 432x288 with 1 Axes>"
      ]
     },
     "metadata": {},
     "output_type": "display_data"
    }
   ],
   "source": [
    "g = sns.barplot(\"precision\",\"modelname\",data = df, palette=\"Set3\",orient = \"h\")\n",
    "g.set_xlabel(\"Precision_Score\")\n",
    "g = g.set_title(\"Precision_Score\")"
   ]
  },
  {
   "cell_type": "code",
   "execution_count": 68,
   "metadata": {
    "scrolled": true
   },
   "outputs": [
    {
     "data": {
      "image/png": "[encoded data removed]",
      "text/plain": [
       "<Figure size 432x288 with 1 Axes>"
      ]
     },
     "metadata": {},
     "output_type": "display_data"
    }
   ],
   "source": [
    "g = sns.barplot(\"recall_score\",\"modelname\",data = df, palette=\"Set3\",orient = \"h\")\n",
    "g.set_xlabel(\"Recall_Score\")\n",
    "g = g.set_title(\"Recall_Score\")"
   ]
  },
  {
   "cell_type": "markdown",
   "metadata": {},
   "source": [
    "# 최고의 sampling model 선택"
   ]
  },
  {
   "cell_type": "markdown",
   "metadata": {},
   "source": [
    "밑에서 4개 전까지는 UnderSampling\n",
    "밑에서 2개 전까지는 combine\n",
    "나머지 ensanble"
   ]
  },
  {
   "cell_type": "code",
   "execution_count": 104,
   "metadata": {},
   "outputs": [
    {
     "name": "stderr",
     "output_type": "stream",
     "text": [
      "C:\\Users\\hyoun\\Anaconda3\\lib\\site-packages\\sklearn\\utils\\deprecation.py:58: DeprecationWarning: Class BalanceCascade is deprecated; BalanceCascade is deprecated in 0.4 and will be removed in 0.6.\n",
      "  warnings.warn(msg, category=DeprecationWarning)\n",
      "C:\\Users\\hyoun\\Anaconda3\\lib\\site-packages\\sklearn\\utils\\deprecation.py:58: DeprecationWarning: Class EasyEnsemble is deprecated; EasyEnsemble is deprecated in 0.4 and will be removed in 0.6. Use EasyEnsembleClassifier instead.\n",
      "  warnings.warn(msg, category=DeprecationWarning)\n"
     ]
    }
   ],
   "source": [
    "sampling = []\n",
    "# OverSampling Method\n",
    "sampling.append(SMOTE(random_state=0,k_neighbors=5,kind='borderline-1'))\n",
    "sampling.append(SMOTE(random_state=0,k_neighbors=5,kind='borderline-2'))\n",
    "sampling.append(AllKNN(random_state=0))\n",
    "sampling.append(NearMiss(random_state=0,version=1))\n",
    "sampling.append(TomekLinks(random_state=0))\n",
    "sampling.append(SMOTETomek(random_state=0))\n",
    "sampling.append(BalanceCascade(random_state=0))\n",
    "sampling.append(EasyEnsemble(random_state=0))"
   ]
  },
  {
   "cell_type": "markdown",
   "metadata": {},
   "source": [
    "# 다른 imblanced에  최적의 모델 적용"
   ]
  },
  {
   "cell_type": "code",
   "execution_count": 105,
   "metadata": {},
   "outputs": [
    {
     "data": {
      "text/plain": [
       "548538"
      ]
     },
     "execution_count": 105,
     "metadata": {},
     "output_type": "execute_result"
    }
   ],
   "source": [
    "target1 = data[data['target']==1]\n",
    "target0 = data[data['target']==0] # 비율 구하기 위해 사용 \n",
    "len(target0)"
   ]
  },
  {
   "cell_type": "code",
   "execution_count": 106,
   "metadata": {},
   "outputs": [],
   "source": [
    "# target 값이 1일때 전체 데이터에 대한 비율에 맞춰 추출하기 \n",
    "# 용량을 너무 많이 차지해서 한개씩 실행해야 한다. \n",
    "np.random.seed(0) # 난수고정 \n",
    "#target0_001 = target1.iloc[np.random.randint(0,len(target1),size=round((1/999)*len(target0))),:]\n",
    "target0_01 = target1.iloc[np.random.randint(0,len(target1),size=round((1/99)*len(target0))),:]\n",
    "#target0_1 = target1.iloc[np.random.randint(0,len(target1),size=round((1/9)*len(target0)),:]"
   ]
  },
  {
   "cell_type": "code",
   "execution_count": 107,
   "metadata": {},
   "outputs": [],
   "source": [
    "# 데이터 합치기 \n",
    "#data0_001 = pd.concat([target0,target0_001])\n",
    "data0_01 = pd.concat([target0,target0_01])\n",
    "#data_0_1 = pd.concat([target1,target0_1])\n",
    "del target0, target0_01"
   ]
  },
  {
   "cell_type": "code",
   "execution_count": 108,
   "metadata": {},
   "outputs": [],
   "source": [
    "X = data0_01.iloc[:,1:]\n",
    "y = data0_01.iloc[:,0]\n",
    "del data0_01"
   ]
  },
  {
   "cell_type": "code",
   "execution_count": 109,
   "metadata": {},
   "outputs": [],
   "source": [
    "# train data, test data 분할하기. \n",
    "X_train , X_test ,y_train, y_test = train_test_split(X,y,test_size=0.3,random_state=0)\n",
    "roc_auc_1 = []\n",
    "accuracy_1 = []\n",
    "f1_1 = []\n",
    "preci_1 = []\n",
    "recall_1 = []"
   ]
  },
  {
   "cell_type": "code",
   "execution_count": 110,
   "metadata": {},
   "outputs": [],
   "source": [
    "for i in range(len(sampling)):\n",
    "    model = RandomForestClassifier(random_state=0)\n",
    "    X_tra,y_tra = sampling[i].fit_sample(X_train,y_train)\n",
    "    X_tra = X_tra.reshape(-1,29)\n",
    "    y_tra = y_tra.reshape(-1,1)\n",
    "    y_pred = model.fit(X_tra,y_tra).predict(X_test)\n",
    "    y_proba = model.predict_proba(X_test)[:,1]\n",
    "    roc_auc_1.append(roc_auc_score(y_test,y_proba))\n",
    "    accuracy_1.append(accuracy_score(y_test,y_pred))\n",
    "    f1_1.append(f1_score(y_test,y_pred))\n",
    "    preci_1.append(precision_score(y_test,y_pred))\n",
    "    recall_1.append(recall_score(y_test,y_pred))"
   ]
  },
  {
   "cell_type": "code",
   "execution_count": 117,
   "metadata": {},
   "outputs": [
    {
     "data": {
      "text/html": [
       "<div>\n",
       "<style scoped>\n",
       "    .dataframe tbody tr th:only-of-type {\n",
       "        vertical-align: middle;\n",
       "    }\n",
       "\n",
       "    .dataframe tbody tr th {\n",
       "        vertical-align: top;\n",
       "    }\n",
       "\n",
       "    .dataframe thead th {\n",
       "        text-align: right;\n",
       "    }\n",
       "</style>\n",
       "<table border=\"1\" class=\"dataframe\">\n",
       "  <thead>\n",
       "    <tr style=\"text-align: right;\">\n",
       "      <th></th>\n",
       "      <th>modelname</th>\n",
       "      <th>roc_auc</th>\n",
       "      <th>accuracy</th>\n",
       "      <th>f1_score</th>\n",
       "      <th>precision</th>\n",
       "      <th>recall_score</th>\n",
       "    </tr>\n",
       "  </thead>\n",
       "  <tbody>\n",
       "    <tr>\n",
       "      <th>0</th>\n",
       "      <td>SMOTE1</td>\n",
       "      <td>0.568655</td>\n",
       "      <td>0.984563</td>\n",
       "      <td>0.022848</td>\n",
       "      <td>0.030060</td>\n",
       "      <td>0.018428</td>\n",
       "    </tr>\n",
       "    <tr>\n",
       "      <th>1</th>\n",
       "      <td>SMOTE2</td>\n",
       "      <td>0.568655</td>\n",
       "      <td>0.984563</td>\n",
       "      <td>0.022848</td>\n",
       "      <td>0.030060</td>\n",
       "      <td>0.018428</td>\n",
       "    </tr>\n",
       "    <tr>\n",
       "      <th>2</th>\n",
       "      <td>AKNN</td>\n",
       "      <td>0.528562</td>\n",
       "      <td>0.990092</td>\n",
       "      <td>0.013182</td>\n",
       "      <td>0.268293</td>\n",
       "      <td>0.006757</td>\n",
       "    </tr>\n",
       "    <tr>\n",
       "      <th>3</th>\n",
       "      <td>NM1</td>\n",
       "      <td>0.445626</td>\n",
       "      <td>0.072703</td>\n",
       "      <td>0.018392</td>\n",
       "      <td>0.009292</td>\n",
       "      <td>0.886978</td>\n",
       "    </tr>\n",
       "    <tr>\n",
       "      <th>4</th>\n",
       "      <td>TL</td>\n",
       "      <td>0.530440</td>\n",
       "      <td>0.990068</td>\n",
       "      <td>0.009598</td>\n",
       "      <td>0.205128</td>\n",
       "      <td>0.004914</td>\n",
       "    </tr>\n",
       "    <tr>\n",
       "      <th>5</th>\n",
       "      <td>SMOT</td>\n",
       "      <td>0.581430</td>\n",
       "      <td>0.983955</td>\n",
       "      <td>0.026997</td>\n",
       "      <td>0.033243</td>\n",
       "      <td>0.022727</td>\n",
       "    </tr>\n",
       "    <tr>\n",
       "      <th>6</th>\n",
       "      <td>BC</td>\n",
       "      <td>0.530446</td>\n",
       "      <td>0.989977</td>\n",
       "      <td>0.014201</td>\n",
       "      <td>0.193548</td>\n",
       "      <td>0.007371</td>\n",
       "    </tr>\n",
       "    <tr>\n",
       "      <th>7</th>\n",
       "      <td>EE</td>\n",
       "      <td>0.605504</td>\n",
       "      <td>0.977296</td>\n",
       "      <td>0.031314</td>\n",
       "      <td>0.026896</td>\n",
       "      <td>0.037469</td>\n",
       "    </tr>\n",
       "  </tbody>\n",
       "</table>\n",
       "</div>"
      ],
      "text/plain": [
       "  modelname   roc_auc  accuracy  f1_score  precision  recall_score\n",
       "0    SMOTE1  0.568655  0.984563  0.022848   0.030060      0.018428\n",
       "1    SMOTE2  0.568655  0.984563  0.022848   0.030060      0.018428\n",
       "2      AKNN  0.528562  0.990092  0.013182   0.268293      0.006757\n",
       "3       NM1  0.445626  0.072703  0.018392   0.009292      0.886978\n",
       "4        TL  0.530440  0.990068  0.009598   0.205128      0.004914\n",
       "5      SMOT  0.581430  0.983955  0.026997   0.033243      0.022727\n",
       "6        BC  0.530446  0.989977  0.014201   0.193548      0.007371\n",
       "7        EE  0.605504  0.977296  0.031314   0.026896      0.037469"
      ]
     },
     "execution_count": 117,
     "metadata": {},
     "output_type": "execute_result"
    }
   ],
   "source": [
    "df_1 = pd.DataFrame({'modelname':['SMOTE1','SMOTE2','AKNN','NM1','TL','SMOT','BC','EE' ],\n",
    "                  'roc_auc':roc_auc_1,'accuracy':accuracy_1,'f1_score':f1_1,'precision':preci_1,\n",
    "                  'recall_score':recall_1})\n",
    "df_1"
   ]
  },
  {
   "cell_type": "markdown",
   "metadata": {},
   "source": [
    "# 결과 그리기"
   ]
  },
  {
   "cell_type": "code",
   "execution_count": 118,
   "metadata": {},
   "outputs": [
    {
     "data": {
      "image/png": "[encoded data removed]",
      "text/plain": [
       "<Figure size 432x288 with 1 Axes>"
      ]
     },
     "metadata": {},
     "output_type": "display_data"
    }
   ],
   "source": [
    "g = sns.barplot(\"roc_auc\",\"modelname\",data = df_1, palette=\"Set3\",orient = \"h\")\n",
    "g.set_xlabel(\"Roc_Auc_Score\")\n",
    "g = g.set_title(\"Roc_Auc_Score\")"
   ]
  },
  {
   "cell_type": "code",
   "execution_count": 119,
   "metadata": {},
   "outputs": [
    {
     "data": {
      "image/png": "[encoded data removed]",
      "text/plain": [
       "<Figure size 432x288 with 1 Axes>"
      ]
     },
     "metadata": {},
     "output_type": "display_data"
    }
   ],
   "source": [
    "g = sns.barplot(\"accuracy\",\"modelname\",data = df_1, palette=\"Set3\",orient = \"h\")\n",
    "g.set_xlabel(\"Accuracy_Score\")\n",
    "g = g.set_title(\"Accuracy_Score\")"
   ]
  },
  {
   "cell_type": "code",
   "execution_count": 120,
   "metadata": {},
   "outputs": [
    {
     "data": {
      "image/png": "[encoded data removed]",
      "text/plain": [
       "<Figure size 432x288 with 1 Axes>"
      ]
     },
     "metadata": {},
     "output_type": "display_data"
    }
   ],
   "source": [
    "g = sns.barplot(\"f1_score\",\"modelname\",data = df_1, palette=\"Set3\",orient = \"h\")\n",
    "g.set_xlabel(\"F1_Score\")\n",
    "g = g.set_title(\"F1_Score\")"
   ]
  },
  {
   "cell_type": "code",
   "execution_count": 121,
   "metadata": {},
   "outputs": [
    {
     "data": {
      "image/png": "[encoded data removed]",
      "text/plain": [
       "<Figure size 432x288 with 1 Axes>"
      ]
     },
     "metadata": {},
     "output_type": "display_data"
    }
   ],
   "source": [
    "g = sns.barplot(\"precision\",\"modelname\",data = df_1, palette=\"Set3\",orient = \"h\")\n",
    "g.set_xlabel(\"Precision_Score\")\n",
    "g = g.set_title(\"Precision_Score\")"
   ]
  },
  {
   "cell_type": "code",
   "execution_count": 122,
   "metadata": {},
   "outputs": [
    {
     "data": {
      "image/png": "[encoded data removed]",
      "text/plain": [
       "<Figure size 432x288 with 1 Axes>"
      ]
     },
     "metadata": {},
     "output_type": "display_data"
    }
   ],
   "source": [
    "g = sns.barplot(\"recall_score\",\"modelname\",data = df_1, palette=\"Set3\",orient = \"h\")\n",
    "g.set_xlabel(\"Recall_Score\")\n",
    "g = g.set_title(\"Recall_Score\")"
   ]
  },
  {
   "cell_type": "markdown",
   "metadata": {},
   "source": [
    "# 10% Imbalance 데이터 "
   ]
  },
  {
   "cell_type": "code",
   "execution_count": 14,
   "metadata": {},
   "outputs": [
    {
     "data": {
      "text/plain": [
       "548538"
      ]
     },
     "execution_count": 14,
     "metadata": {},
     "output_type": "execute_result"
    }
   ],
   "source": [
    "target1 = data[data['target']==1]\n",
    "target0 = data[data['target']==0] # 비율 구하기 위해 사용 \n",
    "len(target0)"
   ]
  },
  {
   "cell_type": "code",
   "execution_count": 15,
   "metadata": {},
   "outputs": [],
   "source": [
    "# target 값이 1일때 전체 데이터에 대한 비율에 맞춰 추출하기 \n",
    "# 용량을 너무 많이 차지해서 한개씩 실행해야 한다. \n",
    "np.random.seed(0) # 난수고정 \n",
    "#target0_001 = target1.iloc[np.random.randint(0,len(target1),size=round((1/999)*len(target0))),:]\n",
    "#target0_01 = target1.iloc[np.random.randint(0,len(target1),size=round((1/99)*len(target0))),:]\n",
    "target0_1 = target1.iloc[np.random.randint(0,len(target1),size=round((1/9)*len(target0))),:]"
   ]
  },
  {
   "cell_type": "code",
   "execution_count": 16,
   "metadata": {},
   "outputs": [],
   "source": [
    "# 데이터 합치기 \n",
    "#data0_001 = pd.concat([target0,target0_001])\n",
    "#data0_01 = pd.concat([target0,target0_01])\n",
    "data0_10 = pd.concat([target0,target0_1])\n",
    "del target0, target0_1"
   ]
  },
  {
   "cell_type": "code",
   "execution_count": 17,
   "metadata": {},
   "outputs": [],
   "source": [
    "X = data0_10.iloc[:,1:]\n",
    "y = data0_10.iloc[:,0]\n",
    "del data0_10"
   ]
  },
  {
   "cell_type": "code",
   "execution_count": 18,
   "metadata": {},
   "outputs": [
    {
     "data": {
      "text/plain": [
       "609487"
      ]
     },
     "execution_count": 18,
     "metadata": {},
     "output_type": "execute_result"
    }
   ],
   "source": [
    "len(X)"
   ]
  },
  {
   "cell_type": "code",
   "execution_count": 19,
   "metadata": {},
   "outputs": [
    {
     "data": {
      "text/plain": [
       "0    548538\n",
       "1     60949\n",
       "Name: target, dtype: int64"
      ]
     },
     "execution_count": 19,
     "metadata": {},
     "output_type": "execute_result"
    }
   ],
   "source": [
    "y.value_counts()"
   ]
  },
  {
   "cell_type": "code",
   "execution_count": 20,
   "metadata": {},
   "outputs": [],
   "source": [
    "# train data, test data 분할하기. \n",
    "X_train , X_test ,y_train, y_test = train_test_split(X,y,test_size=0.3,random_state=0)\n",
    "roc_auc_10 = []\n",
    "accuracy_10 = []\n",
    "f1_10 = []\n",
    "preci_10 = []\n",
    "recall_10 = []"
   ]
  },
  {
   "cell_type": "code",
   "execution_count": 21,
   "metadata": {},
   "outputs": [
    {
     "name": "stderr",
     "output_type": "stream",
     "text": [
      "C:\\Users\\hyoun\\Anaconda3\\lib\\site-packages\\sklearn\\utils\\deprecation.py:58: DeprecationWarning: Class BalanceCascade is deprecated; BalanceCascade is deprecated in 0.4 and will be removed in 0.6.\n",
      "  warnings.warn(msg, category=DeprecationWarning)\n",
      "C:\\Users\\hyoun\\Anaconda3\\lib\\site-packages\\sklearn\\utils\\deprecation.py:58: DeprecationWarning: Class EasyEnsemble is deprecated; EasyEnsemble is deprecated in 0.4 and will be removed in 0.6. Use EasyEnsembleClassifier instead.\n",
      "  warnings.warn(msg, category=DeprecationWarning)\n"
     ]
    }
   ],
   "source": [
    "sampling = []\n",
    "# OverSampling Method\n",
    "sampling.append(SMOTE(random_state=0,k_neighbors=5,kind='borderline-1'))\n",
    "sampling.append(SMOTE(random_state=0,k_neighbors=5,kind='borderline-2'))\n",
    "sampling.append(AllKNN(random_state=0))\n",
    "sampling.append(NearMiss(random_state=0,version=1))\n",
    "sampling.append(TomekLinks(random_state=0))\n",
    "sampling.append(SMOTETomek(random_state=0))\n",
    "sampling.append(BalanceCascade(random_state=0))\n",
    "sampling.append(EasyEnsemble(random_state=0))"
   ]
  },
  {
   "cell_type": "code",
   "execution_count": 22,
   "metadata": {},
   "outputs": [],
   "source": [
    "for i in range(len(sampling)):\n",
    "    model = RandomForestClassifier(random_state=0)\n",
    "    X_tra,y_tra = sampling[i].fit_sample(X_train,y_train)\n",
    "    X_tra = X_tra.reshape(-1,29)\n",
    "    y_tra = y_tra.reshape(-1,1)\n",
    "    y_pred = model.fit(X_tra,y_tra).predict(X_test)\n",
    "    y_proba = model.predict_proba(X_test)[:,1]\n",
    "    roc_auc_10.append(roc_auc_score(y_test,y_proba))\n",
    "    accuracy_10.append(accuracy_score(y_test,y_pred))\n",
    "    f1_10.append(f1_score(y_test,y_pred))\n",
    "    preci_10.append(precision_score(y_test,y_pred))\n",
    "    recall_10.append(recall_score(y_test,y_pred))"
   ]
  },
  {
   "cell_type": "code",
   "execution_count": 23,
   "metadata": {},
   "outputs": [
    {
     "data": {
      "text/html": [
       "<div>\n",
       "<style scoped>\n",
       "    .dataframe tbody tr th:only-of-type {\n",
       "        vertical-align: middle;\n",
       "    }\n",
       "\n",
       "    .dataframe tbody tr th {\n",
       "        vertical-align: top;\n",
       "    }\n",
       "\n",
       "    .dataframe thead th {\n",
       "        text-align: right;\n",
       "    }\n",
       "</style>\n",
       "<table border=\"1\" class=\"dataframe\">\n",
       "  <thead>\n",
       "    <tr style=\"text-align: right;\">\n",
       "      <th></th>\n",
       "      <th>modelname</th>\n",
       "      <th>roc_auc</th>\n",
       "      <th>accuracy</th>\n",
       "      <th>f1_score</th>\n",
       "      <th>precision</th>\n",
       "      <th>recall_score</th>\n",
       "    </tr>\n",
       "  </thead>\n",
       "  <tbody>\n",
       "    <tr>\n",
       "      <th>0</th>\n",
       "      <td>SMOTE1</td>\n",
       "      <td>0.662649</td>\n",
       "      <td>0.870280</td>\n",
       "      <td>0.227822</td>\n",
       "      <td>0.282976</td>\n",
       "      <td>0.190660</td>\n",
       "    </tr>\n",
       "    <tr>\n",
       "      <th>1</th>\n",
       "      <td>SMOTE2</td>\n",
       "      <td>0.662649</td>\n",
       "      <td>0.870280</td>\n",
       "      <td>0.227822</td>\n",
       "      <td>0.282976</td>\n",
       "      <td>0.190660</td>\n",
       "    </tr>\n",
       "    <tr>\n",
       "      <th>2</th>\n",
       "      <td>AKNN</td>\n",
       "      <td>0.659781</td>\n",
       "      <td>0.881043</td>\n",
       "      <td>0.208277</td>\n",
       "      <td>0.313672</td>\n",
       "      <td>0.155896</td>\n",
       "    </tr>\n",
       "    <tr>\n",
       "      <th>3</th>\n",
       "      <td>NM1</td>\n",
       "      <td>0.447809</td>\n",
       "      <td>0.256329</td>\n",
       "      <td>0.164467</td>\n",
       "      <td>0.092685</td>\n",
       "      <td>0.729239</td>\n",
       "    </tr>\n",
       "    <tr>\n",
       "      <th>4</th>\n",
       "      <td>TL</td>\n",
       "      <td>0.646405</td>\n",
       "      <td>0.898587</td>\n",
       "      <td>0.147017</td>\n",
       "      <td>0.471804</td>\n",
       "      <td>0.087075</td>\n",
       "    </tr>\n",
       "    <tr>\n",
       "      <th>5</th>\n",
       "      <td>SMOT</td>\n",
       "      <td>0.661304</td>\n",
       "      <td>0.866506</td>\n",
       "      <td>0.224890</td>\n",
       "      <td>0.269503</td>\n",
       "      <td>0.192949</td>\n",
       "    </tr>\n",
       "    <tr>\n",
       "      <th>6</th>\n",
       "      <td>BC</td>\n",
       "      <td>0.648805</td>\n",
       "      <td>0.899140</td>\n",
       "      <td>0.168230</td>\n",
       "      <td>0.488220</td>\n",
       "      <td>0.101624</td>\n",
       "    </tr>\n",
       "    <tr>\n",
       "      <th>7</th>\n",
       "      <td>EE</td>\n",
       "      <td>0.653333</td>\n",
       "      <td>0.888213</td>\n",
       "      <td>0.201438</td>\n",
       "      <td>0.355881</td>\n",
       "      <td>0.140475</td>\n",
       "    </tr>\n",
       "  </tbody>\n",
       "</table>\n",
       "</div>"
      ],
      "text/plain": [
       "  modelname   roc_auc  accuracy  f1_score  precision  recall_score\n",
       "0    SMOTE1  0.662649  0.870280  0.227822   0.282976      0.190660\n",
       "1    SMOTE2  0.662649  0.870280  0.227822   0.282976      0.190660\n",
       "2      AKNN  0.659781  0.881043  0.208277   0.313672      0.155896\n",
       "3       NM1  0.447809  0.256329  0.164467   0.092685      0.729239\n",
       "4        TL  0.646405  0.898587  0.147017   0.471804      0.087075\n",
       "5      SMOT  0.661304  0.866506  0.224890   0.269503      0.192949\n",
       "6        BC  0.648805  0.899140  0.168230   0.488220      0.101624\n",
       "7        EE  0.653333  0.888213  0.201438   0.355881      0.140475"
      ]
     },
     "execution_count": 23,
     "metadata": {},
     "output_type": "execute_result"
    }
   ],
   "source": [
    "df_10 = pd.DataFrame({'modelname':['SMOTE1','SMOTE2','AKNN','NM1','TL','SMOT','BC','EE' ],\n",
    "                  'roc_auc':roc_auc_10,'accuracy':accuracy_10,'f1_score':f1_10,'precision':preci_10,\n",
    "                  'recall_score':recall_10})\n",
    "df_10"
   ]
  },
  {
   "cell_type": "markdown",
   "metadata": {},
   "source": [
    "# 결과 그리기"
   ]
  },
  {
   "cell_type": "code",
   "execution_count": 24,
   "metadata": {},
   "outputs": [
    {
     "data": {
      "image/png": "[encoded data removed]",
      "text/plain": [
       "<Figure size 432x288 with 1 Axes>"
      ]
     },
     "metadata": {},
     "output_type": "display_data"
    }
   ],
   "source": [
    "g = sns.barplot(\"roc_auc\",\"modelname\",data = df_10, palette=\"Set3\",orient = \"h\")\n",
    "g.set_xlabel(\"Roc_Auc_Score\")\n",
    "g = g.set_title(\"Roc_Auc_Score\")"
   ]
  },
  {
   "cell_type": "code",
   "execution_count": 25,
   "metadata": {},
   "outputs": [
    {
     "data": {
      "image/png": "[encoded data removed]",
      "text/plain": [
       "<Figure size 432x288 with 1 Axes>"
      ]
     },
     "metadata": {},
     "output_type": "display_data"
    }
   ],
   "source": [
    "g = sns.barplot(\"accuracy\",\"modelname\",data = df_10, palette=\"Set3\",orient = \"h\")\n",
    "g.set_xlabel(\"Accuracy_Score\")\n",
    "g = g.set_title(\"Accuracy_Score\")"
   ]
  },
  {
   "cell_type": "code",
   "execution_count": 26,
   "metadata": {},
   "outputs": [
    {
     "data": {
      "image/png": "[encoded data removed]",
      "text/plain": [
       "<Figure size 432x288 with 1 Axes>"
      ]
     },
     "metadata": {},
     "output_type": "display_data"
    }
   ],
   "source": [
    "g = sns.barplot(\"f1_score\",\"modelname\",data = df_10, palette=\"Set3\",orient = \"h\")\n",
    "g.set_xlabel(\"F1_Score\")\n",
    "g = g.set_title(\"F1_Score\")"
   ]
  },
  {
   "cell_type": "code",
   "execution_count": 27,
   "metadata": {},
   "outputs": [
    {
     "data": {
      "image/png": "[encoded data removed]",
      "text/plain": [
       "<Figure size 432x288 with 1 Axes>"
      ]
     },
     "metadata": {},
     "output_type": "display_data"
    }
   ],
   "source": [
    "g = sns.barplot(\"precision\",\"modelname\",data = df_10, palette=\"Set3\",orient = \"h\")\n",
    "g.set_xlabel(\"Precision_Score\")\n",
    "g = g.set_title(\"Precision_Score\")"
   ]
  },
  {
   "cell_type": "code",
   "execution_count": 28,
   "metadata": {
    "scrolled": false
   },
   "outputs": [
    {
     "data": {
      "image/png": "[encoded data removed]",
      "text/plain": [
       "<Figure size 432x288 with 1 Axes>"
      ]
     },
     "metadata": {},
     "output_type": "display_data"
    }
   ],
   "source": [
    "g = sns.barplot(\"recall_score\",\"modelname\",data = df_10, palette=\"Set3\",orient = \"h\")\n",
    "g.set_xlabel(\"Recall_Score\")\n",
    "g = g.set_title(\"Recall_Score\")"
   ]
  },
  {
   "cell_type": "markdown",
   "metadata": {},
   "source": [
    "# 최고의 선정 모델 뽑기"
   ]
  },
  {
   "cell_type": "code",
   "execution_count": null,
   "metadata": {},
   "outputs": [],
   "source": [
    "# 최적 모델 선정하기 \n",
    "## 데이터를 분석하는 목적이 Recall을 줄이기 위한게 주 목적이다 -> Near Miss version1 을 이용하자.\n",
    "## 데이터를 분석하는 목적이 Precision을 줄이기 위한것이 주 목적이다 -> AKNN을 이용하자. \n",
    "## 데이터를 분석할 때 F1_Score를 가지고 평가하는게 주 목적이다 -> Easy Eansanble을 이용하자. "
   ]
  },
  {
   "cell_type": "markdown",
   "metadata": {},
   "source": [
    "# 최고의 모델 ratio 바꿔가면서 진행"
   ]
  },
  {
   "cell_type": "markdown",
   "metadata": {},
   "source": [
    "### 가장 성능이 잘나온 imblanced 데이터의 비율과 모델을 가지고 ratio를 변경하면서 시행"
   ]
  },
  {
   "cell_type": "code",
   "execution_count": 29,
   "metadata": {
    "scrolled": true
   },
   "outputs": [
    {
     "name": "stderr",
     "output_type": "stream",
     "text": [
      "C:\\Users\\hyoun\\Anaconda3\\lib\\site-packages\\sklearn\\utils\\deprecation.py:58: DeprecationWarning: Class BalanceCascade is deprecated; BalanceCascade is deprecated in 0.4 and will be removed in 0.6.\n",
      "  warnings.warn(msg, category=DeprecationWarning)\n",
      "C:\\Users\\hyoun\\Anaconda3\\lib\\site-packages\\sklearn\\utils\\deprecation.py:58: DeprecationWarning: Class EasyEnsemble is deprecated; EasyEnsemble is deprecated in 0.4 and will be removed in 0.6. Use EasyEnsembleClassifier instead.\n",
      "  warnings.warn(msg, category=DeprecationWarning)\n"
     ]
    }
   ],
   "source": [
    "sampling = []\n",
    "# OverSampling Method\n",
    "sampling.append(SMOTE(random_state=0,k_neighbors=5,kind='borderline1'))\n",
    "sampling.append(SMOTE(random_state=0,k_neighbors=5,kind='borderline2'))\n",
    "sampling.append(AllKNN(random_state=0))\n",
    "sampling.append(NearMiss(random_state=0,version=1))\n",
    "sampling.append(TomekLinks(random_state=0))\n",
    "sampling.append(SMOTETomek(random_state=0))\n",
    "sampling.append(BalanceCascade(random_state=0))\n",
    "sampling.append(EasyEnsemble(random_state=0))"
   ]
  },
  {
   "cell_type": "markdown",
   "metadata": {},
   "source": [
    "# 20% Imbalance 데이터 "
   ]
  },
  {
   "cell_type": "code",
   "execution_count": 30,
   "metadata": {},
   "outputs": [
    {
     "data": {
      "text/plain": [
       "548538"
      ]
     },
     "execution_count": 30,
     "metadata": {},
     "output_type": "execute_result"
    }
   ],
   "source": [
    "target1 = data[data['target']==1]\n",
    "target0 = data[data['target']==0] # 비율 구하기 위해 사용 \n",
    "len(target0)"
   ]
  },
  {
   "cell_type": "code",
   "execution_count": 31,
   "metadata": {},
   "outputs": [],
   "source": [
    "# target 값이 1일때 전체 데이터에 대한 비율에 맞춰 추출하기 \n",
    "# 용량을 너무 많이 차지해서 한개씩 실행해야 한다. \n",
    "np.random.seed(0) # 난수고정 \n",
    "#target0_001 = target1.iloc[np.random.randint(0,len(target1),size=round((1/999)*len(target0))),:]\n",
    "#target0_01 = target1.iloc[np.random.randint(0,len(target1),size=round((1/99)*len(target0))),:]\n",
    "target0_1 = target1.iloc[np.random.randint(0,len(target1),size=round((1/4)*len(target0))),:]"
   ]
  },
  {
   "cell_type": "code",
   "execution_count": 32,
   "metadata": {},
   "outputs": [],
   "source": [
    "# 데이터 합치기 \n",
    "#data0_001 = pd.concat([target0,target0_001])\n",
    "#data0_01 = pd.concat([target0,target0_01])\n",
    "data0_10 = pd.concat([target0,target0_1])\n",
    "del target0, target0_1"
   ]
  },
  {
   "cell_type": "code",
   "execution_count": 33,
   "metadata": {},
   "outputs": [],
   "source": [
    "X = data0_10.iloc[:,1:]\n",
    "y = data0_10.iloc[:,0]\n",
    "del data0_10"
   ]
  },
  {
   "cell_type": "code",
   "execution_count": 34,
   "metadata": {},
   "outputs": [
    {
     "data": {
      "text/plain": [
       "685672"
      ]
     },
     "execution_count": 34,
     "metadata": {},
     "output_type": "execute_result"
    }
   ],
   "source": [
    "len(X)"
   ]
  },
  {
   "cell_type": "code",
   "execution_count": 35,
   "metadata": {},
   "outputs": [
    {
     "data": {
      "text/plain": [
       "0    548538\n",
       "1    137134\n",
       "Name: target, dtype: int64"
      ]
     },
     "execution_count": 35,
     "metadata": {},
     "output_type": "execute_result"
    }
   ],
   "source": [
    "y.value_counts()"
   ]
  },
  {
   "cell_type": "code",
   "execution_count": 36,
   "metadata": {},
   "outputs": [],
   "source": [
    "# train data, test data 분할하기. \n",
    "X_train , X_test ,y_train, y_test = train_test_split(X,y,test_size=0.3,random_state=0)\n",
    "roc_auc_20 = []\n",
    "accuracy_20 = []\n",
    "f1_20 = []\n",
    "preci_20 = []\n",
    "recall_20 = []"
   ]
  },
  {
   "cell_type": "code",
   "execution_count": 37,
   "metadata": {},
   "outputs": [],
   "source": [
    "for i in range(len(sampling)):\n",
    "    model = RandomForestClassifier(random_state=0)\n",
    "    X_tra,y_tra = sampling[i].fit_sample(X_train,y_train)\n",
    "    X_tra = X_tra.reshape(-1,29)\n",
    "    y_tra = y_tra.reshape(-1,1)\n",
    "    y_pred = model.fit(X_tra,y_tra).predict(X_test)\n",
    "    y_proba = model.predict_proba(X_test)[:,1]\n",
    "    roc_auc_20.append(roc_auc_score(y_test,y_proba))\n",
    "    accuracy_20.append(accuracy_score(y_test,y_pred))\n",
    "    f1_20.append(f1_score(y_test,y_pred))\n",
    "    preci_20.append(precision_score(y_test,y_pred))\n",
    "    recall_20.append(recall_score(y_test,y_pred))"
   ]
  },
  {
   "cell_type": "code",
   "execution_count": 38,
   "metadata": {},
   "outputs": [
    {
     "data": {
      "text/html": [
       "<div>\n",
       "<style scoped>\n",
       "    .dataframe tbody tr th:only-of-type {\n",
       "        vertical-align: middle;\n",
       "    }\n",
       "\n",
       "    .dataframe tbody tr th {\n",
       "        vertical-align: top;\n",
       "    }\n",
       "\n",
       "    .dataframe thead th {\n",
       "        text-align: right;\n",
       "    }\n",
       "</style>\n",
       "<table border=\"1\" class=\"dataframe\">\n",
       "  <thead>\n",
       "    <tr style=\"text-align: right;\">\n",
       "      <th></th>\n",
       "      <th>modelname</th>\n",
       "      <th>roc_auc</th>\n",
       "      <th>accuracy</th>\n",
       "      <th>f1_score</th>\n",
       "      <th>precision</th>\n",
       "      <th>recall_score</th>\n",
       "    </tr>\n",
       "  </thead>\n",
       "  <tbody>\n",
       "    <tr>\n",
       "      <th>0</th>\n",
       "      <td>SMOTE1</td>\n",
       "      <td>0.708295</td>\n",
       "      <td>0.792953</td>\n",
       "      <td>0.399870</td>\n",
       "      <td>0.471724</td>\n",
       "      <td>0.347013</td>\n",
       "    </tr>\n",
       "    <tr>\n",
       "      <th>1</th>\n",
       "      <td>SMOTE2</td>\n",
       "      <td>0.708295</td>\n",
       "      <td>0.792953</td>\n",
       "      <td>0.399870</td>\n",
       "      <td>0.471724</td>\n",
       "      <td>0.347013</td>\n",
       "    </tr>\n",
       "    <tr>\n",
       "      <th>2</th>\n",
       "      <td>AKNN</td>\n",
       "      <td>0.703853</td>\n",
       "      <td>0.736391</td>\n",
       "      <td>0.423610</td>\n",
       "      <td>0.374633</td>\n",
       "      <td>0.487319</td>\n",
       "    </tr>\n",
       "    <tr>\n",
       "      <th>3</th>\n",
       "      <td>NM1</td>\n",
       "      <td>0.484298</td>\n",
       "      <td>0.392617</td>\n",
       "      <td>0.305843</td>\n",
       "      <td>0.197873</td>\n",
       "      <td>0.673139</td>\n",
       "    </tr>\n",
       "    <tr>\n",
       "      <th>4</th>\n",
       "      <td>TL</td>\n",
       "      <td>0.700552</td>\n",
       "      <td>0.811446</td>\n",
       "      <td>0.349708</td>\n",
       "      <td>0.556065</td>\n",
       "      <td>0.255056</td>\n",
       "    </tr>\n",
       "    <tr>\n",
       "      <th>5</th>\n",
       "      <td>SMOT</td>\n",
       "      <td>0.700610</td>\n",
       "      <td>0.786565</td>\n",
       "      <td>0.383596</td>\n",
       "      <td>0.450308</td>\n",
       "      <td>0.334100</td>\n",
       "    </tr>\n",
       "    <tr>\n",
       "      <th>6</th>\n",
       "      <td>BC</td>\n",
       "      <td>0.708425</td>\n",
       "      <td>0.814387</td>\n",
       "      <td>0.370626</td>\n",
       "      <td>0.568467</td>\n",
       "      <td>0.274939</td>\n",
       "    </tr>\n",
       "    <tr>\n",
       "      <th>7</th>\n",
       "      <td>EE</td>\n",
       "      <td>0.703368</td>\n",
       "      <td>0.814800</td>\n",
       "      <td>0.367008</td>\n",
       "      <td>0.572376</td>\n",
       "      <td>0.270097</td>\n",
       "    </tr>\n",
       "  </tbody>\n",
       "</table>\n",
       "</div>"
      ],
      "text/plain": [
       "  modelname   roc_auc  accuracy  f1_score  precision  recall_score\n",
       "0    SMOTE1  0.708295  0.792953  0.399870   0.471724      0.347013\n",
       "1    SMOTE2  0.708295  0.792953  0.399870   0.471724      0.347013\n",
       "2      AKNN  0.703853  0.736391  0.423610   0.374633      0.487319\n",
       "3       NM1  0.484298  0.392617  0.305843   0.197873      0.673139\n",
       "4        TL  0.700552  0.811446  0.349708   0.556065      0.255056\n",
       "5      SMOT  0.700610  0.786565  0.383596   0.450308      0.334100\n",
       "6        BC  0.708425  0.814387  0.370626   0.568467      0.274939\n",
       "7        EE  0.703368  0.814800  0.367008   0.572376      0.270097"
      ]
     },
     "execution_count": 38,
     "metadata": {},
     "output_type": "execute_result"
    }
   ],
   "source": [
    "df_20 = pd.DataFrame({'modelname':['SMOTE1','SMOTE2','AKNN','NM1','TL','SMOT','BC','EE' ],\n",
    "                  'roc_auc':roc_auc_20,'accuracy':accuracy_20,'f1_score':f1_20,'precision':preci_20,\n",
    "                  'recall_score':recall_20})\n",
    "df_20"
   ]
  },
  {
   "cell_type": "code",
   "execution_count": 39,
   "metadata": {},
   "outputs": [
    {
     "data": {
      "image/png": "[encoded data removed]",
      "text/plain": [
       "<Figure size 432x288 with 1 Axes>"
      ]
     },
     "metadata": {},
     "output_type": "display_data"
    }
   ],
   "source": [
    "g = sns.barplot(\"roc_auc\",\"modelname\",data = df_20, palette=\"Set3\",orient = \"h\")\n",
    "g.set_xlabel(\"Roc_Auc_Score\")\n",
    "g = g.set_title(\"Roc_Auc_Score\")"
   ]
  },
  {
   "cell_type": "code",
   "execution_count": 40,
   "metadata": {},
   "outputs": [
    {
     "data": {
      "image/png": "[encoded data removed]",
      "text/plain": [
       "<Figure size 432x288 with 1 Axes>"
      ]
     },
     "metadata": {},
     "output_type": "display_data"
    }
   ],
   "source": [
    "g = sns.barplot(\"accuracy\",\"modelname\",data = df_20, palette=\"Set3\",orient = \"h\")\n",
    "g.set_xlabel(\"Accuracy_Score\")\n",
    "g = g.set_title(\"Accuracy_Score\")"
   ]
  },
  {
   "cell_type": "code",
   "execution_count": 41,
   "metadata": {},
   "outputs": [
    {
     "data": {
      "image/png": "[encoded data removed]",
      "text/plain": [
       "<Figure size 432x288 with 1 Axes>"
      ]
     },
     "metadata": {},
     "output_type": "display_data"
    }
   ],
   "source": [
    "g = sns.barplot(\"f1_score\",\"modelname\",data = df_20, palette=\"Set3\",orient = \"h\")\n",
    "g.set_xlabel(\"F1_Score\")\n",
    "g = g.set_title(\"F1_Score\")"
   ]
  },
  {
   "cell_type": "code",
   "execution_count": 42,
   "metadata": {},
   "outputs": [
    {
     "data": {
      "image/png": "[encoded data removed]",
      "text/plain": [
       "<Figure size 432x288 with 1 Axes>"
      ]
     },
     "metadata": {},
     "output_type": "display_data"
    }
   ],
   "source": [
    "g = sns.barplot(\"precision\",\"modelname\",data = df_20, palette=\"Set3\",orient = \"h\")\n",
    "g.set_xlabel(\"Precision_Score\")\n",
    "g = g.set_title(\"Precision_Score\")"
   ]
  },
  {
   "cell_type": "code",
   "execution_count": 43,
   "metadata": {
    "scrolled": true
   },
   "outputs": [
    {
     "data": {
      "image/png": "[encoded data removed]",
      "text/plain": [
       "<Figure size 432x288 with 1 Axes>"
      ]
     },
     "metadata": {},
     "output_type": "display_data"
    }
   ],
   "source": [
    "g = sns.barplot(\"recall_score\",\"modelname\",data = df_20, palette=\"Set3\",orient = \"h\")\n",
    "g.set_xlabel(\"Recall_Score\")\n",
    "g = g.set_title(\"Recall_Score\")"
   ]
  },
  {
   "cell_type": "markdown",
   "metadata": {},
   "source": [
    "# 30% Imbalance 데이터 "
   ]
  },
  {
   "cell_type": "code",
   "execution_count": 68,
   "metadata": {},
   "outputs": [
    {
     "name": "stderr",
     "output_type": "stream",
     "text": [
      "C:\\Users\\hyoun\\Anaconda3\\lib\\site-packages\\sklearn\\utils\\deprecation.py:58: DeprecationWarning: Class BalanceCascade is deprecated; BalanceCascade is deprecated in 0.4 and will be removed in 0.6.\n",
      "  warnings.warn(msg, category=DeprecationWarning)\n",
      "C:\\Users\\hyoun\\Anaconda3\\lib\\site-packages\\sklearn\\utils\\deprecation.py:58: DeprecationWarning: Class EasyEnsemble is deprecated; EasyEnsemble is deprecated in 0.4 and will be removed in 0.6. Use EasyEnsembleClassifier instead.\n",
      "  warnings.warn(msg, category=DeprecationWarning)\n"
     ]
    }
   ],
   "source": [
    "sampling = []\n",
    "# OverSampling Method\n",
    "sampling.append(SMOTE(random_state=0,k_neighbors=5,kind='borderline1'))\n",
    "sampling.append(SMOTE(random_state=0,k_neighbors=5,kind='borderline2'))\n",
    "sampling.append(AllKNN(random_state=0))\n",
    "sampling.append(NearMiss(random_state=0,version=1))\n",
    "sampling.append(TomekLinks(random_state=0))\n",
    "sampling.append(SMOTETomek(random_state=0))\n",
    "sampling.append(BalanceCascade(random_state=0))\n",
    "sampling.append(EasyEnsemble(random_state=0))"
   ]
  },
  {
   "cell_type": "code",
   "execution_count": 69,
   "metadata": {},
   "outputs": [
    {
     "data": {
      "text/plain": [
       "548538"
      ]
     },
     "execution_count": 69,
     "metadata": {},
     "output_type": "execute_result"
    }
   ],
   "source": [
    "target1 = data[data['target']==1]\n",
    "target0 = data[data['target']==0] # 비율 구하기 위해 사용 \n",
    "len(target0)"
   ]
  },
  {
   "cell_type": "code",
   "execution_count": 70,
   "metadata": {},
   "outputs": [],
   "source": [
    "# target 값이 1일때 전체 데이터에 대한 비율에 맞춰 추출하기 \n",
    "# 용량을 너무 많이 차지해서 한개씩 실행해야 한다. \n",
    "np.random.seed(0) # 난수고정 \n",
    "#target0_001 = target1.iloc[np.random.randint(0,len(target1),size=round((1/999)*len(target0))),:]\n",
    "#target0_01 = target1.iloc[np.random.randint(0,len(target1),size=round((1/99)*len(target0))),:]\n",
    "target0_1 = target1.iloc[np.random.randint(0,len(target1),size=round((1/3)*len(target0))),:]"
   ]
  },
  {
   "cell_type": "code",
   "execution_count": 71,
   "metadata": {},
   "outputs": [],
   "source": [
    "# 데이터 합치기 \n",
    "#data0_001 = pd.concat([target0,target0_001])\n",
    "#data0_01 = pd.concat([target0,target0_01])\n",
    "data0_10 = pd.concat([target0,target0_1])\n",
    "del target0, target0_1"
   ]
  },
  {
   "cell_type": "code",
   "execution_count": 72,
   "metadata": {},
   "outputs": [],
   "source": [
    "X = data0_10.iloc[:,1:]\n",
    "y = data0_10.iloc[:,0]\n",
    "del data0_10"
   ]
  },
  {
   "cell_type": "code",
   "execution_count": 73,
   "metadata": {},
   "outputs": [
    {
     "data": {
      "text/plain": [
       "731384"
      ]
     },
     "execution_count": 73,
     "metadata": {},
     "output_type": "execute_result"
    }
   ],
   "source": [
    "len(X)"
   ]
  },
  {
   "cell_type": "code",
   "execution_count": 74,
   "metadata": {},
   "outputs": [
    {
     "data": {
      "text/plain": [
       "0    548538\n",
       "1    182846\n",
       "Name: target, dtype: int64"
      ]
     },
     "execution_count": 74,
     "metadata": {},
     "output_type": "execute_result"
    }
   ],
   "source": [
    "y.value_counts()"
   ]
  },
  {
   "cell_type": "code",
   "execution_count": 75,
   "metadata": {},
   "outputs": [],
   "source": [
    "# train data, test data 분할하기. \n",
    "X_train , X_test ,y_train, y_test = train_test_split(X,y,test_size=0.3,random_state=0)\n",
    "roc_auc_30 = []\n",
    "accuracy_30 = []\n",
    "f1_30 = []\n",
    "preci_30 = []\n",
    "recall_30 = []"
   ]
  },
  {
   "cell_type": "code",
   "execution_count": 76,
   "metadata": {},
   "outputs": [],
   "source": [
    "for i in range(len(sampling)):\n",
    "    model = RandomForestClassifier(random_state=0)\n",
    "    X_tra,y_tra = sampling[i].fit_sample(X_train,y_train)\n",
    "    X_tra = X_tra.reshape(-1,29)\n",
    "    y_tra = y_tra.reshape(-1,1)\n",
    "    y_pred = model.fit(X_tra,y_tra).predict(X_test)\n",
    "    y_proba = model.predict_proba(X_test)[:,1]\n",
    "    roc_auc_30.append(roc_auc_score(y_test,y_proba))\n",
    "    accuracy_30.append(accuracy_score(y_test,y_pred))\n",
    "    f1_30.append(f1_score(y_test,y_pred))\n",
    "    preci_30.append(precision_score(y_test,y_pred))\n",
    "    recall_30.append(recall_score(y_test,y_pred))"
   ]
  },
  {
   "cell_type": "code",
   "execution_count": 77,
   "metadata": {},
   "outputs": [
    {
     "data": {
      "text/html": [
       "<div>\n",
       "<style scoped>\n",
       "    .dataframe tbody tr th:only-of-type {\n",
       "        vertical-align: middle;\n",
       "    }\n",
       "\n",
       "    .dataframe tbody tr th {\n",
       "        vertical-align: top;\n",
       "    }\n",
       "\n",
       "    .dataframe thead th {\n",
       "        text-align: right;\n",
       "    }\n",
       "</style>\n",
       "<table border=\"1\" class=\"dataframe\">\n",
       "  <thead>\n",
       "    <tr style=\"text-align: right;\">\n",
       "      <th></th>\n",
       "      <th>modelname</th>\n",
       "      <th>roc_auc</th>\n",
       "      <th>accuracy</th>\n",
       "      <th>f1_score</th>\n",
       "      <th>precision</th>\n",
       "      <th>recall_score</th>\n",
       "    </tr>\n",
       "  </thead>\n",
       "  <tbody>\n",
       "    <tr>\n",
       "      <th>0</th>\n",
       "      <td>SMOTE1</td>\n",
       "      <td>0.728051</td>\n",
       "      <td>0.764420</td>\n",
       "      <td>0.470270</td>\n",
       "      <td>0.537079</td>\n",
       "      <td>0.418243</td>\n",
       "    </tr>\n",
       "    <tr>\n",
       "      <th>1</th>\n",
       "      <td>SMOTE2</td>\n",
       "      <td>0.720368</td>\n",
       "      <td>0.762087</td>\n",
       "      <td>0.462832</td>\n",
       "      <td>0.531378</td>\n",
       "      <td>0.409949</td>\n",
       "    </tr>\n",
       "    <tr>\n",
       "      <th>2</th>\n",
       "      <td>AKNN</td>\n",
       "      <td>0.714264</td>\n",
       "      <td>0.672563</td>\n",
       "      <td>0.493454</td>\n",
       "      <td>0.402346</td>\n",
       "      <td>0.637901</td>\n",
       "    </tr>\n",
       "    <tr>\n",
       "      <th>3</th>\n",
       "      <td>NM1</td>\n",
       "      <td>0.516405</td>\n",
       "      <td>0.454671</td>\n",
       "      <td>0.379085</td>\n",
       "      <td>0.264973</td>\n",
       "      <td>0.665828</td>\n",
       "    </tr>\n",
       "    <tr>\n",
       "      <th>4</th>\n",
       "      <td>TL</td>\n",
       "      <td>0.720853</td>\n",
       "      <td>0.774998</td>\n",
       "      <td>0.437486</td>\n",
       "      <td>0.583402</td>\n",
       "      <td>0.349958</td>\n",
       "    </tr>\n",
       "    <tr>\n",
       "      <th>5</th>\n",
       "      <td>SMOT</td>\n",
       "      <td>0.721647</td>\n",
       "      <td>0.760359</td>\n",
       "      <td>0.457777</td>\n",
       "      <td>0.527033</td>\n",
       "      <td>0.404608</td>\n",
       "    </tr>\n",
       "    <tr>\n",
       "      <th>6</th>\n",
       "      <td>BC</td>\n",
       "      <td>0.727771</td>\n",
       "      <td>0.778877</td>\n",
       "      <td>0.455295</td>\n",
       "      <td>0.592652</td>\n",
       "      <td>0.369627</td>\n",
       "    </tr>\n",
       "    <tr>\n",
       "      <th>7</th>\n",
       "      <td>EE</td>\n",
       "      <td>0.724736</td>\n",
       "      <td>0.784874</td>\n",
       "      <td>0.443714</td>\n",
       "      <td>0.627626</td>\n",
       "      <td>0.343159</td>\n",
       "    </tr>\n",
       "  </tbody>\n",
       "</table>\n",
       "</div>"
      ],
      "text/plain": [
       "  modelname   roc_auc  accuracy  f1_score  precision  recall_score\n",
       "0    SMOTE1  0.728051  0.764420  0.470270   0.537079      0.418243\n",
       "1    SMOTE2  0.720368  0.762087  0.462832   0.531378      0.409949\n",
       "2      AKNN  0.714264  0.672563  0.493454   0.402346      0.637901\n",
       "3       NM1  0.516405  0.454671  0.379085   0.264973      0.665828\n",
       "4        TL  0.720853  0.774998  0.437486   0.583402      0.349958\n",
       "5      SMOT  0.721647  0.760359  0.457777   0.527033      0.404608\n",
       "6        BC  0.727771  0.778877  0.455295   0.592652      0.369627\n",
       "7        EE  0.724736  0.784874  0.443714   0.627626      0.343159"
      ]
     },
     "execution_count": 77,
     "metadata": {},
     "output_type": "execute_result"
    }
   ],
   "source": [
    "df_30 = pd.DataFrame({'modelname':['SMOTE1','SMOTE2','AKNN','NM1','TL','SMOT','BC','EE' ],\n",
    "                  'roc_auc':roc_auc_30,'accuracy':accuracy_30,'f1_score':f1_30,'precision':preci_30,\n",
    "                  'recall_score':recall_30})\n",
    "df_30"
   ]
  },
  {
   "cell_type": "code",
   "execution_count": 63,
   "metadata": {},
   "outputs": [
    {
     "data": {
      "image/png": "[encoded data removed]",
      "text/plain": [
       "<Figure size 432x288 with 1 Axes>"
      ]
     },
     "metadata": {},
     "output_type": "display_data"
    }
   ],
   "source": [
    "g = sns.barplot(\"roc_auc\",\"modelname\",data = df_30, palette=\"Set3\",orient = \"h\")\n",
    "g.set_xlabel(\"Roc_Auc_Score\")\n",
    "g = g.set_title(\"Roc_Auc_Score\")"
   ]
  },
  {
   "cell_type": "code",
   "execution_count": 64,
   "metadata": {},
   "outputs": [
    {
     "data": {
      "image/png": "[encoded data removed]",
      "text/plain": [
       "<Figure size 432x288 with 1 Axes>"
      ]
     },
     "metadata": {},
     "output_type": "display_data"
    }
   ],
   "source": [
    "g = sns.barplot(\"accuracy\",\"modelname\",data = df_30, palette=\"Set3\",orient = \"h\")\n",
    "g.set_xlabel(\"Accuracy_Score\")\n",
    "g = g.set_title(\"Accuracy_Score\")"
   ]
  },
  {
   "cell_type": "code",
   "execution_count": 65,
   "metadata": {},
   "outputs": [
    {
     "data": {
      "image/png": "[encoded data removed]",
      "text/plain": [
       "<Figure size 432x288 with 1 Axes>"
      ]
     },
     "metadata": {},
     "output_type": "display_data"
    }
   ],
   "source": [
    "g = sns.barplot(\"f1_score\",\"modelname\",data = df_30, palette=\"Set3\",orient = \"h\")\n",
    "g.set_xlabel(\"F1_Score\")\n",
    "g = g.set_title(\"F1_Score\")"
   ]
  },
  {
   "cell_type": "code",
   "execution_count": 66,
   "metadata": {},
   "outputs": [
    {
     "data": {
      "image/png": "[encoded data removed]",
      "text/plain": [
       "<Figure size 432x288 with 1 Axes>"
      ]
     },
     "metadata": {},
     "output_type": "display_data"
    }
   ],
   "source": [
    "g = sns.barplot(\"precision\",\"modelname\",data = df_30, palette=\"Set3\",orient = \"h\")\n",
    "g.set_xlabel(\"Precision_Score\")\n",
    "g = g.set_title(\"Precision_Score\")"
   ]
  },
  {
   "cell_type": "code",
   "execution_count": 67,
   "metadata": {
    "scrolled": true
   },
   "outputs": [
    {
     "data": {
      "image/png": "[encoded data removed]",
      "text/plain": [
       "<Figure size 432x288 with 1 Axes>"
      ]
     },
     "metadata": {},
     "output_type": "display_data"
    }
   ],
   "source": [
    "g = sns.barplot(\"recall_score\",\"modelname\",data = df_30, palette=\"Set3\",orient = \"h\")\n",
    "g.set_xlabel(\"Recall_Score\")\n",
    "g = g.set_title(\"Recall_Score\")"
   ]
  },
  {
   "cell_type": "code",
   "execution_count": null,
   "metadata": {},
   "outputs": [],
   "source": []
  },
  {
   "cell_type": "code",
   "execution_count": null,
   "metadata": {},
   "outputs": [],
   "source": []
  },
  {
   "cell_type": "code",
   "execution_count": null,
   "metadata": {},
   "outputs": [],
   "source": []
  },
  {
   "cell_type": "code",
   "execution_count": null,
   "metadata": {},
   "outputs": [],
   "source": []
  },
  {
   "cell_type": "code",
   "execution_count": null,
   "metadata": {},
   "outputs": [],
   "source": []
  },
  {
   "cell_type": "code",
   "execution_count": null,
   "metadata": {},
   "outputs": [],
   "source": []
  },
  {
   "cell_type": "code",
   "execution_count": null,
   "metadata": {},
   "outputs": [],
   "source": []
  },
  {
   "cell_type": "code",
   "execution_count": null,
   "metadata": {},
   "outputs": [],
   "source": []
  }
 ],
 "metadata": {
  "kernelspec": {
   "display_name": "Python 3",
   "language": "python",
   "name": "python3"
  },
  "language_info": {
   "codemirror_mode": {
    "name": "ipython",
    "version": 3
   },
   "file_extension": ".py",
   "mimetype": "text/x-python",
   "name": "python",
   "nbconvert_exporter": "python",
   "pygments_lexer": "ipython3",
   "version": "3.7.4"
  }
 },
 "nbformat": 4,
 "nbformat_minor": 2
}
