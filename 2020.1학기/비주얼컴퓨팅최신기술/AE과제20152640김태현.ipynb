{
  "nbformat": 4,
  "nbformat_minor": 0,
  "metadata": {
    "colab": {
      "name": "AE과제20152640김태현",
      "provenance": [],
      "collapsed_sections": [],
      "machine_shape": "hm"
    },
    "kernelspec": {
      "name": "python3",
      "display_name": "Python 3"
    },
    "accelerator": "GPU",
    "widgets": {
      "application/vnd.jupyter.widget-state+json": {
        "b84d190922e647c5baa9e4b218366f9f": {
          "model_module": "@jupyter-widgets/controls",
          "model_name": "VBoxModel",
          "state": {
            "_view_name": "VBoxView",
            "_dom_classes": [
              "widget-interact"
            ],
            "_model_name": "VBoxModel",
            "_view_module": "@jupyter-widgets/controls",
            "_model_module_version": "1.5.0",
            "_view_count": null,
            "_view_module_version": "1.5.0",
            "box_style": "",
            "layout": "IPY_MODEL_e46ca558f1c24d94afa5e392874f6cd3",
            "_model_module": "@jupyter-widgets/controls",
            "children": [
              "IPY_MODEL_98a6d6b85f2646c7a1f0d7840ee7539b",
              "IPY_MODEL_57ec17935d39417bb5f50cc6536ae003"
            ]
          }
        },
        "e46ca558f1c24d94afa5e392874f6cd3": {
          "model_module": "@jupyter-widgets/base",
          "model_name": "LayoutModel",
          "state": {
            "_view_name": "LayoutView",
            "grid_template_rows": null,
            "right": null,
            "justify_content": null,
            "_view_module": "@jupyter-widgets/base",
            "overflow": null,
            "_model_module_version": "1.2.0",
            "_view_count": null,
            "flex_flow": null,
            "width": null,
            "min_width": null,
            "border": null,
            "align_items": null,
            "bottom": null,
            "_model_module": "@jupyter-widgets/base",
            "top": null,
            "grid_column": null,
            "overflow_y": null,
            "overflow_x": null,
            "grid_auto_flow": null,
            "grid_area": null,
            "grid_template_columns": null,
            "flex": null,
            "_model_name": "LayoutModel",
            "justify_items": null,
            "grid_row": null,
            "max_height": null,
            "align_content": null,
            "visibility": null,
            "align_self": null,
            "height": null,
            "min_height": null,
            "padding": null,
            "grid_auto_rows": null,
            "grid_gap": null,
            "max_width": null,
            "order": null,
            "_view_module_version": "1.2.0",
            "grid_template_areas": null,
            "object_position": null,
            "object_fit": null,
            "grid_auto_columns": null,
            "margin": null,
            "display": null,
            "left": null
          }
        },
        "98a6d6b85f2646c7a1f0d7840ee7539b": {
          "model_module": "@jupyter-widgets/controls",
          "model_name": "IntSliderModel",
          "state": {
            "_view_name": "IntSliderView",
            "style": "IPY_MODEL_12b35691fda445e99702679e94884a33",
            "_dom_classes": [],
            "description": "idx",
            "step": 1,
            "_model_name": "IntSliderModel",
            "orientation": "horizontal",
            "max": 9999,
            "_view_module": "@jupyter-widgets/controls",
            "_model_module_version": "1.5.0",
            "value": 0,
            "_view_count": null,
            "disabled": false,
            "_view_module_version": "1.5.0",
            "min": 0,
            "continuous_update": false,
            "readout_format": "d",
            "description_tooltip": null,
            "readout": true,
            "_model_module": "@jupyter-widgets/controls",
            "layout": "IPY_MODEL_81672ebc6ce1435188866b579b62a142"
          }
        },
        "57ec17935d39417bb5f50cc6536ae003": {
          "model_module": "@jupyter-widgets/output",
          "model_name": "OutputModel",
          "state": {
            "_view_name": "OutputView",
            "msg_id": "",
            "_dom_classes": [],
            "_model_name": "OutputModel",
            "outputs": [
              {
                "output_type": "stream",
                "metadata": {
                  "tags": []
                },
                "text": "GT label: 5\n",
                "stream": "stdout"
              },
              {
                "output_type": "display_data",
                "metadata": {
                  "tags": [],
                  "needs_background": "light"
                },
                "image/png": "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\n",
                "text/plain": "<Figure size 432x288 with 2 Axes>"
              }
            ],
            "_view_module": "@jupyter-widgets/output",
            "_model_module_version": "1.0.0",
            "_view_count": null,
            "_view_module_version": "1.0.0",
            "layout": "IPY_MODEL_04082194ce204432a0bf68a5144890dd",
            "_model_module": "@jupyter-widgets/output"
          }
        },
        "12b35691fda445e99702679e94884a33": {
          "model_module": "@jupyter-widgets/controls",
          "model_name": "SliderStyleModel",
          "state": {
            "_view_name": "StyleView",
            "handle_color": null,
            "_model_name": "SliderStyleModel",
            "description_width": "",
            "_view_module": "@jupyter-widgets/base",
            "_model_module_version": "1.5.0",
            "_view_count": null,
            "_view_module_version": "1.2.0",
            "_model_module": "@jupyter-widgets/controls"
          }
        },
        "81672ebc6ce1435188866b579b62a142": {
          "model_module": "@jupyter-widgets/base",
          "model_name": "LayoutModel",
          "state": {
            "_view_name": "LayoutView",
            "grid_template_rows": null,
            "right": null,
            "justify_content": null,
            "_view_module": "@jupyter-widgets/base",
            "overflow": null,
            "_model_module_version": "1.2.0",
            "_view_count": null,
            "flex_flow": null,
            "width": null,
            "min_width": null,
            "border": null,
            "align_items": null,
            "bottom": null,
            "_model_module": "@jupyter-widgets/base",
            "top": null,
            "grid_column": null,
            "overflow_y": null,
            "overflow_x": null,
            "grid_auto_flow": null,
            "grid_area": null,
            "grid_template_columns": null,
            "flex": null,
            "_model_name": "LayoutModel",
            "justify_items": null,
            "grid_row": null,
            "max_height": null,
            "align_content": null,
            "visibility": null,
            "align_self": null,
            "height": null,
            "min_height": null,
            "padding": null,
            "grid_auto_rows": null,
            "grid_gap": null,
            "max_width": null,
            "order": null,
            "_view_module_version": "1.2.0",
            "grid_template_areas": null,
            "object_position": null,
            "object_fit": null,
            "grid_auto_columns": null,
            "margin": null,
            "display": null,
            "left": null
          }
        },
        "04082194ce204432a0bf68a5144890dd": {
          "model_module": "@jupyter-widgets/base",
          "model_name": "LayoutModel",
          "state": {
            "_view_name": "LayoutView",
            "grid_template_rows": null,
            "right": null,
            "justify_content": null,
            "_view_module": "@jupyter-widgets/base",
            "overflow": null,
            "_model_module_version": "1.2.0",
            "_view_count": null,
            "flex_flow": null,
            "width": null,
            "min_width": null,
            "border": null,
            "align_items": null,
            "bottom": null,
            "_model_module": "@jupyter-widgets/base",
            "top": null,
            "grid_column": null,
            "overflow_y": null,
            "overflow_x": null,
            "grid_auto_flow": null,
            "grid_area": null,
            "grid_template_columns": null,
            "flex": null,
            "_model_name": "LayoutModel",
            "justify_items": null,
            "grid_row": null,
            "max_height": null,
            "align_content": null,
            "visibility": null,
            "align_self": null,
            "height": null,
            "min_height": null,
            "padding": null,
            "grid_auto_rows": null,
            "grid_gap": null,
            "max_width": null,
            "order": null,
            "_view_module_version": "1.2.0",
            "grid_template_areas": null,
            "object_position": null,
            "object_fit": null,
            "grid_auto_columns": null,
            "margin": null,
            "display": null,
            "left": null
          }
        },
        "b8d65f47c8a14013b863ca067b923e9d": {
          "model_module": "@jupyter-widgets/controls",
          "model_name": "HBoxModel",
          "state": {
            "_view_name": "HBoxView",
            "_dom_classes": [],
            "_model_name": "HBoxModel",
            "_view_module": "@jupyter-widgets/controls",
            "_model_module_version": "1.5.0",
            "_view_count": null,
            "_view_module_version": "1.5.0",
            "box_style": "",
            "layout": "IPY_MODEL_0fcd374be4c94641bd7baa0c47c97528",
            "_model_module": "@jupyter-widgets/controls",
            "children": [
              "IPY_MODEL_de0aed4461e04cb4b6e894f1879d394e",
              "IPY_MODEL_4ba471e52f274df5b5e3c712a6c49995",
              "IPY_MODEL_ad7fbb2e886b4eb18fd4541db97288bb",
              "IPY_MODEL_4ecaaf7b70964ca980e4e6782710f0c5"
            ]
          }
        },
        "0fcd374be4c94641bd7baa0c47c97528": {
          "model_module": "@jupyter-widgets/base",
          "model_name": "LayoutModel",
          "state": {
            "_view_name": "LayoutView",
            "grid_template_rows": null,
            "right": null,
            "justify_content": null,
            "_view_module": "@jupyter-widgets/base",
            "overflow": null,
            "_model_module_version": "1.2.0",
            "_view_count": null,
            "flex_flow": null,
            "width": null,
            "min_width": null,
            "border": null,
            "align_items": null,
            "bottom": null,
            "_model_module": "@jupyter-widgets/base",
            "top": null,
            "grid_column": null,
            "overflow_y": null,
            "overflow_x": null,
            "grid_auto_flow": null,
            "grid_area": null,
            "grid_template_columns": null,
            "flex": null,
            "_model_name": "LayoutModel",
            "justify_items": null,
            "grid_row": null,
            "max_height": null,
            "align_content": null,
            "visibility": null,
            "align_self": null,
            "height": null,
            "min_height": null,
            "padding": null,
            "grid_auto_rows": null,
            "grid_gap": null,
            "max_width": null,
            "order": null,
            "_view_module_version": "1.2.0",
            "grid_template_areas": null,
            "object_position": null,
            "object_fit": null,
            "grid_auto_columns": null,
            "margin": null,
            "display": null,
            "left": null
          }
        },
        "de0aed4461e04cb4b6e894f1879d394e": {
          "model_module": "@jupyter-widgets/controls",
          "model_name": "FloatSliderModel",
          "state": {
            "_view_name": "FloatSliderView",
            "style": "IPY_MODEL_606654fe346b48bbbba62652ca5cfd83",
            "_dom_classes": [],
            "description": "",
            "step": 0.1,
            "_model_name": "FloatSliderModel",
            "orientation": "horizontal",
            "max": 20,
            "_view_module": "@jupyter-widgets/controls",
            "_model_module_version": "1.5.0",
            "value": 5.3,
            "_view_count": null,
            "disabled": false,
            "_view_module_version": "1.5.0",
            "min": -20,
            "continuous_update": true,
            "readout_format": ".2f",
            "description_tooltip": null,
            "readout": true,
            "_model_module": "@jupyter-widgets/controls",
            "layout": "IPY_MODEL_92da99b128a1479798628a684b2e8613"
          }
        },
        "4ba471e52f274df5b5e3c712a6c49995": {
          "model_module": "@jupyter-widgets/controls",
          "model_name": "FloatSliderModel",
          "state": {
            "_view_name": "FloatSliderView",
            "style": "IPY_MODEL_f2cb66bed6eb4fa7a2dcecbd5c5b5ee3",
            "_dom_classes": [],
            "description": "",
            "step": 0.1,
            "_model_name": "FloatSliderModel",
            "orientation": "horizontal",
            "max": 20,
            "_view_module": "@jupyter-widgets/controls",
            "_model_module_version": "1.5.0",
            "value": 0.2,
            "_view_count": null,
            "disabled": false,
            "_view_module_version": "1.5.0",
            "min": -20,
            "continuous_update": true,
            "readout_format": ".2f",
            "description_tooltip": null,
            "readout": true,
            "_model_module": "@jupyter-widgets/controls",
            "layout": "IPY_MODEL_228a2d2bd273443799cf9d09234693e3"
          }
        },
        "ad7fbb2e886b4eb18fd4541db97288bb": {
          "model_module": "@jupyter-widgets/controls",
          "model_name": "FloatSliderModel",
          "state": {
            "_view_name": "FloatSliderView",
            "style": "IPY_MODEL_84f11d5a4a9d4e5c919bbeb743bc181b",
            "_dom_classes": [],
            "description": "",
            "step": 0.1,
            "_model_name": "FloatSliderModel",
            "orientation": "horizontal",
            "max": 20,
            "_view_module": "@jupyter-widgets/controls",
            "_model_module_version": "1.5.0",
            "value": -0.1,
            "_view_count": null,
            "disabled": false,
            "_view_module_version": "1.5.0",
            "min": -20,
            "continuous_update": true,
            "readout_format": ".2f",
            "description_tooltip": null,
            "readout": true,
            "_model_module": "@jupyter-widgets/controls",
            "layout": "IPY_MODEL_0f70fa29cbf54f239498b8e744fc9433"
          }
        },
        "4ecaaf7b70964ca980e4e6782710f0c5": {
          "model_module": "@jupyter-widgets/controls",
          "model_name": "FloatSliderModel",
          "state": {
            "_view_name": "FloatSliderView",
            "style": "IPY_MODEL_39a05fd2e5e8423f83a3070ad19357da",
            "_dom_classes": [],
            "description": "",
            "step": 0.1,
            "_model_name": "FloatSliderModel",
            "orientation": "horizontal",
            "max": 20,
            "_view_module": "@jupyter-widgets/controls",
            "_model_module_version": "1.5.0",
            "value": 0,
            "_view_count": null,
            "disabled": false,
            "_view_module_version": "1.5.0",
            "min": -20,
            "continuous_update": true,
            "readout_format": ".2f",
            "description_tooltip": null,
            "readout": true,
            "_model_module": "@jupyter-widgets/controls",
            "layout": "IPY_MODEL_6d7194fa0af246acbb41a90c3ec16dc5"
          }
        },
        "606654fe346b48bbbba62652ca5cfd83": {
          "model_module": "@jupyter-widgets/controls",
          "model_name": "SliderStyleModel",
          "state": {
            "_view_name": "StyleView",
            "handle_color": null,
            "_model_name": "SliderStyleModel",
            "description_width": "",
            "_view_module": "@jupyter-widgets/base",
            "_model_module_version": "1.5.0",
            "_view_count": null,
            "_view_module_version": "1.2.0",
            "_model_module": "@jupyter-widgets/controls"
          }
        },
        "92da99b128a1479798628a684b2e8613": {
          "model_module": "@jupyter-widgets/base",
          "model_name": "LayoutModel",
          "state": {
            "_view_name": "LayoutView",
            "grid_template_rows": null,
            "right": null,
            "justify_content": null,
            "_view_module": "@jupyter-widgets/base",
            "overflow": null,
            "_model_module_version": "1.2.0",
            "_view_count": null,
            "flex_flow": null,
            "width": null,
            "min_width": null,
            "border": null,
            "align_items": null,
            "bottom": null,
            "_model_module": "@jupyter-widgets/base",
            "top": null,
            "grid_column": null,
            "overflow_y": null,
            "overflow_x": null,
            "grid_auto_flow": null,
            "grid_area": null,
            "grid_template_columns": null,
            "flex": null,
            "_model_name": "LayoutModel",
            "justify_items": null,
            "grid_row": null,
            "max_height": null,
            "align_content": null,
            "visibility": null,
            "align_self": null,
            "height": null,
            "min_height": null,
            "padding": null,
            "grid_auto_rows": null,
            "grid_gap": null,
            "max_width": null,
            "order": null,
            "_view_module_version": "1.2.0",
            "grid_template_areas": null,
            "object_position": null,
            "object_fit": null,
            "grid_auto_columns": null,
            "margin": null,
            "display": null,
            "left": null
          }
        },
        "f2cb66bed6eb4fa7a2dcecbd5c5b5ee3": {
          "model_module": "@jupyter-widgets/controls",
          "model_name": "SliderStyleModel",
          "state": {
            "_view_name": "StyleView",
            "handle_color": null,
            "_model_name": "SliderStyleModel",
            "description_width": "",
            "_view_module": "@jupyter-widgets/base",
            "_model_module_version": "1.5.0",
            "_view_count": null,
            "_view_module_version": "1.2.0",
            "_model_module": "@jupyter-widgets/controls"
          }
        },
        "228a2d2bd273443799cf9d09234693e3": {
          "model_module": "@jupyter-widgets/base",
          "model_name": "LayoutModel",
          "state": {
            "_view_name": "LayoutView",
            "grid_template_rows": null,
            "right": null,
            "justify_content": null,
            "_view_module": "@jupyter-widgets/base",
            "overflow": null,
            "_model_module_version": "1.2.0",
            "_view_count": null,
            "flex_flow": null,
            "width": null,
            "min_width": null,
            "border": null,
            "align_items": null,
            "bottom": null,
            "_model_module": "@jupyter-widgets/base",
            "top": null,
            "grid_column": null,
            "overflow_y": null,
            "overflow_x": null,
            "grid_auto_flow": null,
            "grid_area": null,
            "grid_template_columns": null,
            "flex": null,
            "_model_name": "LayoutModel",
            "justify_items": null,
            "grid_row": null,
            "max_height": null,
            "align_content": null,
            "visibility": null,
            "align_self": null,
            "height": null,
            "min_height": null,
            "padding": null,
            "grid_auto_rows": null,
            "grid_gap": null,
            "max_width": null,
            "order": null,
            "_view_module_version": "1.2.0",
            "grid_template_areas": null,
            "object_position": null,
            "object_fit": null,
            "grid_auto_columns": null,
            "margin": null,
            "display": null,
            "left": null
          }
        },
        "84f11d5a4a9d4e5c919bbeb743bc181b": {
          "model_module": "@jupyter-widgets/controls",
          "model_name": "SliderStyleModel",
          "state": {
            "_view_name": "StyleView",
            "handle_color": null,
            "_model_name": "SliderStyleModel",
            "description_width": "",
            "_view_module": "@jupyter-widgets/base",
            "_model_module_version": "1.5.0",
            "_view_count": null,
            "_view_module_version": "1.2.0",
            "_model_module": "@jupyter-widgets/controls"
          }
        },
        "0f70fa29cbf54f239498b8e744fc9433": {
          "model_module": "@jupyter-widgets/base",
          "model_name": "LayoutModel",
          "state": {
            "_view_name": "LayoutView",
            "grid_template_rows": null,
            "right": null,
            "justify_content": null,
            "_view_module": "@jupyter-widgets/base",
            "overflow": null,
            "_model_module_version": "1.2.0",
            "_view_count": null,
            "flex_flow": null,
            "width": null,
            "min_width": null,
            "border": null,
            "align_items": null,
            "bottom": null,
            "_model_module": "@jupyter-widgets/base",
            "top": null,
            "grid_column": null,
            "overflow_y": null,
            "overflow_x": null,
            "grid_auto_flow": null,
            "grid_area": null,
            "grid_template_columns": null,
            "flex": null,
            "_model_name": "LayoutModel",
            "justify_items": null,
            "grid_row": null,
            "max_height": null,
            "align_content": null,
            "visibility": null,
            "align_self": null,
            "height": null,
            "min_height": null,
            "padding": null,
            "grid_auto_rows": null,
            "grid_gap": null,
            "max_width": null,
            "order": null,
            "_view_module_version": "1.2.0",
            "grid_template_areas": null,
            "object_position": null,
            "object_fit": null,
            "grid_auto_columns": null,
            "margin": null,
            "display": null,
            "left": null
          }
        },
        "39a05fd2e5e8423f83a3070ad19357da": {
          "model_module": "@jupyter-widgets/controls",
          "model_name": "SliderStyleModel",
          "state": {
            "_view_name": "StyleView",
            "handle_color": null,
            "_model_name": "SliderStyleModel",
            "description_width": "",
            "_view_module": "@jupyter-widgets/base",
            "_model_module_version": "1.5.0",
            "_view_count": null,
            "_view_module_version": "1.2.0",
            "_model_module": "@jupyter-widgets/controls"
          }
        },
        "6d7194fa0af246acbb41a90c3ec16dc5": {
          "model_module": "@jupyter-widgets/base",
          "model_name": "LayoutModel",
          "state": {
            "_view_name": "LayoutView",
            "grid_template_rows": null,
            "right": null,
            "justify_content": null,
            "_view_module": "@jupyter-widgets/base",
            "overflow": null,
            "_model_module_version": "1.2.0",
            "_view_count": null,
            "flex_flow": null,
            "width": null,
            "min_width": null,
            "border": null,
            "align_items": null,
            "bottom": null,
            "_model_module": "@jupyter-widgets/base",
            "top": null,
            "grid_column": null,
            "overflow_y": null,
            "overflow_x": null,
            "grid_auto_flow": null,
            "grid_area": null,
            "grid_template_columns": null,
            "flex": null,
            "_model_name": "LayoutModel",
            "justify_items": null,
            "grid_row": null,
            "max_height": null,
            "align_content": null,
            "visibility": null,
            "align_self": null,
            "height": null,
            "min_height": null,
            "padding": null,
            "grid_auto_rows": null,
            "grid_gap": null,
            "max_width": null,
            "order": null,
            "_view_module_version": "1.2.0",
            "grid_template_areas": null,
            "object_position": null,
            "object_fit": null,
            "grid_auto_columns": null,
            "margin": null,
            "display": null,
            "left": null
          }
        },
        "f3725f5971294f3d94e20da5b31b632a": {
          "model_module": "@jupyter-widgets/output",
          "model_name": "OutputModel",
          "state": {
            "_view_name": "OutputView",
            "msg_id": "",
            "_dom_classes": [],
            "_model_name": "OutputModel",
            "outputs": [
              {
                "output_type": "stream",
                "metadata": {
                  "tags": []
                },
                "text": "[[ 5.3  0.2 -0.1  0. ]]\n",
                "stream": "stdout"
              },
              {
                "output_type": "display_data",
                "metadata": {
                  "tags": [],
                  "needs_background": "light"
                },
                "image/png": "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\n",
                "text/plain": "<Figure size 432x288 with 1 Axes>"
              }
            ],
            "_view_module": "@jupyter-widgets/output",
            "_model_module_version": "1.0.0",
            "_view_count": null,
            "_view_module_version": "1.0.0",
            "layout": "IPY_MODEL_e457486e4b614394934325f6eaad29bc",
            "_model_module": "@jupyter-widgets/output"
          }
        },
        "e457486e4b614394934325f6eaad29bc": {
          "model_module": "@jupyter-widgets/base",
          "model_name": "LayoutModel",
          "state": {
            "_view_name": "LayoutView",
            "grid_template_rows": null,
            "right": null,
            "justify_content": null,
            "_view_module": "@jupyter-widgets/base",
            "overflow": null,
            "_model_module_version": "1.2.0",
            "_view_count": null,
            "flex_flow": null,
            "width": null,
            "min_width": null,
            "border": null,
            "align_items": null,
            "bottom": null,
            "_model_module": "@jupyter-widgets/base",
            "top": null,
            "grid_column": null,
            "overflow_y": null,
            "overflow_x": null,
            "grid_auto_flow": null,
            "grid_area": null,
            "grid_template_columns": null,
            "flex": null,
            "_model_name": "LayoutModel",
            "justify_items": null,
            "grid_row": null,
            "max_height": null,
            "align_content": null,
            "visibility": null,
            "align_self": null,
            "height": null,
            "min_height": null,
            "padding": null,
            "grid_auto_rows": null,
            "grid_gap": null,
            "max_width": null,
            "order": null,
            "_view_module_version": "1.2.0",
            "grid_template_areas": null,
            "object_position": null,
            "object_fit": null,
            "grid_auto_columns": null,
            "margin": null,
            "display": null,
            "left": null
          }
        },
        "1bed0ccf84e0487c8c892601e9e192fa": {
          "model_module": "@jupyter-widgets/controls",
          "model_name": "VBoxModel",
          "state": {
            "_view_name": "VBoxView",
            "_dom_classes": [
              "widget-interact"
            ],
            "_model_name": "VBoxModel",
            "_view_module": "@jupyter-widgets/controls",
            "_model_module_version": "1.5.0",
            "_view_count": null,
            "_view_module_version": "1.5.0",
            "box_style": "",
            "layout": "IPY_MODEL_6b65a90200e84f64b3734e9ee365f9a4",
            "_model_module": "@jupyter-widgets/controls",
            "children": [
              "IPY_MODEL_6f15fef16dfd40ccb23b58a9fe1f51c1",
              "IPY_MODEL_362f6ea350d54e36a1a6b6dfcfedc386"
            ]
          }
        },
        "6b65a90200e84f64b3734e9ee365f9a4": {
          "model_module": "@jupyter-widgets/base",
          "model_name": "LayoutModel",
          "state": {
            "_view_name": "LayoutView",
            "grid_template_rows": null,
            "right": null,
            "justify_content": null,
            "_view_module": "@jupyter-widgets/base",
            "overflow": null,
            "_model_module_version": "1.2.0",
            "_view_count": null,
            "flex_flow": null,
            "width": null,
            "min_width": null,
            "border": null,
            "align_items": null,
            "bottom": null,
            "_model_module": "@jupyter-widgets/base",
            "top": null,
            "grid_column": null,
            "overflow_y": null,
            "overflow_x": null,
            "grid_auto_flow": null,
            "grid_area": null,
            "grid_template_columns": null,
            "flex": null,
            "_model_name": "LayoutModel",
            "justify_items": null,
            "grid_row": null,
            "max_height": null,
            "align_content": null,
            "visibility": null,
            "align_self": null,
            "height": null,
            "min_height": null,
            "padding": null,
            "grid_auto_rows": null,
            "grid_gap": null,
            "max_width": null,
            "order": null,
            "_view_module_version": "1.2.0",
            "grid_template_areas": null,
            "object_position": null,
            "object_fit": null,
            "grid_auto_columns": null,
            "margin": null,
            "display": null,
            "left": null
          }
        },
        "6f15fef16dfd40ccb23b58a9fe1f51c1": {
          "model_module": "@jupyter-widgets/controls",
          "model_name": "IntSliderModel",
          "state": {
            "_view_name": "IntSliderView",
            "style": "IPY_MODEL_e9a196a2ce824ac4b84578579412aa81",
            "_dom_classes": [],
            "description": "idx",
            "step": 1,
            "_model_name": "IntSliderModel",
            "orientation": "horizontal",
            "max": 9999,
            "_view_module": "@jupyter-widgets/controls",
            "_model_module_version": "1.5.0",
            "value": 0,
            "_view_count": null,
            "disabled": false,
            "_view_module_version": "1.5.0",
            "min": 0,
            "continuous_update": false,
            "readout_format": "d",
            "description_tooltip": null,
            "readout": true,
            "_model_module": "@jupyter-widgets/controls",
            "layout": "IPY_MODEL_2c5d63195a1c4793b2dc84ffbc8c6251"
          }
        },
        "362f6ea350d54e36a1a6b6dfcfedc386": {
          "model_module": "@jupyter-widgets/output",
          "model_name": "OutputModel",
          "state": {
            "_view_name": "OutputView",
            "msg_id": "",
            "_dom_classes": [],
            "_model_name": "OutputModel",
            "outputs": [
              {
                "output_type": "stream",
                "metadata": {
                  "tags": []
                },
                "text": "GT label: 5\n",
                "stream": "stdout"
              },
              {
                "output_type": "display_data",
                "metadata": {
                  "tags": [],
                  "needs_background": "light"
                },
                "image/png": "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\n",
                "text/plain": "<Figure size 432x288 with 2 Axes>"
              }
            ],
            "_view_module": "@jupyter-widgets/output",
            "_model_module_version": "1.0.0",
            "_view_count": null,
            "_view_module_version": "1.0.0",
            "layout": "IPY_MODEL_182d8513ba3c42de8756f33fb8cd679b",
            "_model_module": "@jupyter-widgets/output"
          }
        },
        "e9a196a2ce824ac4b84578579412aa81": {
          "model_module": "@jupyter-widgets/controls",
          "model_name": "SliderStyleModel",
          "state": {
            "_view_name": "StyleView",
            "handle_color": null,
            "_model_name": "SliderStyleModel",
            "description_width": "",
            "_view_module": "@jupyter-widgets/base",
            "_model_module_version": "1.5.0",
            "_view_count": null,
            "_view_module_version": "1.2.0",
            "_model_module": "@jupyter-widgets/controls"
          }
        },
        "2c5d63195a1c4793b2dc84ffbc8c6251": {
          "model_module": "@jupyter-widgets/base",
          "model_name": "LayoutModel",
          "state": {
            "_view_name": "LayoutView",
            "grid_template_rows": null,
            "right": null,
            "justify_content": null,
            "_view_module": "@jupyter-widgets/base",
            "overflow": null,
            "_model_module_version": "1.2.0",
            "_view_count": null,
            "flex_flow": null,
            "width": null,
            "min_width": null,
            "border": null,
            "align_items": null,
            "bottom": null,
            "_model_module": "@jupyter-widgets/base",
            "top": null,
            "grid_column": null,
            "overflow_y": null,
            "overflow_x": null,
            "grid_auto_flow": null,
            "grid_area": null,
            "grid_template_columns": null,
            "flex": null,
            "_model_name": "LayoutModel",
            "justify_items": null,
            "grid_row": null,
            "max_height": null,
            "align_content": null,
            "visibility": null,
            "align_self": null,
            "height": null,
            "min_height": null,
            "padding": null,
            "grid_auto_rows": null,
            "grid_gap": null,
            "max_width": null,
            "order": null,
            "_view_module_version": "1.2.0",
            "grid_template_areas": null,
            "object_position": null,
            "object_fit": null,
            "grid_auto_columns": null,
            "margin": null,
            "display": null,
            "left": null
          }
        },
        "182d8513ba3c42de8756f33fb8cd679b": {
          "model_module": "@jupyter-widgets/base",
          "model_name": "LayoutModel",
          "state": {
            "_view_name": "LayoutView",
            "grid_template_rows": null,
            "right": null,
            "justify_content": null,
            "_view_module": "@jupyter-widgets/base",
            "overflow": null,
            "_model_module_version": "1.2.0",
            "_view_count": null,
            "flex_flow": null,
            "width": null,
            "min_width": null,
            "border": null,
            "align_items": null,
            "bottom": null,
            "_model_module": "@jupyter-widgets/base",
            "top": null,
            "grid_column": null,
            "overflow_y": null,
            "overflow_x": null,
            "grid_auto_flow": null,
            "grid_area": null,
            "grid_template_columns": null,
            "flex": null,
            "_model_name": "LayoutModel",
            "justify_items": null,
            "grid_row": null,
            "max_height": null,
            "align_content": null,
            "visibility": null,
            "align_self": null,
            "height": null,
            "min_height": null,
            "padding": null,
            "grid_auto_rows": null,
            "grid_gap": null,
            "max_width": null,
            "order": null,
            "_view_module_version": "1.2.0",
            "grid_template_areas": null,
            "object_position": null,
            "object_fit": null,
            "grid_auto_columns": null,
            "margin": null,
            "display": null,
            "left": null
          }
        },
        "958bd4fb00bf45abb883513ea0a204ef": {
          "model_module": "@jupyter-widgets/controls",
          "model_name": "VBoxModel",
          "state": {
            "_view_name": "VBoxView",
            "_dom_classes": [
              "widget-interact"
            ],
            "_model_name": "VBoxModel",
            "_view_module": "@jupyter-widgets/controls",
            "_model_module_version": "1.5.0",
            "_view_count": null,
            "_view_module_version": "1.5.0",
            "box_style": "",
            "layout": "IPY_MODEL_63cf87c83edf4275beb1f95e6386e6d1",
            "_model_module": "@jupyter-widgets/controls",
            "children": [
              "IPY_MODEL_0bb82ae0d6424f5db1457b64a1f937f6",
              "IPY_MODEL_64f2695905d748d8bdd950e432214c2b"
            ]
          }
        },
        "63cf87c83edf4275beb1f95e6386e6d1": {
          "model_module": "@jupyter-widgets/base",
          "model_name": "LayoutModel",
          "state": {
            "_view_name": "LayoutView",
            "grid_template_rows": null,
            "right": null,
            "justify_content": null,
            "_view_module": "@jupyter-widgets/base",
            "overflow": null,
            "_model_module_version": "1.2.0",
            "_view_count": null,
            "flex_flow": null,
            "width": null,
            "min_width": null,
            "border": null,
            "align_items": null,
            "bottom": null,
            "_model_module": "@jupyter-widgets/base",
            "top": null,
            "grid_column": null,
            "overflow_y": null,
            "overflow_x": null,
            "grid_auto_flow": null,
            "grid_area": null,
            "grid_template_columns": null,
            "flex": null,
            "_model_name": "LayoutModel",
            "justify_items": null,
            "grid_row": null,
            "max_height": null,
            "align_content": null,
            "visibility": null,
            "align_self": null,
            "height": null,
            "min_height": null,
            "padding": null,
            "grid_auto_rows": null,
            "grid_gap": null,
            "max_width": null,
            "order": null,
            "_view_module_version": "1.2.0",
            "grid_template_areas": null,
            "object_position": null,
            "object_fit": null,
            "grid_auto_columns": null,
            "margin": null,
            "display": null,
            "left": null
          }
        },
        "0bb82ae0d6424f5db1457b64a1f937f6": {
          "model_module": "@jupyter-widgets/controls",
          "model_name": "IntSliderModel",
          "state": {
            "_view_name": "IntSliderView",
            "style": "IPY_MODEL_aa6d7d586e9d4bd78a7a4853a8fa7cad",
            "_dom_classes": [],
            "description": "idx",
            "step": 1,
            "_model_name": "IntSliderModel",
            "orientation": "horizontal",
            "max": 9999,
            "_view_module": "@jupyter-widgets/controls",
            "_model_module_version": "1.5.0",
            "value": 0,
            "_view_count": null,
            "disabled": false,
            "_view_module_version": "1.5.0",
            "min": 0,
            "continuous_update": false,
            "readout_format": "d",
            "description_tooltip": null,
            "readout": true,
            "_model_module": "@jupyter-widgets/controls",
            "layout": "IPY_MODEL_cf0e7bae13bd46d98c19fea3c43582d8"
          }
        },
        "64f2695905d748d8bdd950e432214c2b": {
          "model_module": "@jupyter-widgets/output",
          "model_name": "OutputModel",
          "state": {
            "_view_name": "OutputView",
            "msg_id": "",
            "_dom_classes": [],
            "_model_name": "OutputModel",
            "outputs": [
              {
                "output_type": "stream",
                "metadata": {
                  "tags": []
                },
                "text": "GT label: 5\n",
                "stream": "stdout"
              },
              {
                "output_type": "display_data",
                "metadata": {
                  "tags": [],
                  "needs_background": "light"
                },
                "image/png": "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\n",
                "text/plain": "<Figure size 432x288 with 2 Axes>"
              }
            ],
            "_view_module": "@jupyter-widgets/output",
            "_model_module_version": "1.0.0",
            "_view_count": null,
            "_view_module_version": "1.0.0",
            "layout": "IPY_MODEL_f145308e69a4476890d01d26e9c1ddad",
            "_model_module": "@jupyter-widgets/output"
          }
        },
        "aa6d7d586e9d4bd78a7a4853a8fa7cad": {
          "model_module": "@jupyter-widgets/controls",
          "model_name": "SliderStyleModel",
          "state": {
            "_view_name": "StyleView",
            "handle_color": null,
            "_model_name": "SliderStyleModel",
            "description_width": "",
            "_view_module": "@jupyter-widgets/base",
            "_model_module_version": "1.5.0",
            "_view_count": null,
            "_view_module_version": "1.2.0",
            "_model_module": "@jupyter-widgets/controls"
          }
        },
        "cf0e7bae13bd46d98c19fea3c43582d8": {
          "model_module": "@jupyter-widgets/base",
          "model_name": "LayoutModel",
          "state": {
            "_view_name": "LayoutView",
            "grid_template_rows": null,
            "right": null,
            "justify_content": null,
            "_view_module": "@jupyter-widgets/base",
            "overflow": null,
            "_model_module_version": "1.2.0",
            "_view_count": null,
            "flex_flow": null,
            "width": null,
            "min_width": null,
            "border": null,
            "align_items": null,
            "bottom": null,
            "_model_module": "@jupyter-widgets/base",
            "top": null,
            "grid_column": null,
            "overflow_y": null,
            "overflow_x": null,
            "grid_auto_flow": null,
            "grid_area": null,
            "grid_template_columns": null,
            "flex": null,
            "_model_name": "LayoutModel",
            "justify_items": null,
            "grid_row": null,
            "max_height": null,
            "align_content": null,
            "visibility": null,
            "align_self": null,
            "height": null,
            "min_height": null,
            "padding": null,
            "grid_auto_rows": null,
            "grid_gap": null,
            "max_width": null,
            "order": null,
            "_view_module_version": "1.2.0",
            "grid_template_areas": null,
            "object_position": null,
            "object_fit": null,
            "grid_auto_columns": null,
            "margin": null,
            "display": null,
            "left": null
          }
        },
        "f145308e69a4476890d01d26e9c1ddad": {
          "model_module": "@jupyter-widgets/base",
          "model_name": "LayoutModel",
          "state": {
            "_view_name": "LayoutView",
            "grid_template_rows": null,
            "right": null,
            "justify_content": null,
            "_view_module": "@jupyter-widgets/base",
            "overflow": null,
            "_model_module_version": "1.2.0",
            "_view_count": null,
            "flex_flow": null,
            "width": null,
            "min_width": null,
            "border": null,
            "align_items": null,
            "bottom": null,
            "_model_module": "@jupyter-widgets/base",
            "top": null,
            "grid_column": null,
            "overflow_y": null,
            "overflow_x": null,
            "grid_auto_flow": null,
            "grid_area": null,
            "grid_template_columns": null,
            "flex": null,
            "_model_name": "LayoutModel",
            "justify_items": null,
            "grid_row": null,
            "max_height": null,
            "align_content": null,
            "visibility": null,
            "align_self": null,
            "height": null,
            "min_height": null,
            "padding": null,
            "grid_auto_rows": null,
            "grid_gap": null,
            "max_width": null,
            "order": null,
            "_view_module_version": "1.2.0",
            "grid_template_areas": null,
            "object_position": null,
            "object_fit": null,
            "grid_auto_columns": null,
            "margin": null,
            "display": null,
            "left": null
          }
        },
        "8627a4e0543b4890926bd577aaa88735": {
          "model_module": "@jupyter-widgets/controls",
          "model_name": "VBoxModel",
          "state": {
            "_view_name": "VBoxView",
            "_dom_classes": [
              "widget-interact"
            ],
            "_model_name": "VBoxModel",
            "_view_module": "@jupyter-widgets/controls",
            "_model_module_version": "1.5.0",
            "_view_count": null,
            "_view_module_version": "1.5.0",
            "box_style": "",
            "layout": "IPY_MODEL_7aba8c07cfaa41eaa0dd996bc4320f35",
            "_model_module": "@jupyter-widgets/controls",
            "children": [
              "IPY_MODEL_1a8d64e28b184ce7bc9597c30f157c61",
              "IPY_MODEL_26df69738e3e4e2bb837d0946acf54db"
            ]
          }
        },
        "7aba8c07cfaa41eaa0dd996bc4320f35": {
          "model_module": "@jupyter-widgets/base",
          "model_name": "LayoutModel",
          "state": {
            "_view_name": "LayoutView",
            "grid_template_rows": null,
            "right": null,
            "justify_content": null,
            "_view_module": "@jupyter-widgets/base",
            "overflow": null,
            "_model_module_version": "1.2.0",
            "_view_count": null,
            "flex_flow": null,
            "width": null,
            "min_width": null,
            "border": null,
            "align_items": null,
            "bottom": null,
            "_model_module": "@jupyter-widgets/base",
            "top": null,
            "grid_column": null,
            "overflow_y": null,
            "overflow_x": null,
            "grid_auto_flow": null,
            "grid_area": null,
            "grid_template_columns": null,
            "flex": null,
            "_model_name": "LayoutModel",
            "justify_items": null,
            "grid_row": null,
            "max_height": null,
            "align_content": null,
            "visibility": null,
            "align_self": null,
            "height": null,
            "min_height": null,
            "padding": null,
            "grid_auto_rows": null,
            "grid_gap": null,
            "max_width": null,
            "order": null,
            "_view_module_version": "1.2.0",
            "grid_template_areas": null,
            "object_position": null,
            "object_fit": null,
            "grid_auto_columns": null,
            "margin": null,
            "display": null,
            "left": null
          }
        },
        "1a8d64e28b184ce7bc9597c30f157c61": {
          "model_module": "@jupyter-widgets/controls",
          "model_name": "IntSliderModel",
          "state": {
            "_view_name": "IntSliderView",
            "style": "IPY_MODEL_537b453a99bc4de3b3beb818941831ed",
            "_dom_classes": [],
            "description": "idx",
            "step": 1,
            "_model_name": "IntSliderModel",
            "orientation": "horizontal",
            "max": 9999,
            "_view_module": "@jupyter-widgets/controls",
            "_model_module_version": "1.5.0",
            "value": 0,
            "_view_count": null,
            "disabled": false,
            "_view_module_version": "1.5.0",
            "min": 0,
            "continuous_update": false,
            "readout_format": "d",
            "description_tooltip": null,
            "readout": true,
            "_model_module": "@jupyter-widgets/controls",
            "layout": "IPY_MODEL_7bede50bb70a4d84a7feca77e47db187"
          }
        },
        "26df69738e3e4e2bb837d0946acf54db": {
          "model_module": "@jupyter-widgets/output",
          "model_name": "OutputModel",
          "state": {
            "_view_name": "OutputView",
            "msg_id": "",
            "_dom_classes": [],
            "_model_name": "OutputModel",
            "outputs": [
              {
                "output_type": "stream",
                "metadata": {
                  "tags": []
                },
                "text": "GT label: 5\n",
                "stream": "stdout"
              },
              {
                "output_type": "display_data",
                "metadata": {
                  "tags": [],
                  "needs_background": "light"
                },
                "image/png": "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\n",
                "text/plain": "<Figure size 432x288 with 2 Axes>"
              }
            ],
            "_view_module": "@jupyter-widgets/output",
            "_model_module_version": "1.0.0",
            "_view_count": null,
            "_view_module_version": "1.0.0",
            "layout": "IPY_MODEL_fc1cd8d5a72444b9a53a5abaffbd5db4",
            "_model_module": "@jupyter-widgets/output"
          }
        },
        "537b453a99bc4de3b3beb818941831ed": {
          "model_module": "@jupyter-widgets/controls",
          "model_name": "SliderStyleModel",
          "state": {
            "_view_name": "StyleView",
            "handle_color": null,
            "_model_name": "SliderStyleModel",
            "description_width": "",
            "_view_module": "@jupyter-widgets/base",
            "_model_module_version": "1.5.0",
            "_view_count": null,
            "_view_module_version": "1.2.0",
            "_model_module": "@jupyter-widgets/controls"
          }
        },
        "7bede50bb70a4d84a7feca77e47db187": {
          "model_module": "@jupyter-widgets/base",
          "model_name": "LayoutModel",
          "state": {
            "_view_name": "LayoutView",
            "grid_template_rows": null,
            "right": null,
            "justify_content": null,
            "_view_module": "@jupyter-widgets/base",
            "overflow": null,
            "_model_module_version": "1.2.0",
            "_view_count": null,
            "flex_flow": null,
            "width": null,
            "min_width": null,
            "border": null,
            "align_items": null,
            "bottom": null,
            "_model_module": "@jupyter-widgets/base",
            "top": null,
            "grid_column": null,
            "overflow_y": null,
            "overflow_x": null,
            "grid_auto_flow": null,
            "grid_area": null,
            "grid_template_columns": null,
            "flex": null,
            "_model_name": "LayoutModel",
            "justify_items": null,
            "grid_row": null,
            "max_height": null,
            "align_content": null,
            "visibility": null,
            "align_self": null,
            "height": null,
            "min_height": null,
            "padding": null,
            "grid_auto_rows": null,
            "grid_gap": null,
            "max_width": null,
            "order": null,
            "_view_module_version": "1.2.0",
            "grid_template_areas": null,
            "object_position": null,
            "object_fit": null,
            "grid_auto_columns": null,
            "margin": null,
            "display": null,
            "left": null
          }
        },
        "fc1cd8d5a72444b9a53a5abaffbd5db4": {
          "model_module": "@jupyter-widgets/base",
          "model_name": "LayoutModel",
          "state": {
            "_view_name": "LayoutView",
            "grid_template_rows": null,
            "right": null,
            "justify_content": null,
            "_view_module": "@jupyter-widgets/base",
            "overflow": null,
            "_model_module_version": "1.2.0",
            "_view_count": null,
            "flex_flow": null,
            "width": null,
            "min_width": null,
            "border": null,
            "align_items": null,
            "bottom": null,
            "_model_module": "@jupyter-widgets/base",
            "top": null,
            "grid_column": null,
            "overflow_y": null,
            "overflow_x": null,
            "grid_auto_flow": null,
            "grid_area": null,
            "grid_template_columns": null,
            "flex": null,
            "_model_name": "LayoutModel",
            "justify_items": null,
            "grid_row": null,
            "max_height": null,
            "align_content": null,
            "visibility": null,
            "align_self": null,
            "height": null,
            "min_height": null,
            "padding": null,
            "grid_auto_rows": null,
            "grid_gap": null,
            "max_width": null,
            "order": null,
            "_view_module_version": "1.2.0",
            "grid_template_areas": null,
            "object_position": null,
            "object_fit": null,
            "grid_auto_columns": null,
            "margin": null,
            "display": null,
            "left": null
          }
        },
        "f1db0df37bd44bbba9ddfb6bc916d77f": {
          "model_module": "@jupyter-widgets/controls",
          "model_name": "VBoxModel",
          "state": {
            "_view_name": "VBoxView",
            "_dom_classes": [
              "widget-interact"
            ],
            "_model_name": "VBoxModel",
            "_view_module": "@jupyter-widgets/controls",
            "_model_module_version": "1.5.0",
            "_view_count": null,
            "_view_module_version": "1.5.0",
            "box_style": "",
            "layout": "IPY_MODEL_23abd233bdea4dc5ba2da9342a2eb0f6",
            "_model_module": "@jupyter-widgets/controls",
            "children": [
              "IPY_MODEL_e323b6e81dbd46b9938a14b1199aa90f",
              "IPY_MODEL_79a55160afd5462ebf1b4b8d5948390e"
            ]
          }
        },
        "23abd233bdea4dc5ba2da9342a2eb0f6": {
          "model_module": "@jupyter-widgets/base",
          "model_name": "LayoutModel",
          "state": {
            "_view_name": "LayoutView",
            "grid_template_rows": null,
            "right": null,
            "justify_content": null,
            "_view_module": "@jupyter-widgets/base",
            "overflow": null,
            "_model_module_version": "1.2.0",
            "_view_count": null,
            "flex_flow": null,
            "width": null,
            "min_width": null,
            "border": null,
            "align_items": null,
            "bottom": null,
            "_model_module": "@jupyter-widgets/base",
            "top": null,
            "grid_column": null,
            "overflow_y": null,
            "overflow_x": null,
            "grid_auto_flow": null,
            "grid_area": null,
            "grid_template_columns": null,
            "flex": null,
            "_model_name": "LayoutModel",
            "justify_items": null,
            "grid_row": null,
            "max_height": null,
            "align_content": null,
            "visibility": null,
            "align_self": null,
            "height": null,
            "min_height": null,
            "padding": null,
            "grid_auto_rows": null,
            "grid_gap": null,
            "max_width": null,
            "order": null,
            "_view_module_version": "1.2.0",
            "grid_template_areas": null,
            "object_position": null,
            "object_fit": null,
            "grid_auto_columns": null,
            "margin": null,
            "display": null,
            "left": null
          }
        },
        "e323b6e81dbd46b9938a14b1199aa90f": {
          "model_module": "@jupyter-widgets/controls",
          "model_name": "IntSliderModel",
          "state": {
            "_view_name": "IntSliderView",
            "style": "IPY_MODEL_4301e5ef5db14ffa847291acdbc0fb78",
            "_dom_classes": [],
            "description": "idx",
            "step": 1,
            "_model_name": "IntSliderModel",
            "orientation": "horizontal",
            "max": 9999,
            "_view_module": "@jupyter-widgets/controls",
            "_model_module_version": "1.5.0",
            "value": 0,
            "_view_count": null,
            "disabled": false,
            "_view_module_version": "1.5.0",
            "min": 0,
            "continuous_update": false,
            "readout_format": "d",
            "description_tooltip": null,
            "readout": true,
            "_model_module": "@jupyter-widgets/controls",
            "layout": "IPY_MODEL_c57597a5df234b769b7e79270aa33f67"
          }
        },
        "79a55160afd5462ebf1b4b8d5948390e": {
          "model_module": "@jupyter-widgets/output",
          "model_name": "OutputModel",
          "state": {
            "_view_name": "OutputView",
            "msg_id": "",
            "_dom_classes": [],
            "_model_name": "OutputModel",
            "outputs": [
              {
                "output_type": "stream",
                "metadata": {
                  "tags": []
                },
                "text": "GT label: 5\n",
                "stream": "stdout"
              },
              {
                "output_type": "display_data",
                "metadata": {
                  "tags": [],
                  "needs_background": "light"
                },
                "image/png": "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\n",
                "text/plain": "<Figure size 432x288 with 2 Axes>"
              }
            ],
            "_view_module": "@jupyter-widgets/output",
            "_model_module_version": "1.0.0",
            "_view_count": null,
            "_view_module_version": "1.0.0",
            "layout": "IPY_MODEL_95370bd3f1d94420902136e2f72bee1f",
            "_model_module": "@jupyter-widgets/output"
          }
        },
        "4301e5ef5db14ffa847291acdbc0fb78": {
          "model_module": "@jupyter-widgets/controls",
          "model_name": "SliderStyleModel",
          "state": {
            "_view_name": "StyleView",
            "handle_color": null,
            "_model_name": "SliderStyleModel",
            "description_width": "",
            "_view_module": "@jupyter-widgets/base",
            "_model_module_version": "1.5.0",
            "_view_count": null,
            "_view_module_version": "1.2.0",
            "_model_module": "@jupyter-widgets/controls"
          }
        },
        "c57597a5df234b769b7e79270aa33f67": {
          "model_module": "@jupyter-widgets/base",
          "model_name": "LayoutModel",
          "state": {
            "_view_name": "LayoutView",
            "grid_template_rows": null,
            "right": null,
            "justify_content": null,
            "_view_module": "@jupyter-widgets/base",
            "overflow": null,
            "_model_module_version": "1.2.0",
            "_view_count": null,
            "flex_flow": null,
            "width": null,
            "min_width": null,
            "border": null,
            "align_items": null,
            "bottom": null,
            "_model_module": "@jupyter-widgets/base",
            "top": null,
            "grid_column": null,
            "overflow_y": null,
            "overflow_x": null,
            "grid_auto_flow": null,
            "grid_area": null,
            "grid_template_columns": null,
            "flex": null,
            "_model_name": "LayoutModel",
            "justify_items": null,
            "grid_row": null,
            "max_height": null,
            "align_content": null,
            "visibility": null,
            "align_self": null,
            "height": null,
            "min_height": null,
            "padding": null,
            "grid_auto_rows": null,
            "grid_gap": null,
            "max_width": null,
            "order": null,
            "_view_module_version": "1.2.0",
            "grid_template_areas": null,
            "object_position": null,
            "object_fit": null,
            "grid_auto_columns": null,
            "margin": null,
            "display": null,
            "left": null
          }
        },
        "95370bd3f1d94420902136e2f72bee1f": {
          "model_module": "@jupyter-widgets/base",
          "model_name": "LayoutModel",
          "state": {
            "_view_name": "LayoutView",
            "grid_template_rows": null,
            "right": null,
            "justify_content": null,
            "_view_module": "@jupyter-widgets/base",
            "overflow": null,
            "_model_module_version": "1.2.0",
            "_view_count": null,
            "flex_flow": null,
            "width": null,
            "min_width": null,
            "border": null,
            "align_items": null,
            "bottom": null,
            "_model_module": "@jupyter-widgets/base",
            "top": null,
            "grid_column": null,
            "overflow_y": null,
            "overflow_x": null,
            "grid_auto_flow": null,
            "grid_area": null,
            "grid_template_columns": null,
            "flex": null,
            "_model_name": "LayoutModel",
            "justify_items": null,
            "grid_row": null,
            "max_height": null,
            "align_content": null,
            "visibility": null,
            "align_self": null,
            "height": null,
            "min_height": null,
            "padding": null,
            "grid_auto_rows": null,
            "grid_gap": null,
            "max_width": null,
            "order": null,
            "_view_module_version": "1.2.0",
            "grid_template_areas": null,
            "object_position": null,
            "object_fit": null,
            "grid_auto_columns": null,
            "margin": null,
            "display": null,
            "left": null
          }
        },
        "460003668ad7408f94986b6a2cd30602": {
          "model_module": "@jupyter-widgets/controls",
          "model_name": "VBoxModel",
          "state": {
            "_view_name": "VBoxView",
            "_dom_classes": [
              "widget-interact"
            ],
            "_model_name": "VBoxModel",
            "_view_module": "@jupyter-widgets/controls",
            "_model_module_version": "1.5.0",
            "_view_count": null,
            "_view_module_version": "1.5.0",
            "box_style": "",
            "layout": "IPY_MODEL_262d0e45c7b14a21b9eeacea80e159d7",
            "_model_module": "@jupyter-widgets/controls",
            "children": [
              "IPY_MODEL_b1c1b5e610de458385629efb44603fe8",
              "IPY_MODEL_6cb14cb93f1d4418a2aebdb69cd75acc"
            ]
          }
        },
        "262d0e45c7b14a21b9eeacea80e159d7": {
          "model_module": "@jupyter-widgets/base",
          "model_name": "LayoutModel",
          "state": {
            "_view_name": "LayoutView",
            "grid_template_rows": null,
            "right": null,
            "justify_content": null,
            "_view_module": "@jupyter-widgets/base",
            "overflow": null,
            "_model_module_version": "1.2.0",
            "_view_count": null,
            "flex_flow": null,
            "width": null,
            "min_width": null,
            "border": null,
            "align_items": null,
            "bottom": null,
            "_model_module": "@jupyter-widgets/base",
            "top": null,
            "grid_column": null,
            "overflow_y": null,
            "overflow_x": null,
            "grid_auto_flow": null,
            "grid_area": null,
            "grid_template_columns": null,
            "flex": null,
            "_model_name": "LayoutModel",
            "justify_items": null,
            "grid_row": null,
            "max_height": null,
            "align_content": null,
            "visibility": null,
            "align_self": null,
            "height": null,
            "min_height": null,
            "padding": null,
            "grid_auto_rows": null,
            "grid_gap": null,
            "max_width": null,
            "order": null,
            "_view_module_version": "1.2.0",
            "grid_template_areas": null,
            "object_position": null,
            "object_fit": null,
            "grid_auto_columns": null,
            "margin": null,
            "display": null,
            "left": null
          }
        },
        "b1c1b5e610de458385629efb44603fe8": {
          "model_module": "@jupyter-widgets/controls",
          "model_name": "IntSliderModel",
          "state": {
            "_view_name": "IntSliderView",
            "style": "IPY_MODEL_56b744bca32d46e8a8487dd7a1f1ba3b",
            "_dom_classes": [],
            "description": "idx",
            "step": 1,
            "_model_name": "IntSliderModel",
            "orientation": "horizontal",
            "max": 9999,
            "_view_module": "@jupyter-widgets/controls",
            "_model_module_version": "1.5.0",
            "value": 0,
            "_view_count": null,
            "disabled": false,
            "_view_module_version": "1.5.0",
            "min": 0,
            "continuous_update": false,
            "readout_format": "d",
            "description_tooltip": null,
            "readout": true,
            "_model_module": "@jupyter-widgets/controls",
            "layout": "IPY_MODEL_8f2c631136244874a1a854cd7561501e"
          }
        },
        "6cb14cb93f1d4418a2aebdb69cd75acc": {
          "model_module": "@jupyter-widgets/output",
          "model_name": "OutputModel",
          "state": {
            "_view_name": "OutputView",
            "msg_id": "",
            "_dom_classes": [],
            "_model_name": "OutputModel",
            "outputs": [
              {
                "output_type": "stream",
                "metadata": {
                  "tags": []
                },
                "text": "GT label: 5\n",
                "stream": "stdout"
              },
              {
                "output_type": "display_data",
                "metadata": {
                  "tags": [],
                  "needs_background": "light"
                },
                "image/png": "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\n",
                "text/plain": "<Figure size 432x288 with 2 Axes>"
              }
            ],
            "_view_module": "@jupyter-widgets/output",
            "_model_module_version": "1.0.0",
            "_view_count": null,
            "_view_module_version": "1.0.0",
            "layout": "IPY_MODEL_8a2059f757db4f82a7b134ea85aa4d26",
            "_model_module": "@jupyter-widgets/output"
          }
        },
        "56b744bca32d46e8a8487dd7a1f1ba3b": {
          "model_module": "@jupyter-widgets/controls",
          "model_name": "SliderStyleModel",
          "state": {
            "_view_name": "StyleView",
            "handle_color": null,
            "_model_name": "SliderStyleModel",
            "description_width": "",
            "_view_module": "@jupyter-widgets/base",
            "_model_module_version": "1.5.0",
            "_view_count": null,
            "_view_module_version": "1.2.0",
            "_model_module": "@jupyter-widgets/controls"
          }
        },
        "8f2c631136244874a1a854cd7561501e": {
          "model_module": "@jupyter-widgets/base",
          "model_name": "LayoutModel",
          "state": {
            "_view_name": "LayoutView",
            "grid_template_rows": null,
            "right": null,
            "justify_content": null,
            "_view_module": "@jupyter-widgets/base",
            "overflow": null,
            "_model_module_version": "1.2.0",
            "_view_count": null,
            "flex_flow": null,
            "width": null,
            "min_width": null,
            "border": null,
            "align_items": null,
            "bottom": null,
            "_model_module": "@jupyter-widgets/base",
            "top": null,
            "grid_column": null,
            "overflow_y": null,
            "overflow_x": null,
            "grid_auto_flow": null,
            "grid_area": null,
            "grid_template_columns": null,
            "flex": null,
            "_model_name": "LayoutModel",
            "justify_items": null,
            "grid_row": null,
            "max_height": null,
            "align_content": null,
            "visibility": null,
            "align_self": null,
            "height": null,
            "min_height": null,
            "padding": null,
            "grid_auto_rows": null,
            "grid_gap": null,
            "max_width": null,
            "order": null,
            "_view_module_version": "1.2.0",
            "grid_template_areas": null,
            "object_position": null,
            "object_fit": null,
            "grid_auto_columns": null,
            "margin": null,
            "display": null,
            "left": null
          }
        },
        "8a2059f757db4f82a7b134ea85aa4d26": {
          "model_module": "@jupyter-widgets/base",
          "model_name": "LayoutModel",
          "state": {
            "_view_name": "LayoutView",
            "grid_template_rows": null,
            "right": null,
            "justify_content": null,
            "_view_module": "@jupyter-widgets/base",
            "overflow": null,
            "_model_module_version": "1.2.0",
            "_view_count": null,
            "flex_flow": null,
            "width": null,
            "min_width": null,
            "border": null,
            "align_items": null,
            "bottom": null,
            "_model_module": "@jupyter-widgets/base",
            "top": null,
            "grid_column": null,
            "overflow_y": null,
            "overflow_x": null,
            "grid_auto_flow": null,
            "grid_area": null,
            "grid_template_columns": null,
            "flex": null,
            "_model_name": "LayoutModel",
            "justify_items": null,
            "grid_row": null,
            "max_height": null,
            "align_content": null,
            "visibility": null,
            "align_self": null,
            "height": null,
            "min_height": null,
            "padding": null,
            "grid_auto_rows": null,
            "grid_gap": null,
            "max_width": null,
            "order": null,
            "_view_module_version": "1.2.0",
            "grid_template_areas": null,
            "object_position": null,
            "object_fit": null,
            "grid_auto_columns": null,
            "margin": null,
            "display": null,
            "left": null
          }
        },
        "8360fbea4f5b4de59966d4bb66802e4a": {
          "model_module": "@jupyter-widgets/controls",
          "model_name": "VBoxModel",
          "state": {
            "_view_name": "VBoxView",
            "_dom_classes": [
              "widget-interact"
            ],
            "_model_name": "VBoxModel",
            "_view_module": "@jupyter-widgets/controls",
            "_model_module_version": "1.5.0",
            "_view_count": null,
            "_view_module_version": "1.5.0",
            "box_style": "",
            "layout": "IPY_MODEL_66d7d76f456a4bbfa85c5731076a29c1",
            "_model_module": "@jupyter-widgets/controls",
            "children": [
              "IPY_MODEL_e25856dea5774999b257ceda6cca2842",
              "IPY_MODEL_c8738c5b39d34b3a9444154ad4edf84b"
            ]
          }
        },
        "66d7d76f456a4bbfa85c5731076a29c1": {
          "model_module": "@jupyter-widgets/base",
          "model_name": "LayoutModel",
          "state": {
            "_view_name": "LayoutView",
            "grid_template_rows": null,
            "right": null,
            "justify_content": null,
            "_view_module": "@jupyter-widgets/base",
            "overflow": null,
            "_model_module_version": "1.2.0",
            "_view_count": null,
            "flex_flow": null,
            "width": null,
            "min_width": null,
            "border": null,
            "align_items": null,
            "bottom": null,
            "_model_module": "@jupyter-widgets/base",
            "top": null,
            "grid_column": null,
            "overflow_y": null,
            "overflow_x": null,
            "grid_auto_flow": null,
            "grid_area": null,
            "grid_template_columns": null,
            "flex": null,
            "_model_name": "LayoutModel",
            "justify_items": null,
            "grid_row": null,
            "max_height": null,
            "align_content": null,
            "visibility": null,
            "align_self": null,
            "height": null,
            "min_height": null,
            "padding": null,
            "grid_auto_rows": null,
            "grid_gap": null,
            "max_width": null,
            "order": null,
            "_view_module_version": "1.2.0",
            "grid_template_areas": null,
            "object_position": null,
            "object_fit": null,
            "grid_auto_columns": null,
            "margin": null,
            "display": null,
            "left": null
          }
        },
        "e25856dea5774999b257ceda6cca2842": {
          "model_module": "@jupyter-widgets/controls",
          "model_name": "IntSliderModel",
          "state": {
            "_view_name": "IntSliderView",
            "style": "IPY_MODEL_ef5a4bdb0c144aa1a9a44b972fb74c69",
            "_dom_classes": [],
            "description": "idx",
            "step": 1,
            "_model_name": "IntSliderModel",
            "orientation": "horizontal",
            "max": 9999,
            "_view_module": "@jupyter-widgets/controls",
            "_model_module_version": "1.5.0",
            "value": 0,
            "_view_count": null,
            "disabled": false,
            "_view_module_version": "1.5.0",
            "min": 0,
            "continuous_update": false,
            "readout_format": "d",
            "description_tooltip": null,
            "readout": true,
            "_model_module": "@jupyter-widgets/controls",
            "layout": "IPY_MODEL_5a8bb0c885ae4d189c5820c5ff9ad3c1"
          }
        },
        "c8738c5b39d34b3a9444154ad4edf84b": {
          "model_module": "@jupyter-widgets/output",
          "model_name": "OutputModel",
          "state": {
            "_view_name": "OutputView",
            "msg_id": "",
            "_dom_classes": [],
            "_model_name": "OutputModel",
            "outputs": [
              {
                "output_type": "stream",
                "metadata": {
                  "tags": []
                },
                "text": "GT label: 5\n",
                "stream": "stdout"
              },
              {
                "output_type": "display_data",
                "metadata": {
                  "tags": [],
                  "needs_background": "light"
                },
                "image/png": "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\n",
                "text/plain": "<Figure size 432x288 with 2 Axes>"
              }
            ],
            "_view_module": "@jupyter-widgets/output",
            "_model_module_version": "1.0.0",
            "_view_count": null,
            "_view_module_version": "1.0.0",
            "layout": "IPY_MODEL_f0ac89798a114480a5ea512dcbd4a7a7",
            "_model_module": "@jupyter-widgets/output"
          }
        },
        "ef5a4bdb0c144aa1a9a44b972fb74c69": {
          "model_module": "@jupyter-widgets/controls",
          "model_name": "SliderStyleModel",
          "state": {
            "_view_name": "StyleView",
            "handle_color": null,
            "_model_name": "SliderStyleModel",
            "description_width": "",
            "_view_module": "@jupyter-widgets/base",
            "_model_module_version": "1.5.0",
            "_view_count": null,
            "_view_module_version": "1.2.0",
            "_model_module": "@jupyter-widgets/controls"
          }
        },
        "5a8bb0c885ae4d189c5820c5ff9ad3c1": {
          "model_module": "@jupyter-widgets/base",
          "model_name": "LayoutModel",
          "state": {
            "_view_name": "LayoutView",
            "grid_template_rows": null,
            "right": null,
            "justify_content": null,
            "_view_module": "@jupyter-widgets/base",
            "overflow": null,
            "_model_module_version": "1.2.0",
            "_view_count": null,
            "flex_flow": null,
            "width": null,
            "min_width": null,
            "border": null,
            "align_items": null,
            "bottom": null,
            "_model_module": "@jupyter-widgets/base",
            "top": null,
            "grid_column": null,
            "overflow_y": null,
            "overflow_x": null,
            "grid_auto_flow": null,
            "grid_area": null,
            "grid_template_columns": null,
            "flex": null,
            "_model_name": "LayoutModel",
            "justify_items": null,
            "grid_row": null,
            "max_height": null,
            "align_content": null,
            "visibility": null,
            "align_self": null,
            "height": null,
            "min_height": null,
            "padding": null,
            "grid_auto_rows": null,
            "grid_gap": null,
            "max_width": null,
            "order": null,
            "_view_module_version": "1.2.0",
            "grid_template_areas": null,
            "object_position": null,
            "object_fit": null,
            "grid_auto_columns": null,
            "margin": null,
            "display": null,
            "left": null
          }
        },
        "f0ac89798a114480a5ea512dcbd4a7a7": {
          "model_module": "@jupyter-widgets/base",
          "model_name": "LayoutModel",
          "state": {
            "_view_name": "LayoutView",
            "grid_template_rows": null,
            "right": null,
            "justify_content": null,
            "_view_module": "@jupyter-widgets/base",
            "overflow": null,
            "_model_module_version": "1.2.0",
            "_view_count": null,
            "flex_flow": null,
            "width": null,
            "min_width": null,
            "border": null,
            "align_items": null,
            "bottom": null,
            "_model_module": "@jupyter-widgets/base",
            "top": null,
            "grid_column": null,
            "overflow_y": null,
            "overflow_x": null,
            "grid_auto_flow": null,
            "grid_area": null,
            "grid_template_columns": null,
            "flex": null,
            "_model_name": "LayoutModel",
            "justify_items": null,
            "grid_row": null,
            "max_height": null,
            "align_content": null,
            "visibility": null,
            "align_self": null,
            "height": null,
            "min_height": null,
            "padding": null,
            "grid_auto_rows": null,
            "grid_gap": null,
            "max_width": null,
            "order": null,
            "_view_module_version": "1.2.0",
            "grid_template_areas": null,
            "object_position": null,
            "object_fit": null,
            "grid_auto_columns": null,
            "margin": null,
            "display": null,
            "left": null
          }
        },
        "dccb337b56aa4fc099bfa1d8d75b676c": {
          "model_module": "@jupyter-widgets/controls",
          "model_name": "VBoxModel",
          "state": {
            "_view_name": "VBoxView",
            "_dom_classes": [
              "widget-interact"
            ],
            "_model_name": "VBoxModel",
            "_view_module": "@jupyter-widgets/controls",
            "_model_module_version": "1.5.0",
            "_view_count": null,
            "_view_module_version": "1.5.0",
            "box_style": "",
            "layout": "IPY_MODEL_28eab8e714774d7789afb2fc116c16b6",
            "_model_module": "@jupyter-widgets/controls",
            "children": [
              "IPY_MODEL_644a8c1e642c4394a3c84a030b2d736a",
              "IPY_MODEL_027e2d69e936497783da7eddbfb55749"
            ]
          }
        },
        "28eab8e714774d7789afb2fc116c16b6": {
          "model_module": "@jupyter-widgets/base",
          "model_name": "LayoutModel",
          "state": {
            "_view_name": "LayoutView",
            "grid_template_rows": null,
            "right": null,
            "justify_content": null,
            "_view_module": "@jupyter-widgets/base",
            "overflow": null,
            "_model_module_version": "1.2.0",
            "_view_count": null,
            "flex_flow": null,
            "width": null,
            "min_width": null,
            "border": null,
            "align_items": null,
            "bottom": null,
            "_model_module": "@jupyter-widgets/base",
            "top": null,
            "grid_column": null,
            "overflow_y": null,
            "overflow_x": null,
            "grid_auto_flow": null,
            "grid_area": null,
            "grid_template_columns": null,
            "flex": null,
            "_model_name": "LayoutModel",
            "justify_items": null,
            "grid_row": null,
            "max_height": null,
            "align_content": null,
            "visibility": null,
            "align_self": null,
            "height": null,
            "min_height": null,
            "padding": null,
            "grid_auto_rows": null,
            "grid_gap": null,
            "max_width": null,
            "order": null,
            "_view_module_version": "1.2.0",
            "grid_template_areas": null,
            "object_position": null,
            "object_fit": null,
            "grid_auto_columns": null,
            "margin": null,
            "display": null,
            "left": null
          }
        },
        "644a8c1e642c4394a3c84a030b2d736a": {
          "model_module": "@jupyter-widgets/controls",
          "model_name": "IntSliderModel",
          "state": {
            "_view_name": "IntSliderView",
            "style": "IPY_MODEL_a609dfbd4ebe4cdbb996d52be7945620",
            "_dom_classes": [],
            "description": "idx",
            "step": 1,
            "_model_name": "IntSliderModel",
            "orientation": "horizontal",
            "max": 9999,
            "_view_module": "@jupyter-widgets/controls",
            "_model_module_version": "1.5.0",
            "value": 0,
            "_view_count": null,
            "disabled": false,
            "_view_module_version": "1.5.0",
            "min": 0,
            "continuous_update": false,
            "readout_format": "d",
            "description_tooltip": null,
            "readout": true,
            "_model_module": "@jupyter-widgets/controls",
            "layout": "IPY_MODEL_36b551816ae64c3da5fa94627bd7e6bc"
          }
        },
        "027e2d69e936497783da7eddbfb55749": {
          "model_module": "@jupyter-widgets/output",
          "model_name": "OutputModel",
          "state": {
            "_view_name": "OutputView",
            "msg_id": "",
            "_dom_classes": [],
            "_model_name": "OutputModel",
            "outputs": [
              {
                "output_type": "stream",
                "metadata": {
                  "tags": []
                },
                "text": "GT label: 5\n",
                "stream": "stdout"
              },
              {
                "output_type": "display_data",
                "metadata": {
                  "tags": [],
                  "needs_background": "light"
                },
                "image/png": "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\n",
                "text/plain": "<Figure size 432x288 with 2 Axes>"
              }
            ],
            "_view_module": "@jupyter-widgets/output",
            "_model_module_version": "1.0.0",
            "_view_count": null,
            "_view_module_version": "1.0.0",
            "layout": "IPY_MODEL_f0e90f143b58405b8fbe5d8f92f5c28e",
            "_model_module": "@jupyter-widgets/output"
          }
        },
        "a609dfbd4ebe4cdbb996d52be7945620": {
          "model_module": "@jupyter-widgets/controls",
          "model_name": "SliderStyleModel",
          "state": {
            "_view_name": "StyleView",
            "handle_color": null,
            "_model_name": "SliderStyleModel",
            "description_width": "",
            "_view_module": "@jupyter-widgets/base",
            "_model_module_version": "1.5.0",
            "_view_count": null,
            "_view_module_version": "1.2.0",
            "_model_module": "@jupyter-widgets/controls"
          }
        },
        "36b551816ae64c3da5fa94627bd7e6bc": {
          "model_module": "@jupyter-widgets/base",
          "model_name": "LayoutModel",
          "state": {
            "_view_name": "LayoutView",
            "grid_template_rows": null,
            "right": null,
            "justify_content": null,
            "_view_module": "@jupyter-widgets/base",
            "overflow": null,
            "_model_module_version": "1.2.0",
            "_view_count": null,
            "flex_flow": null,
            "width": null,
            "min_width": null,
            "border": null,
            "align_items": null,
            "bottom": null,
            "_model_module": "@jupyter-widgets/base",
            "top": null,
            "grid_column": null,
            "overflow_y": null,
            "overflow_x": null,
            "grid_auto_flow": null,
            "grid_area": null,
            "grid_template_columns": null,
            "flex": null,
            "_model_name": "LayoutModel",
            "justify_items": null,
            "grid_row": null,
            "max_height": null,
            "align_content": null,
            "visibility": null,
            "align_self": null,
            "height": null,
            "min_height": null,
            "padding": null,
            "grid_auto_rows": null,
            "grid_gap": null,
            "max_width": null,
            "order": null,
            "_view_module_version": "1.2.0",
            "grid_template_areas": null,
            "object_position": null,
            "object_fit": null,
            "grid_auto_columns": null,
            "margin": null,
            "display": null,
            "left": null
          }
        },
        "f0e90f143b58405b8fbe5d8f92f5c28e": {
          "model_module": "@jupyter-widgets/base",
          "model_name": "LayoutModel",
          "state": {
            "_view_name": "LayoutView",
            "grid_template_rows": null,
            "right": null,
            "justify_content": null,
            "_view_module": "@jupyter-widgets/base",
            "overflow": null,
            "_model_module_version": "1.2.0",
            "_view_count": null,
            "flex_flow": null,
            "width": null,
            "min_width": null,
            "border": null,
            "align_items": null,
            "bottom": null,
            "_model_module": "@jupyter-widgets/base",
            "top": null,
            "grid_column": null,
            "overflow_y": null,
            "overflow_x": null,
            "grid_auto_flow": null,
            "grid_area": null,
            "grid_template_columns": null,
            "flex": null,
            "_model_name": "LayoutModel",
            "justify_items": null,
            "grid_row": null,
            "max_height": null,
            "align_content": null,
            "visibility": null,
            "align_self": null,
            "height": null,
            "min_height": null,
            "padding": null,
            "grid_auto_rows": null,
            "grid_gap": null,
            "max_width": null,
            "order": null,
            "_view_module_version": "1.2.0",
            "grid_template_areas": null,
            "object_position": null,
            "object_fit": null,
            "grid_auto_columns": null,
            "margin": null,
            "display": null,
            "left": null
          }
        },
        "2c5d9b6d66e744829858a5c98796f6fb": {
          "model_module": "@jupyter-widgets/controls",
          "model_name": "HBoxModel",
          "state": {
            "_view_name": "HBoxView",
            "_dom_classes": [],
            "_model_name": "HBoxModel",
            "_view_module": "@jupyter-widgets/controls",
            "_model_module_version": "1.5.0",
            "_view_count": null,
            "_view_module_version": "1.5.0",
            "box_style": "",
            "layout": "IPY_MODEL_b712bd30d4e84b7ebc6fbfa56a7dcf13",
            "_model_module": "@jupyter-widgets/controls",
            "children": [
              "IPY_MODEL_ca1f6146def84001938cbb8ec1d07ebc",
              "IPY_MODEL_4d7c082d7ee44f2d9625c5066bfa95e6"
            ]
          }
        },
        "b712bd30d4e84b7ebc6fbfa56a7dcf13": {
          "model_module": "@jupyter-widgets/base",
          "model_name": "LayoutModel",
          "state": {
            "_view_name": "LayoutView",
            "grid_template_rows": null,
            "right": null,
            "justify_content": null,
            "_view_module": "@jupyter-widgets/base",
            "overflow": null,
            "_model_module_version": "1.2.0",
            "_view_count": null,
            "flex_flow": null,
            "width": null,
            "min_width": null,
            "border": null,
            "align_items": null,
            "bottom": null,
            "_model_module": "@jupyter-widgets/base",
            "top": null,
            "grid_column": null,
            "overflow_y": null,
            "overflow_x": null,
            "grid_auto_flow": null,
            "grid_area": null,
            "grid_template_columns": null,
            "flex": null,
            "_model_name": "LayoutModel",
            "justify_items": null,
            "grid_row": null,
            "max_height": null,
            "align_content": null,
            "visibility": null,
            "align_self": null,
            "height": null,
            "min_height": null,
            "padding": null,
            "grid_auto_rows": null,
            "grid_gap": null,
            "max_width": null,
            "order": null,
            "_view_module_version": "1.2.0",
            "grid_template_areas": null,
            "object_position": null,
            "object_fit": null,
            "grid_auto_columns": null,
            "margin": null,
            "display": null,
            "left": null
          }
        },
        "ca1f6146def84001938cbb8ec1d07ebc": {
          "model_module": "@jupyter-widgets/controls",
          "model_name": "FloatSliderModel",
          "state": {
            "_view_name": "FloatSliderView",
            "style": "IPY_MODEL_91cad69ec06f4430b6ec0f4d1e676f2d",
            "_dom_classes": [],
            "description": "",
            "step": 0.1,
            "_model_name": "FloatSliderModel",
            "orientation": "horizontal",
            "max": 20,
            "_view_module": "@jupyter-widgets/controls",
            "_model_module_version": "1.5.0",
            "value": 0,
            "_view_count": null,
            "disabled": false,
            "_view_module_version": "1.5.0",
            "min": -20,
            "continuous_update": true,
            "readout_format": ".2f",
            "description_tooltip": null,
            "readout": true,
            "_model_module": "@jupyter-widgets/controls",
            "layout": "IPY_MODEL_50589805bfe8426cb048957b5d9d91f3"
          }
        },
        "4d7c082d7ee44f2d9625c5066bfa95e6": {
          "model_module": "@jupyter-widgets/controls",
          "model_name": "FloatSliderModel",
          "state": {
            "_view_name": "FloatSliderView",
            "style": "IPY_MODEL_c090c4342c31444289aea7e833ce64ae",
            "_dom_classes": [],
            "description": "",
            "step": 0.1,
            "_model_name": "FloatSliderModel",
            "orientation": "horizontal",
            "max": 20,
            "_view_module": "@jupyter-widgets/controls",
            "_model_module_version": "1.5.0",
            "value": 0,
            "_view_count": null,
            "disabled": false,
            "_view_module_version": "1.5.0",
            "min": -20,
            "continuous_update": true,
            "readout_format": ".2f",
            "description_tooltip": null,
            "readout": true,
            "_model_module": "@jupyter-widgets/controls",
            "layout": "IPY_MODEL_9b319903da1e4a9e9918b88377166df0"
          }
        },
        "91cad69ec06f4430b6ec0f4d1e676f2d": {
          "model_module": "@jupyter-widgets/controls",
          "model_name": "SliderStyleModel",
          "state": {
            "_view_name": "StyleView",
            "handle_color": null,
            "_model_name": "SliderStyleModel",
            "description_width": "",
            "_view_module": "@jupyter-widgets/base",
            "_model_module_version": "1.5.0",
            "_view_count": null,
            "_view_module_version": "1.2.0",
            "_model_module": "@jupyter-widgets/controls"
          }
        },
        "50589805bfe8426cb048957b5d9d91f3": {
          "model_module": "@jupyter-widgets/base",
          "model_name": "LayoutModel",
          "state": {
            "_view_name": "LayoutView",
            "grid_template_rows": null,
            "right": null,
            "justify_content": null,
            "_view_module": "@jupyter-widgets/base",
            "overflow": null,
            "_model_module_version": "1.2.0",
            "_view_count": null,
            "flex_flow": null,
            "width": null,
            "min_width": null,
            "border": null,
            "align_items": null,
            "bottom": null,
            "_model_module": "@jupyter-widgets/base",
            "top": null,
            "grid_column": null,
            "overflow_y": null,
            "overflow_x": null,
            "grid_auto_flow": null,
            "grid_area": null,
            "grid_template_columns": null,
            "flex": null,
            "_model_name": "LayoutModel",
            "justify_items": null,
            "grid_row": null,
            "max_height": null,
            "align_content": null,
            "visibility": null,
            "align_self": null,
            "height": null,
            "min_height": null,
            "padding": null,
            "grid_auto_rows": null,
            "grid_gap": null,
            "max_width": null,
            "order": null,
            "_view_module_version": "1.2.0",
            "grid_template_areas": null,
            "object_position": null,
            "object_fit": null,
            "grid_auto_columns": null,
            "margin": null,
            "display": null,
            "left": null
          }
        },
        "c090c4342c31444289aea7e833ce64ae": {
          "model_module": "@jupyter-widgets/controls",
          "model_name": "SliderStyleModel",
          "state": {
            "_view_name": "StyleView",
            "handle_color": null,
            "_model_name": "SliderStyleModel",
            "description_width": "",
            "_view_module": "@jupyter-widgets/base",
            "_model_module_version": "1.5.0",
            "_view_count": null,
            "_view_module_version": "1.2.0",
            "_model_module": "@jupyter-widgets/controls"
          }
        },
        "9b319903da1e4a9e9918b88377166df0": {
          "model_module": "@jupyter-widgets/base",
          "model_name": "LayoutModel",
          "state": {
            "_view_name": "LayoutView",
            "grid_template_rows": null,
            "right": null,
            "justify_content": null,
            "_view_module": "@jupyter-widgets/base",
            "overflow": null,
            "_model_module_version": "1.2.0",
            "_view_count": null,
            "flex_flow": null,
            "width": null,
            "min_width": null,
            "border": null,
            "align_items": null,
            "bottom": null,
            "_model_module": "@jupyter-widgets/base",
            "top": null,
            "grid_column": null,
            "overflow_y": null,
            "overflow_x": null,
            "grid_auto_flow": null,
            "grid_area": null,
            "grid_template_columns": null,
            "flex": null,
            "_model_name": "LayoutModel",
            "justify_items": null,
            "grid_row": null,
            "max_height": null,
            "align_content": null,
            "visibility": null,
            "align_self": null,
            "height": null,
            "min_height": null,
            "padding": null,
            "grid_auto_rows": null,
            "grid_gap": null,
            "max_width": null,
            "order": null,
            "_view_module_version": "1.2.0",
            "grid_template_areas": null,
            "object_position": null,
            "object_fit": null,
            "grid_auto_columns": null,
            "margin": null,
            "display": null,
            "left": null
          }
        },
        "8f46330d6c734a7ebf4360a750c55c52": {
          "model_module": "@jupyter-widgets/output",
          "model_name": "OutputModel",
          "state": {
            "_view_name": "OutputView",
            "msg_id": "",
            "_dom_classes": [],
            "_model_name": "OutputModel",
            "outputs": [
              {
                "output_type": "stream",
                "metadata": {
                  "tags": []
                },
                "text": "[[0. 0.]]\n",
                "stream": "stdout"
              },
              {
                "output_type": "display_data",
                "metadata": {
                  "tags": [],
                  "needs_background": "light"
                },
                "image/png": "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\n",
                "text/plain": "<Figure size 432x288 with 1 Axes>"
              }
            ],
            "_view_module": "@jupyter-widgets/output",
            "_model_module_version": "1.0.0",
            "_view_count": null,
            "_view_module_version": "1.0.0",
            "layout": "IPY_MODEL_5f3925e4de9d4a41bddb056c775e180c",
            "_model_module": "@jupyter-widgets/output"
          }
        },
        "5f3925e4de9d4a41bddb056c775e180c": {
          "model_module": "@jupyter-widgets/base",
          "model_name": "LayoutModel",
          "state": {
            "_view_name": "LayoutView",
            "grid_template_rows": null,
            "right": null,
            "justify_content": null,
            "_view_module": "@jupyter-widgets/base",
            "overflow": null,
            "_model_module_version": "1.2.0",
            "_view_count": null,
            "flex_flow": null,
            "width": null,
            "min_width": null,
            "border": null,
            "align_items": null,
            "bottom": null,
            "_model_module": "@jupyter-widgets/base",
            "top": null,
            "grid_column": null,
            "overflow_y": null,
            "overflow_x": null,
            "grid_auto_flow": null,
            "grid_area": null,
            "grid_template_columns": null,
            "flex": null,
            "_model_name": "LayoutModel",
            "justify_items": null,
            "grid_row": null,
            "max_height": null,
            "align_content": null,
            "visibility": null,
            "align_self": null,
            "height": null,
            "min_height": null,
            "padding": null,
            "grid_auto_rows": null,
            "grid_gap": null,
            "max_width": null,
            "order": null,
            "_view_module_version": "1.2.0",
            "grid_template_areas": null,
            "object_position": null,
            "object_fit": null,
            "grid_auto_columns": null,
            "margin": null,
            "display": null,
            "left": null
          }
        },
        "d5b808c1627e4791bb166c5236d78824": {
          "model_module": "@jupyter-widgets/controls",
          "model_name": "VBoxModel",
          "state": {
            "_view_name": "VBoxView",
            "_dom_classes": [
              "widget-interact"
            ],
            "_model_name": "VBoxModel",
            "_view_module": "@jupyter-widgets/controls",
            "_model_module_version": "1.5.0",
            "_view_count": null,
            "_view_module_version": "1.5.0",
            "box_style": "",
            "layout": "IPY_MODEL_64eafc27ea6b45759056654c71d05a4e",
            "_model_module": "@jupyter-widgets/controls",
            "children": [
              "IPY_MODEL_f31dcc727e7a4861b0285085b7a87b55",
              "IPY_MODEL_1dc39324588742f4bcf672221e36405a"
            ]
          }
        },
        "64eafc27ea6b45759056654c71d05a4e": {
          "model_module": "@jupyter-widgets/base",
          "model_name": "LayoutModel",
          "state": {
            "_view_name": "LayoutView",
            "grid_template_rows": null,
            "right": null,
            "justify_content": null,
            "_view_module": "@jupyter-widgets/base",
            "overflow": null,
            "_model_module_version": "1.2.0",
            "_view_count": null,
            "flex_flow": null,
            "width": null,
            "min_width": null,
            "border": null,
            "align_items": null,
            "bottom": null,
            "_model_module": "@jupyter-widgets/base",
            "top": null,
            "grid_column": null,
            "overflow_y": null,
            "overflow_x": null,
            "grid_auto_flow": null,
            "grid_area": null,
            "grid_template_columns": null,
            "flex": null,
            "_model_name": "LayoutModel",
            "justify_items": null,
            "grid_row": null,
            "max_height": null,
            "align_content": null,
            "visibility": null,
            "align_self": null,
            "height": null,
            "min_height": null,
            "padding": null,
            "grid_auto_rows": null,
            "grid_gap": null,
            "max_width": null,
            "order": null,
            "_view_module_version": "1.2.0",
            "grid_template_areas": null,
            "object_position": null,
            "object_fit": null,
            "grid_auto_columns": null,
            "margin": null,
            "display": null,
            "left": null
          }
        },
        "f31dcc727e7a4861b0285085b7a87b55": {
          "model_module": "@jupyter-widgets/controls",
          "model_name": "IntSliderModel",
          "state": {
            "_view_name": "IntSliderView",
            "style": "IPY_MODEL_b2f9f0bd5e604266b5052a256c8791c1",
            "_dom_classes": [],
            "description": "idx",
            "step": 1,
            "_model_name": "IntSliderModel",
            "orientation": "horizontal",
            "max": 9999,
            "_view_module": "@jupyter-widgets/controls",
            "_model_module_version": "1.5.0",
            "value": 0,
            "_view_count": null,
            "disabled": false,
            "_view_module_version": "1.5.0",
            "min": 0,
            "continuous_update": false,
            "readout_format": "d",
            "description_tooltip": null,
            "readout": true,
            "_model_module": "@jupyter-widgets/controls",
            "layout": "IPY_MODEL_c4b12e9980964047b3981f5a90b70d61"
          }
        },
        "1dc39324588742f4bcf672221e36405a": {
          "model_module": "@jupyter-widgets/output",
          "model_name": "OutputModel",
          "state": {
            "_view_name": "OutputView",
            "msg_id": "",
            "_dom_classes": [],
            "_model_name": "OutputModel",
            "outputs": [
              {
                "output_type": "stream",
                "metadata": {
                  "tags": []
                },
                "text": "GT label: 5\n",
                "stream": "stdout"
              },
              {
                "output_type": "display_data",
                "metadata": {
                  "tags": [],
                  "needs_background": "light"
                },
                "image/png": "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\n",
                "text/plain": "<Figure size 432x288 with 2 Axes>"
              }
            ],
            "_view_module": "@jupyter-widgets/output",
            "_model_module_version": "1.0.0",
            "_view_count": null,
            "_view_module_version": "1.0.0",
            "layout": "IPY_MODEL_20babee9e08440d7bfc191badec4eef3",
            "_model_module": "@jupyter-widgets/output"
          }
        },
        "b2f9f0bd5e604266b5052a256c8791c1": {
          "model_module": "@jupyter-widgets/controls",
          "model_name": "SliderStyleModel",
          "state": {
            "_view_name": "StyleView",
            "handle_color": null,
            "_model_name": "SliderStyleModel",
            "description_width": "",
            "_view_module": "@jupyter-widgets/base",
            "_model_module_version": "1.5.0",
            "_view_count": null,
            "_view_module_version": "1.2.0",
            "_model_module": "@jupyter-widgets/controls"
          }
        },
        "c4b12e9980964047b3981f5a90b70d61": {
          "model_module": "@jupyter-widgets/base",
          "model_name": "LayoutModel",
          "state": {
            "_view_name": "LayoutView",
            "grid_template_rows": null,
            "right": null,
            "justify_content": null,
            "_view_module": "@jupyter-widgets/base",
            "overflow": null,
            "_model_module_version": "1.2.0",
            "_view_count": null,
            "flex_flow": null,
            "width": null,
            "min_width": null,
            "border": null,
            "align_items": null,
            "bottom": null,
            "_model_module": "@jupyter-widgets/base",
            "top": null,
            "grid_column": null,
            "overflow_y": null,
            "overflow_x": null,
            "grid_auto_flow": null,
            "grid_area": null,
            "grid_template_columns": null,
            "flex": null,
            "_model_name": "LayoutModel",
            "justify_items": null,
            "grid_row": null,
            "max_height": null,
            "align_content": null,
            "visibility": null,
            "align_self": null,
            "height": null,
            "min_height": null,
            "padding": null,
            "grid_auto_rows": null,
            "grid_gap": null,
            "max_width": null,
            "order": null,
            "_view_module_version": "1.2.0",
            "grid_template_areas": null,
            "object_position": null,
            "object_fit": null,
            "grid_auto_columns": null,
            "margin": null,
            "display": null,
            "left": null
          }
        },
        "20babee9e08440d7bfc191badec4eef3": {
          "model_module": "@jupyter-widgets/base",
          "model_name": "LayoutModel",
          "state": {
            "_view_name": "LayoutView",
            "grid_template_rows": null,
            "right": null,
            "justify_content": null,
            "_view_module": "@jupyter-widgets/base",
            "overflow": null,
            "_model_module_version": "1.2.0",
            "_view_count": null,
            "flex_flow": null,
            "width": null,
            "min_width": null,
            "border": null,
            "align_items": null,
            "bottom": null,
            "_model_module": "@jupyter-widgets/base",
            "top": null,
            "grid_column": null,
            "overflow_y": null,
            "overflow_x": null,
            "grid_auto_flow": null,
            "grid_area": null,
            "grid_template_columns": null,
            "flex": null,
            "_model_name": "LayoutModel",
            "justify_items": null,
            "grid_row": null,
            "max_height": null,
            "align_content": null,
            "visibility": null,
            "align_self": null,
            "height": null,
            "min_height": null,
            "padding": null,
            "grid_auto_rows": null,
            "grid_gap": null,
            "max_width": null,
            "order": null,
            "_view_module_version": "1.2.0",
            "grid_template_areas": null,
            "object_position": null,
            "object_fit": null,
            "grid_auto_columns": null,
            "margin": null,
            "display": null,
            "left": null
          }
        },
        "71c93235c0bd4781a6d93dcab3953b9a": {
          "model_module": "@jupyter-widgets/controls",
          "model_name": "HBoxModel",
          "state": {
            "_view_name": "HBoxView",
            "_dom_classes": [],
            "_model_name": "HBoxModel",
            "_view_module": "@jupyter-widgets/controls",
            "_model_module_version": "1.5.0",
            "_view_count": null,
            "_view_module_version": "1.5.0",
            "box_style": "",
            "layout": "IPY_MODEL_879bef7551e8468486261250a9c26012",
            "_model_module": "@jupyter-widgets/controls",
            "children": [
              "IPY_MODEL_fee7bd28281e4b2bb308e323c2ae5aec",
              "IPY_MODEL_6378bd383d3b4f8793871a41262f8085"
            ]
          }
        },
        "879bef7551e8468486261250a9c26012": {
          "model_module": "@jupyter-widgets/base",
          "model_name": "LayoutModel",
          "state": {
            "_view_name": "LayoutView",
            "grid_template_rows": null,
            "right": null,
            "justify_content": null,
            "_view_module": "@jupyter-widgets/base",
            "overflow": null,
            "_model_module_version": "1.2.0",
            "_view_count": null,
            "flex_flow": null,
            "width": null,
            "min_width": null,
            "border": null,
            "align_items": null,
            "bottom": null,
            "_model_module": "@jupyter-widgets/base",
            "top": null,
            "grid_column": null,
            "overflow_y": null,
            "overflow_x": null,
            "grid_auto_flow": null,
            "grid_area": null,
            "grid_template_columns": null,
            "flex": null,
            "_model_name": "LayoutModel",
            "justify_items": null,
            "grid_row": null,
            "max_height": null,
            "align_content": null,
            "visibility": null,
            "align_self": null,
            "height": null,
            "min_height": null,
            "padding": null,
            "grid_auto_rows": null,
            "grid_gap": null,
            "max_width": null,
            "order": null,
            "_view_module_version": "1.2.0",
            "grid_template_areas": null,
            "object_position": null,
            "object_fit": null,
            "grid_auto_columns": null,
            "margin": null,
            "display": null,
            "left": null
          }
        },
        "fee7bd28281e4b2bb308e323c2ae5aec": {
          "model_module": "@jupyter-widgets/controls",
          "model_name": "FloatSliderModel",
          "state": {
            "_view_name": "FloatSliderView",
            "style": "IPY_MODEL_e12da23bb1584246857b426b18e0e5d2",
            "_dom_classes": [],
            "description": "",
            "step": 0.1,
            "_model_name": "FloatSliderModel",
            "orientation": "horizontal",
            "max": 20,
            "_view_module": "@jupyter-widgets/controls",
            "_model_module_version": "1.5.0",
            "value": 0,
            "_view_count": null,
            "disabled": false,
            "_view_module_version": "1.5.0",
            "min": -20,
            "continuous_update": true,
            "readout_format": ".2f",
            "description_tooltip": null,
            "readout": true,
            "_model_module": "@jupyter-widgets/controls",
            "layout": "IPY_MODEL_5fe1a16215ae4e6c9f6043c2fdc07d84"
          }
        },
        "6378bd383d3b4f8793871a41262f8085": {
          "model_module": "@jupyter-widgets/controls",
          "model_name": "FloatSliderModel",
          "state": {
            "_view_name": "FloatSliderView",
            "style": "IPY_MODEL_d5720f2bfbe4460c957007de044a0e7a",
            "_dom_classes": [],
            "description": "",
            "step": 0.1,
            "_model_name": "FloatSliderModel",
            "orientation": "horizontal",
            "max": 20,
            "_view_module": "@jupyter-widgets/controls",
            "_model_module_version": "1.5.0",
            "value": 0,
            "_view_count": null,
            "disabled": false,
            "_view_module_version": "1.5.0",
            "min": -20,
            "continuous_update": true,
            "readout_format": ".2f",
            "description_tooltip": null,
            "readout": true,
            "_model_module": "@jupyter-widgets/controls",
            "layout": "IPY_MODEL_67570cb63e6d41b99e45d58d7bb0cdf2"
          }
        },
        "e12da23bb1584246857b426b18e0e5d2": {
          "model_module": "@jupyter-widgets/controls",
          "model_name": "SliderStyleModel",
          "state": {
            "_view_name": "StyleView",
            "handle_color": null,
            "_model_name": "SliderStyleModel",
            "description_width": "",
            "_view_module": "@jupyter-widgets/base",
            "_model_module_version": "1.5.0",
            "_view_count": null,
            "_view_module_version": "1.2.0",
            "_model_module": "@jupyter-widgets/controls"
          }
        },
        "5fe1a16215ae4e6c9f6043c2fdc07d84": {
          "model_module": "@jupyter-widgets/base",
          "model_name": "LayoutModel",
          "state": {
            "_view_name": "LayoutView",
            "grid_template_rows": null,
            "right": null,
            "justify_content": null,
            "_view_module": "@jupyter-widgets/base",
            "overflow": null,
            "_model_module_version": "1.2.0",
            "_view_count": null,
            "flex_flow": null,
            "width": null,
            "min_width": null,
            "border": null,
            "align_items": null,
            "bottom": null,
            "_model_module": "@jupyter-widgets/base",
            "top": null,
            "grid_column": null,
            "overflow_y": null,
            "overflow_x": null,
            "grid_auto_flow": null,
            "grid_area": null,
            "grid_template_columns": null,
            "flex": null,
            "_model_name": "LayoutModel",
            "justify_items": null,
            "grid_row": null,
            "max_height": null,
            "align_content": null,
            "visibility": null,
            "align_self": null,
            "height": null,
            "min_height": null,
            "padding": null,
            "grid_auto_rows": null,
            "grid_gap": null,
            "max_width": null,
            "order": null,
            "_view_module_version": "1.2.0",
            "grid_template_areas": null,
            "object_position": null,
            "object_fit": null,
            "grid_auto_columns": null,
            "margin": null,
            "display": null,
            "left": null
          }
        },
        "d5720f2bfbe4460c957007de044a0e7a": {
          "model_module": "@jupyter-widgets/controls",
          "model_name": "SliderStyleModel",
          "state": {
            "_view_name": "StyleView",
            "handle_color": null,
            "_model_name": "SliderStyleModel",
            "description_width": "",
            "_view_module": "@jupyter-widgets/base",
            "_model_module_version": "1.5.0",
            "_view_count": null,
            "_view_module_version": "1.2.0",
            "_model_module": "@jupyter-widgets/controls"
          }
        },
        "67570cb63e6d41b99e45d58d7bb0cdf2": {
          "model_module": "@jupyter-widgets/base",
          "model_name": "LayoutModel",
          "state": {
            "_view_name": "LayoutView",
            "grid_template_rows": null,
            "right": null,
            "justify_content": null,
            "_view_module": "@jupyter-widgets/base",
            "overflow": null,
            "_model_module_version": "1.2.0",
            "_view_count": null,
            "flex_flow": null,
            "width": null,
            "min_width": null,
            "border": null,
            "align_items": null,
            "bottom": null,
            "_model_module": "@jupyter-widgets/base",
            "top": null,
            "grid_column": null,
            "overflow_y": null,
            "overflow_x": null,
            "grid_auto_flow": null,
            "grid_area": null,
            "grid_template_columns": null,
            "flex": null,
            "_model_name": "LayoutModel",
            "justify_items": null,
            "grid_row": null,
            "max_height": null,
            "align_content": null,
            "visibility": null,
            "align_self": null,
            "height": null,
            "min_height": null,
            "padding": null,
            "grid_auto_rows": null,
            "grid_gap": null,
            "max_width": null,
            "order": null,
            "_view_module_version": "1.2.0",
            "grid_template_areas": null,
            "object_position": null,
            "object_fit": null,
            "grid_auto_columns": null,
            "margin": null,
            "display": null,
            "left": null
          }
        },
        "6b116d808958413098df3c0d00e804df": {
          "model_module": "@jupyter-widgets/output",
          "model_name": "OutputModel",
          "state": {
            "_view_name": "OutputView",
            "msg_id": "",
            "_dom_classes": [],
            "_model_name": "OutputModel",
            "outputs": [
              {
                "output_type": "stream",
                "metadata": {
                  "tags": []
                },
                "text": "[[0. 0.]]\n",
                "stream": "stdout"
              },
              {
                "output_type": "display_data",
                "metadata": {
                  "tags": [],
                  "needs_background": "light"
                },
                "image/png": "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\n",
                "text/plain": "<Figure size 432x288 with 1 Axes>"
              }
            ],
            "_view_module": "@jupyter-widgets/output",
            "_model_module_version": "1.0.0",
            "_view_count": null,
            "_view_module_version": "1.0.0",
            "layout": "IPY_MODEL_4956803fd7374f6a9b09cd3666f9d825",
            "_model_module": "@jupyter-widgets/output"
          }
        },
        "4956803fd7374f6a9b09cd3666f9d825": {
          "model_module": "@jupyter-widgets/base",
          "model_name": "LayoutModel",
          "state": {
            "_view_name": "LayoutView",
            "grid_template_rows": null,
            "right": null,
            "justify_content": null,
            "_view_module": "@jupyter-widgets/base",
            "overflow": null,
            "_model_module_version": "1.2.0",
            "_view_count": null,
            "flex_flow": null,
            "width": null,
            "min_width": null,
            "border": null,
            "align_items": null,
            "bottom": null,
            "_model_module": "@jupyter-widgets/base",
            "top": null,
            "grid_column": null,
            "overflow_y": null,
            "overflow_x": null,
            "grid_auto_flow": null,
            "grid_area": null,
            "grid_template_columns": null,
            "flex": null,
            "_model_name": "LayoutModel",
            "justify_items": null,
            "grid_row": null,
            "max_height": null,
            "align_content": null,
            "visibility": null,
            "align_self": null,
            "height": null,
            "min_height": null,
            "padding": null,
            "grid_auto_rows": null,
            "grid_gap": null,
            "max_width": null,
            "order": null,
            "_view_module_version": "1.2.0",
            "grid_template_areas": null,
            "object_position": null,
            "object_fit": null,
            "grid_auto_columns": null,
            "margin": null,
            "display": null,
            "left": null
          }
        },
        "25aa5a2e7bd54992917c8ac3f1b02682": {
          "model_module": "@jupyter-widgets/controls",
          "model_name": "VBoxModel",
          "state": {
            "_view_name": "VBoxView",
            "_dom_classes": [
              "widget-interact"
            ],
            "_model_name": "VBoxModel",
            "_view_module": "@jupyter-widgets/controls",
            "_model_module_version": "1.5.0",
            "_view_count": null,
            "_view_module_version": "1.5.0",
            "box_style": "",
            "layout": "IPY_MODEL_b0ac072d91bc4dc1a839dad6cf6675c9",
            "_model_module": "@jupyter-widgets/controls",
            "children": [
              "IPY_MODEL_c32fe1e469af4a3aa2a77c702b9cffee",
              "IPY_MODEL_89d827e90a4e4e94be59a3c8f4da0836"
            ]
          }
        },
        "b0ac072d91bc4dc1a839dad6cf6675c9": {
          "model_module": "@jupyter-widgets/base",
          "model_name": "LayoutModel",
          "state": {
            "_view_name": "LayoutView",
            "grid_template_rows": null,
            "right": null,
            "justify_content": null,
            "_view_module": "@jupyter-widgets/base",
            "overflow": null,
            "_model_module_version": "1.2.0",
            "_view_count": null,
            "flex_flow": null,
            "width": null,
            "min_width": null,
            "border": null,
            "align_items": null,
            "bottom": null,
            "_model_module": "@jupyter-widgets/base",
            "top": null,
            "grid_column": null,
            "overflow_y": null,
            "overflow_x": null,
            "grid_auto_flow": null,
            "grid_area": null,
            "grid_template_columns": null,
            "flex": null,
            "_model_name": "LayoutModel",
            "justify_items": null,
            "grid_row": null,
            "max_height": null,
            "align_content": null,
            "visibility": null,
            "align_self": null,
            "height": null,
            "min_height": null,
            "padding": null,
            "grid_auto_rows": null,
            "grid_gap": null,
            "max_width": null,
            "order": null,
            "_view_module_version": "1.2.0",
            "grid_template_areas": null,
            "object_position": null,
            "object_fit": null,
            "grid_auto_columns": null,
            "margin": null,
            "display": null,
            "left": null
          }
        },
        "c32fe1e469af4a3aa2a77c702b9cffee": {
          "model_module": "@jupyter-widgets/controls",
          "model_name": "IntSliderModel",
          "state": {
            "_view_name": "IntSliderView",
            "style": "IPY_MODEL_009586a380c44e4f845c78ec5f5a88f0",
            "_dom_classes": [],
            "description": "idx",
            "step": 1,
            "_model_name": "IntSliderModel",
            "orientation": "horizontal",
            "max": 9999,
            "_view_module": "@jupyter-widgets/controls",
            "_model_module_version": "1.5.0",
            "value": 0,
            "_view_count": null,
            "disabled": false,
            "_view_module_version": "1.5.0",
            "min": 0,
            "continuous_update": false,
            "readout_format": "d",
            "description_tooltip": null,
            "readout": true,
            "_model_module": "@jupyter-widgets/controls",
            "layout": "IPY_MODEL_299a5c0828a84f25bd4d2a8fc260291a"
          }
        },
        "89d827e90a4e4e94be59a3c8f4da0836": {
          "model_module": "@jupyter-widgets/output",
          "model_name": "OutputModel",
          "state": {
            "_view_name": "OutputView",
            "msg_id": "",
            "_dom_classes": [],
            "_model_name": "OutputModel",
            "outputs": [
              {
                "output_type": "stream",
                "metadata": {
                  "tags": []
                },
                "text": "GT label: 5\n",
                "stream": "stdout"
              },
              {
                "output_type": "display_data",
                "metadata": {
                  "tags": [],
                  "needs_background": "light"
                },
                "image/png": "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\n",
                "text/plain": "<Figure size 432x288 with 2 Axes>"
              }
            ],
            "_view_module": "@jupyter-widgets/output",
            "_model_module_version": "1.0.0",
            "_view_count": null,
            "_view_module_version": "1.0.0",
            "layout": "IPY_MODEL_7fa510247ef84e858a97908b04fd40a1",
            "_model_module": "@jupyter-widgets/output"
          }
        },
        "009586a380c44e4f845c78ec5f5a88f0": {
          "model_module": "@jupyter-widgets/controls",
          "model_name": "SliderStyleModel",
          "state": {
            "_view_name": "StyleView",
            "handle_color": null,
            "_model_name": "SliderStyleModel",
            "description_width": "",
            "_view_module": "@jupyter-widgets/base",
            "_model_module_version": "1.5.0",
            "_view_count": null,
            "_view_module_version": "1.2.0",
            "_model_module": "@jupyter-widgets/controls"
          }
        },
        "299a5c0828a84f25bd4d2a8fc260291a": {
          "model_module": "@jupyter-widgets/base",
          "model_name": "LayoutModel",
          "state": {
            "_view_name": "LayoutView",
            "grid_template_rows": null,
            "right": null,
            "justify_content": null,
            "_view_module": "@jupyter-widgets/base",
            "overflow": null,
            "_model_module_version": "1.2.0",
            "_view_count": null,
            "flex_flow": null,
            "width": null,
            "min_width": null,
            "border": null,
            "align_items": null,
            "bottom": null,
            "_model_module": "@jupyter-widgets/base",
            "top": null,
            "grid_column": null,
            "overflow_y": null,
            "overflow_x": null,
            "grid_auto_flow": null,
            "grid_area": null,
            "grid_template_columns": null,
            "flex": null,
            "_model_name": "LayoutModel",
            "justify_items": null,
            "grid_row": null,
            "max_height": null,
            "align_content": null,
            "visibility": null,
            "align_self": null,
            "height": null,
            "min_height": null,
            "padding": null,
            "grid_auto_rows": null,
            "grid_gap": null,
            "max_width": null,
            "order": null,
            "_view_module_version": "1.2.0",
            "grid_template_areas": null,
            "object_position": null,
            "object_fit": null,
            "grid_auto_columns": null,
            "margin": null,
            "display": null,
            "left": null
          }
        },
        "7fa510247ef84e858a97908b04fd40a1": {
          "model_module": "@jupyter-widgets/base",
          "model_name": "LayoutModel",
          "state": {
            "_view_name": "LayoutView",
            "grid_template_rows": null,
            "right": null,
            "justify_content": null,
            "_view_module": "@jupyter-widgets/base",
            "overflow": null,
            "_model_module_version": "1.2.0",
            "_view_count": null,
            "flex_flow": null,
            "width": null,
            "min_width": null,
            "border": null,
            "align_items": null,
            "bottom": null,
            "_model_module": "@jupyter-widgets/base",
            "top": null,
            "grid_column": null,
            "overflow_y": null,
            "overflow_x": null,
            "grid_auto_flow": null,
            "grid_area": null,
            "grid_template_columns": null,
            "flex": null,
            "_model_name": "LayoutModel",
            "justify_items": null,
            "grid_row": null,
            "max_height": null,
            "align_content": null,
            "visibility": null,
            "align_self": null,
            "height": null,
            "min_height": null,
            "padding": null,
            "grid_auto_rows": null,
            "grid_gap": null,
            "max_width": null,
            "order": null,
            "_view_module_version": "1.2.0",
            "grid_template_areas": null,
            "object_position": null,
            "object_fit": null,
            "grid_auto_columns": null,
            "margin": null,
            "display": null,
            "left": null
          }
        },
        "229516a9f674460bb87b941f4b4310d4": {
          "model_module": "@jupyter-widgets/controls",
          "model_name": "HBoxModel",
          "state": {
            "_view_name": "HBoxView",
            "_dom_classes": [],
            "_model_name": "HBoxModel",
            "_view_module": "@jupyter-widgets/controls",
            "_model_module_version": "1.5.0",
            "_view_count": null,
            "_view_module_version": "1.5.0",
            "box_style": "",
            "layout": "IPY_MODEL_fd52c25404674dd293ad645c59ea679d",
            "_model_module": "@jupyter-widgets/controls",
            "children": [
              "IPY_MODEL_677f1534fa384649a58052085c98109f",
              "IPY_MODEL_e76df9bae15041aa990ddf0c15cc2853"
            ]
          }
        },
        "fd52c25404674dd293ad645c59ea679d": {
          "model_module": "@jupyter-widgets/base",
          "model_name": "LayoutModel",
          "state": {
            "_view_name": "LayoutView",
            "grid_template_rows": null,
            "right": null,
            "justify_content": null,
            "_view_module": "@jupyter-widgets/base",
            "overflow": null,
            "_model_module_version": "1.2.0",
            "_view_count": null,
            "flex_flow": null,
            "width": null,
            "min_width": null,
            "border": null,
            "align_items": null,
            "bottom": null,
            "_model_module": "@jupyter-widgets/base",
            "top": null,
            "grid_column": null,
            "overflow_y": null,
            "overflow_x": null,
            "grid_auto_flow": null,
            "grid_area": null,
            "grid_template_columns": null,
            "flex": null,
            "_model_name": "LayoutModel",
            "justify_items": null,
            "grid_row": null,
            "max_height": null,
            "align_content": null,
            "visibility": null,
            "align_self": null,
            "height": null,
            "min_height": null,
            "padding": null,
            "grid_auto_rows": null,
            "grid_gap": null,
            "max_width": null,
            "order": null,
            "_view_module_version": "1.2.0",
            "grid_template_areas": null,
            "object_position": null,
            "object_fit": null,
            "grid_auto_columns": null,
            "margin": null,
            "display": null,
            "left": null
          }
        },
        "677f1534fa384649a58052085c98109f": {
          "model_module": "@jupyter-widgets/controls",
          "model_name": "FloatSliderModel",
          "state": {
            "_view_name": "FloatSliderView",
            "style": "IPY_MODEL_aaefef23f3e14b81897e8b2983dbfa23",
            "_dom_classes": [],
            "description": "",
            "step": 0.1,
            "_model_name": "FloatSliderModel",
            "orientation": "horizontal",
            "max": 20,
            "_view_module": "@jupyter-widgets/controls",
            "_model_module_version": "1.5.0",
            "value": -15.1,
            "_view_count": null,
            "disabled": false,
            "_view_module_version": "1.5.0",
            "min": -20,
            "continuous_update": true,
            "readout_format": ".2f",
            "description_tooltip": null,
            "readout": true,
            "_model_module": "@jupyter-widgets/controls",
            "layout": "IPY_MODEL_82b51d1ec954460db652ed37d26e59fe"
          }
        },
        "e76df9bae15041aa990ddf0c15cc2853": {
          "model_module": "@jupyter-widgets/controls",
          "model_name": "FloatSliderModel",
          "state": {
            "_view_name": "FloatSliderView",
            "style": "IPY_MODEL_20a57a2c6f9d4c59839a21bc8c37be22",
            "_dom_classes": [],
            "description": "",
            "step": 0.1,
            "_model_name": "FloatSliderModel",
            "orientation": "horizontal",
            "max": 20,
            "_view_module": "@jupyter-widgets/controls",
            "_model_module_version": "1.5.0",
            "value": -15.7,
            "_view_count": null,
            "disabled": false,
            "_view_module_version": "1.5.0",
            "min": -20,
            "continuous_update": true,
            "readout_format": ".2f",
            "description_tooltip": null,
            "readout": true,
            "_model_module": "@jupyter-widgets/controls",
            "layout": "IPY_MODEL_8bbb13c9ca8440d19376877de6fa6e24"
          }
        },
        "aaefef23f3e14b81897e8b2983dbfa23": {
          "model_module": "@jupyter-widgets/controls",
          "model_name": "SliderStyleModel",
          "state": {
            "_view_name": "StyleView",
            "handle_color": null,
            "_model_name": "SliderStyleModel",
            "description_width": "",
            "_view_module": "@jupyter-widgets/base",
            "_model_module_version": "1.5.0",
            "_view_count": null,
            "_view_module_version": "1.2.0",
            "_model_module": "@jupyter-widgets/controls"
          }
        },
        "82b51d1ec954460db652ed37d26e59fe": {
          "model_module": "@jupyter-widgets/base",
          "model_name": "LayoutModel",
          "state": {
            "_view_name": "LayoutView",
            "grid_template_rows": null,
            "right": null,
            "justify_content": null,
            "_view_module": "@jupyter-widgets/base",
            "overflow": null,
            "_model_module_version": "1.2.0",
            "_view_count": null,
            "flex_flow": null,
            "width": null,
            "min_width": null,
            "border": null,
            "align_items": null,
            "bottom": null,
            "_model_module": "@jupyter-widgets/base",
            "top": null,
            "grid_column": null,
            "overflow_y": null,
            "overflow_x": null,
            "grid_auto_flow": null,
            "grid_area": null,
            "grid_template_columns": null,
            "flex": null,
            "_model_name": "LayoutModel",
            "justify_items": null,
            "grid_row": null,
            "max_height": null,
            "align_content": null,
            "visibility": null,
            "align_self": null,
            "height": null,
            "min_height": null,
            "padding": null,
            "grid_auto_rows": null,
            "grid_gap": null,
            "max_width": null,
            "order": null,
            "_view_module_version": "1.2.0",
            "grid_template_areas": null,
            "object_position": null,
            "object_fit": null,
            "grid_auto_columns": null,
            "margin": null,
            "display": null,
            "left": null
          }
        },
        "20a57a2c6f9d4c59839a21bc8c37be22": {
          "model_module": "@jupyter-widgets/controls",
          "model_name": "SliderStyleModel",
          "state": {
            "_view_name": "StyleView",
            "handle_color": null,
            "_model_name": "SliderStyleModel",
            "description_width": "",
            "_view_module": "@jupyter-widgets/base",
            "_model_module_version": "1.5.0",
            "_view_count": null,
            "_view_module_version": "1.2.0",
            "_model_module": "@jupyter-widgets/controls"
          }
        },
        "8bbb13c9ca8440d19376877de6fa6e24": {
          "model_module": "@jupyter-widgets/base",
          "model_name": "LayoutModel",
          "state": {
            "_view_name": "LayoutView",
            "grid_template_rows": null,
            "right": null,
            "justify_content": null,
            "_view_module": "@jupyter-widgets/base",
            "overflow": null,
            "_model_module_version": "1.2.0",
            "_view_count": null,
            "flex_flow": null,
            "width": null,
            "min_width": null,
            "border": null,
            "align_items": null,
            "bottom": null,
            "_model_module": "@jupyter-widgets/base",
            "top": null,
            "grid_column": null,
            "overflow_y": null,
            "overflow_x": null,
            "grid_auto_flow": null,
            "grid_area": null,
            "grid_template_columns": null,
            "flex": null,
            "_model_name": "LayoutModel",
            "justify_items": null,
            "grid_row": null,
            "max_height": null,
            "align_content": null,
            "visibility": null,
            "align_self": null,
            "height": null,
            "min_height": null,
            "padding": null,
            "grid_auto_rows": null,
            "grid_gap": null,
            "max_width": null,
            "order": null,
            "_view_module_version": "1.2.0",
            "grid_template_areas": null,
            "object_position": null,
            "object_fit": null,
            "grid_auto_columns": null,
            "margin": null,
            "display": null,
            "left": null
          }
        },
        "cc0170703df14d2482fe5d79dbd3d779": {
          "model_module": "@jupyter-widgets/output",
          "model_name": "OutputModel",
          "state": {
            "_view_name": "OutputView",
            "msg_id": "",
            "_dom_classes": [],
            "_model_name": "OutputModel",
            "outputs": [
              {
                "output_type": "stream",
                "metadata": {
                  "tags": []
                },
                "text": "[[-15.1 -15.7]]\n",
                "stream": "stdout"
              },
              {
                "output_type": "display_data",
                "metadata": {
                  "tags": [],
                  "needs_background": "light"
                },
                "image/png": "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\n",
                "text/plain": "<Figure size 432x288 with 1 Axes>"
              }
            ],
            "_view_module": "@jupyter-widgets/output",
            "_model_module_version": "1.0.0",
            "_view_count": null,
            "_view_module_version": "1.0.0",
            "layout": "IPY_MODEL_3b9a76dffe3145338288bebf37695991",
            "_model_module": "@jupyter-widgets/output"
          }
        },
        "3b9a76dffe3145338288bebf37695991": {
          "model_module": "@jupyter-widgets/base",
          "model_name": "LayoutModel",
          "state": {
            "_view_name": "LayoutView",
            "grid_template_rows": null,
            "right": null,
            "justify_content": null,
            "_view_module": "@jupyter-widgets/base",
            "overflow": null,
            "_model_module_version": "1.2.0",
            "_view_count": null,
            "flex_flow": null,
            "width": null,
            "min_width": null,
            "border": null,
            "align_items": null,
            "bottom": null,
            "_model_module": "@jupyter-widgets/base",
            "top": null,
            "grid_column": null,
            "overflow_y": null,
            "overflow_x": null,
            "grid_auto_flow": null,
            "grid_area": null,
            "grid_template_columns": null,
            "flex": null,
            "_model_name": "LayoutModel",
            "justify_items": null,
            "grid_row": null,
            "max_height": null,
            "align_content": null,
            "visibility": null,
            "align_self": null,
            "height": null,
            "min_height": null,
            "padding": null,
            "grid_auto_rows": null,
            "grid_gap": null,
            "max_width": null,
            "order": null,
            "_view_module_version": "1.2.0",
            "grid_template_areas": null,
            "object_position": null,
            "object_fit": null,
            "grid_auto_columns": null,
            "margin": null,
            "display": null,
            "left": null
          }
        },
        "315df95eaf9741179409c783e62d5d12": {
          "model_module": "@jupyter-widgets/controls",
          "model_name": "VBoxModel",
          "state": {
            "_view_name": "VBoxView",
            "_dom_classes": [
              "widget-interact"
            ],
            "_model_name": "VBoxModel",
            "_view_module": "@jupyter-widgets/controls",
            "_model_module_version": "1.5.0",
            "_view_count": null,
            "_view_module_version": "1.5.0",
            "box_style": "",
            "layout": "IPY_MODEL_2f5a69aa2f4947079d3ee237bf956cb2",
            "_model_module": "@jupyter-widgets/controls",
            "children": [
              "IPY_MODEL_dcf87aebf04a48fc808500b264f0304e",
              "IPY_MODEL_3d8db788854c46f9bf10394809d01e45"
            ]
          }
        },
        "2f5a69aa2f4947079d3ee237bf956cb2": {
          "model_module": "@jupyter-widgets/base",
          "model_name": "LayoutModel",
          "state": {
            "_view_name": "LayoutView",
            "grid_template_rows": null,
            "right": null,
            "justify_content": null,
            "_view_module": "@jupyter-widgets/base",
            "overflow": null,
            "_model_module_version": "1.2.0",
            "_view_count": null,
            "flex_flow": null,
            "width": null,
            "min_width": null,
            "border": null,
            "align_items": null,
            "bottom": null,
            "_model_module": "@jupyter-widgets/base",
            "top": null,
            "grid_column": null,
            "overflow_y": null,
            "overflow_x": null,
            "grid_auto_flow": null,
            "grid_area": null,
            "grid_template_columns": null,
            "flex": null,
            "_model_name": "LayoutModel",
            "justify_items": null,
            "grid_row": null,
            "max_height": null,
            "align_content": null,
            "visibility": null,
            "align_self": null,
            "height": null,
            "min_height": null,
            "padding": null,
            "grid_auto_rows": null,
            "grid_gap": null,
            "max_width": null,
            "order": null,
            "_view_module_version": "1.2.0",
            "grid_template_areas": null,
            "object_position": null,
            "object_fit": null,
            "grid_auto_columns": null,
            "margin": null,
            "display": null,
            "left": null
          }
        },
        "dcf87aebf04a48fc808500b264f0304e": {
          "model_module": "@jupyter-widgets/controls",
          "model_name": "IntSliderModel",
          "state": {
            "_view_name": "IntSliderView",
            "style": "IPY_MODEL_ffbc26d810d2410ba72c50bb62243386",
            "_dom_classes": [],
            "description": "idx",
            "step": 1,
            "_model_name": "IntSliderModel",
            "orientation": "horizontal",
            "max": 9999,
            "_view_module": "@jupyter-widgets/controls",
            "_model_module_version": "1.5.0",
            "value": 2661,
            "_view_count": null,
            "disabled": false,
            "_view_module_version": "1.5.0",
            "min": 0,
            "continuous_update": false,
            "readout_format": "d",
            "description_tooltip": null,
            "readout": true,
            "_model_module": "@jupyter-widgets/controls",
            "layout": "IPY_MODEL_219856fd56294849abc7aa11d60721d9"
          }
        },
        "3d8db788854c46f9bf10394809d01e45": {
          "model_module": "@jupyter-widgets/output",
          "model_name": "OutputModel",
          "state": {
            "_view_name": "OutputView",
            "msg_id": "",
            "_dom_classes": [],
            "_model_name": "OutputModel",
            "outputs": [
              {
                "output_type": "stream",
                "metadata": {
                  "tags": []
                },
                "text": "GT label: 3\n",
                "stream": "stdout"
              },
              {
                "output_type": "display_data",
                "metadata": {
                  "tags": [],
                  "needs_background": "light"
                },
                "image/png": "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\n",
                "text/plain": "<Figure size 432x288 with 2 Axes>"
              }
            ],
            "_view_module": "@jupyter-widgets/output",
            "_model_module_version": "1.0.0",
            "_view_count": null,
            "_view_module_version": "1.0.0",
            "layout": "IPY_MODEL_a85e71ec4fa34117beaf26a9c6149d65",
            "_model_module": "@jupyter-widgets/output"
          }
        },
        "ffbc26d810d2410ba72c50bb62243386": {
          "model_module": "@jupyter-widgets/controls",
          "model_name": "SliderStyleModel",
          "state": {
            "_view_name": "StyleView",
            "handle_color": null,
            "_model_name": "SliderStyleModel",
            "description_width": "",
            "_view_module": "@jupyter-widgets/base",
            "_model_module_version": "1.5.0",
            "_view_count": null,
            "_view_module_version": "1.2.0",
            "_model_module": "@jupyter-widgets/controls"
          }
        },
        "219856fd56294849abc7aa11d60721d9": {
          "model_module": "@jupyter-widgets/base",
          "model_name": "LayoutModel",
          "state": {
            "_view_name": "LayoutView",
            "grid_template_rows": null,
            "right": null,
            "justify_content": null,
            "_view_module": "@jupyter-widgets/base",
            "overflow": null,
            "_model_module_version": "1.2.0",
            "_view_count": null,
            "flex_flow": null,
            "width": null,
            "min_width": null,
            "border": null,
            "align_items": null,
            "bottom": null,
            "_model_module": "@jupyter-widgets/base",
            "top": null,
            "grid_column": null,
            "overflow_y": null,
            "overflow_x": null,
            "grid_auto_flow": null,
            "grid_area": null,
            "grid_template_columns": null,
            "flex": null,
            "_model_name": "LayoutModel",
            "justify_items": null,
            "grid_row": null,
            "max_height": null,
            "align_content": null,
            "visibility": null,
            "align_self": null,
            "height": null,
            "min_height": null,
            "padding": null,
            "grid_auto_rows": null,
            "grid_gap": null,
            "max_width": null,
            "order": null,
            "_view_module_version": "1.2.0",
            "grid_template_areas": null,
            "object_position": null,
            "object_fit": null,
            "grid_auto_columns": null,
            "margin": null,
            "display": null,
            "left": null
          }
        },
        "a85e71ec4fa34117beaf26a9c6149d65": {
          "model_module": "@jupyter-widgets/base",
          "model_name": "LayoutModel",
          "state": {
            "_view_name": "LayoutView",
            "grid_template_rows": null,
            "right": null,
            "justify_content": null,
            "_view_module": "@jupyter-widgets/base",
            "overflow": null,
            "_model_module_version": "1.2.0",
            "_view_count": null,
            "flex_flow": null,
            "width": null,
            "min_width": null,
            "border": null,
            "align_items": null,
            "bottom": null,
            "_model_module": "@jupyter-widgets/base",
            "top": null,
            "grid_column": null,
            "overflow_y": null,
            "overflow_x": null,
            "grid_auto_flow": null,
            "grid_area": null,
            "grid_template_columns": null,
            "flex": null,
            "_model_name": "LayoutModel",
            "justify_items": null,
            "grid_row": null,
            "max_height": null,
            "align_content": null,
            "visibility": null,
            "align_self": null,
            "height": null,
            "min_height": null,
            "padding": null,
            "grid_auto_rows": null,
            "grid_gap": null,
            "max_width": null,
            "order": null,
            "_view_module_version": "1.2.0",
            "grid_template_areas": null,
            "object_position": null,
            "object_fit": null,
            "grid_auto_columns": null,
            "margin": null,
            "display": null,
            "left": null
          }
        },
        "d67e44f671af4aff8f20ac27e94588c0": {
          "model_module": "@jupyter-widgets/controls",
          "model_name": "HBoxModel",
          "state": {
            "_view_name": "HBoxView",
            "_dom_classes": [],
            "_model_name": "HBoxModel",
            "_view_module": "@jupyter-widgets/controls",
            "_model_module_version": "1.5.0",
            "_view_count": null,
            "_view_module_version": "1.5.0",
            "box_style": "",
            "layout": "IPY_MODEL_6d8226aa8eec4164b990a109672869a5",
            "_model_module": "@jupyter-widgets/controls",
            "children": [
              "IPY_MODEL_a2cc41c73bb045939dfde30bd78ccc05",
              "IPY_MODEL_886891b079724047b7fb683537d99cd9",
              "IPY_MODEL_e567b9395e2f463b89fbf0b73b522d10",
              "IPY_MODEL_c68a44b2f2f14a26bbd01c484cc3d711"
            ]
          }
        },
        "6d8226aa8eec4164b990a109672869a5": {
          "model_module": "@jupyter-widgets/base",
          "model_name": "LayoutModel",
          "state": {
            "_view_name": "LayoutView",
            "grid_template_rows": null,
            "right": null,
            "justify_content": null,
            "_view_module": "@jupyter-widgets/base",
            "overflow": null,
            "_model_module_version": "1.2.0",
            "_view_count": null,
            "flex_flow": null,
            "width": null,
            "min_width": null,
            "border": null,
            "align_items": null,
            "bottom": null,
            "_model_module": "@jupyter-widgets/base",
            "top": null,
            "grid_column": null,
            "overflow_y": null,
            "overflow_x": null,
            "grid_auto_flow": null,
            "grid_area": null,
            "grid_template_columns": null,
            "flex": null,
            "_model_name": "LayoutModel",
            "justify_items": null,
            "grid_row": null,
            "max_height": null,
            "align_content": null,
            "visibility": null,
            "align_self": null,
            "height": null,
            "min_height": null,
            "padding": null,
            "grid_auto_rows": null,
            "grid_gap": null,
            "max_width": null,
            "order": null,
            "_view_module_version": "1.2.0",
            "grid_template_areas": null,
            "object_position": null,
            "object_fit": null,
            "grid_auto_columns": null,
            "margin": null,
            "display": null,
            "left": null
          }
        },
        "a2cc41c73bb045939dfde30bd78ccc05": {
          "model_module": "@jupyter-widgets/controls",
          "model_name": "FloatSliderModel",
          "state": {
            "_view_name": "FloatSliderView",
            "style": "IPY_MODEL_121e21500e1b4dec97d443f9d657bf32",
            "_dom_classes": [],
            "description": "",
            "step": 0.1,
            "_model_name": "FloatSliderModel",
            "orientation": "horizontal",
            "max": 20,
            "_view_module": "@jupyter-widgets/controls",
            "_model_module_version": "1.5.0",
            "value": -13.1,
            "_view_count": null,
            "disabled": false,
            "_view_module_version": "1.5.0",
            "min": -20,
            "continuous_update": true,
            "readout_format": ".2f",
            "description_tooltip": null,
            "readout": true,
            "_model_module": "@jupyter-widgets/controls",
            "layout": "IPY_MODEL_ed15d7c3d57d42cdb8eb06d2386b7443"
          }
        },
        "886891b079724047b7fb683537d99cd9": {
          "model_module": "@jupyter-widgets/controls",
          "model_name": "FloatSliderModel",
          "state": {
            "_view_name": "FloatSliderView",
            "style": "IPY_MODEL_204ff3b6d5b54a3aa756e4cb5821a5db",
            "_dom_classes": [],
            "description": "",
            "step": 0.1,
            "_model_name": "FloatSliderModel",
            "orientation": "horizontal",
            "max": 20,
            "_view_module": "@jupyter-widgets/controls",
            "_model_module_version": "1.5.0",
            "value": -12.8,
            "_view_count": null,
            "disabled": false,
            "_view_module_version": "1.5.0",
            "min": -20,
            "continuous_update": true,
            "readout_format": ".2f",
            "description_tooltip": null,
            "readout": true,
            "_model_module": "@jupyter-widgets/controls",
            "layout": "IPY_MODEL_caa48f4a6e9249609acc24868d2e469a"
          }
        },
        "e567b9395e2f463b89fbf0b73b522d10": {
          "model_module": "@jupyter-widgets/controls",
          "model_name": "FloatSliderModel",
          "state": {
            "_view_name": "FloatSliderView",
            "style": "IPY_MODEL_1e29d4d495464ea8be7b83f40da490ef",
            "_dom_classes": [],
            "description": "",
            "step": 0.1,
            "_model_name": "FloatSliderModel",
            "orientation": "horizontal",
            "max": 20,
            "_view_module": "@jupyter-widgets/controls",
            "_model_module_version": "1.5.0",
            "value": 6.8,
            "_view_count": null,
            "disabled": false,
            "_view_module_version": "1.5.0",
            "min": -20,
            "continuous_update": true,
            "readout_format": ".2f",
            "description_tooltip": null,
            "readout": true,
            "_model_module": "@jupyter-widgets/controls",
            "layout": "IPY_MODEL_133f00be19554b65b2ca901df5bd5349"
          }
        },
        "c68a44b2f2f14a26bbd01c484cc3d711": {
          "model_module": "@jupyter-widgets/controls",
          "model_name": "FloatSliderModel",
          "state": {
            "_view_name": "FloatSliderView",
            "style": "IPY_MODEL_1c1909f161284777b1897821c489c792",
            "_dom_classes": [],
            "description": "",
            "step": 0.1,
            "_model_name": "FloatSliderModel",
            "orientation": "horizontal",
            "max": 20,
            "_view_module": "@jupyter-widgets/controls",
            "_model_module_version": "1.5.0",
            "value": 5.5,
            "_view_count": null,
            "disabled": false,
            "_view_module_version": "1.5.0",
            "min": -20,
            "continuous_update": true,
            "readout_format": ".2f",
            "description_tooltip": null,
            "readout": true,
            "_model_module": "@jupyter-widgets/controls",
            "layout": "IPY_MODEL_b32ed23e26534cdc8adddaf8537541c8"
          }
        },
        "121e21500e1b4dec97d443f9d657bf32": {
          "model_module": "@jupyter-widgets/controls",
          "model_name": "SliderStyleModel",
          "state": {
            "_view_name": "StyleView",
            "handle_color": null,
            "_model_name": "SliderStyleModel",
            "description_width": "",
            "_view_module": "@jupyter-widgets/base",
            "_model_module_version": "1.5.0",
            "_view_count": null,
            "_view_module_version": "1.2.0",
            "_model_module": "@jupyter-widgets/controls"
          }
        },
        "ed15d7c3d57d42cdb8eb06d2386b7443": {
          "model_module": "@jupyter-widgets/base",
          "model_name": "LayoutModel",
          "state": {
            "_view_name": "LayoutView",
            "grid_template_rows": null,
            "right": null,
            "justify_content": null,
            "_view_module": "@jupyter-widgets/base",
            "overflow": null,
            "_model_module_version": "1.2.0",
            "_view_count": null,
            "flex_flow": null,
            "width": null,
            "min_width": null,
            "border": null,
            "align_items": null,
            "bottom": null,
            "_model_module": "@jupyter-widgets/base",
            "top": null,
            "grid_column": null,
            "overflow_y": null,
            "overflow_x": null,
            "grid_auto_flow": null,
            "grid_area": null,
            "grid_template_columns": null,
            "flex": null,
            "_model_name": "LayoutModel",
            "justify_items": null,
            "grid_row": null,
            "max_height": null,
            "align_content": null,
            "visibility": null,
            "align_self": null,
            "height": null,
            "min_height": null,
            "padding": null,
            "grid_auto_rows": null,
            "grid_gap": null,
            "max_width": null,
            "order": null,
            "_view_module_version": "1.2.0",
            "grid_template_areas": null,
            "object_position": null,
            "object_fit": null,
            "grid_auto_columns": null,
            "margin": null,
            "display": null,
            "left": null
          }
        },
        "204ff3b6d5b54a3aa756e4cb5821a5db": {
          "model_module": "@jupyter-widgets/controls",
          "model_name": "SliderStyleModel",
          "state": {
            "_view_name": "StyleView",
            "handle_color": null,
            "_model_name": "SliderStyleModel",
            "description_width": "",
            "_view_module": "@jupyter-widgets/base",
            "_model_module_version": "1.5.0",
            "_view_count": null,
            "_view_module_version": "1.2.0",
            "_model_module": "@jupyter-widgets/controls"
          }
        },
        "caa48f4a6e9249609acc24868d2e469a": {
          "model_module": "@jupyter-widgets/base",
          "model_name": "LayoutModel",
          "state": {
            "_view_name": "LayoutView",
            "grid_template_rows": null,
            "right": null,
            "justify_content": null,
            "_view_module": "@jupyter-widgets/base",
            "overflow": null,
            "_model_module_version": "1.2.0",
            "_view_count": null,
            "flex_flow": null,
            "width": null,
            "min_width": null,
            "border": null,
            "align_items": null,
            "bottom": null,
            "_model_module": "@jupyter-widgets/base",
            "top": null,
            "grid_column": null,
            "overflow_y": null,
            "overflow_x": null,
            "grid_auto_flow": null,
            "grid_area": null,
            "grid_template_columns": null,
            "flex": null,
            "_model_name": "LayoutModel",
            "justify_items": null,
            "grid_row": null,
            "max_height": null,
            "align_content": null,
            "visibility": null,
            "align_self": null,
            "height": null,
            "min_height": null,
            "padding": null,
            "grid_auto_rows": null,
            "grid_gap": null,
            "max_width": null,
            "order": null,
            "_view_module_version": "1.2.0",
            "grid_template_areas": null,
            "object_position": null,
            "object_fit": null,
            "grid_auto_columns": null,
            "margin": null,
            "display": null,
            "left": null
          }
        },
        "1e29d4d495464ea8be7b83f40da490ef": {
          "model_module": "@jupyter-widgets/controls",
          "model_name": "SliderStyleModel",
          "state": {
            "_view_name": "StyleView",
            "handle_color": null,
            "_model_name": "SliderStyleModel",
            "description_width": "",
            "_view_module": "@jupyter-widgets/base",
            "_model_module_version": "1.5.0",
            "_view_count": null,
            "_view_module_version": "1.2.0",
            "_model_module": "@jupyter-widgets/controls"
          }
        },
        "133f00be19554b65b2ca901df5bd5349": {
          "model_module": "@jupyter-widgets/base",
          "model_name": "LayoutModel",
          "state": {
            "_view_name": "LayoutView",
            "grid_template_rows": null,
            "right": null,
            "justify_content": null,
            "_view_module": "@jupyter-widgets/base",
            "overflow": null,
            "_model_module_version": "1.2.0",
            "_view_count": null,
            "flex_flow": null,
            "width": null,
            "min_width": null,
            "border": null,
            "align_items": null,
            "bottom": null,
            "_model_module": "@jupyter-widgets/base",
            "top": null,
            "grid_column": null,
            "overflow_y": null,
            "overflow_x": null,
            "grid_auto_flow": null,
            "grid_area": null,
            "grid_template_columns": null,
            "flex": null,
            "_model_name": "LayoutModel",
            "justify_items": null,
            "grid_row": null,
            "max_height": null,
            "align_content": null,
            "visibility": null,
            "align_self": null,
            "height": null,
            "min_height": null,
            "padding": null,
            "grid_auto_rows": null,
            "grid_gap": null,
            "max_width": null,
            "order": null,
            "_view_module_version": "1.2.0",
            "grid_template_areas": null,
            "object_position": null,
            "object_fit": null,
            "grid_auto_columns": null,
            "margin": null,
            "display": null,
            "left": null
          }
        },
        "1c1909f161284777b1897821c489c792": {
          "model_module": "@jupyter-widgets/controls",
          "model_name": "SliderStyleModel",
          "state": {
            "_view_name": "StyleView",
            "handle_color": null,
            "_model_name": "SliderStyleModel",
            "description_width": "",
            "_view_module": "@jupyter-widgets/base",
            "_model_module_version": "1.5.0",
            "_view_count": null,
            "_view_module_version": "1.2.0",
            "_model_module": "@jupyter-widgets/controls"
          }
        },
        "b32ed23e26534cdc8adddaf8537541c8": {
          "model_module": "@jupyter-widgets/base",
          "model_name": "LayoutModel",
          "state": {
            "_view_name": "LayoutView",
            "grid_template_rows": null,
            "right": null,
            "justify_content": null,
            "_view_module": "@jupyter-widgets/base",
            "overflow": null,
            "_model_module_version": "1.2.0",
            "_view_count": null,
            "flex_flow": null,
            "width": null,
            "min_width": null,
            "border": null,
            "align_items": null,
            "bottom": null,
            "_model_module": "@jupyter-widgets/base",
            "top": null,
            "grid_column": null,
            "overflow_y": null,
            "overflow_x": null,
            "grid_auto_flow": null,
            "grid_area": null,
            "grid_template_columns": null,
            "flex": null,
            "_model_name": "LayoutModel",
            "justify_items": null,
            "grid_row": null,
            "max_height": null,
            "align_content": null,
            "visibility": null,
            "align_self": null,
            "height": null,
            "min_height": null,
            "padding": null,
            "grid_auto_rows": null,
            "grid_gap": null,
            "max_width": null,
            "order": null,
            "_view_module_version": "1.2.0",
            "grid_template_areas": null,
            "object_position": null,
            "object_fit": null,
            "grid_auto_columns": null,
            "margin": null,
            "display": null,
            "left": null
          }
        },
        "36681c064345412ea1e1261a88b2e2d5": {
          "model_module": "@jupyter-widgets/output",
          "model_name": "OutputModel",
          "state": {
            "_view_name": "OutputView",
            "msg_id": "",
            "_dom_classes": [],
            "_model_name": "OutputModel",
            "outputs": [
              {
                "output_type": "stream",
                "metadata": {
                  "tags": []
                },
                "text": "[[-13.1 -12.8   6.8   5.5]]\n",
                "stream": "stdout"
              },
              {
                "output_type": "display_data",
                "metadata": {
                  "tags": [],
                  "needs_background": "light"
                },
                "image/png": "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\n",
                "text/plain": "<Figure size 432x288 with 1 Axes>"
              }
            ],
            "_view_module": "@jupyter-widgets/output",
            "_model_module_version": "1.0.0",
            "_view_count": null,
            "_view_module_version": "1.0.0",
            "layout": "IPY_MODEL_20657ea5ed4044b8ac62ca50d3a3700a",
            "_model_module": "@jupyter-widgets/output"
          }
        },
        "20657ea5ed4044b8ac62ca50d3a3700a": {
          "model_module": "@jupyter-widgets/base",
          "model_name": "LayoutModel",
          "state": {
            "_view_name": "LayoutView",
            "grid_template_rows": null,
            "right": null,
            "justify_content": null,
            "_view_module": "@jupyter-widgets/base",
            "overflow": null,
            "_model_module_version": "1.2.0",
            "_view_count": null,
            "flex_flow": null,
            "width": null,
            "min_width": null,
            "border": null,
            "align_items": null,
            "bottom": null,
            "_model_module": "@jupyter-widgets/base",
            "top": null,
            "grid_column": null,
            "overflow_y": null,
            "overflow_x": null,
            "grid_auto_flow": null,
            "grid_area": null,
            "grid_template_columns": null,
            "flex": null,
            "_model_name": "LayoutModel",
            "justify_items": null,
            "grid_row": null,
            "max_height": null,
            "align_content": null,
            "visibility": null,
            "align_self": null,
            "height": null,
            "min_height": null,
            "padding": null,
            "grid_auto_rows": null,
            "grid_gap": null,
            "max_width": null,
            "order": null,
            "_view_module_version": "1.2.0",
            "grid_template_areas": null,
            "object_position": null,
            "object_fit": null,
            "grid_auto_columns": null,
            "margin": null,
            "display": null,
            "left": null
          }
        }
      }
    }
  },
  "cells": [
    {
      "cell_type": "markdown",
      "metadata": {
        "id": "xT9duso8RYT4"
      },
      "source": [
        "# Autoencdoer에 Conv 사용해보기 과제 \n",
        "\n",
        "### 들어가기에 앞서 conv를 사용할 경우 predict에서 안되는 경우가 발생하여 predict의 경우 데이터 10000개만을 사용하였음을 알립니다."
      ]
    },
    {
      "cell_type": "code",
      "metadata": {
        "id": "seiFObAKE7qh"
      },
      "source": [
        "# 사용하고자 하는 모듈 import\n",
        "import tensorflow as tf                       \n",
        "from tensorflow.keras import models, layers   \n",
        "import numpy as np\n",
        "import matplotlib.pyplot as plt\n",
        "import ipywidgets as widgets"
      ],
      "execution_count": null,
      "outputs": []
    },
    {
      "cell_type": "code",
      "metadata": {
        "id": "WsEM-al8E8Sb",
        "outputId": "0a375841-5697-4d03-b8c6-58b70216c9db",
        "colab": {
          "base_uri": "https://localhost:8080/",
          "height": 89
        }
      },
      "source": [
        "# MNIST 데이터 로딩\n",
        "mnist = tf.keras.datasets.mnist\n",
        "\n",
        "(train_images, train_labels), (test_images, test_labels) = mnist.load_data()\n",
        "\n",
        "print('train_images의 *원래* 데이터의 shape과 dype:', \n",
        "      train_images.shape, train_images.dtype)\n",
        "print('test_images의 *원래* 데이터의 shape과 dype:', \n",
        "      test_images.shape, test_images.dtype)\n",
        "\n",
        "# Normalizing the images to the range of [0., 1.]\n",
        "train_images = tf.cast(train_images, tf.float32)\n",
        "test_images  = tf.cast(test_images, tf.float32)\n",
        "train_images /= 255\n",
        "test_images  /= 255\n",
        "\n",
        "print('train_images의 *바뀐* 데이터의 shape과 dype:', \n",
        "      train_images.shape, train_images.dtype)\n",
        "print('test_images의 *바뀐* 데이터의 shape과 dype:', \n",
        "      test_images.shape, test_images.dtype)"
      ],
      "execution_count": null,
      "outputs": [
        {
          "output_type": "stream",
          "text": [
            "train_images의 *원래* 데이터의 shape과 dype: (60000, 28, 28) uint8\n",
            "test_images의 *원래* 데이터의 shape과 dype: (10000, 28, 28) uint8\n",
            "train_images의 *바뀐* 데이터의 shape과 dype: (60000, 28, 28) <dtype: 'float32'>\n",
            "test_images의 *바뀐* 데이터의 shape과 dype: (10000, 28, 28) <dtype: 'float32'>\n"
          ],
          "name": "stdout"
        }
      ]
    },
    {
      "cell_type": "markdown",
      "metadata": {
        "id": "zOd7lbd8W0mS"
      },
      "source": [
        "# 최고로 좋은 성능을 보이는 모델을 먼저 보이고 후에 실험한 내용들에 대하여 언급하고자 한다. "
      ]
    },
    {
      "cell_type": "code",
      "metadata": {
        "id": "xT1bF7naW5uQ"
      },
      "source": [
        "n_dim = 4\n",
        "# 잠재 차원의 경우 4개로 하였다.\n",
        "enc = tf.keras.models.Sequential([tf.keras.layers.InputLayer(input_shape=(28,28)),\n",
        "                                  tf.keras.layers.Conv1D(128,kernel_size=5,activation='elu',strides=2),\n",
        "                                  tf.keras.layers.Conv1D(64,kernel_size=5,activation='elu',strides=2),\n",
        "                                  tf.keras.layers.Conv1D(16,kernel_size=3,activation='elu'),\n",
        "                                  tf.keras.layers.Conv1D(n_dim,kernel_size=2),\n",
        "                                  tf.keras.layers.Flatten()])\n",
        "# Conv1D를 사용하였고 Kernel_size를 다르게 두는게 효과가 좋았다. 또한 activation function은 elu를 두는것이 더 좋았다. \n",
        "dec = tf.keras.models.Sequential([\n",
        "                                  tf.keras.layers.InputLayer(input_shape=(n_dim,)),\n",
        "                                  tf.keras.layers.Reshape(target_shape=(1, n_dim)),\n",
        "                                  tf.keras.layers.Conv1D(16,kernel_size=1,activation='elu'),\n",
        "                                  tf.keras.layers.Conv1D(64,kernel_size=1,activation='elu'),\n",
        "                                  tf.keras.layers.Conv1D(256,kernel_size=1,activation='elu'),\n",
        "                                  tf.keras.layers.Conv1D(784,kernel_size=1,activation='sigmoid'),\n",
        "                                  tf.keras.layers.Reshape(target_shape=(28,28))\n",
        "])\n",
        "\n",
        "ae = tf.keras.models.Sequential([\n",
        "  tf.keras.layers.InputLayer(input_shape=(28, 28)),\n",
        "  enc,\n",
        "  dec,                               \n",
        "])"
      ],
      "execution_count": null,
      "outputs": []
    },
    {
      "cell_type": "code",
      "metadata": {
        "id": "y2EqfaaJW5wv",
        "outputId": "e3c219a9-5a69-4dd4-9619-1d1c52276875",
        "colab": {
          "base_uri": "https://localhost:8080/",
          "height": 397
        }
      },
      "source": [
        "ae.compile(optimizer='Adam', # optimizer의 name 혹은 함수 객체 설정\n",
        "           loss='mse', \n",
        "           metrics=['mae'])\n",
        "\n",
        "ae.fit(train_images, train_images, epochs=10, batch_size=32)"
      ],
      "execution_count": null,
      "outputs": [
        {
          "output_type": "stream",
          "text": [
            "Epoch 1/10\n",
            "1875/1875 [==============================] - 8s 4ms/step - loss: 0.0418 - mae: 0.1004\n",
            "Epoch 2/10\n",
            "1875/1875 [==============================] - 8s 4ms/step - loss: 0.0326 - mae: 0.0804\n",
            "Epoch 3/10\n",
            "1875/1875 [==============================] - 8s 4ms/step - loss: 0.0307 - mae: 0.0759\n",
            "Epoch 4/10\n",
            "1875/1875 [==============================] - 8s 4ms/step - loss: 0.0296 - mae: 0.0734\n",
            "Epoch 5/10\n",
            "1875/1875 [==============================] - 8s 4ms/step - loss: 0.0288 - mae: 0.0717\n",
            "Epoch 6/10\n",
            "1875/1875 [==============================] - 8s 4ms/step - loss: 0.0282 - mae: 0.0704\n",
            "Epoch 7/10\n",
            "1875/1875 [==============================] - 7s 4ms/step - loss: 0.0278 - mae: 0.0694\n",
            "Epoch 8/10\n",
            "1875/1875 [==============================] - 7s 4ms/step - loss: 0.0274 - mae: 0.0686\n",
            "Epoch 9/10\n",
            "1875/1875 [==============================] - 7s 4ms/step - loss: 0.0271 - mae: 0.0679\n",
            "Epoch 10/10\n",
            "1875/1875 [==============================] - 7s 4ms/step - loss: 0.0268 - mae: 0.0673\n"
          ],
          "name": "stdout"
        },
        {
          "output_type": "execute_result",
          "data": {
            "text/plain": [
              "<tensorflow.python.keras.callbacks.History at 0x7f867484c668>"
            ]
          },
          "metadata": {
            "tags": []
          },
          "execution_count": 235
        }
      ]
    },
    {
      "cell_type": "code",
      "metadata": {
        "id": "0TzNfsKPW51T",
        "outputId": "9e562505-389b-40bc-8428-a2ef78c0893d",
        "colab": {
          "base_uri": "https://localhost:8080/",
          "height": 250,
          "referenced_widgets": [
            "b84d190922e647c5baa9e4b218366f9f",
            "e46ca558f1c24d94afa5e392874f6cd3",
            "98a6d6b85f2646c7a1f0d7840ee7539b",
            "57ec17935d39417bb5f50cc6536ae003",
            "12b35691fda445e99702679e94884a33",
            "81672ebc6ce1435188866b579b62a142",
            "04082194ce204432a0bf68a5144890dd"
          ]
        }
      },
      "source": [
        "y_pred = ae(train_images[:10000,])\n",
        "\n",
        "def io_imshow(idx):\n",
        "  print('GT label:', train_labels[idx])\n",
        "  plt.subplot(121)\n",
        "  plt.imshow(train_images[idx])\n",
        "  plt.subplot(122)\n",
        "  plt.imshow(y_pred[idx])\n",
        "  plt.show()\n",
        "\n",
        "widgets.interact(io_imshow, idx=widgets.IntSlider(min=0, max=9999, continuous_update=False));"
      ],
      "execution_count": null,
      "outputs": [
        {
          "output_type": "display_data",
          "data": {
            "application/vnd.jupyter.widget-view+json": {
              "model_id": "b84d190922e647c5baa9e4b218366f9f",
              "version_minor": 0,
              "version_major": 2
            },
            "text/plain": [
              "interactive(children=(IntSlider(value=0, continuous_update=False, description='idx', max=9999), Output()), _do…"
            ]
          },
          "metadata": {
            "tags": []
          }
        }
      ]
    },
    {
      "cell_type": "code",
      "metadata": {
        "id": "CJtgwqI_W535",
        "outputId": "52d1fdb2-bcff-45c7-9c76-9bc571c7a331",
        "colab": {
          "base_uri": "https://localhost:8080/",
          "height": 337
        }
      },
      "source": [
        "z = enc(train_images[:10000])\n",
        "\n",
        "z_0 = z[train_labels[:10000]==0]    # z 배열을 조건을 이용해 slice\n",
        "z_1 = z[train_labels[:10000]==1]\n",
        "z_2 = z[train_labels[:10000]==2]\n",
        "z_3 = z[train_labels[:10000]==3]\n",
        "z_4 = z[train_labels[:10000]==4]\n",
        "z_5 = z[train_labels[:10000]==5]\n",
        "z_6 = z[train_labels[:10000]==6]\n",
        "z_7 = z[train_labels[:10000]==7]\n",
        "z_8 = z[train_labels[:10000]==8]\n",
        "z_9 = z[train_labels[:10000]==9]\n",
        "\n",
        "print(z_0.shape)\n",
        "print(z_1.shape)\n",
        "print(z_2.shape)\n",
        "print(z_9.shape)\n",
        "\n",
        "plt.scatter(z_0[:,0], z_0[:,1], c='b')\n",
        "plt.scatter(z_1[:,0], z_1[:,1], c='g')\n",
        "plt.scatter(z_2[:,0], z_2[:,1], c='r')\n",
        "plt.scatter(z_3[:,0], z_3[:,1], c='y')\n",
        "plt.scatter(z_4[:,0], z_4[:,1], c='k')\n",
        "plt.scatter(z_5[:,0], z_5[:,1], c='c')\n",
        "plt.scatter(z_6[:,0], z_6[:,1], c='m')\n",
        "plt.scatter(z_7[:,0], z_7[:,1], c='orange')\n",
        "plt.scatter(z_8[:,0], z_8[:,1], c='lime')\n",
        "plt.scatter(z_9[:,0], z_9[:,1], c = 'pink')\n",
        "plt.show()"
      ],
      "execution_count": null,
      "outputs": [
        {
          "output_type": "stream",
          "text": [
            "(1001, 4)\n",
            "(1127, 4)\n",
            "(991, 4)\n",
            "(978, 4)\n"
          ],
          "name": "stdout"
        },
        {
          "output_type": "display_data",
          "data": {
            "image/png": "[encoded data removed]",
            "text/plain": [
              "<Figure size 432x288 with 1 Axes>"
            ]
          },
          "metadata": {
            "tags": [],
            "needs_background": "light"
          }
        }
      ]
    },
    {
      "cell_type": "markdown",
      "metadata": {
        "id": "3XyQouDSZJ6L"
      },
      "source": [
        "Z 값을 실제 label 값에 따라 색을 달리두고 그래프를 그려보았다. 여기서는 잠재벡터가 4개였지만 그래프로 표현하기 위해서 2개의 벡터만 사용하였음을 유의하여 보아야 할것이다. 하지만 2개의 차원으로만 보았음에도 어느정도 잘 구분이 되고 있음을 볼 수 있다. "
      ]
    },
    {
      "cell_type": "code",
      "metadata": {
        "id": "YHsWabvGW5zi",
        "outputId": "6db622db-769e-4867-a495-c1179c7cdaf6",
        "colab": {
          "base_uri": "https://localhost:8080/",
          "height": 314,
          "referenced_widgets": [
            "b8d65f47c8a14013b863ca067b923e9d",
            "0fcd374be4c94641bd7baa0c47c97528",
            "de0aed4461e04cb4b6e894f1879d394e",
            "4ba471e52f274df5b5e3c712a6c49995",
            "ad7fbb2e886b4eb18fd4541db97288bb",
            "4ecaaf7b70964ca980e4e6782710f0c5",
            "606654fe346b48bbbba62652ca5cfd83",
            "92da99b128a1479798628a684b2e8613",
            "f2cb66bed6eb4fa7a2dcecbd5c5b5ee3",
            "228a2d2bd273443799cf9d09234693e3",
            "84f11d5a4a9d4e5c919bbeb743bc181b",
            "0f70fa29cbf54f239498b8e744fc9433",
            "39a05fd2e5e8423f83a3070ad19357da",
            "6d7194fa0af246acbb41a90c3ec16dc5",
            "f3725f5971294f3d94e20da5b31b632a",
            "e457486e4b614394934325f6eaad29bc"
          ]
        }
      },
      "source": [
        "import ipywidgets as widgets\n",
        "\n",
        "s=widgets.FloatSlider(min=-20.0, max=20.0)\n",
        "t=widgets.FloatSlider(min=-20.0, max=20.0)\n",
        "u=widgets.FloatSlider(min=-20.0, max=20.0)\n",
        "v=widgets.FloatSlider(min=-20.0, max=20.0)\n",
        "\n",
        "ui = widgets.HBox([s,t,u,v])\n",
        "\n",
        "def z_test(s,t,u, v):\n",
        "  z_test = np.array([[s,t,u,v]])  \n",
        "  print(z_test)\n",
        "\n",
        "  img_gen = dec(z_test)\n",
        "  plt.imshow(img_gen[0])\n",
        "  plt.show()  \n",
        "\n",
        "out = widgets.interactive_output(z_test, {'s':s, 't':t, 'u': u, 'v': v})\n",
        "\n",
        "display(ui, out)"
      ],
      "execution_count": null,
      "outputs": [
        {
          "output_type": "display_data",
          "data": {
            "application/vnd.jupyter.widget-view+json": {
              "model_id": "b8d65f47c8a14013b863ca067b923e9d",
              "version_minor": 0,
              "version_major": 2
            },
            "text/plain": [
              "HBox(children=(FloatSlider(value=0.0, max=20.0, min=-20.0), FloatSlider(value=0.0, max=20.0, min=-20.0), Float…"
            ]
          },
          "metadata": {
            "tags": []
          }
        },
        {
          "output_type": "display_data",
          "data": {
            "application/vnd.jupyter.widget-view+json": {
              "model_id": "f3725f5971294f3d94e20da5b31b632a",
              "version_minor": 0,
              "version_major": 2
            },
            "text/plain": [
              "Output()"
            ]
          },
          "metadata": {
            "tags": []
          }
        }
      ]
    },
    {
      "cell_type": "markdown",
      "metadata": {
        "id": "A07yUOAFGPJo"
      },
      "source": [
        "# Encoder Decoder Model 만들기\n",
        "\n",
        "n_dim은 DNN과 같은 2개의 value 값을 삽입하기 위해 value가 2개가 나오도록 만들 예정임\n",
        "\n",
        "Encoder에서는 Conv2D를 사용하고 Decoder에서는 Conv2DTranspose를 활용해보고자 한다."
      ]
    },
    {
      "cell_type": "code",
      "metadata": {
        "id": "OkJcnN9oE8XM"
      },
      "source": [
        "n_dim = 2"
      ],
      "execution_count": null,
      "outputs": []
    },
    {
      "cell_type": "markdown",
      "metadata": {
        "id": "WfpMT-qwHrZe"
      },
      "source": [
        "# Encoder Model 정의하기"
      ]
    },
    {
      "cell_type": "code",
      "metadata": {
        "id": "CCztyrxWE8Zd"
      },
      "source": [
        "enc = tf.keras.models.Sequential([tf.keras.layers.InputLayer(input_shape=(28,28)),\n",
        "                                  tf.keras.layers.Reshape(target_shape=(28,28,1)),\n",
        "                                  tf.keras.layers.Conv2D(64,kernel_size=(2,2),activation='relu'),\n",
        "                                  tf.keras.layers.MaxPool2D(pool_size=(2,2)),\n",
        "                                  tf.keras.layers.Conv2D(32,kernel_size=(2,2),activation='relu'),\n",
        "                                  tf.keras.layers.Conv2D(16,kernel_size=(2,2),activation='relu'),\n",
        "                                  tf.keras.layers.Flatten(),\n",
        "                                  tf.keras.layers.Dense(n_dim)])"
      ],
      "execution_count": null,
      "outputs": []
    },
    {
      "cell_type": "code",
      "metadata": {
        "id": "RT_-Kl2rE8bx",
        "outputId": "6b396d66-e86b-4b5a-ea16-8a99827857ac",
        "colab": {
          "base_uri": "https://localhost:8080/",
          "height": 416
        }
      },
      "source": [
        "enc.summary()"
      ],
      "execution_count": null,
      "outputs": [
        {
          "output_type": "stream",
          "text": [
            "Model: \"sequential_123\"\n",
            "_________________________________________________________________\n",
            "Layer (type)                 Output Shape              Param #   \n",
            "=================================================================\n",
            "reshape_91 (Reshape)         (None, 28, 28, 1)         0         \n",
            "_________________________________________________________________\n",
            "conv2d_50 (Conv2D)           (None, 27, 27, 64)        320       \n",
            "_________________________________________________________________\n",
            "max_pooling2d_14 (MaxPooling (None, 13, 13, 64)        0         \n",
            "_________________________________________________________________\n",
            "conv2d_51 (Conv2D)           (None, 12, 12, 32)        8224      \n",
            "_________________________________________________________________\n",
            "conv2d_52 (Conv2D)           (None, 11, 11, 16)        2064      \n",
            "_________________________________________________________________\n",
            "flatten_55 (Flatten)         (None, 1936)              0         \n",
            "_________________________________________________________________\n",
            "dense_16 (Dense)             (None, 2)                 3874      \n",
            "=================================================================\n",
            "Total params: 14,482\n",
            "Trainable params: 14,482\n",
            "Non-trainable params: 0\n",
            "_________________________________________________________________\n"
          ],
          "name": "stdout"
        }
      ]
    },
    {
      "cell_type": "markdown",
      "metadata": {
        "id": "mWDW--4qHvxg"
      },
      "source": [
        "# Decoder Model 정의하기"
      ]
    },
    {
      "cell_type": "code",
      "metadata": {
        "id": "Gk1bP0o2E8eA"
      },
      "source": [
        "dec = tf.keras.models.Sequential([\n",
        "                                  tf.keras.layers.InputLayer(input_shape=(2,)),\n",
        "                                  tf.keras.layers.Reshape(target_shape=(1,1,2)),\n",
        "                                  tf.keras.layers.Conv2DTranspose(32,kernel_size=(2,2),strides=7,activation='relu'),\n",
        "                                  tf.keras.layers.Conv2DTranspose(64,kernel_size=(2,2),strides=2,activation='relu'),\n",
        "                                  tf.keras.layers.Conv2DTranspose(1,kernel_size=(2,2),strides=2,activation='sigmoid'),\n",
        "                                  tf.keras.layers.Reshape(target_shape=(28,28))\n",
        "])"
      ],
      "execution_count": null,
      "outputs": []
    },
    {
      "cell_type": "code",
      "metadata": {
        "id": "93tJcSNGE8gR",
        "outputId": "75a2772d-75e3-4b12-db7d-9016571909c8",
        "colab": {
          "base_uri": "https://localhost:8080/",
          "height": 343
        }
      },
      "source": [
        "dec.summary()"
      ],
      "execution_count": null,
      "outputs": [
        {
          "output_type": "stream",
          "text": [
            "Model: \"sequential_124\"\n",
            "_________________________________________________________________\n",
            "Layer (type)                 Output Shape              Param #   \n",
            "=================================================================\n",
            "reshape_92 (Reshape)         (None, 1, 1, 2)           0         \n",
            "_________________________________________________________________\n",
            "conv2d_transpose_15 (Conv2DT (None, 7, 7, 32)          288       \n",
            "_________________________________________________________________\n",
            "conv2d_transpose_16 (Conv2DT (None, 14, 14, 64)        8256      \n",
            "_________________________________________________________________\n",
            "conv2d_transpose_17 (Conv2DT (None, 28, 28, 1)         257       \n",
            "_________________________________________________________________\n",
            "reshape_93 (Reshape)         (None, 28, 28)            0         \n",
            "=================================================================\n",
            "Total params: 8,801\n",
            "Trainable params: 8,801\n",
            "Non-trainable params: 0\n",
            "_________________________________________________________________\n"
          ],
          "name": "stdout"
        }
      ]
    },
    {
      "cell_type": "markdown",
      "metadata": {
        "id": "QysJfvZkNHup"
      },
      "source": [
        "# AutoEncoder Model 정의하기"
      ]
    },
    {
      "cell_type": "code",
      "metadata": {
        "id": "bLOmAyJ5E8if"
      },
      "source": [
        "ae = tf.keras.models.Sequential([\n",
        "  tf.keras.layers.InputLayer(input_shape=(28, 28)),\n",
        "  enc,\n",
        "  dec,                               \n",
        "])"
      ],
      "execution_count": null,
      "outputs": []
    },
    {
      "cell_type": "code",
      "metadata": {
        "id": "gZY72HTwE8m_",
        "outputId": "a51c480c-7ce5-4c57-8881-a11de8982302",
        "colab": {
          "base_uri": "https://localhost:8080/",
          "height": 530
        }
      },
      "source": [
        "ae.summary()\n",
        "tf.keras.utils.plot_model(ae, 'ae.png', show_shapes=True)"
      ],
      "execution_count": null,
      "outputs": [
        {
          "output_type": "stream",
          "text": [
            "Model: \"sequential_125\"\n",
            "_________________________________________________________________\n",
            "Layer (type)                 Output Shape              Param #   \n",
            "=================================================================\n",
            "sequential_123 (Sequential)  (None, 2)                 14482     \n",
            "_________________________________________________________________\n",
            "sequential_124 (Sequential)  (None, 28, 28)            8801      \n",
            "=================================================================\n",
            "Total params: 23,283\n",
            "Trainable params: 23,283\n",
            "Non-trainable params: 0\n",
            "_________________________________________________________________\n"
          ],
          "name": "stdout"
        },
        {
          "output_type": "execute_result",
          "data": {
            "image/png": "[encoded data removed]",
            "text/plain": [
              "<IPython.core.display.Image object>"
            ]
          },
          "metadata": {
            "tags": []
          },
          "execution_count": 171
        }
      ]
    },
    {
      "cell_type": "code",
      "metadata": {
        "id": "R2-cHQzFE8pL",
        "outputId": "f85473a2-8f4f-4028-8fb9-6945aad6c2ed",
        "colab": {
          "base_uri": "https://localhost:8080/",
          "height": 397
        }
      },
      "source": [
        "ae.compile(optimizer='Adam', # optimizer의 name 혹은 함수 객체 설정\n",
        "           loss='mse', \n",
        "           metrics=['mae'])\n",
        "\n",
        "ae.fit(train_images, train_images, epochs=10, batch_size=32)"
      ],
      "execution_count": null,
      "outputs": [
        {
          "output_type": "stream",
          "text": [
            "Epoch 1/10\n",
            "1875/1875 [==============================] - 6s 3ms/step - loss: 0.0968 - mae: 0.2175\n",
            "Epoch 2/10\n",
            "1875/1875 [==============================] - 6s 3ms/step - loss: 0.0936 - mae: 0.2103\n",
            "Epoch 3/10\n",
            "1875/1875 [==============================] - 6s 3ms/step - loss: 0.0936 - mae: 0.2103\n",
            "Epoch 4/10\n",
            "1875/1875 [==============================] - 6s 3ms/step - loss: 0.0936 - mae: 0.2103\n",
            "Epoch 5/10\n",
            "1875/1875 [==============================] - 6s 3ms/step - loss: 0.0936 - mae: 0.2102\n",
            "Epoch 6/10\n",
            "1875/1875 [==============================] - 6s 3ms/step - loss: 0.0936 - mae: 0.2103\n",
            "Epoch 7/10\n",
            "1875/1875 [==============================] - 6s 3ms/step - loss: 0.0936 - mae: 0.2103\n",
            "Epoch 8/10\n",
            "1875/1875 [==============================] - 6s 3ms/step - loss: 0.0936 - mae: 0.2103\n",
            "Epoch 9/10\n",
            "1875/1875 [==============================] - 6s 3ms/step - loss: 0.0936 - mae: 0.2103\n",
            "Epoch 10/10\n",
            "1875/1875 [==============================] - 6s 3ms/step - loss: 0.0936 - mae: 0.2103\n"
          ],
          "name": "stdout"
        },
        {
          "output_type": "execute_result",
          "data": {
            "text/plain": [
              "<tensorflow.python.keras.callbacks.History at 0x7f88e45bf2b0>"
            ]
          },
          "metadata": {
            "tags": []
          },
          "execution_count": 172
        }
      ]
    },
    {
      "cell_type": "code",
      "metadata": {
        "id": "LdZ-9MYIOBEc",
        "outputId": "e376baca-6ad7-4382-8f9d-9f1e4c52d497",
        "colab": {
          "base_uri": "https://localhost:8080/",
          "height": 250,
          "referenced_widgets": [
            "1bed0ccf84e0487c8c892601e9e192fa",
            "6b65a90200e84f64b3734e9ee365f9a4",
            "6f15fef16dfd40ccb23b58a9fe1f51c1",
            "362f6ea350d54e36a1a6b6dfcfedc386",
            "e9a196a2ce824ac4b84578579412aa81",
            "2c5d63195a1c4793b2dc84ffbc8c6251",
            "182d8513ba3c42de8756f33fb8cd679b"
          ]
        }
      },
      "source": [
        "y_pred = ae(train_images[:10000,])\n",
        "\n",
        "def io_imshow(idx):\n",
        "  print('GT label:', train_labels[idx])\n",
        "  plt.subplot(121)\n",
        "  plt.imshow(train_images[idx])\n",
        "  plt.subplot(122)\n",
        "  plt.imshow(y_pred[idx])\n",
        "  plt.show()\n",
        "\n",
        "widgets.interact(io_imshow, idx=widgets.IntSlider(min=0, max=9999, continuous_update=False));"
      ],
      "execution_count": null,
      "outputs": [
        {
          "output_type": "display_data",
          "data": {
            "application/vnd.jupyter.widget-view+json": {
              "model_id": "1bed0ccf84e0487c8c892601e9e192fa",
              "version_minor": 0,
              "version_major": 2
            },
            "text/plain": [
              "interactive(children=(IntSlider(value=0, continuous_update=False, description='idx', max=9999), Output()), _do…"
            ]
          },
          "metadata": {
            "tags": []
          }
        }
      ]
    },
    {
      "cell_type": "code",
      "metadata": {
        "id": "6R7wRXYrTT1Z",
        "outputId": "f1cf0125-b196-4b59-ec0f-91638ac89d00",
        "colab": {
          "base_uri": "https://localhost:8080/",
          "height": 337
        }
      },
      "source": [
        "z = enc(train_images[:10000])\n",
        "\n",
        "z_0 = z[train_labels[:10000]==0]    # z 배열을 조건을 이용해 slice\n",
        "z_1 = z[train_labels[:10000]==1]\n",
        "z_2 = z[train_labels[:10000]==2]\n",
        "z_3 = z[train_labels[:10000]==3]\n",
        "z_4 = z[train_labels[:10000]==4]\n",
        "z_5 = z[train_labels[:10000]==5]\n",
        "z_6 = z[train_labels[:10000]==6]\n",
        "z_7 = z[train_labels[:10000]==7]\n",
        "z_8 = z[train_labels[:10000]==8]\n",
        "z_9 = z[train_labels[:10000]==9]\n",
        "\n",
        "print(z_0.shape)\n",
        "print(z_1.shape)\n",
        "print(z_2.shape)\n",
        "print(z_9.shape)\n",
        "\n",
        "plt.scatter(z_0[:,0], z_0[:,1], c='b')\n",
        "plt.scatter(z_1[:,0], z_1[:,1], c='g')\n",
        "plt.scatter(z_2[:,0], z_2[:,1], c='r')\n",
        "plt.scatter(z_3[:,0], z_3[:,1], c='y')\n",
        "plt.scatter(z_4[:,0], z_4[:,1], c='k')\n",
        "plt.scatter(z_5[:,0], z_5[:,1], c='c')\n",
        "plt.scatter(z_6[:,0], z_6[:,1], c='m')\n",
        "plt.scatter(z_7[:,0], z_7[:,1], c='w')\n",
        "plt.scatter(z_8[:,0], z_8[:,1], c='lime')\n",
        "plt.scatter(z_9[:,0], z_9[:,1], c = 'pink')\n",
        "plt.show()"
      ],
      "execution_count": null,
      "outputs": [
        {
          "output_type": "stream",
          "text": [
            "(1001, 2)\n",
            "(1127, 2)\n",
            "(991, 2)\n",
            "(978, 2)\n"
          ],
          "name": "stdout"
        },
        {
          "output_type": "display_data",
          "data": {
            "image/png": "[encoded data removed]",
            "text/plain": [
              "<Figure size 432x288 with 1 Axes>"
            ]
          },
          "metadata": {
            "tags": [],
            "needs_background": "light"
          }
        }
      ]
    },
    {
      "cell_type": "markdown",
      "metadata": {
        "id": "Tbqkgnm8SVZp"
      },
      "source": [
        "결과를 보면 잘 안나오는 것을 볼 수있다. \n",
        "stride 7을 처음부터 주는 것이 아니라 마지막에 주어서 작업을 진행해 볼까 한다.\n",
        "\n",
        "\n",
        "또한 Z값이 분포를 보면 분할이 명확하게 되지 않는다는 것을 볼 수 있다. 이는 Decoder를 활용하여 복원을 할 때에도 잘 안된다는 것과 일맥상통한다."
      ]
    },
    {
      "cell_type": "code",
      "metadata": {
        "id": "7G69o7wJOBGk"
      },
      "source": [
        "enc = tf.keras.models.Sequential([tf.keras.layers.InputLayer(input_shape=(28,28)),\n",
        "                                  tf.keras.layers.Reshape(target_shape=(28,28,1)),\n",
        "                                  tf.keras.layers.Conv2D(64,kernel_size=(2,2),activation='relu'),\n",
        "                                  tf.keras.layers.MaxPool2D(pool_size=(2,2)),\n",
        "                                  tf.keras.layers.Conv2D(32,kernel_size=(2,2),activation='relu'),\n",
        "                                  tf.keras.layers.Conv2D(16,kernel_size=(2,2),activation='relu'),\n",
        "                                  tf.keras.layers.Flatten(),\n",
        "                                  tf.keras.layers.Dense(n_dim)])\n",
        "\n",
        "dec = tf.keras.models.Sequential([\n",
        "                                  tf.keras.layers.InputLayer(input_shape=(2,)),\n",
        "                                  tf.keras.layers.Reshape(target_shape=(1,1,2)),\n",
        "                                  tf.keras.layers.Conv2DTranspose(32,kernel_size=(2,2),strides=2,activation='relu'),\n",
        "                                  tf.keras.layers.Conv2DTranspose(64,kernel_size=(2,2),strides=7,activation='relu'),\n",
        "                                  tf.keras.layers.Conv2DTranspose(1,kernel_size=(2,2),strides=2,activation='sigmoid'),\n",
        "                                  tf.keras.layers.Reshape(target_shape=(28,28))\n",
        "])\n",
        "\n",
        "ae = tf.keras.models.Sequential([\n",
        "  tf.keras.layers.InputLayer(input_shape=(28, 28)),\n",
        "  enc,\n",
        "  dec,                               \n",
        "])"
      ],
      "execution_count": null,
      "outputs": []
    },
    {
      "cell_type": "code",
      "metadata": {
        "id": "NYoynLJbScAE",
        "outputId": "c153b009-fdf8-4817-cd49-33eb6f86b981",
        "colab": {
          "base_uri": "https://localhost:8080/",
          "height": 397
        }
      },
      "source": [
        "ae.compile(optimizer='Adam', # optimizer의 name 혹은 함수 객체 설정\n",
        "           loss='mse', \n",
        "           metrics=['mae'])\n",
        "\n",
        "ae.fit(train_images, train_images, epochs=10, batch_size=32)"
      ],
      "execution_count": null,
      "outputs": [
        {
          "output_type": "stream",
          "text": [
            "Epoch 1/10\n",
            "1875/1875 [==============================] - 6s 3ms/step - loss: 0.0951 - mae: 0.2178\n",
            "Epoch 2/10\n",
            "1875/1875 [==============================] - 6s 3ms/step - loss: 0.0885 - mae: 0.2007\n",
            "Epoch 3/10\n",
            "1875/1875 [==============================] - 6s 3ms/step - loss: 0.0883 - mae: 0.2003\n",
            "Epoch 4/10\n",
            "1875/1875 [==============================] - 6s 3ms/step - loss: 0.0882 - mae: 0.2001\n",
            "Epoch 5/10\n",
            "1875/1875 [==============================] - 6s 3ms/step - loss: 0.0882 - mae: 0.2000\n",
            "Epoch 6/10\n",
            "1875/1875 [==============================] - 6s 3ms/step - loss: 0.0881 - mae: 0.1999\n",
            "Epoch 7/10\n",
            "1875/1875 [==============================] - 6s 3ms/step - loss: 0.0881 - mae: 0.1998\n",
            "Epoch 8/10\n",
            "1875/1875 [==============================] - 6s 3ms/step - loss: 0.0881 - mae: 0.1998\n",
            "Epoch 9/10\n",
            "1875/1875 [==============================] - 6s 3ms/step - loss: 0.0880 - mae: 0.1997\n",
            "Epoch 10/10\n",
            "1875/1875 [==============================] - 6s 3ms/step - loss: 0.0880 - mae: 0.1997\n"
          ],
          "name": "stdout"
        },
        {
          "output_type": "execute_result",
          "data": {
            "text/plain": [
              "<tensorflow.python.keras.callbacks.History at 0x7f8674539320>"
            ]
          },
          "metadata": {
            "tags": []
          },
          "execution_count": 176
        }
      ]
    },
    {
      "cell_type": "code",
      "metadata": {
        "id": "4c7CItNJScCN",
        "outputId": "a7909e19-2c13-4c2c-d5af-2ec5695c7dbb",
        "colab": {
          "base_uri": "https://localhost:8080/",
          "height": 250,
          "referenced_widgets": [
            "958bd4fb00bf45abb883513ea0a204ef",
            "63cf87c83edf4275beb1f95e6386e6d1",
            "0bb82ae0d6424f5db1457b64a1f937f6",
            "64f2695905d748d8bdd950e432214c2b",
            "aa6d7d586e9d4bd78a7a4853a8fa7cad",
            "cf0e7bae13bd46d98c19fea3c43582d8",
            "f145308e69a4476890d01d26e9c1ddad"
          ]
        }
      },
      "source": [
        "y_pred = ae(train_images[:10000,])\n",
        "\n",
        "def io_imshow(idx):\n",
        "  print('GT label:', train_labels[idx])\n",
        "  plt.subplot(121)\n",
        "  plt.imshow(train_images[idx])\n",
        "  plt.subplot(122)\n",
        "  plt.imshow(y_pred[idx])\n",
        "  plt.show()\n",
        "\n",
        "widgets.interact(io_imshow, idx=widgets.IntSlider(min=0, max=9999, continuous_update=False));"
      ],
      "execution_count": null,
      "outputs": [
        {
          "output_type": "display_data",
          "data": {
            "application/vnd.jupyter.widget-view+json": {
              "model_id": "958bd4fb00bf45abb883513ea0a204ef",
              "version_minor": 0,
              "version_major": 2
            },
            "text/plain": [
              "interactive(children=(IntSlider(value=0, continuous_update=False, description='idx', max=9999), Output()), _do…"
            ]
          },
          "metadata": {
            "tags": []
          }
        }
      ]
    },
    {
      "cell_type": "code",
      "metadata": {
        "id": "QxpMCnPWTscg",
        "outputId": "bed2d28a-39d9-4fcc-af7b-e2b217da3c66",
        "colab": {
          "base_uri": "https://localhost:8080/",
          "height": 337
        }
      },
      "source": [
        "z = enc(train_images[:10000])\n",
        "\n",
        "z_0 = z[train_labels[:10000]==0]    # z 배열을 조건을 이용해 slice\n",
        "z_1 = z[train_labels[:10000]==1]\n",
        "z_2 = z[train_labels[:10000]==2]\n",
        "z_3 = z[train_labels[:10000]==3]\n",
        "z_4 = z[train_labels[:10000]==4]\n",
        "z_5 = z[train_labels[:10000]==5]\n",
        "z_6 = z[train_labels[:10000]==6]\n",
        "z_7 = z[train_labels[:10000]==7]\n",
        "z_8 = z[train_labels[:10000]==8]\n",
        "z_9 = z[train_labels[:10000]==9]\n",
        "\n",
        "print(z_0.shape)\n",
        "print(z_1.shape)\n",
        "print(z_2.shape)\n",
        "print(z_9.shape)\n",
        "\n",
        "plt.scatter(z_0[:,0], z_0[:,1], c='b')\n",
        "plt.scatter(z_1[:,0], z_1[:,1], c='g')\n",
        "plt.scatter(z_2[:,0], z_2[:,1], c='r')\n",
        "plt.scatter(z_3[:,0], z_3[:,1], c='y')\n",
        "plt.scatter(z_4[:,0], z_4[:,1], c='k')\n",
        "plt.scatter(z_5[:,0], z_5[:,1], c='c')\n",
        "plt.scatter(z_6[:,0], z_6[:,1], c='m')\n",
        "plt.scatter(z_7[:,0], z_7[:,1], c='w')\n",
        "plt.scatter(z_8[:,0], z_8[:,1], c='lime')\n",
        "plt.scatter(z_9[:,0], z_9[:,1], c = 'pink')\n",
        "plt.show()"
      ],
      "execution_count": null,
      "outputs": [
        {
          "output_type": "stream",
          "text": [
            "(1001, 2)\n",
            "(1127, 2)\n",
            "(991, 2)\n",
            "(978, 2)\n"
          ],
          "name": "stdout"
        },
        {
          "output_type": "display_data",
          "data": {
            "image/png": "[encoded data removed]",
            "text/plain": [
              "<Figure size 432x288 with 1 Axes>"
            ]
          },
          "metadata": {
            "tags": [],
            "needs_background": "light"
          }
        }
      ]
    },
    {
      "cell_type": "markdown",
      "metadata": {
        "id": "iYY_GZRES62P"
      },
      "source": [
        "z값의 분포가 제대로 퍼져있지 않다는 것을 볼  수 있다. 그래도 이전보다는 나아진듯한 모습을 볼 수 있다. "
      ]
    },
    {
      "cell_type": "markdown",
      "metadata": {
        "id": "JurPmGnfS8SL"
      },
      "source": [
        "# n_dim 값을 더 늘려보고자 한다."
      ]
    },
    {
      "cell_type": "code",
      "metadata": {
        "id": "i2-hkL8YSpiM"
      },
      "source": [
        "n_dim = 4\n",
        "\n",
        "enc = tf.keras.models.Sequential([tf.keras.layers.InputLayer(input_shape=(28,28)),\n",
        "                                  tf.keras.layers.Reshape(target_shape=(28,28,1)),\n",
        "                                  tf.keras.layers.Conv2D(64,kernel_size=(2,2),activation='relu'),\n",
        "                                  tf.keras.layers.MaxPool2D(pool_size=(2,2)),\n",
        "                                  tf.keras.layers.Conv2D(32,kernel_size=(2,2),activation='relu'),\n",
        "                                  tf.keras.layers.Conv2D(16,kernel_size=(2,2),activation='relu'),\n",
        "                                  tf.keras.layers.Flatten(),\n",
        "                                  tf.keras.layers.Dense(n_dim)])\n",
        "\n",
        "dec = tf.keras.models.Sequential([\n",
        "                                  tf.keras.layers.InputLayer(input_shape=(n_dim,)),\n",
        "                                  tf.keras.layers.Reshape(target_shape=(1,1,n_dim)),\n",
        "                                  tf.keras.layers.Conv2DTranspose(32,kernel_size=(2,2),strides=2,activation='relu'),\n",
        "                                  tf.keras.layers.Conv2DTranspose(64,kernel_size=(2,2),strides=7,activation='relu'),\n",
        "                                  tf.keras.layers.Conv2DTranspose(1,kernel_size=(2,2),strides=2,activation='sigmoid'),\n",
        "                                  tf.keras.layers.Reshape(target_shape=(28,28))\n",
        "])\n",
        "\n",
        "ae = tf.keras.models.Sequential([\n",
        "  tf.keras.layers.InputLayer(input_shape=(28, 28)),\n",
        "  enc,\n",
        "  dec,                               \n",
        "])"
      ],
      "execution_count": null,
      "outputs": []
    },
    {
      "cell_type": "code",
      "metadata": {
        "id": "ASAIvK8JSpky",
        "outputId": "8b66cfba-c3e8-4603-a10c-4ee720482236",
        "colab": {
          "base_uri": "https://localhost:8080/",
          "height": 397
        }
      },
      "source": [
        "ae.compile(optimizer='Adam', # optimizer의 name 혹은 함수 객체 설정\n",
        "           loss='mse', \n",
        "           metrics=['mae'])\n",
        "\n",
        "ae.fit(train_images, train_images, epochs=10, batch_size=32)"
      ],
      "execution_count": null,
      "outputs": [
        {
          "output_type": "stream",
          "text": [
            "Epoch 1/10\n",
            "1875/1875 [==============================] - 6s 3ms/step - loss: 0.0941 - mae: 0.2156\n",
            "Epoch 2/10\n",
            "1875/1875 [==============================] - 6s 3ms/step - loss: 0.0877 - mae: 0.1991\n",
            "Epoch 3/10\n",
            "1875/1875 [==============================] - 6s 3ms/step - loss: 0.0877 - mae: 0.1989\n",
            "Epoch 4/10\n",
            "1875/1875 [==============================] - 6s 3ms/step - loss: 0.0876 - mae: 0.1988\n",
            "Epoch 5/10\n",
            "1875/1875 [==============================] - 6s 3ms/step - loss: 0.0876 - mae: 0.1987\n",
            "Epoch 6/10\n",
            "1875/1875 [==============================] - 6s 3ms/step - loss: 0.0876 - mae: 0.1987\n",
            "Epoch 7/10\n",
            "1875/1875 [==============================] - 6s 3ms/step - loss: 0.0876 - mae: 0.1987\n",
            "Epoch 8/10\n",
            "1875/1875 [==============================] - 6s 3ms/step - loss: 0.0876 - mae: 0.1986\n",
            "Epoch 9/10\n",
            "1875/1875 [==============================] - 6s 3ms/step - loss: 0.0875 - mae: 0.1986\n",
            "Epoch 10/10\n",
            "1875/1875 [==============================] - 6s 3ms/step - loss: 0.0875 - mae: 0.1986\n"
          ],
          "name": "stdout"
        },
        {
          "output_type": "execute_result",
          "data": {
            "text/plain": [
              "<tensorflow.python.keras.callbacks.History at 0x7f8674e1db70>"
            ]
          },
          "metadata": {
            "tags": []
          },
          "execution_count": 180
        }
      ]
    },
    {
      "cell_type": "code",
      "metadata": {
        "id": "EXU-bA7oSpnm",
        "outputId": "a3eb917e-5248-47c6-93ed-7cdf65c84c72",
        "colab": {
          "base_uri": "https://localhost:8080/",
          "height": 250,
          "referenced_widgets": [
            "8627a4e0543b4890926bd577aaa88735",
            "7aba8c07cfaa41eaa0dd996bc4320f35",
            "1a8d64e28b184ce7bc9597c30f157c61",
            "26df69738e3e4e2bb837d0946acf54db",
            "537b453a99bc4de3b3beb818941831ed",
            "7bede50bb70a4d84a7feca77e47db187",
            "fc1cd8d5a72444b9a53a5abaffbd5db4"
          ]
        }
      },
      "source": [
        "y_pred = ae(train_images[:10000,])\n",
        "\n",
        "def io_imshow(idx):\n",
        "  print('GT label:', train_labels[idx])\n",
        "  plt.subplot(121)\n",
        "  plt.imshow(train_images[idx])\n",
        "  plt.subplot(122)\n",
        "  plt.imshow(y_pred[idx])\n",
        "  plt.show()\n",
        "\n",
        "widgets.interact(io_imshow, idx=widgets.IntSlider(min=0, max=9999, continuous_update=False));"
      ],
      "execution_count": null,
      "outputs": [
        {
          "output_type": "display_data",
          "data": {
            "application/vnd.jupyter.widget-view+json": {
              "model_id": "8627a4e0543b4890926bd577aaa88735",
              "version_minor": 0,
              "version_major": 2
            },
            "text/plain": [
              "interactive(children=(IntSlider(value=0, continuous_update=False, description='idx', max=9999), Output()), _do…"
            ]
          },
          "metadata": {
            "tags": []
          }
        }
      ]
    },
    {
      "cell_type": "code",
      "metadata": {
        "id": "Ob94WyeDSppw",
        "outputId": "3a491584-6939-4874-8794-465e674385b6",
        "colab": {
          "base_uri": "https://localhost:8080/",
          "height": 339
        }
      },
      "source": [
        "z = enc(train_images[:10000])\n",
        "\n",
        "z_0 = z[train_labels[:10000]==0]    # z 배열을 조건을 이용해 slice\n",
        "z_1 = z[train_labels[:10000]==1]\n",
        "z_2 = z[train_labels[:10000]==2]\n",
        "z_3 = z[train_labels[:10000]==3]\n",
        "z_4 = z[train_labels[:10000]==4]\n",
        "z_5 = z[train_labels[:10000]==5]\n",
        "z_6 = z[train_labels[:10000]==6]\n",
        "z_7 = z[train_labels[:10000]==7]\n",
        "z_8 = z[train_labels[:10000]==8]\n",
        "z_9 = z[train_labels[:10000]==9]\n",
        "\n",
        "print(z_0.shape)\n",
        "print(z_1.shape)\n",
        "print(z_2.shape)\n",
        "print(z_9.shape)\n",
        "\n",
        "plt.scatter(z_0[:,0], z_0[:,1], c='b')\n",
        "plt.scatter(z_1[:,0], z_1[:,1], c='g')\n",
        "plt.scatter(z_2[:,0], z_2[:,1], c='r')\n",
        "plt.scatter(z_3[:,0], z_3[:,1], c='y')\n",
        "plt.scatter(z_4[:,0], z_4[:,1], c='k')\n",
        "plt.scatter(z_5[:,0], z_5[:,1], c='c')\n",
        "plt.scatter(z_6[:,0], z_6[:,1], c='m')\n",
        "plt.scatter(z_7[:,0], z_7[:,1], c='w')\n",
        "plt.scatter(z_8[:,0], z_8[:,1], c='lime')\n",
        "plt.scatter(z_9[:,0], z_9[:,1], c = 'pink')\n",
        "plt.show()"
      ],
      "execution_count": null,
      "outputs": [
        {
          "output_type": "stream",
          "text": [
            "(1001, 4)\n",
            "(1127, 4)\n",
            "(991, 4)\n",
            "(978, 4)\n"
          ],
          "name": "stdout"
        },
        {
          "output_type": "display_data",
          "data": {
            "image/png": "[encoded data removed]",
            "text/plain": [
              "<Figure size 432x288 with 1 Axes>"
            ]
          },
          "metadata": {
            "tags": [],
            "needs_background": "light"
          }
        }
      ]
    },
    {
      "cell_type": "markdown",
      "metadata": {
        "id": "__7u0iqRbj3h"
      },
      "source": [
        "차원을 늘렸더니 조금씩 퍼지는 듯한 모습이 보인다. 하지만 여전히 구분은 잘 되지 않는 것 같다."
      ]
    },
    {
      "cell_type": "markdown",
      "metadata": {
        "id": "jXjPenLOTBFh"
      },
      "source": [
        "# 마지막에 넣은 Dense를 제거하고 작업을 진행하고자 한다."
      ]
    },
    {
      "cell_type": "code",
      "metadata": {
        "id": "EOZRDLYYSpud"
      },
      "source": [
        "n_dim = 2\n",
        "\n",
        "enc = tf.keras.models.Sequential([tf.keras.layers.InputLayer(input_shape=(28,28)),\n",
        "                                  tf.keras.layers.Reshape(target_shape=(28,28,1)),\n",
        "                                  tf.keras.layers.Conv2D(64,kernel_size=(2,2),activation='relu'),\n",
        "                                  tf.keras.layers.MaxPool2D(pool_size=(2,2)),\n",
        "                                  tf.keras.layers.Conv2D(32,kernel_size=(2,2),activation='relu'),\n",
        "                                  tf.keras.layers.MaxPool2D(pool_size=(2,2)),\n",
        "                                  tf.keras.layers.Conv2D(16,kernel_size=(2,2),activation='relu'),\n",
        "                                  tf.keras.layers.MaxPool2D(pool_size=(2,2)),\n",
        "                                  tf.keras.layers.Conv2D(n_dim,kernel_size=(2,2)),\n",
        "                                  tf.keras.layers.Flatten()])\n",
        "\n",
        "dec = tf.keras.models.Sequential([\n",
        "                                  tf.keras.layers.InputLayer(input_shape=(n_dim,)),\n",
        "                                  tf.keras.layers.Reshape(target_shape=(1,1,n_dim)),\n",
        "                                  tf.keras.layers.Conv2DTranspose(32,kernel_size=(2,2),strides=2,activation='relu'),\n",
        "                                  tf.keras.layers.Conv2DTranspose(64,kernel_size=(2,2),strides=7,activation='relu'),\n",
        "                                  tf.keras.layers.Conv2DTranspose(1,kernel_size=(2,2),strides=2,activation='sigmoid'),\n",
        "                                  tf.keras.layers.Reshape(target_shape=(28,28))\n",
        "])\n",
        "\n",
        "ae = tf.keras.models.Sequential([\n",
        "  tf.keras.layers.InputLayer(input_shape=(28, 28)),\n",
        "  enc,\n",
        "  dec,                               \n",
        "])"
      ],
      "execution_count": null,
      "outputs": []
    },
    {
      "cell_type": "code",
      "metadata": {
        "id": "COikw0N0SpzD",
        "outputId": "c5a9d0ba-ba58-4c8c-93ef-2114a5aa6cef",
        "colab": {
          "base_uri": "https://localhost:8080/",
          "height": 397
        }
      },
      "source": [
        "ae.compile(optimizer='Adam', # optimizer의 name 혹은 함수 객체 설정\n",
        "           loss='mse', \n",
        "           metrics=['mae'])\n",
        "\n",
        "ae.fit(train_images, train_images, epochs=10, batch_size=32)"
      ],
      "execution_count": null,
      "outputs": [
        {
          "output_type": "stream",
          "text": [
            "Epoch 1/10\n",
            "1875/1875 [==============================] - 7s 3ms/step - loss: 0.0952 - mae: 0.2174\n",
            "Epoch 2/10\n",
            "1875/1875 [==============================] - 7s 4ms/step - loss: 0.0891 - mae: 0.2019\n",
            "Epoch 3/10\n",
            "1875/1875 [==============================] - 7s 4ms/step - loss: 0.0889 - mae: 0.2016\n",
            "Epoch 4/10\n",
            "1875/1875 [==============================] - 7s 4ms/step - loss: 0.0888 - mae: 0.2014\n",
            "Epoch 5/10\n",
            "1875/1875 [==============================] - 7s 4ms/step - loss: 0.0888 - mae: 0.2013\n",
            "Epoch 6/10\n",
            "1875/1875 [==============================] - 7s 4ms/step - loss: 0.0887 - mae: 0.2012\n",
            "Epoch 7/10\n",
            "1875/1875 [==============================] - 7s 4ms/step - loss: 0.0887 - mae: 0.2012\n",
            "Epoch 8/10\n",
            "1875/1875 [==============================] - 7s 3ms/step - loss: 0.0887 - mae: 0.2011\n",
            "Epoch 9/10\n",
            "1875/1875 [==============================] - 7s 3ms/step - loss: 0.0887 - mae: 0.2011\n",
            "Epoch 10/10\n",
            "1875/1875 [==============================] - 7s 3ms/step - loss: 0.0887 - mae: 0.2010\n"
          ],
          "name": "stdout"
        },
        {
          "output_type": "execute_result",
          "data": {
            "text/plain": [
              "<tensorflow.python.keras.callbacks.History at 0x7f8674d28ef0>"
            ]
          },
          "metadata": {
            "tags": []
          },
          "execution_count": 184
        }
      ]
    },
    {
      "cell_type": "code",
      "metadata": {
        "id": "ydSgdAczSp1l",
        "outputId": "5d87f33e-ee4b-4080-c521-fa3ee4f39e0e",
        "colab": {
          "base_uri": "https://localhost:8080/",
          "height": 250,
          "referenced_widgets": [
            "f1db0df37bd44bbba9ddfb6bc916d77f",
            "23abd233bdea4dc5ba2da9342a2eb0f6",
            "e323b6e81dbd46b9938a14b1199aa90f",
            "79a55160afd5462ebf1b4b8d5948390e",
            "4301e5ef5db14ffa847291acdbc0fb78",
            "c57597a5df234b769b7e79270aa33f67",
            "95370bd3f1d94420902136e2f72bee1f"
          ]
        }
      },
      "source": [
        "y_pred = ae(train_images[:10000,])\n",
        "\n",
        "def io_imshow(idx):\n",
        "  print('GT label:', train_labels[idx])\n",
        "  plt.subplot(121)\n",
        "  plt.imshow(train_images[idx])\n",
        "  plt.subplot(122)\n",
        "  plt.imshow(y_pred[idx])\n",
        "  plt.show()\n",
        "\n",
        "widgets.interact(io_imshow, idx=widgets.IntSlider(min=0, max=9999, continuous_update=False));"
      ],
      "execution_count": null,
      "outputs": [
        {
          "output_type": "display_data",
          "data": {
            "application/vnd.jupyter.widget-view+json": {
              "model_id": "f1db0df37bd44bbba9ddfb6bc916d77f",
              "version_minor": 0,
              "version_major": 2
            },
            "text/plain": [
              "interactive(children=(IntSlider(value=0, continuous_update=False, description='idx', max=9999), Output()), _do…"
            ]
          },
          "metadata": {
            "tags": []
          }
        }
      ]
    },
    {
      "cell_type": "code",
      "metadata": {
        "id": "L_u5wvxaSp31",
        "outputId": "fc8bd5a4-dd73-4f03-ea65-aa7471575720",
        "colab": {
          "base_uri": "https://localhost:8080/",
          "height": 337
        }
      },
      "source": [
        "z = enc(train_images[:10000])\n",
        "\n",
        "z_0 = z[train_labels[:10000]==0]    # z 배열을 조건을 이용해 slice\n",
        "z_1 = z[train_labels[:10000]==1]\n",
        "z_2 = z[train_labels[:10000]==2]\n",
        "z_3 = z[train_labels[:10000]==3]\n",
        "z_4 = z[train_labels[:10000]==4]\n",
        "z_5 = z[train_labels[:10000]==5]\n",
        "z_6 = z[train_labels[:10000]==6]\n",
        "z_7 = z[train_labels[:10000]==7]\n",
        "z_8 = z[train_labels[:10000]==8]\n",
        "z_9 = z[train_labels[:10000]==9]\n",
        "\n",
        "print(z_0.shape)\n",
        "print(z_1.shape)\n",
        "print(z_2.shape)\n",
        "print(z_9.shape)\n",
        "\n",
        "plt.scatter(z_0[:,0], z_0[:,1], c='b')\n",
        "plt.scatter(z_1[:,0], z_1[:,1], c='g')\n",
        "plt.scatter(z_2[:,0], z_2[:,1], c='r')\n",
        "plt.scatter(z_3[:,0], z_3[:,1], c='y')\n",
        "plt.scatter(z_4[:,0], z_4[:,1], c='k')\n",
        "plt.scatter(z_5[:,0], z_5[:,1], c='c')\n",
        "plt.scatter(z_6[:,0], z_6[:,1], c='m')\n",
        "plt.scatter(z_7[:,0], z_7[:,1], c='orange')\n",
        "plt.scatter(z_8[:,0], z_8[:,1], c='lime')\n",
        "plt.scatter(z_9[:,0], z_9[:,1], c = 'pink')\n",
        "plt.show()"
      ],
      "execution_count": null,
      "outputs": [
        {
          "output_type": "stream",
          "text": [
            "(1001, 2)\n",
            "(1127, 2)\n",
            "(991, 2)\n",
            "(978, 2)\n"
          ],
          "name": "stdout"
        },
        {
          "output_type": "display_data",
          "data": {
            "image/png": "[encoded data removed]",
            "text/plain": [
              "<Figure size 432x288 with 1 Axes>"
            ]
          },
          "metadata": {
            "tags": [],
            "needs_background": "light"
          }
        }
      ]
    },
    {
      "cell_type": "markdown",
      "metadata": {
        "id": "Um3ODTXObpj8"
      },
      "source": [
        "Dense Layer를 제거하였더니 축의 값이 작아진 것이 눈에 띄인다. 하지만 여전히 잘 구분되지 않는다."
      ]
    },
    {
      "cell_type": "markdown",
      "metadata": {
        "id": "_i34cN9rZg9_"
      },
      "source": [
        ""
      ]
    },
    {
      "cell_type": "markdown",
      "metadata": {
        "id": "gcUJbTjCZgR3"
      },
      "source": [
        "# Decoder의 코드를 Conv2DTransPose를 사용한는 것이 아닌 Dense를 활용하고자 함"
      ]
    },
    {
      "cell_type": "code",
      "metadata": {
        "id": "8vwhd5qnSp8b"
      },
      "source": [
        "enc = tf.keras.models.Sequential([tf.keras.layers.InputLayer(input_shape=(28,28)),\n",
        "                                  tf.keras.layers.Reshape(target_shape=(28,28,1)),\n",
        "                                  tf.keras.layers.Conv2D(64,kernel_size=(2,2),activation='relu'),\n",
        "                                  tf.keras.layers.MaxPool2D(pool_size=(2,2)),\n",
        "                                  tf.keras.layers.Conv2D(32,kernel_size=(2,2),activation='relu'),\n",
        "                                  tf.keras.layers.Conv2D(16,kernel_size=(2,2),activation='relu'),\n",
        "                                  tf.keras.layers.Flatten(),\n",
        "                                  tf.keras.layers.Dense(n_dim)])\n",
        "\n",
        "dec = tf.keras.models.Sequential([\n",
        "                                  tf.keras.layers.InputLayer(input_shape=(2,)),\n",
        "                                  tf.keras.layers.Dense(32, activation='relu'),\n",
        "                                  tf.keras.layers.Dense(128, activation='relu'),\n",
        "                                  tf.keras.layers.Dense(256, activation='relu'),\n",
        "                                  tf.keras.layers.Dense(784, activation='sigmoid'),\n",
        "                                  tf.keras.layers.Reshape(target_shape=(28,28))\n",
        "])\n",
        "\n",
        "ae = tf.keras.models.Sequential([\n",
        "  tf.keras.layers.InputLayer(input_shape=(28, 28)),\n",
        "  enc,\n",
        "  dec,                               \n",
        "])"
      ],
      "execution_count": null,
      "outputs": []
    },
    {
      "cell_type": "code",
      "metadata": {
        "id": "rXStbyTnSqAE",
        "outputId": "cc29e7f4-e141-4344-b36d-0d4aff080177",
        "colab": {
          "base_uri": "https://localhost:8080/",
          "height": 397
        }
      },
      "source": [
        "ae.compile(optimizer='Adam', # optimizer의 name 혹은 함수 객체 설정\n",
        "           loss='mse', \n",
        "           metrics=['mae'])\n",
        "\n",
        "ae.fit(train_images, train_images, epochs=10, batch_size=32)"
      ],
      "execution_count": null,
      "outputs": [
        {
          "output_type": "stream",
          "text": [
            "Epoch 1/10\n",
            "1875/1875 [==============================] - 6s 3ms/step - loss: 0.0551 - mae: 0.1250\n",
            "Epoch 2/10\n",
            "1875/1875 [==============================] - 6s 3ms/step - loss: 0.0459 - mae: 0.1071\n",
            "Epoch 3/10\n",
            "1875/1875 [==============================] - 6s 3ms/step - loss: 0.0441 - mae: 0.1033\n",
            "Epoch 4/10\n",
            "1875/1875 [==============================] - 6s 3ms/step - loss: 0.0431 - mae: 0.1013\n",
            "Epoch 5/10\n",
            "1875/1875 [==============================] - 6s 3ms/step - loss: 0.0425 - mae: 0.0999\n",
            "Epoch 6/10\n",
            "1875/1875 [==============================] - 6s 3ms/step - loss: 0.0420 - mae: 0.0989\n",
            "Epoch 7/10\n",
            "1875/1875 [==============================] - 6s 3ms/step - loss: 0.0416 - mae: 0.0982\n",
            "Epoch 8/10\n",
            "1875/1875 [==============================] - 6s 3ms/step - loss: 0.0414 - mae: 0.0977\n",
            "Epoch 9/10\n",
            "1875/1875 [==============================] - 6s 3ms/step - loss: 0.0411 - mae: 0.0972\n",
            "Epoch 10/10\n",
            "1875/1875 [==============================] - 6s 3ms/step - loss: 0.0409 - mae: 0.0967\n"
          ],
          "name": "stdout"
        },
        {
          "output_type": "execute_result",
          "data": {
            "text/plain": [
              "<tensorflow.python.keras.callbacks.History at 0x7f8674a04208>"
            ]
          },
          "metadata": {
            "tags": []
          },
          "execution_count": 188
        }
      ]
    },
    {
      "cell_type": "code",
      "metadata": {
        "id": "TyC9ZHmzSpsx",
        "outputId": "ab2dd0a9-05ae-48d2-dfb8-d97b26c11e72",
        "colab": {
          "base_uri": "https://localhost:8080/",
          "height": 250,
          "referenced_widgets": [
            "460003668ad7408f94986b6a2cd30602",
            "262d0e45c7b14a21b9eeacea80e159d7",
            "b1c1b5e610de458385629efb44603fe8",
            "6cb14cb93f1d4418a2aebdb69cd75acc",
            "56b744bca32d46e8a8487dd7a1f1ba3b",
            "8f2c631136244874a1a854cd7561501e",
            "8a2059f757db4f82a7b134ea85aa4d26"
          ]
        }
      },
      "source": [
        "y_pred = ae(train_images[:10000,])\n",
        "\n",
        "def io_imshow(idx):\n",
        "  print('GT label:', train_labels[idx])\n",
        "  plt.subplot(121)\n",
        "  plt.imshow(train_images[idx])\n",
        "  plt.subplot(122)\n",
        "  plt.imshow(y_pred[idx])\n",
        "  plt.show()\n",
        "\n",
        "widgets.interact(io_imshow, idx=widgets.IntSlider(min=0, max=9999, continuous_update=False));"
      ],
      "execution_count": null,
      "outputs": [
        {
          "output_type": "display_data",
          "data": {
            "application/vnd.jupyter.widget-view+json": {
              "model_id": "460003668ad7408f94986b6a2cd30602",
              "version_minor": 0,
              "version_major": 2
            },
            "text/plain": [
              "interactive(children=(IntSlider(value=0, continuous_update=False, description='idx', max=9999), Output()), _do…"
            ]
          },
          "metadata": {
            "tags": []
          }
        }
      ]
    },
    {
      "cell_type": "code",
      "metadata": {
        "id": "_MldNMnbScEf",
        "outputId": "ce9833c6-5be4-4116-c58d-7978922c25a7",
        "colab": {
          "base_uri": "https://localhost:8080/",
          "height": 337
        }
      },
      "source": [
        "z = enc(train_images[:10000])\n",
        "\n",
        "z_0 = z[train_labels[:10000]==0]    # z 배열을 조건을 이용해 slice\n",
        "z_1 = z[train_labels[:10000]==1]\n",
        "z_2 = z[train_labels[:10000]==2]\n",
        "z_3 = z[train_labels[:10000]==3]\n",
        "z_4 = z[train_labels[:10000]==4]\n",
        "z_5 = z[train_labels[:10000]==5]\n",
        "z_6 = z[train_labels[:10000]==6]\n",
        "z_7 = z[train_labels[:10000]==7]\n",
        "z_8 = z[train_labels[:10000]==8]\n",
        "z_9 = z[train_labels[:10000]==9]\n",
        "\n",
        "print(z_0.shape)\n",
        "print(z_1.shape)\n",
        "print(z_2.shape)\n",
        "print(z_9.shape)\n",
        "\n",
        "plt.scatter(z_0[:,0], z_0[:,1], c='b')\n",
        "plt.scatter(z_1[:,0], z_1[:,1], c='g')\n",
        "plt.scatter(z_2[:,0], z_2[:,1], c='r')\n",
        "plt.scatter(z_3[:,0], z_3[:,1], c='y')\n",
        "plt.scatter(z_4[:,0], z_4[:,1], c='k')\n",
        "plt.scatter(z_5[:,0], z_5[:,1], c='c')\n",
        "plt.scatter(z_6[:,0], z_6[:,1], c='m')\n",
        "plt.scatter(z_7[:,0], z_7[:,1], c='orange')\n",
        "plt.scatter(z_8[:,0], z_8[:,1], c='lime')\n",
        "plt.scatter(z_9[:,0], z_9[:,1], c = 'pink')\n",
        "plt.show()"
      ],
      "execution_count": null,
      "outputs": [
        {
          "output_type": "stream",
          "text": [
            "(1001, 2)\n",
            "(1127, 2)\n",
            "(991, 2)\n",
            "(978, 2)\n"
          ],
          "name": "stdout"
        },
        {
          "output_type": "display_data",
          "data": {
            "image/png": "[encoded data removed]",
            "text/plain": [
              "<Figure size 432x288 with 1 Axes>"
            ]
          },
          "metadata": {
            "tags": [],
            "needs_background": "light"
          }
        }
      ]
    },
    {
      "cell_type": "markdown",
      "metadata": {
        "id": "GbAiqrzdHYW5"
      },
      "source": [
        "Decoder 부분에 Dense를 쌓았더니 어느정도 구분이 되는 선이 생기기 시작하였다. \n",
        "\n",
        "하지만 Dense Layer를 Conv레이어로 수정하라 하였으니 이는 아닌것 같다."
      ]
    },
    {
      "cell_type": "markdown",
      "metadata": {
        "id": "wlNX5HhWHr7y"
      },
      "source": [
        "# Conv1D를 사용해보자."
      ]
    },
    {
      "cell_type": "code",
      "metadata": {
        "id": "EsV9KKuFScGq"
      },
      "source": [
        "enc = tf.keras.models.Sequential([tf.keras.layers.InputLayer(input_shape=(28,28)),\n",
        "                                  tf.keras.layers.Conv1D(128,kernel_size=2,activation='relu'),\n",
        "                                  tf.keras.layers.MaxPool1D(pool_size=2),\n",
        "                                  tf.keras.layers.Conv1D(64,kernel_size=2,activation='relu'),\n",
        "                                  tf.keras.layers.MaxPool1D(pool_size=2),\n",
        "                                  tf.keras.layers.Conv1D(32,kernel_size=2,activation='relu'),\n",
        "                                  tf.keras.layers.MaxPool1D(pool_size=2),\n",
        "                                  tf.keras.layers.Conv1D(2,kernel_size=2),\n",
        "                                  tf.keras.layers.Flatten()])\n",
        "\n",
        "dec = tf.keras.models.Sequential([\n",
        "                                  tf.keras.layers.InputLayer(input_shape=(n_dim,)),\n",
        "                                  tf.keras.layers.Reshape(target_shape=(1,n_dim)),\n",
        "                                  tf.keras.layers.Conv1D(32,kernel_size=1,activation='relu'),\n",
        "                                  tf.keras.layers.Conv1D(128,kernel_size=1,activation='relu'),\n",
        "                                  tf.keras.layers.Conv1D(784,kernel_size=1,activation='sigmoid'),\n",
        "                                  tf.keras.layers.Reshape(target_shape=(28,28))\n",
        "])\n",
        "\n",
        "ae = tf.keras.models.Sequential([\n",
        "  tf.keras.layers.InputLayer(input_shape=(28, 28)),\n",
        "  enc,\n",
        "  dec,                               \n",
        "])"
      ],
      "execution_count": null,
      "outputs": []
    },
    {
      "cell_type": "code",
      "metadata": {
        "id": "weAftlekScIt",
        "outputId": "b33a2562-ec49-42d3-c6c0-41a29bbee398",
        "colab": {
          "base_uri": "https://localhost:8080/",
          "height": 397
        }
      },
      "source": [
        "ae.compile(optimizer='Adam', # optimizer의 name 혹은 함수 객체 설정\n",
        "           loss='mse', \n",
        "           metrics=['mae'])\n",
        "\n",
        "ae.fit(train_images, train_images, epochs=10, batch_size=32)"
      ],
      "execution_count": null,
      "outputs": [
        {
          "output_type": "stream",
          "text": [
            "Epoch 1/10\n",
            "1875/1875 [==============================] - 7s 4ms/step - loss: 0.0566 - mae: 0.1280\n",
            "Epoch 2/10\n",
            "1875/1875 [==============================] - 7s 4ms/step - loss: 0.0484 - mae: 0.1121\n",
            "Epoch 3/10\n",
            "1875/1875 [==============================] - 7s 4ms/step - loss: 0.0465 - mae: 0.1082\n",
            "Epoch 4/10\n",
            "1875/1875 [==============================] - 7s 4ms/step - loss: 0.0453 - mae: 0.1057\n",
            "Epoch 5/10\n",
            "1875/1875 [==============================] - 7s 4ms/step - loss: 0.0445 - mae: 0.1041\n",
            "Epoch 6/10\n",
            "1875/1875 [==============================] - 7s 4ms/step - loss: 0.0439 - mae: 0.1027\n",
            "Epoch 7/10\n",
            "1875/1875 [==============================] - 7s 4ms/step - loss: 0.0434 - mae: 0.1017\n",
            "Epoch 8/10\n",
            "1875/1875 [==============================] - 7s 4ms/step - loss: 0.0430 - mae: 0.1008\n",
            "Epoch 9/10\n",
            "1875/1875 [==============================] - 7s 4ms/step - loss: 0.0426 - mae: 0.1000\n",
            "Epoch 10/10\n",
            "1875/1875 [==============================] - 7s 4ms/step - loss: 0.0423 - mae: 0.0993\n"
          ],
          "name": "stdout"
        },
        {
          "output_type": "execute_result",
          "data": {
            "text/plain": [
              "<tensorflow.python.keras.callbacks.History at 0x7f8672e935f8>"
            ]
          },
          "metadata": {
            "tags": []
          },
          "execution_count": 192
        }
      ]
    },
    {
      "cell_type": "code",
      "metadata": {
        "id": "QsoPHV6MScK0",
        "outputId": "c01d491a-02c4-4903-b3a3-92a936a4ecb9",
        "colab": {
          "base_uri": "https://localhost:8080/",
          "height": 250,
          "referenced_widgets": [
            "8360fbea4f5b4de59966d4bb66802e4a",
            "66d7d76f456a4bbfa85c5731076a29c1",
            "e25856dea5774999b257ceda6cca2842",
            "c8738c5b39d34b3a9444154ad4edf84b",
            "ef5a4bdb0c144aa1a9a44b972fb74c69",
            "5a8bb0c885ae4d189c5820c5ff9ad3c1",
            "f0ac89798a114480a5ea512dcbd4a7a7"
          ]
        }
      },
      "source": [
        "y_pred = ae(train_images[:10000,])\n",
        "\n",
        "def io_imshow(idx):\n",
        "  print('GT label:', train_labels[idx])\n",
        "  plt.subplot(121)\n",
        "  plt.imshow(train_images[idx])\n",
        "  plt.subplot(122)\n",
        "  plt.imshow(y_pred[idx])\n",
        "  plt.show()\n",
        "\n",
        "widgets.interact(io_imshow, idx=widgets.IntSlider(min=0, max=9999, continuous_update=False));"
      ],
      "execution_count": null,
      "outputs": [
        {
          "output_type": "display_data",
          "data": {
            "application/vnd.jupyter.widget-view+json": {
              "model_id": "8360fbea4f5b4de59966d4bb66802e4a",
              "version_minor": 0,
              "version_major": 2
            },
            "text/plain": [
              "interactive(children=(IntSlider(value=0, continuous_update=False, description='idx', max=9999), Output()), _do…"
            ]
          },
          "metadata": {
            "tags": []
          }
        }
      ]
    },
    {
      "cell_type": "code",
      "metadata": {
        "id": "NfE_y5AROBIy",
        "outputId": "db78aa4a-b8f1-48d5-e864-bacc9b1e71a9",
        "colab": {
          "base_uri": "https://localhost:8080/",
          "height": 337
        }
      },
      "source": [
        "z = enc(train_images[:10000])\n",
        "\n",
        "z_0 = z[train_labels[:10000]==0]    # z 배열을 조건을 이용해 slice\n",
        "z_1 = z[train_labels[:10000]==1]\n",
        "z_2 = z[train_labels[:10000]==2]\n",
        "z_3 = z[train_labels[:10000]==3]\n",
        "z_4 = z[train_labels[:10000]==4]\n",
        "z_5 = z[train_labels[:10000]==5]\n",
        "z_6 = z[train_labels[:10000]==6]\n",
        "z_7 = z[train_labels[:10000]==7]\n",
        "z_8 = z[train_labels[:10000]==8]\n",
        "z_9 = z[train_labels[:10000]==9]\n",
        "\n",
        "print(z_0.shape)\n",
        "print(z_1.shape)\n",
        "print(z_2.shape)\n",
        "print(z_9.shape)\n",
        "\n",
        "plt.scatter(z_0[:,0], z_0[:,1], c='b')\n",
        "plt.scatter(z_1[:,0], z_1[:,1], c='g')\n",
        "plt.scatter(z_2[:,0], z_2[:,1], c='r')\n",
        "plt.scatter(z_3[:,0], z_3[:,1], c='y')\n",
        "plt.scatter(z_4[:,0], z_4[:,1], c='k')\n",
        "plt.scatter(z_5[:,0], z_5[:,1], c='c')\n",
        "plt.scatter(z_6[:,0], z_6[:,1], c='m')\n",
        "plt.scatter(z_7[:,0], z_7[:,1], c='orange')\n",
        "plt.scatter(z_8[:,0], z_8[:,1], c='lime')\n",
        "plt.scatter(z_9[:,0], z_9[:,1], c = 'pink')\n",
        "plt.show()"
      ],
      "execution_count": null,
      "outputs": [
        {
          "output_type": "stream",
          "text": [
            "(1001, 2)\n",
            "(1127, 2)\n",
            "(991, 2)\n",
            "(978, 2)\n"
          ],
          "name": "stdout"
        },
        {
          "output_type": "display_data",
          "data": {
            "image/png": "[encoded data removed]",
            "text/plain": [
              "<Figure size 432x288 with 1 Axes>"
            ]
          },
          "metadata": {
            "tags": [],
            "needs_background": "light"
          }
        }
      ]
    },
    {
      "cell_type": "markdown",
      "metadata": {
        "id": "i_3IwDzaLd_Q"
      },
      "source": [
        "conv1D로 바꾸었더니 Z값이 어느정도 갈라지는 듯한 모습을 보여줌 \n",
        "\n",
        "Conv1D를 활용하니 MAE의 값도 상당히 낮은것으로 관측되어 최대한 줄여보고자 한다. "
      ]
    },
    {
      "cell_type": "code",
      "metadata": {
        "id": "ziLFtCSkJ1Lo"
      },
      "source": [
        "enc = tf.keras.models.Sequential([tf.keras.layers.InputLayer(input_shape=(28,28)),\n",
        "                                  tf.keras.layers.Conv1D(128,kernel_size=2,activation='elu'),\n",
        "                                  tf.keras.layers.MaxPool1D(pool_size=2),\n",
        "                                  tf.keras.layers.Conv1D(64,kernel_size=2,activation='elu'),\n",
        "                                  tf.keras.layers.MaxPool1D(pool_size=2),\n",
        "                                  tf.keras.layers.Conv1D(32,kernel_size=2,activation='elu'),\n",
        "                                  tf.keras.layers.MaxPool1D(pool_size=2),\n",
        "                                  tf.keras.layers.Conv1D(2,kernel_size=2),\n",
        "                                  tf.keras.layers.Flatten()])\n",
        "\n",
        "dec = tf.keras.models.Sequential([\n",
        "                                  tf.keras.layers.InputLayer(input_shape=(n_dim,)),\n",
        "                                  tf.keras.layers.Reshape(target_shape=(1,n_dim)),\n",
        "                                  tf.keras.layers.Conv1D(32,kernel_size=1,activation='elu'),\n",
        "                                  tf.keras.layers.Conv1D(128,kernel_size=1,activation='elu'),\n",
        "                                  tf.keras.layers.Conv1D(784,kernel_size=1,activation='sigmoid'),\n",
        "                                  tf.keras.layers.Reshape(target_shape=(28,28))\n",
        "])\n",
        "\n",
        "ae = tf.keras.models.Sequential([\n",
        "  tf.keras.layers.InputLayer(input_shape=(28, 28)),\n",
        "  enc,\n",
        "  dec,                               \n",
        "])"
      ],
      "execution_count": null,
      "outputs": []
    },
    {
      "cell_type": "code",
      "metadata": {
        "id": "WDIvQCU2J1OP",
        "outputId": "89efe5e8-8cae-4208-87a2-5cbec73ecbf1",
        "colab": {
          "base_uri": "https://localhost:8080/",
          "height": 397
        }
      },
      "source": [
        "ae.compile(optimizer='Adam', # optimizer의 name 혹은 함수 객체 설정\n",
        "           loss='mse', \n",
        "           metrics=['mae'])\n",
        "\n",
        "ae.fit(train_images, train_images, epochs=10, batch_size=32)"
      ],
      "execution_count": null,
      "outputs": [
        {
          "output_type": "stream",
          "text": [
            "Epoch 1/10\n",
            "1875/1875 [==============================] - 7s 4ms/step - loss: 0.0552 - mae: 0.1274\n",
            "Epoch 2/10\n",
            "1875/1875 [==============================] - 7s 4ms/step - loss: 0.0489 - mae: 0.1135\n",
            "Epoch 3/10\n",
            "1875/1875 [==============================] - 7s 4ms/step - loss: 0.0469 - mae: 0.1090\n",
            "Epoch 4/10\n",
            "1875/1875 [==============================] - 7s 4ms/step - loss: 0.0456 - mae: 0.1062\n",
            "Epoch 5/10\n",
            "1875/1875 [==============================] - 7s 4ms/step - loss: 0.0448 - mae: 0.1043\n",
            "Epoch 6/10\n",
            "1875/1875 [==============================] - 7s 4ms/step - loss: 0.0441 - mae: 0.1027\n",
            "Epoch 7/10\n",
            "1875/1875 [==============================] - 7s 4ms/step - loss: 0.0437 - mae: 0.1017\n",
            "Epoch 8/10\n",
            "1875/1875 [==============================] - 7s 4ms/step - loss: 0.0431 - mae: 0.1006\n",
            "Epoch 9/10\n",
            "1875/1875 [==============================] - 7s 4ms/step - loss: 0.0428 - mae: 0.0997\n",
            "Epoch 10/10\n",
            "1875/1875 [==============================] - 7s 4ms/step - loss: 0.0424 - mae: 0.0990\n"
          ],
          "name": "stdout"
        },
        {
          "output_type": "execute_result",
          "data": {
            "text/plain": [
              "<tensorflow.python.keras.callbacks.History at 0x7f86724d20f0>"
            ]
          },
          "metadata": {
            "tags": []
          },
          "execution_count": 208
        }
      ]
    },
    {
      "cell_type": "code",
      "metadata": {
        "id": "UosyroKEJ1QR",
        "outputId": "2097c3d0-62fa-409b-f110-a4080d2f5657",
        "colab": {
          "base_uri": "https://localhost:8080/",
          "height": 250,
          "referenced_widgets": [
            "dccb337b56aa4fc099bfa1d8d75b676c",
            "28eab8e714774d7789afb2fc116c16b6",
            "644a8c1e642c4394a3c84a030b2d736a",
            "027e2d69e936497783da7eddbfb55749",
            "a609dfbd4ebe4cdbb996d52be7945620",
            "36b551816ae64c3da5fa94627bd7e6bc",
            "f0e90f143b58405b8fbe5d8f92f5c28e"
          ]
        }
      },
      "source": [
        "y_pred = ae(train_images[:10000,])\n",
        "\n",
        "def io_imshow(idx):\n",
        "  print('GT label:', train_labels[idx])\n",
        "  plt.subplot(121)\n",
        "  plt.imshow(train_images[idx])\n",
        "  plt.subplot(122)\n",
        "  plt.imshow(y_pred[idx])\n",
        "  plt.show()\n",
        "\n",
        "widgets.interact(io_imshow, idx=widgets.IntSlider(min=0, max=9999, continuous_update=False));"
      ],
      "execution_count": null,
      "outputs": [
        {
          "output_type": "display_data",
          "data": {
            "application/vnd.jupyter.widget-view+json": {
              "model_id": "dccb337b56aa4fc099bfa1d8d75b676c",
              "version_minor": 0,
              "version_major": 2
            },
            "text/plain": [
              "interactive(children=(IntSlider(value=0, continuous_update=False, description='idx', max=9999), Output()), _do…"
            ]
          },
          "metadata": {
            "tags": []
          }
        }
      ]
    },
    {
      "cell_type": "code",
      "metadata": {
        "id": "3X1Le6tWJ1Je",
        "outputId": "9989d7eb-9553-437b-d05d-b3baa6c85158",
        "colab": {
          "base_uri": "https://localhost:8080/",
          "height": 337
        }
      },
      "source": [
        "z = enc(train_images[:10000])\n",
        "\n",
        "z_0 = z[train_labels[:10000]==0]    # z 배열을 조건을 이용해 slice\n",
        "z_1 = z[train_labels[:10000]==1]\n",
        "z_2 = z[train_labels[:10000]==2]\n",
        "z_3 = z[train_labels[:10000]==3]\n",
        "z_4 = z[train_labels[:10000]==4]\n",
        "z_5 = z[train_labels[:10000]==5]\n",
        "z_6 = z[train_labels[:10000]==6]\n",
        "z_7 = z[train_labels[:10000]==7]\n",
        "z_8 = z[train_labels[:10000]==8]\n",
        "z_9 = z[train_labels[:10000]==9]\n",
        "\n",
        "print(z_0.shape)\n",
        "print(z_1.shape)\n",
        "print(z_2.shape)\n",
        "print(z_9.shape)\n",
        "\n",
        "plt.scatter(z_0[:,0], z_0[:,1], c='b')\n",
        "plt.scatter(z_1[:,0], z_1[:,1], c='g')\n",
        "plt.scatter(z_2[:,0], z_2[:,1], c='r')\n",
        "plt.scatter(z_3[:,0], z_3[:,1], c='y')\n",
        "plt.scatter(z_4[:,0], z_4[:,1], c='k')\n",
        "plt.scatter(z_5[:,0], z_5[:,1], c='c')\n",
        "plt.scatter(z_6[:,0], z_6[:,1], c='m')\n",
        "plt.scatter(z_7[:,0], z_7[:,1], c='orange')\n",
        "plt.scatter(z_8[:,0], z_8[:,1], c='lime')\n",
        "plt.scatter(z_9[:,0], z_9[:,1], c = 'pink')\n",
        "plt.show()"
      ],
      "execution_count": null,
      "outputs": [
        {
          "output_type": "stream",
          "text": [
            "(1001, 2)\n",
            "(1127, 2)\n",
            "(991, 2)\n",
            "(978, 2)\n"
          ],
          "name": "stdout"
        },
        {
          "output_type": "display_data",
          "data": {
            "image/png": "[encoded data removed]",
            "text/plain": [
              "<Figure size 432x288 with 1 Axes>"
            ]
          },
          "metadata": {
            "tags": [],
            "needs_background": "light"
          }
        }
      ]
    },
    {
      "cell_type": "markdown",
      "metadata": {
        "id": "c_so0aa1b11F"
      },
      "source": [
        "어느정도 잘 갈라진듯한 모습을 보인다. 하지만 여전히 아직 잘 구분이 되지 않는 숫자가 보인다."
      ]
    },
    {
      "cell_type": "code",
      "metadata": {
        "id": "wAqTB66GWxDp",
        "outputId": "e68fb4fe-478c-4613-b22a-2fd0afc6e599",
        "colab": {
          "base_uri": "https://localhost:8080/",
          "height": 314,
          "referenced_widgets": [
            "2c5d9b6d66e744829858a5c98796f6fb",
            "b712bd30d4e84b7ebc6fbfa56a7dcf13",
            "ca1f6146def84001938cbb8ec1d07ebc",
            "4d7c082d7ee44f2d9625c5066bfa95e6",
            "91cad69ec06f4430b6ec0f4d1e676f2d",
            "50589805bfe8426cb048957b5d9d91f3",
            "c090c4342c31444289aea7e833ce64ae",
            "9b319903da1e4a9e9918b88377166df0",
            "8f46330d6c734a7ebf4360a750c55c52",
            "5f3925e4de9d4a41bddb056c775e180c"
          ]
        }
      },
      "source": [
        "import ipywidgets as widgets\n",
        "\n",
        "u=widgets.FloatSlider(min=-20.0, max=20.0)\n",
        "v=widgets.FloatSlider(min=-20.0, max=20.0)\n",
        "\n",
        "ui = widgets.HBox([u,v])\n",
        "\n",
        "def z_test(u, v):\n",
        "  z_test = np.array([[u,v]])  \n",
        "  print(z_test)\n",
        "\n",
        "  img_gen = dec(z_test)\n",
        "  plt.imshow(img_gen[0])\n",
        "  plt.show()  \n",
        "\n",
        "out = widgets.interactive_output(z_test, {'u': u, 'v': v})\n",
        "\n",
        "display(ui, out)"
      ],
      "execution_count": null,
      "outputs": [
        {
          "output_type": "display_data",
          "data": {
            "application/vnd.jupyter.widget-view+json": {
              "model_id": "2c5d9b6d66e744829858a5c98796f6fb",
              "version_minor": 0,
              "version_major": 2
            },
            "text/plain": [
              "HBox(children=(FloatSlider(value=0.0, max=20.0, min=-20.0), FloatSlider(value=0.0, max=20.0, min=-20.0)))"
            ]
          },
          "metadata": {
            "tags": []
          }
        },
        {
          "output_type": "display_data",
          "data": {
            "application/vnd.jupyter.widget-view+json": {
              "model_id": "8f46330d6c734a7ebf4360a750c55c52",
              "version_minor": 0,
              "version_major": 2
            },
            "text/plain": [
              "Output()"
            ]
          },
          "metadata": {
            "tags": []
          }
        }
      ]
    },
    {
      "cell_type": "markdown",
      "metadata": {
        "id": "lZHulu7SLsT5"
      },
      "source": [
        "Activation Function을 elu로 바꾸었더니 조금더 잘 나누어 지는 모습을 보임"
      ]
    },
    {
      "cell_type": "markdown",
      "metadata": {
        "id": "SFGmgnnZMW9b"
      },
      "source": [
        "# MAXPooling을 제거하고 stride로 대체, kernel Size의 값을 변경하여 진행"
      ]
    },
    {
      "cell_type": "code",
      "metadata": {
        "id": "foRwIl9mKZ6M"
      },
      "source": [
        "enc = tf.keras.models.Sequential([tf.keras.layers.InputLayer(input_shape=(28,28)),\n",
        "                                  tf.keras.layers.Conv1D(256,kernel_size=3, strides=2,activation='elu'),\n",
        "                                  tf.keras.layers.Conv1D(64,kernel_size=3, strides=2,activation='elu'),\n",
        "                                  tf.keras.layers.Conv1D(32,kernel_size=3, strides=2,activation='elu'),\n",
        "                                  tf.keras.layers.Conv1D(2,kernel_size=2),\n",
        "                                  tf.keras.layers.Flatten()])\n",
        "\n",
        "dec = tf.keras.models.Sequential([\n",
        "                                  tf.keras.layers.InputLayer(input_shape=(n_dim,)),\n",
        "                                  tf.keras.layers.Reshape(target_shape=(1, n_dim)),\n",
        "                                  tf.keras.layers.Conv1D(16,kernel_size=1,activation='elu'),\n",
        "                                  tf.keras.layers.Conv1D(64,kernel_size=1,activation='elu'),\n",
        "                                  tf.keras.layers.Conv1D(256,kernel_size=1,activation='elu'),\n",
        "                                  tf.keras.layers.Conv1D(784,kernel_size=1,activation='sigmoid'),\n",
        "                                  tf.keras.layers.Reshape(target_shape=(28,28))\n",
        "])\n",
        "\n",
        "ae = tf.keras.models.Sequential([\n",
        "  tf.keras.layers.InputLayer(input_shape=(28, 28)),\n",
        "  enc,\n",
        "  dec,                               \n",
        "])"
      ],
      "execution_count": null,
      "outputs": []
    },
    {
      "cell_type": "code",
      "metadata": {
        "id": "LTRzotD2KaAU",
        "outputId": "19f4c989-51dc-4456-d6e5-ad3da2ceb05c",
        "colab": {
          "base_uri": "https://localhost:8080/",
          "height": 397
        }
      },
      "source": [
        "ae.compile(optimizer='RMSProp', # optimizer의 name 혹은 함수 객체 설정\n",
        "           loss='mse', \n",
        "           metrics=['mae'])\n",
        "\n",
        "ae.fit(train_images, train_images, epochs=10, batch_size=32)"
      ],
      "execution_count": null,
      "outputs": [
        {
          "output_type": "stream",
          "text": [
            "Epoch 1/10\n",
            "1875/1875 [==============================] - 9s 5ms/step - loss: 0.0509 - mae: 0.1174\n",
            "Epoch 2/10\n",
            "1875/1875 [==============================] - 9s 5ms/step - loss: 0.0447 - mae: 0.1042\n",
            "Epoch 3/10\n",
            "1875/1875 [==============================] - 9s 5ms/step - loss: 0.0426 - mae: 0.0997\n",
            "Epoch 4/10\n",
            "1875/1875 [==============================] - 9s 5ms/step - loss: 0.0414 - mae: 0.0973\n",
            "Epoch 5/10\n",
            "1875/1875 [==============================] - 9s 5ms/step - loss: 0.0406 - mae: 0.0957\n",
            "Epoch 6/10\n",
            "1875/1875 [==============================] - 9s 5ms/step - loss: 0.0400 - mae: 0.0944\n",
            "Epoch 7/10\n",
            "1875/1875 [==============================] - 9s 5ms/step - loss: 0.0395 - mae: 0.0936\n",
            "Epoch 8/10\n",
            "1875/1875 [==============================] - 9s 5ms/step - loss: 0.0391 - mae: 0.0927\n",
            "Epoch 9/10\n",
            "1875/1875 [==============================] - 9s 5ms/step - loss: 0.0389 - mae: 0.0922\n",
            "Epoch 10/10\n",
            "1875/1875 [==============================] - 9s 5ms/step - loss: 0.0387 - mae: 0.0919\n"
          ],
          "name": "stdout"
        },
        {
          "output_type": "execute_result",
          "data": {
            "text/plain": [
              "<tensorflow.python.keras.callbacks.History at 0x7f866e624940>"
            ]
          },
          "metadata": {
            "tags": []
          },
          "execution_count": 213
        }
      ]
    },
    {
      "cell_type": "code",
      "metadata": {
        "id": "WF6KWqX-KaCm",
        "outputId": "bc43811a-d33c-4af9-cec4-5294c364d270",
        "colab": {
          "base_uri": "https://localhost:8080/",
          "height": 250,
          "referenced_widgets": [
            "d5b808c1627e4791bb166c5236d78824",
            "64eafc27ea6b45759056654c71d05a4e",
            "f31dcc727e7a4861b0285085b7a87b55",
            "1dc39324588742f4bcf672221e36405a",
            "b2f9f0bd5e604266b5052a256c8791c1",
            "c4b12e9980964047b3981f5a90b70d61",
            "20babee9e08440d7bfc191badec4eef3"
          ]
        }
      },
      "source": [
        "y_pred = ae(train_images[:10000,])\n",
        "\n",
        "def io_imshow(idx):\n",
        "  print('GT label:', train_labels[idx])\n",
        "  plt.subplot(121)\n",
        "  plt.imshow(train_images[idx])\n",
        "  plt.subplot(122)\n",
        "  plt.imshow(y_pred[idx])\n",
        "  plt.show()\n",
        "\n",
        "widgets.interact(io_imshow, idx=widgets.IntSlider(min=0, max=9999, continuous_update=False));"
      ],
      "execution_count": null,
      "outputs": [
        {
          "output_type": "display_data",
          "data": {
            "application/vnd.jupyter.widget-view+json": {
              "model_id": "d5b808c1627e4791bb166c5236d78824",
              "version_minor": 0,
              "version_major": 2
            },
            "text/plain": [
              "interactive(children=(IntSlider(value=0, continuous_update=False, description='idx', max=9999), Output()), _do…"
            ]
          },
          "metadata": {
            "tags": []
          }
        }
      ]
    },
    {
      "cell_type": "code",
      "metadata": {
        "id": "QZTnH195KZ-8",
        "outputId": "b9bbeaf5-2a9c-4195-e319-cef5f9aac400",
        "colab": {
          "base_uri": "https://localhost:8080/",
          "height": 337
        }
      },
      "source": [
        "z = enc(train_images[:10000])\n",
        "\n",
        "z_0 = z[train_labels[:10000]==0]    # z 배열을 조건을 이용해 slice\n",
        "z_1 = z[train_labels[:10000]==1]\n",
        "z_2 = z[train_labels[:10000]==2]\n",
        "z_3 = z[train_labels[:10000]==3]\n",
        "z_4 = z[train_labels[:10000]==4]\n",
        "z_5 = z[train_labels[:10000]==5]\n",
        "z_6 = z[train_labels[:10000]==6]\n",
        "z_7 = z[train_labels[:10000]==7]\n",
        "z_8 = z[train_labels[:10000]==8]\n",
        "z_9 = z[train_labels[:10000]==9]\n",
        "\n",
        "print(z_0.shape)\n",
        "print(z_1.shape)\n",
        "print(z_2.shape)\n",
        "print(z_9.shape)\n",
        "\n",
        "plt.scatter(z_0[:,0], z_0[:,1], c='b')\n",
        "plt.scatter(z_1[:,0], z_1[:,1], c='g')\n",
        "plt.scatter(z_2[:,0], z_2[:,1], c='r')\n",
        "plt.scatter(z_3[:,0], z_3[:,1], c='y')\n",
        "plt.scatter(z_4[:,0], z_4[:,1], c='k')\n",
        "plt.scatter(z_5[:,0], z_5[:,1], c='c')\n",
        "plt.scatter(z_6[:,0], z_6[:,1], c='m')\n",
        "plt.scatter(z_7[:,0], z_7[:,1], c='orange')\n",
        "plt.scatter(z_8[:,0], z_8[:,1], c='lime')\n",
        "plt.scatter(z_9[:,0], z_9[:,1], c = 'pink')\n",
        "plt.show()"
      ],
      "execution_count": null,
      "outputs": [
        {
          "output_type": "stream",
          "text": [
            "(1001, 2)\n",
            "(1127, 2)\n",
            "(991, 2)\n",
            "(978, 2)\n"
          ],
          "name": "stdout"
        },
        {
          "output_type": "display_data",
          "data": {
            "image/png": "[encoded data removed]",
            "text/plain": [
              "<Figure size 432x288 with 1 Axes>"
            ]
          },
          "metadata": {
            "tags": [],
            "needs_background": "light"
          }
        }
      ]
    },
    {
      "cell_type": "markdown",
      "metadata": {
        "id": "aktjTDmEcGwV"
      },
      "source": [
        "점점 잘 구분이 되는 영역이 생기는 모습을 보여준다."
      ]
    },
    {
      "cell_type": "code",
      "metadata": {
        "id": "b6p5qgacWnH3",
        "outputId": "4034c5bd-27fa-4af1-a77e-a8d2a436036a",
        "colab": {
          "base_uri": "https://localhost:8080/",
          "height": 314,
          "referenced_widgets": [
            "71c93235c0bd4781a6d93dcab3953b9a",
            "879bef7551e8468486261250a9c26012",
            "fee7bd28281e4b2bb308e323c2ae5aec",
            "6378bd383d3b4f8793871a41262f8085",
            "e12da23bb1584246857b426b18e0e5d2",
            "5fe1a16215ae4e6c9f6043c2fdc07d84",
            "d5720f2bfbe4460c957007de044a0e7a",
            "67570cb63e6d41b99e45d58d7bb0cdf2",
            "6b116d808958413098df3c0d00e804df",
            "4956803fd7374f6a9b09cd3666f9d825"
          ]
        }
      },
      "source": [
        "import ipywidgets as widgets\n",
        "\n",
        "u=widgets.FloatSlider(min=-20.0, max=20.0)\n",
        "v=widgets.FloatSlider(min=-20.0, max=20.0)\n",
        "\n",
        "ui = widgets.HBox([u,v])\n",
        "\n",
        "def z_test(u, v):\n",
        "  z_test = np.array([[u,v]])  \n",
        "  print(z_test)\n",
        "\n",
        "  img_gen = dec(z_test)\n",
        "  plt.imshow(img_gen[0])\n",
        "  plt.show()  \n",
        "\n",
        "out = widgets.interactive_output(z_test, {'u': u, 'v': v})\n",
        "\n",
        "display(ui, out)"
      ],
      "execution_count": null,
      "outputs": [
        {
          "output_type": "display_data",
          "data": {
            "application/vnd.jupyter.widget-view+json": {
              "model_id": "71c93235c0bd4781a6d93dcab3953b9a",
              "version_minor": 0,
              "version_major": 2
            },
            "text/plain": [
              "HBox(children=(FloatSlider(value=0.0, max=20.0, min=-20.0), FloatSlider(value=0.0, max=20.0, min=-20.0)))"
            ]
          },
          "metadata": {
            "tags": []
          }
        },
        {
          "output_type": "display_data",
          "data": {
            "application/vnd.jupyter.widget-view+json": {
              "model_id": "6b116d808958413098df3c0d00e804df",
              "version_minor": 0,
              "version_major": 2
            },
            "text/plain": [
              "Output()"
            ]
          },
          "metadata": {
            "tags": []
          }
        }
      ]
    },
    {
      "cell_type": "code",
      "metadata": {
        "id": "Lkf_DqvEKZ9H"
      },
      "source": [
        "n_dim=2\n",
        "enc = tf.keras.models.Sequential([tf.keras.layers.InputLayer(input_shape=(28,28)),\n",
        "                                  tf.keras.layers.Conv1D(128,kernel_size=5,activation='elu',strides=2),\n",
        "                                  tf.keras.layers.Conv1D(64,kernel_size=5,activation='elu',strides=2),\n",
        "                                  tf.keras.layers.Conv1D(16,kernel_size=3,activation='elu'),\n",
        "                                  tf.keras.layers.Conv1D(2,kernel_size=2),\n",
        "                                  tf.keras.layers.Flatten()])\n",
        "\n",
        "dec = tf.keras.models.Sequential([\n",
        "                                  tf.keras.layers.InputLayer(input_shape=(n_dim,)),\n",
        "                                  tf.keras.layers.Reshape(target_shape=(1, n_dim)),\n",
        "                                  tf.keras.layers.Conv1D(16,kernel_size=1,activation='elu'),\n",
        "                                  tf.keras.layers.Conv1D(64,kernel_size=1,activation='elu'),\n",
        "                                  tf.keras.layers.Conv1D(256,kernel_size=1,activation='elu'),\n",
        "                                  tf.keras.layers.Conv1D(784,kernel_size=1,activation='sigmoid'),\n",
        "                                  tf.keras.layers.Reshape(target_shape=(28,28))\n",
        "])\n",
        "\n",
        "ae = tf.keras.models.Sequential([\n",
        "  tf.keras.layers.InputLayer(input_shape=(28, 28)),\n",
        "  enc,\n",
        "  dec,                               \n",
        "])"
      ],
      "execution_count": null,
      "outputs": []
    },
    {
      "cell_type": "code",
      "metadata": {
        "id": "zn8h0OVHOdKz",
        "outputId": "785b89a1-296e-4af5-8b4f-6fe313b24caf",
        "colab": {
          "base_uri": "https://localhost:8080/",
          "height": 397
        }
      },
      "source": [
        "ae.compile(optimizer='Adam', # optimizer의 name 혹은 함수 객체 설정\n",
        "           loss='mse', \n",
        "           metrics=['mae'])\n",
        "\n",
        "ae.fit(train_images, train_images, epochs=10, batch_size=32)"
      ],
      "execution_count": null,
      "outputs": [
        {
          "output_type": "stream",
          "text": [
            "Epoch 1/10\n",
            "1875/1875 [==============================] - 8s 4ms/step - loss: 0.0519 - mae: 0.1207\n",
            "Epoch 2/10\n",
            "1875/1875 [==============================] - 7s 4ms/step - loss: 0.0450 - mae: 0.1047\n",
            "Epoch 3/10\n",
            "1875/1875 [==============================] - 8s 4ms/step - loss: 0.0427 - mae: 0.0997\n",
            "Epoch 4/10\n",
            "1875/1875 [==============================] - 8s 4ms/step - loss: 0.0414 - mae: 0.0968\n",
            "Epoch 5/10\n",
            "1875/1875 [==============================] - 8s 4ms/step - loss: 0.0403 - mae: 0.0945\n",
            "Epoch 6/10\n",
            "1875/1875 [==============================] - 7s 4ms/step - loss: 0.0396 - mae: 0.0931\n",
            "Epoch 7/10\n",
            "1875/1875 [==============================] - 7s 4ms/step - loss: 0.0391 - mae: 0.0921\n",
            "Epoch 8/10\n",
            "1875/1875 [==============================] - 8s 4ms/step - loss: 0.0387 - mae: 0.0913\n",
            "Epoch 9/10\n",
            "1875/1875 [==============================] - 7s 4ms/step - loss: 0.0383 - mae: 0.0906\n",
            "Epoch 10/10\n",
            "1875/1875 [==============================] - 8s 4ms/step - loss: 0.0380 - mae: 0.0901\n"
          ],
          "name": "stdout"
        },
        {
          "output_type": "execute_result",
          "data": {
            "text/plain": [
              "<tensorflow.python.keras.callbacks.History at 0x7f866b8df978>"
            ]
          },
          "metadata": {
            "tags": []
          },
          "execution_count": 230
        }
      ]
    },
    {
      "cell_type": "code",
      "metadata": {
        "id": "aL18xpmAOu9_",
        "outputId": "905d1c6e-9889-4fee-d218-5b1be4e0e5c8",
        "colab": {
          "base_uri": "https://localhost:8080/",
          "height": 250,
          "referenced_widgets": [
            "25aa5a2e7bd54992917c8ac3f1b02682",
            "b0ac072d91bc4dc1a839dad6cf6675c9",
            "c32fe1e469af4a3aa2a77c702b9cffee",
            "89d827e90a4e4e94be59a3c8f4da0836",
            "009586a380c44e4f845c78ec5f5a88f0",
            "299a5c0828a84f25bd4d2a8fc260291a",
            "7fa510247ef84e858a97908b04fd40a1"
          ]
        }
      },
      "source": [
        "y_pred = ae(train_images[:10000,])\n",
        "\n",
        "def io_imshow(idx):\n",
        "  print('GT label:', train_labels[idx])\n",
        "  plt.subplot(121)\n",
        "  plt.imshow(train_images[idx])\n",
        "  plt.subplot(122)\n",
        "  plt.imshow(y_pred[idx])\n",
        "  plt.show()\n",
        "\n",
        "widgets.interact(io_imshow, idx=widgets.IntSlider(min=0, max=9999, continuous_update=False));"
      ],
      "execution_count": null,
      "outputs": [
        {
          "output_type": "display_data",
          "data": {
            "application/vnd.jupyter.widget-view+json": {
              "model_id": "25aa5a2e7bd54992917c8ac3f1b02682",
              "version_minor": 0,
              "version_major": 2
            },
            "text/plain": [
              "interactive(children=(IntSlider(value=0, continuous_update=False, description='idx', max=9999), Output()), _do…"
            ]
          },
          "metadata": {
            "tags": []
          }
        }
      ]
    },
    {
      "cell_type": "code",
      "metadata": {
        "id": "rUEUbs2zO5pA",
        "outputId": "54b0426c-db84-4027-9b2c-0e5abca4c8b1",
        "colab": {
          "base_uri": "https://localhost:8080/",
          "height": 337
        }
      },
      "source": [
        "z = enc(train_images[:10000])\n",
        "\n",
        "z_0 = z[train_labels[:10000]==0]    # z 배열을 조건을 이용해 slice\n",
        "z_1 = z[train_labels[:10000]==1]\n",
        "z_2 = z[train_labels[:10000]==2]\n",
        "z_3 = z[train_labels[:10000]==3]\n",
        "z_4 = z[train_labels[:10000]==4]\n",
        "z_5 = z[train_labels[:10000]==5]\n",
        "z_6 = z[train_labels[:10000]==6]\n",
        "z_7 = z[train_labels[:10000]==7]\n",
        "z_8 = z[train_labels[:10000]==8]\n",
        "z_9 = z[train_labels[:10000]==9]\n",
        "\n",
        "print(z_0.shape)\n",
        "print(z_1.shape)\n",
        "print(z_2.shape)\n",
        "print(z_9.shape)\n",
        "\n",
        "plt.scatter(z_0[:,0], z_0[:,1], c='b')\n",
        "plt.scatter(z_1[:,0], z_1[:,1], c='g')\n",
        "plt.scatter(z_2[:,0], z_2[:,1], c='r')\n",
        "plt.scatter(z_3[:,0], z_3[:,1], c='y')\n",
        "plt.scatter(z_4[:,0], z_4[:,1], c='k')\n",
        "plt.scatter(z_5[:,0], z_5[:,1], c='c')\n",
        "plt.scatter(z_6[:,0], z_6[:,1], c='m')\n",
        "plt.scatter(z_7[:,0], z_7[:,1], c='orange')\n",
        "plt.scatter(z_8[:,0], z_8[:,1], c='lime')\n",
        "plt.scatter(z_9[:,0], z_9[:,1], c = 'pink')\n",
        "plt.show()"
      ],
      "execution_count": null,
      "outputs": [
        {
          "output_type": "stream",
          "text": [
            "(1001, 2)\n",
            "(1127, 2)\n",
            "(991, 2)\n",
            "(978, 2)\n"
          ],
          "name": "stdout"
        },
        {
          "output_type": "display_data",
          "data": {
            "image/png": "[encoded data removed]",
            "text/plain": [
              "<Figure size 432x288 with 1 Axes>"
            ]
          },
          "metadata": {
            "tags": [],
            "needs_background": "light"
          }
        }
      ]
    },
    {
      "cell_type": "code",
      "metadata": {
        "id": "vgDDVBEsWs61",
        "outputId": "557d9f77-d079-4280-e2cc-db98a332a7d8",
        "colab": {
          "base_uri": "https://localhost:8080/",
          "height": 314,
          "referenced_widgets": [
            "229516a9f674460bb87b941f4b4310d4",
            "fd52c25404674dd293ad645c59ea679d",
            "677f1534fa384649a58052085c98109f",
            "e76df9bae15041aa990ddf0c15cc2853",
            "aaefef23f3e14b81897e8b2983dbfa23",
            "82b51d1ec954460db652ed37d26e59fe",
            "20a57a2c6f9d4c59839a21bc8c37be22",
            "8bbb13c9ca8440d19376877de6fa6e24",
            "cc0170703df14d2482fe5d79dbd3d779",
            "3b9a76dffe3145338288bebf37695991"
          ]
        }
      },
      "source": [
        "import ipywidgets as widgets\n",
        "\n",
        "u=widgets.FloatSlider(min=-20.0, max=20.0)\n",
        "v=widgets.FloatSlider(min=-20.0, max=20.0)\n",
        "\n",
        "ui = widgets.HBox([u,v])\n",
        "\n",
        "def z_test(u, v):\n",
        "  z_test = np.array([[u,v]])  \n",
        "  print(z_test)\n",
        "\n",
        "  img_gen = dec(z_test)\n",
        "  plt.imshow(img_gen[0])\n",
        "  plt.show()  \n",
        "\n",
        "out = widgets.interactive_output(z_test, {'u': u, 'v': v})\n",
        "\n",
        "display(ui, out)"
      ],
      "execution_count": null,
      "outputs": [
        {
          "output_type": "display_data",
          "data": {
            "application/vnd.jupyter.widget-view+json": {
              "model_id": "229516a9f674460bb87b941f4b4310d4",
              "version_minor": 0,
              "version_major": 2
            },
            "text/plain": [
              "HBox(children=(FloatSlider(value=0.0, max=20.0, min=-20.0), FloatSlider(value=0.0, max=20.0, min=-20.0)))"
            ]
          },
          "metadata": {
            "tags": []
          }
        },
        {
          "output_type": "display_data",
          "data": {
            "application/vnd.jupyter.widget-view+json": {
              "model_id": "cc0170703df14d2482fe5d79dbd3d779",
              "version_minor": 0,
              "version_major": 2
            },
            "text/plain": [
              "Output()"
            ]
          },
          "metadata": {
            "tags": []
          }
        }
      ]
    },
    {
      "cell_type": "markdown",
      "metadata": {
        "id": "gPtHQeVbQoNM"
      },
      "source": [
        "# n_dim의 갯수를 늘려보고자 한다. "
      ]
    },
    {
      "cell_type": "code",
      "metadata": {
        "id": "rOiJqywDO5rm"
      },
      "source": [
        "n_dim = 4\n",
        "enc = tf.keras.models.Sequential([tf.keras.layers.InputLayer(input_shape=(28,28)),\n",
        "                                  tf.keras.layers.Conv1D(128,kernel_size=5,activation='elu',strides=2),\n",
        "                                  tf.keras.layers.Conv1D(64,kernel_size=5,activation='elu',strides=2),\n",
        "                                  tf.keras.layers.Conv1D(16,kernel_size=3,activation='elu'),\n",
        "                                  tf.keras.layers.Conv1D(n_dim,kernel_size=2),\n",
        "                                  tf.keras.layers.Flatten()])\n",
        "\n",
        "dec = tf.keras.models.Sequential([\n",
        "                                  tf.keras.layers.InputLayer(input_shape=(n_dim,)),\n",
        "                                  tf.keras.layers.Reshape(target_shape=(1, n_dim)),\n",
        "                                  tf.keras.layers.Conv1D(16,kernel_size=1,activation='elu'),\n",
        "                                  tf.keras.layers.Conv1D(64,kernel_size=1,activation='elu'),\n",
        "                                  tf.keras.layers.Conv1D(256,kernel_size=1,activation='elu'),\n",
        "                                  tf.keras.layers.Conv1D(784,kernel_size=1,activation='sigmoid'),\n",
        "                                  tf.keras.layers.Reshape(target_shape=(28,28))\n",
        "])\n",
        "\n",
        "ae = tf.keras.models.Sequential([\n",
        "  tf.keras.layers.InputLayer(input_shape=(28, 28)),\n",
        "  enc,\n",
        "  dec,                               \n",
        "])"
      ],
      "execution_count": null,
      "outputs": []
    },
    {
      "cell_type": "code",
      "metadata": {
        "id": "v0eSri_aO5u2",
        "outputId": "71f0c0a1-831b-43fd-a83a-3be83433176f",
        "colab": {
          "base_uri": "https://localhost:8080/",
          "height": 397
        }
      },
      "source": [
        "ae.compile(optimizer='Adam', # optimizer의 name 혹은 함수 객체 설정\n",
        "           loss='mse', \n",
        "           metrics=['mae'])\n",
        "\n",
        "ae.fit(train_images, train_images, epochs=10, batch_size=32)"
      ],
      "execution_count": null,
      "outputs": [
        {
          "output_type": "stream",
          "text": [
            "Epoch 1/10\n",
            "1875/1875 [==============================] - 8s 4ms/step - loss: 0.0415 - mae: 0.0994\n",
            "Epoch 2/10\n",
            "1875/1875 [==============================] - 7s 4ms/step - loss: 0.0326 - mae: 0.0803\n",
            "Epoch 3/10\n",
            "1875/1875 [==============================] - 7s 4ms/step - loss: 0.0308 - mae: 0.0760\n",
            "Epoch 4/10\n",
            "1875/1875 [==============================] - 7s 4ms/step - loss: 0.0297 - mae: 0.0735\n",
            "Epoch 5/10\n",
            "1875/1875 [==============================] - 7s 4ms/step - loss: 0.0290 - mae: 0.0719\n",
            "Epoch 6/10\n",
            "1875/1875 [==============================] - 7s 4ms/step - loss: 0.0284 - mae: 0.0707\n",
            "Epoch 7/10\n",
            "1875/1875 [==============================] - 8s 4ms/step - loss: 0.0280 - mae: 0.0698\n",
            "Epoch 8/10\n",
            "1875/1875 [==============================] - 8s 4ms/step - loss: 0.0276 - mae: 0.0690\n",
            "Epoch 9/10\n",
            "1875/1875 [==============================] - 7s 4ms/step - loss: 0.0273 - mae: 0.0683\n",
            "Epoch 10/10\n",
            "1875/1875 [==============================] - 7s 4ms/step - loss: 0.0270 - mae: 0.0678\n"
          ],
          "name": "stdout"
        },
        {
          "output_type": "execute_result",
          "data": {
            "text/plain": [
              "<tensorflow.python.keras.callbacks.History at 0x7f866cdd07b8>"
            ]
          },
          "metadata": {
            "tags": []
          },
          "execution_count": 223
        }
      ]
    },
    {
      "cell_type": "code",
      "metadata": {
        "id": "cRFp3ELhQ2fn",
        "outputId": "6508a7b5-9c31-446b-8028-2ba6e4dc88a1",
        "colab": {
          "base_uri": "https://localhost:8080/",
          "height": 250,
          "referenced_widgets": [
            "315df95eaf9741179409c783e62d5d12",
            "2f5a69aa2f4947079d3ee237bf956cb2",
            "dcf87aebf04a48fc808500b264f0304e",
            "3d8db788854c46f9bf10394809d01e45",
            "ffbc26d810d2410ba72c50bb62243386",
            "219856fd56294849abc7aa11d60721d9",
            "a85e71ec4fa34117beaf26a9c6149d65"
          ]
        }
      },
      "source": [
        "y_pred = ae(train_images[:10000,])\n",
        "\n",
        "def io_imshow(idx):\n",
        "  print('GT label:', train_labels[idx])\n",
        "  plt.subplot(121)\n",
        "  plt.imshow(train_images[idx])\n",
        "  plt.subplot(122)\n",
        "  plt.imshow(y_pred[idx])\n",
        "  plt.show()\n",
        "\n",
        "widgets.interact(io_imshow, idx=widgets.IntSlider(min=0, max=9999, continuous_update=False));"
      ],
      "execution_count": null,
      "outputs": [
        {
          "output_type": "display_data",
          "data": {
            "application/vnd.jupyter.widget-view+json": {
              "model_id": "315df95eaf9741179409c783e62d5d12",
              "version_minor": 0,
              "version_major": 2
            },
            "text/plain": [
              "interactive(children=(IntSlider(value=0, continuous_update=False, description='idx', max=9999), Output()), _do…"
            ]
          },
          "metadata": {
            "tags": []
          }
        }
      ]
    },
    {
      "cell_type": "code",
      "metadata": {
        "id": "ibj8zIPNQ2h_",
        "outputId": "e911f5c3-c5a9-46d4-f262-2f40d1f5af75",
        "colab": {
          "base_uri": "https://localhost:8080/",
          "height": 337
        }
      },
      "source": [
        "z = enc(train_images[:10000])\n",
        "\n",
        "z_0 = z[train_labels[:10000]==0]    # z 배열을 조건을 이용해 slice\n",
        "z_1 = z[train_labels[:10000]==1]\n",
        "z_2 = z[train_labels[:10000]==2]\n",
        "z_3 = z[train_labels[:10000]==3]\n",
        "z_4 = z[train_labels[:10000]==4]\n",
        "z_5 = z[train_labels[:10000]==5]\n",
        "z_6 = z[train_labels[:10000]==6]\n",
        "z_7 = z[train_labels[:10000]==7]\n",
        "z_8 = z[train_labels[:10000]==8]\n",
        "z_9 = z[train_labels[:10000]==9]\n",
        "\n",
        "print(z_0.shape)\n",
        "print(z_1.shape)\n",
        "print(z_2.shape)\n",
        "print(z_9.shape)\n",
        "\n",
        "plt.scatter(z_0[:,0], z_0[:,1], c='b')\n",
        "plt.scatter(z_1[:,0], z_1[:,1], c='g')\n",
        "plt.scatter(z_2[:,0], z_2[:,1], c='r')\n",
        "plt.scatter(z_3[:,0], z_3[:,1], c='y')\n",
        "plt.scatter(z_4[:,0], z_4[:,1], c='k')\n",
        "plt.scatter(z_5[:,0], z_5[:,1], c='c')\n",
        "plt.scatter(z_6[:,0], z_6[:,1], c='m')\n",
        "plt.scatter(z_7[:,0], z_7[:,1], c='orange')\n",
        "plt.scatter(z_8[:,0], z_8[:,1], c='lime')\n",
        "plt.scatter(z_9[:,0], z_9[:,1], c = 'pink')\n",
        "plt.show()"
      ],
      "execution_count": null,
      "outputs": [
        {
          "output_type": "stream",
          "text": [
            "(1001, 4)\n",
            "(1127, 4)\n",
            "(991, 4)\n",
            "(978, 4)\n"
          ],
          "name": "stdout"
        },
        {
          "output_type": "display_data",
          "data": {
            "image/png": "[encoded data removed]",
            "text/plain": [
              "<Figure size 432x288 with 1 Axes>"
            ]
          },
          "metadata": {
            "tags": [],
            "needs_background": "light"
          }
        }
      ]
    },
    {
      "cell_type": "markdown",
      "metadata": {
        "id": "Rp-n7gWkmkXJ"
      },
      "source": [
        "Loss값은 엄청 작지만 잘 퍼져있지 않은 것처럼 보인다. 하지만 우리는 Z의 차원을 4개 차원으로 놓았음을 주의해야 한다. 4"
      ]
    },
    {
      "cell_type": "code",
      "metadata": {
        "id": "ZD-_CSheRrTQ",
        "outputId": "623a7ed2-b995-4c96-b50a-db2173d14cee",
        "colab": {
          "base_uri": "https://localhost:8080/",
          "height": 314,
          "referenced_widgets": [
            "d67e44f671af4aff8f20ac27e94588c0",
            "6d8226aa8eec4164b990a109672869a5",
            "a2cc41c73bb045939dfde30bd78ccc05",
            "886891b079724047b7fb683537d99cd9",
            "e567b9395e2f463b89fbf0b73b522d10",
            "c68a44b2f2f14a26bbd01c484cc3d711",
            "121e21500e1b4dec97d443f9d657bf32",
            "ed15d7c3d57d42cdb8eb06d2386b7443",
            "204ff3b6d5b54a3aa756e4cb5821a5db",
            "caa48f4a6e9249609acc24868d2e469a",
            "1e29d4d495464ea8be7b83f40da490ef",
            "133f00be19554b65b2ca901df5bd5349",
            "1c1909f161284777b1897821c489c792",
            "b32ed23e26534cdc8adddaf8537541c8",
            "36681c064345412ea1e1261a88b2e2d5",
            "20657ea5ed4044b8ac62ca50d3a3700a"
          ]
        }
      },
      "source": [
        "import ipywidgets as widgets\n",
        "\n",
        "s=widgets.FloatSlider(min=-20.0, max=20.0)\n",
        "t=widgets.FloatSlider(min=-20.0, max=20.0)\n",
        "u=widgets.FloatSlider(min=-20.0, max=20.0)\n",
        "v=widgets.FloatSlider(min=-20.0, max=20.0)\n",
        "\n",
        "ui = widgets.HBox([s,t,u,v])\n",
        "\n",
        "def z_test(s,t,u, v):\n",
        "  z_test = np.array([[s,t,u,v]])  \n",
        "  print(z_test)\n",
        "\n",
        "  img_gen = dec(z_test)\n",
        "  plt.imshow(img_gen[0])\n",
        "  plt.show()  \n",
        "\n",
        "out = widgets.interactive_output(z_test, {'s':s, 't':t, 'u': u, 'v': v})\n",
        "\n",
        "display(ui, out)"
      ],
      "execution_count": null,
      "outputs": [
        {
          "output_type": "display_data",
          "data": {
            "application/vnd.jupyter.widget-view+json": {
              "model_id": "d67e44f671af4aff8f20ac27e94588c0",
              "version_minor": 0,
              "version_major": 2
            },
            "text/plain": [
              "HBox(children=(FloatSlider(value=0.0, max=20.0, min=-20.0), FloatSlider(value=0.0, max=20.0, min=-20.0), Float…"
            ]
          },
          "metadata": {
            "tags": []
          }
        },
        {
          "output_type": "display_data",
          "data": {
            "application/vnd.jupyter.widget-view+json": {
              "model_id": "36681c064345412ea1e1261a88b2e2d5",
              "version_minor": 0,
              "version_major": 2
            },
            "text/plain": [
              "Output()"
            ]
          },
          "metadata": {
            "tags": []
          }
        }
      ]
    },
    {
      "cell_type": "code",
      "metadata": {
        "id": "cWMTLiaGRrY0"
      },
      "source": [
        ""
      ],
      "execution_count": null,
      "outputs": []
    },
    {
      "cell_type": "code",
      "metadata": {
        "id": "_I-6LElYRrgn"
      },
      "source": [
        ""
      ],
      "execution_count": null,
      "outputs": []
    }
  ]
}