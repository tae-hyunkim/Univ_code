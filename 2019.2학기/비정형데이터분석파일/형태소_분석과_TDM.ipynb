{
 "cells": [
  {
   "cell_type": "code",
   "execution_count": 7,
   "metadata": {
    "colab": {
     "base_uri": "https://localhost:8080/",
     "height": 337
    },
    "colab_type": "code",
    "collapsed": true,
    "id": "J_gEqIwHPz-4",
    "outputId": "ba0fac2c-5304-41d5-8a2f-1552f2b649fe"
   },
   "outputs": [
    {
     "name": "stdout",
     "output_type": "stream",
     "text": [
      "Collecting stanfordnlp\n",
      "\u001b[?25l  Downloading https://files.pythonhosted.org/packages/41/bf/5d2898febb6e993fcccd90484cba3c46353658511a41430012e901824e94/stanfordnlp-0.2.0-py3-none-any.whl (158kB)\n",
      "\u001b[K     |████████████████████████████████| 163kB 3.4MB/s \n",
      "\u001b[?25hRequirement already satisfied: requests in /usr/local/lib/python3.6/dist-packages (from stanfordnlp) (2.21.0)\n",
      "Requirement already satisfied: torch>=1.0.0 in /usr/local/lib/python3.6/dist-packages (from stanfordnlp) (1.2.0)\n",
      "Requirement already satisfied: protobuf in /usr/local/lib/python3.6/dist-packages (from stanfordnlp) (3.7.1)\n",
      "Requirement already satisfied: numpy in /usr/local/lib/python3.6/dist-packages (from stanfordnlp) (1.16.5)\n",
      "Requirement already satisfied: tqdm in /usr/local/lib/python3.6/dist-packages (from stanfordnlp) (4.28.1)\n",
      "Requirement already satisfied: idna<2.9,>=2.5 in /usr/local/lib/python3.6/dist-packages (from requests->stanfordnlp) (2.8)\n",
      "Requirement already satisfied: chardet<3.1.0,>=3.0.2 in /usr/local/lib/python3.6/dist-packages (from requests->stanfordnlp) (3.0.4)\n",
      "Requirement already satisfied: urllib3<1.25,>=1.21.1 in /usr/local/lib/python3.6/dist-packages (from requests->stanfordnlp) (1.24.3)\n",
      "Requirement already satisfied: certifi>=2017.4.17 in /usr/local/lib/python3.6/dist-packages (from requests->stanfordnlp) (2019.9.11)\n",
      "Requirement already satisfied: six>=1.9 in /usr/local/lib/python3.6/dist-packages (from protobuf->stanfordnlp) (1.12.0)\n",
      "Requirement already satisfied: setuptools in /usr/local/lib/python3.6/dist-packages (from protobuf->stanfordnlp) (41.2.0)\n",
      "Installing collected packages: stanfordnlp\n",
      "Successfully installed stanfordnlp-0.2.0\n"
     ]
    }
   ],
   "source": [
    "!pip install stanfordnlp"
   ]
  },
  {
   "cell_type": "code",
   "execution_count": 1,
   "metadata": {
    "colab": {},
    "colab_type": "code",
    "id": "hBq8KOhRP3WZ"
   },
   "outputs": [],
   "source": [
    "import stanfordnlp"
   ]
  },
  {
   "cell_type": "code",
   "execution_count": 3,
   "metadata": {
    "colab": {
     "base_uri": "https://localhost:8080/",
     "height": 487
    },
    "colab_type": "code",
    "id": "sUUx-EikQOCq",
    "outputId": "994fdadc-73cf-4a53-e8df-02d4f52c380f"
   },
   "outputs": [
    {
     "name": "stdout",
     "output_type": "stream",
     "text": [
      "Use device: gpu\n",
      "---\n",
      "Loading: tokenize\n",
      "With settings: \n",
      "{'model_path': 'C:\\\\Users\\\\hyoun\\\\stanfordnlp_resources\\\\ko_gsd_models\\\\ko_gsd_tokenizer.pt', 'lang': 'ko', 'shorthand': 'ko_gsd', 'mode': 'predict'}\n",
      "---\n",
      "Loading: pos\n",
      "With settings: \n",
      "{'model_path': 'C:\\\\Users\\\\hyoun\\\\stanfordnlp_resources\\\\ko_gsd_models\\\\ko_gsd_tagger.pt', 'pretrain_path': 'C:\\\\Users\\\\hyoun\\\\stanfordnlp_resources\\\\ko_gsd_models\\\\ko_gsd.pretrain.pt', 'lang': 'ko', 'shorthand': 'ko_gsd', 'mode': 'predict'}\n",
      "---\n",
      "Loading: lemma\n",
      "With settings: \n",
      "{'model_path': 'C:\\\\Users\\\\hyoun\\\\stanfordnlp_resources\\\\ko_gsd_models\\\\ko_gsd_lemmatizer.pt', 'lang': 'ko', 'shorthand': 'ko_gsd', 'mode': 'predict'}\n",
      "Building an attentional Seq2Seq model...\n",
      "Using a Bi-LSTM encoder\n",
      "Using soft attention for LSTM.\n",
      "Finetune all embeddings.\n",
      "[Running seq2seq lemmatizer with edit classifier]\n",
      "---\n",
      "Loading: depparse\n",
      "With settings: \n",
      "{'model_path': 'C:\\\\Users\\\\hyoun\\\\stanfordnlp_resources\\\\ko_gsd_models\\\\ko_gsd_parser.pt', 'pretrain_path': 'C:\\\\Users\\\\hyoun\\\\stanfordnlp_resources\\\\ko_gsd_models\\\\ko_gsd.pretrain.pt', 'lang': 'ko', 'shorthand': 'ko_gsd', 'mode': 'predict'}\n",
      "Done loading processors!\n",
      "---\n"
     ]
    }
   ],
   "source": [
    "nlp = stanfordnlp.Pipeline(lang='ko', treebank='ko_gsd')"
   ]
  },
  {
   "cell_type": "code",
   "execution_count": 4,
   "metadata": {
    "colab": {},
    "colab_type": "code",
    "id": "vXc_EWW9QC-Q"
   },
   "outputs": [],
   "source": [
    "text = '오늘 아침에 학교에 와서 텍스트 분석을 배웠다.'"
   ]
  },
  {
   "cell_type": "code",
   "execution_count": 5,
   "metadata": {
    "colab": {
     "base_uri": "https://localhost:8080/",
     "height": 56
    },
    "colab_type": "code",
    "id": "r8errMP-QcGr",
    "outputId": "056ffd7f-2866-4a02-abce-a83bb2ff855f"
   },
   "outputs": [],
   "source": [
    "doc = nlp(text)"
   ]
  },
  {
   "cell_type": "code",
   "execution_count": 10,
   "metadata": {},
   "outputs": [
    {
     "data": {
      "text/plain": [
       "[<Word index=1;text=오늘;lemma=오늘;upos=NOUN;xpos=NNG;feats=_;governor=4;dependency_relation=nmod>,\n",
       " <Word index=2;text=아침에;lemma=아침+에;upos=ADV;xpos=NNG+JKB;feats=_;governor=4;dependency_relation=obl>,\n",
       " <Word index=3;text=학교에;lemma=학교+에;upos=ADV;xpos=NNG+JKB;feats=_;governor=4;dependency_relation=obl>,\n",
       " <Word index=4;text=와서;lemma=오+아서;upos=VERB;xpos=VV+EC;feats=_;governor=7;dependency_relation=advcl>,\n",
       " <Word index=5;text=텍스트;lemma=텍스트;upos=NOUN;xpos=NNG;feats=_;governor=7;dependency_relation=obj>,\n",
       " <Word index=6;text=분석을;lemma=분석+을;upos=NOUN;xpos=NNG+JKO;feats=_;governor=5;dependency_relation=flat>,\n",
       " <Word index=7;text=배웠다;lemma=배우+었+다;upos=VERB;xpos=VV+EP+EF;feats=_;governor=0;dependency_relation=root>,\n",
       " <Word index=8;text=.;lemma=.;upos=PUNCT;xpos=SF;feats=_;governor=7;dependency_relation=punct>]"
      ]
     },
     "execution_count": 10,
     "metadata": {},
     "output_type": "execute_result"
    }
   ],
   "source": [
    "doc.sentences[0].words"
   ]
  },
  {
   "cell_type": "markdown",
   "metadata": {
    "colab_type": "text",
    "id": "TglDPTY1VIwX"
   },
   "source": [
    "Quiz: 아래 코드를 응용해서 명사만 프린트해보세요."
   ]
  },
  {
   "cell_type": "code",
   "execution_count": 11,
   "metadata": {
    "colab": {
     "base_uri": "https://localhost:8080/",
     "height": 167
    },
    "colab_type": "code",
    "id": "IkGNi_smQejk",
    "outputId": "c48079f4-370d-47c2-f9e4-4ba29ecae9f9"
   },
   "outputs": [
    {
     "name": "stdout",
     "output_type": "stream",
     "text": [
      "[('오늘', 'NNG')]\n",
      "[('아침', 'NNG'), ('에', 'JKB')]\n",
      "[('학교', 'NNG'), ('에', 'JKB')]\n",
      "[('오', 'VV'), ('아서', 'EC')]\n",
      "[('텍스트', 'NNG')]\n",
      "[('분석', 'NNG'), ('을', 'JKO')]\n",
      "[('배우', 'VV'), ('었', 'EP'), ('다', 'EF')]\n",
      "[('.', 'SF')]\n"
     ]
    }
   ],
   "source": [
    "for word in doc.sentences[0].words:\n",
    "    print(list(zip(word.lemma.split('+'), word.xpos.split('+'))))"
   ]
  },
  {
   "cell_type": "code",
   "execution_count": 12,
   "metadata": {
    "colab": {
     "base_uri": "https://localhost:8080/",
     "height": 36
    },
    "colab_type": "code",
    "id": "YvxOD9VXQkVh",
    "outputId": "f91a161d-b1be-4078-f0aa-2cff3db3720c"
   },
   "outputs": [
    {
     "data": {
      "text/plain": [
       "[(1, 4), (2, 5), (3, 6)]"
      ]
     },
     "execution_count": 12,
     "metadata": {},
     "output_type": "execute_result"
    }
   ],
   "source": [
    "list(zip([1,2,3], [4,5,6]))"
   ]
  },
  {
   "cell_type": "code",
   "execution_count": 23,
   "metadata": {
    "colab": {
     "base_uri": "https://localhost:8080/",
     "height": 111
    },
    "colab_type": "code",
    "id": "sNS969JZU-km",
    "outputId": "4bb68305-b06e-4ec8-d5bb-fd4b3d41d99e"
   },
   "outputs": [
    {
     "name": "stdout",
     "output_type": "stream",
     "text": [
      "오늘 <class 'str'> <class 'str'>\n",
      "아침 <class 'str'> <class 'str'>\n",
      "학교 <class 'str'> <class 'str'>\n",
      "텍스트 <class 'str'> <class 'str'>\n",
      "분석 <class 'str'> <class 'str'>\n"
     ]
    }
   ],
   "source": [
    "for word in doc.sentences[0].words: \n",
    "    lemma = word.lemma.split('+')\n",
    "    xpos = word.xpos.split('+')\n",
    "    for w, p in zip(lemma, xpos):\n",
    "        if p.startswith('N'):\n",
    "            print(w, type(p), type(w)) "
   ]
  },
  {
   "cell_type": "code",
   "execution_count": 31,
   "metadata": {},
   "outputs": [
    {
     "data": {
      "text/plain": [
       "False"
      ]
     },
     "execution_count": 31,
     "metadata": {},
     "output_type": "execute_result"
    }
   ],
   "source": [
    "a,b = ('아침', 'NNG')\n",
    "a.startswith('압')"
   ]
  },
  {
   "cell_type": "code",
   "execution_count": 4,
   "metadata": {
    "colab": {},
    "colab_type": "code",
    "id": "33FEitybWXlq"
   },
   "outputs": [],
   "source": [
    "def extract_noun(text):\n",
    "    doc = nlp(text)\n",
    "  #ws = []\n",
    "    for sentence in doc.sentences:\n",
    "        for word in sentence.words:\n",
    "            lemma = word.lemma.split('+')\n",
    "            xpos = word.xpos.split('+')\n",
    "            for w, p in zip(lemma, xpos):\n",
    "                if p.startswith('N'):\n",
    "                    yield w\n",
    "          #ws.append(w)\n",
    "  #return ws\n",
    "# def extract_noun(text):\n",
    "#     doc = nlp(text)\n",
    "#     for size in range(len(doc.sentences)):\n",
    "#         for word in doc.sentences[size].words:\n",
    "#             for i,k in list(zip(word.lemma.split('+'), word.xpos.split('+'))):\n",
    "#                 if k.startswith('N'):\n",
    "#                     yield i"
   ]
  },
  {
   "cell_type": "code",
   "execution_count": 25,
   "metadata": {
    "colab": {
     "base_uri": "https://localhost:8080/",
     "height": 75
    },
    "colab_type": "code",
    "id": "GDI0dsQtXRys",
    "outputId": "5e995dc4-b8a0-491a-94b4-6e464da7ffac"
   },
   "outputs": [
    {
     "name": "stderr",
     "output_type": "stream",
     "text": [
      "/pytorch/aten/src/ATen/native/LegacyDefinitions.cpp:14: UserWarning: masked_fill_ received a mask with dtype torch.uint8, this behavior is now deprecated,please use a mask with dtype torch.bool instead.\n"
     ]
    },
    {
     "data": {
      "text/plain": [
       "['연어', '기름진', '쾌살']"
      ]
     },
     "execution_count": 25,
     "metadata": {
      "tags": []
     },
     "output_type": "execute_result"
    }
   ],
   "source": [
    "list(extract_noun('연어는 기름진 뱃살이 맛있다!'))"
   ]
  },
  {
   "cell_type": "code",
   "execution_count": 0,
   "metadata": {
    "colab": {},
    "colab_type": "code",
    "id": "4nnrLuLdXXvl"
   },
   "outputs": [],
   "source": [
    "def series(n):\n",
    "    xs = []\n",
    "    for x in range(n):\n",
    "        xs.append(x + 1)\n",
    "    return xs"
   ]
  },
  {
   "cell_type": "code",
   "execution_count": 27,
   "metadata": {
    "colab": {
     "base_uri": "https://localhost:8080/",
     "height": 36
    },
    "colab_type": "code",
    "id": "EBynDQxWYYSP",
    "outputId": "9629dd9f-d635-42f3-d380-063b719970bb"
   },
   "outputs": [
    {
     "data": {
      "text/plain": [
       "[1, 2, 3, 4, 5]"
      ]
     },
     "execution_count": 27,
     "metadata": {
      "tags": []
     },
     "output_type": "execute_result"
    }
   ],
   "source": [
    "series(5)"
   ]
  },
  {
   "cell_type": "code",
   "execution_count": 0,
   "metadata": {
    "colab": {},
    "colab_type": "code",
    "id": "bopsf0I0YZmn"
   },
   "outputs": [],
   "source": [
    "def series(n):\n",
    "    for x in range(n):\n",
    "        yield x + 1\n",
    "  "
   ]
  },
  {
   "cell_type": "code",
   "execution_count": 29,
   "metadata": {
    "colab": {
     "base_uri": "https://localhost:8080/",
     "height": 36
    },
    "colab_type": "code",
    "id": "rm7UwMw_Ygvx",
    "outputId": "cf3af81e-448d-4d9e-a4aa-5ffea6252e98"
   },
   "outputs": [
    {
     "data": {
      "text/plain": [
       "[1, 2, 3, 4, 5]"
      ]
     },
     "execution_count": 29,
     "metadata": {
      "tags": []
     },
     "output_type": "execute_result"
    }
   ],
   "source": [
    "list(series(5))"
   ]
  },
  {
   "cell_type": "code",
   "execution_count": 5,
   "metadata": {
    "colab": {},
    "colab_type": "code",
    "id": "yzXdlLzVYicd"
   },
   "outputs": [],
   "source": [
    "from sklearn.feature_extraction.text import CountVectorizer\n",
    "cv = CountVectorizer(tokenizer=extract_noun)\n",
    "tdm = cv.fit_transform(\n",
    "    ['분석 중엔 역시 텍스트 분석',\n",
    "     '텍스트 분석 재밌다'\n",
    "    ])"
   ]
  },
  {
   "cell_type": "code",
   "execution_count": 6,
   "metadata": {
    "colab": {
     "base_uri": "https://localhost:8080/",
     "height": 55
    },
    "colab_type": "code",
    "id": "uO8qQuZoa2Fk",
    "outputId": "f9b0e116-73df-411f-fb94-990d215cce9a"
   },
   "outputs": [
    {
     "data": {
      "text/plain": [
       "array([[2, 1, 1],\n",
       "       [1, 0, 1]], dtype=int64)"
      ]
     },
     "execution_count": 6,
     "metadata": {},
     "output_type": "execute_result"
    }
   ],
   "source": [
    "tdm.toarray()"
   ]
  },
  {
   "cell_type": "code",
   "execution_count": 7,
   "metadata": {
    "colab": {
     "base_uri": "https://localhost:8080/",
     "height": 36
    },
    "colab_type": "code",
    "id": "vlMB1dq1a4yk",
    "outputId": "84a58afb-54b0-413e-db9e-ff57078aebe3"
   },
   "outputs": [
    {
     "data": {
      "text/plain": [
       "['분석', '중', '텍스트']"
      ]
     },
     "execution_count": 7,
     "metadata": {},
     "output_type": "execute_result"
    }
   ],
   "source": [
    "cv.get_feature_names()"
   ]
  }
 ],
 "metadata": {
  "colab": {
   "name": "형태소 분석과 TDM.ipynb",
   "provenance": []
  },
  "kernelspec": {
   "display_name": "Python 3",
   "language": "python",
   "name": "python3"
  },
  "language_info": {
   "codemirror_mode": {
    "name": "ipython",
    "version": 3
   },
   "file_extension": ".py",
   "mimetype": "text/x-python",
   "name": "python",
   "nbconvert_exporter": "python",
   "pygments_lexer": "ipython3",
   "version": "3.7.4"
  }
 },
 "nbformat": 4,
 "nbformat_minor": 1
}
