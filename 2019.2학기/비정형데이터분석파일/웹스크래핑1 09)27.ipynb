{
 "cells": [
  {
   "cell_type": "markdown",
   "metadata": {},
   "source": [
    "## HTTP"
   ]
  },
  {
   "cell_type": "code",
   "execution_count": 1,
   "metadata": {},
   "outputs": [],
   "source": [
    "import requests"
   ]
  },
  {
   "cell_type": "markdown",
   "metadata": {},
   "source": [
    "없으면 다음과 같이 설치"
   ]
  },
  {
   "cell_type": "code",
   "execution_count": null,
   "metadata": {},
   "outputs": [],
   "source": [
    "!pip install requests"
   ]
  },
  {
   "cell_type": "code",
   "execution_count": 2,
   "metadata": {},
   "outputs": [
    {
     "data": {
      "text/plain": [
       "<Response [200]>"
      ]
     },
     "execution_count": 2,
     "metadata": {},
     "output_type": "execute_result"
    }
   ],
   "source": [
    "requests.get('http://naver.com')"
   ]
  },
  {
   "cell_type": "markdown",
   "metadata": {},
   "source": [
    "200번이 나오면 잘 받았다는 것임. \n",
    "\n",
    "300번대 주소 값이 변경됬거나 했을 때 나타나는 값이 대표적 \n",
    "\n",
    "400번대 클라이언트 에러 즉 사용자 오류\n",
    "\n",
    "500번대 서버오류"
   ]
  },
  {
   "cell_type": "markdown",
   "metadata": {},
   "source": [
    "## scrap.py 실행"
   ]
  },
  {
   "cell_type": "code",
   "execution_count": null,
   "metadata": {},
   "outputs": [],
   "source": [
    "!pip install flask"
   ]
  },
  {
   "cell_type": "code",
   "execution_count": null,
   "metadata": {},
   "outputs": [],
   "source": [
    "!pip install cssselect"
   ]
  },
  {
   "cell_type": "markdown",
   "metadata": {},
   "source": [
    "## 다음 뉴스 스크랩"
   ]
  },
  {
   "cell_type": "markdown",
   "metadata": {},
   "source": [
    "다음에서 \"인공지능\"의 검색결과 중 뉴스 목록의 주소"
   ]
  },
  {
   "cell_type": "code",
   "execution_count": 3,
   "metadata": {},
   "outputs": [],
   "source": [
    "url = 'https://search.daum.net/search?w=news&DA=PGD&enc=utf8&cluster=y&cluster_page=1&q=%EC%9D%B8%EA%B3%B5%EC%A7%80%EB%8A%A5&p=1'"
   ]
  },
  {
   "cell_type": "code",
   "execution_count": 4,
   "metadata": {},
   "outputs": [],
   "source": [
    "res = requests.get(url) "
   ]
  },
  {
   "cell_type": "markdown",
   "metadata": {},
   "source": [
    "html에서 선택자로 내용을 추출할 수 있게 처리"
   ]
  },
  {
   "cell_type": "code",
   "execution_count": 7,
   "metadata": {},
   "outputs": [],
   "source": [
    "import lxml.html\n",
    "root = lxml.html.fromstring(res.text)"
   ]
  },
  {
   "cell_type": "markdown",
   "metadata": {},
   "source": [
    ".class값 하면 class 값이 해당 값인 것 가져옴. "
   ]
  },
  {
   "cell_type": "code",
   "execution_count": 10,
   "metadata": {},
   "outputs": [
    {
     "name": "stdout",
     "output_type": "stream",
     "text": [
      "다음뉴스\n",
      "http://v.media.daum.net/v/20190927083003769\n",
      "다음뉴스\n",
      "http://v.media.daum.net/v/20190926160509162\n",
      "다음뉴스\n",
      "http://v.media.daum.net/v/20190927070259360\n",
      "다음뉴스\n",
      "http://v.media.daum.net/v/20190927030856343\n",
      "다음뉴스\n",
      "http://v.media.daum.net/v/20190927001718076\n"
     ]
    }
   ],
   "source": [
    "for link in root.cssselect('.f_nb a'): # class =f_nb 값을 가진 태그의 하위 a 태그 가져오기 \n",
    "    print(link.text_content())  # 노드의 텍스트\n",
    "    print(link.attrib['href'])  # href 속성값"
   ]
  },
  {
   "cell_type": "markdown",
   "metadata": {},
   "source": [
    "주소에서 `p=1`을 `p={}`로 바꾼다"
   ]
  },
  {
   "cell_type": "code",
   "execution_count": 11,
   "metadata": {},
   "outputs": [],
   "source": [
    "url = 'https://search.daum.net/search?w=news&DA=PGD&enc=utf8&cluster=y&cluster_page=1&q=%EC%9D%B8%EA%B3%B5%EC%A7%80%EB%8A%A5&p={}'"
   ]
  },
  {
   "cell_type": "markdown",
   "metadata": {},
   "source": [
    "1페이지 주소부터 4페이지 주소까지 접속해서 기사 주소 추출"
   ]
  },
  {
   "cell_type": "code",
   "execution_count": 16,
   "metadata": {},
   "outputs": [],
   "source": [
    "href = []\n",
    "for page in range(1, 5):\n",
    "    res = requests.get(url.format(page))\n",
    "    root = lxml.html.fromstring(res.text)\n",
    "    for link in root.cssselect('.f_nb a'):\n",
    "        href.append(link.attrib['href'])"
   ]
  },
  {
   "cell_type": "markdown",
   "metadata": {},
   "source": [
    "본문을 수집"
   ]
  },
  {
   "cell_type": "code",
   "execution_count": 18,
   "metadata": {},
   "outputs": [],
   "source": [
    "articles = []\n",
    "for h in href:\n",
    "    res = requests.get(h)\n",
    "    root = lxml.html.fromstring(res.text)\n",
    "    for article in root.cssselect('.article_view'):\n",
    "        articles.append(article.text_content())"
   ]
  },
  {
   "cell_type": "markdown",
   "metadata": {},
   "source": [
    "csv로 저장"
   ]
  },
  {
   "cell_type": "code",
   "execution_count": 19,
   "metadata": {},
   "outputs": [],
   "source": [
    "import pandas"
   ]
  },
  {
   "cell_type": "code",
   "execution_count": 22,
   "metadata": {},
   "outputs": [],
   "source": [
    "pandas \\\n",
    "    .DataFrame({'주소': href, '본문': articles}) \\\n",
    "    .to_csv('기사.csv')"
   ]
  },
  {
   "cell_type": "code",
   "execution_count": null,
   "metadata": {},
   "outputs": [],
   "source": []
  }
 ],
 "metadata": {
  "kernelspec": {
   "display_name": "Python 3",
   "language": "python",
   "name": "python3"
  },
  "language_info": {
   "codemirror_mode": {
    "name": "ipython",
    "version": 3
   },
   "file_extension": ".py",
   "mimetype": "text/x-python",
   "name": "python",
   "nbconvert_exporter": "python",
   "pygments_lexer": "ipython3",
   "version": "3.6.5"
  }
 },
 "nbformat": 4,
 "nbformat_minor": 2
}
