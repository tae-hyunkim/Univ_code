{
 "cells": [
  {
   "cell_type": "markdown",
   "metadata": {
    "slideshow": {
     "slide_type": "slide"
    }
   },
   "source": [
    "# 셀레늄"
   ]
  },
  {
   "cell_type": "markdown",
   "metadata": {
    "slideshow": {
     "slide_type": "subslide"
    }
   },
   "source": [
    "## 학습목표\n",
    "\n",
    "웹브라우저가 필요한 상황에서 셀레늄을 이용해 스크래핑하는 방법을 알아본다"
   ]
  },
  {
   "cell_type": "markdown",
   "metadata": {
    "slideshow": {
     "slide_type": "subslide"
    }
   },
   "source": [
    "## 최근의 웹 트렌드\n",
    "\n",
    "- HTML + 프로그램(JavaScript)\n",
    "- 웹 페이지의 내용이 동적으로 변화\n",
    "- 단순히 HTML만 긁어서 내용 파악이 불가능"
   ]
  },
  {
   "cell_type": "markdown",
   "metadata": {
    "slideshow": {
     "slide_type": "subslide"
    }
   },
   "source": [
    "## 트립어드바이저\n",
    "\n",
    "https://www.tripadvisor.co.kr/Restaurant_Review-g294197-d1371740-Reviews-Mugyodong_Bugeokukjib-Seoul.html\n",
    "\n",
    "- 리뷰의 모든 내용은 '더보기' 버튼을 클릭해야 볼 수 있음\n",
    "- 개발자 도구에서 Network를 확인해보면 더보기 버튼 클릭시 통신이 이뤄지며 리뷰 내용을 가져오는 것을 확인"
   ]
  },
  {
   "cell_type": "markdown",
   "metadata": {
    "slideshow": {
     "slide_type": "subslide"
    }
   },
   "source": [
    "## 리뷰 수집 방법\n",
    "\n",
    "1. '더보기' 버튼을 클릭했을 때 통신 내역을 requests로 따라한다\n",
    "2. 웹 브라우저를 띄워서 '더보기' 버튼을 클릭한다"
   ]
  },
  {
   "cell_type": "markdown",
   "metadata": {
    "slideshow": {
     "slide_type": "slide"
    }
   },
   "source": [
    "## 셀레늄\n",
    "\n",
    "- 웹 브라우저 제어 도구\n",
    "- 원래는 웹 사이트 자동 테스트를 위한 목적\n",
    "- 웹 사이트에 requests 등으로 긁기 어려운 부분이 있을 때 활용\n",
    "- 속도는 느림"
   ]
  },
  {
   "cell_type": "markdown",
   "metadata": {
    "slideshow": {
     "slide_type": "subslide"
    }
   },
   "source": [
    "## 셀레늄 설치"
   ]
  },
  {
   "cell_type": "markdown",
   "metadata": {
    "slideshow": {
     "slide_type": "fragment"
    }
   },
   "source": [
    "### !pip install selenium"
   ]
  },
  {
   "cell_type": "markdown",
   "metadata": {
    "slideshow": {
     "slide_type": "subslide"
    }
   },
   "source": [
    "## 드라이버\n",
    "\n",
    "브라우저별로 '드라이버'가 필요\n",
    "\n",
    "  1. 셀레늄 홈페이지 https://www.seleniumhq.org/\n",
    "  2. Download 탭 이동\n",
    "  3. 필요한 드라이버 링크 선택"
   ]
  },
  {
   "cell_type": "markdown",
   "metadata": {
    "slideshow": {
     "slide_type": "subslide"
    }
   },
   "source": [
    "## 크롬 드라이버\n",
    "\n",
    "- 인터넷 익스플로러는 셀레늄과 문제가 있음\n",
    "- 구글 크롬(Chrome) 사용을 추천\n",
    "  1. 셀레늄 홈페이지에서 Google Chrome Driver를 클릭\n",
    "  2. Latest Release 링크를 클릭\n",
    "  3. Chrome Driver X.XX 링크를 클릭\n",
    "  4. 운영체제(win, mac, linux)에 맞는 파일을 다운로드\n",
    "  5. 압축을 해제\n",
    "  6. chromedriver.exe 파일을 현재 작업 폴더로 복사"
   ]
  },
  {
   "cell_type": "markdown",
   "metadata": {
    "slideshow": {
     "slide_type": "slide"
    }
   },
   "source": [
    "## 크롬 브라우저 띄우기 (윈도)"
   ]
  },
  {
   "cell_type": "code",
   "execution_count": 4,
   "metadata": {
    "slideshow": {
     "slide_type": "fragment"
    }
   },
   "outputs": [],
   "source": [
    "from selenium.webdriver import Chrome"
   ]
  },
  {
   "cell_type": "code",
   "execution_count": 7,
   "metadata": {},
   "outputs": [],
   "source": [
    "browser = Chrome('C:/Users/hyoun/chromedriver')"
   ]
  },
  {
   "cell_type": "markdown",
   "metadata": {
    "slideshow": {
     "slide_type": "fragment"
    }
   },
   "source": [
    "크롬이 뜨면서 **Chrome이 자동화된 테스트 소프트웨어에 의해 제어되고 있습니다**라고 표시"
   ]
  },
  {
   "cell_type": "markdown",
   "metadata": {},
   "source": [
    "## 크롬 브라우저 띄우기 (맥)"
   ]
  },
  {
   "cell_type": "code",
   "execution_count": 1,
   "metadata": {
    "slideshow": {
     "slide_type": "fragment"
    }
   },
   "outputs": [],
   "source": [
    "import os"
   ]
  },
  {
   "cell_type": "code",
   "execution_count": 2,
   "metadata": {},
   "outputs": [
    {
     "data": {
      "text/plain": [
       "'C:\\\\Users\\\\hyoun\\\\비정형'"
      ]
     },
     "execution_count": 2,
     "metadata": {},
     "output_type": "execute_result"
    }
   ],
   "source": [
    "os.getcwd()"
   ]
  },
  {
   "cell_type": "code",
   "execution_count": 5,
   "metadata": {
    "slideshow": {
     "slide_type": "fragment"
    }
   },
   "outputs": [],
   "source": [
    "browser = Chrome('C:/Users/hyoun/chromedriver') # "
   ]
  },
  {
   "cell_type": "markdown",
   "metadata": {
    "slideshow": {
     "slide_type": "slide"
    }
   },
   "source": [
    "## 주소 이동"
   ]
  },
  {
   "cell_type": "code",
   "execution_count": 8,
   "metadata": {
    "slideshow": {
     "slide_type": "fragment"
    }
   },
   "outputs": [],
   "source": [
    "url = 'https://www.tripadvisor.co.kr/Restaurant_Review-g294197-d1371740-Reviews-Mugyodong_Bugeokukjib-Seoul.html'"
   ]
  },
  {
   "cell_type": "code",
   "execution_count": 9,
   "metadata": {
    "slideshow": {
     "slide_type": "fragment"
    }
   },
   "outputs": [],
   "source": [
    "browser.get(url)"
   ]
  },
  {
   "cell_type": "markdown",
   "metadata": {
    "slideshow": {
     "slide_type": "slide"
    }
   },
   "source": [
    "## 링크 찾기\n",
    "\n",
    "- `find_elements_by_css_selector`로 '더보기' 링크를 찾는다. \n",
    "  - 단수형 `find_element_~`: 첫번째를 찾음\n",
    "  - 복수형 `find_elements_~`: 모두 찾음(`lxml.html`의 `cssselect`와 동일)"
   ]
  },
  {
   "cell_type": "code",
   "execution_count": 13,
   "metadata": {
    "slideshow": {
     "slide_type": "fragment"
    }
   },
   "outputs": [],
   "source": [
    "more_links = browser.find_elements_by_css_selector('.ulBlueLinks')"
   ]
  },
  {
   "cell_type": "markdown",
   "metadata": {
    "slideshow": {
     "slide_type": "slide"
    }
   },
   "source": [
    "## 클릭\n",
    "\n",
    "`.click` 메소드로 클릭"
   ]
  },
  {
   "cell_type": "code",
   "execution_count": 14,
   "metadata": {
    "slideshow": {
     "slide_type": "fragment"
    }
   },
   "outputs": [],
   "source": [
    "for link in more_links:  # 모든 링크를\n",
    "    try:\n",
    "        link.click()     # 하나씩 클릭한다\n",
    "    except:              # 예외가 발생하면\n",
    "        pass             # 넘어간다"
   ]
  },
  {
   "cell_type": "markdown",
   "metadata": {
    "slideshow": {
     "slide_type": "slide"
    }
   },
   "source": [
    "## 리뷰\n",
    "\n",
    "- `.text`로 텍스트 확인\n",
    "- `lxml.html`의 `.text_content()`와 동일"
   ]
  },
  {
   "cell_type": "code",
   "execution_count": 15,
   "metadata": {
    "slideshow": {
     "slide_type": "fragment"
    }
   },
   "outputs": [],
   "source": [
    "reviews = browser.find_elements_by_css_selector('.partial_entry')"
   ]
  },
  {
   "cell_type": "code",
   "execution_count": 16,
   "metadata": {},
   "outputs": [
    {
     "name": "stdout",
     "output_type": "stream",
     "text": [
      "언제나 왁자지껄 손님이 많지만 손님응대에 소홀함이 없는 단련된 홀서빙 아주머니와 아저씨들. 세월에 따른 맛의 변화가 없이 늘 같은 퀄리티를 보여주는 음식도 놀라움.\n",
      "담백하고 깔끔한 북어국의 맛을 느낄수 있는 곳입니다. 단일 메뉴라 자리에 앉으면 바로 음식을 내어주셔서 빠르게 식사를 할 수 있어 좋습니다. 점심시간엔 거의 자리가 없어서 살짝 피크시간을 피해서 가시면 더 좋지만 회전율이 빨라서 금방 자리가 나기는 합니다.\n",
      "원래도 인기가 많은 곳이었지만, 지금은 관광객도 많습니다. 다만 관광객분들이 북엇국의 맛을 정말로 알고 오시는지는 잘 모르겠습니다. 전날 마신 술의 해장을 확실하게 할 수 있는 좋은 식당입니다.\n",
      "술 마신 다음날 숙취에는 최고입니다.\n",
      "\n",
      "부드러운 북어살과 푸짐한 계란에 고소한 북어향, 참기름 향이 입맛을 돋구고 불편해진 속을 편항하게 다스려 줍니다.\n",
      "\n",
      "유명 음식점인데도 불구하고 매우 친절하면 고기나 국물도 무한 리필되어 인심도 후한 집입니다.\n",
      "50년 된 북어국집 기본적으로 긴줄은 거쳐야 먹을 수 있다 단 회전율이 좋아 오래 기다리지는 않는다 맛있는 북어국을 먹을 수 있다\n",
      "음식 맛이 훌륭합니다. 리필도 해주고 밑반찬과 메인의 어울림이 좋습니다.\n",
      "줄을 서는 사람들을 위해 뭔가 좀 더 케어가 있으면 좋을 것 같습니다.\n",
      "옛 선조들이 몸이 힘 들고 허 할 때, 북어를 푹 끊여 15일 이상 먹으면, 기운이 나고, 몸에 독소도 나간다고 하였다.\n",
      "\n",
      "광화문에서 20년 근무를 하면서 일주일에 한번은 꼭 먹으러 다녔던 곳 입니다.\n",
      "\n",
      "메뉴를 고를 필요도 없고, 한 그릇으로 모자라면 건더기 국물을 계속 더 요청 할 수 있습니다.\n",
      "물론, 눈치 주지 않고 당연하다는 듯이 직원들도 가져다 주며, 국물, 건더기를 다먹기 전에\n",
      "먼저 물어봅니다.\n",
      "\n",
      "와이프와 저는 주말 아침에 일어나 편안한 트레이닝 차림에 가서 아침을 먹고, 길 건너\n",
      "스타벅스에서 커피 한잔을 마시고, 청계천 걷다 집으로 돌아오곤 했습니다.\n",
      "\n",
      "근처 호텔에 머무르시는 분들은 꼭 가보세요. 건강한 음식을 먹는 기분일 겁니다\n",
      "언제나 줄서서 먹는 북어국이다. 타이밍을 잘맞우면 조금만 기다려도 된다. 단일메뉴여서 들어만가면 바로 맛있는 북어국을 먹을 수 있다. 개인적으로 북어국도 좋은데 오이지무침이 정말 짱이다.\n",
      "건더기가 아주 많이 들어가있고, 재료의 조화가 매우 훌륭하다. 일요일 오전 10시에 방문했는데 가게앞에 줄이 길게 서 있었다. 우리는 포장을 했지만 회전율이 좋은 편이라 기다린다 하더라도 금방 먹을 수는 있을 것 같았다.\n",
      "인근에 회사들이 밀집해있기 때문에, 전날 과음을 한 직장인들이 아주 많이 찾는 곳이다.\n",
      "해장에 북어국만한게 없다.! 여기에 가려면 좀 이른 시간에 가는 것이 좋을 것 같다.\n"
     ]
    }
   ],
   "source": [
    "for review in reviews:\n",
    "    print(review.text)"
   ]
  },
  {
   "cell_type": "code",
   "execution_count": 17,
   "metadata": {
    "slideshow": {
     "slide_type": "fragment"
    }
   },
   "outputs": [],
   "source": [
    "data = []\n",
    "for review in reviews:\n",
    "    data.append(review.text)"
   ]
  },
  {
   "cell_type": "code",
   "execution_count": 18,
   "metadata": {},
   "outputs": [
    {
     "data": {
      "text/plain": [
       "['언제나 왁자지껄 손님이 많지만 손님응대에 소홀함이 없는 단련된 홀서빙 아주머니와 아저씨들. 세월에 따른 맛의 변화가 없이 늘 같은 퀄리티를 보여주는 음식도 놀라움.',\n",
       " '담백하고 깔끔한 북어국의 맛을 느낄수 있는 곳입니다. 단일 메뉴라 자리에 앉으면 바로 음식을 내어주셔서 빠르게 식사를 할 수 있어 좋습니다. 점심시간엔 거의 자리가 없어서 살짝 피크시간을 피해서 가시면 더 좋지만 회전율이 빨라서 금방 자리가 나기는 합니다.',\n",
       " '원래도 인기가 많은 곳이었지만, 지금은 관광객도 많습니다. 다만 관광객분들이 북엇국의 맛을 정말로 알고 오시는지는 잘 모르겠습니다. 전날 마신 술의 해장을 확실하게 할 수 있는 좋은 식당입니다.',\n",
       " '술 마신 다음날 숙취에는 최고입니다.\\n\\n부드러운 북어살과 푸짐한 계란에 고소한 북어향, 참기름 향이 입맛을 돋구고 불편해진 속을 편항하게 다스려 줍니다.\\n\\n유명 음식점인데도 불구하고 매우 친절하면 고기나 국물도 무한 리필되어 인심도 후한 집입니다.',\n",
       " '50년 된 북어국집 기본적으로 긴줄은 거쳐야 먹을 수 있다 단 회전율이 좋아 오래 기다리지는 않는다 맛있는 북어국을 먹을 수 있다',\n",
       " '음식 맛이 훌륭합니다. 리필도 해주고 밑반찬과 메인의 어울림이 좋습니다.\\n줄을 서는 사람들을 위해 뭔가 좀 더 케어가 있으면 좋을 것 같습니다.',\n",
       " '옛 선조들이 몸이 힘 들고 허 할 때, 북어를 푹 끊여 15일 이상 먹으면, 기운이 나고, 몸에 독소도 나간다고 하였다.\\n\\n광화문에서 20년 근무를 하면서 일주일에 한번은 꼭 먹으러 다녔던 곳 입니다.\\n\\n메뉴를 고를 필요도 없고, 한 그릇으로 모자라면 건더기 국물을 계속 더 요청 할 수 있습니다.\\n물론, 눈치 주지 않고 당연하다는 듯이 직원들도 가져다 주며, 국물, 건더기를 다먹기 전에\\n먼저 물어봅니다.\\n\\n와이프와 저는 주말 아침에 일어나 편안한 트레이닝 차림에 가서 아침을 먹고, 길 건너\\n스타벅스에서 커피 한잔을 마시고, 청계천 걷다 집으로 돌아오곤 했습니다.\\n\\n근처 호텔에 머무르시는 분들은 꼭 가보세요. 건강한 음식을 먹는 기분일 겁니다',\n",
       " '언제나 줄서서 먹는 북어국이다. 타이밍을 잘맞우면 조금만 기다려도 된다. 단일메뉴여서 들어만가면 바로 맛있는 북어국을 먹을 수 있다. 개인적으로 북어국도 좋은데 오이지무침이 정말 짱이다.',\n",
       " '건더기가 아주 많이 들어가있고, 재료의 조화가 매우 훌륭하다. 일요일 오전 10시에 방문했는데 가게앞에 줄이 길게 서 있었다. 우리는 포장을 했지만 회전율이 좋은 편이라 기다린다 하더라도 금방 먹을 수는 있을 것 같았다.',\n",
       " '인근에 회사들이 밀집해있기 때문에, 전날 과음을 한 직장인들이 아주 많이 찾는 곳이다.\\n해장에 북어국만한게 없다.! 여기에 가려면 좀 이른 시간에 가는 것이 좋을 것 같다.']"
      ]
     },
     "execution_count": 18,
     "metadata": {},
     "output_type": "execute_result"
    }
   ],
   "source": [
    "data"
   ]
  },
  {
   "cell_type": "code",
   "execution_count": 19,
   "metadata": {},
   "outputs": [],
   "source": [
    "import pandas as pd"
   ]
  },
  {
   "cell_type": "code",
   "execution_count": 20,
   "metadata": {},
   "outputs": [],
   "source": [
    "pd.DataFrame({'text': data}).to_excel('북어국.xlsx')"
   ]
  },
  {
   "cell_type": "markdown",
   "metadata": {},
   "source": [
    "## 다음 페이지로 가기 (1)"
   ]
  },
  {
   "cell_type": "code",
   "execution_count": 21,
   "metadata": {},
   "outputs": [],
   "source": [
    "btn = browser.find_elements_by_css_selector('.next')\n",
    "# 리스트로 출력한다. "
   ]
  },
  {
   "cell_type": "code",
   "execution_count": 22,
   "metadata": {},
   "outputs": [],
   "source": [
    "btn[0].click()"
   ]
  },
  {
   "cell_type": "markdown",
   "metadata": {},
   "source": [
    "## 다음 페이지로 가기 (2)"
   ]
  },
  {
   "cell_type": "code",
   "execution_count": 23,
   "metadata": {},
   "outputs": [],
   "source": [
    "browser.find_element_by_css_selector('.next').click() \n",
    "# 1개만 찾기 때문에 그냥 지정하면 된다. 가장 먼저나오는 것만 나온다. "
   ]
  },
  {
   "cell_type": "markdown",
   "metadata": {},
   "source": [
    "## 처음부터 끝까지 긁기"
   ]
  },
  {
   "cell_type": "code",
   "execution_count": 24,
   "metadata": {},
   "outputs": [],
   "source": [
    "import time"
   ]
  },
  {
   "cell_type": "code",
   "execution_count": 33,
   "metadata": {},
   "outputs": [
    {
     "ename": "ElementClickInterceptedException",
     "evalue": "Message: element click intercepted: Element <a class=\"nav next ui_button primary disabled\">...</a> is not clickable at point (890, 692). Other element would receive the click: <div class=\"unified ui_pagination \">...</div>\n  (Session info: chrome=77.0.3865.90)\n",
     "output_type": "error",
     "traceback": [
      "\u001b[1;31m---------------------------------------------------------------------------\u001b[0m",
      "\u001b[1;31mElementClickInterceptedException\u001b[0m          Traceback (most recent call last)",
      "\u001b[1;32m<ipython-input-33-08a5ecc5fd64>\u001b[0m in \u001b[0;36m<module>\u001b[1;34m()\u001b[0m\n\u001b[0;32m     14\u001b[0m         \u001b[0mdata\u001b[0m\u001b[1;33m.\u001b[0m\u001b[0mappend\u001b[0m\u001b[1;33m(\u001b[0m\u001b[0mreview\u001b[0m\u001b[1;33m.\u001b[0m\u001b[0mtext\u001b[0m\u001b[1;33m)\u001b[0m\u001b[1;33m\u001b[0m\u001b[0m\n\u001b[0;32m     15\u001b[0m \u001b[1;33m\u001b[0m\u001b[0m\n\u001b[1;32m---> 16\u001b[1;33m     \u001b[0mbrowser\u001b[0m\u001b[1;33m.\u001b[0m\u001b[0mfind_element_by_css_selector\u001b[0m\u001b[1;33m(\u001b[0m\u001b[1;34m'.next'\u001b[0m\u001b[1;33m)\u001b[0m\u001b[1;33m.\u001b[0m\u001b[0mclick\u001b[0m\u001b[1;33m(\u001b[0m\u001b[1;33m)\u001b[0m\u001b[1;33m\u001b[0m\u001b[0m\n\u001b[0m\u001b[0;32m     17\u001b[0m     \u001b[0mtime\u001b[0m\u001b[1;33m.\u001b[0m\u001b[0msleep\u001b[0m\u001b[1;33m(\u001b[0m\u001b[1;36m1\u001b[0m\u001b[1;33m)\u001b[0m\u001b[1;33m\u001b[0m\u001b[0m\n\u001b[0;32m     18\u001b[0m     \u001b[1;32mif\u001b[0m \u001b[0mlen\u001b[0m\u001b[1;33m(\u001b[0m\u001b[0mreviews\u001b[0m\u001b[1;33m)\u001b[0m \u001b[1;33m<=\u001b[0m\u001b[1;36m9\u001b[0m\u001b[1;33m:\u001b[0m\u001b[1;33m\u001b[0m\u001b[0m\n",
      "\u001b[1;32m~\\Anaconda3\\lib\\site-packages\\selenium\\webdriver\\remote\\webelement.py\u001b[0m in \u001b[0;36mclick\u001b[1;34m(self)\u001b[0m\n\u001b[0;32m     78\u001b[0m     \u001b[1;32mdef\u001b[0m \u001b[0mclick\u001b[0m\u001b[1;33m(\u001b[0m\u001b[0mself\u001b[0m\u001b[1;33m)\u001b[0m\u001b[1;33m:\u001b[0m\u001b[1;33m\u001b[0m\u001b[0m\n\u001b[0;32m     79\u001b[0m         \u001b[1;34m\"\"\"Clicks the element.\"\"\"\u001b[0m\u001b[1;33m\u001b[0m\u001b[0m\n\u001b[1;32m---> 80\u001b[1;33m         \u001b[0mself\u001b[0m\u001b[1;33m.\u001b[0m\u001b[0m_execute\u001b[0m\u001b[1;33m(\u001b[0m\u001b[0mCommand\u001b[0m\u001b[1;33m.\u001b[0m\u001b[0mCLICK_ELEMENT\u001b[0m\u001b[1;33m)\u001b[0m\u001b[1;33m\u001b[0m\u001b[0m\n\u001b[0m\u001b[0;32m     81\u001b[0m \u001b[1;33m\u001b[0m\u001b[0m\n\u001b[0;32m     82\u001b[0m     \u001b[1;32mdef\u001b[0m \u001b[0msubmit\u001b[0m\u001b[1;33m(\u001b[0m\u001b[0mself\u001b[0m\u001b[1;33m)\u001b[0m\u001b[1;33m:\u001b[0m\u001b[1;33m\u001b[0m\u001b[0m\n",
      "\u001b[1;32m~\\Anaconda3\\lib\\site-packages\\selenium\\webdriver\\remote\\webelement.py\u001b[0m in \u001b[0;36m_execute\u001b[1;34m(self, command, params)\u001b[0m\n\u001b[0;32m    631\u001b[0m             \u001b[0mparams\u001b[0m \u001b[1;33m=\u001b[0m \u001b[1;33m{\u001b[0m\u001b[1;33m}\u001b[0m\u001b[1;33m\u001b[0m\u001b[0m\n\u001b[0;32m    632\u001b[0m         \u001b[0mparams\u001b[0m\u001b[1;33m[\u001b[0m\u001b[1;34m'id'\u001b[0m\u001b[1;33m]\u001b[0m \u001b[1;33m=\u001b[0m \u001b[0mself\u001b[0m\u001b[1;33m.\u001b[0m\u001b[0m_id\u001b[0m\u001b[1;33m\u001b[0m\u001b[0m\n\u001b[1;32m--> 633\u001b[1;33m         \u001b[1;32mreturn\u001b[0m \u001b[0mself\u001b[0m\u001b[1;33m.\u001b[0m\u001b[0m_parent\u001b[0m\u001b[1;33m.\u001b[0m\u001b[0mexecute\u001b[0m\u001b[1;33m(\u001b[0m\u001b[0mcommand\u001b[0m\u001b[1;33m,\u001b[0m \u001b[0mparams\u001b[0m\u001b[1;33m)\u001b[0m\u001b[1;33m\u001b[0m\u001b[0m\n\u001b[0m\u001b[0;32m    634\u001b[0m \u001b[1;33m\u001b[0m\u001b[0m\n\u001b[0;32m    635\u001b[0m     \u001b[1;32mdef\u001b[0m \u001b[0mfind_element\u001b[0m\u001b[1;33m(\u001b[0m\u001b[0mself\u001b[0m\u001b[1;33m,\u001b[0m \u001b[0mby\u001b[0m\u001b[1;33m=\u001b[0m\u001b[0mBy\u001b[0m\u001b[1;33m.\u001b[0m\u001b[0mID\u001b[0m\u001b[1;33m,\u001b[0m \u001b[0mvalue\u001b[0m\u001b[1;33m=\u001b[0m\u001b[1;32mNone\u001b[0m\u001b[1;33m)\u001b[0m\u001b[1;33m:\u001b[0m\u001b[1;33m\u001b[0m\u001b[0m\n",
      "\u001b[1;32m~\\Anaconda3\\lib\\site-packages\\selenium\\webdriver\\remote\\webdriver.py\u001b[0m in \u001b[0;36mexecute\u001b[1;34m(self, driver_command, params)\u001b[0m\n\u001b[0;32m    319\u001b[0m         \u001b[0mresponse\u001b[0m \u001b[1;33m=\u001b[0m \u001b[0mself\u001b[0m\u001b[1;33m.\u001b[0m\u001b[0mcommand_executor\u001b[0m\u001b[1;33m.\u001b[0m\u001b[0mexecute\u001b[0m\u001b[1;33m(\u001b[0m\u001b[0mdriver_command\u001b[0m\u001b[1;33m,\u001b[0m \u001b[0mparams\u001b[0m\u001b[1;33m)\u001b[0m\u001b[1;33m\u001b[0m\u001b[0m\n\u001b[0;32m    320\u001b[0m         \u001b[1;32mif\u001b[0m \u001b[0mresponse\u001b[0m\u001b[1;33m:\u001b[0m\u001b[1;33m\u001b[0m\u001b[0m\n\u001b[1;32m--> 321\u001b[1;33m             \u001b[0mself\u001b[0m\u001b[1;33m.\u001b[0m\u001b[0merror_handler\u001b[0m\u001b[1;33m.\u001b[0m\u001b[0mcheck_response\u001b[0m\u001b[1;33m(\u001b[0m\u001b[0mresponse\u001b[0m\u001b[1;33m)\u001b[0m\u001b[1;33m\u001b[0m\u001b[0m\n\u001b[0m\u001b[0;32m    322\u001b[0m             response['value'] = self._unwrap_value(\n\u001b[0;32m    323\u001b[0m                 response.get('value', None))\n",
      "\u001b[1;32m~\\Anaconda3\\lib\\site-packages\\selenium\\webdriver\\remote\\errorhandler.py\u001b[0m in \u001b[0;36mcheck_response\u001b[1;34m(self, response)\u001b[0m\n\u001b[0;32m    240\u001b[0m                 \u001b[0malert_text\u001b[0m \u001b[1;33m=\u001b[0m \u001b[0mvalue\u001b[0m\u001b[1;33m[\u001b[0m\u001b[1;34m'alert'\u001b[0m\u001b[1;33m]\u001b[0m\u001b[1;33m.\u001b[0m\u001b[0mget\u001b[0m\u001b[1;33m(\u001b[0m\u001b[1;34m'text'\u001b[0m\u001b[1;33m)\u001b[0m\u001b[1;33m\u001b[0m\u001b[0m\n\u001b[0;32m    241\u001b[0m             \u001b[1;32mraise\u001b[0m \u001b[0mexception_class\u001b[0m\u001b[1;33m(\u001b[0m\u001b[0mmessage\u001b[0m\u001b[1;33m,\u001b[0m \u001b[0mscreen\u001b[0m\u001b[1;33m,\u001b[0m \u001b[0mstacktrace\u001b[0m\u001b[1;33m,\u001b[0m \u001b[0malert_text\u001b[0m\u001b[1;33m)\u001b[0m\u001b[1;33m\u001b[0m\u001b[0m\n\u001b[1;32m--> 242\u001b[1;33m         \u001b[1;32mraise\u001b[0m \u001b[0mexception_class\u001b[0m\u001b[1;33m(\u001b[0m\u001b[0mmessage\u001b[0m\u001b[1;33m,\u001b[0m \u001b[0mscreen\u001b[0m\u001b[1;33m,\u001b[0m \u001b[0mstacktrace\u001b[0m\u001b[1;33m)\u001b[0m\u001b[1;33m\u001b[0m\u001b[0m\n\u001b[0m\u001b[0;32m    243\u001b[0m \u001b[1;33m\u001b[0m\u001b[0m\n\u001b[0;32m    244\u001b[0m     \u001b[1;32mdef\u001b[0m \u001b[0m_value_or_default\u001b[0m\u001b[1;33m(\u001b[0m\u001b[0mself\u001b[0m\u001b[1;33m,\u001b[0m \u001b[0mobj\u001b[0m\u001b[1;33m,\u001b[0m \u001b[0mkey\u001b[0m\u001b[1;33m,\u001b[0m \u001b[0mdefault\u001b[0m\u001b[1;33m)\u001b[0m\u001b[1;33m:\u001b[0m\u001b[1;33m\u001b[0m\u001b[0m\n",
      "\u001b[1;31mElementClickInterceptedException\u001b[0m: Message: element click intercepted: Element <a class=\"nav next ui_button primary disabled\">...</a> is not clickable at point (890, 692). Other element would receive the click: <div class=\"unified ui_pagination \">...</div>\n  (Session info: chrome=77.0.3865.90)\n"
     ]
    }
   ],
   "source": [
    "data = []\n",
    "\n",
    "browser.get(url)\n",
    "\n",
    "while True:\n",
    "    more_links = browser.find_elements_by_css_selector('.ulBlueLinks')\n",
    "    for link in more_links:  # 모든 링크를\n",
    "        try:\n",
    "            link.click()     # 하나씩 클릭한다\n",
    "        except:              # 예외가 발생하면\n",
    "            pass             # 넘어간다\n",
    "    time.sleep(0.5)\n",
    "    reviews = browser.find_elements_by_css_selector('.partial_entry')\n",
    "    for review in reviews:\n",
    "        data.append(review.text)\n",
    "    try:    \n",
    "        browser.find_element_by_css_selector('.next').click() \n",
    "        time.sleep(1)\n",
    "    except:\n",
    "        print('완료되었습니다.')\n",
    "        break"
   ]
  },
  {
   "cell_type": "code",
   "execution_count": 3,
   "metadata": {},
   "outputs": [
    {
     "data": {
      "text/html": [
       "<div>\n",
       "<style scoped>\n",
       "    .dataframe tbody tr th:only-of-type {\n",
       "        vertical-align: middle;\n",
       "    }\n",
       "\n",
       "    .dataframe tbody tr th {\n",
       "        vertical-align: top;\n",
       "    }\n",
       "\n",
       "    .dataframe thead th {\n",
       "        text-align: right;\n",
       "    }\n",
       "</style>\n",
       "<table border=\"1\" class=\"dataframe\">\n",
       "  <thead>\n",
       "    <tr style=\"text-align: right;\">\n",
       "      <th></th>\n",
       "      <th>original</th>\n",
       "      <th>translation</th>\n",
       "    </tr>\n",
       "  </thead>\n",
       "  <tbody>\n",
       "    <tr>\n",
       "      <th>0</th>\n",
       "      <td>\\n○丙申/十七日丙申, 太祖卽位于壽昌宮。 先是, 是月十二日辛卯, 恭讓將幸太祖第, 置...</td>\n",
       "      <td>\\n 태조가 수창궁(壽昌宮)에서 왕위에 올랐다. 이보다 먼저 이달 12일에 공양왕(...</td>\n",
       "    </tr>\n",
       "    <tr>\n",
       "      <th>1</th>\n",
       "      <td>\\n○上在潛邸, 夢有神人執金尺自天而降, 授之曰: \"慶侍中 復興, 淸矣而已老; 崔都統...</td>\n",
       "      <td>\\n임금이 잠저(潛邸)에 있을 때, 꿈에 신인(神人)이 금자[金尺]를 가지고 하늘에...</td>\n",
       "    </tr>\n",
       "    <tr>\n",
       "      <th>2</th>\n",
       "      <td>\\n○丁酉/雨。 前此久旱, 及上卽位, 霈然下雨, 人心大悅。</td>\n",
       "      <td>\\n비가 내리었다. 이보다 앞서 오랫동안 가물었는데, 임금이 왕위에 오르자 억수같이...</td>\n",
       "    </tr>\n",
       "    <tr>\n",
       "      <th>3</th>\n",
       "      <td>\\n○都評議使司及大小臣僚、閑良、耆老等請令知密直司事趙胖赴京申禮部曰:  竊謂小邦, 至恭...</td>\n",
       "      <td>\\n              도평의사사(都評議使司) 및 대소 신료(大小臣僚)와 한량...</td>\n",
       "    </tr>\n",
       "    <tr>\n",
       "      <th>4</th>\n",
       "      <td>\\n○立義興親軍衛, 罷都摠中外諸軍事府。</td>\n",
       "      <td>\\n의흥친군위(義興親軍衛)를 설치하고 도총 중외 제군사부(都摠中外諸軍事府)를 폐지하였다.</td>\n",
       "    </tr>\n",
       "  </tbody>\n",
       "</table>\n",
       "</div>"
      ],
      "text/plain": [
       "                                            original  \\\n",
       "0  \\n○丙申/十七日丙申, 太祖卽位于壽昌宮。 先是, 是月十二日辛卯, 恭讓將幸太祖第, 置...   \n",
       "1  \\n○上在潛邸, 夢有神人執金尺自天而降, 授之曰: \"慶侍中 復興, 淸矣而已老; 崔都統...   \n",
       "2                   \\n○丁酉/雨。 前此久旱, 及上卽位, 霈然下雨, 人心大悅。   \n",
       "3  \\n○都評議使司及大小臣僚、閑良、耆老等請令知密直司事趙胖赴京申禮部曰:  竊謂小邦, 至恭...   \n",
       "4                              \\n○立義興親軍衛, 罷都摠中外諸軍事府。   \n",
       "\n",
       "                                         translation  \n",
       "0  \\n 태조가 수창궁(壽昌宮)에서 왕위에 올랐다. 이보다 먼저 이달 12일에 공양왕(...  \n",
       "1  \\n임금이 잠저(潛邸)에 있을 때, 꿈에 신인(神人)이 금자[金尺]를 가지고 하늘에...  \n",
       "2  \\n비가 내리었다. 이보다 앞서 오랫동안 가물었는데, 임금이 왕위에 오르자 억수같이...  \n",
       "3  \\n              도평의사사(都評議使司) 및 대소 신료(大小臣僚)와 한량...  \n",
       "4  \\n의흥친군위(義興親軍衛)를 설치하고 도총 중외 제군사부(都摠中外諸軍事府)를 폐지하였다.  "
      ]
     },
     "execution_count": 3,
     "metadata": {},
     "output_type": "execute_result"
    }
   ],
   "source": [
    "import pandas as pd\n",
    "\n",
    "data = pd.read_csv('조선왕조실록글과번역_10_08.csv',encoding='utf-8',engine='python')\n",
    "data.head()"
   ]
  },
  {
   "cell_type": "code",
   "execution_count": 37,
   "metadata": {
    "scrolled": true
   },
   "outputs": [
    {
     "data": {
      "text/plain": [
       "'\\n 태조가 수창궁(壽昌宮)에서 왕위에 올랐다. 이보다 먼저 이달 12일에 공양왕(恭讓王)이 장차 태조의 사제(私第)로 거둥하여 술자리를 베풀고 태조와 더불어 동맹(同盟)하려고 하여 의장(儀仗)이 이미 늘어섰는데, 시중(侍中)        배극렴(裵克廉) 등이 왕대비(王大妃)에게 아뢰었다. \"지금 왕이 혼암(昏暗)하여 임금의 도리를 이미 잃고 인심도 이미 떠나갔으므로, 사직(社稷)과 백성의 주재자(主宰者)가 될 수 없으니 이를 폐하기를 청합니다.\" 마침내 왕대비의 교지를 받들어 공양왕을 폐하기로 일이 이미 결정되었는데, 남은(南誾)이 드디어 문하 평리(門下評理) 정희계(鄭熙啓)와 함께 교지를 가지고 북천동(北泉洞)의 시좌궁(時坐宮)001)                  에 이르러 교지를 선포하니, 공양왕이 부복(俯伏)하고 명령을 듣고 말하기를, \"내가 본디 임금이 되고 싶지 않았는데 여러 신하들이 나를 강제로 왕으로 세웠습니다. 내가 성품이 불민(不敏)하여 사기(事機)를 알지 못하니 어찌 신하의 심정을 거스린 일이 없겠습니까?\" 하면서, 이내 울어 눈물이 두서너 줄기 흘러내리었다. 마침내 왕위를 물려주고 원주(原州)로 가니, 백관(百官)이 국새(國璽)를 받들어 왕대비전(王大妃殿)에 두고 모든 정무(政務)를 나아가 품명(稟命)하여 재결(裁決)하였다. 13일(임진)에 대비(大妃)가 교지를 선포하여 태조를 감록국사(監錄國事)로 삼았다. 16일(을미)에 배극렴과 조준이 정도전·김사형(金士衡)·이제(李濟)·이화(李和)·정희계(鄭熙啓)·이지란(李之蘭)·남은(南誾)·장사길(張思吉)·정총(鄭摠)·김인찬(金仁贊)·조인옥(趙仁沃)·남재(南在)·조박(趙璞)·오몽을(吳蒙乙)·정탁(鄭擢)·윤호(尹虎)·이민도(李敏道)·조견(趙狷)·박포(朴苞)·조영규(趙英珪)·조반(趙胖)·조온(趙溫)·조기(趙琦)·홍길민(洪吉旼)·유경(劉敬)·정용수(鄭龍壽)·장담(張湛)·안경공(安景恭)·김균(金稛)·유원정(柳爰廷)·이직(李稷)·이근(李懃)·오사충(吳思忠)·이서(李舒)·조영무(趙英茂)·이백유(李伯由)·이부(李敷)·김로(金輅)·손흥종(孫興宗)·심효생(沈孝生)·고여(高呂)·장지화(張至和)·함부림(咸傅霖)·한상경(韓尙敬)·황거정(黃居正)·임언충(任彦忠)·장사정(張思靖)·민여익(閔汝翼) 등 대소신료(大小臣僚)와 한량기로(閑良耆老) 등이 국새(國璽)를 받들고 태조의 저택(邸宅)에 나아가니 사람들이 마을의 골목에 꽉 메어 있었다. 대사헌(大司憲)        민개(閔開)가 홀로 기뻐하지 않으면서 얼굴빛에 나타내고, 머리를 기울이고 말하지 않으므로 남은이 이를 쳐서 죽이고자 하니, 전하가 말하기를, \"의리상 죽일 수 없다.\" 하면서 힘써 이를 말리었다. 이날 마침 족친(族親)의 여러 부인들이 태조와 강비(康妃)를 알현하고, 물에 만 밥을 먹는데, 여러 부인들이 모두 놀라 두려워하여 북문으로 흩어져 가버렸다. 태조는 문을 닫고 들어오지 못하게 했는데, 해 질 무렵에 이르러 극렴(克廉) 등이 문을 밀치고 바로 내정(內庭)으로 들어와서 국새(國璽)를 청사(廳事) 위에 놓으니, 태조가 두려워하여 거조(擧措)를 잃었다. 이천우(李天祐)를 붙잡고 겨우 침문(寢門) 밖으로 나오니 백관(百官)이 늘어서서 절하고 북을 치면서 만세(萬歲)를 불렀다. 태조가 매우 두려워하면서 스스로 용납할 곳이 없는 듯하니, 극렴 등이 합사(合辭)하여 왕위에 오르기를 권고하였다. \"나라에 임금이 있는 것은 위로는 사직(社稷)을 받들고 아래로는 백성을 편안하게 할 뿐입니다. 고려는 시조(始祖)가 건국(建國)함으로부터 지금까지 거의 5백 년이 되었는데, 공민왕에 이르러 아들이 없이 갑자기 세상을 떠나셨습니다. 그 때에 권신(權臣)이 권세를 마음대로 부려 자기의 총행(寵幸)을 견고히 하고자 하여, 거짓으로 요망스런 중[妖僧] 신돈(辛旽)의 아들 우(禑)를 공민왕의 후사(後嗣)라 일컬어 왕위를 도둑질해 있은 지가 15년이 되었으니, 왕씨(王氏)의 제사(祭祀)는 이미 폐(廢)해졌던 것입니다. 우(禑)가 곧 포학한 짓을 마음대로 행하고 죄 없는 사람을 살육하며, 군대를 일으켜 요동(遼東)을 공격하는 지경에 이르렀는데, 공(公)이 맨 먼저 대의(大義)를 주창하여 천자(天子)의 국경을 범할 수 없다고 하고는 군사를 돌이키니, 우(禑)는 스스로 그 죄를 알고 두려워하여 왕위를 사양하고 물러났습니다. 이에 이색(李穡)·조민수(曹敏修) 등이 신우(辛禑)의 처부(妻父)인 이임(李琳)에게 가담하여 그 아들 창(昌)을 도와 왕으로 세웠으니, 왕씨(王氏)의 후사(後嗣)가 두 번이나 폐(廢)해졌습니다. 이것은 하늘이 왕위(王位)로써 공(公)에게 명한 시기이었는데도, 공은 겸손하고 사양하여 왕위에 오르지 아니하고 정창 부원군(定昌府院君)을 추대하여 임시로 국사(國事)를 서리(署理)하게 했으니, 위태로운 사직(社稷)을 받들어 백성을 편안하게 할 수가 있었습니다. 전일에, 신우(辛禑)의 악(惡)은 여러 사람이 다 같이 아는 바인데, 그 무리 이색·우현보(禹玄寶) 등은 미혹됨을 고집하여 깨닫지 못하고 신우(辛禑)를 맞아 그 왕위를 회복할 것을 모의하다가 간사한 죄상이 드러나매, 그 죄를 모면하려고 하여 그 무리 윤이(尹彝)·이초(李初) 등을 몰래 보내어 중국에 도망해 들어가서, ‘본국(本國)002)                  이 이미 배반했다.’고 거짓으로 호소하고는, 친왕(親王)에게 청하여 천하의 군사를 움직여 장차 본국(本國)을 소탕하고자 하였으니, 그 계책이 과연 행해졌다면 사직(社稷)은 장차 폐허(廢墟)에 이르고 백성도 또한 멸망에 가까울 것입니다. 이것을 차마 하는데 무슨 일을 차마 하지 못하겠습니까? 간관(諫官)과 헌사(憲司)가 소(疏)를 번갈아 올려 계청(啓請)하기를, ‘이색·우현보 등이 사직(社稷)에 죄를 얻고 백성에게 화(禍)를 끼쳤으므로써 마땅히 그 죄를 다스려야 되겠습니다.’ 하여 글이 수십 번 올라갔는데, 정창군(定昌君)003)                  은 인아(姻婭)의 관계라는 이유로써 법을 굽혀 두호(斗護)하여 언관(言官)을 곤장을 쳐서 쫓으니, 이로 말미암아 간사한 무리들이 중앙과 지방에 흩어져 있으면서 더욱 법을 두려워하지 않았습니다.  김종연(金宗衍)은 도피 중에 있으면서 당(黨)을 결성하여 난리를 꾀하고, 김조부(金兆府) 등은 안에 있으면서 그 변(變)에 응하기를 도모하여, 화란(禍亂)의 일어남이 날마다 발생하여 그치지 않았는데, 정창군(定昌君)은 사직(社稷)과 백성을 위하는 큰 계책을 돌보지 아니하고 사사의 은혜를 베풀어 인망(人望)을 수습하고자 하여, 다만 법을 범한 사람이 있으면 반드시 모두 용서해 주고 곡진히 더 탁용(擢用)하였으니, 《서경(書經)》의 이른바, ‘달아난 죄수를 수용하는 괴수가 되어 물고기가 연못에 모이듯, 짐승이 숲에 모이듯 한다.’는 것입니다. 도와서 왕을 세울 계책을 결정한 것으로써 말한다면 공로가 사직(社稷)에 있으며, 대의(大義)를 주창하여 군사를 돌이킨 것으로써 말한다면 덕택이 백성에게 가해졌는데도, 이에 좌우에 있는 부인(婦人)과 환자(宦者)의 참소를 지나치게 듣고서 반드시 죽을 곳에 두려고 하고, 사람들이 강직하여 아첨하지 않는 사람이 있으면 또한 모두 죄를 주니, 참소하고 아첨한 무리들이 뜻대로 되고, 충성하고 선량한 사람들은 기(氣)가 꺾여져서, 정치와 형벌이 문란하여 백성들이 그 수족(手足)을 둘 데가 없었습니다. 하늘이 견책(譴責)하는 뜻을 알려서, 성상(星象)이 여러 번 변하고 요얼(妖孽)004)                  이 번갈아 일어나니, 정창군(定昌君)도 스스로 임금의 도리를 이미 잃고 백성의 마음이 이미 떠나가서 사직과 백성의 주재자(主宰者)가 될 수 없음을 물어 알고 물러나와 사제(私第)로 갔습니다. 다만 군정(軍政)과 국정(國政)의 사무는 지극히 번거롭고 지극히 중대하므로, 하루라도 통솔이 없어서는 안 될 것이니, 마땅히 왕위에 올라서 신(神)과 사람의 기대에 부응하소서.\"  태조는 굳이 거절하면서 말하기를, \"예로부터 제왕(帝王)의 일어남은 천명(天命)이 있지 않으면 되지 않는다. 나는 실로 덕(德)이 없는 사람인데 어찌 감히 이를 감당하겠는가?\" 하면서, 마침내 응답하지 아니하였다. 대소 신료(大小臣僚)와 한량(閑良)·기로(耆老) 등이 부축하여 호위하고 물러가지 않으면서 왕위에 오르기를 권고함이 더욱 간절하니, 이날에 이르러 태조가 마지못하여 수창궁(壽昌宮)으로 거둥하게 되었다. 백관(百官)들이 궁문(宮門) 서쪽에서 줄을 지어 영접하니, 태조는 말에서 내려 걸어서 전(殿)으로 들어가 왕위에 오르는데, 어좌(御座)를 피하고 기둥 안[楹內]에 서서 여러 신하들의 조하(朝賀)를 받았다. 육조(六曹)의 판서(判書) 이상의 관원에게 명하여 전상(殿上)에 오르게 하고는 이르기를, \"내가 수상(首相)이 되어서도 오히려 두려워하는 생각을 가지고 항상 직책을 다하지 못할까 두려워하였는데, 어찌 오늘날 이 일을 볼 것이라 생각했겠는가? 내가 만약 몸만 건강하다면, 필마(匹馬)로도 피할 수 있지마는, 마침 지금은 병에 걸려 손·발을 제대로 쓸 수 없는데 이 지경에 이르렀으니, 경(卿)들은 마땅히 각자가 마음과 힘을 합하여 덕이 적은 사람을 보좌하라.\" 하였다. 이에 명하여 고려 왕조의 중앙과 지방의 대소 신료(大小臣僚)들에게 예전대로 정무(政務)를 보게 하고, 드디어 저택(邸宅)으로 돌아왔다.'"
      ]
     },
     "execution_count": 37,
     "metadata": {},
     "output_type": "execute_result"
    }
   ],
   "source": [
    "text = data['translation'][0]\n",
    "text"
   ]
  },
  {
   "cell_type": "code",
   "execution_count": 38,
   "metadata": {
    "scrolled": true
   },
   "outputs": [
    {
     "ename": "SyntaxError",
     "evalue": "EOL while scanning string literal (<ipython-input-38-1c65c9d0bb37>, line 2)",
     "output_type": "error",
     "traceback": [
      "\u001b[1;36m  File \u001b[1;32m\"<ipython-input-38-1c65c9d0bb37>\"\u001b[1;36m, line \u001b[1;32m2\u001b[0m\n\u001b[1;33m    text = re.sub(r'[^가-힣· ],'',text)\u001b[0m\n\u001b[1;37m                                     ^\u001b[0m\n\u001b[1;31mSyntaxError\u001b[0m\u001b[1;31m:\u001b[0m EOL while scanning string literal\n"
     ]
    }
   ],
   "source": [
    "import re \n",
    "text = re.sub(r'[^가-힣· ]','',text)\n",
    "text = text.replace('   ','')\n",
    "text"
   ]
  },
  {
   "cell_type": "code",
   "execution_count": 1,
   "metadata": {},
   "outputs": [
    {
     "name": "stdout",
     "output_type": "stream",
     "text": [
      "Use device: gpu\n",
      "---\n",
      "Loading: tokenize\n",
      "With settings: \n",
      "{'model_path': 'C:\\\\Users\\\\hyoun\\\\stanfordnlp_resources\\\\ko_gsd_models\\\\ko_gsd_tokenizer.pt', 'lang': 'ko', 'shorthand': 'ko_gsd', 'mode': 'predict'}\n",
      "---\n",
      "Loading: pos\n",
      "With settings: \n",
      "{'model_path': 'C:\\\\Users\\\\hyoun\\\\stanfordnlp_resources\\\\ko_gsd_models\\\\ko_gsd_tagger.pt', 'pretrain_path': 'C:\\\\Users\\\\hyoun\\\\stanfordnlp_resources\\\\ko_gsd_models\\\\ko_gsd.pretrain.pt', 'lang': 'ko', 'shorthand': 'ko_gsd', 'mode': 'predict'}\n",
      "---\n",
      "Loading: lemma\n",
      "With settings: \n",
      "{'model_path': 'C:\\\\Users\\\\hyoun\\\\stanfordnlp_resources\\\\ko_gsd_models\\\\ko_gsd_lemmatizer.pt', 'lang': 'ko', 'shorthand': 'ko_gsd', 'mode': 'predict'}\n",
      "Building an attentional Seq2Seq model...\n",
      "Using a Bi-LSTM encoder\n",
      "Using soft attention for LSTM.\n",
      "Finetune all embeddings.\n",
      "[Running seq2seq lemmatizer with edit classifier]\n",
      "---\n",
      "Loading: depparse\n",
      "With settings: \n",
      "{'model_path': 'C:\\\\Users\\\\hyoun\\\\stanfordnlp_resources\\\\ko_gsd_models\\\\ko_gsd_parser.pt', 'pretrain_path': 'C:\\\\Users\\\\hyoun\\\\stanfordnlp_resources\\\\ko_gsd_models\\\\ko_gsd.pretrain.pt', 'lang': 'ko', 'shorthand': 'ko_gsd', 'mode': 'predict'}\n",
      "Done loading processors!\n",
      "---\n"
     ]
    }
   ],
   "source": [
    "import stanfordnlp\n",
    "nlp = stanfordnlp.Pipeline(lang='ko', treebank='ko_gsd')"
   ]
  },
  {
   "cell_type": "code",
   "execution_count": 9,
   "metadata": {},
   "outputs": [],
   "source": [
    "doc = nlp(text)"
   ]
  },
  {
   "cell_type": "code",
   "execution_count": 19,
   "metadata": {},
   "outputs": [
    {
     "data": {
      "text/plain": [
       "[<stanfordnlp.pipeline.doc.Sentence at 0x26e2031e048>,\n",
       " <stanfordnlp.pipeline.doc.Sentence at 0x26e2031e0b8>,\n",
       " <stanfordnlp.pipeline.doc.Sentence at 0x26e202ff1d0>,\n",
       " <stanfordnlp.pipeline.doc.Sentence at 0x26e1f184f60>,\n",
       " <stanfordnlp.pipeline.doc.Sentence at 0x26e1f092b00>,\n",
       " <stanfordnlp.pipeline.doc.Sentence at 0x26e1f083fd0>,\n",
       " <stanfordnlp.pipeline.doc.Sentence at 0x26e1f0838d0>,\n",
       " <stanfordnlp.pipeline.doc.Sentence at 0x26e1f06b978>,\n",
       " <stanfordnlp.pipeline.doc.Sentence at 0x26e1bf4d208>,\n",
       " <stanfordnlp.pipeline.doc.Sentence at 0x26e1bfaaa20>,\n",
       " <stanfordnlp.pipeline.doc.Sentence at 0x26e1da23630>,\n",
       " <stanfordnlp.pipeline.doc.Sentence at 0x26e1da31f98>,\n",
       " <stanfordnlp.pipeline.doc.Sentence at 0x26e1be75780>,\n",
       " <stanfordnlp.pipeline.doc.Sentence at 0x26e1be751d0>,\n",
       " <stanfordnlp.pipeline.doc.Sentence at 0x26e1c297080>,\n",
       " <stanfordnlp.pipeline.doc.Sentence at 0x26e1c297780>,\n",
       " <stanfordnlp.pipeline.doc.Sentence at 0x26e1f23e5c0>,\n",
       " <stanfordnlp.pipeline.doc.Sentence at 0x26e1f246710>,\n",
       " <stanfordnlp.pipeline.doc.Sentence at 0x26e1f246f60>,\n",
       " <stanfordnlp.pipeline.doc.Sentence at 0x26e1c0a0be0>,\n",
       " <stanfordnlp.pipeline.doc.Sentence at 0x26e1bc8da20>,\n",
       " <stanfordnlp.pipeline.doc.Sentence at 0x26e1bc8de10>,\n",
       " <stanfordnlp.pipeline.doc.Sentence at 0x26e1bcb6710>,\n",
       " <stanfordnlp.pipeline.doc.Sentence at 0x26e1c57a400>,\n",
       " <stanfordnlp.pipeline.doc.Sentence at 0x26e1be49080>,\n",
       " <stanfordnlp.pipeline.doc.Sentence at 0x26e1be79be0>,\n",
       " <stanfordnlp.pipeline.doc.Sentence at 0x26e1be0fa90>,\n",
       " <stanfordnlp.pipeline.doc.Sentence at 0x26e1be17940>,\n",
       " <stanfordnlp.pipeline.doc.Sentence at 0x26e1be17f60>,\n",
       " <stanfordnlp.pipeline.doc.Sentence at 0x26e1c11c8d0>,\n",
       " <stanfordnlp.pipeline.doc.Sentence at 0x26e1c100390>,\n",
       " <stanfordnlp.pipeline.doc.Sentence at 0x26e1db8a5c0>]"
      ]
     },
     "execution_count": 19,
     "metadata": {},
     "output_type": "execute_result"
    }
   ],
   "source": [
    "doc.sentences"
   ]
  },
  {
   "cell_type": "code",
   "execution_count": 18,
   "metadata": {},
   "outputs": [
    {
     "name": "stdout",
     "output_type": "stream",
     "text": [
      "('지금', '3', 'advmod')\n",
      "('왕이', '3', 'nsubj')\n",
      "('혼암하여', '10', 'advcl')\n",
      "('임금의', '5', 'det:poss')\n",
      "('도리를', '7', 'obj')\n",
      "('이미', '7', 'advmod')\n",
      "('잃고', '15', 'dep')\n",
      "('인심도', '10', 'nsubj')\n",
      "('이미', '10', 'advmod')\n",
      "('떠나갔으므로', '7', 'conj')\n",
      "('사직과', '13', 'det:poss')\n",
      "('백성의', '11', 'conj')\n",
      "('주재자가', '14', 'nsubj')\n",
      "('될', '15', 'dep')\n",
      "('수', '16', 'nsubj')\n",
      "('없으니', '19', 'advcl')\n",
      "('이를', '18', 'obj')\n",
      "('폐하기를', '19', 'obj')\n",
      "('청합니다', '0', 'root')\n"
     ]
    }
   ],
   "source": [
    "doc.sentences[1].print_dependencies()"
   ]
  },
  {
   "cell_type": "markdown",
   "metadata": {
    "slideshow": {
     "slide_type": "slide"
    }
   },
   "source": [
    "## 셀레늄 문서\n",
    "\n",
    "https://selenium-python.readthedocs.io"
   ]
  }
 ],
 "metadata": {
  "celltoolbar": "Slideshow",
  "kernelspec": {
   "display_name": "Python 3",
   "language": "python",
   "name": "python3"
  },
  "language_info": {
   "codemirror_mode": {
    "name": "ipython",
    "version": 3
   },
   "file_extension": ".py",
   "mimetype": "text/x-python",
   "name": "python",
   "nbconvert_exporter": "python",
   "pygments_lexer": "ipython3",
   "version": "3.6.5"
  }
 },
 "nbformat": 4,
 "nbformat_minor": 2
}
