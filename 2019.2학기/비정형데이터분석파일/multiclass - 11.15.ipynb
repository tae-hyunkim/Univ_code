{
 "cells": [
  {
   "cell_type": "markdown",
   "metadata": {
    "slideshow": {
     "slide_type": "subslide"
    }
   },
   "source": [
    "# 문서 분류"
   ]
  },
  {
   "cell_type": "markdown",
   "metadata": {
    "slideshow": {
     "slide_type": "subslide"
    }
   },
   "source": [
    "## 데이터"
   ]
  },
  {
   "cell_type": "code",
   "execution_count": 1,
   "metadata": {
    "slideshow": {
     "slide_type": "fragment"
    }
   },
   "outputs": [],
   "source": [
    "from sklearn.datasets import fetch_20newsgroups"
   ]
  },
  {
   "cell_type": "code",
   "execution_count": 2,
   "metadata": {
    "slideshow": {
     "slide_type": "fragment"
    }
   },
   "outputs": [],
   "source": [
    "categories = [\n",
    "    'rec.motorcycles',\n",
    "    'rec.sport.baseball',\n",
    "    'rec.sport.hockey'\n",
    "]"
   ]
  },
  {
   "cell_type": "code",
   "execution_count": 3,
   "metadata": {
    "slideshow": {
     "slide_type": "fragment"
    }
   },
   "outputs": [],
   "source": [
    "newsgroups_train = fetch_20newsgroups(subset='train', categories=categories)\n",
    "newsgroups_test = fetch_20newsgroups(subset='test', categories=categories)"
   ]
  },
  {
   "cell_type": "markdown",
   "metadata": {
    "slideshow": {
     "slide_type": "subslide"
    }
   },
   "source": [
    "## TF-IDF"
   ]
  },
  {
   "cell_type": "code",
   "execution_count": 4,
   "metadata": {
    "slideshow": {
     "slide_type": "fragment"
    }
   },
   "outputs": [],
   "source": [
    "from sklearn.feature_extraction.text import TfidfVectorizer"
   ]
  },
  {
   "cell_type": "code",
   "execution_count": 43,
   "metadata": {
    "slideshow": {
     "slide_type": "fragment"
    }
   },
   "outputs": [],
   "source": [
    "tfidf = TfidfVectorizer(stop_words='english', max_features=1000)"
   ]
  },
  {
   "cell_type": "code",
   "execution_count": 44,
   "metadata": {
    "slideshow": {
     "slide_type": "fragment"
    }
   },
   "outputs": [],
   "source": [
    "x_train = tfidf.fit_transform(newsgroups_train.data)"
   ]
  },
  {
   "cell_type": "code",
   "execution_count": 45,
   "metadata": {},
   "outputs": [],
   "source": [
    "y_train = newsgroups_train.target"
   ]
  },
  {
   "cell_type": "code",
   "execution_count": 46,
   "metadata": {
    "slideshow": {
     "slide_type": "fragment"
    }
   },
   "outputs": [],
   "source": [
    "x_test = tfidf.transform(newsgroups_test.data)"
   ]
  },
  {
   "cell_type": "code",
   "execution_count": 47,
   "metadata": {},
   "outputs": [],
   "source": [
    "y_test = newsgroups_test.target"
   ]
  },
  {
   "cell_type": "markdown",
   "metadata": {},
   "source": [
    "## 소프트맥스와 로지스틱 함수"
   ]
  },
  {
   "cell_type": "code",
   "execution_count": 8,
   "metadata": {},
   "outputs": [],
   "source": [
    "import tensorflow as tf"
   ]
  },
  {
   "cell_type": "code",
   "execution_count": 15,
   "metadata": {},
   "outputs": [],
   "source": [
    "x = [1.0, 2.0, 3.0]"
   ]
  },
  {
   "cell_type": "code",
   "execution_count": 13,
   "metadata": {},
   "outputs": [
    {
     "data": {
      "text/plain": [
       "<tf.Tensor: id=8, shape=(3,), dtype=float32, numpy=array([0.7310586 , 0.880797  , 0.95257413], dtype=float32)>"
      ]
     },
     "execution_count": 13,
     "metadata": {},
     "output_type": "execute_result"
    }
   ],
   "source": [
    "tf.nn.sigmoid(x)"
   ]
  },
  {
   "cell_type": "code",
   "execution_count": 14,
   "metadata": {},
   "outputs": [
    {
     "data": {
      "text/plain": [
       "<tf.Tensor: id=10, shape=(3,), dtype=float32, numpy=array([0.09003057, 0.24472848, 0.66524094], dtype=float32)>"
      ]
     },
     "execution_count": 14,
     "metadata": {},
     "output_type": "execute_result"
    }
   ],
   "source": [
    "tf.nn.softmax(x)"
   ]
  },
  {
   "cell_type": "markdown",
   "metadata": {},
   "source": [
    "## 다항 분류 모형"
   ]
  },
  {
   "cell_type": "code",
   "execution_count": 102,
   "metadata": {},
   "outputs": [],
   "source": [
    "model = tf.keras.models.Sequential()"
   ]
  },
  {
   "cell_type": "code",
   "execution_count": 103,
   "metadata": {},
   "outputs": [],
   "source": [
    "model.add(tf.keras.layers.Dense(\n",
    "    3,\n",
    "    kernel_regularizer=tf.keras.regularizers.l1_l2(0.1, 0.1),\n",
    "    input_shape=(1000,),\n",
    "    activation='softmax'))"
   ]
  },
  {
   "cell_type": "code",
   "execution_count": 104,
   "metadata": {},
   "outputs": [
    {
     "name": "stdout",
     "output_type": "stream",
     "text": [
      "Model: \"sequential_5\"\n",
      "_________________________________________________________________\n",
      "Layer (type)                 Output Shape              Param #   \n",
      "=================================================================\n",
      "dense_7 (Dense)              (None, 3)                 3003      \n",
      "=================================================================\n",
      "Total params: 3,003\n",
      "Trainable params: 3,003\n",
      "Non-trainable params: 0\n",
      "_________________________________________________________________\n"
     ]
    }
   ],
   "source": [
    "model.summary()"
   ]
  },
  {
   "cell_type": "markdown",
   "metadata": {},
   "source": [
    "## 학습"
   ]
  },
  {
   "cell_type": "code",
   "execution_count": 105,
   "metadata": {},
   "outputs": [],
   "source": [
    "model.compile(\n",
    "    loss='sparse_categorical_crossentropy',\n",
    "    optimizer=tf.keras.optimizers.Adam(),\n",
    "    metrics=['accuracy'])"
   ]
  },
  {
   "cell_type": "code",
   "execution_count": 106,
   "metadata": {},
   "outputs": [
    {
     "name": "stdout",
     "output_type": "stream",
     "text": [
      "Train on 1615 samples, validate on 180 samples\n",
      "Epoch 1/30\n",
      "1615/1615 [==============================] - 1s 517us/sample - loss: 1.0719 - accuracy: 0.5666 - val_loss: 1.0370 - val_accuracy: 0.7833\n",
      "Epoch 2/30\n",
      "1615/1615 [==============================] - 0s 146us/sample - loss: 1.0035 - accuracy: 0.8867 - val_loss: 0.9761 - val_accuracy: 0.8667\n",
      "Epoch 3/30\n",
      "1615/1615 [==============================] - 0s 124us/sample - loss: 0.9410 - accuracy: 0.9449 - val_loss: 0.9205 - val_accuracy: 0.9111\n",
      "Epoch 4/30\n",
      "1615/1615 [==============================] - 0s 133us/sample - loss: 0.8833 - accuracy: 0.9573 - val_loss: 0.8689 - val_accuracy: 0.9333\n",
      "Epoch 5/30\n",
      "1615/1615 [==============================] - 0s 124us/sample - loss: 0.8303 - accuracy: 0.9666 - val_loss: 0.8219 - val_accuracy: 0.9333\n",
      "Epoch 6/30\n",
      "1615/1615 [==============================] - 0s 126us/sample - loss: 0.7817 - accuracy: 0.9666 - val_loss: 0.7785 - val_accuracy: 0.9333\n",
      "Epoch 7/30\n",
      "1615/1615 [==============================] - 0s 121us/sample - loss: 0.7369 - accuracy: 0.9647 - val_loss: 0.7391 - val_accuracy: 0.9333\n",
      "Epoch 8/30\n",
      "1615/1615 [==============================] - 0s 134us/sample - loss: 0.6959 - accuracy: 0.9659 - val_loss: 0.7027 - val_accuracy: 0.9333\n",
      "Epoch 9/30\n",
      "1615/1615 [==============================] - 0s 138us/sample - loss: 0.6582 - accuracy: 0.9678 - val_loss: 0.6697 - val_accuracy: 0.9333\n",
      "Epoch 10/30\n",
      "1615/1615 [==============================] - 0s 118us/sample - loss: 0.6235 - accuracy: 0.9703 - val_loss: 0.6394 - val_accuracy: 0.9333\n",
      "Epoch 11/30\n",
      "1615/1615 [==============================] - 0s 132us/sample - loss: 0.5918 - accuracy: 0.9709 - val_loss: 0.6115 - val_accuracy: 0.9389\n",
      "Epoch 12/30\n",
      "1615/1615 [==============================] - 0s 115us/sample - loss: 0.5625 - accuracy: 0.9709 - val_loss: 0.5858 - val_accuracy: 0.9389\n",
      "Epoch 13/30\n",
      "1615/1615 [==============================] - 0s 136us/sample - loss: 0.5354 - accuracy: 0.9728 - val_loss: 0.5624 - val_accuracy: 0.9389\n",
      "Epoch 14/30\n",
      "1615/1615 [==============================] - 0s 137us/sample - loss: 0.5105 - accuracy: 0.9734 - val_loss: 0.5410 - val_accuracy: 0.9389\n",
      "Epoch 15/30\n",
      "1615/1615 [==============================] - 0s 136us/sample - loss: 0.4874 - accuracy: 0.9746 - val_loss: 0.5210 - val_accuracy: 0.9389\n",
      "Epoch 16/30\n",
      "1615/1615 [==============================] - 0s 124us/sample - loss: 0.4661 - accuracy: 0.9746 - val_loss: 0.5024 - val_accuracy: 0.9389\n",
      "Epoch 17/30\n",
      "1615/1615 [==============================] - 0s 129us/sample - loss: 0.4462 - accuracy: 0.9752 - val_loss: 0.4851 - val_accuracy: 0.9389\n",
      "Epoch 18/30\n",
      "1615/1615 [==============================] - 0s 129us/sample - loss: 0.4278 - accuracy: 0.9746 - val_loss: 0.4692 - val_accuracy: 0.9389\n",
      "Epoch 19/30\n",
      "1615/1615 [==============================] - 0s 131us/sample - loss: 0.4105 - accuracy: 0.9752 - val_loss: 0.4542 - val_accuracy: 0.9389\n",
      "Epoch 20/30\n",
      "1615/1615 [==============================] - 0s 132us/sample - loss: 0.3946 - accuracy: 0.9765 - val_loss: 0.4404 - val_accuracy: 0.9444\n",
      "Epoch 21/30\n",
      "1615/1615 [==============================] - 0s 124us/sample - loss: 0.3794 - accuracy: 0.9771 - val_loss: 0.4276 - val_accuracy: 0.9444\n",
      "Epoch 22/30\n",
      "1615/1615 [==============================] - 0s 134us/sample - loss: 0.3653 - accuracy: 0.9771 - val_loss: 0.4155 - val_accuracy: 0.9444\n",
      "Epoch 23/30\n",
      "1615/1615 [==============================] - 0s 133us/sample - loss: 0.3522 - accuracy: 0.9777 - val_loss: 0.4041 - val_accuracy: 0.9444\n",
      "Epoch 24/30\n",
      "1615/1615 [==============================] - 0s 126us/sample - loss: 0.3398 - accuracy: 0.9789 - val_loss: 0.3931 - val_accuracy: 0.9500\n",
      "Epoch 25/30\n",
      "1615/1615 [==============================] - 0s 144us/sample - loss: 0.3280 - accuracy: 0.9789 - val_loss: 0.3833 - val_accuracy: 0.9500\n",
      "Epoch 26/30\n",
      "1615/1615 [==============================] - 0s 124us/sample - loss: 0.3170 - accuracy: 0.9808 - val_loss: 0.3736 - val_accuracy: 0.9556\n",
      "Epoch 27/30\n",
      "1615/1615 [==============================] - 0s 123us/sample - loss: 0.3067 - accuracy: 0.9796 - val_loss: 0.3647 - val_accuracy: 0.9556\n",
      "Epoch 28/30\n",
      "1615/1615 [==============================] - 0s 136us/sample - loss: 0.2967 - accuracy: 0.9820 - val_loss: 0.3562 - val_accuracy: 0.9556\n",
      "Epoch 29/30\n",
      "1615/1615 [==============================] - 0s 145us/sample - loss: 0.2875 - accuracy: 0.9827 - val_loss: 0.3481 - val_accuracy: 0.9556\n",
      "Epoch 30/30\n",
      "1615/1615 [==============================] - 0s 173us/sample - loss: 0.2786 - accuracy: 0.9827 - val_loss: 0.3405 - val_accuracy: 0.9556\n"
     ]
    },
    {
     "data": {
      "text/plain": [
       "<tensorflow.python.keras.callbacks.History at 0x2874dddb0f0>"
      ]
     },
     "execution_count": 106,
     "metadata": {},
     "output_type": "execute_result"
    }
   ],
   "source": [
    "model.fit(x_train.toarray(), y_train,\n",
    "          epochs=30, validation_split=.1,\n",
    "          callbacks=[tf.keras.callbacks.EarlyStopping()])"
   ]
  },
  {
   "cell_type": "markdown",
   "metadata": {},
   "source": [
    "## 평가"
   ]
  },
  {
   "cell_type": "code",
   "execution_count": 107,
   "metadata": {},
   "outputs": [
    {
     "data": {
      "text/plain": [
       "[0.38135143750077316, 0.9396985]"
      ]
     },
     "execution_count": 107,
     "metadata": {},
     "output_type": "execute_result"
    }
   ],
   "source": [
    "model.evaluate(x_test.toarray(), y_test, verbose=0)"
   ]
  },
  {
   "cell_type": "markdown",
   "metadata": {},
   "source": [
    "## 계수"
   ]
  },
  {
   "cell_type": "code",
   "execution_count": 108,
   "metadata": {},
   "outputs": [],
   "source": [
    "w, _ = model.weights"
   ]
  },
  {
   "cell_type": "code",
   "execution_count": 109,
   "metadata": {},
   "outputs": [
    {
     "data": {
      "text/plain": [
       "TensorShape([1000, 3])"
      ]
     },
     "execution_count": 109,
     "metadata": {},
     "output_type": "execute_result"
    }
   ],
   "source": [
    "w.shape"
   ]
  },
  {
   "cell_type": "code",
   "execution_count": 110,
   "metadata": {},
   "outputs": [],
   "source": [
    "import pandas"
   ]
  },
  {
   "cell_type": "code",
   "execution_count": 111,
   "metadata": {},
   "outputs": [],
   "source": [
    "weights = pandas.DataFrame(w.numpy())"
   ]
  },
  {
   "cell_type": "code",
   "execution_count": 112,
   "metadata": {},
   "outputs": [],
   "source": [
    "weights.columns = ['motorcycle', 'baseball', 'hockey']"
   ]
  },
  {
   "cell_type": "code",
   "execution_count": 113,
   "metadata": {},
   "outputs": [],
   "source": [
    "weights['word'] = tfidf.get_feature_names()"
   ]
  },
  {
   "cell_type": "code",
   "execution_count": 116,
   "metadata": {},
   "outputs": [
    {
     "data": {
      "text/html": [
       "<div>\n",
       "<style scoped>\n",
       "    .dataframe tbody tr th:only-of-type {\n",
       "        vertical-align: middle;\n",
       "    }\n",
       "\n",
       "    .dataframe tbody tr th {\n",
       "        vertical-align: top;\n",
       "    }\n",
       "\n",
       "    .dataframe thead th {\n",
       "        text-align: right;\n",
       "    }\n",
       "</style>\n",
       "<table border=\"1\" class=\"dataframe\">\n",
       "  <thead>\n",
       "    <tr style=\"text-align: right;\">\n",
       "      <th></th>\n",
       "      <th>motorcycle</th>\n",
       "      <th>baseball</th>\n",
       "      <th>hockey</th>\n",
       "      <th>word</th>\n",
       "    </tr>\n",
       "  </thead>\n",
       "  <tbody>\n",
       "    <tr>\n",
       "      <th>318</th>\n",
       "      <td>0.971390</td>\n",
       "      <td>-1.099698</td>\n",
       "      <td>-1.007686</td>\n",
       "      <td>dod</td>\n",
       "    </tr>\n",
       "    <tr>\n",
       "      <th>181</th>\n",
       "      <td>0.910237</td>\n",
       "      <td>-1.055848</td>\n",
       "      <td>-0.974728</td>\n",
       "      <td>bike</td>\n",
       "    </tr>\n",
       "    <tr>\n",
       "      <th>767</th>\n",
       "      <td>0.905154</td>\n",
       "      <td>-0.892666</td>\n",
       "      <td>-0.862833</td>\n",
       "      <td>ride</td>\n",
       "    </tr>\n",
       "    <tr>\n",
       "      <th>770</th>\n",
       "      <td>0.859134</td>\n",
       "      <td>-0.825414</td>\n",
       "      <td>-0.841403</td>\n",
       "      <td>riding</td>\n",
       "    </tr>\n",
       "    <tr>\n",
       "      <th>610</th>\n",
       "      <td>0.856247</td>\n",
       "      <td>-0.922510</td>\n",
       "      <td>-0.861315</td>\n",
       "      <td>motorcycle</td>\n",
       "    </tr>\n",
       "  </tbody>\n",
       "</table>\n",
       "</div>"
      ],
      "text/plain": [
       "     motorcycle  baseball    hockey        word\n",
       "318    0.971390 -1.099698 -1.007686         dod\n",
       "181    0.910237 -1.055848 -0.974728        bike\n",
       "767    0.905154 -0.892666 -0.862833        ride\n",
       "770    0.859134 -0.825414 -0.841403      riding\n",
       "610    0.856247 -0.922510 -0.861315  motorcycle"
      ]
     },
     "execution_count": 116,
     "metadata": {},
     "output_type": "execute_result"
    }
   ],
   "source": [
    "weights.sort_values('motorcycle', ascending=False).head()"
   ]
  }
 ],
 "metadata": {
  "kernelspec": {
   "display_name": "Python 3",
   "language": "python",
   "name": "python3"
  },
  "language_info": {
   "codemirror_mode": {
    "name": "ipython",
    "version": 3
   },
   "file_extension": ".py",
   "mimetype": "text/x-python",
   "name": "python",
   "nbconvert_exporter": "python",
   "pygments_lexer": "ipython3",
   "version": "3.7.4"
  }
 },
 "nbformat": 4,
 "nbformat_minor": 2
}
