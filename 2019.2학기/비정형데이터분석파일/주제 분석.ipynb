{
 "cells": [
  {
   "cell_type": "markdown",
   "metadata": {},
   "source": [
    "## 전처리\n",
    "\n",
    "### 데이터 불러오기\n",
    "\n",
    "데이터 출처: https://www.kaggle.com/jrobischon/wikipedia-movie-plots/data"
   ]
  },
  {
   "cell_type": "code",
   "execution_count": 1,
   "metadata": {},
   "outputs": [],
   "source": [
    "import pandas as pd"
   ]
  },
  {
   "cell_type": "code",
   "execution_count": 2,
   "metadata": {},
   "outputs": [],
   "source": [
    "df = pd.read_csv('wikipedia-movie-plots.zip')"
   ]
  },
  {
   "cell_type": "code",
   "execution_count": 3,
   "metadata": {},
   "outputs": [
    {
     "data": {
      "text/html": [
       "<div>\n",
       "<style scoped>\n",
       "    .dataframe tbody tr th:only-of-type {\n",
       "        vertical-align: middle;\n",
       "    }\n",
       "\n",
       "    .dataframe tbody tr th {\n",
       "        vertical-align: top;\n",
       "    }\n",
       "\n",
       "    .dataframe thead th {\n",
       "        text-align: right;\n",
       "    }\n",
       "</style>\n",
       "<table border=\"1\" class=\"dataframe\">\n",
       "  <thead>\n",
       "    <tr style=\"text-align: right;\">\n",
       "      <th></th>\n",
       "      <th>Release Year</th>\n",
       "      <th>Title</th>\n",
       "      <th>Origin/Ethnicity</th>\n",
       "      <th>Director</th>\n",
       "      <th>Cast</th>\n",
       "      <th>Genre</th>\n",
       "      <th>Wiki Page</th>\n",
       "      <th>Plot</th>\n",
       "    </tr>\n",
       "  </thead>\n",
       "  <tbody>\n",
       "    <tr>\n",
       "      <td>0</td>\n",
       "      <td>1901</td>\n",
       "      <td>Kansas Saloon Smashers</td>\n",
       "      <td>American</td>\n",
       "      <td>Unknown</td>\n",
       "      <td>NaN</td>\n",
       "      <td>unknown</td>\n",
       "      <td>https://en.wikipedia.org/wiki/Kansas_Saloon_Sm...</td>\n",
       "      <td>A bartender is working at a saloon, serving dr...</td>\n",
       "    </tr>\n",
       "    <tr>\n",
       "      <td>1</td>\n",
       "      <td>1901</td>\n",
       "      <td>Love by the Light of the Moon</td>\n",
       "      <td>American</td>\n",
       "      <td>Unknown</td>\n",
       "      <td>NaN</td>\n",
       "      <td>unknown</td>\n",
       "      <td>https://en.wikipedia.org/wiki/Love_by_the_Ligh...</td>\n",
       "      <td>The moon, painted with a smiling face hangs ov...</td>\n",
       "    </tr>\n",
       "    <tr>\n",
       "      <td>2</td>\n",
       "      <td>1901</td>\n",
       "      <td>The Martyred Presidents</td>\n",
       "      <td>American</td>\n",
       "      <td>Unknown</td>\n",
       "      <td>NaN</td>\n",
       "      <td>unknown</td>\n",
       "      <td>https://en.wikipedia.org/wiki/The_Martyred_Pre...</td>\n",
       "      <td>The film, just over a minute long, is composed...</td>\n",
       "    </tr>\n",
       "    <tr>\n",
       "      <td>3</td>\n",
       "      <td>1901</td>\n",
       "      <td>Terrible Teddy, the Grizzly King</td>\n",
       "      <td>American</td>\n",
       "      <td>Unknown</td>\n",
       "      <td>NaN</td>\n",
       "      <td>unknown</td>\n",
       "      <td>https://en.wikipedia.org/wiki/Terrible_Teddy,_...</td>\n",
       "      <td>Lasting just 61 seconds and consisting of two ...</td>\n",
       "    </tr>\n",
       "    <tr>\n",
       "      <td>4</td>\n",
       "      <td>1902</td>\n",
       "      <td>Jack and the Beanstalk</td>\n",
       "      <td>American</td>\n",
       "      <td>George S. Fleming, Edwin S. Porter</td>\n",
       "      <td>NaN</td>\n",
       "      <td>unknown</td>\n",
       "      <td>https://en.wikipedia.org/wiki/Jack_and_the_Bea...</td>\n",
       "      <td>The earliest known adaptation of the classic f...</td>\n",
       "    </tr>\n",
       "  </tbody>\n",
       "</table>\n",
       "</div>"
      ],
      "text/plain": [
       "   Release Year                             Title Origin/Ethnicity  \\\n",
       "0          1901            Kansas Saloon Smashers         American   \n",
       "1          1901     Love by the Light of the Moon         American   \n",
       "2          1901           The Martyred Presidents         American   \n",
       "3          1901  Terrible Teddy, the Grizzly King         American   \n",
       "4          1902            Jack and the Beanstalk         American   \n",
       "\n",
       "                             Director Cast    Genre  \\\n",
       "0                             Unknown  NaN  unknown   \n",
       "1                             Unknown  NaN  unknown   \n",
       "2                             Unknown  NaN  unknown   \n",
       "3                             Unknown  NaN  unknown   \n",
       "4  George S. Fleming, Edwin S. Porter  NaN  unknown   \n",
       "\n",
       "                                           Wiki Page  \\\n",
       "0  https://en.wikipedia.org/wiki/Kansas_Saloon_Sm...   \n",
       "1  https://en.wikipedia.org/wiki/Love_by_the_Ligh...   \n",
       "2  https://en.wikipedia.org/wiki/The_Martyred_Pre...   \n",
       "3  https://en.wikipedia.org/wiki/Terrible_Teddy,_...   \n",
       "4  https://en.wikipedia.org/wiki/Jack_and_the_Bea...   \n",
       "\n",
       "                                                Plot  \n",
       "0  A bartender is working at a saloon, serving dr...  \n",
       "1  The moon, painted with a smiling face hangs ov...  \n",
       "2  The film, just over a minute long, is composed...  \n",
       "3  Lasting just 61 seconds and consisting of two ...  \n",
       "4  The earliest known adaptation of the classic f...  "
      ]
     },
     "execution_count": 3,
     "metadata": {},
     "output_type": "execute_result"
    }
   ],
   "source": [
    "df.head()"
   ]
  },
  {
   "cell_type": "code",
   "execution_count": 4,
   "metadata": {},
   "outputs": [],
   "source": [
    "plot = df['Plot']"
   ]
  },
  {
   "cell_type": "code",
   "execution_count": 8,
   "metadata": {},
   "outputs": [
    {
     "data": {
      "text/plain": [
       "\"A bartender is working at a saloon, serving drinks to customers. After he fills a stereotypically Irish man's bucket with beer, Carrie Nation and her followers burst inside. They assault the Irish man, pulling his hat over his eyes and then dumping the beer over his head. The group then begin wrecking the bar, smashing the fixtures, mirrors, and breaking the cash register. The bartender then sprays seltzer water in Nation's face before a group of policemen appear and order everybody to leave.[1]\""
      ]
     },
     "execution_count": 8,
     "metadata": {},
     "output_type": "execute_result"
    }
   ],
   "source": [
    "plot[0]"
   ]
  },
  {
   "cell_type": "code",
   "execution_count": 5,
   "metadata": {},
   "outputs": [
    {
     "data": {
      "text/plain": [
       "(34886,)"
      ]
     },
     "execution_count": 5,
     "metadata": {},
     "output_type": "execute_result"
    }
   ],
   "source": [
    "plot.shape"
   ]
  },
  {
   "cell_type": "markdown",
   "metadata": {},
   "source": [
    "### train test split"
   ]
  },
  {
   "cell_type": "code",
   "execution_count": 6,
   "metadata": {},
   "outputs": [],
   "source": [
    "from sklearn.model_selection import train_test_split"
   ]
  },
  {
   "cell_type": "code",
   "execution_count": 7,
   "metadata": {},
   "outputs": [],
   "source": [
    "plot_train, plot_test = train_test_split(plot, test_size=.2, random_state=1234)"
   ]
  },
  {
   "cell_type": "markdown",
   "metadata": {},
   "source": [
    "### TDM"
   ]
  },
  {
   "cell_type": "code",
   "execution_count": 9,
   "metadata": {},
   "outputs": [],
   "source": [
    "from sklearn.feature_extraction.text import CountVectorizer"
   ]
  },
  {
   "cell_type": "code",
   "execution_count": 10,
   "metadata": {},
   "outputs": [],
   "source": [
    "cv = CountVectorizer(stop_words='english', max_features=2000)"
   ]
  },
  {
   "cell_type": "code",
   "execution_count": 11,
   "metadata": {},
   "outputs": [],
   "source": [
    "x_train = cv.fit_transform(plot_train)\n",
    "x_test = cv.transform(plot_test)"
   ]
  },
  {
   "cell_type": "markdown",
   "metadata": {},
   "source": [
    "## gensim을 이용한 LDA\n",
    "\n",
    "### gensim 설치\n",
    "\n",
    "아나콘다에서 설치"
   ]
  },
  {
   "cell_type": "code",
   "execution_count": 12,
   "metadata": {
    "collapsed": true
   },
   "outputs": [
    {
     "name": "stdout",
     "output_type": "stream",
     "text": [
      "Collecting package metadata (current_repodata.json): ...working... done\n",
      "Solving environment: ...working... done\n",
      "\n",
      "## Package Plan ##\n",
      "\n",
      "  environment location: C:\\Users\\hyoun\\Anaconda3\n",
      "\n",
      "  added / updated specs:\n",
      "    - gensim\n",
      "\n",
      "\n",
      "The following packages will be downloaded:\n",
      "\n",
      "    package                    |            build\n",
      "    ---------------------------|-----------------\n",
      "    boto3-1.10.19              |             py_0          91 KB\n",
      "    botocore-1.13.19           |             py_0         3.3 MB\n",
      "    bz2file-0.98               |           py37_1          14 KB\n",
      "    gensim-3.8.0               |   py37hf9181ef_0        18.4 MB\n",
      "    jmespath-0.9.4             |             py_0          22 KB\n",
      "    s3transfer-0.2.1           |           py37_0          99 KB\n",
      "    smart_open-1.9.0           |             py_0          59 KB\n",
      "    ------------------------------------------------------------\n",
      "                                           Total:        22.0 MB\n",
      "\n",
      "The following NEW packages will be INSTALLED:\n",
      "\n",
      "  boto3              pkgs/main/noarch::boto3-1.10.19-py_0\n",
      "  botocore           pkgs/main/noarch::botocore-1.13.19-py_0\n",
      "  bz2file            pkgs/main/win-64::bz2file-0.98-py37_1\n",
      "  gensim             pkgs/main/win-64::gensim-3.8.0-py37hf9181ef_0\n",
      "  jmespath           pkgs/main/noarch::jmespath-0.9.4-py_0\n",
      "  s3transfer         pkgs/main/win-64::s3transfer-0.2.1-py37_0\n",
      "  smart_open         pkgs/main/noarch::smart_open-1.9.0-py_0\n",
      "\n",
      "\n",
      "\n",
      "Downloading and Extracting Packages\n",
      "\n",
      "smart_open-1.9.0     | 59 KB     |            |   0% \n",
      "smart_open-1.9.0     | 59 KB     | ########## | 100% \n",
      "\n",
      "boto3-1.10.19        | 91 KB     |            |   0% \n",
      "boto3-1.10.19        | 91 KB     | ########## | 100% \n",
      "\n",
      "gensim-3.8.0         | 18.4 MB   |            |   0% \n",
      "gensim-3.8.0         | 18.4 MB   |            |   0% \n",
      "gensim-3.8.0         | 18.4 MB   | 1          |   1% \n",
      "gensim-3.8.0         | 18.4 MB   | 2          |   2% \n",
      "gensim-3.8.0         | 18.4 MB   | 3          |   3% \n",
      "gensim-3.8.0         | 18.4 MB   | 4          |   4% \n",
      "gensim-3.8.0         | 18.4 MB   | 5          |   5% \n",
      "gensim-3.8.0         | 18.4 MB   | 6          |   6% \n",
      "gensim-3.8.0         | 18.4 MB   | 7          |   7% \n",
      "gensim-3.8.0         | 18.4 MB   | 8          |   8% \n",
      "gensim-3.8.0         | 18.4 MB   | 9          |   9% \n",
      "gensim-3.8.0         | 18.4 MB   | 9          |  10% \n",
      "gensim-3.8.0         | 18.4 MB   | #          |  11% \n",
      "gensim-3.8.0         | 18.4 MB   | #1         |  12% \n",
      "gensim-3.8.0         | 18.4 MB   | #2         |  13% \n",
      "gensim-3.8.0         | 18.4 MB   | #3         |  14% \n",
      "gensim-3.8.0         | 18.4 MB   | #4         |  15% \n",
      "gensim-3.8.0         | 18.4 MB   | #5         |  16% \n",
      "gensim-3.8.0         | 18.4 MB   | #6         |  17% \n",
      "gensim-3.8.0         | 18.4 MB   | #7         |  18% \n",
      "gensim-3.8.0         | 18.4 MB   | #8         |  19% \n",
      "gensim-3.8.0         | 18.4 MB   | #9         |  20% \n",
      "gensim-3.8.0         | 18.4 MB   | ##         |  21% \n",
      "gensim-3.8.0         | 18.4 MB   | ##1        |  22% \n",
      "gensim-3.8.0         | 18.4 MB   | ##2        |  23% \n",
      "gensim-3.8.0         | 18.4 MB   | ##3        |  23% \n",
      "gensim-3.8.0         | 18.4 MB   | ##4        |  24% \n",
      "gensim-3.8.0         | 18.4 MB   | ##5        |  25% \n",
      "gensim-3.8.0         | 18.4 MB   | ##6        |  26% \n",
      "gensim-3.8.0         | 18.4 MB   | ##7        |  27% \n",
      "gensim-3.8.0         | 18.4 MB   | ##8        |  28% \n",
      "gensim-3.8.0         | 18.4 MB   | ##9        |  29% \n",
      "gensim-3.8.0         | 18.4 MB   | ###        |  30% \n",
      "gensim-3.8.0         | 18.4 MB   | ###1       |  31% \n",
      "gensim-3.8.0         | 18.4 MB   | ###2       |  32% \n",
      "gensim-3.8.0         | 18.4 MB   | ###2       |  33% \n",
      "gensim-3.8.0         | 18.4 MB   | ###3       |  34% \n",
      "gensim-3.8.0         | 18.4 MB   | ###5       |  35% \n",
      "gensim-3.8.0         | 18.4 MB   | ###6       |  36% \n",
      "gensim-3.8.0         | 18.4 MB   | ###7       |  37% \n",
      "gensim-3.8.0         | 18.4 MB   | ###8       |  38% \n",
      "gensim-3.8.0         | 18.4 MB   | ###9       |  39% \n",
      "gensim-3.8.0         | 18.4 MB   | ####       |  40% \n",
      "gensim-3.8.0         | 18.4 MB   | ####       |  41% \n",
      "gensim-3.8.0         | 18.4 MB   | ####1      |  42% \n",
      "gensim-3.8.0         | 18.4 MB   | ####2      |  43% \n",
      "gensim-3.8.0         | 18.4 MB   | ####3      |  44% \n",
      "gensim-3.8.0         | 18.4 MB   | ####4      |  45% \n",
      "gensim-3.8.0         | 18.4 MB   | ####5      |  46% \n",
      "gensim-3.8.0         | 18.4 MB   | ####6      |  46% \n",
      "gensim-3.8.0         | 18.4 MB   | ####7      |  47% \n",
      "gensim-3.8.0         | 18.4 MB   | ####7      |  48% \n",
      "gensim-3.8.0         | 18.4 MB   | ####8      |  49% \n",
      "gensim-3.8.0         | 18.4 MB   | ####9      |  49% \n",
      "gensim-3.8.0         | 18.4 MB   | #####      |  50% \n",
      "gensim-3.8.0         | 18.4 MB   | #####1     |  51% \n",
      "gensim-3.8.0         | 18.4 MB   | #####2     |  52% \n",
      "gensim-3.8.0         | 18.4 MB   | #####2     |  53% \n",
      "gensim-3.8.0         | 18.4 MB   | #####3     |  54% \n",
      "gensim-3.8.0         | 18.4 MB   | #####4     |  55% \n",
      "gensim-3.8.0         | 18.4 MB   | #####5     |  56% \n",
      "gensim-3.8.0         | 18.4 MB   | #####6     |  57% \n",
      "gensim-3.8.0         | 18.4 MB   | #####7     |  57% \n",
      "gensim-3.8.0         | 18.4 MB   | #####8     |  58% \n",
      "gensim-3.8.0         | 18.4 MB   | #####9     |  59% \n",
      "gensim-3.8.0         | 18.4 MB   | ######     |  60% \n",
      "gensim-3.8.0         | 18.4 MB   | ######1    |  61% \n",
      "gensim-3.8.0         | 18.4 MB   | ######2    |  62% \n",
      "gensim-3.8.0         | 18.4 MB   | ######3    |  63% \n",
      "gensim-3.8.0         | 18.4 MB   | ######4    |  64% \n",
      "gensim-3.8.0         | 18.4 MB   | ######5    |  65% \n",
      "gensim-3.8.0         | 18.4 MB   | ######6    |  66% \n",
      "gensim-3.8.0         | 18.4 MB   | ######7    |  67% \n",
      "gensim-3.8.0         | 18.4 MB   | ######8    |  68% \n",
      "gensim-3.8.0         | 18.4 MB   | ######9    |  69% \n",
      "gensim-3.8.0         | 18.4 MB   | #######    |  70% \n",
      "gensim-3.8.0         | 18.4 MB   | #######1   |  71% \n",
      "gensim-3.8.0         | 18.4 MB   | #######2   |  72% \n",
      "gensim-3.8.0         | 18.4 MB   | #######3   |  73% \n",
      "gensim-3.8.0         | 18.4 MB   | #######4   |  74% \n",
      "gensim-3.8.0         | 18.4 MB   | #######5   |  75% \n",
      "gensim-3.8.0         | 18.4 MB   | #######6   |  76% \n",
      "gensim-3.8.0         | 18.4 MB   | #######7   |  77% \n",
      "gensim-3.8.0         | 18.4 MB   | #######8   |  78% \n",
      "gensim-3.8.0         | 18.4 MB   | #######9   |  79% \n",
      "gensim-3.8.0         | 18.4 MB   | ########   |  80% \n",
      "gensim-3.8.0         | 18.4 MB   | ########1  |  81% \n",
      "gensim-3.8.0         | 18.4 MB   | ########2  |  82% \n",
      "gensim-3.8.0         | 18.4 MB   | ########3  |  83% \n",
      "gensim-3.8.0         | 18.4 MB   | ########4  |  84% \n",
      "gensim-3.8.0         | 18.4 MB   | ########5  |  85% \n",
      "gensim-3.8.0         | 18.4 MB   | ########6  |  86% \n",
      "gensim-3.8.0         | 18.4 MB   | ########7  |  87% \n",
      "gensim-3.8.0         | 18.4 MB   | ########8  |  88% \n",
      "gensim-3.8.0         | 18.4 MB   | ########8  |  89% \n",
      "gensim-3.8.0         | 18.4 MB   | ########9  |  90% \n",
      "gensim-3.8.0         | 18.4 MB   | #########  |  91% \n",
      "gensim-3.8.0         | 18.4 MB   | #########1 |  92% \n",
      "gensim-3.8.0         | 18.4 MB   | #########2 |  93% \n",
      "gensim-3.8.0         | 18.4 MB   | #########3 |  94% \n",
      "gensim-3.8.0         | 18.4 MB   | #########4 |  95% \n",
      "gensim-3.8.0         | 18.4 MB   | #########5 |  95% \n",
      "gensim-3.8.0         | 18.4 MB   | #########5 |  96% \n",
      "gensim-3.8.0         | 18.4 MB   | #########6 |  97% \n",
      "gensim-3.8.0         | 18.4 MB   | #########7 |  97% \n",
      "gensim-3.8.0         | 18.4 MB   | #########8 |  98% \n",
      "gensim-3.8.0         | 18.4 MB   | #########9 |  99% \n",
      "gensim-3.8.0         | 18.4 MB   | #########9 | 100% \n",
      "gensim-3.8.0         | 18.4 MB   | ########## | 100% \n",
      "\n",
      "bz2file-0.98         | 14 KB     |            |   0% \n",
      "bz2file-0.98         | 14 KB     | ########## | 100% \n",
      "\n",
      "s3transfer-0.2.1     | 99 KB     |            |   0% \n",
      "s3transfer-0.2.1     | 99 KB     | ########## | 100% \n",
      "\n",
      "jmespath-0.9.4       | 22 KB     |            |   0% \n",
      "jmespath-0.9.4       | 22 KB     | ########## | 100% \n",
      "\n",
      "botocore-1.13.19     | 3.3 MB    |            |   0% \n",
      "botocore-1.13.19     | 3.3 MB    | 4          |   4% \n",
      "botocore-1.13.19     | 3.3 MB    | 9          |   9% \n",
      "botocore-1.13.19     | 3.3 MB    | #5         |  15% \n",
      "botocore-1.13.19     | 3.3 MB    | ##         |  21% \n",
      "botocore-1.13.19     | 3.3 MB    | ##5        |  26% \n",
      "botocore-1.13.19     | 3.3 MB    | ###        |  31% \n",
      "botocore-1.13.19     | 3.3 MB    | ###6       |  37% \n",
      "botocore-1.13.19     | 3.3 MB    | ####2      |  42% \n",
      "botocore-1.13.19     | 3.3 MB    | ####7      |  47% \n",
      "botocore-1.13.19     | 3.3 MB    | #####3     |  53% \n",
      "botocore-1.13.19     | 3.3 MB    | #####8     |  58% \n",
      "botocore-1.13.19     | 3.3 MB    | ######3    |  63% \n",
      "botocore-1.13.19     | 3.3 MB    | ######9    |  69% \n",
      "botocore-1.13.19     | 3.3 MB    | #######4   |  75% \n",
      "botocore-1.13.19     | 3.3 MB    | #######9   |  80% \n",
      "botocore-1.13.19     | 3.3 MB    | ########5  |  85% \n",
      "botocore-1.13.19     | 3.3 MB    | #########  |  91% \n",
      "botocore-1.13.19     | 3.3 MB    | #########5 |  96% \n",
      "botocore-1.13.19     | 3.3 MB    | ########## | 100% \n",
      "Preparing transaction: ...working... done\n",
      "Verifying transaction: ...working... done\n",
      "Executing transaction: ...working... done\n"
     ]
    }
   ],
   "source": [
    "!conda install -y gensim"
   ]
  },
  {
   "cell_type": "markdown",
   "metadata": {},
   "source": [
    "아나콘다가 아닐 경우"
   ]
  },
  {
   "cell_type": "markdown",
   "metadata": {},
   "source": [
    "!pip install gensim"
   ]
  },
  {
   "cell_type": "markdown",
   "metadata": {},
   "source": [
    "### TDM을 gensim의 Corpus 포맷으로 변환"
   ]
  },
  {
   "cell_type": "code",
   "execution_count": 13,
   "metadata": {},
   "outputs": [],
   "source": [
    "from gensim.matutils import Sparse2Corpus"
   ]
  },
  {
   "cell_type": "code",
   "execution_count": 14,
   "metadata": {},
   "outputs": [],
   "source": [
    "corpus = Sparse2Corpus(x_train.T) # x_train.T에서 .T는 전치(transpose: 행과 열을 뒤집는 것)\n",
    "# 행에 단어 컬럼에 문장을 넣어야 함. (문장을 묶어 주제로 만들기 위해 컬럼으로 들어가야함.)\n",
    "# gensim 패키지는 tdm을 넣어주면 된당. \n",
    "# corpus 포맷으로 만들어 주어야 실행된다. \n",
    "# corpus 형태는 행에 단어 열에 주제에 대한 정보 "
   ]
  },
  {
   "cell_type": "code",
   "execution_count": 15,
   "metadata": {},
   "outputs": [],
   "source": [
    "id2word = dict(enumerate(cv.get_feature_names()))"
   ]
  },
  {
   "cell_type": "markdown",
   "metadata": {},
   "source": [
    "### LDA 분석 실시"
   ]
  },
  {
   "cell_type": "code",
   "execution_count": 17,
   "metadata": {},
   "outputs": [],
   "source": [
    "from gensim.models.ldamodel import LdaModel"
   ]
  },
  {
   "cell_type": "code",
   "execution_count": 18,
   "metadata": {},
   "outputs": [],
   "source": [
    "models = {}\n",
    "# 주제가 몇개 있는지 모르기 때문에 하이퍼 파라미터 설정 \n",
    "for num_topics in [5, 10, 50]:\n",
    "    models[num_topics] = LdaModel(\n",
    "        corpus=corpus,\n",
    "        num_topics=num_topics,\n",
    "        passes=3, # passes와 iterations는 연산 횟수를 의미하는데 많이 하면 할 수 록 성능 좋아짐. # passes 전체 데이터를 몇번 훑을지, epoch와 같음  \n",
    "        iterations=100, \n",
    "        id2word=id2word,\n",
    "        random_state=123)"
   ]
  },
  {
   "cell_type": "code",
   "execution_count": 44,
   "metadata": {},
   "outputs": [
    {
     "data": {
      "text/plain": [
       "3.1421376"
      ]
     },
     "execution_count": 44,
     "metadata": {},
     "output_type": "execute_result"
    }
   ],
   "source": [
    "# Monte carlo 기법? \n",
    "\n",
    "# 원의 반지름은 어케구하나?\n",
    "## 확률을 추정한 다음 시행을 무한이 많이 하여 수렴하게 하는 기법 이를 통해 미지수를 추정하는 방법임 \n",
    "\n",
    "# 파이 추정하는 방법 \n",
    "# LDA도 이와 같은 기법 활용해서 근사해서 계산함. \n",
    "import numpy as np\n",
    "\n",
    "x = np.random.uniform(-1,1,10000000)\n",
    "y = np.random.uniform(-1,1,10000000)\n",
    "\n",
    "(x ** 2 + y ** 2 <= 1).mean()*4"
   ]
  },
  {
   "cell_type": "markdown",
   "metadata": {},
   "source": [
    "### Perplexity\n",
    "\n",
    "단어의 분포가 얼마나 정확한지에 대하여 판단할때 사용하는 수치\n",
    "\n",
    "수치가 커지면 단어 복잡도가 많이 크다는 의미임. \n",
    "\n",
    "0에 가까울 수록 더 좋다."
   ]
  },
  {
   "cell_type": "code",
   "execution_count": 19,
   "metadata": {},
   "outputs": [],
   "source": [
    "test_corpus = Sparse2Corpus(x_test.T)"
   ]
  },
  {
   "cell_type": "code",
   "execution_count": 45,
   "metadata": {},
   "outputs": [
    {
     "data": {
      "text/plain": [
       "{5: <gensim.models.ldamodel.LdaModel at 0x2b654b187c8>,\n",
       " 10: <gensim.models.ldamodel.LdaModel at 0x2b6548a3c08>,\n",
       " 50: <gensim.models.ldamodel.LdaModel at 0x2b65496ab48>}"
      ]
     },
     "execution_count": 45,
     "metadata": {},
     "output_type": "execute_result"
    }
   ],
   "source": [
    "models"
   ]
  },
  {
   "cell_type": "code",
   "execution_count": 20,
   "metadata": {},
   "outputs": [
    {
     "name": "stdout",
     "output_type": "stream",
     "text": [
      "5 -7.108070179948764\n",
      "10 -7.105554355511369\n",
      "50 -7.190093588127462\n"
     ]
    }
   ],
   "source": [
    "for num_topics in models:\n",
    "    print(num_topics, models[num_topics].log_perplexity(test_corpus))"
   ]
  },
  {
   "cell_type": "code",
   "execution_count": 3,
   "metadata": {},
   "outputs": [
    {
     "data": {
      "text/plain": [
       "1218.717500269996"
      ]
     },
     "execution_count": 3,
     "metadata": {},
     "output_type": "execute_result"
    }
   ],
   "source": [
    "# 실제 perplexity 구하기\n",
    "\n",
    "np.exp(7.105554355511369) # 1218단어 마다 1개씩 100% 맞출 수 있다. \n",
    "# 다음단어 추론할 때 1/1218의 확률이다."
   ]
  },
  {
   "cell_type": "markdown",
   "metadata": {},
   "source": [
    "### 주제 보기"
   ]
  },
  {
   "cell_type": "code",
   "execution_count": 47,
   "metadata": {
    "scrolled": true
   },
   "outputs": [
    {
     "data": {
      "text/plain": [
       "[(0,\n",
       "  '0.008*\"war\" + 0.008*\"king\" + 0.006*\"ship\" + 0.006*\"men\" + 0.006*\"group\" + 0.006*\"army\" + 0.006*\"world\" + 0.005*\"killed\" + 0.005*\"escape\" + 0.005*\"captain\"'),\n",
       " (1,\n",
       "  '0.019*\"tom\" + 0.017*\"house\" + 0.010*\"jerry\" + 0.009*\"body\" + 0.009*\"night\" + 0.009*\"room\" + 0.008*\"tells\" + 0.008*\"home\" + 0.008*\"finds\" + 0.007*\"away\"'),\n",
       " (2,\n",
       "  '0.021*\"father\" + 0.021*\"love\" + 0.017*\"family\" + 0.013*\"mother\" + 0.012*\"son\" + 0.011*\"daughter\" + 0.009*\"life\" + 0.009*\"marriage\" + 0.009*\"house\" + 0.008*\"wife\"'),\n",
       " (3,\n",
       "  '0.018*\"police\" + 0.009*\"car\" + 0.007*\"sam\" + 0.007*\"killed\" + 0.007*\"kill\" + 0.007*\"man\" + 0.006*\"escape\" + 0.006*\"gun\" + 0.006*\"jimmy\" + 0.005*\"later\"'),\n",
       " (4,\n",
       "  '0.010*\"school\" + 0.010*\"new\" + 0.008*\"time\" + 0.007*\"film\" + 0.007*\"day\" + 0.007*\"home\" + 0.006*\"tells\" + 0.006*\"friends\" + 0.006*\"life\" + 0.005*\"father\"'),\n",
       " (5,\n",
       "  '0.055*\"frank\" + 0.054*\"charlie\" + 0.046*\"johnny\" + 0.041*\"nick\" + 0.038*\"raja\" + 0.028*\"helen\" + 0.019*\"linda\" + 0.018*\"jackie\" + 0.017*\"anand\" + 0.014*\"kelly\"'),\n",
       " (6,\n",
       "  '0.021*\"police\" + 0.015*\"film\" + 0.009*\"story\" + 0.009*\"murder\" + 0.008*\"killed\" + 0.008*\"kill\" + 0.007*\"man\" + 0.007*\"life\" + 0.007*\"case\" + 0.006*\"gang\"'),\n",
       " (7,\n",
       "  '0.018*\"john\" + 0.012*\"mary\" + 0.012*\"david\" + 0.009*\"peter\" + 0.009*\"michael\" + 0.008*\"wife\" + 0.008*\"mrs\" + 0.008*\"jim\" + 0.007*\"henry\" + 0.007*\"new\"'),\n",
       " (8,\n",
       "  '0.045*\"paul\" + 0.037*\"mike\" + 0.036*\"george\" + 0.025*\"jeff\" + 0.021*\"kate\" + 0.020*\"jake\" + 0.018*\"larry\" + 0.018*\"terry\" + 0.018*\"arthur\" + 0.017*\"andy\"'),\n",
       " (9,\n",
       "  '0.023*\"jack\" + 0.020*\"joe\" + 0.017*\"town\" + 0.014*\"money\" + 0.008*\"danny\" + 0.008*\"billy\" + 0.008*\"anna\" + 0.007*\"train\" + 0.007*\"men\" + 0.006*\"alice\"')]"
      ]
     },
     "execution_count": 47,
     "metadata": {},
     "output_type": "execute_result"
    }
   ],
   "source": [
    "models[10].show_topics()"
   ]
  },
  {
   "cell_type": "code",
   "execution_count": 48,
   "metadata": {},
   "outputs": [
    {
     "data": {
      "text/plain": [
       "[('war', 0.007855945),\n",
       " ('king', 0.0077317017),\n",
       " ('ship', 0.006199054),\n",
       " ('men', 0.006128602),\n",
       " ('group', 0.0057548573),\n",
       " ('army', 0.0055977134),\n",
       " ('world', 0.005520351),\n",
       " ('killed', 0.0051553347),\n",
       " ('escape', 0.0049308473),\n",
       " ('captain', 0.0049248543)]"
      ]
     },
     "execution_count": 48,
     "metadata": {},
     "output_type": "execute_result"
    }
   ],
   "source": [
    "models[10].show_topic(0)"
   ]
  },
  {
   "cell_type": "markdown",
   "metadata": {},
   "source": [
    "### 문서의 주제"
   ]
  },
  {
   "cell_type": "code",
   "execution_count": 49,
   "metadata": {
    "scrolled": true
   },
   "outputs": [
    {
     "data": {
      "text/plain": [
       "[(9, 1),\n",
       " (30, 1),\n",
       " (78, 1),\n",
       " (110, 1),\n",
       " (112, 1),\n",
       " (129, 2),\n",
       " (131, 2),\n",
       " (189, 1),\n",
       " (260, 1),\n",
       " (261, 1),\n",
       " (331, 2),\n",
       " (347, 1),\n",
       " (352, 1),\n",
       " (356, 2),\n",
       " (413, 2),\n",
       " (415, 1),\n",
       " (426, 1),\n",
       " (434, 1),\n",
       " (437, 1),\n",
       " (448, 1),\n",
       " (476, 1),\n",
       " (496, 1),\n",
       " (503, 1),\n",
       " (534, 1),\n",
       " (585, 1),\n",
       " (638, 1),\n",
       " (644, 2),\n",
       " (657, 1),\n",
       " (743, 1),\n",
       " (767, 1),\n",
       " (798, 1),\n",
       " (843, 1),\n",
       " (907, 5),\n",
       " (937, 1),\n",
       " (1023, 1),\n",
       " (1055, 1),\n",
       " (1071, 4),\n",
       " (1075, 1),\n",
       " (1111, 1),\n",
       " (1133, 1),\n",
       " (1151, 1),\n",
       " (1181, 2),\n",
       " (1188, 3),\n",
       " (1206, 1),\n",
       " (1211, 1),\n",
       " (1215, 1),\n",
       " (1235, 1),\n",
       " (1244, 1),\n",
       " (1248, 1),\n",
       " (1267, 2),\n",
       " (1277, 1),\n",
       " (1293, 1),\n",
       " (1399, 1),\n",
       " (1485, 1),\n",
       " (1495, 1),\n",
       " (1536, 1),\n",
       " (1545, 5),\n",
       " (1551, 1),\n",
       " (1573, 1),\n",
       " (1621, 4),\n",
       " (1668, 2),\n",
       " (1671, 1),\n",
       " (1744, 1),\n",
       " (1844, 1),\n",
       " (1867, 1),\n",
       " (1884, 1),\n",
       " (1971, 1)]"
      ]
     },
     "execution_count": 49,
     "metadata": {},
     "output_type": "execute_result"
    }
   ],
   "source": [
    "row = x_test[0]\n",
    "doc = list(zip(row.indices, row.data))\n",
    "doc"
   ]
  },
  {
   "cell_type": "code",
   "execution_count": 50,
   "metadata": {
    "scrolled": true
   },
   "outputs": [
    {
     "name": "stdout",
     "output_type": "stream",
     "text": [
      "aboard 1\n",
      "adult 1\n",
      "animals 1\n",
      "arrive 1\n",
      "arrives 1\n",
      "attack 2\n",
      "attacks 2\n",
      "better 1\n",
      "captain 1\n",
      "capture 1\n",
      "circus 2\n",
      "coast 1\n",
      "collect 1\n",
      "comes 2\n",
      "creature 2\n",
      "crew 1\n",
      "cut 1\n",
      "dangerous 1\n",
      "dark 1\n",
      "deal 1\n",
      "despite 1\n",
      "died 1\n",
      "discover 1\n",
      "drive 1\n",
      "enter 1\n",
      "fear 1\n",
      "feet 2\n",
      "finally 1\n",
      "goes 1\n",
      "group 1\n",
      "having 1\n",
      "hoping 1\n",
      "island 5\n",
      "joe 1\n",
      "later 1\n",
      "like 1\n",
      "london 4\n",
      "looking 1\n",
      "manage 1\n",
      "master 1\n",
      "men 1\n",
      "monster 2\n",
      "mother 3\n",
      "names 1\n",
      "navy 1\n",
      "nearly 1\n",
      "note 1\n",
      "offered 1\n",
      "officer 1\n",
      "owner 2\n",
      "park 1\n",
      "people 1\n",
      "public 1\n",
      "rescues 1\n",
      "return 1\n",
      "royal 1\n",
      "ryan 5\n",
      "sam 1\n",
      "sea 1\n",
      "ship 4\n",
      "son 2\n",
      "soon 1\n",
      "study 1\n",
      "treasure 1\n",
      "turns 1\n",
      "university 1\n",
      "woman 1\n"
     ]
    }
   ],
   "source": [
    "for i, n in doc:\n",
    "    print(id2word[i], n)"
   ]
  },
  {
   "cell_type": "code",
   "execution_count": 51,
   "metadata": {},
   "outputs": [
    {
     "data": {
      "text/plain": [
       "[(0, 0.7228719),\n",
       " (2, 0.06179989),\n",
       " (3, 0.024760846),\n",
       " (8, 0.093357325),\n",
       " (9, 0.09183118)]"
      ]
     },
     "execution_count": 51,
     "metadata": {},
     "output_type": "execute_result"
    }
   ],
   "source": [
    "models[10].get_document_topics(doc)"
   ]
  },
  {
   "cell_type": "markdown",
   "metadata": {},
   "source": [
    "## Latent Semantic Analysis"
   ]
  },
  {
   "cell_type": "code",
   "execution_count": 74,
   "metadata": {},
   "outputs": [],
   "source": [
    "from sklearn.decomposition import TruncatedSVD"
   ]
  },
  {
   "cell_type": "code",
   "execution_count": 63,
   "metadata": {},
   "outputs": [],
   "source": [
    "x = np.matrix([[1,2,3],[2,4,5],[6,8,9]])\n",
    "u, s, v = np.linalg.svd(x)"
   ]
  },
  {
   "cell_type": "code",
   "execution_count": 72,
   "metadata": {},
   "outputs": [
    {
     "data": {
      "text/plain": [
       "matrix([[1, 2, 3],\n",
       "        [2, 4, 5],\n",
       "        [6, 8, 9]])"
      ]
     },
     "execution_count": 72,
     "metadata": {},
     "output_type": "execute_result"
    }
   ],
   "source": [
    "x"
   ]
  },
  {
   "cell_type": "code",
   "execution_count": 64,
   "metadata": {},
   "outputs": [
    {
     "data": {
      "text/plain": [
       "array([-0.23799094, -0.67025772, -0.08246612])"
      ]
     },
     "execution_count": 64,
     "metadata": {},
     "output_type": "execute_result"
    }
   ],
   "source": [
    "np.diag(u)"
   ]
  },
  {
   "cell_type": "code",
   "execution_count": 65,
   "metadata": {},
   "outputs": [
    {
     "data": {
      "text/plain": [
       "matrix([[-0.23799094, -0.56130663, -0.79265073],\n",
       "        [-0.43110373, -0.67025772,  0.60407298],\n",
       "        [-0.87035044,  0.48547858, -0.08246612]])"
      ]
     },
     "execution_count": 65,
     "metadata": {},
     "output_type": "execute_result"
    }
   ],
   "source": [
    "u"
   ]
  },
  {
   "cell_type": "code",
   "execution_count": 66,
   "metadata": {},
   "outputs": [
    {
     "data": {
      "text/plain": [
       "array([[15.44287374,  0.        ,  0.        ],\n",
       "       [ 0.        ,  1.21329097,  0.        ],\n",
       "       [ 0.        ,  0.        ,  0.21348477]])"
      ]
     },
     "execution_count": 66,
     "metadata": {},
     "output_type": "execute_result"
    }
   ],
   "source": [
    "np.diag(s)"
   ]
  },
  {
   "cell_type": "code",
   "execution_count": 67,
   "metadata": {},
   "outputs": [
    {
     "data": {
      "text/plain": [
       "array([15.44287374,  1.21329097,  0.21348477])"
      ]
     },
     "execution_count": 67,
     "metadata": {},
     "output_type": "execute_result"
    }
   ],
   "source": [
    "s"
   ]
  },
  {
   "cell_type": "code",
   "execution_count": 68,
   "metadata": {},
   "outputs": [
    {
     "data": {
      "text/plain": [
       "array([-0.40939926,  0.06608843, -0.46739811])"
      ]
     },
     "execution_count": 68,
     "metadata": {},
     "output_type": "execute_result"
    }
   ],
   "source": [
    "np.diag(v)"
   ]
  },
  {
   "cell_type": "code",
   "execution_count": 69,
   "metadata": {},
   "outputs": [
    {
     "data": {
      "text/plain": [
       "matrix([[-0.40939926, -0.59336108, -0.69304752],\n",
       "        [ 0.83331158,  0.06608843, -0.5488389 ],\n",
       "        [-0.37146207,  0.80221876, -0.46739811]])"
      ]
     },
     "execution_count": 69,
     "metadata": {},
     "output_type": "execute_result"
    }
   ],
   "source": [
    "v"
   ]
  },
  {
   "cell_type": "code",
   "execution_count": 71,
   "metadata": {},
   "outputs": [
    {
     "data": {
      "text/plain": [
       "matrix([[1., 2., 3.],\n",
       "        [2., 4., 5.],\n",
       "        [6., 8., 9.]])"
      ]
     },
     "execution_count": 71,
     "metadata": {},
     "output_type": "execute_result"
    }
   ],
   "source": [
    "u @ np.diag(s) @ v"
   ]
  },
  {
   "cell_type": "code",
   "execution_count": 75,
   "metadata": {},
   "outputs": [],
   "source": [
    "svd = TruncatedSVD(n_components=100, random_state=1234) # 몇 차원으로 줄일지에 대한 이야기 "
   ]
  },
  {
   "cell_type": "code",
   "execution_count": 76,
   "metadata": {},
   "outputs": [
    {
     "data": {
      "text/plain": [
       "TruncatedSVD(algorithm='randomized', n_components=100, n_iter=5,\n",
       "             random_state=1234, tol=0.0)"
      ]
     },
     "execution_count": 76,
     "metadata": {},
     "output_type": "execute_result"
    }
   ],
   "source": [
    "svd.fit(x_train)"
   ]
  },
  {
   "cell_type": "code",
   "execution_count": 77,
   "metadata": {},
   "outputs": [],
   "source": [
    "from matplotlib import pyplot"
   ]
  },
  {
   "cell_type": "code",
   "execution_count": 78,
   "metadata": {},
   "outputs": [
    {
     "data": {
      "text/plain": [
       "[<matplotlib.lines.Line2D at 0x2b656848ec8>]"
      ]
     },
     "execution_count": 78,
     "metadata": {},
     "output_type": "execute_result"
    },
    {
     "data": {
      "image/png": "[encoded data removed]",
      "text/plain": [
       "<Figure size 432x288 with 1 Axes>"
      ]
     },
     "metadata": {
      "needs_background": "light"
     },
     "output_type": "display_data"
    }
   ],
   "source": [
    "pyplot.plot(svd.explained_variance_, 'o')"
   ]
  },
  {
   "cell_type": "code",
   "execution_count": null,
   "metadata": {},
   "outputs": [],
   "source": [
    "# 해당 차원의 개수일 때 설명하는 정도 "
   ]
  },
  {
   "cell_type": "markdown",
   "metadata": {},
   "source": [
    "### 차원 축소"
   ]
  },
  {
   "cell_type": "code",
   "execution_count": 79,
   "metadata": {},
   "outputs": [
    {
     "data": {
      "text/plain": [
       "(6978, 2000)"
      ]
     },
     "execution_count": 79,
     "metadata": {},
     "output_type": "execute_result"
    }
   ],
   "source": [
    "x_test.shape"
   ]
  },
  {
   "cell_type": "code",
   "execution_count": 80,
   "metadata": {},
   "outputs": [],
   "source": [
    "doc_emb = svd.transform(x_test)"
   ]
  },
  {
   "cell_type": "code",
   "execution_count": 81,
   "metadata": {},
   "outputs": [
    {
     "data": {
      "text/plain": [
       "(6978, 100)"
      ]
     },
     "execution_count": 81,
     "metadata": {},
     "output_type": "execute_result"
    }
   ],
   "source": [
    "doc_emb.shape"
   ]
  },
  {
   "cell_type": "markdown",
   "metadata": {},
   "source": [
    "### 주제 보기"
   ]
  },
  {
   "cell_type": "code",
   "execution_count": 82,
   "metadata": {},
   "outputs": [
    {
     "data": {
      "text/plain": [
       "(100, 2000)"
      ]
     },
     "execution_count": 82,
     "metadata": {},
     "output_type": "execute_result"
    }
   ],
   "source": [
    "svd.components_.shape"
   ]
  },
  {
   "cell_type": "code",
   "execution_count": 83,
   "metadata": {},
   "outputs": [],
   "source": [
    "loading = pd.DataFrame(svd.components_.T) # components는 svd를 실행한 결과에서 컬럼에 대한 주제확률 의미한다. 이때 모든 값은 양수  \n",
    "# components_의 값은 열값(여기서는 단어를 의미)을 우리가 지정한 값의 개수만큼으로 늘려 값 변환시킨것. "
   ]
  },
  {
   "cell_type": "code",
   "execution_count": 84,
   "metadata": {},
   "outputs": [],
   "source": [
    "loading['word'] = cv.get_feature_names()"
   ]
  },
  {
   "cell_type": "code",
   "execution_count": 85,
   "metadata": {},
   "outputs": [
    {
     "data": {
      "text/html": [
       "<div>\n",
       "<style scoped>\n",
       "    .dataframe tbody tr th:only-of-type {\n",
       "        vertical-align: middle;\n",
       "    }\n",
       "\n",
       "    .dataframe tbody tr th {\n",
       "        vertical-align: top;\n",
       "    }\n",
       "\n",
       "    .dataframe thead th {\n",
       "        text-align: right;\n",
       "    }\n",
       "</style>\n",
       "<table border=\"1\" class=\"dataframe\">\n",
       "  <thead>\n",
       "    <tr style=\"text-align: right;\">\n",
       "      <th></th>\n",
       "      <th>0</th>\n",
       "      <th>word</th>\n",
       "    </tr>\n",
       "  </thead>\n",
       "  <tbody>\n",
       "    <tr>\n",
       "      <td>1797</td>\n",
       "      <td>0.190082</td>\n",
       "      <td>tells</td>\n",
       "    </tr>\n",
       "    <tr>\n",
       "      <td>636</td>\n",
       "      <td>0.184727</td>\n",
       "      <td>father</td>\n",
       "    </tr>\n",
       "    <tr>\n",
       "      <td>850</td>\n",
       "      <td>0.143918</td>\n",
       "      <td>house</td>\n",
       "    </tr>\n",
       "    <tr>\n",
       "      <td>838</td>\n",
       "      <td>0.143609</td>\n",
       "      <td>home</td>\n",
       "    </tr>\n",
       "    <tr>\n",
       "      <td>1110</td>\n",
       "      <td>0.135895</td>\n",
       "      <td>man</td>\n",
       "    </tr>\n",
       "  </tbody>\n",
       "</table>\n",
       "</div>"
      ],
      "text/plain": [
       "             0    word\n",
       "1797  0.190082   tells\n",
       "636   0.184727  father\n",
       "850   0.143918   house\n",
       "838   0.143609    home\n",
       "1110  0.135895     man"
      ]
     },
     "execution_count": 85,
     "metadata": {},
     "output_type": "execute_result"
    }
   ],
   "source": [
    "i = 0\n",
    "loading.sort_values(i, ascending=False).loc[:, [i, 'word']].head()\n",
    "# 0번째 축에 들어간 단어들을 의미한다. 해당 방향으로 바뀌엇음을 의미. "
   ]
  },
  {
   "cell_type": "markdown",
   "metadata": {},
   "source": [
    "## Non-negative Matrix Factorization"
   ]
  },
  {
   "cell_type": "code",
   "execution_count": 86,
   "metadata": {},
   "outputs": [],
   "source": [
    "from sklearn.decomposition import NMF"
   ]
  },
  {
   "cell_type": "code",
   "execution_count": 87,
   "metadata": {},
   "outputs": [
    {
     "data": {
      "text/plain": [
       "NMF(alpha=0.0, beta_loss='frobenius', init=None, l1_ratio=0.0, max_iter=200,\n",
       "    n_components=20, random_state=1234, shuffle=False, solver='cd', tol=0.0001,\n",
       "    verbose=0)"
      ]
     },
     "execution_count": 87,
     "metadata": {},
     "output_type": "execute_result"
    }
   ],
   "source": [
    "nmf = NMF(n_components=20, random_state=1234)\n",
    "nmf.fit(x_train)"
   ]
  },
  {
   "cell_type": "markdown",
   "metadata": {},
   "source": [
    "### 주제 보기"
   ]
  },
  {
   "cell_type": "code",
   "execution_count": 88,
   "metadata": {},
   "outputs": [],
   "source": [
    "loading = pd.DataFrame(nmf.components_.T)"
   ]
  },
  {
   "cell_type": "code",
   "execution_count": 89,
   "metadata": {},
   "outputs": [],
   "source": [
    "loading['word'] = cv.get_feature_names()"
   ]
  },
  {
   "cell_type": "code",
   "execution_count": 95,
   "metadata": {},
   "outputs": [
    {
     "data": {
      "text/html": [
       "<div>\n",
       "<style scoped>\n",
       "    .dataframe tbody tr th:only-of-type {\n",
       "        vertical-align: middle;\n",
       "    }\n",
       "\n",
       "    .dataframe tbody tr th {\n",
       "        vertical-align: top;\n",
       "    }\n",
       "\n",
       "    .dataframe thead th {\n",
       "        text-align: right;\n",
       "    }\n",
       "</style>\n",
       "<table border=\"1\" class=\"dataframe\">\n",
       "  <thead>\n",
       "    <tr style=\"text-align: right;\">\n",
       "      <th></th>\n",
       "      <th>4</th>\n",
       "      <th>word</th>\n",
       "    </tr>\n",
       "  </thead>\n",
       "  <tbody>\n",
       "    <tr>\n",
       "      <td>636</td>\n",
       "      <td>20.066040</td>\n",
       "      <td>father</td>\n",
       "    </tr>\n",
       "    <tr>\n",
       "      <td>1188</td>\n",
       "      <td>6.176156</td>\n",
       "      <td>mother</td>\n",
       "    </tr>\n",
       "    <tr>\n",
       "      <td>1668</td>\n",
       "      <td>3.595992</td>\n",
       "      <td>son</td>\n",
       "    </tr>\n",
       "    <tr>\n",
       "      <td>440</td>\n",
       "      <td>1.769520</td>\n",
       "      <td>daughter</td>\n",
       "    </tr>\n",
       "    <tr>\n",
       "      <td>215</td>\n",
       "      <td>1.082621</td>\n",
       "      <td>boy</td>\n",
       "    </tr>\n",
       "    <tr>\n",
       "      <td>838</td>\n",
       "      <td>1.054069</td>\n",
       "      <td>home</td>\n",
       "    </tr>\n",
       "    <tr>\n",
       "      <td>316</td>\n",
       "      <td>1.031064</td>\n",
       "      <td>child</td>\n",
       "    </tr>\n",
       "    <tr>\n",
       "      <td>451</td>\n",
       "      <td>0.991239</td>\n",
       "      <td>death</td>\n",
       "    </tr>\n",
       "    <tr>\n",
       "      <td>1251</td>\n",
       "      <td>0.748907</td>\n",
       "      <td>old</td>\n",
       "    </tr>\n",
       "    <tr>\n",
       "      <td>1023</td>\n",
       "      <td>0.728728</td>\n",
       "      <td>later</td>\n",
       "    </tr>\n",
       "  </tbody>\n",
       "</table>\n",
       "</div>"
      ],
      "text/plain": [
       "              4      word\n",
       "636   20.066040    father\n",
       "1188   6.176156    mother\n",
       "1668   3.595992       son\n",
       "440    1.769520  daughter\n",
       "215    1.082621       boy\n",
       "838    1.054069      home\n",
       "316    1.031064     child\n",
       "451    0.991239     death\n",
       "1251   0.748907       old\n",
       "1023   0.728728     later"
      ]
     },
     "execution_count": 95,
     "metadata": {},
     "output_type": "execute_result"
    }
   ],
   "source": [
    "i = 4\n",
    "loading.sort_values(i, ascending=False).loc[:, [i, 'word']].head(10)"
   ]
  },
  {
   "cell_type": "code",
   "execution_count": 96,
   "metadata": {},
   "outputs": [],
   "source": [
    "emb = nmf.transform(x_test)"
   ]
  },
  {
   "cell_type": "code",
   "execution_count": 97,
   "metadata": {},
   "outputs": [
    {
     "data": {
      "text/plain": [
       "[(5, 0.15739583196748802),\n",
       " (11, 0.06405412059142378),\n",
       " (7, 0.055600047668369984),\n",
       " (4, 0.04713942200608705),\n",
       " (13, 0.02936863750661348),\n",
       " (0, 0.0041040657845773055),\n",
       " (12, 0.0011513740593924533),\n",
       " (1, 0.0),\n",
       " (2, 0.0),\n",
       " (3, 0.0),\n",
       " (6, 0.0),\n",
       " (8, 0.0),\n",
       " (9, 0.0),\n",
       " (10, 0.0),\n",
       " (14, 0.0),\n",
       " (15, 0.0),\n",
       " (16, 0.0),\n",
       " (17, 0.0),\n",
       " (18, 0.0),\n",
       " (19, 0.0)]"
      ]
     },
     "execution_count": 97,
     "metadata": {},
     "output_type": "execute_result"
    }
   ],
   "source": [
    "sorted(list(enumerate(emb[0])), key=lambda x: x[1], reverse=True)\n",
    "# 해당 차원의 좌표를 의미한다. -> 5번 차원에 대하여 확인하고 해당 장르라 해석하면 된다. "
   ]
  },
  {
   "cell_type": "code",
   "execution_count": 98,
   "metadata": {},
   "outputs": [
    {
     "data": {
      "text/html": [
       "<div>\n",
       "<style scoped>\n",
       "    .dataframe tbody tr th:only-of-type {\n",
       "        vertical-align: middle;\n",
       "    }\n",
       "\n",
       "    .dataframe tbody tr th {\n",
       "        vertical-align: top;\n",
       "    }\n",
       "\n",
       "    .dataframe thead th {\n",
       "        text-align: right;\n",
       "    }\n",
       "</style>\n",
       "<table border=\"1\" class=\"dataframe\">\n",
       "  <thead>\n",
       "    <tr style=\"text-align: right;\">\n",
       "      <th></th>\n",
       "      <th>5</th>\n",
       "      <th>word</th>\n",
       "    </tr>\n",
       "  </thead>\n",
       "  <tbody>\n",
       "    <tr>\n",
       "      <td>1151</td>\n",
       "      <td>4.746426</td>\n",
       "      <td>men</td>\n",
       "    </tr>\n",
       "    <tr>\n",
       "      <td>986</td>\n",
       "      <td>3.824056</td>\n",
       "      <td>killed</td>\n",
       "    </tr>\n",
       "    <tr>\n",
       "      <td>767</td>\n",
       "      <td>3.338384</td>\n",
       "      <td>group</td>\n",
       "    </tr>\n",
       "    <tr>\n",
       "      <td>589</td>\n",
       "      <td>3.267987</td>\n",
       "      <td>escape</td>\n",
       "    </tr>\n",
       "    <tr>\n",
       "      <td>985</td>\n",
       "      <td>3.257324</td>\n",
       "      <td>kill</td>\n",
       "    </tr>\n",
       "    <tr>\n",
       "      <td>1621</td>\n",
       "      <td>2.963989</td>\n",
       "      <td>ship</td>\n",
       "    </tr>\n",
       "    <tr>\n",
       "      <td>992</td>\n",
       "      <td>2.874034</td>\n",
       "      <td>king</td>\n",
       "    </tr>\n",
       "    <tr>\n",
       "      <td>129</td>\n",
       "      <td>2.562178</td>\n",
       "      <td>attack</td>\n",
       "    </tr>\n",
       "    <tr>\n",
       "      <td>989</td>\n",
       "      <td>2.498459</td>\n",
       "      <td>kills</td>\n",
       "    </tr>\n",
       "    <tr>\n",
       "      <td>451</td>\n",
       "      <td>2.462237</td>\n",
       "      <td>death</td>\n",
       "    </tr>\n",
       "  </tbody>\n",
       "</table>\n",
       "</div>"
      ],
      "text/plain": [
       "             5    word\n",
       "1151  4.746426     men\n",
       "986   3.824056  killed\n",
       "767   3.338384   group\n",
       "589   3.267987  escape\n",
       "985   3.257324    kill\n",
       "1621  2.963989    ship\n",
       "992   2.874034    king\n",
       "129   2.562178  attack\n",
       "989   2.498459   kills\n",
       "451   2.462237   death"
      ]
     },
     "execution_count": 98,
     "metadata": {},
     "output_type": "execute_result"
    }
   ],
   "source": [
    "i = 5\n",
    "loading.sort_values(i, ascending=False).loc[:, [i, 'word']].head(10)"
   ]
  },
  {
   "cell_type": "code",
   "execution_count": null,
   "metadata": {},
   "outputs": [],
   "source": []
  }
 ],
 "metadata": {
  "kernelspec": {
   "display_name": "Python 3",
   "language": "python",
   "name": "python3"
  },
  "language_info": {
   "codemirror_mode": {
    "name": "ipython",
    "version": 3
   },
   "file_extension": ".py",
   "mimetype": "text/x-python",
   "name": "python",
   "nbconvert_exporter": "python",
   "pygments_lexer": "ipython3",
   "version": "3.7.4"
  }
 },
 "nbformat": 4,
 "nbformat_minor": 2
}
