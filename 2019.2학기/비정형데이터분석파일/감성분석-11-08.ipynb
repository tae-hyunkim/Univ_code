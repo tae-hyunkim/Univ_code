{
 "cells": [
  {
   "cell_type": "markdown",
   "metadata": {},
   "source": [
    "# 감성분석\n",
    "\n",
    "## 아마존 핸드폰 리뷰 데이터의 감성 분석\n",
    "\n",
    "데이터 다운로드"
   ]
  },
  {
   "cell_type": "code",
   "execution_count": 3,
   "metadata": {},
   "outputs": [],
   "source": [
    "import requests\n",
    "res = requests.get('https://archive.ics.uci.edu/ml/machine-learning-databases/00331/sentiment%20labelled%20sentences.zip')\n",
    "with open('sentiment labelled sentences.zip', 'wb') as f:\n",
    "    f.write(res.content)"
   ]
  },
  {
   "cell_type": "markdown",
   "metadata": {},
   "source": [
    "압축 풀기"
   ]
  },
  {
   "cell_type": "code",
   "execution_count": 4,
   "metadata": {},
   "outputs": [],
   "source": [
    "from zipfile import ZipFile\n",
    "z = ZipFile('sentiment labelled sentences.zip')\n",
    "data = z.open('sentiment labelled sentences/amazon_cells_labelled.txt')"
   ]
  },
  {
   "cell_type": "markdown",
   "metadata": {},
   "source": [
    "파일 열기"
   ]
  },
  {
   "cell_type": "code",
   "execution_count": 5,
   "metadata": {},
   "outputs": [],
   "source": [
    "import pandas as pd"
   ]
  },
  {
   "cell_type": "code",
   "execution_count": 6,
   "metadata": {},
   "outputs": [],
   "source": [
    "df = pd.read_csv(data, sep=\"\\t\", header=None)"
   ]
  },
  {
   "cell_type": "code",
   "execution_count": 7,
   "metadata": {},
   "outputs": [
    {
     "data": {
      "text/html": [
       "<div>\n",
       "<style scoped>\n",
       "    .dataframe tbody tr th:only-of-type {\n",
       "        vertical-align: middle;\n",
       "    }\n",
       "\n",
       "    .dataframe tbody tr th {\n",
       "        vertical-align: top;\n",
       "    }\n",
       "\n",
       "    .dataframe thead th {\n",
       "        text-align: right;\n",
       "    }\n",
       "</style>\n",
       "<table border=\"1\" class=\"dataframe\">\n",
       "  <thead>\n",
       "    <tr style=\"text-align: right;\">\n",
       "      <th></th>\n",
       "      <th>0</th>\n",
       "      <th>1</th>\n",
       "    </tr>\n",
       "  </thead>\n",
       "  <tbody>\n",
       "    <tr>\n",
       "      <th>0</th>\n",
       "      <td>So there is no way for me to plug it in here i...</td>\n",
       "      <td>0</td>\n",
       "    </tr>\n",
       "    <tr>\n",
       "      <th>1</th>\n",
       "      <td>Good case, Excellent value.</td>\n",
       "      <td>1</td>\n",
       "    </tr>\n",
       "    <tr>\n",
       "      <th>2</th>\n",
       "      <td>Great for the jawbone.</td>\n",
       "      <td>1</td>\n",
       "    </tr>\n",
       "    <tr>\n",
       "      <th>3</th>\n",
       "      <td>Tied to charger for conversations lasting more...</td>\n",
       "      <td>0</td>\n",
       "    </tr>\n",
       "    <tr>\n",
       "      <th>4</th>\n",
       "      <td>The mic is great.</td>\n",
       "      <td>1</td>\n",
       "    </tr>\n",
       "  </tbody>\n",
       "</table>\n",
       "</div>"
      ],
      "text/plain": [
       "                                                   0  1\n",
       "0  So there is no way for me to plug it in here i...  0\n",
       "1                        Good case, Excellent value.  1\n",
       "2                             Great for the jawbone.  1\n",
       "3  Tied to charger for conversations lasting more...  0\n",
       "4                                  The mic is great.  1"
      ]
     },
     "execution_count": 7,
     "metadata": {},
     "output_type": "execute_result"
    }
   ],
   "source": [
    "df.head()"
   ]
  },
  {
   "cell_type": "code",
   "execution_count": 8,
   "metadata": {},
   "outputs": [
    {
     "data": {
      "text/plain": [
       "(1000, 2)"
      ]
     },
     "execution_count": 8,
     "metadata": {},
     "output_type": "execute_result"
    }
   ],
   "source": [
    "df.shape"
   ]
  },
  {
   "cell_type": "markdown",
   "metadata": {},
   "source": [
    "단어 문서 행렬 만들기"
   ]
  },
  {
   "cell_type": "code",
   "execution_count": 9,
   "metadata": {},
   "outputs": [],
   "source": [
    "from sklearn.feature_extraction.text import CountVectorizer"
   ]
  },
  {
   "cell_type": "code",
   "execution_count": 10,
   "metadata": {},
   "outputs": [],
   "source": [
    "cv = CountVectorizer(max_features=1000, stop_words='english')\n",
    "# stop_words 불용어 한글의 경우 조사를 의미함. "
   ]
  },
  {
   "cell_type": "code",
   "execution_count": 11,
   "metadata": {},
   "outputs": [],
   "source": [
    "tdm = cv.fit_transform(df[0])"
   ]
  },
  {
   "cell_type": "code",
   "execution_count": 12,
   "metadata": {},
   "outputs": [
    {
     "data": {
      "text/plain": [
       "array([[0, 0, 0, ..., 0, 0, 0],\n",
       "       [0, 0, 0, ..., 0, 0, 0],\n",
       "       [0, 0, 0, ..., 0, 0, 0],\n",
       "       ...,\n",
       "       [0, 0, 0, ..., 0, 0, 0],\n",
       "       [0, 0, 0, ..., 0, 0, 0],\n",
       "       [0, 0, 0, ..., 0, 0, 0]], dtype=int64)"
      ]
     },
     "execution_count": 12,
     "metadata": {},
     "output_type": "execute_result"
    }
   ],
   "source": [
    "tdm.toarray()"
   ]
  },
  {
   "cell_type": "code",
   "execution_count": 13,
   "metadata": {},
   "outputs": [
    {
     "data": {
      "text/plain": [
       "['10',\n",
       " '100',\n",
       " '11',\n",
       " '12',\n",
       " '13',\n",
       " '15',\n",
       " '15g',\n",
       " '18',\n",
       " '20',\n",
       " '2000',\n",
       " '2005',\n",
       " '2160',\n",
       " '24',\n",
       " '2mp',\n",
       " '325',\n",
       " '350',\n",
       " '375',\n",
       " '3o',\n",
       " '42',\n",
       " '44',\n",
       " '45',\n",
       " '4s',\n",
       " '50',\n",
       " '5020',\n",
       " '510',\n",
       " '5320',\n",
       " '680',\n",
       " '700w',\n",
       " '8125',\n",
       " '8525',\n",
       " '8530',\n",
       " 'abhor',\n",
       " 'ability',\n",
       " 'able',\n",
       " 'abound',\n",
       " 'absolutel',\n",
       " 'absolutely',\n",
       " 'ac',\n",
       " 'accept',\n",
       " 'acceptable',\n",
       " 'access',\n",
       " 'accessory',\n",
       " 'accessoryone',\n",
       " 'accidentally',\n",
       " 'accompanied',\n",
       " 'actually',\n",
       " 'ad',\n",
       " 'adapter',\n",
       " 'adapters',\n",
       " 'add',\n",
       " 'addition',\n",
       " 'additional',\n",
       " 'address',\n",
       " 'adhesive',\n",
       " 'adorable',\n",
       " 'advertised',\n",
       " 'advise',\n",
       " 'aggravating',\n",
       " 'ago',\n",
       " 'alarm',\n",
       " 'allot',\n",
       " 'allow',\n",
       " 'allowing',\n",
       " 'allows',\n",
       " 'alot',\n",
       " 'aluminum',\n",
       " 'amazed',\n",
       " 'amazing',\n",
       " 'amazon',\n",
       " 'amp',\n",
       " 'ample',\n",
       " 'angeles',\n",
       " 'angle',\n",
       " 'answer',\n",
       " 'ant',\n",
       " 'antena',\n",
       " 'anti',\n",
       " 'apart',\n",
       " 'apartment',\n",
       " 'apparently',\n",
       " 'appealing',\n",
       " 'appearance',\n",
       " 'appears',\n",
       " 'applifies',\n",
       " 'appointments',\n",
       " 'area',\n",
       " 'arguing',\n",
       " 'armband',\n",
       " 'arrival',\n",
       " 'arrived',\n",
       " 'asia',\n",
       " 'ask',\n",
       " 'aspect',\n",
       " 'assumed',\n",
       " 'atleast',\n",
       " 'att',\n",
       " 'audio',\n",
       " 'auto',\n",
       " 'avoid',\n",
       " 'away',\n",
       " 'awesome',\n",
       " 'awful',\n",
       " 'background',\n",
       " 'bad',\n",
       " 'bar',\n",
       " 'barely',\n",
       " 'bargain',\n",
       " 'bars',\n",
       " 'basically',\n",
       " 'batteries',\n",
       " 'battery',\n",
       " 'beautiful',\n",
       " 'beep',\n",
       " 'belt',\n",
       " 'best',\n",
       " 'better',\n",
       " 'beware',\n",
       " 'big',\n",
       " 'bit',\n",
       " 'black',\n",
       " 'blackberry',\n",
       " 'blue',\n",
       " 'bluetooth',\n",
       " 'book',\n",
       " 'bother',\n",
       " 'bought',\n",
       " 'brand',\n",
       " 'break',\n",
       " 'breaking',\n",
       " 'breaks',\n",
       " 'broke',\n",
       " 'broken',\n",
       " 'bt',\n",
       " 'button',\n",
       " 'buttons',\n",
       " 'buy',\n",
       " 'buyer',\n",
       " 'buying',\n",
       " 'buzzing',\n",
       " 'cable',\n",
       " 'calls',\n",
       " 'came',\n",
       " 'camera',\n",
       " 'car',\n",
       " 'care',\n",
       " 'careful',\n",
       " 'case',\n",
       " 'cases',\n",
       " 'catching',\n",
       " 'caused',\n",
       " 'cell',\n",
       " 'cellphone',\n",
       " 'certainly',\n",
       " 'charge',\n",
       " 'charged',\n",
       " 'charger',\n",
       " 'chargers',\n",
       " 'charging',\n",
       " 'charm',\n",
       " 'cheap',\n",
       " 'cheaper',\n",
       " 'chinese',\n",
       " 'choice',\n",
       " 'cingular',\n",
       " 'clarity',\n",
       " 'clear',\n",
       " 'clearly',\n",
       " 'clip',\n",
       " 'color',\n",
       " 'come',\n",
       " 'comes',\n",
       " 'comfort',\n",
       " 'comfortable',\n",
       " 'comfortably',\n",
       " 'coming',\n",
       " 'company',\n",
       " 'complaint',\n",
       " 'completely',\n",
       " 'computer',\n",
       " 'connected',\n",
       " 'connection',\n",
       " 'construction',\n",
       " 'consumer',\n",
       " 'contacts',\n",
       " 'conversation',\n",
       " 'conversations',\n",
       " 'cool',\n",
       " 'costs',\n",
       " 'couldn',\n",
       " 'couple',\n",
       " 'cover',\n",
       " 'coverage',\n",
       " 'crap',\n",
       " 'crisp',\n",
       " 'cumbersome',\n",
       " 'current',\n",
       " 'customer',\n",
       " 'cut',\n",
       " 'd807',\n",
       " 'data',\n",
       " 'date',\n",
       " 'day',\n",
       " 'days',\n",
       " 'dead',\n",
       " 'deal',\n",
       " 'decent',\n",
       " 'decision',\n",
       " 'defective',\n",
       " 'definitely',\n",
       " 'described',\n",
       " 'description',\n",
       " 'design',\n",
       " 'despite',\n",
       " 'device',\n",
       " 'dialing',\n",
       " 'did',\n",
       " 'didn',\n",
       " 'died',\n",
       " 'different',\n",
       " 'difficult',\n",
       " 'disappointed',\n",
       " 'disappointing',\n",
       " 'disappointment',\n",
       " 'display',\n",
       " 'docking',\n",
       " 'does',\n",
       " 'doesn',\n",
       " 'don',\n",
       " 'dont',\n",
       " 'download',\n",
       " 'drain',\n",
       " 'driving',\n",
       " 'drop',\n",
       " 'dropped',\n",
       " 'dropping',\n",
       " 'drops',\n",
       " 'dying',\n",
       " 'ear',\n",
       " 'earbud',\n",
       " 'eargels',\n",
       " 'earpiece',\n",
       " 'earpieces',\n",
       " 'ears',\n",
       " 'ease',\n",
       " 'easier',\n",
       " 'easily',\n",
       " 'easy',\n",
       " 'echo',\n",
       " 'effect',\n",
       " 'embarrassing',\n",
       " 'end',\n",
       " 'ended',\n",
       " 'especially',\n",
       " 'essentially',\n",
       " 'exactly',\n",
       " 'excellent',\n",
       " 'exchanged',\n",
       " 'excited',\n",
       " 'expect',\n",
       " 'expected',\n",
       " 'expensive',\n",
       " 'experience',\n",
       " 'experienced',\n",
       " 'extended',\n",
       " 'extra',\n",
       " 'extremely',\n",
       " 'face',\n",
       " 'failed',\n",
       " 'fails',\n",
       " 'fall',\n",
       " 'family',\n",
       " 'fantastic',\n",
       " 'far',\n",
       " 'fast',\n",
       " 'feature',\n",
       " 'features',\n",
       " 'feel',\n",
       " 'feels',\n",
       " 'feet',\n",
       " 'felt',\n",
       " 'figure',\n",
       " 'finally',\n",
       " 'fine',\n",
       " 'fit',\n",
       " 'fits',\n",
       " 'flash',\n",
       " 'flaw',\n",
       " 'flawlessly',\n",
       " 'flimsy',\n",
       " 'flip',\n",
       " 'forced',\n",
       " 'forever',\n",
       " 'forget',\n",
       " 'form',\n",
       " 'free',\n",
       " 'friendly',\n",
       " 'functionality',\n",
       " 'games',\n",
       " 'gels',\n",
       " 'gets',\n",
       " 'getting',\n",
       " 'given',\n",
       " 'glad',\n",
       " 'glasses',\n",
       " 'goes',\n",
       " 'going',\n",
       " 'good',\n",
       " 'got',\n",
       " 'gotten',\n",
       " 'graphics',\n",
       " 'great',\n",
       " 'hand',\n",
       " 'hands',\n",
       " 'handsfree',\n",
       " 'handy',\n",
       " 'happier',\n",
       " 'happy',\n",
       " 'hard',\n",
       " 'hate',\n",
       " 'having',\n",
       " 'headphones',\n",
       " 'headset',\n",
       " 'headsets',\n",
       " 'hear',\n",
       " 'helpful',\n",
       " 'high',\n",
       " 'highly',\n",
       " 'hold',\n",
       " 'holding',\n",
       " 'holds',\n",
       " 'holster',\n",
       " 'home',\n",
       " 'hoping',\n",
       " 'horrible',\n",
       " 'hour',\n",
       " 'hours',\n",
       " 'house',\n",
       " 'huge',\n",
       " 'igo',\n",
       " 'im',\n",
       " 'important',\n",
       " 'impressed',\n",
       " 'impressive',\n",
       " 'included',\n",
       " 'incredible',\n",
       " 'inside',\n",
       " 'install',\n",
       " 'instead',\n",
       " 'instructions',\n",
       " 'internet',\n",
       " 'iphone',\n",
       " 'ipod',\n",
       " 'issues',\n",
       " 'item',\n",
       " 'jabra',\n",
       " 'jawbone',\n",
       " 'job',\n",
       " 'joke',\n",
       " 'junk',\n",
       " 'just',\n",
       " 'kept',\n",
       " 'keyboard',\n",
       " 'keypad',\n",
       " 'kind',\n",
       " 'know',\n",
       " 'lacking',\n",
       " 'laptop',\n",
       " 'large',\n",
       " 'lasting',\n",
       " 'lasts',\n",
       " 'later',\n",
       " 'leather',\n",
       " 'left',\n",
       " 'let',\n",
       " 'lg',\n",
       " 'life',\n",
       " 'light',\n",
       " 'lightweight',\n",
       " 'like',\n",
       " 'line',\n",
       " 'listening',\n",
       " 'literally',\n",
       " 'little',\n",
       " 'll',\n",
       " 'lock',\n",
       " 'logitech',\n",
       " 'long',\n",
       " 'longer',\n",
       " 'look',\n",
       " 'looking',\n",
       " 'looks',\n",
       " 'lose',\n",
       " 'lost',\n",
       " 'lot',\n",
       " 'loud',\n",
       " 'love',\n",
       " 'loves',\n",
       " 'low',\n",
       " 'maintain',\n",
       " 'make',\n",
       " 'makes',\n",
       " 'making',\n",
       " 'market',\n",
       " 'match',\n",
       " 'mess',\n",
       " 'mic',\n",
       " 'microphone',\n",
       " 'minutes',\n",
       " 'mistake',\n",
       " 'mobile',\n",
       " 'model',\n",
       " 'money',\n",
       " 'month',\n",
       " 'months',\n",
       " 'moto',\n",
       " 'motorola',\n",
       " 'mp3',\n",
       " 'music',\n",
       " 'nearly',\n",
       " 'need',\n",
       " 'needed',\n",
       " 'network',\n",
       " 'new',\n",
       " 'nice',\n",
       " 'noise',\n",
       " 'nokia',\n",
       " 'normal',\n",
       " 'notice',\n",
       " 'noticed',\n",
       " 'number',\n",
       " 'numerous',\n",
       " 'obviously',\n",
       " 'oh',\n",
       " 'ok',\n",
       " 'old',\n",
       " 'operate',\n",
       " 'order',\n",
       " 'ordered',\n",
       " 'original',\n",
       " 'outlet',\n",
       " 'overall',\n",
       " 'override',\n",
       " 'owned',\n",
       " 'packaged',\n",
       " 'pair',\n",
       " 'paired',\n",
       " 'pairing',\n",
       " 'palm',\n",
       " 'particular',\n",
       " 'party',\n",
       " 'pay',\n",
       " 'pc',\n",
       " 'pda',\n",
       " 'people',\n",
       " 'perfectly',\n",
       " 'performance',\n",
       " 'periods',\n",
       " 'person',\n",
       " 'petroleum',\n",
       " 'phone',\n",
       " 'phones',\n",
       " 'photo',\n",
       " 'pics',\n",
       " 'picture',\n",
       " 'pictures',\n",
       " 'piece',\n",
       " 'pitiful',\n",
       " 'pixel',\n",
       " 'place',\n",
       " 'placed',\n",
       " 'places',\n",
       " 'plan',\n",
       " 'planning',\n",
       " 'plans',\n",
       " 'plantronics',\n",
       " 'plantronincs',\n",
       " 'plastic',\n",
       " 'play',\n",
       " 'player',\n",
       " 'players',\n",
       " 'plays',\n",
       " 'pleasantly',\n",
       " 'pleased',\n",
       " 'pleather',\n",
       " 'plenty',\n",
       " 'plug',\n",
       " 'plugged',\n",
       " 'plugs',\n",
       " 'plus',\n",
       " 'pocket',\n",
       " 'pockets',\n",
       " 'point',\n",
       " 'poor',\n",
       " 'poorly',\n",
       " 'port',\n",
       " 'portable',\n",
       " 'portraits',\n",
       " 'possesed',\n",
       " 'possibility',\n",
       " 'posted',\n",
       " 'potentially',\n",
       " 'power',\n",
       " 'practical',\n",
       " 'practically',\n",
       " 'practice',\n",
       " 'preferably',\n",
       " 'premium',\n",
       " 'prettier',\n",
       " 'pretty',\n",
       " 'prevents',\n",
       " 'previous',\n",
       " 'price',\n",
       " 'priced',\n",
       " 'pricing',\n",
       " 'prime',\n",
       " 'print',\n",
       " 'probably',\n",
       " 'problem',\n",
       " 'problems',\n",
       " 'procedure',\n",
       " 'procedures',\n",
       " 'produce',\n",
       " 'product',\n",
       " 'products',\n",
       " 'program',\n",
       " 'promised',\n",
       " 'prompt',\n",
       " 'promptly',\n",
       " 'properly',\n",
       " 'pros',\n",
       " 'protected',\n",
       " 'protection',\n",
       " 'protective',\n",
       " 'protector',\n",
       " 'protects',\n",
       " 'provide',\n",
       " 'provided',\n",
       " 'provides',\n",
       " 'ps3',\n",
       " 'psyched',\n",
       " 'puff',\n",
       " 'pull',\n",
       " 'purcashed',\n",
       " 'purchase',\n",
       " 'purchased',\n",
       " 'purchases',\n",
       " 'purchasing',\n",
       " 'purpose',\n",
       " 'push',\n",
       " 'pushed',\n",
       " 'quality',\n",
       " 'quick',\n",
       " 'quickly',\n",
       " 'quiet',\n",
       " 'quit',\n",
       " 'quite',\n",
       " 'qwerty',\n",
       " 'r450',\n",
       " 'randomly',\n",
       " 'range',\n",
       " 'rare',\n",
       " 'rate',\n",
       " 'rated',\n",
       " 'rating',\n",
       " 'razor',\n",
       " 'razr',\n",
       " 'reach',\n",
       " 'reaching',\n",
       " 'read',\n",
       " 'reading',\n",
       " 'ready',\n",
       " 'real',\n",
       " 'realize',\n",
       " 'really',\n",
       " 'reason',\n",
       " 'reasonable',\n",
       " 'reasonably',\n",
       " 'reboots',\n",
       " 'reccomendation',\n",
       " 'reccommend',\n",
       " 'receipt',\n",
       " 'receive',\n",
       " 'received',\n",
       " 'receiving',\n",
       " 'recently',\n",
       " 'reception',\n",
       " 'recessed',\n",
       " 'recharge',\n",
       " 'recieve',\n",
       " 'recognition',\n",
       " 'recognizes',\n",
       " 'recommend',\n",
       " 'recommended',\n",
       " 'red',\n",
       " 'refund',\n",
       " 'refurb',\n",
       " 'refuse',\n",
       " 'refused',\n",
       " 'regarding',\n",
       " 'regret',\n",
       " 'regretted',\n",
       " 'relative',\n",
       " 'relatively',\n",
       " 'reliability',\n",
       " 'remorse',\n",
       " 'removing',\n",
       " 'renders',\n",
       " 'reoccure',\n",
       " 'replace',\n",
       " 'replaced',\n",
       " 'replacement',\n",
       " 'replacementr',\n",
       " 'requirements',\n",
       " 'research',\n",
       " 'resistant',\n",
       " 'resolution',\n",
       " 'respect',\n",
       " 'rest',\n",
       " 'restart',\n",
       " 'restocking',\n",
       " 'restored',\n",
       " 'rests',\n",
       " 'results',\n",
       " 'return',\n",
       " 'returned',\n",
       " 'returning',\n",
       " 'reverse',\n",
       " 'reversible',\n",
       " 'review',\n",
       " 'reviews',\n",
       " 'ride',\n",
       " 'right',\n",
       " 'riingtones',\n",
       " 'ring',\n",
       " 'ringer',\n",
       " 'ringing',\n",
       " 'ringtones',\n",
       " 'rip',\n",
       " 'ripped',\n",
       " 'risk',\n",
       " 'roam',\n",
       " 'rocketed',\n",
       " 'rocks',\n",
       " 'roles',\n",
       " 'room',\n",
       " 'rotating',\n",
       " 'row',\n",
       " 'rubber',\n",
       " 'run',\n",
       " 'runs',\n",
       " 's11',\n",
       " 's710a',\n",
       " 'saggy',\n",
       " 'said',\n",
       " 'samsung',\n",
       " 'sanyo',\n",
       " 'satisfied',\n",
       " 'satisifed',\n",
       " 'save',\n",
       " 'saved',\n",
       " 'say',\n",
       " 'saying',\n",
       " 'says',\n",
       " 'scary',\n",
       " 'sch',\n",
       " 'scratch',\n",
       " 'scratched',\n",
       " 'screen',\n",
       " 'screens',\n",
       " 'seamlessly',\n",
       " 'searched',\n",
       " 'seat',\n",
       " 'seconds',\n",
       " 'secure',\n",
       " 'securely',\n",
       " 'securly',\n",
       " 'seeen',\n",
       " 'seen',\n",
       " 'self',\n",
       " 'seller',\n",
       " 'send',\n",
       " 'sending',\n",
       " 'sensitive',\n",
       " 'sensor',\n",
       " 'sent',\n",
       " 'seperated',\n",
       " 'series',\n",
       " 'seriously',\n",
       " 'service',\n",
       " 'set',\n",
       " 'setting',\n",
       " 'setup',\n",
       " 'severe',\n",
       " 'sex',\n",
       " 'shape',\n",
       " 'share',\n",
       " 'sharp',\n",
       " 'shield',\n",
       " 'shifting',\n",
       " 'shine',\n",
       " 'shiny',\n",
       " 'shipment',\n",
       " 'shipped',\n",
       " 'shipping',\n",
       " 'shooters',\n",
       " 'short',\n",
       " 'shots',\n",
       " 'shouldn',\n",
       " 'shouldve',\n",
       " 'shouting',\n",
       " 'shows',\n",
       " 'sides',\n",
       " 'sight',\n",
       " 'signal',\n",
       " 'signals',\n",
       " 'significantly',\n",
       " 'signs',\n",
       " 'sim',\n",
       " 'simple',\n",
       " 'simpler',\n",
       " 'simply',\n",
       " 'sins',\n",
       " 'sister',\n",
       " 'sitting',\n",
       " 'situations',\n",
       " 'size',\n",
       " 'sizes',\n",
       " 'sketchy',\n",
       " 'skip',\n",
       " 'skype',\n",
       " 'sleek',\n",
       " 'slid',\n",
       " 'slide',\n",
       " 'slider',\n",
       " 'sliding',\n",
       " 'slim',\n",
       " 'slipping',\n",
       " 'slow',\n",
       " 'slowly',\n",
       " 'small',\n",
       " 'smallest',\n",
       " 'smartphone',\n",
       " 'smell',\n",
       " 'smoke',\n",
       " 'smoking',\n",
       " 'smoother',\n",
       " 'smoothly',\n",
       " 'smudged',\n",
       " 'snap',\n",
       " 'snug',\n",
       " 'soft',\n",
       " 'software',\n",
       " 'sold',\n",
       " 'solid',\n",
       " 'somewhat',\n",
       " 'songs',\n",
       " 'sony',\n",
       " 'sound',\n",
       " 'sounded',\n",
       " 'sounds',\n",
       " 'speaker',\n",
       " 'spring',\n",
       " 'sprint',\n",
       " 'star',\n",
       " 'stars',\n",
       " 'started',\n",
       " 'starts',\n",
       " 'stated',\n",
       " 'static',\n",
       " 'station',\n",
       " 'stay',\n",
       " 'storage',\n",
       " 'store',\n",
       " 'strong',\n",
       " 'stuck',\n",
       " 'study',\n",
       " 'stuff',\n",
       " 'stupid',\n",
       " 'sturdiness',\n",
       " 'sturdy',\n",
       " 'styles',\n",
       " 'styling',\n",
       " 'stylish',\n",
       " 'submerged',\n",
       " 'sucked',\n",
       " 'sucks',\n",
       " 'sudden',\n",
       " 'suddenly',\n",
       " 'sunglasses',\n",
       " 'super',\n",
       " 'superb',\n",
       " 'superfast',\n",
       " 'supertooth',\n",
       " 'support',\n",
       " 'supposedly',\n",
       " 'suprised',\n",
       " 'sure',\n",
       " 'switch',\n",
       " 'takes',\n",
       " 'talk',\n",
       " 'tech',\n",
       " 'technology',\n",
       " 'tell',\n",
       " 'terrible',\n",
       " 'thank',\n",
       " 'thanks',\n",
       " 'thats',\n",
       " 'theory',\n",
       " 'thereplacement',\n",
       " 'thing',\n",
       " 'things',\n",
       " 'think',\n",
       " 'thorn',\n",
       " 'thought',\n",
       " 'threw',\n",
       " 'thumbs',\n",
       " 'tick',\n",
       " 'ticking',\n",
       " 'tied',\n",
       " 'tight',\n",
       " 'time',\n",
       " 'timeframe',\n",
       " 'timely',\n",
       " 'times',\n",
       " 'tinny',\n",
       " 'tiny',\n",
       " 'tips',\n",
       " 'tmobile',\n",
       " 'toactivate',\n",
       " 'toast',\n",
       " 'today',\n",
       " 'toilet',\n",
       " 'told',\n",
       " 'tone',\n",
       " 'tones',\n",
       " 'took',\n",
       " 'tool',\n",
       " 'tools',\n",
       " 'tooth',\n",
       " 'total',\n",
       " 'totally',\n",
       " 'touch',\n",
       " 'touches',\n",
       " 'tracfone',\n",
       " 'tracfonewebsite',\n",
       " 'tracking',\n",
       " 'transceiver',\n",
       " 'transfer',\n",
       " 'transformed',\n",
       " 'transmission',\n",
       " 'transmit',\n",
       " 'transmitters',\n",
       " 'trash',\n",
       " 'travled',\n",
       " 'tremendous',\n",
       " 'treo',\n",
       " 'tricky',\n",
       " 'tried',\n",
       " 'tries',\n",
       " 'trouble',\n",
       " 'truly',\n",
       " 'trunk',\n",
       " 'trust',\n",
       " 'try',\n",
       " 'trying',\n",
       " 'tungsten',\n",
       " 'turn',\n",
       " 'turned',\n",
       " 'turns',\n",
       " 'tv',\n",
       " 'type',\n",
       " 'ugly',\n",
       " 'unacceptable',\n",
       " 'unacceptible',\n",
       " 'unbearable',\n",
       " 'uncomfortable',\n",
       " 'understand',\n",
       " 'understanding',\n",
       " 'unfortunately',\n",
       " 'unhappy',\n",
       " 'unintelligible',\n",
       " 'unit',\n",
       " 'units',\n",
       " 'unknown',\n",
       " 'unless',\n",
       " 'unlike',\n",
       " 'unreliable',\n",
       " 'unsatisfactory',\n",
       " 'unusable',\n",
       " 'upbeat',\n",
       " 'update',\n",
       " 'upgrade',\n",
       " 'upload',\n",
       " 'upstairs',\n",
       " 'usable',\n",
       " 'usage',\n",
       " 'usb',\n",
       " 'use',\n",
       " 'used',\n",
       " 'useful',\n",
       " 'usefulness',\n",
       " 'useless',\n",
       " 'user',\n",
       " 'using',\n",
       " 'usually',\n",
       " 'utter',\n",
       " 'utterly',\n",
       " 'v1',\n",
       " 'v265',\n",
       " 'v325i',\n",
       " 'v3c',\n",
       " 'v3i',\n",
       " 'value',\n",
       " 've',\n",
       " 'vehicle',\n",
       " 'verizon',\n",
       " 'video',\n",
       " 'videos',\n",
       " 'virgin',\n",
       " 'visor',\n",
       " 'voice',\n",
       " 'voltage',\n",
       " 'volume',\n",
       " 'vx',\n",
       " 'vx9900',\n",
       " 'w810i',\n",
       " 'waaay',\n",
       " 'waiting',\n",
       " 'wake',\n",
       " 'walked',\n",
       " 'walkman',\n",
       " 'wall',\n",
       " 'wallet',\n",
       " 'want',\n",
       " 'wanted',\n",
       " 'warning',\n",
       " 'warranty',\n",
       " 'wasn',\n",
       " 'waste',\n",
       " 'wasted',\n",
       " 'wasting',\n",
       " 'waterproof',\n",
       " 'way',\n",
       " 'weak',\n",
       " 'wear',\n",
       " 'wearing',\n",
       " 'web',\n",
       " 'website',\n",
       " 'websites',\n",
       " 'week',\n",
       " 'weeks',\n",
       " 'weight',\n",
       " 'weird',\n",
       " 'went',\n",
       " 'whatsoever',\n",
       " 'whine',\n",
       " 'whistles',\n",
       " 'white',\n",
       " 'whoa',\n",
       " 'wi',\n",
       " 'wife',\n",
       " 'wild',\n",
       " 'wind',\n",
       " 'window',\n",
       " 'windows',\n",
       " 'winner',\n",
       " 'wiping',\n",
       " 'wire',\n",
       " 'wired',\n",
       " 'wirefly',\n",
       " 'wireless',\n",
       " 'wise',\n",
       " 'wish',\n",
       " 'wit',\n",
       " 'wobbly',\n",
       " 'won',\n",
       " 'wonder',\n",
       " 'wonderfully',\n",
       " 'wont',\n",
       " 'wood',\n",
       " 'wooden',\n",
       " 'word',\n",
       " 'work',\n",
       " 'worked',\n",
       " 'working',\n",
       " 'works',\n",
       " 'world',\n",
       " 'worn',\n",
       " 'worst',\n",
       " 'worth',\n",
       " 'worthless',\n",
       " 'worthwhile',\n",
       " 'wouldn',\n",
       " 'wow',\n",
       " 'wrong',\n",
       " 'wrongly',\n",
       " 'year',\n",
       " 'years',\n",
       " 'yell',\n",
       " 'yes']"
      ]
     },
     "execution_count": 13,
     "metadata": {},
     "output_type": "execute_result"
    }
   ],
   "source": [
    "cv.get_feature_names()"
   ]
  },
  {
   "cell_type": "markdown",
   "metadata": {},
   "source": [
    "훈련용 데이터(800개)와 테스트용 데이터(200개) 나누기"
   ]
  },
  {
   "cell_type": "code",
   "execution_count": 14,
   "metadata": {},
   "outputs": [],
   "source": [
    "x_train = tdm[:800]\n",
    "x_test = tdm[800:]\n",
    "y_train = df.iloc[:800, 1]\n",
    "y_test = df.iloc[800:, 1]"
   ]
  },
  {
   "cell_type": "markdown",
   "metadata": {},
   "source": [
    "## 선형 모형"
   ]
  },
  {
   "cell_type": "code",
   "execution_count": 1,
   "metadata": {},
   "outputs": [
    {
     "name": "stderr",
     "output_type": "stream",
     "text": [
      "C:\\Users\\hyoun\\Anaconda3\\lib\\site-packages\\h5py\\__init__.py:36: FutureWarning: Conversion of the second argument of issubdtype from `float` to `np.floating` is deprecated. In future, it will be treated as `np.float64 == np.dtype(float).type`.\n",
      "  from ._conv import register_converters as _register_converters\n"
     ]
    }
   ],
   "source": [
    "import tensorflow as tf"
   ]
  },
  {
   "cell_type": "code",
   "execution_count": 2,
   "metadata": {},
   "outputs": [],
   "source": [
    "tf.enable_eager_execution()"
   ]
  },
  {
   "cell_type": "markdown",
   "metadata": {},
   "source": [
    "1000개의 단어를 입력 받아 1개의 예측(긍/부정)을 하는 선형 모형. 시그모이드(로지스틱) 활성화 함수를 사용."
   ]
  },
  {
   "cell_type": "code",
   "execution_count": 15,
   "metadata": {},
   "outputs": [
    {
     "name": "stdout",
     "output_type": "stream",
     "text": [
      "WARNING:tensorflow:From C:\\Users\\hyoun\\Anaconda3\\lib\\site-packages\\tensorflow\\python\\ops\\resource_variable_ops.py:642: colocate_with (from tensorflow.python.framework.ops) is deprecated and will be removed in a future version.\n",
      "Instructions for updating:\n",
      "Colocations handled automatically by placer.\n"
     ]
    }
   ],
   "source": [
    "model = tf.keras.models.Sequential()\n",
    "model.add(tf.keras.layers.Dense(1, input_shape=(1000,), activation='sigmoid')) "
   ]
  },
  {
   "cell_type": "markdown",
   "metadata": {},
   "source": [
    "모형 요약: 파라미터의 수는 단어별 가중치 1000개 + 절편 1개 = 1001개"
   ]
  },
  {
   "cell_type": "code",
   "execution_count": 16,
   "metadata": {},
   "outputs": [
    {
     "name": "stdout",
     "output_type": "stream",
     "text": [
      "_________________________________________________________________\n",
      "Layer (type)                 Output Shape              Param #   \n",
      "=================================================================\n",
      "dense (Dense)                (None, 1)                 1001      \n",
      "=================================================================\n",
      "Total params: 1,001\n",
      "Trainable params: 1,001\n",
      "Non-trainable params: 0\n",
      "_________________________________________________________________\n"
     ]
    }
   ],
   "source": [
    "model.summary()"
   ]
  },
  {
   "cell_type": "markdown",
   "metadata": {},
   "source": [
    "학습 준비. 학습 알고리즘(`optimizer`)는 `adam`을 사용. 손실함수(`loss`)는 교차 엔트로피(`binary_crossentropy`). 보조적인 지표로 정확도(accurary)를 사용. accuracy란 전체 사례 중 몇 맞은 사례의 비율"
   ]
  },
  {
   "cell_type": "code",
   "execution_count": 17,
   "metadata": {},
   "outputs": [],
   "source": [
    "model.compile(optimizer='adam', loss='binary_crossentropy', metrics=['accuracy'])"
   ]
  },
  {
   "cell_type": "markdown",
   "metadata": {},
   "source": [
    "학습. `batch_size`는 한 번에 데이터를 입력하는 크기. 학습용 데이터가 모두 800개이므로 40개씩 20번 입력하면 모든 데이터를 한 번씩 입력하게 됨. 이를 1 에포크(epoch)라고 함. 아래는 총 10 에포크를 진행.\n",
    "\n",
    "학습을 시키면 최종 loss는 0.6092, 정확도는 86%임. (실행할 때마다 달라질 수 있음)"
   ]
  },
  {
   "cell_type": "code",
   "execution_count": 18,
   "metadata": {},
   "outputs": [
    {
     "name": "stdout",
     "output_type": "stream",
     "text": [
      "WARNING:tensorflow:From C:\\Users\\hyoun\\Anaconda3\\lib\\site-packages\\tensorflow\\python\\ops\\math_ops.py:3066: to_int32 (from tensorflow.python.ops.math_ops) is deprecated and will be removed in a future version.\n",
      "Instructions for updating:\n",
      "Use tf.cast instead.\n",
      "Epoch 1/10\n",
      "800/800 [==============================] - 1s 2ms/sample - loss: 0.6870 - acc: 0.5562\n",
      "Epoch 2/10\n",
      "800/800 [==============================] - 0s 101us/sample - loss: 0.6782 - acc: 0.6162\n",
      "Epoch 3/10\n",
      "800/800 [==============================] - 0s 105us/sample - loss: 0.6699 - acc: 0.6575\n",
      "Epoch 4/10\n",
      "800/800 [==============================] - 0s 100us/sample - loss: 0.6618 - acc: 0.7050\n",
      "Epoch 5/10\n",
      "800/800 [==============================] - 0s 101us/sample - loss: 0.6539 - acc: 0.7400\n",
      "Epoch 6/10\n",
      "800/800 [==============================] - 0s 98us/sample - loss: 0.6461 - acc: 0.7725\n",
      "Epoch 7/10\n",
      "800/800 [==============================] - 0s 99us/sample - loss: 0.6385 - acc: 0.8100\n",
      "Epoch 8/10\n",
      "800/800 [==============================] - 0s 98us/sample - loss: 0.6312 - acc: 0.8400\n",
      "Epoch 9/10\n",
      "800/800 [==============================] - 0s 95us/sample - loss: 0.6239 - acc: 0.8562\n",
      "Epoch 10/10\n",
      "800/800 [==============================] - 0s 98us/sample - loss: 0.6167 - acc: 0.8675\n"
     ]
    },
    {
     "data": {
      "text/plain": [
       "<tensorflow.python.keras.callbacks.History at 0x25a7a0e6e48>"
      ]
     },
     "execution_count": 18,
     "metadata": {},
     "output_type": "execute_result"
    }
   ],
   "source": [
    "model.fit(x_train, y_train, batch_size=40, epochs=10)"
   ]
  },
  {
   "cell_type": "markdown",
   "metadata": {},
   "source": [
    "테스트 데이터로 모형을 평가. loss는 0.6491, 정확도는 74%로 훈련용 데이터보다 성능이 낮아졌음. 과적합이 발생했음을 알 수 있음."
   ]
  },
  {
   "cell_type": "code",
   "execution_count": 19,
   "metadata": {},
   "outputs": [
    {
     "name": "stdout",
     "output_type": "stream",
     "text": [
      "200/200 [==============================] - 0s 401us/sample - loss: 0.6578 - acc: 0.7200\n"
     ]
    },
    {
     "data": {
      "text/plain": [
       "[0.6577629709243774, 0.72]"
      ]
     },
     "execution_count": 19,
     "metadata": {},
     "output_type": "execute_result"
    }
   ],
   "source": [
    "model.evaluate(x_test, y_test)"
   ]
  },
  {
   "cell_type": "markdown",
   "metadata": {},
   "source": [
    "## 가중치 확인"
   ]
  },
  {
   "cell_type": "code",
   "execution_count": 20,
   "metadata": {},
   "outputs": [],
   "source": [
    "weight, bias = model.trainable_weights"
   ]
  },
  {
   "cell_type": "code",
   "execution_count": 21,
   "metadata": {},
   "outputs": [
    {
     "name": "stderr",
     "output_type": "stream",
     "text": [
      "C:\\Users\\hyoun\\Anaconda3\\lib\\site-packages\\pandas\\core\\dtypes\\dtypes.py:458: FutureWarning: elementwise comparison failed; returning scalar instead, but in the future will perform elementwise comparison\n",
      "  if string == 'category':\n"
     ]
    }
   ],
   "source": [
    "word_weight = pd.DataFrame({\n",
    "    '단어': cv.get_feature_names(),\n",
    "    '가중치': weight.numpy().flat\n",
    "})"
   ]
  },
  {
   "cell_type": "markdown",
   "metadata": {},
   "source": [
    "가중치 순으로 정렬하여 가중치가 낮은(-)인 단어들을 확인. 이 단어들이 많이 나타나는 리뷰는 부정(0)일 확률이 높음"
   ]
  },
  {
   "cell_type": "code",
   "execution_count": 22,
   "metadata": {},
   "outputs": [
    {
     "data": {
      "text/html": [
       "<div>\n",
       "<style scoped>\n",
       "    .dataframe tbody tr th:only-of-type {\n",
       "        vertical-align: middle;\n",
       "    }\n",
       "\n",
       "    .dataframe tbody tr th {\n",
       "        vertical-align: top;\n",
       "    }\n",
       "\n",
       "    .dataframe thead th {\n",
       "        text-align: right;\n",
       "    }\n",
       "</style>\n",
       "<table border=\"1\" class=\"dataframe\">\n",
       "  <thead>\n",
       "    <tr style=\"text-align: right;\">\n",
       "      <th></th>\n",
       "      <th>단어</th>\n",
       "      <th>가중치</th>\n",
       "    </tr>\n",
       "  </thead>\n",
       "  <tbody>\n",
       "    <tr>\n",
       "      <th>988</th>\n",
       "      <td>worst</td>\n",
       "      <td>-0.180307</td>\n",
       "    </tr>\n",
       "    <tr>\n",
       "      <th>358</th>\n",
       "      <td>junk</td>\n",
       "      <td>-0.161844</td>\n",
       "    </tr>\n",
       "    <tr>\n",
       "      <th>803</th>\n",
       "      <td>terrible</td>\n",
       "      <td>-0.149051</td>\n",
       "    </tr>\n",
       "    <tr>\n",
       "      <th>713</th>\n",
       "      <td>signal</td>\n",
       "      <td>-0.146441</td>\n",
       "    </tr>\n",
       "    <tr>\n",
       "      <th>203</th>\n",
       "      <td>dead</td>\n",
       "      <td>-0.144985</td>\n",
       "    </tr>\n",
       "  </tbody>\n",
       "</table>\n",
       "</div>"
      ],
      "text/plain": [
       "           단어       가중치\n",
       "988     worst -0.180307\n",
       "358      junk -0.161844\n",
       "803  terrible -0.149051\n",
       "713    signal -0.146441\n",
       "203      dead -0.144985"
      ]
     },
     "execution_count": 22,
     "metadata": {},
     "output_type": "execute_result"
    }
   ],
   "source": [
    "word_weight.sort_values('가중치').head()"
   ]
  },
  {
   "cell_type": "markdown",
   "metadata": {},
   "source": [
    "가중치 순으로 정렬하여 가중치가 높은(+)인 단어들을 확인. 이 단어들이 많이 나타나는 리뷰는 긍정(1)일 확률이 높음"
   ]
  },
  {
   "cell_type": "code",
   "execution_count": 23,
   "metadata": {},
   "outputs": [
    {
     "data": {
      "text/html": [
       "<div>\n",
       "<style scoped>\n",
       "    .dataframe tbody tr th:only-of-type {\n",
       "        vertical-align: middle;\n",
       "    }\n",
       "\n",
       "    .dataframe tbody tr th {\n",
       "        vertical-align: top;\n",
       "    }\n",
       "\n",
       "    .dataframe thead th {\n",
       "        text-align: right;\n",
       "    }\n",
       "</style>\n",
       "<table border=\"1\" class=\"dataframe\">\n",
       "  <thead>\n",
       "    <tr style=\"text-align: right;\">\n",
       "      <th></th>\n",
       "      <th>단어</th>\n",
       "      <th>가중치</th>\n",
       "    </tr>\n",
       "  </thead>\n",
       "  <tbody>\n",
       "    <tr>\n",
       "      <th>284</th>\n",
       "      <td>fits</td>\n",
       "      <td>0.150419</td>\n",
       "    </tr>\n",
       "    <tr>\n",
       "      <th>100</th>\n",
       "      <td>awesome</td>\n",
       "      <td>0.157434</td>\n",
       "    </tr>\n",
       "    <tr>\n",
       "      <th>114</th>\n",
       "      <td>best</td>\n",
       "      <td>0.186057</td>\n",
       "    </tr>\n",
       "    <tr>\n",
       "      <th>985</th>\n",
       "      <td>works</td>\n",
       "      <td>0.208661</td>\n",
       "    </tr>\n",
       "    <tr>\n",
       "      <th>310</th>\n",
       "      <td>great</td>\n",
       "      <td>0.235184</td>\n",
       "    </tr>\n",
       "  </tbody>\n",
       "</table>\n",
       "</div>"
      ],
      "text/plain": [
       "          단어       가중치\n",
       "284     fits  0.150419\n",
       "100  awesome  0.157434\n",
       "114     best  0.186057\n",
       "985    works  0.208661\n",
       "310    great  0.235184"
      ]
     },
     "execution_count": 23,
     "metadata": {},
     "output_type": "execute_result"
    }
   ],
   "source": [
    "word_weight.sort_values('가중치').tail()"
   ]
  },
  {
   "cell_type": "markdown",
   "metadata": {},
   "source": [
    "## 한국어 감성 분석\n",
    "\n",
    "Naver Sentiment Movie Corpus를 이용해 한국어 감성 분석을 실시한다.\n",
    "\n",
    "먼저 데이터를 다운받는다."
   ]
  },
  {
   "cell_type": "code",
   "execution_count": 24,
   "metadata": {},
   "outputs": [],
   "source": [
    "res = requests.get('https://github.com/e9t/nsmc/raw/master/ratings_train.txt')\n",
    "with open('nsmc_train.csv', 'wb') as f:\n",
    "    f.write(res.content)"
   ]
  },
  {
   "cell_type": "markdown",
   "metadata": {},
   "source": [
    "데이터를 연다."
   ]
  },
  {
   "cell_type": "code",
   "execution_count": 25,
   "metadata": {},
   "outputs": [],
   "source": [
    "nsmc = pd.read_csv('nsmc_train.csv', sep='\\t')"
   ]
  },
  {
   "cell_type": "code",
   "execution_count": 26,
   "metadata": {},
   "outputs": [
    {
     "data": {
      "text/plain": [
       "(150000, 3)"
      ]
     },
     "execution_count": 26,
     "metadata": {},
     "output_type": "execute_result"
    }
   ],
   "source": [
    "nsmc.shape"
   ]
  },
  {
   "cell_type": "code",
   "execution_count": 27,
   "metadata": {},
   "outputs": [
    {
     "data": {
      "text/html": [
       "<div>\n",
       "<style scoped>\n",
       "    .dataframe tbody tr th:only-of-type {\n",
       "        vertical-align: middle;\n",
       "    }\n",
       "\n",
       "    .dataframe tbody tr th {\n",
       "        vertical-align: top;\n",
       "    }\n",
       "\n",
       "    .dataframe thead th {\n",
       "        text-align: right;\n",
       "    }\n",
       "</style>\n",
       "<table border=\"1\" class=\"dataframe\">\n",
       "  <thead>\n",
       "    <tr style=\"text-align: right;\">\n",
       "      <th></th>\n",
       "      <th>id</th>\n",
       "      <th>document</th>\n",
       "      <th>label</th>\n",
       "    </tr>\n",
       "  </thead>\n",
       "  <tbody>\n",
       "    <tr>\n",
       "      <th>0</th>\n",
       "      <td>9976970</td>\n",
       "      <td>아 더빙.. 진짜 짜증나네요 목소리</td>\n",
       "      <td>0</td>\n",
       "    </tr>\n",
       "    <tr>\n",
       "      <th>1</th>\n",
       "      <td>3819312</td>\n",
       "      <td>흠...포스터보고 초딩영화줄....오버연기조차 가볍지 않구나</td>\n",
       "      <td>1</td>\n",
       "    </tr>\n",
       "    <tr>\n",
       "      <th>2</th>\n",
       "      <td>10265843</td>\n",
       "      <td>너무재밓었다그래서보는것을추천한다</td>\n",
       "      <td>0</td>\n",
       "    </tr>\n",
       "    <tr>\n",
       "      <th>3</th>\n",
       "      <td>9045019</td>\n",
       "      <td>교도소 이야기구먼 ..솔직히 재미는 없다..평점 조정</td>\n",
       "      <td>0</td>\n",
       "    </tr>\n",
       "    <tr>\n",
       "      <th>4</th>\n",
       "      <td>6483659</td>\n",
       "      <td>사이몬페그의 익살스런 연기가 돋보였던 영화!스파이더맨에서 늙어보이기만 했던 커스틴 ...</td>\n",
       "      <td>1</td>\n",
       "    </tr>\n",
       "  </tbody>\n",
       "</table>\n",
       "</div>"
      ],
      "text/plain": [
       "         id                                           document  label\n",
       "0   9976970                                아 더빙.. 진짜 짜증나네요 목소리      0\n",
       "1   3819312                  흠...포스터보고 초딩영화줄....오버연기조차 가볍지 않구나      1\n",
       "2  10265843                                  너무재밓었다그래서보는것을추천한다      0\n",
       "3   9045019                      교도소 이야기구먼 ..솔직히 재미는 없다..평점 조정      0\n",
       "4   6483659  사이몬페그의 익살스런 연기가 돋보였던 영화!스파이더맨에서 늙어보이기만 했던 커스틴 ...      1"
      ]
     },
     "execution_count": 27,
     "metadata": {},
     "output_type": "execute_result"
    }
   ],
   "source": [
    "nsmc.head()"
   ]
  },
  {
   "cell_type": "markdown",
   "metadata": {},
   "source": [
    "데이터가 많으므로 2000개만으로 실습을 진행한다."
   ]
  },
  {
   "cell_type": "code",
   "execution_count": 28,
   "metadata": {},
   "outputs": [],
   "source": [
    "nsmc = nsmc.loc[:1999]"
   ]
  },
  {
   "cell_type": "markdown",
   "metadata": {},
   "source": [
    "인터넷 글의 경우 맞춤법이나 띄어쓰기를 잘 지키지 않으므로 형태소 분석을 하기보다는 `sentencepiece`를 이용해서 자주 나오는 글자 조합으로 준단어 토큰화한다. 속도 면에서도 형태소 분석보다는 준단어 토큰화가 빠르다.\n",
    "\n",
    "`sentencepiece` 패키지가 설치되어 있지 않으면 먼저 설치해준다."
   ]
  },
  {
   "cell_type": "code",
   "execution_count": 29,
   "metadata": {},
   "outputs": [
    {
     "name": "stdout",
     "output_type": "stream",
     "text": [
      "Requirement already satisfied: sentencepiece in c:\\users\\hyoun\\anaconda3\\lib\\site-packages (0.1.83)\n"
     ]
    }
   ],
   "source": [
    "!pip install sentencepiece"
   ]
  },
  {
   "cell_type": "markdown",
   "metadata": {},
   "source": [
    "리뷰를 `nsmc.txt` 파일로 저장한다."
   ]
  },
  {
   "cell_type": "code",
   "execution_count": 30,
   "metadata": {},
   "outputs": [],
   "source": [
    "with open('nsmc.txt', 'w', encoding='utf8') as f:\n",
    "    f.write('\\n'.join(nsmc['document']))"
   ]
  },
  {
   "cell_type": "markdown",
   "metadata": {},
   "source": [
    "자주 나오는 글자 조합을 최대 2000개까지 찾는다."
   ]
  },
  {
   "cell_type": "code",
   "execution_count": 31,
   "metadata": {},
   "outputs": [
    {
     "data": {
      "text/plain": [
       "True"
      ]
     },
     "execution_count": 31,
     "metadata": {},
     "output_type": "execute_result"
    }
   ],
   "source": [
    "from sentencepiece import SentencePieceTrainer\n",
    "SentencePieceTrainer.Train('--input=nsmc.txt --model_prefix=nsmc --vocab_size=2000')"
   ]
  },
  {
   "cell_type": "markdown",
   "metadata": {},
   "source": [
    "찾은 결과를 불러온다."
   ]
  },
  {
   "cell_type": "code",
   "execution_count": 32,
   "metadata": {},
   "outputs": [
    {
     "data": {
      "text/plain": [
       "True"
      ]
     },
     "execution_count": 32,
     "metadata": {},
     "output_type": "execute_result"
    }
   ],
   "source": [
    "from sentencepiece import SentencePieceProcessor\n",
    "sp = SentencePieceProcessor()\n",
    "sp.Load(\"nsmc.model\")"
   ]
  },
  {
   "cell_type": "markdown",
   "metadata": {},
   "source": [
    "첫 번째 리뷰를 준단어 토큰화 해본다. `▁`는 띄어쓰기 된 부분을 나타낸다."
   ]
  },
  {
   "cell_type": "code",
   "execution_count": 33,
   "metadata": {},
   "outputs": [
    {
     "data": {
      "text/plain": [
       "['▁아', '▁더빙', '..', '▁진짜', '▁짜증나', '네요', '▁목소리']"
      ]
     },
     "execution_count": 33,
     "metadata": {},
     "output_type": "execute_result"
    }
   ],
   "source": [
    "sp.encode_as_pieces(nsmc.loc[0, 'document'])"
   ]
  },
  {
   "cell_type": "markdown",
   "metadata": {},
   "source": [
    "TDM을 만든다. `lowercase=False`로 설정하면 소문자로 변환을 하지 않는다."
   ]
  },
  {
   "cell_type": "code",
   "execution_count": 34,
   "metadata": {},
   "outputs": [],
   "source": [
    "cv = CountVectorizer(max_features=2000, lowercase=False, tokenizer=sp.encode_as_pieces)"
   ]
  },
  {
   "cell_type": "code",
   "execution_count": 35,
   "metadata": {},
   "outputs": [],
   "source": [
    "tdm = cv.fit_transform(nsmc['document'])"
   ]
  },
  {
   "cell_type": "markdown",
   "metadata": {},
   "source": [
    "학습용 데이터와 테스트용 데이터를 나눈다."
   ]
  },
  {
   "cell_type": "code",
   "execution_count": 36,
   "metadata": {},
   "outputs": [],
   "source": [
    "x_train = tdm[:1600]\n",
    "x_test = tdm[1600:]\n",
    "y_train = nsmc['label'][:1600]\n",
    "y_test = nsmc['label'][1600:]"
   ]
  },
  {
   "cell_type": "markdown",
   "metadata": {},
   "source": [
    "모형을 만들고 학습시킨다. 이 과정은 위와 같다."
   ]
  },
  {
   "cell_type": "code",
   "execution_count": 37,
   "metadata": {},
   "outputs": [],
   "source": [
    "model = tf.keras.models.Sequential()\n",
    "model.add(tf.keras.layers.Dense(1, input_shape=(2000,), activation='sigmoid'))"
   ]
  },
  {
   "cell_type": "code",
   "execution_count": 38,
   "metadata": {},
   "outputs": [],
   "source": [
    "model.compile(optimizer='adam', loss='binary_crossentropy', metrics=['accuracy'])"
   ]
  },
  {
   "cell_type": "code",
   "execution_count": 39,
   "metadata": {},
   "outputs": [
    {
     "name": "stdout",
     "output_type": "stream",
     "text": [
      "Epoch 1/10\n",
      "1600/1600 [==============================] - 0s 267us/sample - loss: 0.6905 - acc: 0.5288\n",
      "Epoch 2/10\n",
      "1600/1600 [==============================] - 0s 136us/sample - loss: 0.6602 - acc: 0.6712\n",
      "Epoch 3/10\n",
      "1600/1600 [==============================] - 0s 123us/sample - loss: 0.6347 - acc: 0.7606\n",
      "Epoch 4/10\n",
      "1600/1600 [==============================] - 0s 123us/sample - loss: 0.6117 - acc: 0.8056\n",
      "Epoch 5/10\n",
      "1600/1600 [==============================] - 0s 121us/sample - loss: 0.5909 - acc: 0.8356\n",
      "Epoch 6/10\n",
      "1600/1600 [==============================] - 0s 119us/sample - loss: 0.5720 - acc: 0.8575\n",
      "Epoch 7/10\n",
      "1600/1600 [==============================] - 0s 148us/sample - loss: 0.5545 - acc: 0.8725\n",
      "Epoch 8/10\n",
      "1600/1600 [==============================] - 0s 148us/sample - loss: 0.5386 - acc: 0.8813\n",
      "Epoch 9/10\n",
      "1600/1600 [==============================] - 0s 145us/sample - loss: 0.5241 - acc: 0.8800\n",
      "Epoch 10/10\n",
      "1600/1600 [==============================] - 0s 136us/sample - loss: 0.5101 - acc: 0.8850\n"
     ]
    },
    {
     "data": {
      "text/plain": [
       "<tensorflow.python.keras.callbacks.History at 0x25a84a59f60>"
      ]
     },
     "execution_count": 39,
     "metadata": {},
     "output_type": "execute_result"
    }
   ],
   "source": [
    "model.fit(x_train, y_train, epochs=10)"
   ]
  },
  {
   "cell_type": "code",
   "execution_count": 40,
   "metadata": {},
   "outputs": [
    {
     "name": "stdout",
     "output_type": "stream",
     "text": [
      "400/400 [==============================] - 0s 293us/sample - loss: 0.5721 - acc: 0.7500\n"
     ]
    },
    {
     "data": {
      "text/plain": [
       "[0.5721164274215699, 0.75]"
      ]
     },
     "execution_count": 40,
     "metadata": {},
     "output_type": "execute_result"
    }
   ],
   "source": [
    "model.evaluate(x_test, y_test)"
   ]
  },
  {
   "cell_type": "code",
   "execution_count": 41,
   "metadata": {},
   "outputs": [],
   "source": [
    "weight, bias = model.trainable_weights"
   ]
  },
  {
   "cell_type": "code",
   "execution_count": 42,
   "metadata": {},
   "outputs": [
    {
     "name": "stderr",
     "output_type": "stream",
     "text": [
      "C:\\Users\\hyoun\\Anaconda3\\lib\\site-packages\\pandas\\core\\dtypes\\dtypes.py:458: FutureWarning: elementwise comparison failed; returning scalar instead, but in the future will perform elementwise comparison\n",
      "  if string == 'category':\n"
     ]
    }
   ],
   "source": [
    "word_weight = pd.DataFrame({\n",
    "    '단어': cv.get_feature_names(),\n",
    "    '가중치': weight.numpy().flat\n",
    "})"
   ]
  },
  {
   "cell_type": "code",
   "execution_count": 43,
   "metadata": {},
   "outputs": [
    {
     "data": {
      "text/html": [
       "<div>\n",
       "<style scoped>\n",
       "    .dataframe tbody tr th:only-of-type {\n",
       "        vertical-align: middle;\n",
       "    }\n",
       "\n",
       "    .dataframe tbody tr th {\n",
       "        vertical-align: top;\n",
       "    }\n",
       "\n",
       "    .dataframe thead th {\n",
       "        text-align: right;\n",
       "    }\n",
       "</style>\n",
       "<table border=\"1\" class=\"dataframe\">\n",
       "  <thead>\n",
       "    <tr style=\"text-align: right;\">\n",
       "      <th></th>\n",
       "      <th>단어</th>\n",
       "      <th>가중치</th>\n",
       "    </tr>\n",
       "  </thead>\n",
       "  <tbody>\n",
       "    <tr>\n",
       "      <th>525</th>\n",
       "      <td>▁재미없</td>\n",
       "      <td>-0.277594</td>\n",
       "    </tr>\n",
       "    <tr>\n",
       "      <th>248</th>\n",
       "      <td>▁돈</td>\n",
       "      <td>-0.243137</td>\n",
       "    </tr>\n",
       "    <tr>\n",
       "      <th>329</th>\n",
       "      <td>▁보지마</td>\n",
       "      <td>-0.229554</td>\n",
       "    </tr>\n",
       "    <tr>\n",
       "      <th>1608</th>\n",
       "      <td>전혀</td>\n",
       "      <td>-0.226512</td>\n",
       "    </tr>\n",
       "    <tr>\n",
       "      <th>593</th>\n",
       "      <td>▁최악의</td>\n",
       "      <td>-0.225748</td>\n",
       "    </tr>\n",
       "  </tbody>\n",
       "</table>\n",
       "</div>"
      ],
      "text/plain": [
       "        단어       가중치\n",
       "525   ▁재미없 -0.277594\n",
       "248     ▁돈 -0.243137\n",
       "329   ▁보지마 -0.229554\n",
       "1608    전혀 -0.226512\n",
       "593   ▁최악의 -0.225748"
      ]
     },
     "execution_count": 43,
     "metadata": {},
     "output_type": "execute_result"
    }
   ],
   "source": [
    "word_weight.sort_values('가중치').head()"
   ]
  },
  {
   "cell_type": "code",
   "execution_count": 44,
   "metadata": {},
   "outputs": [
    {
     "data": {
      "text/html": [
       "<div>\n",
       "<style scoped>\n",
       "    .dataframe tbody tr th:only-of-type {\n",
       "        vertical-align: middle;\n",
       "    }\n",
       "\n",
       "    .dataframe tbody tr th {\n",
       "        vertical-align: top;\n",
       "    }\n",
       "\n",
       "    .dataframe thead th {\n",
       "        text-align: right;\n",
       "    }\n",
       "</style>\n",
       "<table border=\"1\" class=\"dataframe\">\n",
       "  <thead>\n",
       "    <tr style=\"text-align: right;\">\n",
       "      <th></th>\n",
       "      <th>단어</th>\n",
       "      <th>가중치</th>\n",
       "    </tr>\n",
       "  </thead>\n",
       "  <tbody>\n",
       "    <tr>\n",
       "      <th>287</th>\n",
       "      <td>▁명작</td>\n",
       "      <td>0.232164</td>\n",
       "    </tr>\n",
       "    <tr>\n",
       "      <th>535</th>\n",
       "      <td>▁재밌었</td>\n",
       "      <td>0.237064</td>\n",
       "    </tr>\n",
       "    <tr>\n",
       "      <th>1434</th>\n",
       "      <td>어요</td>\n",
       "      <td>0.243410</td>\n",
       "    </tr>\n",
       "    <tr>\n",
       "      <th>154</th>\n",
       "      <td>▁ᄒᄒ</td>\n",
       "      <td>0.261225</td>\n",
       "    </tr>\n",
       "    <tr>\n",
       "      <th>592</th>\n",
       "      <td>▁최고의</td>\n",
       "      <td>0.306250</td>\n",
       "    </tr>\n",
       "  </tbody>\n",
       "</table>\n",
       "</div>"
      ],
      "text/plain": [
       "        단어       가중치\n",
       "287    ▁명작  0.232164\n",
       "535   ▁재밌었  0.237064\n",
       "1434    어요  0.243410\n",
       "154    ▁ᄒᄒ  0.261225\n",
       "592   ▁최고의  0.306250"
      ]
     },
     "execution_count": 44,
     "metadata": {},
     "output_type": "execute_result"
    }
   ],
   "source": [
    "word_weight.sort_values('가중치').tail()"
   ]
  },
  {
   "cell_type": "code",
   "execution_count": null,
   "metadata": {},
   "outputs": [],
   "source": []
  },
  {
   "cell_type": "code",
   "execution_count": null,
   "metadata": {},
   "outputs": [],
   "source": []
  }
 ],
 "metadata": {
  "kernelspec": {
   "display_name": "Python 3",
   "language": "python",
   "name": "python3"
  },
  "language_info": {
   "codemirror_mode": {
    "name": "ipython",
    "version": 3
   },
   "file_extension": ".py",
   "mimetype": "text/x-python",
   "name": "python",
   "nbconvert_exporter": "python",
   "pygments_lexer": "ipython3",
   "version": "3.7.4"
  }
 },
 "nbformat": 4,
 "nbformat_minor": 2
}
